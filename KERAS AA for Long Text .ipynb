{
 "cells": [
  {
   "cell_type": "code",
   "execution_count": 1,
   "metadata": {},
   "outputs": [],
   "source": [
    "# Import libraries\n",
    "\n",
    "import numpy as np\n",
    "import pandas as pd\n",
    "import matplotlib.pyplot as plt\n",
    "import seaborn as sns\n",
    "import warnings\n",
    "warnings.filterwarnings(\"ignore\")\n",
    "\n",
    "from sklearn.model_selection import train_test_split\n",
    "\n",
    "# Initialize min-max scaler\n",
    "from sklearn import preprocessing\n",
    "from sklearn.preprocessing import StandardScaler\n",
    "minMaxScaler = preprocessing.MinMaxScaler()\n",
    "\n",
    "# For VIF \n",
    "from statsmodels.stats.outliers_influence import variance_inflation_factor\n",
    "\n",
    "import statsmodels.api as sm\n",
    "from sklearn.metrics import precision_score, recall_score\n",
    "from sklearn.metrics import precision_recall_curve"
   ]
  },
  {
   "cell_type": "code",
   "execution_count": 2,
   "metadata": {},
   "outputs": [
    {
     "data": {
      "text/plain": [
       "<bound method NDFrame.head of                               author  \\\n",
       "0                         Carl Hulse   \n",
       "1      Benjamin Mueller and Al Baker   \n",
       "2                       Margalit Fox   \n",
       "3                   William McDonald   \n",
       "4                      Choe Sang-Hun   \n",
       "...                              ...   \n",
       "49995                 Robinson Meyer   \n",
       "49996                     Amy Zegart   \n",
       "49997                  Jeremy Venook   \n",
       "49998                    Emily DeRuy   \n",
       "49999                   Marina Koren   \n",
       "\n",
       "                                                 content  \n",
       "0      WASHINGTON  —   Congressional Republicans have...  \n",
       "1      After the bullet shells get counted, the blood...  \n",
       "2      When Walt Disney’s “Bambi” opened in 1942, cri...  \n",
       "3      Death may be the great equalizer, but it isn’t...  \n",
       "4      SEOUL, South Korea  —   North Korea’s leader, ...  \n",
       "...                                                  ...  \n",
       "49995  As chairman and CEO of ExxonMobil, Rex Tillers...  \n",
       "49996  I’ve spent nearly 20 years looking at intellig...  \n",
       "49997    Donald Trump will not be taking necessary st...  \n",
       "49998  Dozens of   colleges could be forced to close ...  \n",
       "49999  The force of gravity can be described using a ...  \n",
       "\n",
       "[50000 rows x 2 columns]>"
      ]
     },
     "execution_count": 2,
     "metadata": {},
     "output_type": "execute_result"
    }
   ],
   "source": [
    "longTextDB = pd.read_csv(r\"C:\\Users\\admin\\Desktop\\Datasets\\articles1.csv\", usecols=['author', 'content'])\n",
    "longTextDB.head"
   ]
  },
  {
   "cell_type": "code",
   "execution_count": 3,
   "metadata": {},
   "outputs": [
    {
     "data": {
      "text/plain": [
       "author  content\n",
       "False   False      43694\n",
       "True    False       6306\n",
       "dtype: int64"
      ]
     },
     "execution_count": 3,
     "metadata": {},
     "output_type": "execute_result"
    }
   ],
   "source": [
    "\n"
   ]
  },
  {
   "cell_type": "code",
   "execution_count": 4,
   "metadata": {},
   "outputs": [],
   "source": [
    "longTextDB=longTextDB[longTextDB['author'].notna()]"
   ]
  },
  {
   "cell_type": "markdown",
   "metadata": {},
   "source": [
    "### TOP 20 AUTHORS"
   ]
  },
  {
   "cell_type": "code",
   "execution_count": 5,
   "metadata": {},
   "outputs": [
    {
     "data": {
      "text/plain": [
       "author\n",
       "Breitbart News         1559\n",
       "Pam Key                1282\n",
       "Charlie Spiering        928\n",
       "Jerome Hudson           806\n",
       "John Hayward            747\n",
       "Daniel Nussbaum         735\n",
       "AWR Hawkins             720\n",
       "Ian Hanchett            647\n",
       "Joel B. Pollak          624\n",
       "Alex Swoyer             604\n",
       "Warner Todd Huston      545\n",
       "Jeff Poor               505\n",
       "Trent Baker             457\n",
       "Breitbart London        447\n",
       "Katherine Rodriguez     435\n",
       "Charlie Nash            421\n",
       "Ben Kew                 373\n",
       "Frances Martel          366\n",
       "Bob Price               340\n",
       "Dr. Susan Berry         333\n",
       "Name: content, dtype: int64"
      ]
     },
     "execution_count": 5,
     "metadata": {},
     "output_type": "execute_result"
    }
   ],
   "source": [
    "finalDF = longTextDB.groupby(['author'], sort=False)['content'].count().nlargest(n=20)\n",
    "finalDF"
   ]
  },
  {
   "cell_type": "code",
   "execution_count": 6,
   "metadata": {},
   "outputs": [
    {
     "data": {
      "text/plain": [
       "Index(['Breitbart News', 'Pam Key', 'Charlie Spiering', 'Jerome Hudson',\n",
       "       'John Hayward', 'Daniel Nussbaum', 'AWR Hawkins', 'Ian Hanchett',\n",
       "       'Joel B. Pollak', 'Alex Swoyer', 'Warner Todd Huston', 'Jeff Poor',\n",
       "       'Trent Baker', 'Breitbart London', 'Katherine Rodriguez',\n",
       "       'Charlie Nash', 'Ben Kew', 'Frances Martel', 'Bob Price',\n",
       "       'Dr. Susan Berry'],\n",
       "      dtype='object', name='author')"
      ]
     },
     "execution_count": 6,
     "metadata": {},
     "output_type": "execute_result"
    }
   ],
   "source": [
    "finalDF.index\n"
   ]
  },
  {
   "cell_type": "code",
   "execution_count": 5,
   "metadata": {},
   "outputs": [
    {
     "ename": "NameError",
     "evalue": "name 'mergedST' is not defined",
     "output_type": "error",
     "traceback": [
      "\u001b[1;31m---------------------------------------------------------------------------\u001b[0m",
      "\u001b[1;31mNameError\u001b[0m                                 Traceback (most recent call last)",
      "\u001b[1;32m<ipython-input-5-6eb0a6644fab>\u001b[0m in \u001b[0;36m<module>\u001b[1;34m\u001b[0m\n\u001b[0;32m      3\u001b[0m \u001b[1;31m# df.loc[df['column_name'].isin(some_values)]\u001b[0m\u001b[1;33m\u001b[0m\u001b[1;33m\u001b[0m\u001b[1;33m\u001b[0m\u001b[0m\n\u001b[0;32m      4\u001b[0m \u001b[1;33m\u001b[0m\u001b[0m\n\u001b[1;32m----> 5\u001b[1;33m \u001b[0mmergedST_20\u001b[0m \u001b[1;33m=\u001b[0m \u001b[0mmergedST\u001b[0m\u001b[1;33m.\u001b[0m\u001b[0mloc\u001b[0m\u001b[1;33m[\u001b[0m\u001b[0mmergedST\u001b[0m\u001b[1;33m[\u001b[0m\u001b[1;34m'name'\u001b[0m\u001b[1;33m]\u001b[0m\u001b[1;33m.\u001b[0m\u001b[0misin\u001b[0m\u001b[1;33m(\u001b[0m\u001b[0mfinalDF\u001b[0m\u001b[1;33m.\u001b[0m\u001b[0mindex\u001b[0m\u001b[1;33m)\u001b[0m\u001b[1;33m]\u001b[0m\u001b[1;33m\u001b[0m\u001b[1;33m\u001b[0m\u001b[0m\n\u001b[0m\u001b[0;32m      6\u001b[0m \u001b[0mmergedST_20\u001b[0m\u001b[1;33m.\u001b[0m\u001b[0mhead\u001b[0m\u001b[1;33m(\u001b[0m\u001b[1;36m10\u001b[0m\u001b[1;33m)\u001b[0m\u001b[1;33m\u001b[0m\u001b[1;33m\u001b[0m\u001b[0m\n",
      "\u001b[1;31mNameError\u001b[0m: name 'mergedST' is not defined"
     ]
    }
   ],
   "source": [
    "# Keep the rows in the DF pertaining to the names in finalDF.index\n",
    "\n",
    "# df.loc[df['column_name'].isin(some_values)]\n",
    "\n",
    "mergedST_20 = mergedST.loc[mergedST['name'].isin(finalDF.index)]\n",
    "mergedST_20.head(10)"
   ]
  },
  {
   "cell_type": "code",
   "execution_count": 32,
   "metadata": {},
   "outputs": [
    {
     "data": {
      "text/plain": [
       "Breitbart News         1559\n",
       "Pam Key                1282\n",
       "Charlie Spiering        928\n",
       "Jerome Hudson           806\n",
       "John Hayward            747\n",
       "Daniel Nussbaum         735\n",
       "AWR Hawkins             720\n",
       "Ian Hanchett            647\n",
       "Joel B. Pollak          624\n",
       "Alex Swoyer             604\n",
       "Warner Todd Huston      545\n",
       "Jeff Poor               505\n",
       "Trent Baker             457\n",
       "Breitbart London        447\n",
       "Katherine Rodriguez     435\n",
       "Charlie Nash            421\n",
       "Ben Kew                 373\n",
       "Frances Martel          366\n",
       "Bob Price               340\n",
       "Dr. Susan Berry         333\n",
       "Name: author, dtype: int64"
      ]
     },
     "execution_count": 32,
     "metadata": {},
     "output_type": "execute_result"
    }
   ],
   "source": [
    "top20 = longTextDB['author'].value_counts().nlargest(20)\n",
    "top20"
   ]
  },
  {
   "cell_type": "code",
   "execution_count": 38,
   "metadata": {},
   "outputs": [
    {
     "data": {
      "text/plain": [
       "Text(0, 0.5, 'content count')"
      ]
     },
     "execution_count": 38,
     "metadata": {},
     "output_type": "execute_result"
    },
    {
     "data": {
      "image/png": "[encoded data removed]",
      "text/plain": [
       "<Figure size 432x288 with 1 Axes>"
      ]
     },
     "metadata": {
      "needs_background": "light"
     },
     "output_type": "display_data"
    }
   ],
   "source": [
    "\n",
    "barChart = top20.plot.bar(title=\"Top20 Authors selected\")\n",
    "barChart.set_xlabel(\"authors\")\n",
    "barChart.set_ylabel(\"content count\")"
   ]
  },
  {
   "cell_type": "code",
   "execution_count": 36,
   "metadata": {},
   "outputs": [],
   "source": [
    "forReport = pd.read_csv(r\"C:\\Users\\admin\\Desktop\\Datasets\\articles1.csv\")"
   ]
  },
  {
   "cell_type": "code",
   "execution_count": 37,
   "metadata": {},
   "outputs": [
    {
     "data": {
      "text/html": [
       "<div>\n",
       "<style scoped>\n",
       "    .dataframe tbody tr th:only-of-type {\n",
       "        vertical-align: middle;\n",
       "    }\n",
       "\n",
       "    .dataframe tbody tr th {\n",
       "        vertical-align: top;\n",
       "    }\n",
       "\n",
       "    .dataframe thead th {\n",
       "        text-align: right;\n",
       "    }\n",
       "</style>\n",
       "<table border=\"1\" class=\"dataframe\">\n",
       "  <thead>\n",
       "    <tr style=\"text-align: right;\">\n",
       "      <th></th>\n",
       "      <th>Unnamed: 0</th>\n",
       "      <th>id</th>\n",
       "      <th>title</th>\n",
       "      <th>publication</th>\n",
       "      <th>author</th>\n",
       "      <th>date</th>\n",
       "      <th>year</th>\n",
       "      <th>month</th>\n",
       "      <th>url</th>\n",
       "      <th>content</th>\n",
       "    </tr>\n",
       "  </thead>\n",
       "  <tbody>\n",
       "    <tr>\n",
       "      <th>0</th>\n",
       "      <td>0</td>\n",
       "      <td>17283</td>\n",
       "      <td>House Republicans Fret About Winning Their Hea...</td>\n",
       "      <td>New York Times</td>\n",
       "      <td>Carl Hulse</td>\n",
       "      <td>2016-12-31</td>\n",
       "      <td>2016.0</td>\n",
       "      <td>12.0</td>\n",
       "      <td>NaN</td>\n",
       "      <td>WASHINGTON  —   Congressional Republicans have...</td>\n",
       "    </tr>\n",
       "    <tr>\n",
       "      <th>1</th>\n",
       "      <td>1</td>\n",
       "      <td>17284</td>\n",
       "      <td>Rift Between Officers and Residents as Killing...</td>\n",
       "      <td>New York Times</td>\n",
       "      <td>Benjamin Mueller and Al Baker</td>\n",
       "      <td>2017-06-19</td>\n",
       "      <td>2017.0</td>\n",
       "      <td>6.0</td>\n",
       "      <td>NaN</td>\n",
       "      <td>After the bullet shells get counted, the blood...</td>\n",
       "    </tr>\n",
       "    <tr>\n",
       "      <th>2</th>\n",
       "      <td>2</td>\n",
       "      <td>17285</td>\n",
       "      <td>Tyrus Wong, ‘Bambi’ Artist Thwarted by Racial ...</td>\n",
       "      <td>New York Times</td>\n",
       "      <td>Margalit Fox</td>\n",
       "      <td>2017-01-06</td>\n",
       "      <td>2017.0</td>\n",
       "      <td>1.0</td>\n",
       "      <td>NaN</td>\n",
       "      <td>When Walt Disney’s “Bambi” opened in 1942, cri...</td>\n",
       "    </tr>\n",
       "    <tr>\n",
       "      <th>3</th>\n",
       "      <td>3</td>\n",
       "      <td>17286</td>\n",
       "      <td>Among Deaths in 2016, a Heavy Toll in Pop Musi...</td>\n",
       "      <td>New York Times</td>\n",
       "      <td>William McDonald</td>\n",
       "      <td>2017-04-10</td>\n",
       "      <td>2017.0</td>\n",
       "      <td>4.0</td>\n",
       "      <td>NaN</td>\n",
       "      <td>Death may be the great equalizer, but it isn’t...</td>\n",
       "    </tr>\n",
       "    <tr>\n",
       "      <th>4</th>\n",
       "      <td>4</td>\n",
       "      <td>17287</td>\n",
       "      <td>Kim Jong-un Says North Korea Is Preparing to T...</td>\n",
       "      <td>New York Times</td>\n",
       "      <td>Choe Sang-Hun</td>\n",
       "      <td>2017-01-02</td>\n",
       "      <td>2017.0</td>\n",
       "      <td>1.0</td>\n",
       "      <td>NaN</td>\n",
       "      <td>SEOUL, South Korea  —   North Korea’s leader, ...</td>\n",
       "    </tr>\n",
       "  </tbody>\n",
       "</table>\n",
       "</div>"
      ],
      "text/plain": [
       "   Unnamed: 0     id                                              title  \\\n",
       "0           0  17283  House Republicans Fret About Winning Their Hea...   \n",
       "1           1  17284  Rift Between Officers and Residents as Killing...   \n",
       "2           2  17285  Tyrus Wong, ‘Bambi’ Artist Thwarted by Racial ...   \n",
       "3           3  17286  Among Deaths in 2016, a Heavy Toll in Pop Musi...   \n",
       "4           4  17287  Kim Jong-un Says North Korea Is Preparing to T...   \n",
       "\n",
       "      publication                         author        date    year  month  \\\n",
       "0  New York Times                     Carl Hulse  2016-12-31  2016.0   12.0   \n",
       "1  New York Times  Benjamin Mueller and Al Baker  2017-06-19  2017.0    6.0   \n",
       "2  New York Times                   Margalit Fox  2017-01-06  2017.0    1.0   \n",
       "3  New York Times               William McDonald  2017-04-10  2017.0    4.0   \n",
       "4  New York Times                  Choe Sang-Hun  2017-01-02  2017.0    1.0   \n",
       "\n",
       "   url                                            content  \n",
       "0  NaN  WASHINGTON  —   Congressional Republicans have...  \n",
       "1  NaN  After the bullet shells get counted, the blood...  \n",
       "2  NaN  When Walt Disney’s “Bambi” opened in 1942, cri...  \n",
       "3  NaN  Death may be the great equalizer, but it isn’t...  \n",
       "4  NaN  SEOUL, South Korea  —   North Korea’s leader, ...  "
      ]
     },
     "execution_count": 37,
     "metadata": {},
     "output_type": "execute_result"
    }
   ],
   "source": [
    "forReport.head(5)"
   ]
  },
  {
   "cell_type": "code",
   "execution_count": 40,
   "metadata": {},
   "outputs": [
    {
     "data": {
      "text/plain": [
       "(50000, 10)"
      ]
     },
     "execution_count": 40,
     "metadata": {},
     "output_type": "execute_result"
    }
   ],
   "source": [
    "forReport.shape"
   ]
  },
  {
   "cell_type": "code",
   "execution_count": 41,
   "metadata": {},
   "outputs": [
    {
     "data": {
      "text/html": [
       "<div>\n",
       "<style scoped>\n",
       "    .dataframe tbody tr th:only-of-type {\n",
       "        vertical-align: middle;\n",
       "    }\n",
       "\n",
       "    .dataframe tbody tr th {\n",
       "        vertical-align: top;\n",
       "    }\n",
       "\n",
       "    .dataframe thead th {\n",
       "        text-align: right;\n",
       "    }\n",
       "</style>\n",
       "<table border=\"1\" class=\"dataframe\">\n",
       "  <thead>\n",
       "    <tr style=\"text-align: right;\">\n",
       "      <th></th>\n",
       "      <th>Unnamed: 0</th>\n",
       "      <th>id</th>\n",
       "      <th>year</th>\n",
       "      <th>month</th>\n",
       "      <th>url</th>\n",
       "    </tr>\n",
       "  </thead>\n",
       "  <tbody>\n",
       "    <tr>\n",
       "      <th>count</th>\n",
       "      <td>50000.000000</td>\n",
       "      <td>50000.000000</td>\n",
       "      <td>50000.000000</td>\n",
       "      <td>50000.000000</td>\n",
       "      <td>0.0</td>\n",
       "    </tr>\n",
       "    <tr>\n",
       "      <th>mean</th>\n",
       "      <td>25694.378380</td>\n",
       "      <td>44432.454800</td>\n",
       "      <td>2016.273700</td>\n",
       "      <td>5.508940</td>\n",
       "      <td>NaN</td>\n",
       "    </tr>\n",
       "    <tr>\n",
       "      <th>std</th>\n",
       "      <td>15350.143677</td>\n",
       "      <td>15773.615179</td>\n",
       "      <td>0.634694</td>\n",
       "      <td>3.333062</td>\n",
       "      <td>NaN</td>\n",
       "    </tr>\n",
       "    <tr>\n",
       "      <th>min</th>\n",
       "      <td>0.000000</td>\n",
       "      <td>17283.000000</td>\n",
       "      <td>2011.000000</td>\n",
       "      <td>1.000000</td>\n",
       "      <td>NaN</td>\n",
       "    </tr>\n",
       "    <tr>\n",
       "      <th>25%</th>\n",
       "      <td>12500.750000</td>\n",
       "      <td>31236.750000</td>\n",
       "      <td>2016.000000</td>\n",
       "      <td>3.000000</td>\n",
       "      <td>NaN</td>\n",
       "    </tr>\n",
       "    <tr>\n",
       "      <th>50%</th>\n",
       "      <td>25004.500000</td>\n",
       "      <td>43757.500000</td>\n",
       "      <td>2016.000000</td>\n",
       "      <td>5.000000</td>\n",
       "      <td>NaN</td>\n",
       "    </tr>\n",
       "    <tr>\n",
       "      <th>75%</th>\n",
       "      <td>38630.250000</td>\n",
       "      <td>57479.250000</td>\n",
       "      <td>2017.000000</td>\n",
       "      <td>8.000000</td>\n",
       "      <td>NaN</td>\n",
       "    </tr>\n",
       "    <tr>\n",
       "      <th>max</th>\n",
       "      <td>53291.000000</td>\n",
       "      <td>73469.000000</td>\n",
       "      <td>2017.000000</td>\n",
       "      <td>12.000000</td>\n",
       "      <td>NaN</td>\n",
       "    </tr>\n",
       "  </tbody>\n",
       "</table>\n",
       "</div>"
      ],
      "text/plain": [
       "         Unnamed: 0            id          year         month  url\n",
       "count  50000.000000  50000.000000  50000.000000  50000.000000  0.0\n",
       "mean   25694.378380  44432.454800   2016.273700      5.508940  NaN\n",
       "std    15350.143677  15773.615179      0.634694      3.333062  NaN\n",
       "min        0.000000  17283.000000   2011.000000      1.000000  NaN\n",
       "25%    12500.750000  31236.750000   2016.000000      3.000000  NaN\n",
       "50%    25004.500000  43757.500000   2016.000000      5.000000  NaN\n",
       "75%    38630.250000  57479.250000   2017.000000      8.000000  NaN\n",
       "max    53291.000000  73469.000000   2017.000000     12.000000  NaN"
      ]
     },
     "execution_count": 41,
     "metadata": {},
     "output_type": "execute_result"
    }
   ],
   "source": [
    "forReport.describe()"
   ]
  },
  {
   "cell_type": "code",
   "execution_count": 10,
   "metadata": {},
   "outputs": [],
   "source": [
    "top5 = longTextDB['author'].value_counts().nlargest(5)"
   ]
  },
  {
   "cell_type": "markdown",
   "metadata": {},
   "source": [
    "### Keras "
   ]
  },
  {
   "cell_type": "code",
   "execution_count": 42,
   "metadata": {},
   "outputs": [],
   "source": [
    "# Load Keras models and layers\n",
    "\n",
    "from numpy import loadtxt\n",
    "from tensorflow import keras\n",
    "from keras.models import Sequential\n",
    "from keras.layers import Dense, Dropout, Activation\n",
    "from keras.preprocessing.text import Tokenizer\n",
    "import tensorflow as tf"
   ]
  },
  {
   "cell_type": "markdown",
   "metadata": {},
   "source": [
    "#### Test Train Split"
   ]
  },
  {
   "cell_type": "code",
   "execution_count": 43,
   "metadata": {},
   "outputs": [
    {
     "name": "stdout",
     "output_type": "stream",
     "text": [
      "(43694, 1)\n",
      "(43694,)\n"
     ]
    }
   ],
   "source": [
    "# Slice the text length to 500\n",
    "\n",
    "X = longTextDB.iloc[:,0:1]\n",
    "y = longTextDB.iloc[:,1]\n",
    "\n",
    "print(X.shape)\n",
    "print(y.shape)"
   ]
  },
  {
   "cell_type": "code",
   "execution_count": 44,
   "metadata": {},
   "outputs": [
    {
     "data": {
      "text/plain": [
       "<bound method NDFrame.head of                               author\n",
       "0                         Carl Hulse\n",
       "1      Benjamin Mueller and Al Baker\n",
       "2                       Margalit Fox\n",
       "3                   William McDonald\n",
       "4                      Choe Sang-Hun\n",
       "...                              ...\n",
       "49995                 Robinson Meyer\n",
       "49996                     Amy Zegart\n",
       "49997                  Jeremy Venook\n",
       "49998                    Emily DeRuy\n",
       "49999                   Marina Koren\n",
       "\n",
       "[43694 rows x 1 columns]>"
      ]
     },
     "execution_count": 44,
     "metadata": {},
     "output_type": "execute_result"
    }
   ],
   "source": [
    "X.head"
   ]
  },
  {
   "cell_type": "code",
   "execution_count": 45,
   "metadata": {},
   "outputs": [],
   "source": [
    "X_train, X_test,y_train, y_test = train_test_split(X, y, test_size=0.20, random_state=1)"
   ]
  },
  {
   "cell_type": "code",
   "execution_count": 46,
   "metadata": {},
   "outputs": [
    {
     "name": "stdout",
     "output_type": "stream",
     "text": [
      "(34955, 1)\n",
      "(34955,)\n",
      "(8739, 1)\n",
      "(8739,)\n"
     ]
    }
   ],
   "source": [
    "print(X_train.shape)\n",
    "print(y_train.shape)\n",
    "print(X_test.shape)\n",
    "print(y_test.shape)"
   ]
  },
  {
   "cell_type": "code",
   "execution_count": 47,
   "metadata": {},
   "outputs": [
    {
     "data": {
      "text/plain": [
       "array(['Jordan Schachtel', 'Ian Hanchett', 'John Blake', ...,\n",
       "       'Reed Abelson', 'Joel B. Pollak', 'James Griffiths'], dtype=object)"
      ]
     },
     "execution_count": 47,
     "metadata": {},
     "output_type": "execute_result"
    }
   ],
   "source": [
    "X_train.author.values"
   ]
  },
  {
   "cell_type": "code",
   "execution_count": 48,
   "metadata": {},
   "outputs": [
    {
     "name": "stdout",
     "output_type": "stream",
     "text": [
      "************** (1, 34955)\n"
     ]
    }
   ],
   "source": [
    "# Tokenization of words\n",
    "\n",
    "from keras.preprocessing.text import hashing_trick\n",
    "from keras.preprocessing.text import text_to_word_sequence\n",
    "\n",
    "vocSizeList = []\n",
    "hashList=[]\n",
    "\n",
    "for line in X_train.author: \n",
    "    seq_words = set(text_to_word_sequence(line))   \n",
    "    vocab_size = len(seq_words)\n",
    "    vocSizeList.append(vocab_size) \n",
    "    result = hashing_trick(line, round(vocab_size*2), hash_function='md5')\n",
    "    hashList.append(result)\n",
    "\n",
    "test_string_new = hashList\n",
    "test_string_new\n",
    "\n",
    "for elem in test_string_new:\n",
    "    #print(elem)\n",
    "    elem = str(elem)\n",
    "    #print(type(elem))\n",
    "\n",
    "X_train_new = pd.DataFrame([hashList])\n",
    "X_train_new\n",
    "\n",
    "print(\"**************\", X_train_new.shape)"
   ]
  },
  {
   "cell_type": "markdown",
   "metadata": {},
   "source": [
    "####  Steps to tokenize the text\n",
    "#### 1) For each author in top20, top10 and top5, create a list of words called document ==> docs20, docs10, docs5\n",
    "#### 2) For each of these, do a fit_on_texts with the tokenizer initialized.\n",
    "#### 3) Keras provides 4 attributes :  (i) word_counts (ii) word_docs (iii) word_index (iv) document_count"
   ]
  },
  {
   "cell_type": "code",
   "execution_count": 49,
   "metadata": {},
   "outputs": [],
   "source": [
    "from keras.preprocessing.text import Tokenizer\n",
    "t = Tokenizer()"
   ]
  },
  {
   "cell_type": "code",
   "execution_count": 50,
   "metadata": {},
   "outputs": [],
   "source": [
    "from keras.preprocessing.text import text_to_word_sequence"
   ]
  },
  {
   "cell_type": "code",
   "execution_count": 51,
   "metadata": {},
   "outputs": [
    {
     "name": "stdout",
     "output_type": "stream",
     "text": [
      "************** (1, 8739)\n"
     ]
    }
   ],
   "source": [
    "# Repeat the same for y_test\n",
    "\n",
    "vocSizeListTest = []\n",
    "hashListTest=[]\n",
    "\n",
    "for line in X_test.author: \n",
    "    #print(line)\n",
    "    seq_words_test = set(text_to_word_sequence(line))   \n",
    "    vocab_size_test = len(seq_words_test)\n",
    "    vocSizeListTest.append(vocab_size_test)\n",
    " \n",
    "    result_X_test = hashing_trick(line, round(vocab_size*2), hash_function='md5')\n",
    "    hashListTest.append(result_X_test)\n",
    "\n",
    "#hashListTest\n",
    "\n",
    "test_string_new = hashListTest\n",
    "test_string_new\n",
    "\n",
    "for elem in test_string_new:\n",
    "    #print(elem)\n",
    "    elem = str(elem)\n",
    "    #print(type(elem))\n",
    "\n",
    "X_test_new = pd.DataFrame([hashListTest])\n",
    "X_test_new\n",
    "\n",
    "print(\"**************\", X_test_new.shape)"
   ]
  },
  {
   "cell_type": "code",
   "execution_count": 52,
   "metadata": {},
   "outputs": [],
   "source": [
    "X_train_trans = X_train_new.transpose()\n",
    "X_test_trans = X_test_new.transpose()\n",
    "\n",
    "\n",
    "X_train_new = X_train_trans\n",
    "X_test_new = X_test_trans\n",
    "\n",
    "# print(X_train_new)\n",
    "# print(X_test_new)"
   ]
  },
  {
   "cell_type": "code",
   "execution_count": 53,
   "metadata": {},
   "outputs": [
    {
     "name": "stdout",
     "output_type": "stream",
     "text": [
      "************** (1, 34955)\n"
     ]
    }
   ],
   "source": [
    "# Repeat the same for X_test and X_train\n",
    "\n",
    "vocSizeListy_train = []\n",
    "hashListy_train=[]\n",
    "\n",
    "for line in y_train: \n",
    "    #print(line)\n",
    "    seq_words_ytrain = set(text_to_word_sequence(line))   \n",
    "    vocab_size_ytrain = len(seq_words_ytrain)\n",
    "    vocSizeListy_train.append(vocab_size_ytrain)\n",
    " \n",
    "    result_y_train = hashing_trick(line, round(vocab_size*2), hash_function='md5')\n",
    "    hashListy_train.append(result_y_train)\n",
    "\n",
    "#hashListX_train\n",
    "\n",
    "# ************************************************************\n",
    "# ************************************************************\n",
    "\n",
    "test_string_new = hashListy_train\n",
    "test_string_new\n",
    "\n",
    "for elem in test_string_new:\n",
    "    #print(elem)\n",
    "    elem = str(elem)\n",
    "    #print(type(elem))\n",
    "\n",
    "y_train_new = pd.DataFrame([hashListy_train])\n",
    "y_train_new\n",
    "\n",
    "print(\"**************\", y_train_new.shape)"
   ]
  },
  {
   "cell_type": "code",
   "execution_count": 54,
   "metadata": {},
   "outputs": [
    {
     "data": {
      "text/plain": [
       "(1, 8739)"
      ]
     },
     "execution_count": 54,
     "metadata": {},
     "output_type": "execute_result"
    }
   ],
   "source": [
    "vocSizeListy_test = []\n",
    "hashListy_test=[]\n",
    "\n",
    "for line in y_test: \n",
    "    #print(line)\n",
    "    seq_words_ytest = set(text_to_word_sequence(line))   \n",
    "    vocab_size_ytest = len(seq_words_ytest)\n",
    "    vocSizeListy_test.append(vocab_size_ytest)\n",
    " \n",
    "    result_y_test = hashing_trick(line, round(vocab_size*2), hash_function='md5')\n",
    "    hashListy_test.append(result_y_test)\n",
    "\n",
    "hashListy_test\n",
    "\n",
    "# ************************************************************\n",
    "# ************************************************************\n",
    "\n",
    "test_string_new = hashListy_test\n",
    "test_string_new\n",
    "\n",
    "for elem in test_string_new:\n",
    "    #print(elem)\n",
    "    elem = str(elem)\n",
    "    #print(type(elem))\n",
    "\n",
    "y_test_new = pd.DataFrame([hashListy_test])\n",
    "y_test_new.shape"
   ]
  },
  {
   "cell_type": "code",
   "execution_count": 55,
   "metadata": {},
   "outputs": [],
   "source": [
    "y_train_trans=y_train_new.transpose()\n",
    "\n",
    "y_test_trans=y_test_new.transpose()\n",
    "\n",
    "y_train_new = y_train_trans\n",
    "y_test_new = y_test_trans\n",
    " "
   ]
  },
  {
   "cell_type": "code",
   "execution_count": 56,
   "metadata": {},
   "outputs": [
    {
     "data": {
      "text/html": [
       "<div>\n",
       "<style scoped>\n",
       "    .dataframe tbody tr th:only-of-type {\n",
       "        vertical-align: middle;\n",
       "    }\n",
       "\n",
       "    .dataframe tbody tr th {\n",
       "        vertical-align: top;\n",
       "    }\n",
       "\n",
       "    .dataframe thead th {\n",
       "        text-align: right;\n",
       "    }\n",
       "</style>\n",
       "<table border=\"1\" class=\"dataframe\">\n",
       "  <thead>\n",
       "    <tr style=\"text-align: right;\">\n",
       "      <th></th>\n",
       "      <th>0</th>\n",
       "    </tr>\n",
       "  </thead>\n",
       "  <tbody>\n",
       "    <tr>\n",
       "      <th>0</th>\n",
       "      <td>[1, 2, 2, 3, 1, 1, 1, 1, 2, 1, 3, 2, 2, 1, 2, ...</td>\n",
       "    </tr>\n",
       "    <tr>\n",
       "      <th>1</th>\n",
       "      <td>[3, 2, 1, 1, 2, 3, 1, 3, 2, 2, 2, 2, 3, 1, 3, ...</td>\n",
       "    </tr>\n",
       "    <tr>\n",
       "      <th>2</th>\n",
       "      <td>[2, 2, 2, 2, 3, 3, 3, 2, 1, 2, 2, 1, 2, 3, 1, ...</td>\n",
       "    </tr>\n",
       "    <tr>\n",
       "      <th>3</th>\n",
       "      <td>[1, 3, 2, 3, 2, 1, 3, 3, 3, 2, 1, 1, 2, 1, 2, ...</td>\n",
       "    </tr>\n",
       "    <tr>\n",
       "      <th>4</th>\n",
       "      <td>[3, 3, 1, 2, 3, 1, 1, 3, 2, 3, 2, 2, 2, 3, 3, ...</td>\n",
       "    </tr>\n",
       "    <tr>\n",
       "      <th>...</th>\n",
       "      <td>...</td>\n",
       "    </tr>\n",
       "    <tr>\n",
       "      <th>34950</th>\n",
       "      <td>[2, 2, 1, 1, 3, 3, 2, 3, 1, 2, 1, 3, 1, 2, 3, ...</td>\n",
       "    </tr>\n",
       "    <tr>\n",
       "      <th>34951</th>\n",
       "      <td>[2, 2, 1, 3, 3, 2, 1, 2, 2, 3, 3, 1, 3, 2, 1, ...</td>\n",
       "    </tr>\n",
       "    <tr>\n",
       "      <th>34952</th>\n",
       "      <td>[3, 3, 3, 3, 3, 3, 1, 2, 2, 1, 2, 2, 1, 1, 3, ...</td>\n",
       "    </tr>\n",
       "    <tr>\n",
       "      <th>34953</th>\n",
       "      <td>[3, 3, 2, 2, 2, 1, 2, 2, 2, 2, 1, 2, 1, 3, 2, ...</td>\n",
       "    </tr>\n",
       "    <tr>\n",
       "      <th>34954</th>\n",
       "      <td>[2, 1, 3, 2, 1, 1, 1, 2, 3, 3, 1, 3, 3, 3, 1, ...</td>\n",
       "    </tr>\n",
       "  </tbody>\n",
       "</table>\n",
       "<p>34955 rows × 1 columns</p>\n",
       "</div>"
      ],
      "text/plain": [
       "                                                       0\n",
       "0      [1, 2, 2, 3, 1, 1, 1, 1, 2, 1, 3, 2, 2, 1, 2, ...\n",
       "1      [3, 2, 1, 1, 2, 3, 1, 3, 2, 2, 2, 2, 3, 1, 3, ...\n",
       "2      [2, 2, 2, 2, 3, 3, 3, 2, 1, 2, 2, 1, 2, 3, 1, ...\n",
       "3      [1, 3, 2, 3, 2, 1, 3, 3, 3, 2, 1, 1, 2, 1, 2, ...\n",
       "4      [3, 3, 1, 2, 3, 1, 1, 3, 2, 3, 2, 2, 2, 3, 3, ...\n",
       "...                                                  ...\n",
       "34950  [2, 2, 1, 1, 3, 3, 2, 3, 1, 2, 1, 3, 1, 2, 3, ...\n",
       "34951  [2, 2, 1, 3, 3, 2, 1, 2, 2, 3, 3, 1, 3, 2, 1, ...\n",
       "34952  [3, 3, 3, 3, 3, 3, 1, 2, 2, 1, 2, 2, 1, 1, 3, ...\n",
       "34953  [3, 3, 2, 2, 2, 1, 2, 2, 2, 2, 1, 2, 1, 3, 2, ...\n",
       "34954  [2, 1, 3, 2, 1, 1, 1, 2, 3, 3, 1, 3, 3, 3, 1, ...\n",
       "\n",
       "[34955 rows x 1 columns]"
      ]
     },
     "execution_count": 56,
     "metadata": {},
     "output_type": "execute_result"
    }
   ],
   "source": [
    "y_train_new"
   ]
  },
  {
   "cell_type": "code",
   "execution_count": 57,
   "metadata": {},
   "outputs": [
    {
     "data": {
      "text/html": [
       "<div>\n",
       "<style scoped>\n",
       "    .dataframe tbody tr th:only-of-type {\n",
       "        vertical-align: middle;\n",
       "    }\n",
       "\n",
       "    .dataframe tbody tr th {\n",
       "        vertical-align: top;\n",
       "    }\n",
       "\n",
       "    .dataframe thead th {\n",
       "        text-align: right;\n",
       "    }\n",
       "</style>\n",
       "<table border=\"1\" class=\"dataframe\">\n",
       "  <thead>\n",
       "    <tr style=\"text-align: right;\">\n",
       "      <th></th>\n",
       "      <th>0</th>\n",
       "    </tr>\n",
       "  </thead>\n",
       "  <tbody>\n",
       "    <tr>\n",
       "      <th>0</th>\n",
       "      <td>[2, 2, 2, 1, 1, 3, 3, 2, 3, 3, 3, 2, 2, 1, 2, ...</td>\n",
       "    </tr>\n",
       "    <tr>\n",
       "      <th>1</th>\n",
       "      <td>[2, 2, 2, 2, 2, 1, 1, 1, 1, 1, 3, 3, 3, 3, 3, ...</td>\n",
       "    </tr>\n",
       "    <tr>\n",
       "      <th>2</th>\n",
       "      <td>[2, 3, 2, 1, 1, 2, 3, 1, 3, 2, 1, 2, 2, 2, 1, ...</td>\n",
       "    </tr>\n",
       "    <tr>\n",
       "      <th>3</th>\n",
       "      <td>[2, 2, 1, 1, 2, 3, 2, 1, 1, 2, 2, 2, 2, 2, 1, ...</td>\n",
       "    </tr>\n",
       "    <tr>\n",
       "      <th>4</th>\n",
       "      <td>[1, 1, 3, 3, 3, 1, 2, 3, 1, 1, 1, 2, 2, 1, 3, ...</td>\n",
       "    </tr>\n",
       "    <tr>\n",
       "      <th>...</th>\n",
       "      <td>...</td>\n",
       "    </tr>\n",
       "    <tr>\n",
       "      <th>8734</th>\n",
       "      <td>[2, 2, 1, 2, 2, 1, 2, 3, 3, 2, 3, 3, 2, 1, 2, ...</td>\n",
       "    </tr>\n",
       "    <tr>\n",
       "      <th>8735</th>\n",
       "      <td>[3, 3, 2, 1, 3, 2, 2, 1, 1, 2, 3, 2, 2, 2, 3, ...</td>\n",
       "    </tr>\n",
       "    <tr>\n",
       "      <th>8736</th>\n",
       "      <td>[2, 2, 3, 3, 2, 2, 3, 3, 3, 2, 1, 2, 2, 3, 3, ...</td>\n",
       "    </tr>\n",
       "    <tr>\n",
       "      <th>8737</th>\n",
       "      <td>[2, 3, 3, 3, 1, 2, 2, 2, 3, 1, 3, 2, 3, 3, 1, ...</td>\n",
       "    </tr>\n",
       "    <tr>\n",
       "      <th>8738</th>\n",
       "      <td>[1, 3, 3, 3, 2, 1, 2, 2, 1, 2, 3, 2, 1, 2, 2, ...</td>\n",
       "    </tr>\n",
       "  </tbody>\n",
       "</table>\n",
       "<p>8739 rows × 1 columns</p>\n",
       "</div>"
      ],
      "text/plain": [
       "                                                      0\n",
       "0     [2, 2, 2, 1, 1, 3, 3, 2, 3, 3, 3, 2, 2, 1, 2, ...\n",
       "1     [2, 2, 2, 2, 2, 1, 1, 1, 1, 1, 3, 3, 3, 3, 3, ...\n",
       "2     [2, 3, 2, 1, 1, 2, 3, 1, 3, 2, 1, 2, 2, 2, 1, ...\n",
       "3     [2, 2, 1, 1, 2, 3, 2, 1, 1, 2, 2, 2, 2, 2, 1, ...\n",
       "4     [1, 1, 3, 3, 3, 1, 2, 3, 1, 1, 1, 2, 2, 1, 3, ...\n",
       "...                                                 ...\n",
       "8734  [2, 2, 1, 2, 2, 1, 2, 3, 3, 2, 3, 3, 2, 1, 2, ...\n",
       "8735  [3, 3, 2, 1, 3, 2, 2, 1, 1, 2, 3, 2, 2, 2, 3, ...\n",
       "8736  [2, 2, 3, 3, 2, 2, 3, 3, 3, 2, 1, 2, 2, 3, 3, ...\n",
       "8737  [2, 3, 3, 3, 1, 2, 2, 2, 3, 1, 3, 2, 3, 3, 1, ...\n",
       "8738  [1, 3, 3, 3, 2, 1, 2, 2, 1, 2, 3, 2, 1, 2, 2, ...\n",
       "\n",
       "[8739 rows x 1 columns]"
      ]
     },
     "execution_count": 57,
     "metadata": {},
     "output_type": "execute_result"
    }
   ],
   "source": [
    "y_test_new"
   ]
  },
  {
   "cell_type": "code",
   "execution_count": 58,
   "metadata": {},
   "outputs": [
    {
     "data": {
      "text/plain": [
       "2"
      ]
     },
     "execution_count": 58,
     "metadata": {},
     "output_type": "execute_result"
    }
   ],
   "source": [
    "X_test_new[0][0][0]"
   ]
  },
  {
   "cell_type": "code",
   "execution_count": 59,
   "metadata": {},
   "outputs": [
    {
     "name": "stdout",
     "output_type": "stream",
     "text": [
      "************ int32\n",
      "************ int32\n"
     ]
    }
   ],
   "source": [
    "blank1=[]\n",
    "\n",
    "for i in range(0,len(X_train_new)):\n",
    "    for j in range(0, len(X_train_new[0][i])):\n",
    "        x_train_arr = X_train_new[0][i][j]\n",
    "        blank1.append(x_train_arr)\n",
    "\n",
    "#print(blank1)\n",
    "\n",
    "xTrain_arr = np.asarray(blank1)\n",
    "# print(\"************\", xTrain_arr.dtype)\n",
    "\n",
    "# # # # *****************************\n",
    "\n",
    "blank2=[]\n",
    "\n",
    "for j in range(0,len(y_train_new)):\n",
    "    for k in range(0, len(y_train_new[0][j])):\n",
    "        y_train_arr = y_train_new[0][j][k]\n",
    "        blank2.append(y_train_arr)\n",
    "\n",
    "yTrain_arr = np.asarray(blank2)\n",
    "# print(\"************\", yTrain_arr.dtype)\n",
    "\n",
    "# *****************************\n",
    "        \n",
    "blank3=[]\n",
    "\n",
    "for i in range(0,len(X_test_new)):\n",
    "    for j in range(0, len(X_train_new[0][i])):\n",
    "        x_test_arr = X_test_new[0][i][0]\n",
    "        blank3.append(x_test_arr)\n",
    "\n",
    "x_test_arr = np.asarray(blank3)\n",
    "print(\"************\", x_test_arr.dtype)\n",
    "\n",
    "# # # *****************************\n",
    "\n",
    "blank4=[]\n",
    "\n",
    "for j in range(0,len(y_test_new)):\n",
    "    for k in range(0, len(y_test_new[0][j])):\n",
    "        y_test_arr = y_test_new[0][j][k]\n",
    "        blank4.append(y_test_arr)\n",
    "        \n",
    "y_test_arr = np.asarray(blank4) \n",
    "print(\"************\", y_test_arr.dtype)\n",
    "\n",
    "# # # ************************"
   ]
  },
  {
   "cell_type": "code",
   "execution_count": 60,
   "metadata": {},
   "outputs": [
    {
     "data": {
      "text/plain": [
       "array([1, 2, 3, ..., 2, 2, 2])"
      ]
     },
     "execution_count": 60,
     "metadata": {},
     "output_type": "execute_result"
    }
   ],
   "source": [
    "#yTrain_arr = np.array(blank2)\n",
    "xTrain_arr"
   ]
  },
  {
   "cell_type": "code",
   "execution_count": 61,
   "metadata": {},
   "outputs": [
    {
     "name": "stdout",
     "output_type": "stream",
     "text": [
      "(80535,)\n",
      "(22738636,)\n",
      "(20049,)\n",
      "(5709946,)\n"
     ]
    }
   ],
   "source": [
    "# Check the shape of all test and train dfs\n",
    "\n",
    "print(xTrain_arr.shape)\n",
    "print(yTrain_arr.shape)\n",
    "print(x_test_arr.shape)\n",
    "print(y_test_arr.shape)"
   ]
  },
  {
   "cell_type": "code",
   "execution_count": 62,
   "metadata": {},
   "outputs": [],
   "source": [
    "\"\"\"\n",
    "x sizes: 2649\n",
    "y sizes: 213945\n",
    "\"\"\"\n",
    "y_train_arr_trunc = yTrain_arr[:80535]\n",
    "y_test_arr_trunc = y_test_arr[:20049]\n",
    "#x_test_arr_trunc = x_test_arr[:8739]"
   ]
  },
  {
   "cell_type": "code",
   "execution_count": 63,
   "metadata": {},
   "outputs": [
    {
     "name": "stdout",
     "output_type": "stream",
     "text": [
      "(20049,)\n"
     ]
    }
   ],
   "source": [
    "print(y_test_arr_trunc.shape)"
   ]
  },
  {
   "cell_type": "code",
   "execution_count": 64,
   "metadata": {},
   "outputs": [
    {
     "name": "stdout",
     "output_type": "stream",
     "text": [
      "Model: \"sequential\"\n",
      "_________________________________________________________________\n",
      " Layer (type)                Output Shape              Param #   \n",
      "=================================================================\n",
      " dense (Dense)               (None, 4)                 8         \n",
      "                                                                 \n",
      " dense_1 (Dense)             (None, 8)                 40        \n",
      "                                                                 \n",
      " dense_2 (Dense)             (None, 1)                 9         \n",
      "                                                                 \n",
      "=================================================================\n",
      "Total params: 57\n",
      "Trainable params: 57\n",
      "Non-trainable params: 0\n",
      "_________________________________________________________________\n",
      "(None, 1) <dtype: 'float32'>\n",
      "(None, 1) <dtype: 'float32'>\n",
      "dense (None, 1) float32\n",
      "dense_1 (None, 4) float32\n",
      "dense_2 (None, 8) float32\n"
     ]
    },
    {
     "data": {
      "text/plain": [
       "[None, None, None]"
      ]
     },
     "execution_count": 64,
     "metadata": {},
     "output_type": "execute_result"
    }
   ],
   "source": [
    "# Define the model\n",
    "\n",
    "model = Sequential()\n",
    "from keras.layers import Input\n",
    "\n",
    "model.add(Dense(units=4, input_dim=1, activation='relu'))\n",
    "model.add(Dense(8, activation='relu'))\n",
    "model.add(Dense(1, activation='softmax'))\n",
    "\n",
    "model.summary()\n",
    "\n",
    "[print(i.shape, i.dtype) for i in model.inputs]\n",
    "[print(o.shape, o.dtype) for o in model.outputs]\n",
    "[print(l.name, l.input_shape, l.dtype) for l in model.layers]"
   ]
  },
  {
   "cell_type": "code",
   "execution_count": 65,
   "metadata": {},
   "outputs": [],
   "source": [
    "#model.compile(loss='mean_squared_error', optimizer='adam')\n",
    "model.compile(loss='binary_crossentropy', optimizer='adam', metrics=['binary_accuracy'])"
   ]
  },
  {
   "cell_type": "code",
   "execution_count": 66,
   "metadata": {},
   "outputs": [
    {
     "name": "stdout",
     "output_type": "stream",
     "text": [
      "Epoch 1/5\n",
      "8054/8054 [==============================] - 428s 3ms/step - loss: -14402.6582 - binary_accuracy: 0.2698 - val_loss: -40190.6094 - val_binary_accuracy: 0.2671\n",
      "Epoch 2/5\n",
      "8054/8054 [==============================] - 19s 2ms/step - loss: -143789.3906 - binary_accuracy: 0.2698 - val_loss: -224150.5312 - val_binary_accuracy: 0.2671\n",
      "Epoch 3/5\n",
      "8054/8054 [==============================] - 18s 2ms/step - loss: -502699.0625 - binary_accuracy: 0.2698 - val_loss: -636016.6875 - val_binary_accuracy: 0.2671\n",
      "Epoch 4/5\n",
      "8054/8054 [==============================] - 22s 3ms/step - loss: -1191057.2500 - binary_accuracy: 0.2698 - val_loss: -1355029.1250 - val_binary_accuracy: 0.2671\n",
      "Epoch 5/5\n",
      "8054/8054 [==============================] - 24s 3ms/step - loss: -2305888.7500 - binary_accuracy: 0.2698 - val_loss: -2461075.7500 - val_binary_accuracy: 0.2671\n"
     ]
    },
    {
     "data": {
      "text/plain": [
       "<keras.callbacks.History at 0x1aec2e75688>"
      ]
     },
     "execution_count": 66,
     "metadata": {},
     "output_type": "execute_result"
    }
   ],
   "source": [
    "# Output layer: SELU activation function\n",
    "\n",
    "#tf.config.run_functions_eagerly(True)\n",
    "model.fit(xTrain_arr, y_train_arr_trunc, validation_data=(x_test_arr, y_test_arr_trunc),batch_size=10,epochs=5)"
   ]
  },
  {
   "cell_type": "code",
   "execution_count": 68,
   "metadata": {},
   "outputs": [
    {
     "data": {
      "image/png": "[encoded data removed]",
      "text/plain": [
       "<IPython.core.display.Image object>"
      ]
     },
     "execution_count": 68,
     "metadata": {},
     "output_type": "execute_result"
    }
   ],
   "source": [
    "from keras.utils.vis_utils import plot_model\n",
    "plot_model(model, to_file='model_plot.png', show_shapes=True, show_layer_names=True)"
   ]
  },
  {
   "cell_type": "code",
   "execution_count": 182,
   "metadata": {},
   "outputs": [
    {
     "name": "stdout",
     "output_type": "stream",
     "text": [
      "Accuracy: 26.98\n"
     ]
    }
   ],
   "source": [
    "# Evaluate the model\n",
    "\n",
    "_, accuracy = model.evaluate(xTrain_arr, y_train_arr_trunc, verbose=0)\n",
    "print('Accuracy: %.2f' % (accuracy*100))"
   ]
  },
  {
   "cell_type": "markdown",
   "metadata": {},
   "source": [
    "### Run 2 : categorical accuracy, epochs = 5, batch_size=100"
   ]
  },
  {
   "cell_type": "code",
   "execution_count": 184,
   "metadata": {},
   "outputs": [],
   "source": [
    "# ReLu, Softmax"
   ]
  },
  {
   "cell_type": "code",
   "execution_count": 185,
   "metadata": {},
   "outputs": [],
   "source": [
    "model.compile(loss='binary_crossentropy', optimizer='adam', metrics=['categorical_accuracy'])"
   ]
  },
  {
   "cell_type": "code",
   "execution_count": 186,
   "metadata": {},
   "outputs": [
    {
     "name": "stdout",
     "output_type": "stream",
     "text": [
      "Epoch 1/5\n",
      "806/806 [==============================] - 33s 41ms/step - loss: -695080.0625 - categorical_accuracy: 1.0000 - val_loss: -580326.0000 - val_categorical_accuracy: 1.0000\n",
      "Epoch 2/5\n",
      "806/806 [==============================] - 28s 35ms/step - loss: -733719.1250 - categorical_accuracy: 1.0000 - val_loss: -612491.8750 - val_categorical_accuracy: 1.0000\n",
      "Epoch 3/5\n",
      "806/806 [==============================] - 29s 36ms/step - loss: -774256.0000 - categorical_accuracy: 1.0000 - val_loss: -646116.3750 - val_categorical_accuracy: 1.0000\n",
      "Epoch 4/5\n",
      "806/806 [==============================] - 28s 35ms/step - loss: -816521.0000 - categorical_accuracy: 1.0000 - val_loss: -681120.5625 - val_categorical_accuracy: 1.0000\n",
      "Epoch 5/5\n",
      "806/806 [==============================] - 26s 32ms/step - loss: -860533.8125 - categorical_accuracy: 1.0000 - val_loss: -717533.2500 - val_categorical_accuracy: 1.0000\n"
     ]
    },
    {
     "data": {
      "text/plain": [
       "<keras.callbacks.History at 0x298db6023c8>"
      ]
     },
     "execution_count": 186,
     "metadata": {},
     "output_type": "execute_result"
    }
   ],
   "source": [
    "tf.config.run_functions_eagerly(True)\n",
    "model.fit(xTrain_arr, y_train_arr_trunc, validation_data=(x_test_arr, y_test_arr_trunc),batch_size=100,epochs=5)"
   ]
  },
  {
   "cell_type": "markdown",
   "metadata": {},
   "source": [
    "### Run 3 : binary accuracy, epochs = 10, batch_size=100"
   ]
  },
  {
   "cell_type": "code",
   "execution_count": 187,
   "metadata": {},
   "outputs": [],
   "source": [
    "model.compile(loss='binary_crossentropy', optimizer='adam', metrics=['binary_accuracy'])"
   ]
  },
  {
   "cell_type": "code",
   "execution_count": 188,
   "metadata": {},
   "outputs": [
    {
     "name": "stdout",
     "output_type": "stream",
     "text": [
      "Epoch 1/10\n",
      "806/806 [==============================] - 31s 38ms/step - loss: -905301.8125 - binary_accuracy: 0.2698 - val_loss: -753944.0625 - val_binary_accuracy: 0.2671\n",
      "Epoch 2/10\n",
      "806/806 [==============================] - 28s 34ms/step - loss: -951295.0000 - binary_accuracy: 0.2698 - val_loss: -792085.2500 - val_binary_accuracy: 0.2671\n",
      "Epoch 3/10\n",
      "806/806 [==============================] - 28s 35ms/step - loss: -999298.0625 - binary_accuracy: 0.2698 - val_loss: -831834.3750 - val_binary_accuracy: 0.2671\n",
      "Epoch 4/10\n",
      "806/806 [==============================] - 28s 35ms/step - loss: -1049198.7500 - binary_accuracy: 0.2698 - val_loss: -873097.8750 - val_binary_accuracy: 0.2671\n",
      "Epoch 5/10\n",
      "806/806 [==============================] - 28s 35ms/step - loss: -1100903.7500 - binary_accuracy: 0.2698 - val_loss: -915772.1250 - val_binary_accuracy: 0.2671\n",
      "Epoch 6/10\n",
      "806/806 [==============================] - 27s 33ms/step - loss: -1154445.6250 - binary_accuracy: 0.2698 - val_loss: -959949.2500 - val_binary_accuracy: 0.2671\n",
      "Epoch 7/10\n",
      "806/806 [==============================] - 27s 34ms/step - loss: -1209709.6250 - binary_accuracy: 0.2698 - val_loss: -1005455.0000 - val_binary_accuracy: 0.2671\n",
      "Epoch 8/10\n",
      "806/806 [==============================] - 27s 33ms/step - loss: -1266722.3750 - binary_accuracy: 0.2698 - val_loss: -1052474.2500 - val_binary_accuracy: 0.2671\n",
      "Epoch 9/10\n",
      "806/806 [==============================] - 27s 34ms/step - loss: -1325474.6250 - binary_accuracy: 0.2698 - val_loss: -1100837.5000 - val_binary_accuracy: 0.2671\n",
      "Epoch 10/10\n",
      "806/806 [==============================] - 26s 32ms/step - loss: -1385981.8750 - binary_accuracy: 0.2698 - val_loss: -1150678.6250 - val_binary_accuracy: 0.2671\n"
     ]
    },
    {
     "data": {
      "text/plain": [
       "<keras.callbacks.History at 0x298793d2808>"
      ]
     },
     "execution_count": 188,
     "metadata": {},
     "output_type": "execute_result"
    }
   ],
   "source": [
    "tf.config.run_functions_eagerly(True)\n",
    "model.fit(xTrain_arr, y_train_arr_trunc, validation_data=(x_test_arr, y_test_arr_trunc),batch_size=100,epochs=10)"
   ]
  },
  {
   "cell_type": "markdown",
   "metadata": {},
   "source": [
    "### Run 4 : tanh activation function, epochs=10, batch=50"
   ]
  },
  {
   "cell_type": "code",
   "execution_count": 191,
   "metadata": {},
   "outputs": [],
   "source": [
    "model = Sequential()\n",
    "from keras.layers import Input\n",
    "\n",
    "model.add(Dense(units=4, input_dim=1, activation='relu'))\n",
    "model.add(Dense(8, activation='tanh'))\n",
    "model.add(Dense(1, activation='tanh'))"
   ]
  },
  {
   "cell_type": "code",
   "execution_count": 192,
   "metadata": {},
   "outputs": [],
   "source": [
    "model.compile(loss='binary_crossentropy', optimizer='adam', metrics=['binary_accuracy'])"
   ]
  },
  {
   "cell_type": "code",
   "execution_count": 193,
   "metadata": {},
   "outputs": [
    {
     "name": "stdout",
     "output_type": "stream",
     "text": [
      "Epoch 1/10\n",
      "1611/1611 [==============================] - 36s 22ms/step - loss: -11.2214 - binary_accuracy: 0.2593 - val_loss: -16.4758 - val_binary_accuracy: 0.2671\n",
      "Epoch 2/10\n",
      "1611/1611 [==============================] - 37s 23ms/step - loss: -16.5851 - binary_accuracy: 0.2698 - val_loss: -16.4758 - val_binary_accuracy: 0.2671\n",
      "Epoch 3/10\n",
      "1611/1611 [==============================] - 35s 22ms/step - loss: -16.5851 - binary_accuracy: 0.2698 - val_loss: -16.4758 - val_binary_accuracy: 0.2671\n",
      "Epoch 4/10\n",
      "1611/1611 [==============================] - 35s 21ms/step - loss: -16.5851 - binary_accuracy: 0.2698 - val_loss: -16.4758 - val_binary_accuracy: 0.2671\n",
      "Epoch 5/10\n",
      "1611/1611 [==============================] - 35s 22ms/step - loss: -16.5851 - binary_accuracy: 0.2698 - val_loss: -16.4758 - val_binary_accuracy: 0.2671\n",
      "Epoch 6/10\n",
      "1611/1611 [==============================] - 37s 23ms/step - loss: -16.5851 - binary_accuracy: 0.2698 - val_loss: -16.4758 - val_binary_accuracy: 0.2671\n",
      "Epoch 7/10\n",
      "1611/1611 [==============================] - 34s 21ms/step - loss: -16.5851 - binary_accuracy: 0.2698 - val_loss: -16.4758 - val_binary_accuracy: 0.2671\n",
      "Epoch 8/10\n",
      "1611/1611 [==============================] - 42s 26ms/step - loss: -16.5851 - binary_accuracy: 0.2698 - val_loss: -16.4758 - val_binary_accuracy: 0.2671\n",
      "Epoch 9/10\n",
      "1611/1611 [==============================] - 35s 22ms/step - loss: -16.5851 - binary_accuracy: 0.2698 - val_loss: -16.4758 - val_binary_accuracy: 0.2671\n",
      "Epoch 10/10\n",
      "1611/1611 [==============================] - 37s 23ms/step - loss: -16.5851 - binary_accuracy: 0.2698 - val_loss: -16.4758 - val_binary_accuracy: 0.2671\n"
     ]
    },
    {
     "data": {
      "text/plain": [
       "<keras.callbacks.History at 0x298bbff14c8>"
      ]
     },
     "execution_count": 193,
     "metadata": {},
     "output_type": "execute_result"
    }
   ],
   "source": [
    "tf.config.run_functions_eagerly(True)\n",
    "model.fit(xTrain_arr, y_train_arr_trunc, validation_data=(x_test_arr, y_test_arr_trunc),batch_size=50,epochs=10)"
   ]
  },
  {
   "cell_type": "markdown",
   "metadata": {},
   "source": [
    "### Run 5 : Adagrad optimizer, tanh and sigmoid"
   ]
  },
  {
   "cell_type": "code",
   "execution_count": 194,
   "metadata": {},
   "outputs": [],
   "source": [
    "model = Sequential()\n",
    "from keras.layers import Input\n",
    "\n",
    "model.add(Dense(units=4, input_dim=1, activation='tanh'))\n",
    "model.add(Dense(8, activation='tanh'))\n",
    "model.add(Dense(1, activation='sigmoid'))"
   ]
  },
  {
   "cell_type": "code",
   "execution_count": 198,
   "metadata": {},
   "outputs": [],
   "source": [
    "model.compile(loss='binary_crossentropy', optimizer='adam', metrics=['binary_accuracy'])"
   ]
  },
  {
   "cell_type": "code",
   "execution_count": 199,
   "metadata": {},
   "outputs": [
    {
     "name": "stdout",
     "output_type": "stream",
     "text": [
      "Epoch 1/5\n",
      "806/806 [==============================] - 17s 21ms/step - loss: -5.7315 - binary_accuracy: 0.2698 - val_loss: -10.6173 - val_binary_accuracy: 0.2671\n",
      "Epoch 2/5\n",
      "806/806 [==============================] - 17s 21ms/step - loss: -14.8877 - binary_accuracy: 0.2698 - val_loss: -18.8713 - val_binary_accuracy: 0.2671\n",
      "Epoch 3/5\n",
      "806/806 [==============================] - 16s 20ms/step - loss: -22.9931 - binary_accuracy: 0.2698 - val_loss: -26.8013 - val_binary_accuracy: 0.2671\n",
      "Epoch 4/5\n",
      "806/806 [==============================] - 17s 21ms/step - loss: -30.9253 - binary_accuracy: 0.2698 - val_loss: -34.6453 - val_binary_accuracy: 0.2671\n",
      "Epoch 5/5\n",
      "806/806 [==============================] - 17s 21ms/step - loss: -38.7973 - binary_accuracy: 0.2698 - val_loss: -42.4480 - val_binary_accuracy: 0.2671\n"
     ]
    },
    {
     "data": {
      "text/plain": [
       "<keras.callbacks.History at 0x2987943e888>"
      ]
     },
     "execution_count": 199,
     "metadata": {},
     "output_type": "execute_result"
    }
   ],
   "source": [
    "tf.config.run_functions_eagerly(True)\n",
    "model.fit(xTrain_arr, y_train_arr_trunc, validation_data=(x_test_arr, y_test_arr_trunc),batch_size=100,epochs=5)"
   ]
  },
  {
   "cell_type": "markdown",
   "metadata": {},
   "source": [
    "### Run 6 : relu+tanh+softmax ; adadelta optimizer"
   ]
  },
  {
   "cell_type": "code",
   "execution_count": 268,
   "metadata": {},
   "outputs": [],
   "source": [
    "model = Sequential()\n",
    "from keras.layers import Input\n",
    "\n",
    "model.add(Dense(units=4, input_dim=1, kernel_regularizer='l2', activation='relu'))\n",
    "model.add(Dense(12, kernel_regularizer='l2', activation='relu'))\n",
    "model.add(Dense(18, kernel_regularizer='l2', activation='relu'))\n",
    "model.add(Dense(10, kernel_regularizer='l2',activation='relu'))\n",
    "model.add(Dense(1, kernel_regularizer='l2', activation='softmax'))"
   ]
  },
  {
   "cell_type": "code",
   "execution_count": 269,
   "metadata": {},
   "outputs": [],
   "source": [
    "model.compile(loss='binary_crossentropy', optimizer='adam', metrics=['accuracy'])"
   ]
  },
  {
   "cell_type": "code",
   "execution_count": 270,
   "metadata": {
    "scrolled": true
   },
   "outputs": [
    {
     "name": "stdout",
     "output_type": "stream",
     "text": [
      "Epoch 1/100\n",
      "97/97 [==============================] - 6s 62ms/step - loss: 0.9447 - accuracy: 0.2672 - val_loss: 0.6081 - val_accuracy: 0.2736\n",
      "Epoch 2/100\n",
      "97/97 [==============================] - 5s 54ms/step - loss: -1.4975 - accuracy: 0.2672 - val_loss: -6.2732 - val_accuracy: 0.2736\n",
      "Epoch 3/100\n",
      "97/97 [==============================] - 5s 56ms/step - loss: -26.8703 - accuracy: 0.2672 - val_loss: -70.0355 - val_accuracy: 0.2736\n",
      "Epoch 4/100\n",
      "97/97 [==============================] - 6s 62ms/step - loss: -179.3330 - accuracy: 0.2672 - val_loss: -368.2068 - val_accuracy: 0.2736\n",
      "Epoch 5/100\n",
      "97/97 [==============================] - 5s 56ms/step - loss: -716.5111 - accuracy: 0.2672 - val_loss: -1272.9218 - val_accuracy: 0.2736\n",
      "Epoch 6/100\n",
      "97/97 [==============================] - 5s 57ms/step - loss: -2123.2620 - accuracy: 0.2672 - val_loss: -3433.0459 - val_accuracy: 0.2736\n",
      "Epoch 7/100\n",
      "97/97 [==============================] - 5s 56ms/step - loss: -5155.2520 - accuracy: 0.2672 - val_loss: -7766.4907 - val_accuracy: 0.2736\n",
      "Epoch 8/100\n",
      "97/97 [==============================] - 5s 55ms/step - loss: -10839.5059 - accuracy: 0.2672 - val_loss: -15470.9561 - val_accuracy: 0.2736\n",
      "Epoch 9/100\n",
      "97/97 [==============================] - 6s 58ms/step - loss: -20473.9688 - accuracy: 0.2672 - val_loss: -28011.8008 - val_accuracy: 0.2736\n",
      "Epoch 10/100\n",
      "97/97 [==============================] - 6s 59ms/step - loss: -35592.3008 - accuracy: 0.2672 - val_loss: -47156.7344 - val_accuracy: 0.2736\n",
      "Epoch 11/100\n",
      "97/97 [==============================] - 5s 51ms/step - loss: -57995.1641 - accuracy: 0.2672 - val_loss: -74886.6562 - val_accuracy: 0.2736\n",
      "Epoch 12/100\n",
      "97/97 [==============================] - 5s 56ms/step - loss: -89777.9688 - accuracy: 0.2672 - val_loss: -113434.7266 - val_accuracy: 0.2736\n",
      "Epoch 13/100\n",
      "97/97 [==============================] - 7s 68ms/step - loss: -133183.3906 - accuracy: 0.2672 - val_loss: -165433.6562 - val_accuracy: 0.2736\n",
      "Epoch 14/100\n",
      "97/97 [==============================] - 5s 51ms/step - loss: -191122.8750 - accuracy: 0.2672 - val_loss: -234217.3438 - val_accuracy: 0.2736\n",
      "Epoch 15/100\n",
      "97/97 [==============================] - 6s 60ms/step - loss: -268036.2500 - accuracy: 0.2672 - val_loss: -326654.7500 - val_accuracy: 0.2736\n",
      "Epoch 16/100\n",
      "97/97 [==============================] - 5s 51ms/step - loss: -371575.6250 - accuracy: 0.2672 - val_loss: -449570.5938 - val_accuracy: 0.2736\n",
      "Epoch 17/100\n",
      "97/97 [==============================] - 5s 50ms/step - loss: -506779.0625 - accuracy: 0.2672 - val_loss: -607813.4375 - val_accuracy: 0.2736\n",
      "Epoch 18/100\n",
      "97/97 [==============================] - 6s 57ms/step - loss: -678722.7500 - accuracy: 0.2672 - val_loss: -806918.6250 - val_accuracy: 0.2736\n",
      "Epoch 19/100\n",
      "97/97 [==============================] - 5s 52ms/step - loss: -892791.8750 - accuracy: 0.2672 - val_loss: -1052512.1250 - val_accuracy: 0.2736\n",
      "Epoch 20/100\n",
      "97/97 [==============================] - 6s 58ms/step - loss: -1154556.0000 - accuracy: 0.2672 - val_loss: -1350878.3750 - val_accuracy: 0.2736\n",
      "Epoch 21/100\n",
      "97/97 [==============================] - 5s 51ms/step - loss: -1470058.7500 - accuracy: 0.2672 - val_loss: -1707509.3750 - val_accuracy: 0.2736\n",
      "Epoch 22/100\n",
      "97/97 [==============================] - 5s 52ms/step - loss: -1847838.3750 - accuracy: 0.2672 - val_loss: -2136105.2500 - val_accuracy: 0.2736\n",
      "Epoch 23/100\n",
      "97/97 [==============================] - 5s 51ms/step - loss: -2299228.0000 - accuracy: 0.2672 - val_loss: -2644139.7500 - val_accuracy: 0.2736\n",
      "Epoch 24/100\n",
      "97/97 [==============================] - 5s 52ms/step - loss: -2830553.7500 - accuracy: 0.2672 - val_loss: -3238747.2500 - val_accuracy: 0.2736\n",
      "Epoch 25/100\n",
      "97/97 [==============================] - 5s 55ms/step - loss: -3452747.7500 - accuracy: 0.2672 - val_loss: -3935349.5000 - val_accuracy: 0.2736\n",
      "Epoch 26/100\n",
      "97/97 [==============================] - 5s 56ms/step - loss: -4180244.0000 - accuracy: 0.2672 - val_loss: -4748924.5000 - val_accuracy: 0.2736\n",
      "Epoch 27/100\n",
      "97/97 [==============================] - 5s 50ms/step - loss: -5026756.5000 - accuracy: 0.2672 - val_loss: -5688254.0000 - val_accuracy: 0.2736\n",
      "Epoch 28/100\n",
      "97/97 [==============================] - 5s 54ms/step - loss: -5997628.5000 - accuracy: 0.2672 - val_loss: -6763354.0000 - val_accuracy: 0.2736\n",
      "Epoch 29/100\n",
      "97/97 [==============================] - 5s 56ms/step - loss: -7107465.5000 - accuracy: 0.2672 - val_loss: -7991620.0000 - val_accuracy: 0.2736\n",
      "Epoch 30/100\n",
      "97/97 [==============================] - 5s 53ms/step - loss: -8369581.0000 - accuracy: 0.2672 - val_loss: -9382907.0000 - val_accuracy: 0.2736\n",
      "Epoch 31/100\n",
      "97/97 [==============================] - 5s 57ms/step - loss: -9793889.0000 - accuracy: 0.2672 - val_loss: -10942090.0000 - val_accuracy: 0.2736\n",
      "Epoch 32/100\n",
      "97/97 [==============================] - 5s 53ms/step - loss: -11389842.0000 - accuracy: 0.2672 - val_loss: -12689464.0000 - val_accuracy: 0.2736\n",
      "Epoch 33/100\n",
      "97/97 [==============================] - 6s 58ms/step - loss: -13169872.0000 - accuracy: 0.2672 - val_loss: -14633473.0000 - val_accuracy: 0.2736\n",
      "Epoch 34/100\n",
      "97/97 [==============================] - 6s 62ms/step - loss: -15148639.0000 - accuracy: 0.2672 - val_loss: -16792336.0000 - val_accuracy: 0.2736\n",
      "Epoch 35/100\n",
      "97/97 [==============================] - 5s 55ms/step - loss: -17348118.0000 - accuracy: 0.2672 - val_loss: -19192680.0000 - val_accuracy: 0.2736\n",
      "Epoch 36/100\n",
      "97/97 [==============================] - 5s 53ms/step - loss: -19780590.0000 - accuracy: 0.2672 - val_loss: -21832078.0000 - val_accuracy: 0.2736\n",
      "Epoch 37/100\n",
      "97/97 [==============================] - 5s 48ms/step - loss: -22455272.0000 - accuracy: 0.2672 - val_loss: -24743594.0000 - val_accuracy: 0.2736\n",
      "Epoch 38/100\n",
      "97/97 [==============================] - 6s 57ms/step - loss: -25463488.0000 - accuracy: 0.2672 - val_loss: -28097254.0000 - val_accuracy: 0.2736\n",
      "Epoch 39/100\n",
      "97/97 [==============================] - 5s 52ms/step - loss: -28911204.0000 - accuracy: 0.2672 - val_loss: -31866858.0000 - val_accuracy: 0.2736\n",
      "Epoch 40/100\n",
      "97/97 [==============================] - 5s 49ms/step - loss: -32751476.0000 - accuracy: 0.2672 - val_loss: -36049180.0000 - val_accuracy: 0.2736\n",
      "Epoch 41/100\n",
      "97/97 [==============================] - 5s 52ms/step - loss: -36986120.0000 - accuracy: 0.2672 - val_loss: -40649460.0000 - val_accuracy: 0.2736\n",
      "Epoch 42/100\n",
      "97/97 [==============================] - 5s 51ms/step - loss: -41640812.0000 - accuracy: 0.2672 - val_loss: -45713112.0000 - val_accuracy: 0.2736\n",
      "Epoch 43/100\n",
      "97/97 [==============================] - 5s 51ms/step - loss: -46775976.0000 - accuracy: 0.2672 - val_loss: -51281896.0000 - val_accuracy: 0.2736\n",
      "Epoch 44/100\n",
      "97/97 [==============================] - 5s 49ms/step - loss: -52400808.0000 - accuracy: 0.2672 - val_loss: -57380644.0000 - val_accuracy: 0.2736\n",
      "Epoch 45/100\n",
      "97/97 [==============================] - 5s 51ms/step - loss: -58571720.0000 - accuracy: 0.2672 - val_loss: -64070436.0000 - val_accuracy: 0.2736\n",
      "Epoch 46/100\n",
      "97/97 [==============================] - 5s 53ms/step - loss: -65325580.0000 - accuracy: 0.2672 - val_loss: -71362432.0000 - val_accuracy: 0.2736\n",
      "Epoch 47/100\n",
      "97/97 [==============================] - 5s 50ms/step - loss: -72668368.0000 - accuracy: 0.2672 - val_loss: -79279560.0000 - val_accuracy: 0.2736\n",
      "Epoch 48/100\n",
      "97/97 [==============================] - 5s 53ms/step - loss: -80629104.0000 - accuracy: 0.2672 - val_loss: -87849760.0000 - val_accuracy: 0.2736\n",
      "Epoch 49/100\n",
      "97/97 [==============================] - 5s 48ms/step - loss: -89229120.0000 - accuracy: 0.2672 - val_loss: -97090016.0000 - val_accuracy: 0.2736\n",
      "Epoch 50/100\n",
      "97/97 [==============================] - 5s 53ms/step - loss: -98506808.0000 - accuracy: 0.2672 - val_loss: -107052000.0000 - val_accuracy: 0.2736\n",
      "Epoch 51/100\n",
      "97/97 [==============================] - 5s 52ms/step - loss: -108488448.0000 - accuracy: 0.2672 - val_loss: -117835832.0000 - val_accuracy: 0.2736\n",
      "Epoch 52/100\n",
      "97/97 [==============================] - 5s 53ms/step - loss: -119542808.0000 - accuracy: 0.2672 - val_loss: -130003240.0000 - val_accuracy: 0.2736\n",
      "Epoch 53/100\n",
      "97/97 [==============================] - 6s 58ms/step - loss: -131891944.0000 - accuracy: 0.2672 - val_loss: -143389728.0000 - val_accuracy: 0.2736\n",
      "Epoch 54/100\n",
      "97/97 [==============================] - 5s 55ms/step - loss: -145358352.0000 - accuracy: 0.2672 - val_loss: -157902368.0000 - val_accuracy: 0.2736\n",
      "Epoch 55/100\n",
      "97/97 [==============================] - 5s 56ms/step - loss: -159935120.0000 - accuracy: 0.2672 - val_loss: -173578848.0000 - val_accuracy: 0.2736\n",
      "Epoch 56/100\n",
      "97/97 [==============================] - 6s 60ms/step - loss: -175676560.0000 - accuracy: 0.2672 - val_loss: -190513440.0000 - val_accuracy: 0.2736\n",
      "Epoch 57/100\n",
      "97/97 [==============================] - 5s 56ms/step - loss: -192635120.0000 - accuracy: 0.2672 - val_loss: -208743744.0000 - val_accuracy: 0.2736\n",
      "Epoch 58/100\n",
      "97/97 [==============================] - 5s 57ms/step - loss: -210869280.0000 - accuracy: 0.2672 - val_loss: -228252224.0000 - val_accuracy: 0.2736\n",
      "Epoch 59/100\n",
      "97/97 [==============================] - 6s 58ms/step - loss: -230516960.0000 - accuracy: 0.2672 - val_loss: -249639472.0000 - val_accuracy: 0.2736\n",
      "Epoch 60/100\n",
      "97/97 [==============================] - 5s 51ms/step - loss: -252350016.0000 - accuracy: 0.2672 - val_loss: -273406048.0000 - val_accuracy: 0.2736\n",
      "Epoch 61/100\n",
      "97/97 [==============================] - 5s 55ms/step - loss: -276263904.0000 - accuracy: 0.2672 - val_loss: -299133120.0000 - val_accuracy: 0.2736\n",
      "Epoch 62/100\n",
      "97/97 [==============================] - 5s 53ms/step - loss: -302086752.0000 - accuracy: 0.2672 - val_loss: -326915840.0000 - val_accuracy: 0.2736\n",
      "Epoch 63/100\n",
      "97/97 [==============================] - 5s 52ms/step - loss: -329880512.0000 - accuracy: 0.2672 - val_loss: -356711008.0000 - val_accuracy: 0.2736\n",
      "Epoch 64/100\n",
      "97/97 [==============================] - 5s 52ms/step - loss: -359716352.0000 - accuracy: 0.2672 - val_loss: -388682048.0000 - val_accuracy: 0.2736\n",
      "Epoch 65/100\n",
      "97/97 [==============================] - 5s 51ms/step - loss: -391677312.0000 - accuracy: 0.2672 - val_loss: -422875904.0000 - val_accuracy: 0.2736\n",
      "Epoch 66/100\n",
      "97/97 [==============================] - 5s 51ms/step - loss: -425853568.0000 - accuracy: 0.2672 - val_loss: -459465952.0000 - val_accuracy: 0.2736\n",
      "Epoch 67/100\n",
      "97/97 [==============================] - 5s 52ms/step - loss: -462327296.0000 - accuracy: 0.2672 - val_loss: -498444832.0000 - val_accuracy: 0.2736\n",
      "Epoch 68/100\n",
      "97/97 [==============================] - 5s 54ms/step - loss: -501207488.0000 - accuracy: 0.2672 - val_loss: -540005376.0000 - val_accuracy: 0.2736\n",
      "Epoch 69/100\n",
      "97/97 [==============================] - 6s 58ms/step - loss: -542565888.0000 - accuracy: 0.2672 - val_loss: -584162304.0000 - val_accuracy: 0.2736\n",
      "Epoch 70/100\n",
      "97/97 [==============================] - 5s 51ms/step - loss: -586538816.0000 - accuracy: 0.2672 - val_loss: -631098368.0000 - val_accuracy: 0.2736\n",
      "Epoch 71/100\n",
      "97/97 [==============================] - 5s 50ms/step - loss: -633219584.0000 - accuracy: 0.2672 - val_loss: -680843776.0000 - val_accuracy: 0.2736\n",
      "Epoch 72/100\n",
      "97/97 [==============================] - 5s 57ms/step - loss: -682725440.0000 - accuracy: 0.2672 - val_loss: -733529152.0000 - val_accuracy: 0.2736\n",
      "Epoch 73/100\n",
      "97/97 [==============================] - 5s 56ms/step - loss: -735125632.0000 - accuracy: 0.2672 - val_loss: -789471424.0000 - val_accuracy: 0.2736\n",
      "Epoch 74/100\n",
      "97/97 [==============================] - 5s 49ms/step - loss: -790559680.0000 - accuracy: 0.2672 - val_loss: -848412288.0000 - val_accuracy: 0.2736\n",
      "Epoch 75/100\n",
      "97/97 [==============================] - 5s 55ms/step - loss: -849146944.0000 - accuracy: 0.2672 - val_loss: -910693120.0000 - val_accuracy: 0.2736\n",
      "Epoch 76/100\n",
      "97/97 [==============================] - 5s 50ms/step - loss: -910980096.0000 - accuracy: 0.2672 - val_loss: -976550656.0000 - val_accuracy: 0.2736\n",
      "Epoch 77/100\n",
      "97/97 [==============================] - 5s 55ms/step - loss: -976177088.0000 - accuracy: 0.2672 - val_loss: -1045856448.0000 - val_accuracy: 0.2736\n",
      "Epoch 78/100\n",
      "97/97 [==============================] - 5s 54ms/step - loss: -1044866304.0000 - accuracy: 0.2672 - val_loss: -1118810752.0000 - val_accuracy: 0.2736\n",
      "Epoch 79/100\n",
      "97/97 [==============================] - 5s 52ms/step - loss: -1117169024.0000 - accuracy: 0.2672 - val_loss: -1195478144.0000 - val_accuracy: 0.2736\n",
      "Epoch 80/100\n",
      "97/97 [==============================] - 5s 56ms/step - loss: -1193228672.0000 - accuracy: 0.2672 - val_loss: -1276282624.0000 - val_accuracy: 0.2736\n",
      "Epoch 81/100\n",
      "97/97 [==============================] - 5s 54ms/step - loss: -1273115392.0000 - accuracy: 0.2672 - val_loss: -1361081600.0000 - val_accuracy: 0.2736\n",
      "Epoch 82/100\n",
      "97/97 [==============================] - 5s 51ms/step - loss: -1356991360.0000 - accuracy: 0.2672 - val_loss: -1449901696.0000 - val_accuracy: 0.2736\n",
      "Epoch 83/100\n",
      "97/97 [==============================] - 5s 55ms/step - loss: -1444960384.0000 - accuracy: 0.2672 - val_loss: -1543338112.0000 - val_accuracy: 0.2736\n",
      "Epoch 84/100\n",
      "97/97 [==============================] - 5s 54ms/step - loss: -1537221888.0000 - accuracy: 0.2672 - val_loss: -1641026816.0000 - val_accuracy: 0.2736\n",
      "Epoch 85/100\n",
      "97/97 [==============================] - 5s 56ms/step - loss: -1633898624.0000 - accuracy: 0.2672 - val_loss: -1743309696.0000 - val_accuracy: 0.2736\n",
      "Epoch 86/100\n",
      "97/97 [==============================] - 5s 52ms/step - loss: -1735048320.0000 - accuracy: 0.2672 - val_loss: -1850524160.0000 - val_accuracy: 0.2736\n",
      "Epoch 87/100\n",
      "97/97 [==============================] - 5s 50ms/step - loss: -1840833408.0000 - accuracy: 0.2672 - val_loss: -1962596608.0000 - val_accuracy: 0.2736\n",
      "Epoch 88/100\n",
      "97/97 [==============================] - 6s 57ms/step - loss: -1951456896.0000 - accuracy: 0.2672 - val_loss: -2079411456.0000 - val_accuracy: 0.2736\n",
      "Epoch 89/100\n",
      "97/97 [==============================] - 5s 53ms/step - loss: -2067017216.0000 - accuracy: 0.2672 - val_loss: -2201786112.0000 - val_accuracy: 0.2736\n",
      "Epoch 90/100\n",
      "97/97 [==============================] - 5s 49ms/step - loss: -2187695104.0000 - accuracy: 0.2672 - val_loss: -2329232896.0000 - val_accuracy: 0.2736\n",
      "Epoch 91/100\n",
      "97/97 [==============================] - 5s 55ms/step - loss: -2313537024.0000 - accuracy: 0.2672 - val_loss: -2462376448.0000 - val_accuracy: 0.2736\n",
      "Epoch 92/100\n",
      "97/97 [==============================] - 5s 52ms/step - loss: -2444761088.0000 - accuracy: 0.2672 - val_loss: -2601184768.0000 - val_accuracy: 0.2736\n",
      "Epoch 93/100\n",
      "97/97 [==============================] - 5s 52ms/step - loss: -2581571840.0000 - accuracy: 0.2672 - val_loss: -2745654272.0000 - val_accuracy: 0.2736\n",
      "Epoch 94/100\n",
      "97/97 [==============================] - 5s 54ms/step - loss: -2723994880.0000 - accuracy: 0.2672 - val_loss: -2896341248.0000 - val_accuracy: 0.2736\n",
      "Epoch 95/100\n",
      "97/97 [==============================] - 5s 53ms/step - loss: -2872369664.0000 - accuracy: 0.2672 - val_loss: -3052611840.0000 - val_accuracy: 0.2736\n",
      "Epoch 96/100\n",
      "97/97 [==============================] - 5s 56ms/step - loss: -3026605568.0000 - accuracy: 0.2672 - val_loss: -3215694592.0000 - val_accuracy: 0.2736\n",
      "Epoch 97/100\n",
      "97/97 [==============================] - 5s 55ms/step - loss: -3187081216.0000 - accuracy: 0.2672 - val_loss: -3384885248.0000 - val_accuracy: 0.2736\n",
      "Epoch 98/100\n",
      "97/97 [==============================] - 5s 53ms/step - loss: -3353814784.0000 - accuracy: 0.2672 - val_loss: -3561184768.0000 - val_accuracy: 0.2736\n",
      "Epoch 99/100\n",
      "97/97 [==============================] - 5s 54ms/step - loss: -3527107584.0000 - accuracy: 0.2672 - val_loss: -3743909120.0000 - val_accuracy: 0.2736\n",
      "Epoch 100/100\n",
      "97/97 [==============================] - 5s 49ms/step - loss: -3707025664.0000 - accuracy: 0.2672 - val_loss: -3933523968.0000 - val_accuracy: 0.2736\n"
     ]
    }
   ],
   "source": [
    "tf.config.run_functions_eagerly(True)\n",
    "history=model.fit(xTrain_arr, y_train_arr_trunc, validation_split=0.4, batch_size=500,epochs=100)"
   ]
  },
  {
   "cell_type": "code",
   "execution_count": 261,
   "metadata": {},
   "outputs": [
    {
     "name": "stdout",
     "output_type": "stream",
     "text": [
      "627/627 [==============================] - 4s 7ms/step\n",
      "2 => 1 (expected 2)\n",
      "2 => 1 (expected 2)\n",
      "3 => 1 (expected 2)\n",
      "3 => 1 (expected 1)\n",
      "2 => 1 (expected 1)\n",
      "2 => 1 (expected 3)\n",
      "3 => 1 (expected 3)\n",
      "3 => 1 (expected 2)\n",
      "3 => 1 (expected 3)\n",
      "2 => 1 (expected 3)\n",
      "2 => 1 (expected 3)\n",
      "1 => 1 (expected 2)\n",
      "1 => 1 (expected 2)\n",
      "1 => 1 (expected 1)\n",
      "1 => 1 (expected 2)\n",
      "1 => 1 (expected 3)\n",
      "1 => 1 (expected 2)\n",
      "3 => 1 (expected 1)\n",
      "3 => 1 (expected 1)\n",
      "2 => 1 (expected 1)\n",
      "2 => 1 (expected 2)\n",
      "2 => 1 (expected 1)\n",
      "2 => 1 (expected 2)\n",
      "1 => 1 (expected 3)\n",
      "1 => 1 (expected 3)\n"
     ]
    }
   ],
   "source": [
    "# make predictions\n",
    "\n",
    "prediction = model.predict(x_test_arr)\n",
    "\n",
    "\n",
    "for i in range(25):\n",
    "\tprint('%s => %d (expected %d)' % (x_test_arr[i].tolist(), prediction[i], y_test_arr_trunc[i]))"
   ]
  },
  {
   "cell_type": "code",
   "execution_count": 239,
   "metadata": {},
   "outputs": [
    {
     "data": {
      "image/png": "[encoded data removed]",
      "text/plain": [
       "<Figure size 432x288 with 1 Axes>"
      ]
     },
     "metadata": {
      "needs_background": "light"
     },
     "output_type": "display_data"
    }
   ],
   "source": [
    "# plot metrics\n",
    "plt.plot(history.history['categorical_accuracy'])\n",
    "plt.plot(history.history['val_categorical_accuracy'])\n",
    "plt.show()"
   ]
  },
  {
   "cell_type": "code",
   "execution_count": 240,
   "metadata": {},
   "outputs": [
    {
     "data": {
      "image/png": "[encoded data removed]",
      "text/plain": [
       "<Figure size 432x288 with 1 Axes>"
      ]
     },
     "metadata": {
      "needs_background": "light"
     },
     "output_type": "display_data"
    }
   ],
   "source": [
    "# plot metrics\n",
    "plt.plot(history.history['mse'])\n",
    "plt.plot(history.history['val_mse'])\n",
    "plt.show()"
   ]
  },
  {
   "cell_type": "markdown",
   "metadata": {},
   "source": [
    "### TOP 10 AUTHORS"
   ]
  },
  {
   "cell_type": "code",
   "execution_count": null,
   "metadata": {},
   "outputs": [],
   "source": [
    "finalDF = mergedST.groupby(['name'], sort=False)['review_count'].count().nlargest(n=10)\n",
    "finalDF"
   ]
  },
  {
   "cell_type": "markdown",
   "metadata": {},
   "source": [
    "### Negative words as feature set"
   ]
  },
  {
   "cell_type": "code",
   "execution_count": null,
   "metadata": {},
   "outputs": [],
   "source": [
    "# Create a feature set (DOCS) of negative words\n",
    "\n",
    "### For top n words - for each line, use word_count to get the top 10 or 20 words used. \n",
    "# Create a list from this and assign to author name | test train split | run model\n"
   ]
  },
  {
   "cell_type": "code",
   "execution_count": 10,
   "metadata": {},
   "outputs": [],
   "source": [
    "negDocsAD = ['abysmal', 'adverse', 'alarming', 'angry', 'annoy', 'anxious', 'apathy', 'appalling', 'atrocious', 'awful', 'bad',\n",
    "    'banal', 'barbed','belligerent','bemoan' ,'beneath','boring','broken', 'callous','can\\\\t', 'clumsy','coarse',\n",
    "    'cold', 'cold-hearted','collapse','confused','contradictory','contrary','corrosive','corrupt','crazy','creepy','criminal','cruel','cry','cutting'\n",
    "    ,'damage'\n",
    "    ,'damaging'\n",
    "    ,'dastardly'\n",
    "    ,'dead'\n",
    "    ,'decaying' \n",
    "    ,'deformed' \n",
    "    ,'deny'\n",
    "    ,'deplorable'\n",
    "    ,'depressed'\n",
    "    ,'deprived'\n",
    "    ,'despicable'\n",
    "    ,'detrimental'\n",
    "    ,'dirty'\n",
    "    ,'disease'\n",
    "    ,'disgusting'\n",
    "    ,'disheveled'\n",
    "    ,'dishonest'\n",
    "    ,'dishonorable'\n",
    "    ,'dismal'\n",
    "    ,'distress'\n",
    "    ,'dont'\n",
    "    ,'dreary'\n",
    "    ,'dreadful']"
   ]
  },
  {
   "cell_type": "code",
   "execution_count": 11,
   "metadata": {},
   "outputs": [],
   "source": [
    "negDocsEL=['enraged'\n",
    "    ,'eroding'\n",
    "    ,'evil'\n",
    "    ,'fail'\n",
    "    ,'faulty'\n",
    "    ,'fear'\n",
    "    ,'feeble'\n",
    "    ,'fight'\n",
    "    ,'filthy'\n",
    "    ,'foul'\n",
    "    ,'frighten'\n",
    "    ,'frightful'\n",
    "    ,'gawky'\n",
    "    ,'ghastly'\n",
    "    ,'grave'\n",
    "    ,'greed'\n",
    "    ,'grim'\n",
    "    ,'grimace'\n",
    "    ,'gross'\n",
    "    ,'grotesque'\n",
    "    ,'gruesome'\n",
    "    ,'guilty'\n",
    "    ,'haggard'\n",
    "    ,'hard'\n",
    "    ,'hard-hearted'\n",
    "    ,'harmful'\n",
    "    ,'hate'\n",
    "    ,'hideous'\n",
    "    ,'homely'\n",
    "    ,'horrendous'\n",
    "    ,'horrible'\n",
    "    ,'hostile'\n",
    "    ,'hurt'\n",
    "    ,'hurtful'\n",
    "    ,'icky'\n",
    "    ,'ignorant'\n",
    "    ,'ignore'\n",
    "    ,'ill'\n",
    "    ,'immature'\n",
    "    ,'imperfect'\n",
    "    ,'impossible'\n",
    "    ,'inane'\n",
    "    ,'inelegant'\n",
    "    ,'infernal'\n",
    "    ,'injure'\n",
    "    ,'injurious'\n",
    "    ,'insane'\n",
    "    ,'insidious'\n",
    "    ,'insipid'\n",
    "    ,'jealous'\n",
    "    ,'junky'\n",
    "    ,'lose'\n",
    "    ,'lousy'\n",
    "    ,'lumpy']"
   ]
  },
  {
   "cell_type": "code",
   "execution_count": 12,
   "metadata": {},
   "outputs": [],
   "source": [
    "negDocsMR = ['malicious'\n",
    "    ,'mean'\n",
    "    ,'menacing'\n",
    "    ,'messy'\n",
    "    ,'misshapen'\n",
    "    ,'missing'\n",
    "    ,'misunderstood'\n",
    "    ,'moan'\n",
    "    ,'moldy'\n",
    "    ,'monstrous'\n",
    "    ,'naive'\n",
    "    ,'nasty'\n",
    "    ,'naughty'\n",
    "    ,'negate'\n",
    "    ,'negative'\n",
    "    ,'never'\n",
    "    ,'no'\n",
    "    ,'nobody'\n",
    "    ,'nondescript'\n",
    "    ,'nonsense'\n",
    "    ,'not'\n",
    "    ,'noxious'\n",
    "    ,'objectionable'\n",
    "    ,'odious'\n",
    "    ,'offensive'\n",
    "    ,'old'\n",
    "    ,'oppressive'\n",
    "    ,'pain'\n",
    "    ,'perturb'\n",
    "    ,'pessimistic'\n",
    "    ,'petty'\n",
    "    ,'plain'\n",
    "    ,'poisonous'\n",
    "    ,'poor'\n",
    "    ,'prejudice'\n",
    "    ,'questionable'\n",
    "    ,'quirky'\n",
    "    ,'quit'\n",
    "    ,'reject'\n",
    "    ,'renege'\n",
    "    ,'repellant'\n",
    "    ,'reptilian'\n",
    "    ,'repugnant'\n",
    "    ,'repulsive'\n",
    "    ,'revenge'\n",
    "    ,'revolting'\n",
    "    ,'rocky'\n",
    "    ,'rotten'\n",
    "    ,'rude'\n",
    "    ,'ruthless']"
   ]
  },
  {
   "cell_type": "code",
   "execution_count": 13,
   "metadata": {},
   "outputs": [],
   "source": [
    "docsNegSZ = ['sad','spring'\n",
    "    ,'savage'\n",
    "    ,'scare'\n",
    "    ,'scary'\n",
    "    ,'scream'\n",
    "    ,'severe'\n",
    "    ,'shocking'\n",
    "    ,'shoddy'\n",
    "    ,'sick'\n",
    "    ,'sickening'\n",
    "    ,'sinister'\n",
    "    ,'slimy'\n",
    "    ,'smelly'\n",
    "    ,'sobbing'\n",
    "    ,'sorry'\n",
    "    ,'spiteful'\n",
    "    ,'sticky'\n",
    "    ,'stinky'\n",
    "    ,'stormy'\n",
    "    ,'stressful'\n",
    "    ,'stuck'\n",
    "    ,'stupid'\n",
    "    ,'substandard'\n",
    "    ,'suspect'\n",
    "    ,'suspicious'\n",
    "    ,'tense'\n",
    "    ,'terrible'\n",
    "    ,'terrifying'\n",
    "    ,'threatening'\n",
    "    ,'ugly'\n",
    "    ,'undermine'\n",
    "    ,'unfair'\n",
    "    ,'unfavorable'\n",
    "    ,'unhappy'\n",
    "    ,'unhealthy'\n",
    "    ,'unjust'\n",
    "    ,'unlucky'\n",
    "    ,'unpleasant'\n",
    "    ,'unsatisfactory'\n",
    "    ,'unsightly'\n",
    "    ,'untoward'\n",
    "    ,'unwanted'\n",
    "    ,'unwelcome'\n",
    "    ,'unwholesome'\n",
    "    ,'unwieldy'\n",
    "    ,'unwise'\n",
    "    ,'upset'\n",
    "    ,'vice'\n",
    "    ,'vicious'\n",
    "    ,'vile'\n",
    "    ,'villainous'\n",
    "    ,'vindictive'\n",
    "    ,'wary'\n",
    "    ,'weary'\n",
    "    ,'wicked'\n",
    "    ,'woeful'\n",
    "    ,'worthless'\n",
    "    ,'wound'\n",
    "    ,'yell'\n",
    "    ,'yucky'\n",
    "    ,'zero']"
   ]
  },
  {
   "cell_type": "code",
   "execution_count": 14,
   "metadata": {},
   "outputs": [],
   "source": [
    "totalNegDocs = negDocsAD + negDocsEL + negDocsMR + docsNegSZ"
   ]
  },
  {
   "cell_type": "markdown",
   "metadata": {},
   "source": [
    "### TOP 5 AUTHORS"
   ]
  },
  {
   "cell_type": "markdown",
   "metadata": {},
   "source": [
    "### Negative words as feature set"
   ]
  },
  {
   "cell_type": "code",
   "execution_count": 15,
   "metadata": {},
   "outputs": [
    {
     "name": "stdout",
     "output_type": "stream",
     "text": [
      "{'author': [], 'Breitbart News': ['not', 'dead', 'pain', 'not', 'not', 'hurt', 'not', 'unsatisfactory', 'suspect', 'not', 'suspect', 'not', 'not', 'suspect', 'no', 'suspect', 'fight', 'suspect', 'not', 'terrible', 'not', 'mean', 'no', 'no', 'no', 'confused', 'not', 'not', 'not', 'not', 'not', 'not', 'not', 'no', 'never', 'deprived', 'pain', 'sad', 'not', 'fight', 'never', 'not', 'old', 'no', 'no', 'fear', 'no', 'no', 'never', 'not', 'fight', 'not', 'old', 'never', 'never', 'not', 'never', 'not', 'no', 'not', 'grotesque', 'fight', 'fear', 'not', 'no', 'no', 'stuck', 'no', 'no', 'no', 'no', 'not', 'repugnant', 'not', 'not', 'not', 'not', 'not', 'not', 'criminal', 'not', 'not', 'not', 'never', 'impossible', 'not', 'tense', 'never', 'no', 'old', 'not', 'not', 'not', 'shocking', 'mean', 'not', 'not', 'not', 'not', 'not', 'mean', 'not', 'no', 'not', 'not', 'not', 'guilty', 'not', 'disgusting', 'not', 'sorry', 'hurt', 'never', 'not', 'never', 'poor', 'no', 'sorry', 'never', 'cry', 'oppressive', 'never', 'undermine', 'not', 'no', 'no', 'not', 'hate', 'never', 'not', 'not', 'not', 'not', 'mean', 'hostile', 'not', 'not', 'bad', 'mean', 'not', 'not', 'not', 'not', 'never', 'never', 'ugly', 'not', 'not', 'not', 'not', 'not', 'no', 'not', 'deny', 'not', 'no', 'angry', 'contrary', 'not', 'never', 'never', 'foul', 'not', 'not', 'not', 'not', 'not', 'guilty', 'broken', 'spring', 'vice', 'no', 'no', 'not', 'old', 'not', 'old', 'no', 'not', 'not', 'disease', 'no', 'not', 'cry', 'not', 'old', 'fight', 'not', 'criminal', 'criminal', 'criminal', 'fight', 'no', 'corrupt', 'never', 'not', 'criminal', 'criminal', 'no', 'not', 'not', 'suspect', 'not', 'no', 'not', 'collapse', 'not', 'not', 'not', 'not', 'damage', 'no', 'no', 'no', 'corrosive', 'undermine', 'eroding', 'fight', 'no', 'stuck', 'not', 'no', 'no', 'no', 'not', 'collapse', 'collapse', 'not', 'no', 'not', 'not', 'no', 'not', 'shocking', 'hate', 'mean', 'dreadful', 'not', 'not', 'upset', 'not', 'lose', 'not', 'never', 'no', 'not', 'no', 'no', 'no', 'guilty', 'not', 'mean', 'bad', 'never', 'poor', 'ugly', 'not', 'not', 'old', 'not', 'not', 'not', 'not', 'not', 'not', 'deny', 'deny', 'deny', 'not', 'not', 'not', 'never', 'not', 'mean', 'not', 'no', 'not', 'no', 'not', 'not', 'not', 'not', 'deplorable', 'not', 'never', 'never', 'not', 'no', 'not', 'sick', 'not', 'negative', 'not', 'dishonest', 'mean', 'old', 'cutting', 'no', 'hard', 'no', 'not', 'not', 'not', 'not', 'vile', 'horrible', 'not', 'not', 'never', 'no', 'no', 'no', 'no', 'no', 'not', 'not', 'not', 'not', 'not', 'not', 'no', 'evil', 'not', 'never', 'never', 'not', 'not', 'not', 'not', 'not', 'not', 'wicked', 'deny', 'no', 'fight', 'fight', 'deny', 'no', 'evil', 'no', 'undermine', 'no', 'no', 'deny', 'not', 'no', 'no', 'no', 'not', 'vice', 'not', 'damaging', 'fight', 'rocky', 'not', 'not', 'impossible', 'not', 'not', 'not', 'not', 'criminal', 'hostile', 'criminal', 'hostile', 'not', 'not', 'not', 'never', 'not', 'not', 'not', 'not', 'not', 'not', 'not', 'not', 'not', 'never', 'not', 'not', 'not', 'not', 'not', 'not', 'not', 'not', 'not', 'not', 'negative', 'no', 'no', 'not', 'not', 'not', 'hard', 'not', 'not', 'not', 'not', 'hurt', 'angry', 'no', 'old', 'mean', 'no', 'sad', 'never', 'no', 'terrible', 'unlucky', 'not', 'not', 'beneath', 'not', 'no', 'no', 'old', 'not', 'not', 'not', 'not', 'not', 'hard', 'never', 'not', 'not', 'not', 'weary', 'missing', 'not', 'bad', 'rude', 'hard', 'fight', 'not', 'not', 'not', 'not', 'not', 'fight', 'hard', 'never', 'upset', 'bad', 'mean', 'lose', 'fail', 'no', 'fail', 'lose', 'criminal', 'cutting', 'not', 'not', 'not', 'not', 'broken', 'not', 'not', 'not', 'not', 'vice', 'no', 'no', 'spring', 'not', 'not', 'not', 'not', 'hard', 'sad', 'no', 'not', 'lose', 'no', 'broken', 'not', 'not', 'not', 'not', 'fight', 'not', 'upset', 'not', 'not', 'lose', 'not', 'bad', 'not', 'not', 'lose', 'depressed', 'petty', 'not', 'dont', 'impossible', 'not', 'never', 'not', 'not', 'not', 'not', 'lose', 'no', 'mean', 'not', 'no', 'no', 'not', 'bad', 'mean', 'not', 'nobody', 'no', 'old', 'no', 'not', 'not', 'not', 'not', 'not', 'not', 'not', 'not', 'not', 'not', 'not', 'cold', 'not', 'detrimental', 'hard', 'fight', 'negative', 'not', 'no', 'not', 'fear', 'not', 'suspect', 'guilty', 'unfair', 'not', 'zero', 'not', 'not', 'no', 'no', 'ill', 'never', 'fight', 'criminal', 'not', 'fear', 'never', 'never', 'not', 'never', 'reject', 'shocking', 'not', 'not', 'never', 'never', 'not', 'not', 'vice', 'mean', 'fear', 'poor', 'fear', 'no', 'no', 'lose', 'lose', 'never', 'criminal', 'not', 'angry', 'shocking', 'not', 'upset', 'no', 'fear', 'not', 'poor', 'enraged', 'not', 'cry', 'no', 'never', 'never', 'ill', 'collapse', 'broken', 'no', 'contradictory', 'hard', 'deny', 'bad', 'not', 'bad', 'not', 'not', 'hard', 'not', 'not', 'not', 'not', 'not', 'negative', 'mean', 'dead', 'ghastly', 'not', 'not', 'hate', 'hate', 'not', 'not', 'not', 'not', 'not', 'no', 'no', 'not', 'not', 'not', 'not', 'deny', 'never', 'hurt', 'hurt', 'not', 'mean', 'not', 'criminal', 'not', 'not', 'not', 'no', 'not', 'criminal', 'not', 'not', 'disgusting', 'not', 'not', 'not', 'no', 'not', 'threatening', 'fight', 'never', 'not', 'not', 'not', 'not', 'mean', 'no', 'sorry', 'pain', 'no', 'not', 'not', 'upset', 'no', 'no', 'not', 'poor', 'not', 'damage', 'corrupt', 'no', 'no', 'not', 'not', 'not', 'not', 'not', 'not', 'not', 'sad', 'lose', 'vice', 'never', 'not', 'not', 'dead', 'not', 'never', 'never', 'not', 'never', 'never', 'not', 'never', 'no', 'not', 'terrible', 'fear', 'not', 'stuck', 'no', 'stuck', 'no', 'harmful', 'stuck', 'stuck', 'stuck', 'stuck', 'collapse', 'stuck', 'not', 'not', 'never', 'damage', 'dead', 'bad', 'not', 'stuck', 'never', 'stuck', 'stuck', 'not', 'bad', 'stuck', 'bad', 'bad', 'not', 'stuck', 'no', 'stuck', 'stuck', 'no', 'no', 'not', 'stuck', 'no', 'stuck', 'not', 'stuck', 'not', 'severe', 'not', 'horrible', 'not', 'never', 'hard', 'not', 'fight', 'fight', 'upset', 'scream', 'poisonous', 'never', 'not', 'no', 'not', 'mean', 'no', 'not', 'not', 'not', 'terrible', 'fight', 'not', 'not', 'not', 'not', 'not', 'not', 'not', 'not', 'fear', 'not', 'not', 'lose', 'lose', 'not', 'banal', 'not', 'not', 'pain', 'not', 'not', 'never', 'no', 'vice', 'ill', 'no', 'not', 'not', 'not', 'not', 'evil', 'dead', 'weary', 'no', 'dead', 'not', 'no', 'not', 'no', 'offensive', 'mean', 'no', 'no', 'damage', 'damage', 'bad', 'not', 'not', 'not', 'dead', 'not', 'dead', 'not', 'not', 'dead', 'dead', 'not', 'not', 'angry', 'not', 'impossible', 'not', 'no', 'not', 'not', 'not', 'no', 'no', 'not', 'not', 'threatening', 'never', 'negative', 'deny', 'guilty', 'no', 'not', 'hard', 'not', 'never', 'not', 'no', 'no', 'not', 'not', 'not', 'impossible', 'not', 'zero', 'not', 'never', 'no', 'hate', 'not', 'not', 'beneath', 'not', 'damage', 'damage', 'dead', 'impossible', 'no', 'not', 'not', 'not', 'not', 'fail', 'not', 'no', 'boring', 'not', 'not', 'no', 'no', 'never', 'never', 'never', 'not', 'not', 'nobody', 'not', 'not', 'not', 'no', 'vice', 'not', 'not', 'unhappy', 'terrible', 'lose', 'not', 'no', 'no', 'cutting', 'not', 'not', 'fear', 'not', 'not', 'not', 'dismal', 'no', 'not', 'never', 'poor', 'sick', 'never', 'hard', 'hard', 'no', 'no', 'never', 'fear', 'fight', 'not', 'lose', 'not', 'not', 'not', 'not', 'not', 'not', 'guilty', 'not', 'not', 'not', 'upset', 'not', 'missing', 'not', 'suspicious', 'hard', 'not', 'hostile', 'hate', 'not', 'messy', 'spring', 'no', 'no', 'cold', 'not', 'not', 'not', 'hurt', 'not', 'fear', 'nasty', 'hurt', 'not', 'not', 'not', 'never', 'not', 'not', 'not', 'not', 'fear', 'not', 'not', 'sick', 'no', 'sick', 'not', 'sorry', 'sorry', 'not', 'not', 'fear', 'not', 'pain', 'dead', 'not', 'not', 'pain', 'pain', 'no', 'no', 'hate', 'hate', 'no', 'no', 'not', 'scary', 'not', 'suspect', 'pain', 'not', 'not', 'dead', 'not', 'no', 'not', 'not', 'no', 'not', 'not', 'not', 'angry', 'grave', 'dead', 'not', 'not', 'lose', 'bad', 'not', 'not', 'threatening', 'ugly', 'no', 'fear', 'not', 'poor', 'never', 'never', 'petty', 'fight', 'never', 'bad', 'impossible', 'not', 'no', 'no', 'never', 'awful', 'no', 'awful', 'no', 'not', 'threatening', 'no', 'nobody', 'not', 'no', 'never', 'hard', 'no', 'no', 'never', 'plain', 'not', 'criminal', 'no', 'not', 'not', 'fight', 'impossible', 'fight', 'never', 'not', 'never', 'no', 'fight', 'fight', 'negative', 'broken', 'nobody', 'not', 'hard', 'not', 'old', 'not', 'never', 'hard', 'not', 'not', 'never', 'not', 'bad', 'bad', 'not', 'not', 'not', 'fight', 'criminal', 'criminal', 'criminal', 'angry', 'criminal', 'no', 'no', 'not', 'not', 'vice', 'hard', 'old', 'poor', 'upset', 'not', 'terrible', 'terrible', 'impossible', 'terrible', 'not', 'ugly', 'not', 'not', 'not', 'no', 'no', 'fight', 'not', 'not', 'threatening', 'threatening', 'not', 'not', 'horrible', 'nobody', 'not', 'never', 'reject', 'fight', 'not', 'bad', 'bad', 'no', 'wary', 'pain', 'not', 'bad', 'not', 'sick', 'no', 'not', 'hard', 'not', 'no', 'deny', 'no', 'not', 'not', 'not', 'not', 'not', 'not', 'not', 'not', 'no', 'not', 'not', 'lose', 'threatening', 'not', 'ugly', 'no', 'corrupt', 'not', 'not', 'not', 'not', 'mean', 'quirky', 'not', 'negative', 'vicious', 'not', 'ugly', 'not', 'not', 'not', 'no', 'not', 'not', 'stuck', 'not', 'not', 'not', 'impossible', 'not', 'not', 'not', 'no', 'no', 'not', 'cutting', 'terrible', 'not', 'not', 'not', 'sorry', 'stupid', 'broken', 'no', 'not', 'not', 'hard', 'impossible', 'mean', 'not', 'not', 'not', 'no', 'lose', 'not', 'fear', 'not', 'suspect', 'broken', 'broken', 'horrible', 'terrible', 'not', 'angry', 'criminal', 'dead', 'suspect', 'dead', 'horrendous', 'no', 'not', 'no', 'not', 'collapse', 'not', 'no', 'hard', 'dead', 'no', 'not', 'not', 'fight', 'sickening', 'dreadful', 'never', 'old', 'not', 'dead', 'not', 'not', 'fight', 'crazy', 'fight', 'not', 'not', 'dead', 'dead', 'criminal', 'not', 'no', 'horrible', 'not', 'not', 'never', 'not', 'no', 'not', 'dead', 'not', 'not', 'suspect', 'not', 'suspect', 'suspect', 'suspect', 'not', 'no', 'suspect', 'suspect', 'no', 'no', 'suspect', 'not', 'no', 'not', 'no', 'not', 'not', 'fight', 'fail', 'not', 'no', 'no', 'never', 'not', 'vice', 'not', 'vicious', 'no', 'bad', 'not', 'damage', 'damaging', 'hard', 'not', 'not', 'never', 'upset', 'not', 'not', 'no', 'jealous', 'never', 'never', 'not', 'injure', 'not', 'not', 'nobody', 'not', 'not', 'not', 'not', 'sad', 'bad', 'angry', 'sad', 'not', 'not', 'not', 'never', 'not', 'never', 'lose', 'fight', 'fight', 'fight', 'angry', 'fear', 'never', 'not', 'no', 'not', 'no', 'not', 'no', 'threatening', 'lose', 'no', 'not', 'not', 'not', 'never', 'not', 'no', 'lose', 'not', 'not', 'not', 'never', 'not', 'not', 'bad', 'negative', 'not', 'not', 'corrupt', 'mean', 'not', 'not', 'criminal', 'not', 'hard', 'criminal', 'not', 'not', 'not', 'no', 'not', 'not', 'not', 'not', 'not', 'no', 'not', 'no', 'corrupt', 'not', 'no', 'not', 'not', 'sickening', 'threatening', 'not', 'no', 'not', 'never', 'never', 'threatening', 'not', 'impossible', 'not', 'not', 'tense', 'fear', 'no', 'no', 'not', 'not', 'not', 'appalling', 'not', 'hurt', 'fear', 'sad', 'never', 'no', 'not', 'no', 'not', 'not', 'fight', 'not', 'never', 'no', 'no', 'no', 'dirty', 'not', 'fight', 'no', 'not', 'no', 'not', 'never', 'not', 'reject', 'no', 'cry', 'not', 'contrary', 'never', 'not', 'not', 'nobody', 'lose', 'not', 'not', 'nobody', 'negative', 'negative', 'sorry', 'not', 'sorry', 'angry', 'never', 'no', 'not', 'not', 'never', 'nobody', 'not', 'not', 'no', 'not', 'no', 'not', 'upset', 'sad', 'angry', 'never', 'never', 'hard', 'depressed', 'no', 'negative', 'bad', 'not', 'not', 'not', 'angry', 'unfair', 'hurt', 'hurt', 'dirty', 'not', 'never', 'never', 'upset', 'not', 'not', 'threatening', 'not', 'no', 'never', 'not', 'fear', 'hurt', 'not', 'nobody', 'not', 'no', 'no', 'revolting', 'not', 'not', 'not', 'impossible', 'negative', 'no', 'not', 'negative', 'spring', 'angry', 'hurt', 'not', 'not', 'not', 'no', 'no', 'offensive', 'lose', 'never', 'never', 'unjust', 'no', 'not', 'not', 'not', 'not', 'not', 'mean', 'mean', 'not', 'hard', 'criminal', 'not', 'no', 'not', 'not', 'not', 'not', 'unfavorable', 'lose', 'not', 'fear', 'not', 'not', 'fight', 'fail', 'never', 'not', 'hurt', 'bad', 'sad', 'not', 'bad', 'angry', 'not', 'no', 'not', 'not', 'lose', 'missing', 'no', 'sad', 'not', 'no', 'never', 'never', 'never', 'not', 'not', 'not', 'dismal', 'hate', 'angry', 'not', 'vice', 'not', 'no', 'not', 'not', 'not', 'not', 'not', 'not', 'upset', 'not', 'not', 'dead', 'grave', 'not', 'no', 'tense', 'no', 'no', 'not', 'not', 'no', 'not', 'not', 'never', 'not', 'worthless', 'not', 'lose', 'not', 'shocking', 'dirty', 'shocking', 'gross', 'never', 'no', 'never', 'no', 'disgusting', 'not', 'mean', 'no', 'quit', 'not', 'not', 'never', 'criminal', 'not', 'not', 'never', 'never', 'no', 'no', 'no', 'hard', 'no', 'bad', 'not', 'never', 'bad', 'never', 'not', 'not', 'not', 'not', 'not', 'not', 'not', 'never', 'crazy', 'not', 'not', 'criminal', 'not', 'not', 'not', 'not', 'not', 'ill', 'lose', 'not', 'not', 'never', 'not', 'not', 'not', 'dead', 'criminal', 'upset', 'not', 'not', 'not', 'awful', 'criminal', 'not', 'not', 'never', 'grave', 'not', 'never', 'never', 'never', 'hard', 'not', 'mean', 'not', 'no', 'no', 'hard', 'no', 'not', 'not', 'not', 'not', 'not', 'bad', 'negative', 'not', 'not', 'worthless', 'never', 'never', 'not', 'not', 'no', 'not', 'crazy', 'not', 'fight', 'scream', 'criminal', 'not', 'never', 'not', 'not', 'not', 'not', 'not', 'not', 'no', 'not', 'not', 'not', 'undermine', 'not', 'no', 'not', 'no', 'not', 'not', 'old', 'never', 'not', 'impossible', 'not', 'no', 'not', 'no', 'undermine', 'not', 'not', 'not', 'not', 'never', 'deny', 'terrible', 'not', 'broken', 'substandard', 'not', 'not', 'not', 'not', 'not', 'no', 'not', 'not', 'no', 'not', 'not', 'not', 'not', 'not', 'offensive', 'criminal', 'not', 'lose', 'not', 'not', 'not', 'broken', 'not', 'not', 'mean', 'not', 'not', 'never', 'not', 'hate', 'not', 'never', 'not', 'not', 'poor', 'nobody', 'not', 'no', 'reject', 'no', 'mean', 'never', 'not', 'hate', 'hate', 'not', 'not', 'not', 'damage', 'hard', 'not', 'not', 'not', 'not', 'never', 'not', 'bad', 'not', 'no', 'not', 'negative', 'hard', 'no', 'not', 'fight', 'not', 'hard', 'not', 'not', 'threatening', 'not', 'terrible', 'not', 'not', 'bad', 'not', 'hurt', 'not', 'zero', 'horrible', 'zero', 'no', 'not', 'no', 'not', 'never', 'bad', 'no', 'never', 'guilty', 'gross', 'not', 'not', 'negative', 'not', 'not', 'not', 'not', 'not', 'not', 'not', 'hate', 'not', 'despicable', 'not', 'not', 'fight', 'not', 'never', 'no', 'not', 'not', 'not', 'not', 'lose', 'not', 'hard', 'not', 'not', 'criminal', 'criminal', 'petty', 'poor', 'missing', 'missing', 'not', 'no', 'fail', 'hard', 'not', 'not', 'not', 'not', 'not', 'no', 'suspect', 'suspect', 'not', 'negative', 'not', 'not', 'not', 'negative', 'not', 'stupid', 'not', 'reject', 'stupid', 'not', 'not', 'stupid', 'not', 'not', 'mean', 'no', 'not', 'unwieldy', 'missing', 'cutting', 'not', 'ignore', 'not', 'no', 'not', 'not', 'never', 'never', 'not', 'not', 'mean', 'mean', 'threatening', 'never', 'criminal', 'never', 'lose', 'not', 'negative', 'sorry', 'never', 'not', 'no', 'not', 'no', 'not', 'never', 'fight', 'bad', 'bad', 'not', 'no', 'not', 'not', 'not', 'stupid', 'bad', 'hurt', 'dishonest', 'never', 'never', 'never', 'no', 'no', 'no', 'no', 'hard', 'not', 'hard', 'not', 'not', 'not', 'vice', 'not', 'not', 'ignore', 'not', 'grave', 'no', 'dirty', 'not', 'nobody', 'no', 'not', 'not', 'mean', 'not', 'not', 'cutting', 'not', 'old', 'not', 'not', 'not', 'not', 'not', 'not', 'no', 'not', 'not', 'criminal', 'not', 'not', 'not', 'corrupt', 'not', 'not', 'no', 'no', 'fear', 'never', 'hard', 'fight', 'cutting', 'not', 'not', 'never', 'not', 'not', 'old', 'scare', 'not', 'not', 'criminal', 'not', 'not', 'cold', 'not', 'not', 'not', 'no', 'not', 'vice', 'missing', 'not', 'lose', 'no', 'not', 'mean', 'evil', 'never', 'fight', 'vice', 'nobody', 'horrible', 'bad', 'terrible', 'never', 'fight', 'not', 'horrible', 'not', 'never', 'not', 'mean', 'questionable', 'broken', 'no', 'criminal', 'criminal', 'not', 'missing', 'not', 'not', 'lose', 'not', 'never', 'not', 'sorry', 'fight', 'fight', 'deny', 'not', 'not', 'not', 'not', 'not', 'collapse', 'mean', 'messy', 'fight', 'not', 'not', 'not', 'not', 'no', 'not', 'dead', 'sorry', 'stuck', 'bad', 'not', 'hard', 'never', 'not', 'not', 'not', 'not', 'not', 'dont', 'never', 'not', 'fear', 'dishonest', 'never', 'never', 'not', 'old', 'never', 'old', 'lose', 'not', 'damage', 'not', 'not', 'not', 'not', 'not', 'not', 'hard', 'not', 'fight', 'poor', 'poor', 'no', 'unhappy', 'not', 'never', 'damage', 'not', 'not', 'not', 'not', 'never', 'lose', 'bad', 'no', 'no', 'dishonest', 'poor', 'never', 'not', 'crazy', 'not', 'dirty', 'no', 'bad', 'not', 'hard', 'no', 'bad', 'wary', 'not', 'not', 'no', 'never', 'bad', 'angry', 'old', 'not', 'hard', 'not', 'not', 'impossible', 'not', 'never', 'old', 'no', 'not', 'upset', 'not', 'no', 'angry', 'not', 'suspect', 'no', 'not', 'not', 'not', 'no', 'not', 'deny', 'not', 'not', 'vice', 'not', 'never', 'hard', 'no', 'not', 'not', 'bad', 'fight', 'poor', 'not', 'not', 'no', 'not', 'not', 'foul', 'not', 'never', 'dirty', 'no', 'never', 'not', 'fight', 'no', 'no', 'no', 'no', 'no', 'not', 'never', 'never', 'not', 'not', 'not', 'upset', 'not', 'bad', 'not', 'not', 'not', 'no', 'hard', 'not', 'not', 'not', 'not', 'not', 'no', 'not', 'no', 'not', 'not', 'not', 'never', 'not', 'hate', 'horrible', 'bad', 'not', 'never', 'not', 'sad', 'mean', 'never', 'negative', 'angry', 'sinister', 'angry', 'never', 'not', 'alarming', 'zero', 'dead', 'not', 'criminal', 'sad', 'not', 'never', 'not', 'disgusting', 'not', 'quit', 'dishonest', 'not', 'poor', 'not', 'not', 'not', 'not', 'no', 'not', 'no', 'not', 'fight', 'not', 'not', 'zero', 'no', 'not', 'not', 'criminal', 'not', 'not', 'terrible', 'dead', 'never', 'never', 'zero', 'not', 'not', 'fight', 'hate', 'no', 'not', 'not', 'dishonest', 'never', 'negative', 'not', 'not', 'not', 'not', 'not', 'not', 'never', 'hard', 'hard', 'not', 'not', 'not', 'criminal', 'not', 'not', 'not', 'not', 'not', 'lose', 'not', 'no', 'no', 'not', 'never', 'never', 'not', 'not', 'not', 'not', 'not', 'bad', 'not', 'stupid', 'not', 'stupid', 'no', 'fight', 'not', 'no', 'not', 'criminal', 'not', 'never', 'not', 'not', 'lose', 'not', 'never', 'ugly', 'not', 'nasty', 'no', 'not', 'no', 'not', 'not', 'not', 'no', 'not', 'never', 'not', 'nobody', 'mean', 'never', 'never', 'never', 'not', 'reject', 'not', 'not', 'not', 'not', 'not', 'not', 'suspect', 'not', 'dead', 'not', 'not', 'no', 'never', 'no', 'dead', 'not', 'not', 'not', 'old', 'unwanted', 'not', 'not', 'awful', 'impossible', 'not', 'fight', 'not', 'not', 'stuck', 'stuck', 'stupid', 'no', 'no', 'feeble', 'mean', 'feeble', 'quit', 'impossible', 'vicious', 'malicious', 'not', 'not', 'suspicious', 'cold', 'not', 'never', 'sick', 'damage', 'not', 'not', 'not', 'not', 'unfair', 'damage', 'broken', 'fear', 'missing', 'no', 'no', 'not', 'not', 'suspect', 'old', 'poor', 'no', 'no', 'not', 'not', 'not', 'not', 'not', 'negative', 'shocking', 'not', 'no', 'hostile', 'hostile', 'not', 'not', 'not', 'not', 'not', 'never', 'never', 'no', 'poor', 'not', 'never', 'broken', 'upset', 'no', 'not', 'fear', 'hard', 'fear', 'not', 'hard', 'not', 'no', 'poor', 'not', 'no', 'sick', 'not', 'not', 'not', 'mean', 'not', 'not', 'not', 'no', 'not', 'not', 'not', 'not', 'no', 'no', 'not', 'not', 'not', 'not', 'criminal', 'not', 'hurt', 'no', 'not', 'fight', 'not', 'not', 'no', 'ignore', 'scare', 'not', 'horrible', 'not', 'not', 'not', 'not', 'not', 'not', 'not', 'mean', 'hate', 'no', 'not', 'wary', 'not', 'not', 'not', 'not', 'unwanted', 'pain', 'gruesome', 'no', 'never', 'never', 'not', 'never', 'awful', 'terrible', 'stupid', 'bad', 'not', 'not', 'no', 'not', 'no', 'not', 'collapse', 'not', 'never', 'never', 'never', 'not', 'not', 'no', 'not', 'no', 'hideous', 'no', 'no', 'no', 'scary', 'old', 'old', 'no', 'not', 'not', 'hard', 'not', 'never', 'never', 'not', 'oppressive', 'fear', 'never', 'fight', 'no', 'not', 'not', 'fight', 'not', 'not', 'not', 'not', 'evil', 'not', 'not', 'not', 'hard', 'not', 'hard', 'not', 'angry', 'not', 'never', 'dirty', 'suspect', 'suspicious', 'suspect', 'no', 'suspect', 'not', 'offensive', 'no', 'offensive', 'no', 'hurt', 'terrible', 'never', 'old', 'dead', 'no', 'depressed', 'not', 'hurt', 'negative', 'hurt', 'sad', 'never', 'never', 'sad', 'poor', 'ignore', 'not', 'no', 'not', 'no', 'no', 'evil', 'not', 'not', 'ignorant', 'dead', 'no', 'not', 'not', 'not', 'mean', 'not', 'not', 'not', 'not', 'upset', 'fight', 'fight', 'fight', 'not', 'no', 'no', 'no', 'old', 'old', 'not', 'not', 'not', 'not', 'no', 'not', 'not', 'fight', 'fight', 'not', 'fight', 'fight', 'not', 'never', 'not', 'sad', 'never', 'hate', 'hate', 'not', 'not', 'not', 'fight', 'never', 'never', 'not', 'nobody', 'hard', 'not', 'no', 'no', 'unfair', 'not', 'bad', 'never', 'never', 'sad', 'never', 'fight', 'cold', 'nobody', 'not', 'not', 'not', 'not', 'not', 'not', 'fight', 'not', 'not', 'no', 'not', 'not', 'not', 'not', 'negative', 'not', 'unfair', 'hard', 'bad', 'unfair', 'not', 'not', 'not', 'not', 'corrupt', 'negative', 'lose', 'lose', 'not', 'never', 'never', 'sorry', 'not', 'hard', 'not', 'not', 'no', 'offensive', 'shocking', 'hard', 'vice', 'never', 'not', 'broken', 'not', 'never', 'mean', 'never', 'never', 'never', 'not', 'not', 'not', 'mean', 'not', 'not', 'not', 'not', 'not', 'not', 'poor', 'not', 'no', 'not', 'not', 'mean', 'no', 'bad', 'not', 'hard', 'no', 'criminal', 'not', 'not', 'not', 'terrible', 'not', 'not', 'lose', 'not', 'hate', 'mean', 'fear', 'fight', 'fight', 'not', 'not', 'not', 'not', 'not', 'criminal', 'stupid', 'not', 'not', 'not', 'not', 'not', 'not', 'not', 'nobody', 'hurt', 'hard', 'hard', 'not', 'not', 'not', 'missing', 'not', 'not', 'not', 'not', 'not', 'not', 'dead', 'bad', 'no', 'not', 'damage', 'not', 'no', 'not', 'no', 'never', 'not', 'threatening', 'threatening', 'not', 'not', 'not', 'not', 'hard', 'confused', 'not', 'no', 'mean', 'not', 'hate', 'not', 'not', 'fear', 'no', 'never', 'no', 'no', 'crazy', 'terrible', 'negative', 'not', 'fight', 'hate', 'no', 'not', 'impossible', 'corrupt', 'vice', 'no', 'not', 'not', 'hate', 'disgusting', 'terrible', 'not', 'terrible', 'poor', 'fight', 'not', 'not', 'not', 'no', 'no', 'not', 'not', 'not', 'never', 'no', 'poor', 'not', 'poor', 'not', 'not', 'undermine', 'not', 'not', 'not', 'fight', 'not', 'not', 'not', 'not', 'not', 'hurt', 'damaging', 'broken', 'guilty', 'never', 'hard', 'collapse', 'no', 'contrary', 'unfair', 'no', 'criminal', 'not', 'not', 'not', 'not', 'not', 'never', 'not', 'bad', 'not', 'not', 'zero', 'not', 'not', 'negative', 'not', 'cutting', 'evil', 'quit', 'evil', 'sick', 'damaging', 'untoward', 'sad', 'bad', 'bad', 'bad', 'bad', 'never', 'disgusting', 'bad', 'not', 'not', 'not', 'not', 'hostile', 'not', 'not', 'not', 'not', 'reject', 'not', 'not', 'not', 'fight', 'fight', 'sick', 'not', 'not', 'old', 'not', 'lose', 'not', 'hostile', 'sick', 'hard', 'vice', 'ignore', 'questionable', 'criminal', 'not', 'not', 'never', 'no', 'not', 'not', 'terrible', 'no', 'no', 'no', 'hard', 'vice', 'corrupt', 'unfair', 'not', 'fight', 'no', 'no', 'not', 'fight', 'fight', 'no', 'no', 'lose', 'not', 'crazy', 'threatening', 'no', 'lose', 'angry', 'guilty', 'no', 'not', 'not', 'not', 'not', 'no', 'not', 'not', 'unpleasant', 'not', 'bad', 'not', 'not', 'damaging', 'not', 'not', 'not', 'criminal', 'criminal', 'no', 'nonsense', 'mean', 'not', 'no', 'not', 'boring', 'filthy', 'not', 'corrupt', 'not', 'negative', 'never', 'no', 'angry', 'not', 'not', 'unwanted', 'fear', 'not', 'not', 'no', 'bad', 'never', 'not', 'contrary', 'not', 'never', 'not', 'not', 'scare', 'vice', 'not', 'sad', 'not', 'not', 'cry', 'lose', 'not', 'not', 'not', 'not', 'negative', 'no', 'hate', 'not', 'repugnant', 'no', 'scare', 'collapse', 'not', 'vice', 'not', 'not', 'never', 'spring', 'never', 'not', 'not', 'no', 'negative', 'not', 'no', 'not', 'no', 'no', 'not', 'not', 'upset', 'negative', 'not', 'not', 'not', 'not', 'not', 'not', 'not', 'criminal', 'criminal', 'vice', 'vice', 'never', 'stupid', 'no', 'not', 'not', 'not', 'not', 'angry', 'angry', 'not', 'hate', 'hate', 'not', 'dishonest', 'not', 'never', 'not', 'fight', 'hard', 'not', 'never', 'negative', 'never', 'negative', 'not', 'not', 'fight', 'not', 'evil', 'hard', 'never', 'not', 'not', 'not', 'not', 'not', 'not', 'no', 'deny', 'not', 'corrupt', 'corrupt', 'never', 'not', 'disgusting', 'not', 'not', 'threatening', 'hostile', 'no', 'upset', 'lose', 'never', 'broken', 'broken', 'not', 'not', 'not', 'threatening', 'quit', 'not', 'fight', 'not', 'fight', 'not', 'fight', 'not', 'unfavorable', 'bad', 'unfavorable', 'unfavorable', 'rocky', 'rocky', 'deny', 'never', 'not', 'spring', 'no', 'lose', 'suspect', 'suspect', 'suspect', 'not', 'suspect', 'not', 'suspect', 'suspect', 'suspect', 'not', 'suspect', 'not', 'fear', 'not', 'old', 'hurt', 'not', 'suspicious', 'damage', 'no', 'no', 'suspicious', 'suspicious', 'not', 'nobody', 'terrifying', 'no', 'no', 'no', 'suspicious', 'criminal', 'terrible', 'not', 'not', 'hard', 'deny', 'fight', 'never', 'not', 'not', 'evil', 'not', 'never', 'not', 'no', 'not', 'gross', 'not', 'not', 'not', 'never', 'terrible', 'terrible', 'not', 'reject', 'not', 'bad', 'not', 'not', 'not', 'not', 'hate', 'reject', 'not', 'impossible', 'not', 'unwanted', 'no', 'negative', 'no', 'not', 'not', 'terrible', 'not', 'not', 'no', 'never', 'never', 'bad', 'fight', 'not', 'severe', 'not', 'never', 'bad', 'never', 'never', 'not', 'no', 'never', 'fight', 'vice', 'nobody', 'vice', 'not', 'no', 'vice', 'never', 'nobody', 'not', 'never', 'revolting', 'not', 'horrible', 'never', 'hate', 'not', 'not', 'not', 'not', 'dirty', 'no', 'dirty', 'dirty', 'no', 'not', 'never', 'never', 'not', 'deny', 'not', 'old', 'poor', 'hard', 'vice', 'not', 'no', 'angry', 'not', 'no', 'not', 'evil', 'evil', 'not', 'hard', 'upset', 'not', 'unhappy', 'nasty', 'not', 'old', 'hurt', 'vice', 'not', 'vice', 'not', 'no', 'never', 'horrible', 'not', 'not', 'hard', 'not', 'not', 'hard', 'no', 'nobody', 'not', 'not', 'fight', 'not', 'hard', 'disgusting', 'sad', 'old', 'not', 'not', 'no', 'not', 'not', 'not', 'bad', 'unfavorable', 'never', 'not', 'no', 'dead', 'not', 'mean', 'not', 'not', 'not', 'bad', 'no', 'dead', 'not', 'crazy', 'not', 'not', 'angry', 'not', 'dirty', 'sad', 'sorry', 'damage', 'no', 'never', 'no', 'not', 'not', 'hurt', 'not', 'not', 'hate', 'never', 'nobody', 'not', 'ignore', 'fear', 'never', 'guilty', 'not', 'dismal', 'missing', 'dead', 'guilty', 'not', 'guilty', 'not', 'not', 'poor', 'poor', 'never', 'terrible', 'poor', 'poor', 'poor', 'not', 'nobody', 'hard', 'fight', 'not', 'no', 'not', 'no', 'not', 'not', 'not', 'bad', 'not', 'shocking', 'sickening', 'impossible', 'rotten', 'cruel', 'not', 'not', 'never', 'no', 'dismal', 'not', 'cruel', 'vile', 'not', 'no', 'no', 'pain', 'poor', 'never', 'upset', 'bad', 'hate', 'broken', 'criminal', 'upset', 'poor', 'negative', 'bad', 'bad', 'bad', 'no', 'bad', 'not', 'lose', 'no', 'not', 'negative', 'not', 'no', 'not', 'inane', 'not', 'not', 'not', 'never', 'not', 'not', 'never', 'not', 'not', 'not', 'greed', 'not', 'severe', 'spring', 'not', 'lose', 'not', 'not', 'bad', 'bad', 'angry', 'not', 'unfair', 'not', 'not', 'bad', 'hate', 'not', 'hurt', 'never', 'not', 'bad', 'lose', 'never', 'lose', 'no', 'hurt', 'no', 'dishonest', 'threatening', 'not', 'mean', 'not', 'no', 'no', 'fear', 'not', 'no', 'no', 'not', 'fear', 'not', 'not', 'not', 'fight', 'never', 'never', 'not', 'not', 'never', 'no', 'sick', 'sick', 'nasty', 'not', 'fear', 'not', 'not', 'no', 'collapse', 'no', 'fight', 'nobody', 'never', 'not', 'no', 'not', 'not', 'not', 'not', 'not', 'fight', 'not', 'not', 'mean', 'hard', 'criminal', 'criminal', 'not', 'hostile', 'spring', 'not', 'not', 'old', 'no', 'not', 'deny', 'not', 'broken', 'criminal', 'not', 'threatening', 'hard', 'never', 'no', 'unjust', 'collapse', 'never', 'never', 'nonsense', 'no', 'sorry', 'not', 'never', 'never', 'not', 'not', 'not', 'no', 'no', 'not', 'not', 'not', 'vice', 'not', 'no', 'dirty', 'hard', 'horrible', 'no', 'upset', 'angry', 'not', 'no', 'not', 'not', 'not', 'never', 'angry', 'sorry', 'never', 'unfavorable', 'not', 'not', 'unpleasant', 'fight', 'not', 'fight', 'not', 'not', 'lose', 'never', 'never', 'fight', 'ignore', 'not', 'not', 'not', 'negative', 'not', 'bad', 'not', 'hate', 'no', 'poor', 'not', 'not', 'not', 'no', 'not', 'old', 'poor', 'bad', 'fight', 'not', 'dirty', 'dirty', 'not', 'dirty', 'never', 'dirty', 'dirty', 'sick', 'fight', 'no', 'no', 'no', 'not', 'damage', 'hard', 'nobody', 'bad', 'not', 'never', 'not', 'not', 'no', 'never', 'not', 'not', 'not', 'fight', 'not', 'not', 'not', 'not', 'never', 'not', 'not', 'hurt', 'hurt', 'lose', 'not', 'not', 'never', 'hate', 'scary', 'not', 'not', 'not', 'mean', 'not', 'not', 'no', 'no', 'not', 'not', 'not', 'not', 'not', 'not', 'not', 'lose', 'nobody', 'not', 'not', 'not', 'offensive', 'criminal', 'not', 'not', 'criminal', 'not', 'not', 'no', 'nobody', 'no', 'not', 'not', 'not', 'lose', 'not', 'fight', 'never', 'fight', 'nobody', 'not', 'not', 'not', 'not', 'criminal', 'not', 'hurt', 'not', 'not', 'criminal', 'not', 'nobody', 'no', 'negative', 'not', 'dishonest', 'dishonest', 'no', 'not', 'cry', 'no', 'nobody', 'dishonest', 'not', 'bad', 'never', 'bad', 'not', 'not', 'not', 'no', 'not', 'not', 'nobody', 'not', 'nobody', 'not', 'disgusting', 'not', 'dishonest', 'never', 'lose', 'not', 'nobody', 'deny', 'not', 'mean', 'bad', 'criminal', 'not', 'not', 'not', 'not', 'yell', 'no', 'no', 'not', 'no', 'no', 'mean', 'not', 'mean', 'no', 'insane', 'not', 'fight', 'no', 'bad', 'not', 'not', 'hurt', 'not', 'not', 'dead', 'no', 'never', 'not', 'vice', 'vice', 'not', 'not', 'no', 'not', 'no', 'never', 'no', 'no', 'hostile', 'collapse', 'fear', 'not', 'not', 'no', 'not', 'not', 'not', 'fear', 'not', 'not', 'not', 'not', 'guilty', 'hard', 'not', 'not', 'not', 'no', 'sorry', 'hate', 'no', 'corrupt', 'no', 'no', 'not', 'not', 'not', 'not', 'odious', 'not', 'not', 'not', 'not', 'no', 'severe', 'substandard', 'not', 'not', 'terrible', 'not', 'not', 'criminal', 'not', 'not', 'no', 'not', 'no', 'not', 'hard', 'damage', 'old', 'not', 'not', 'suspect', 'suspect', 'not', 'no', 'no', 'not', 'not', 'no', 'fight', 'nobody', 'not', 'not', 'no', 'no', 'no', 'no', 'dead', 'savage', 'dishonest', 'no', 'dishonest', 'never', 'not', 'never', 'reject', 'stupid', 'not', 'not', 'bad', 'no', 'no', 'no', 'no', 'not', 'not', 'bad', 'awful', 'fight', 'hate', 'hate', 'no', 'no', 'fight', 'not', 'no', 'criminal', 'no', 'grave', 'not', 'not', 'hard', 'not', 'horrible', 'fear', 'quit', 'quit', 'not', 'hostile', 'broken', 'not', 'criminal', 'fight', 'never', 'no', 'no', 'not', 'sorry', 'not', 'bad', 'corrupt', 'fight', 'no', 'not', 'not', 'no', 'not', 'not', 'not', 'not', 'old', 'bad', 'scary', 'no', 'not', 'fight', 'lose', 'never', 'quit', 'not', 'hostile', 'not', 'fight', 'no', 'no', 'unfavorable', 'unfavorable', 'unfavorable', 'not', 'no', 'not', 'not', 'not', 'not', 'not', 'not', 'nobody', 'lose', 'not', 'not', 'not', 'quit', 'not', 'not', 'nobody', 'not', 'not', 'not', 'not', 'not', 'not', 'not', 'not', 'not', 'not', 'poor', 'not', 'not', 'not', 'criminal', 'not', 'not', 'not', 'not', 'criminal', 'not', 'not', 'not', 'criminal', 'hard', 'not', 'not', 'not', 'not', 'not', 'not', 'lose', 'not', 'not', 'mean', 'no', 'hard', 'hard', 'never', 'not', 'not', 'bad', 'no', 'not', 'petty', 'never', 'petty', 'fight', 'not', 'nobody', 'not', 'not', 'never', 'not', 'disgusting', 'not', 'hate', 'lose', 'not', 'mean', 'not', 'bad', 'deny', 'quit', 'not', 'not', 'never', 'pessimistic', 'not', 'no', 'no', 'no', 'dead', 'sorry', 'mean', 'no', 'zero', 'nobody', 'not', 'hard', 'zero', 'zero', 'no', 'unfair', 'not', 'old', 'guilty', 'not', 'no', 'not', 'not', 'not', 'bad', 'not', 'corrupt', 'not', 'unfavorable', 'not', 'lose', 'sorry', 'not', 'not', 'unfair', 'unfair', 'not', 'not', 'no', 'fight', 'hard', 'not', 'not', 'missing', 'unfavorable', 'threatening', 'cold', 'not', 'appalling', 'deny', 'cutting', 'not', 'no', 'not', 'mean', 'not', 'not', 'not', 'not', 'not', 'not', 'not', 'no', 'corrupt', 'not', 'not', 'never', 'no', 'mean', 'not', 'not', 'threatening', 'severe', 'never', 'not', 'never', 'ill', 'ugly', 'not', 'not', 'impossible', 'no', 'damaging', 'unhealthy', 'not', 'sick', 'no', 'not', 'vice', 'fight', 'not', 'fight', 'broken', 'not', 'not', 'no', 'no', 'no', 'never', 'never', 'never', 'criminal', 'not', 'not', 'fear', 'not', 'mean', 'zero', 'fight', 'no', 'nobody', 'not', 'not', 'never', 'not', 'fear', 'fear', 'fear', 'no', 'not', 'never', 'never', 'bad', 'not', 'not', 'unfair', 'not', 'not', 'threatening', 'no', 'not', 'anxious', 'not', 'fear', 'never', 'fight', 'not', 'not', 'never', 'no', 'bad', 'not', 'not', 'not', 'not', 'fight', 'not', 'not', 'not', 'not', 'not', 'no', 'not', 'no', 'no', 'not', 'impossible', 'not', 'fight', 'not', 'fight', 'no', 'not', 'not', 'not', 'not', 'fight', 'no', 'cutting', 'not', 'undermine', 'fight', 'ugly', 'not', 'hard', 'never', 'hard', 'not', 'no', 'poor', 'never', 'no', 'never', 'not', 'not', 'not', 'sick', 'not', 'fight', 'evil', 'fight', 'damage', 'no', 'fear', 'not', 'hate', 'deny', 'not', 'not', 'not', 'not', 'not', 'mean', 'not', 'no', 'angry', 'not', 'stuck', 'not', 'scary', 'not', 'not', 'not', 'not', 'hate', 'nobody', 'no', 'hard', 'vicious', 'not', 'hard', 'not', 'hostile', 'not', 'not', 'not', 'not', 'not', 'not', 'no', 'not', 'hurt', 'hurt', 'lose', 'never', 'no', 'angry', 'not', 'not', 'not', 'no', 'fear', 'fear', 'not', 'not', 'no', 'not', 'no', 'fail', 'never', 'not', 'stupid', 'not', 'not', 'not', 'damage', 'not', 'not', 'ill', 'not', 'no', 'no', 'not', 'bad', 'not', 'terrible', 'not', 'not', 'no', 'fight', 'terrifying', 'not', 'never', 'not', 'shocking', 'no', 'not', 'lose', 'not', 'not', 'damage', 'upset', 'broken', 'not', 'unhappy', 'not', 'vice', 'damage', 'no', 'damage', 'shocking', 'never', 'hard', 'not', 'mean', 'corrupt', 'not', 'deny', 'broken', 'not', 'not', 'not', 'no', 'not', 'mean', 'not', 'not', 'not', 'not', 'not', 'mean', 'not', 'not', 'stupid', 'not', 'dirty', 'no', 'no', 'no', 'not', 'stupid', 'not', 'lose', 'not', 'not', 'not', 'not', 'not', 'not', 'not', 'harmful', 'not', 'not', 'angry', 'suspect', 'not', 'no', 'not', 'not', 'not', 'not', 'no', 'not', 'no', 'old', 'old', 'never', 'never', 'not', 'not', 'no', 'no', 'no', 'not', 'not', 'not', 'no', 'old', 'cutting', 'no', 'criminal', 'not', 'criminal', 'never', 'stupid', 'never', 'never', 'not', 'stupid', 'never', 'not', 'not', 'not', 'not', 'poor', 'not', 'not', 'no', 'hard', 'not', 'fight', 'not', 'not', 'criminal', 'not', 'not', 'broken', 'fight', 'no', 'anxious', 'no', 'no', 'pain', 'not', 'not', 'sorry', 'not', 'reject', 'not', 'deny', 'bad', 'revolting', 'terrible', 'terrible', 'not', 'hate', 'not', 'not', 'not', 'not', 'no', 'no', 'no', 'no', 'not', 'not', 'not', 'not', 'hurt', 'not', 'not', 'vice', 'not', 'questionable', 'ignorant', 'negative', 'not', 'not', 'not', 'not', 'bad', 'nobody', 'no', 'offensive', 'hurt', 'damage', 'not', 'vice', 'not', 'pain', 'nobody', 'not', 'not', 'not', 'not', 'not', 'never', 'not', 'not', 'nobody', 'no', 'fight', 'nobody', 'not', 'no', 'not', 'not', 'not', 'no', 'not', 'no', 'no', 'not', 'no', 'no', 'not', 'fight', 'hard', 'not', 'not', 'fight', 'never', 'fight', 'hard', 'not', 'not', 'hard', 'not', 'hard', 'not', 'fight', 'not', 'not', 'not', 'never', 'not', 'not', 'hard', 'not', 'not', 'upset', 'angry', 'hard', 'corrupt', 'not', 'broken', 'criminal', 'not', 'criminal', 'criminal', 'criminal', 'not', 'not', 'not', 'never', 'never', 'angry', 'not', 'reject', 'not', 'no', 'not', 'not', 'not', 'dead', 'not', 'dirty', 'not', 'sad', 'not', 'hard', 'not', 'hard', 'never', 'corrupt', 'not', 'no', 'not', 'not', 'not', 'lose', 'poor', 'terrible', 'not', 'lose', 'not', 'not', 'hard', 'not', 'criminal', 'never', 'not', 'not', 'not', 'not', 'not', 'bad', 'not', 'offensive', 'fight', 'not', 'crazy', 'not', 'no', 'not', 'not', 'not', 'not', 'bad', 'reject', 'not', 'missing', 'no', 'not', 'not', 'not', 'not', 'never', 'not', 'never', 'bad', 'not', 'not', 'deny', 'unhealthy', 'no', 'not', 'upset', 'undermine', 'not', 'hostile', 'hate', 'not', 'ignore', 'dishonest', 'not', 'vice', 'not', 'no', 'not', 'not', 'hurt', 'not', 'nobody', 'not', 'not', 'never', 'not', 'not', 'never', 'criminal', 'fear', 'mean', 'criminal', 'terrible', 'not', 'fight', 'not', 'no', 'no', 'undermine', 'no', 'not', 'not', 'bad', 'bad', 'not', 'not', 'missing', 'no', 'not', 'bad', 'no', 'not', 'dead', 'no', 'no', 'never', 'damage', 'damaging', 'deny', 'not', 'damaging', 'mean', 'never', 'fight', 'not', 'nobody', 'not', 'not', 'no', 'not', 'not', 'not', 'nasty', 'not', 'not', 'not', 'not', 'not', 'not', 'never', 'not', 'never', 'hurt', 'hurt', 'hard', 'not', 'threatening', 'not', 'not', 'nobody', 'dishonest', 'not', 'broken', 'no', 'not', 'not', 'reject', 'not', 'no', 'hostile', 'fight', 'not', 'suspect', 'not', 'collapse', 'no', 'collapse', 'scare', 'not', 'collapse', 'no', 'fear', 'old', 'awful', 'no', 'scare', 'not', 'not', 'not', 'not', 'ill', 'not', 'not', 'not', 'no', 'not', 'anxious', 'not', 'no', 'unfavorable', 'not', 'no', 'not', 'not', 'vice', 'no', 'vice', 'not', 'no', 'no', 'not', 'not', 'nobody', 'never', 'ignore', 'fear', 'nobody', 'stuck', 'not', 'no', 'not', 'vice', 'not', 'not', 'not', 'not', 'not', 'not', 'no', 'not', 'not', 'vice', 'not', 'not', 'not', 'not', 'no', 'not', 'dead', 'lousy', 'no', 'hate', 'no', 'hostile', 'angry', 'not', 'unfair', 'not', 'never', 'not', 'not', 'not', 'never', 'fail', 'not', 'not', 'bad', 'not', 'criminal', 'dead', 'dead', 'not', 'not', 'not', 'threatening', 'vice', 'not', 'not', 'fear', 'not', 'hurt', 'not', 'not', 'not', 'not', 'no', 'not', 'oppressive', 'not', 'upset', 'never', 'no', 'not', 'not', 'upset', 'pain', 'fight', 'not', 'not', 'not', 'suspect', 'not', 'not', 'not', 'not', 'not', 'no', 'not', 'not', 'not', 'not', 'dead', 'never', 'scary', 'no', 'no', 'not', 'suspicious', 'not', 'not', 'vicious', 'not', 'suspicious', 'not', 'not', 'not', 'not', 'fight', 'never', 'no', 'never', 'upset', 'upset', 'never', 'not', 'no', 'not', 'angry', 'vice', 'not', 'not', 'no', 'hurt', 'not', 'lose', 'not', 'not', 'not', 'not', 'not', 'mean', 'not', 'lose', 'not', 'not', 'quit', 'poor', 'old', 'not', 'no', 'stuck', 'not', 'no', 'vice', 'no', 'not', 'not', 'no', 'zero', 'not', 'not', 'not', 'not', 'reject', 'reject', 'not', 'monstrous', 'no', 'no', 'no', 'no', 'no', 'mean', 'mean', 'no', 'not', 'not', 'shocking', 'quit', 'not', 'no', 'no', 'never', 'never', 'hate', 'not', 'not', 'no', 'fight', 'sad', 'scare', 'hate', 'no', 'not', 'not', 'no', 'broken', 'not', 'no', 'terrible', 'not', 'hurt', 'not', 'not', 'not', 'not', 'not', 'mean', 'old', 'no', 'evil', 'no', 'never', 'never', 'not', 'not', 'nobody', 'nobody', 'not', 'not', 'not', 'hard', 'nobody', 'never', 'not', 'not', 'not', 'not', 'not', 'not', 'not', 'not', 'not', 'never', 'no', 'not', 'nobody', 'no', 'never', 'never', 'not', 'not', 'not', 'not', 'nobody', 'crazy', 'not', 'not', 'not', 'not', 'not', 'nobody', 'not', 'not', 'fight', 'not', 'not', 'not', 'nobody', 'not', 'not', 'not', 'not', 'unfavorable', 'not', 'terrible', 'missing', 'not', 'petty', 'disgusting', 'not', 'not', 'not', 'not', 'not', 'not', 'not', 'fight', 'fight', 'not', 'not', 'not', 'fight', 'fight', 'not', 'not', 'no', 'fight', 'not', 'not', 'contrary', 'no', 'fight', 'fight', 'hurt', 'angry', 'lose', 'faulty', 'not', 'ignore', 'damaging', 'not', 'lose', 'lose', 'fear', 'fear', 'not', 'not', 'not', 'not', 'missing', 'missing', 'not', 'hate', 'lose', 'not', 'unfavorable', 'not', 'not', 'not', 'not', 'damage', 'deny', 'not', 'no', 'no', 'not', 'stuck', 'fear', 'not', 'not', 'not', 'not', 'no', 'no', 'messy', 'not', 'hard', 'not', 'mean', 'unfavorable', 'unwieldy', 'not', 'angry', 'no', 'not', 'not', 'not', 'not', 'not', 'not', 'wary', 'not', 'no', 'fight', 'shocking', 'terrifying', 'not', 'criminal', 'not', 'not', 'not', 'nasty', 'no', 'nobody', 'not', 'no', 'not', 'not', 'not', 'never', 'not', 'not', 'never', 'not', 'not', 'cold', 'vice', 'zero', 'not', 'poor', 'criminal', 'undermine', 'not', 'mean', 'not', 'disgusting', 'no', 'never', 'not', 'not', 'not', 'never', 'never', 'no', 'not', 'not', 'not', 'missing', 'not', 'never', 'quit', 'hostile', 'sick', 'not', 'not', 'not', 'not', 'not', 'not', 'ignore', 'not', 'negative', 'mean', 'no', 'sick', 'apathy', 'not', 'not', 'no', 'not', 'not', 'not', 'lose', 'not', 'poor', 'not', 'not', 'not', 'evil', 'evil', 'not', 'no', 'never', 'fight', 'not', 'no', 'hard', 'not', 'rocky', 'not', 'lose', 'hate', 'no', 'not', 'not', 'suspect', 'hate', 'lose', 'no', 'not', 'quit', 'not', 'not', 'not', 'not', 'bad', 'angry', 'not', 'not', 'negative', 'negative', 'bad', 'not', 'never', 'never', 'not', 'not', 'stuck', 'not', 'lose', 'nobody', 'not', 'vice', 'hate', 'fight', 'hate', 'no', 'no', 'not', 'not', 'not', 'fight', 'not', 'not', 'deny', 'mean', 'never', 'deny', 'not', 'not', 'never', 'nobody', 'never', 'never', 'not', 'no', 'not', 'not', 'no', 'not', 'no', 'not', 'not', 'no', 'not', 'not', 'mean', 'not', 'sad', 'not', 'not', 'not', 'angry', 'no', 'no', 'hard', 'stupid', 'not', 'not', 'no', 'not', 'not', 'no', 'lose', 'not', 'negative', 'old', 'not', 'not', 'no', 'not', 'no', 'no', 'not', 'bad', 'fight', 'fight', 'not', 'guilty', 'nobody', 'not', 'hurt', 'not', 'no', 'nobody', 'hard', 'nobody', 'never', 'no', 'hostile', 'not', 'corrupt', 'not', 'criminal', 'no', 'not', 'not', 'never', 'never', 'no', 'not', 'no', 'not', 'not', 'not', 'bad', 'no', 'not', 'no', 'not', 'not', 'no', 'not', 'not', 'evil', 'evil', 'no', 'negative', 'alarming', 'mean', 'hate', 'poor', 'not', 'lose', 'hostile', 'never', 'no', 'no', 'not', 'hate', 'hate', 'not', 'spring', 'scream', 'not', 'vile', 'fight', 'no', 'spring', 'not', 'not', 'criminal', 'not', 'angry', 'no', 'no', 'bad', 'not', 'not', 'poor', 'no', 'shocking', 'never', 'not', 'shocking', 'not', 'not', 'not', 'no', 'no', 'corrupt', 'no', 'not', 'reject', 'zero', 'not', 'not', 'criminal', 'not', 'never', 'not', 'terrible', 'not', 'not', 'fear', 'fight', 'not', 'hard', 'not', 'angry', 'not', 'bad', 'lose', 'not', 'not', 'deny', 'deny', 'not', 'missing', 'not', 'not', 'bad', 'hurt', 'no', 'not', 'not', 'not', 'not', 'fight', 'not', 'evil', 'not', 'missing', 'missing', 'not', 'not', 'not', 'never', 'not', 'never', 'not', 'not', 'not', 'not', 'not', 'angry', 'no', 'upset', 'petty', 'nobody', 'terrible', 'hard', 'not', 'no', 'spring', 'not', 'not', 'not', 'not', 'never', 'not', 'not', 'not', 'not', 'not', 'lose', 'no', 'not', 'lose', 'lose', 'never', 'no', 'no', 'no', 'hostile', 'not', 'not', 'no', 'not', 'not', 'nasty', 'not', 'not', 'not', 'not', 'negative', 'fear', 'no', 'old', 'suspicious', 'fear', 'sobbing', 'no', 'suspicious', 'no', 'filthy', 'questionable', 'not', 'not', 'no', 'insane', 'hard', 'never', 'never', 'not', 'no', 'not', 'not', 'not', 'not', 'not', 'not', 'not', 'not', 'not', 'not', 'not', 'not', 'not', 'not', 'cutting', 'not', 'not', 'not', 'not', 'vice', 'undermine', 'not', 'vice', 'vice', 'upset', 'not', 'nobody', 'nobody', 'not', 'bad', 'never', 'not', 'not', 'not', 'not', 'not', 'bad', 'hard', 'offensive', 'not', 'missing', 'no', 'hate', 'naughty', 'fight', 'broken', 'never', 'old', 'old', 'no', 'no', 'sick', 'no', 'not', 'dead', 'never', 'bad', 'not', 'no', 'never', 'nobody', 'not', 'not', 'not', 'depressed', 'no', 'never', 'bad', 'no', 'never', 'not', 'corrupt', 'never', 'no', 'not', 'not', 'no', 'no', 'negative', 'not', 'dead', 'suspect', 'dont', 'not', 'dont', 'mean', 'mean', 'no', 'no', 'suspect', 'suspect', 'not', 'not', 'suspect', 'not', 'not', 'not', 'no', 'fear', 'no', 'not', 'dead', 'no', 'no', 'suspect', 'suspect', 'no', 'no', 'dead', 'fight', 'suspect', 'not', 'suspect', 'suspect', 'suspicious', 'not', 'nonsense', 'not', 'not', 'suspect', 'suspect', 'suspect', 'suspect', 'fear', 'not', 'not', 'suspect', 'dead', 'suspect', 'not', 'boring', 'terrible', 'wary', 'never', 'not', 'not', 'never', 'never', 'never', 'not', 'never', 'terrible', 'crazy', 'hard', 'hate', 'not', 'not', 'not', 'dirty', 'no', 'not', 'not', 'not', 'not', 'not', 'hate', 'fight', 'never', 'bad', 'not', 'bad', 'angry', 'angry', 'never', 'not', 'not', 'not', 'not', 'lose', 'negative', 'not', 'fight', 'fight', 'hard', 'not', 'hate', 'not', 'no', 'never', 'mean', 'not', 'upset', 'never', 'enraged', 'no', 'not', 'not', 'stuck', 'not', 'no', 'not', 'negative', 'not', 'not', 'not', 'not', 'not', 'not', 'old', 'not', 'not', 'bad', 'never', 'never', 'ill', 'not', 'not', 'not', 'not', 'offensive', 'angry', 'not', 'threatening', 'not', 'hard', 'cold', 'not', 'never', 'not', 'not', 'no', 'old', 'not', 'not', 'not', 'not', 'not', 'not', 'not', 'not', 'not', 'mean', 'not', 'not', 'not', 'not', 'not', 'not', 'hard', 'not', 'criminal', 'sorry', 'not', 'criminal', 'not', 'not', 'not', 'greed', 'never', 'not', 'not', 'not', 'not', 'hard', 'hard', 'not', 'not', 'mean', 'not', 'not', 'upset', 'corrupt', 'not', 'not', 'never', 'not', 'not', 'not', 'not', 'not', 'nobody', 'lose', 'not', 'not', 'nobody', 'not', 'hard', 'reject', 'terrible', 'terrible', 'unfavorable', 'not', 'not', 'upset', 'no', 'criminal', 'not', 'not', 'not', 'not', 'bad', 'not', 'hard', 'not', 'no', 'not', 'old', 'sobbing', 'not', 'not', 'not', 'revolting', 'no', 'never', 'not', 'shoddy', 'negative', 'lose', 'cold', 'not', 'not', 'not', 'not', 'not', 'negative', 'no', 'not', 'naive', 'not', 'not', 'not', 'not', 'not', 'no', 'not', 'not', 'no', 'not', 'not', 'not', 'never', 'never', 'not', 'not', 'not', 'not', 'fight', 'unfair', 'never', 'spring', 'upset', 'hard', 'no', 'not', 'not', 'not', 'not', 'never', 'not', 'not', 'not', 'angry', 'angry', 'not', 'not', 'hard', 'not', 'not', 'not', 'not', 'no', 'no', 'upset', 'fight', 'not', 'no', 'hostile', 'hostile', 'not', 'not', 'nobody', 'not', 'nobody', 'never', 'hard', 'never', 'never', 'not', 'not', 'not', 'corrupt', 'lose', 'contradictory', 'not', 'not', 'revolting', 'hate', 'not', 'poor', 'hurt', 'not', 'not', 'no', 'not', 'not', 'not', 'evil', 'not', 'never', 'vice', 'deny', 'terrible', 'not', 'no', 'not', 'petty', 'mean', 'lose', 'lose', 'lose', 'lose', 'not', 'not', 'lose', 'never', 'not', 'not', 'distress', 'bad', 'stuck', 'beneath', 'old', 'not', 'cold', 'old', 'not', 'not', 'fight', 'hard', 'not', 'not', 'no', 'hard', 'vice', 'not', 'not', 'not', 'not', 'not', 'not', 'upset', 'not', 'not', 'not', 'never', 'no', 'not', 'not', 'mean', 'ignore', 'never', 'not', 'no', 'crazy', 'not', 'not', 'hate', 'not', 'never', 'never', 'not', 'hard', 'ignore', 'not', 'not', 'not', 'not', 'not', 'not', 'menacing', 'not', 'no', 'undermine', 'not', 'not', 'hard', 'not', 'not', 'not', 'not', 'no', 'fight', 'fight', 'not', 'not', 'cold', 'not', 'not', 'not', 'fight', 'hurt', 'mean', 'nasty', 'not', 'not', 'not', 'not', 'vice', 'cold', 'not', 'nonsense', 'lose', 'not', 'quit', 'hostile', 'damage', 'not', 'no', 'not', 'no', 'not', 'not', 'not', 'not', 'not', 'not', 'sad', 'never', 'not', 'mean', 'not', 'never', 'never', 'not', 'criminal', 'not', 'not', 'not', 'not', 'not', 'not', 'not', 'no', 'not', 'not', 'sad', 'not', 'mean', 'not', 'no', 'no', 'no', 'foul', 'lose', 'abysmal', 'not', 'not', 'hostile', 'not', 'not', 'bad', 'hurt', 'not', 'no', 'bad', 'no', 'no', 'fight', 'not', 'not', 'bad', 'scare', 'not', 'not', 'cry', 'foul', 'fight', 'never', 'dead', 'not', 'angry', 'not', 'not', 'not', 'not', 'filthy', 'not', 'not', 'not', 'not', 'not', 'not', 'not', 'not', 'not', 'not', 'sad', 'dishonest', 'not', 'not', 'not', 'no', 'broken', 'never', 'ignore', 'not', 'not', 'mean', 'depressed', 'never', 'messy', 'fight', 'not', 'never', 'not', 'not', 'not', 'no', 'not', 'no', 'crazy', 'never', 'fight', 'vicious', 'not', 'never', 'not', 'bad', 'no', 'unfair', 'vice', 'guilty', 'not', 'no', 'not', 'not', 'not', 'not', 'not', 'poor', 'never', 'no', 'negative', 'no', 'no', 'not', 'not', 'not', 'not', 'not', 'beneath', 'beneath', 'hostile', 'dead', 'not', 'not', 'not', 'not', 'not', 'never', 'criminal', 'not', 'no', 'not', 'not', 'broken', 'not', 'bad', 'not', 'not', 'hard', 'not', 'vice', 'no', 'vice', 'no', 'not', 'bad', 'not', 'not', 'never', 'never', 'never', 'not', 'not', 'not', 'not', 'not', 'not', 'harmful', 'hate', 'suspect', 'severe', 'not', 'not', 'not', 'not', 'not', 'damage', 'no', 'not', 'not', 'corrosive', 'not', 'not', 'not', 'cutting', 'never', 'not', 'old', 'undermine', 'no', 'not', 'banal', 'criminal', 'criminal', 'shoddy', 'corrupt', 'not', 'not', 'not', 'lose', 'fight', 'fight', 'not', 'nobody', 'not', 'boring', 'hate', 'not', 'not', 'negative', 'fight', 'damage', 'not', 'missing', 'not', 'not', 'damaging', 'not', 'not', 'not', 'not', 'no', 'no', 'upset', 'not', 'injure', 'damage', 'damage', 'old', 'old', 'old', 'bad', 'not', 'not', 'not', 'no', 'not', 'not', 'not', 'not', 'evil', 'spring', 'not', 'not', 'not', 'wary', 'mean', 'not', 'sick', 'not', 'terrifying', 'never', 'bad', 'mean', 'bad', 'lose', 'cold', 'not', 'damage', 'no', 'no', 'no', 'no', 'mean', 'not', 'pain', 'no', 'not', 'not', 'no', 'not', 'not', 'no', 'no', 'not', 'not', 'not', 'not', 'not', 'not', 'not', 'dead', 'not', 'not', 'not', 'hurt', 'hurt', 'not', 'not', 'not', 'not', 'not', 'fight', 'not', 'not', 'not', 'not', 'not', 'not', 'not', 'unfair', 'not', 'hard', 'not', 'no', 'not', 'not', 'old', 'not', 'no', 'no', 'not', 'not', 'not', 'not', 'not', 'not', 'not', 'not', 'no', 'criminal', 'not', 'not', 'not', 'not', 'never', 'not', 'not', 'not', 'not', 'not', 'not', 'not', 'no', 'not', 'not', 'no', 'not', 'not', 'not', 'not', 'dead', 'dead', 'never', 'not', 'not', 'no', 'not', 'not', 'fight', 'not', 'not', 'not', 'not', 'hate', 'nobody', 'not', 'bad', 'no', 'not', 'not', 'never', 'never', 'not', 'never', 'no', 'bad', 'never', 'not', 'not', 'not', 'no', 'impossible', 'not', 'not', 'not', 'not', 'never', 'vicious', 'not', 'nobody', 'never', 'not', 'not', 'tense', 'not', 'dirty', 'sick', 'not', 'never', 'stupid', 'old', 'terrible', 'horrible', 'ugly', 'bad', 'not', 'no', 'not', 'fear', 'no', 'not', 'hate', 'not', 'no', 'not', 'not', 'not', 'not', 'not', 'noxious', 'damaging', 'bad', 'not', 'no', 'not', 'not', 'fear', 'scare', 'no', 'broken', 'broken', 'not', 'fail', 'not', 'no', 'sick', 'no', 'not', 'fight', 'no', 'reject', 'reject', 'reject', 'not', 'no', 'no', 'no', 'not', 'quirky', 'fear', 'no', 'not', 'not', 'never', 'hurt', 'no', 'not', 'not', 'guilty', 'not', 'not', 'no', 'never', 'poor', 'bad', 'not', 'not', 'not', 'hard', 'never', 'bad', 'not', 'dead', 'criminal', 'plain', 'criminal', 'not', 'cutting', 'never', 'never', 'ill', 'deplorable', 'never', 'not', 'not', 'never', 'no', 'never', 'not', 'no', 'not', 'not', 'not', 'not', 'not', 'fight', 'not', 'fight', 'hard', 'not', 'not', 'not', 'never', 'not', 'not', 'quit', 'never', 'zero', 'not', 'not', 'never', 'not', 'not', 'not', 'not', 'not', 'not', 'hurt', 'bad', 'not', 'not', 'dirty', 'not', 'no', 'not', 'not', 'ruthless', 'not', 'not', 'not', 'not', 'not', 'not', 'not', 'not', 'scare', 'not', 'not', 'hurt', 'unfair', 'not', 'not', 'poor', 'not', 'not', 'not', 'poor', 'poor', 'not', 'nobody', 'never', 'damage', 'not', 'poor', 'hurt', 'not', 'not', 'not', 'not', 'not', 'fight', 'no', 'foul', 'never', 'not', 'rude', 'rude', 'upset', 'negative', 'offensive', 'not', 'not', 'fight', 'not', 'no', 'not', 'not', 'not', 'deny', 'not', 'not', 'never', 'not', 'dishonest', 'jealous', 'corrupt', 'awful', 'not', 'insidious', 'horrendous', 'vicious', 'poor', 'unhealthy', 'undermine', 'not', 'not', 'not', 'quit', 'vice', 'never', 'not', 'old', 'not', 'vice', 'not', 'not', 'no', 'no', 'not', 'never', 'fight', 'disease', 'not', 'not', 'no', 'not', 'no', 'fail', 'hard', 'not', 'poor', 'monstrous', 'not', 'deny', 'old', 'never', 'old', 'not', 'never', 'never', 'not', 'not', 'quit', 'missing', 'poor', 'no', 'bad', 'bad', 'not', 'not', 'pain', 'not', 'fear', 'undermine', 'not', 'not', 'not', 'criminal', 'no', 'not', 'impossible', 'lose', 'not', 'not', 'not', 'not', 'never', 'never', 'not', 'no', 'not', 'zero', 'never', 'not', 'hard', 'not', 'hate', 'not', 'hate', 'malicious', 'lose', 'not', 'not', 'not', 'lose', 'not', 'never', 'not', 'no', 'contrary', 'not', 'unwanted', 'not', 'not', 'not', 'no', 'zero', 'not', 'not', 'not', 'no', 'criminal', 'not', 'not', 'never', 'fight', 'fight', 'not', 'not', 'never', 'mean', 'dead', 'not', 'not', 'no', 'bad', 'not', 'no', 'zero', 'not', 'undermine', 'undermine', 'not', 'crazy', 'fear', 'not', 'spring', 'not', 'not', 'revenge', 'no', 'not', 'not', 'hard', 'not', 'angry', 'deny', 'nasty', 'not', 'fight', 'never', 'fight', 'not', 'not', 'not', 'not', 'no', 'criminal', 'no', 'no', 'not', 'not', 'not', 'unfavorable', 'no', 'not', 'not', 'fail', 'fail', 'not', 'never', 'no', 'not', 'bad', 'not', 'not', 'no', 'fight', 'not', 'not', 'no', 'hate', 'no', 'no', 'no', 'no', 'not', 'no', 'no', 'horrible', 'impossible', 'not', 'not', 'no', 'not', 'not', 'not', 'not', 'not', 'missing', 'not', 'criminal', 'not', 'no', 'never', 'not', 'no', 'suspect', 'no', 'not', 'not', 'angry', 'unhappy', 'not', 'not', 'corrupt', 'disgusting', 'repulsive', 'revolting', 'sickening', 'no', 'not', 'never', 'never', 'mean', 'scary', 'fight', 'rocky', 'mean', 'not', 'not', 'never', 'not', 'not', 'not', 'not', 'not', 'upset', 'bad', 'not', 'not', 'no', 'reject', 'not', 'not', 'not', 'not', 'not', 'hate', 'unhappy', 'not', 'revolting', 'ugly', 'not', 'not', 'not', 'not', 'not', 'not', 'mean', 'awful', 'not', 'no', 'no', 'reject', 'no', 'lose', 'not', 'not', 'bad', 'negative', 'negative', 'not', 'fear', 'no', 'impossible', 'bad', 'hard', 'never', 'damage', 'not', 'criminal', 'not', 'not', 'not', 'not', 'not', 'not', 'not', 'not', 'naughty', 'evil', 'fight', 'never', 'not', 'not', 'not', 'not', 'not', 'no', 'not', 'not', 'no', 'not', 'disgusting', 'not', 'not', 'no', 'no', 'vice', 'vice', 'not', 'old', 'old', 'old', 'not', 'vice', 'never', 'vice', 'never', 'never', 'never', 'not', 'vice', 'zero', 'fear', 'no', 'not', 'not', 'not', 'no', 'no', 'no', 'not', 'no', 'no', 'not', 'not', 'not', 'no', 'no', 'never', 'no', 'not', 'never', 'not', 'deny', 'no', 'not', 'no', 'hard', 'hard', 'unfair', 'reject', 'not', 'not', 'not', 'old', 'not', 'not', 'crazy', 'vice', 'fight', 'not', 'hate', 'old', 'not', 'not', 'not', 'hurt', 'not', 'not', 'not', 'no', 'not', 'not', 'mean', 'not', 'lose', 'not', 'no', 'not', 'not', 'lose', 'not', 'never', 'never', 'no', 'poor', 'poor', 'not', 'not', 'not', 'not', 'not', 'offensive', 'no', 'not', 'offensive', 'bad', 'never', 'not', 'poor', 'corrupt', 'bad', 'not', 'lose', 'not', 'not', 'oppressive', 'not', 'bad', 'not', 'dead', 'not', 'ill', 'vice', 'not', 'suspect', 'never', 'not', 'hate', 'no', 'not', 'not', 'no', 'poor', 'not', 'not', 'not', 'not', 'never', 'not', 'not', 'not', 'broken', 'old', 'old', 'not', 'fear', 'not', 'not', 'not', 'not', 'nobody', 'not', 'savage', 'despicable', 'no', 'bad', 'guilty', 'not', 'no', 'not', 'not', 'not', 'not', 'criminal', 'criminal', 'boring', 'bad', 'abysmal', 'not', 'never', 'never', 'collapse', 'not', 'collapse', 'not', 'not', 'impossible', 'bad', 'no', 'no', 'evil', 'spring', 'not', 'not', 'not', 'angry', 'never', 'no', 'hard', 'fight', 'no', 'hard', 'no', 'not', 'hurt', 'hard', 'not', 'never', 'no', 'deplorable', 'not', 'not', 'not', 'not', 'bad', 'bad', 'corrupt', 'not', 'not', 'bad', 'no', 'not', 'not', 'not', 'hard', 'not', 'sick', 'not', 'hard', 'no', 'hate', 'not', 'not', 'yell', 'not', 'not', 'no', 'belligerent', 'hostile', 'hard', 'jealous', 'angry', 'nobody', 'not', 'bad', 'not', 'imperfect', 'fight', 'no', 'no', 'mean', 'not', 'not', 'not', 'hard', 'hard', 'not', 'no', 'not', 'mean', 'no', 'never', 'nobody', 'not', 'vice', 'lose', 'not', 'mean', 'not', 'horrible', 'not', 'no', 'broken', 'vile', 'upset', 'not', 'not', 'not', 'not', 'not', 'not', 'lose', 'no', 'not', 'not', 'negative', 'negative', 'not', 'no', 'not', 'not', 'hurt', 'hurt', 'never', 'not', 'not', 'not', 'not', 'no', 'vice', 'not', 'not', 'vice', 'fight', 'hate', 'not', 'not', 'vice', 'vice', 'not', 'never', 'dead', 'no', 'not', 'not', 'vice', 'not', 'not', 'no', 'no', 'not', 'not', 'mean', 'hate', 'not', 'not', 'never', 'not', 'not', 'negative', 'fight', 'nobody', 'not', 'not', 'angry', 'angry', 'no', 'nobody', 'hate', 'not', 'not', 'scare', 'not', 'mean', 'mean', 'not', 'mean', 'petty', 'not', 'not', 'no', 'not', 'not', 'unwanted', 'sad', 'hate', 'not', 'not', 'not', 'not', 'no', 'no', 'never', 'hostile', 'offensive', 'not', 'disease', 'not', 'greed', 'never', 'vice', 'nobody', 'never', 'not', 'never', 'not', 'bad', 'hard', 'not', 'never', 'never', 'rotten', 'not', 'never', 'corrupt', 'old', 'no', 'not', 'no', 'no', 'criminal', 'no', 'no', 'not', 'not', 'no', 'not', 'no', 'never', 'not', 'never', 'ignore', 'nobody', 'no', 'not', 'not', 'not', 'imperfect', 'not', 'evil', 'not', 'not', 'not', 'not', 'hurt', 'no', 'not', 'not', 'sobbing', 'not', 'not', 'not', 'no', 'no', 'no', 'no', 'not', 'never', 'never', 'no', 'suspect', 'impossible', 'no', 'unpleasant', 'not', 'lose', 'not', 'hurt', 'broken', 'not', 'missing', 'hard', 'not', 'not', 'not', 'not', 'not', 'not', 'no', 'dishonest', 'no', 'cold', 'no', 'not', 'negative', 'not', 'lose', 'not', 'not', 'hurt', 'lose', 'rocky', 'no', 'damage', 'not', 'no', 'not', 'not', 'impossible', 'hard', 'not', 'corrupt', 'fear', 'fear', 'nasty', 'fear', 'fear', 'fear', 'scare', 'not', 'no', 'not', 'no', 'offensive', 'not', 'not', 'criminal', 'not', 'disgusting', 'not', 'no', 'not', 'not', 'no', 'not', 'no', 'not', 'not', 'never', 'not', 'hate', 'not', 'no', 'not', 'not', 'hate', 'ignore', 'ignore', 'no', 'not', 'never', 'bad', 'severe', 'hard', 'not', 'bad', 'bad', 'negative', 'vice', 'guilty', 'guilty', 'never', 'undermine', 'not', 'never', 'not', 'suspect', 'cutting', 'not', 'sorry', 'undermine', 'no', 'not', 'not', 'not', 'not', 'not', 'hurt', 'not', 'bad', 'never', 'bad', 'never', 'never', 'not', 'never', 'fear', 'not', 'bad', 'not', 'not', 'not', 'no', 'dirty', 'dishonest', 'not', 'not', 'not', 'lose', 'no', 'never', 'no', 'no', 'no', 'not', 'not', 'never', 'not', 'hurt', 'not', 'not', 'hurt', 'not', 'not', 'nasty', 'broken', 'never', 'not', 'not', 'no', 'not', 'upset', 'not', 'hard', 'not', 'not', 'not', 'nobody', 'no', 'not', 'not', 'fight', 'not', 'not', 'not', 'not', 'not', 'lose', 'not', 'not', 'not', 'never', 'not', 'not', 'old', 'not', 'lose', 'not', 'not', 'not', 'no', 'not', 'not', 'not', 'not', 'not', 'not', 'corrupt', 'nobody', 'not', 'not', 'not', 'not', 'threatening', 'not', 'hate', 'no', 'not', 'not', 'lose', 'old', 'not', 'never', 'not', 'not', 'not', 'hurt', 'corrupt', 'never', 'not', 'never', 'never', 'never', 'no', 'not', 'hard', 'never', 'not', 'not', 'not', 'sorry', 'terrifying', 'contrary', 'not', 'no', 'not', 'not', 'not', 'not', 'not', 'not', 'not', 'sad', 'not', 'not', 'sad', 'sorry', 'no', 'hard', 'angry', 'not', 'undermine', 'not', 'zero', 'not', 'fear', 'never', 'never', 'not', 'disease', 'disease', 'fear', 'not', 'fight', 'not', 'not', 'nobody', 'not', 'no', 'fight', 'not', 'no', 'not', 'no', 'not', 'no', 'not', 'ignore', 'not', 'not', 'not', 'not', 'not', 'fight', 'no', 'criminal', 'not', 'nobody', 'poor', 'poor', 'terrible', 'not', 'never', 'not', 'vile', 'bad', 'stuck', 'stuck', 'not', 'not', 'not', 'nobody', 'fight', 'hard', 'not', 'not', 'bad', 'not', 'not', 'no', 'upset', 'not', 'no', 'fight', 'not', 'hate', 'no', 'not', 'not', 'fight', 'not', 'no', 'not', 'not', 'fight', 'no', 'no', 'never', 'not', 'scare', 'fight', 'criminal', 'mean', 'terrible', 'no', 'criminal', 'not', 'hard', 'quit', 'not', 'not', 'hard', 'old', 'not', 'bad', 'not', 'deny', 'lose', 'bad', 'no', 'damaging', 'prejudice', 'hate', 'ignorant', 'nobody', 'bad', 'harmful', 'never', 'hard', 'hard', 'no', 'not', 'not', 'stuck', 'never', 'no', 'nonsense', 'no', 'not', 'mean', 'never', 'prejudice', 'cruel', 'not', 'nasty', 'hate', 'never', 'never', 'hate', 'old', 'hate', 'prejudice', 'not', 'not', 'not', 'not', 'not', 'terrible', 'not', 'mean', 'nobody', 'disease', 'not', 'impossible', 'mean', 'impossible', 'not', 'zero', 'hard', 'not', 'no', 'threatening', 'not', 'fight', 'not', 'not', 'no', 'never', 'not', 'not', 'bad', 'bad', 'not', 'not', 'not', 'hard', 'not', 'no', 'cry', 'no', 'no', 'sick', 'no', 'no', 'unfair', 'not', 'no', 'not', 'not', 'not', 'not', 'no', 'no', 'mean', 'not', 'no', 'not', 'not', 'cruel', 'atrocious', 'not', 'not', 'guilty', 'not', 'never', 'nonsense', 'never', 'atrocious', 'no', 'hard', 'no', 'impossible', 'not', 'not', 'not', 'no', 'no', 'not', 'not', 'suspect', 'not', 'not', 'not', 'no', 'not', 'suspect', 'no', 'hurt', 'not', 'not', 'no', 'not', 'ugly', 'not', 'not', 'damage', 'not', 'no', 'no', 'not', 'spring', 'cutting', 'not', 'not', 'not', 'never', 'not', 'not', 'not', 'not', 'vice', 'no', 'no', 'no', 'not', 'not', 'not', 'not', 'no', 'not', 'no', 'no', 'no', 'no', 'no', 'no', 'offensive', 'offensive', 'offensive', 'beneath', 'not', 'no', 'not', 'no', 'unfavorable', 'not', 'criminal', 'never', 'not', 'not', 'unfavorable', 'no', 'horrible', 'not', 'no', 'not', 'never', 'not', 'never', 'never', 'no', 'no', 'nobody', 'not', 'not', 'criminal', 'criminal', 'criminal', 'criminal', 'criminal', 'guilty', 'no', 'not', 'never', 'not', 'not', 'mean', 'mean', 'not', 'not', 'yell', 'not', 'not', 'not', 'no', 'not', 'not', 'not', 'not', 'not', 'nobody', 'not', 'unfavorable', 'not', 'mean', 'not', 'not', 'not', 'no', 'bad', 'not', 'vice', 'fight', 'unwise', 'criminal', 'shocking', 'damage', 'not', 'not', 'not', 'reject', 'nobody', 'not', 'wound', 'no', 'not', 'hostile', 'never', 'not', 'not', 'crazy', 'nasty', 'not', 'not', 'not', 'nasty', 'zero', 'zero', 'zero', 'not', 'hard', 'petty', 'unwanted', 'vice', 'shocking', 'dismal', 'terrible', 'fight', 'not', 'not', 'not', 'not', 'not', 'hard', 'dead', 'negative', 'not', 'vice', 'not', 'offensive', 'offensive', 'offensive', 'no', 'offensive', 'no', 'no', 'broken', 'not', 'tense', 'not', 'never', 'never', 'unfair', 'not', 'no', 'no', 'no', 'old', 'vice', 'not', 'not', 'vice', 'not', 'never', 'never', 'never', 'lose', 'hard', 'not', 'not', 'never', 'not', 'fight', 'not', 'not', 'broken', 'not', 'not', 'lose', 'hurt', 'dishonest', 'bad', 'not', 'bad', 'damage', 'not', 'mean', 'not', 'not', 'not', 'no', 'no', 'not', 'not', 'not', 'hate', 'no', 'not', 'no', 'fight', 'fight', 'nobody', 'broken', 'fight', 'never', 'not', 'not', 'yell', 'hostile', 'hate', 'nobody', 'not', 'not', 'mean', 'not', 'not', 'not', 'horrible', 'lose', 'no', 'fight', 'never', 'not', 'not', 'not', 'not', 'not', 'not', 'not', 'not', 'not', 'bad', 'hard', 'not', 'not', 'no', 'lose', 'not', 'bad', 'nobody', 'hard', 'not', 'not', 'never', 'never', 'not', 'damage', 'fear', 'lose', 'lose', 'not', 'upset', 'not', 'not', 'vice', 'anxious', 'never', 'impossible', 'fear', 'stupid', 'not', 'criminal', 'criminal', 'not', 'angry', 'not', 'no', 'not', 'no', 'no', 'no', 'mean', 'unfavorable', 'stuck', 'not', 'impossible', 'mean', 'not', 'angry', 'angry', 'angry', 'old', 'never', 'never', 'not', 'not', 'not', 'never', 'never', 'no', 'never', 'not', 'not', 'not', 'not', 'not', 'not', 'no', 'no', 'not', 'bad', 'never', 'bad', 'never', 'not', 'not', 'not', 'not', 'not', 'undermine', 'bad', 'no', 'no', 'not', 'no', 'vice', 'negative', 'not', 'criminal', 'wary', 'hard', 'hard', 'no', 'not', 'no', 'negative', 'not', 'cutting', 'stuck', 'not', 'angry', 'no', 'not', 'unwanted', 'not', 'not', 'no', 'never', 'no', 'not', 'hard', 'not', 'bad', 'not', 'not', 'fail', 'vice', 'enraged', 'no'], 'Pam Key': ['not', 'mean', 'not', 'not', 'not', 'not', 'yell', 'not', 'yell', 'dead', 'dead', 'dead', 'not', 'not', 'not', 'lose', 'lose', 'not', 'crazy', 'crazy', 'crazy', 'no', 'not', 'not', 'not', 'fear', 'fear', 'not', 'not', 'not', 'not', 'haggard', 'not', 'ignore', 'damage', 'not', 'horrible', 'not', 'cutting', 'plain', 'not', 'not', 'no', 'no', 'not', 'bad', 'bad', 'never', 'never', 'no', 'not', 'never', 'not', 'nobody', 'not', 'old', 'never', 'upset', 'not', 'bad', 'no', 'not', 'sad', 'not', 'hard', 'never', 'enraged', 'angry', 'not', 'broken', 'no', 'no', 'nobody', 'not', 'not', 'never', 'lose', 'deny', 'lose', 'not', 'mean', 'not', 'ill', 'vice', 'ignore', 'ignore', 'bad', 'not', 'not', 'not', 'damaging', 'ignorant', 'ignorant', 'never', 'ignorant', 'ignorant', 'not', 'no', 'bad', 'not', 'not', 'no', 'not', 'not', 'not', 'no', 'not', 'impossible', 'vindictive', 'vindictive', 'hard', 'hard', 'not', 'mean', 'never', 'old', 'not', 'not', 'not', 'not', 'hostile', 'corrupt', 'not', 'fight', 'not', 'not', 'not', 'broken', 'not', 'not', 'not', 'not', 'not', 'no', 'not', 'not', 'not', 'no', 'no', 'lose', 'no', 'no', 'not', 'not', 'no', 'no', 'ill', 'not', 'not', 'old', 'hostile', 'never', 'not', 'not', 'not', 'not', 'not', 'never', 'no', 'not', 'not', 'no', 'no', 'no', 'no', 'not', 'hard', 'no', 'not', 'not', 'not', 'not', 'not', 'not', 'not', 'no', 'no', 'criminal', 'not', 'not', 'not', 'not', 'never', 'not', 'not', 'mean', 'nobody', 'not', 'not', 'not', 'not', 'not', 'not', 'not', 'not', 'not', 'not', 'fear', 'fear', 'hate', 'not', 'not', 'never', 'not', 'not', 'mean', 'belligerent', 'not', 'never', 'not', 'not', 'not', 'mean', 'not', 'not', 'hard', 'never', 'not', 'not', 'bad', 'not', 'questionable', 'not', 'not', 'not', 'not', 'not', 'not', 'not', 'not', 'suspect', 'not', 'not', 'confused', 'suspect', 'suspect', 'suspect', 'not', 'not', 'not', 'not', 'not', 'greed', 'not', 'appalling', 'not', 'no', 'not', 'not', 'not', 'not', 'not', 'not', 'not', 'poisonous', 'mean', 'fight', 'no', 'sick', 'old', 'not', 'not', 'not', 'not', 'not', 'not', 'not', 'not', 'hate', 'bad', 'not', 'not', 'nobody', 'never', 'never', 'not', 'no', 'not', 'no', 'old', 'not', 'not', 'no', 'not', 'fear', 'not', 'no', 'not', 'damage', 'not', 'not', 'not', 'not', 'not', 'upset', 'not', 'no', 'upset', 'not', 'mean', 'offensive', 'not', 'not', 'no', 'not', 'cutting', 'not', 'not', 'no', 'bad', 'mean', 'angry', 'not', 'lose', 'not', 'not', 'not', 'not', 'cry', 'not', 'cry', 'no', 'no', 'no', 'not', 'no', 'not', 'not', 'not', 'despicable', 'despicable', 'not', 'not', 'not', 'no', 'not', 'not', 'not', 'not', 'not', 'quit', 'not', 'not', 'not', 'not', 'not', 'not', 'not', 'no', 'no', 'no', 'not', 'damage', 'terrible', 'not', 'not', 'no', 'never', 'no', 'no', 'not', 'broken', 'no', 'confused', 'not', 'hard', 'not', 'hard', 'sad', 'not', 'not', 'criminal', 'never', 'not', 'not', 'not', 'no', 'not', 'no', 'damaging', 'undermine', 'not', 'not', 'broken', 'not', 'confused', 'beneath', 'not', 'nonsense', 'not', 'no', 'not', 'not', 'not', 'crazy', 'not', 'not', 'not', 'beneath', 'not', 'beneath', 'beneath', 'not', 'not', 'not', 'cry', 'not', 'bad', 'no', 'not', 'not', 'not', 'not', 'hard', 'not', 'not', 'no', 'cry', 'not', 'not', 'not', 'misunderstood', 'not', 'not', 'not', 'not', 'no', 'damaging', 'never', 'never', 'not', 'not', 'not', 'pain', 'not', 'terrible', 'poor', 'poor', 'never', 'no', 'not', 'not', 'not', 'lose', 'not', 'not', 'threatening', 'no', 'no', 'not', 'not', 'boring', 'hard', 'hate', 'hate', 'not', 'hate', 'no', 'hate', 'hate', 'not', 'not', 'not', 'not', 'not', 'not', 'not', 'not', 'old', 'not', 'not', 'not', 'no', 'not', 'not', 'never', 'not', 'fear', 'no', 'no', 'not', 'not', 'never', 'no', 'mean', 'not', 'not', 'not', 'not', 'not', 'not', 'not', 'not', 'not', 'mean', 'not', 'not', 'not', 'not', 'not', 'not', 'not', 'not', 'not', 'not', 'no', 'not', 'no', 'not', 'not', 'criminal', 'not', 'not', 'mean', 'criminal', 'mean', 'not', 'mean', 'no', 'not', 'dead', 'not', 'deny', 'no', 'ugly', 'hate', 'hate', 'not', 'not', 'hate', 'bad', 'distress', 'not', 'ugly', 'not', 'not', 'never', 'never', 'not', 'not', 'no', 'no', 'negative', 'not', 'not', 'not', 'not', 'mean', 'not', 'not', 'hard', 'lose', 'hard', 'upset', 'fight', 'angry', 'no', 'fight', 'not', 'not', 'no', 'not', 'not', 'not', 'not', 'bad', 'not', 'bad', 'fight', 'no', 'no', 'never', 'petty', 'not', 'not', 'not', 'not', 'not', 'never', 'not', 'not', 'bad', 'hard', 'hard', 'not', 'no', 'no', 'no', 'no', 'impossible', 'lose', 'not', 'not', 'not', 'hate', 'not', 'not', 'mean', 'not', 'no', 'not', 'not', 'not', 'criminal', 'vice', 'not', 'not', 'not', 'not', 'not', 'criminal', 'not', 'not', 'mean', 'no', 'no', 'not', 'not', 'not', 'not', 'no', 'no', 'untoward', 'not', 'criminal', 'no', 'no', 'no', 'no', 'no', 'no', 'not', 'criminal', 'criminal', 'not', 'not', 'not', 'no', 'no', 'not', 'not', 'not', 'zero', 'not', 'not', 'hard', 'not', 'not', 'criminal', 'not', 'no', 'no', 'not', 'never', 'vice', 'not', 'awful', 'bad', 'never', 'never', 'vice', 'ignore', 'not', 'not', 'upset', 'frightful', 'no', 'no', 'not', 'nobody', 'not', 'hard', 'mean', 'mean', 'missing', 'not', 'no', 'not', 'not', 'sad', 'not', 'never', 'insane', 'sorry', 'not', 'no', 'not', 'not', 'not', 'not', 'mean', 'not', 'bad', 'mean', 'not', 'bad', 'not', 'not', 'not', 'not', 'fight', 'not', 'not', 'mean', 'not', 'hostile', 'not', 'not', 'not', 'not', 'not', 'not', 'stuck', 'damage', 'bad', 'no', 'no', 'nobody', 'not', 'not', 'not', 'not', 'not', 'not', 'no', 'broken', 'not', 'bad', 'not', 'hard', 'not', 'not', 'no', 'not', 'not', 'mean', 'not', 'not', 'mean', 'not', 'not', 'never', 'not', 'severe', 'not', 'suspect', 'not', 'not', 'undermine', 'suspect', 'not', 'never', 'fight', 'not', 'no', 'undermine', 'undermine', 'never', 'grave', 'not', 'undermine', 'not', 'not', 'hard', 'ruthless', 'hard', 'threatening', 'not', 'no', 'not', 'not', 'hurt', 'not', 'not', 'not', 'adverse', 'never', 'not', 'not', 'no', 'not', 'not', 'negative', 'not', 'not', 'not', 'not', 'not', 'not', 'not', 'not', 'not', 'hate', 'hate', 'lose', 'not', 'not', 'not', 'never', 'not', 'not', 'hard', 'hard', 'not', 'hard', 'hard', 'not', 'not', 'not', 'not', 'not', 'not', 'not', 'not', 'not', 'not', 'never', 'not', 'not', 'sad', 'criminal', 'criminal', 'terrible', 'unfair', 'not', 'imperfect', 'not', 'hurt', 'not', 'hurt', 'not', 'no', 'no', 'not', 'never', 'not', 'not', 'not', 'not', 'ignore', 'not', 'weary', 'not', 'not', 'not', 'not', 'no', 'not', 'no', 'not', 'not', 'no', 'not', 'no', 'not', 'not', 'not', 'not', 'not', 'not', 'sad', 'not', 'mean', 'not', 'not', 'no', 'criminal', 'no', 'no', 'criminal', 'criminal', 'adverse', 'not', 'not', 'not', 'not', 'not', 'not', 'not', 'hard', 'impossible', 'not', 'criminal', 'negative', 'dishonest', 'not', 'dishonest', 'suspect', 'suspect', 'not', 'rocky', 'not', 'damage', 'not', 'no', 'not', 'not', 'no', 'no', 'no', 'shocking', 'mean', 'damaging', 'damaging', 'not', 'faulty', 'collapse', 'no', 'not', 'no', 'no', 'not', 'mean', 'not', 'no', 'undermine', 'not', 'not', 'bad', 'not', 'no', 'no', 'no', 'no', 'fight', 'not', 'not', 'no', 'not', 'criminal', 'no', 'not', 'not', 'ugly', 'not', 'not', 'not', 'not', 'not', 'not', 'not', 'not', 'lose', 'not', 'not', 'not', 'not', 'hostile', 'belligerent', 'not', 'hard', 'not', 'mean', 'terrible', 'not', 'not', 'not', 'no', 'not', 'not', 'not', 'no', 'bad', 'bad', 'not', 'hurt', 'no', 'no', 'not', 'no', 'no', 'not', 'insane', 'not', 'never', 'not', 'not', 'criminal', 'not', 'not', 'no', 'damage', 'not', 'not', 'nobody', 'lose', 'no', 'not', 'not', 'not', 'lose', 'not', 'not', 'not', 'no', 'never', 'never', 'not', 'not', 'mean', 'not', 'not', 'not', 'not', 'not', 'not', 'ignore', 'no', 'not', 'not', 'never', 'not', 'mean', 'not', 'not', 'cruel', 'not', 'not', 'not', 'not', 'not', 'not', 'hate', 'hate', 'hate', 'vice', 'not', 'not', 'hard', 'not', 'mean', 'not', 'fear', 'not', 'nobody', 'not', 'not', 'dishonest', 'bad', 'not', 'hate', 'bad', 'bad', 'fight', 'no', 'no', 'no', 'nobody', 'not', 'nobody', 'no', 'not', 'no', 'quit', 'criminal', 'not', 'mean', 'damage', 'not', 'hard', 'not', 'not', 'no', 'not', 'not', 'no', 'not', 'no', 'not', 'not', 'nobody', 'not', 'hard', 'not', 'not', 'not', 'hurt', 'not', 'not', 'not', 'not', 'vice', 'no', 'no', 'mean', 'not', 'no', 'no', 'not', 'not', 'never', 'impossible', 'no', 'never', 'no', 'not', 'hard', 'hard', 'no', 'quit', 'not', 'not', 'not', 'cutting', 'not', 'fight', 'not', 'reject', 'criminal', 'not', 'not', 'no', 'old', 'hostile', 'no', 'not', 'no', 'broken', 'mean', 'not', 'not', 'not', 'not', 'not', 'not', 'not', 'not', 'not', 'no', 'upset', 'no', 'not', 'negative', 'missing', 'not', 'hard', 'not', 'not', 'not', 'not', 'not', 'not', 'terrible', 'not', 'not', 'not', 'not', 'not', 'awful', 'hard', 'mean', 'not', 'not', 'not', 'fear', 'not', 'not', 'no', 'not', 'not', 'not', 'undermine', 'mean', 'hard', 'not', 'fight', 'not', 'not', 'not', 'never', 'not', 'not', 'not', 'not', 'not', 'not', 'mean', 'mean', 'never', 'never', 'never', 'no', 'not', 'hostile', 'not', 'not', 'no', 'no', 'not', 'not', 'not', 'not', 'not', 'not', 'not', 'not', 'not', 'no', 'evil', 'not', 'hard', 'not', 'not', 'not', 'not', 'not', 'not', 'not', 'not', 'suspicious', 'not', 'no', 'no', 'bad', 'negative', 'coarse', 'lose', 'negative', 'nobody', 'sad', 'not', 'terrible', 'terrible', 'mean', 'mean', 'not', 'guilty', 'no', 'not', 'no', 'not', 'not', 'fear', 'not', 'never', 'not', 'not', 'impossible', 'not', 'not', 'not', 'grotesque', 'not', 'not', 'not', 'not', 'no', 'not', 'not', 'not', 'not', 'not', 'not', 'never', 'unfair', 'hard', 'not', 'not', 'not', 'not', 'not', 'not', 'not', 'not', 'not', 'mean', 'mean', 'not', 'not', 'confused', 'bad', 'not', 'never', 'untoward', 'hard', 'not', 'not', 'not', 'not', 'not', 'not', 'not', 'no', 'fight', 'fight', 'no', 'no', 'fear', 'not', 'not', 'no', 'no', 'hard', 'poor', 'poor', 'confused', 'confused', 'fight', 'lose', 'not', 'fight', 'not', 'not', 'not', 'hate', 'no', 'hard', 'no', 'sorry', 'not', 'no', 'no', 'not', 'no', 'not', 'no', 'not', 'no', 'not', 'never', 'never', 'never', 'never', 'no', 'not', 'no', 'damaging', 'not', 'vice', 'not', 'not', 'not', 'no', 'not', 'no', 'not', 'not', 'no', 'no', 'angry', 'not', 'not', 'deny', 'deny', 'hard', 'not', 'mean', 'not', 'fight', 'no', 'quit', 'not', 'no', 'not', 'not', 'bad', 'never', 'never', 'nobody', 'not', 'no', 'mean', 'no', 'no', 'mean', 'no', 'lose', 'not', 'fail', 'never', 'not', 'not', 'dont', 'not', 'not', 'not', 'hurt', 'not', 'insane', 'not', 'hard', 'fight', 'not', 'not', 'hard', 'stuck', 'not', 'not', 'criminal', 'cruel', 'terrible', 'hard', 'not', 'not', 'reject', 'reject', 'sick', 'ill', 'sick', 'not', 'not', 'not', 'never', 'no', 'never', 'never', 'not', 'not', 'never', 'not', 'not', 'not', 'not', 'no', 'never', 'not', 'never', 'not', 'no', 'not', 'never', 'not', 'not', 'sorry', 'not', 'not', 'not', 'old', 'not', 'crazy', 'hard', 'mean', 'not', 'not', 'not', 'not', 'not', 'threatening', 'not', 'threatening', 'not', 'fail', 'fight', 'not', 'never', 'never', 'not', 'no', 'not', 'scare', 'not', 'wound', 'criminal', 'not', 'not', 'not', 'no', 'hurt', 'mean', 'vice', 'not', 'not', 'not', 'bad', 'not', 'reject', 'sorry', 'no', 'no', 'not', 'ignore', 'nobody', 'not', 'not', 'nobody', 'not', 'shocking', 'not', 'bad', 'bad', 'never', 'not', 'not', 'no', 'no', 'not', 'not', 'not', 'not', 'not', 'not', 'not', 'yell', 'not', 'negative', 'nasty', 'not', 'not', 'not', 'unfair', 'fight', 'fight', 'upset', 'no', 'hard', 'sick', 'not', 'hard', 'damaging', 'hurt', 'fail', 'prejudice', 'prejudice', 'no', 'not', 'no', 'hurt', 'not', 'not', 'not', 'never', 'never', 'not', 'unhappy', 'mean', 'not', 'not', 'not', 'vice', 'not', 'unhappy', 'no', 'not', 'bad', 'dishonest', 'dishonest', 'horrible', 'no', 'no', 'no', 'nobody', 'damage', 'no', 'bad', 'never', 'not', 'not', 'fight', 'hard', 'not', 'not', 'not', 'not', 'not', 'fight', 'hard', 'dead', 'no', 'not', 'not', 'not', 'hard', 'not', 'not', 'hard', 'not', 'not', 'hard', 'not', 'hard', 'hard', 'unhappy', 'old', 'not', 'no', 'not', 'not', 'not', 'not', 'not', 'not', 'not', 'not', 'no', 'not', 'sad', 'deny', 'not', 'not', 'not', 'not', 'never', 'not', 'not', 'not', 'no', 'nasty', 'unpleasant', 'not', 'nasty', 'not', 'not', 'not', 'boring', 'boring', 'hate', 'not', 'boring', 'not', 'nasty', 'not', 'suspect', 'not', 'not', 'not', 'not', 'not', 'reject', 'not', 'mean', 'mean', 'mean', 'mean', 'no', 'no', 'damage', 'never', 'ugly', 'sickening', 'never', 'never', 'no', 'not', 'not', 'no', 'not', 'not', 'not', 'not', 'hate', 'not', 'no', 'no', 'not', 'no', 'no', 'wicked', 'not', 'not', 'hard', 'not', 'no', 'not', 'foul', 'not', 'gross', 'never', 'not', 'confused', 'gross', 'no', 'not', 'not', 'criminal', 'hate', 'hate', 'not', 'not', 'no', 'not', 'lose', 'no', 'not', 'no', 'no', 'contrary', 'not', 'not', 'mean', 'not', 'not', 'not', 'not', 'old', 'sick', 'not', 'not', 'not', 'not', 'never', 'no', 'sick', 'sick', 'not', 'not', 'poor', 'not', 'not', 'never', 'old', 'not', 'criminal', 'not', 'not', 'unfavorable', 'stupid', 'not', 'not', 'not', 'not', 'no', 'not', 'not', 'not', 'no', 'not', 'not', 'not', 'mean', 'not', 'mean', 'no', 'not', 'no', 'mean', 'mean', 'no', 'not', 'not', 'hard', 'ignore', 'hard', 'ignore', 'hard', 'hard', 'not', 'not', 'no', 'not', 'not', 'not', 'not', 'not', 'mean', 'not', 'nobody', 'no', 'not', 'not', 'not', 'not', 'not', 'no', 'not', 'lose', 'mean', 'lose', 'mean', 'not', 'dishonest', 'no', 'dishonest', 'not', 'not', 'not', 'anxious', 'hard', 'scream', 'not', 'not', 'not', 'not', 'bad', 'not', 'not', 'not', 'not', 'not', 'bad', 'not', 'lose', 'not', 'no', 'not', 'not', 'not', 'no', 'not', 'hard', 'ugly', 'never', 'not', 'not', 'not', 'not', 'collapse', 'no', 'not', 'not', 'not', 'not', 'no', 'not', 'not', 'not', 'no', 'not', 'no', 'not', 'not', 'not', 'not', 'no', 'not', 'hard', 'no', 'not', 'not', 'not', 'fear', 'fear', 'not', 'never', 'not', 'fear', 'zero', 'not', 'not', 'questionable', 'not', 'not', 'yell', 'not', 'mean', 'not', 'no', 'never', 'vice', 'vice', 'never', 'never', 'nobody', 'nobody', 'vice', 'never', 'vice', 'vice', 'vice', 'angry', 'not', 'not', 'not', 'vice', 'not', 'not', 'no', 'not', 'guilty', 'not', 'not', 'evil', 'dead', 'not', 'not', 'not', 'not', 'not', 'not', 'appalling', 'no', 'suspect', 'no', 'not', 'not', 'awful', 'not', 'not', 'not', 'not', 'dead', 'hurt', 'hurt', 'hurt', 'not', 'vice', 'not', 'mean', 'mean', 'not', 'not', 'never', 'not', 'not', 'not', 'not', 'not', 'no', 'not', 'not', 'suspect', 'not', 'not', 'not', 'hard', 'not', 'never', 'dont', 'not', 'never', 'not', 'not', 'not', 'not', 'no', 'no', 'no', 'no', 'never', 'no', 'no', 'not', 'not', 'not', 'not', 'not', 'not', 'beneath', 'not', 'not', 'not', 'not', 'not', 'not', 'sorry', 'never', 'not', 'not', 'not', 'not', 'not', 'no', 'mean', 'hard', 'no', 'deny', 'not', 'no', 'no', 'not', 'awful', 'not', 'mean', 'not', 'not', 'damage', 'not', 'not', 'not', 'no', 'no', 'evil', 'not', 'no', 'not', 'hurt', 'undermine', 'not', 'bad', 'not', 'not', 'not', 'not', 'not', 'no', 'fight', 'no', 'not', 'no', 'no', 'not', 'no', 'mean', 'never', 'never', 'not', 'awful', 'awful', 'no', 'bad', 'not', 'not', 'no', 'not', 'not', 'not', 'not', 'not', 'not', 'not', 'never', 'never', 'nasty', 'no', 'questionable', 'nasty', 'never', 'undermine', 'poor', 'criminal', 'mean', 'no', 'never', 'never', 'not', 'not', 'not', 'mean', 'not', 'not', 'not', 'not', 'not', 'pain', 'impossible', 'impossible', 'angry', 'no', 'angry', 'not', 'offensive', 'angry', 'no', 'not', 'fight', 'not', 'not', 'not', 'not', 'never', 'no', 'not', 'not', 'no', 'not', 'undermine', 'hard', 'not', 'not', 'not', 'never', 'not', 'confused', 'never', 'not', 'not', 'not', 'crazy', 'not', 'no', 'never', 'nonsense', 'cry', 'never', 'no', 'not', 'hard', 'sick', 'no', 'bad', 'ugly', 'bad', 'not', 'horrendous', 'hard', 'not', 'not', 'not', 'never', 'hate', 'no', 'not', 'no', 'no', 'nobody', 'bad', 'deny', 'no', 'no', 'not', 'bad', 'never', 'not', 'no', 'not', 'no', 'not', 'not', 'not', 'not', 'not', 'nobody', 'reject', 'not', 'not', 'not', 'not', 'hard', 'not', 'not', 'not', 'vice', 'not', 'not', 'not', 'not', 'lose', 'bad', 'not', 'not', 'not', 'not', 'not', 'quit', 'dirty', 'not', 'horrible', 'hard', 'not', 'not', 'not', 'angry', 'fight', 'mean', 'mean', 'not', 'evil', 'not', 'not', 'not', 'not', 'not', 'not', 'not', 'not', 'not', 'not', 'hard', 'hard', 'fight', 'stupid', 'ignorant', 'stupid', 'old', 'ugly', 'not', 'not', 'not', 'not', 'not', 'not', 'mean', 'never', 'not', 'mean', 'stupid', 'fight', 'angry', 'no', 'no', 'no', 'fight', 'nonsense', 'no', 'terrible', 'scare', 'angry', 'not', 'nobody', 'angry', 'not', 'not', 'not', 'not', 'not', 'never', 'never', 'never', 'never', 'never', 'no', 'not', 'not', 'not', 'not', 'not', 'not', 'no', 'no', 'not', 'not', 'pain', 'not', 'not', 'not', 'not', 'not', 'not', 'hard', 'no', 'not', 'hurt', 'not', 'hurt', 'awful', 'not', 'not', 'not', 'not', 'not', 'not', 'crazy', 'hard', 'not', 'not', 'no', 'not', 'mean', 'cutting', 'not', 'not', 'not', 'not', 'never', 'not', 'not', 'offensive', 'hostile', 'hostile', 'mean', 'not', 'not', 'not', 'not', 'bad', 'no', 'not', 'not', 'not', 'never', 'not', 'not', 'not', 'vice', 'broken', 'angry', 'never', 'not', 'not', 'hard', 'grave', 'grave', 'not', 'not', 'grave', 'not', 'not', 'not', 'not', 'dont', 'not', 'not', 'not', 'not', 'ghastly', 'no', 'not', 'not', 'not', 'not', 'never', 'not', 'not', 'not', 'not', 'no', 'fight', 'hard', 'fight', 'not', 'suspect', 'not', 'old', 'hard', 'mean', 'fight', 'never', 'not', 'deplorable', 'not', 'not', 'not', 'not', 'not', 'not', 'no', 'not', 'not', 'not', 'not', 'hard', 'hard', 'odious', 'impossible', 'bad', 'not', 'not', 'no', 'no', 'not', 'never', 'hostile', 'not', 'not', 'terrible', 'never', 'negative', 'never', 'hard', 'hard', 'not', 'impossible', 'crazy', 'hard', 'not', 'hate', 'not', 'mean', 'mean', 'not', 'vice', 'not', 'not', 'not', 'not', 'nobody', 'not', 'not', 'bad', 'not', 'no', 'not', 'never', 'never', 'not', 'never', 'not', 'not', 'yell', 'not', 'not', 'hard', 'mean', 'not', 'hard', 'not', 'not', 'not', 'not', 'damaging', 'damaging', 'damaging', 'not', 'old', 'no', 'hurt', 'not', 'offensive', 'not', 'bad', 'not', 'not', 'offensive', 'not', 'not', 'not', 'never', 'nasty', 'not', 'not', 'nasty', 'not', 'no', 'no', 'no', 'no', 'not', 'vice', 'hard', 'not', 'deny', 'not', 'not', 'not', 'hate', 'not', 'hate', 'not', 'vicious', 'vicious', 'not', 'zero', 'no', 'no', 'not', 'not', 'no', 'bad', 'bad', 'bad', 'never', 'not', 'not', 'not', 'not', 'never', 'negative', 'not', 'never', 'not', 'not', 'not', 'not', 'not', 'not', 'fight', 'not', 'not', 'not', 'no', 'not', 'not', 'not', 'not', 'not', 'not', 'bad', 'not', 'not', 'not', 'not', 'not', 'shocking', 'vice', 'not', 'not', 'not', 'not', 'not', 'upset', 'not', 'not', 'not', 'not', 'not', 'never', 'hurt', 'not', 'not', 'not', 'not', 'hard', 'not', 'not', 'no', 'not', 'not', 'not', 'not', 'not', 'not', 'fight', 'no', 'not', 'not', 'crazy', 'not', 'not', 'never', 'hard', 'not', 'no', 'not', 'not', 'no', 'no', 'no', 'contrary', 'not', 'no', 'no', 'not', 'not', 'not', 'not', 'not', 'not', 'not', 'not', 'not', 'not', 'never', 'mean', 'not', 'no', 'not', 'not', 'not', 'never', 'not', 'no', 'not', 'not', 'not', 'not', 'never', 'hate', 'no', 'no', 'not', 'not', 'not', 'crazy', 'unfair', 'not', 'not', 'not', 'bad', 'mean', 'not', 'impossible', 'bad', 'not', 'not', 'not', 'never', 'bad', 'not', 'not', 'dishonest', 'not', 'bad', 'not', 'not', 'not', 'not', 'not', 'not', 'no', 'not', 'corrupt', 'not', 'not', 'not', 'not', 'no', 'ugly', 'fight', 'hard', 'not', 'not', 'dead', 'not', 'no', 'not', 'fear', 'vicious', 'hard', 'fight', 'not', 'nobody', 'nobody', 'no', 'no', 'not', 'nobody', 'never', 'mean', 'not', 'bad', 'disgusting', 'bad', 'bad', 'mean', 'not', 'not', 'not', 'not', 'not', 'not', 'contradictory', 'not', 'not', 'not', 'not', 'not', 'never', 'fight', 'horrible', 'ugly', 'not', 'not', 'not', 'not', 'not', 'not', 'not', 'not', 'plain', 'no', 'not', 'not', 'no', 'not', 'not', 'never', 'not', 'not', 'never', 'no', 'no', 'no', 'no', 'hostile', 'scream', 'no', 'not', 'not', 'no', 'no', 'sorry', 'no', 'sorry', 'awful', 'prejudice', 'never', 'never', 'not', 'hard', 'terrible', 'impossible', 'mean', 'mean', 'not', 'not', 'not', 'not', 'not', 'not', 'not', 'awful', 'cold', 'not', 'not', 'never', 'not', 'never', 'not', 'never', 'not', 'not', 'not', 'not', 'not', 'not', 'sick', 'no', 'no', 'not', 'scream', 'not', 'no', 'not', 'mean', 'not', 'not', 'reject', 'hurt', 'not', 'never', 'never', 'negative', 'not', 'not', 'not', 'not', 'not', 'not', 'hard', 'not', 'collapse', 'not', 'not', 'not', 'nasty', 'offensive', 'not', 'no', 'not', 'criminal', 'bad', 'not', 'not', 'not', 'no', 'angry', 'never', 'bad', 'not', 'bad', 'evil', 'evil', 'not', 'not', 'fight', 'never', 'not', 'never', 'not', 'hard', 'not', 'negative', 'not', 'not', 'hard', 'hate', 'no', 'mean', 'not', 'mean', 'unwanted', 'not', 'awful', 'mean', 'no', 'bad', 'mean', 'not', 'not', 'never', 'mean', 'mean', 'hard', 'angry', 'alarming', 'not', 'not', 'no', 'not', 'mean', 'no', 'not', 'not', 'lose', 'not', 'not', 'quit', 'suspect', 'not', 'questionable', 'not', 'rude', 'old', 'not', 'no', 'not', 'not', 'not', 'terrible', 'bad', 'bad', 'not', 'not', 'not', 'not', 'not', 'horrible', 'horrible', 'not', 'not', 'not', 'not', 'petty', 'threatening', 'fight', 'fight', 'no', 'disgusting', 'not', 'not', 'not', 'not', 'bad', 'not', 'not', 'bad', 'lose', 'not', 'terrible', 'suspicious', 'not', 'not', 'no', 'dirty', 'not', 'not', 'no', 'not', 'not', 'not', 'not', 'vice', 'not', 'not', 'mean', 'not', 'not', 'lose', 'not', 'no', 'bad', 'mean', 'not', 'not', 'upset', 'not', 'never', 'no', 'not', 'not', 'not', 'terrible', 'angry', 'not', 'no', 'no', 'not', 'not', 'not', 'not', 'hard', 'no', 'cold', 'not', 'not', 'not', 'never', 'not', 'terrible', 'not', 'not', 'not', 'not', 'not', 'not', 'not', 'not', 'not', 'not', 'bad', 'mean', 'not', 'mean', 'no', 'hard', 'no', 'no', 'not', 'not', 'horrible', 'no', 'no', 'no', 'not', 'not', 'contradictory', 'not', 'not', 'not', 'deny', 'not', 'not', 'not', 'not', 'not', 'not', 'naive', 'hurt', 'hurt', 'deprived', 'not', 'not', 'not', 'threatening', 'not', 'threatening', 'lose', 'fear', 'fear', 'fear', 'fear', 'sad', 'not', 'fear', 'not', 'not', 'not', 'not', 'not', 'hard', 'not', 'hard', 'not', 'never', 'no', 'poor', 'never', 'no', 'evil', 'evil', 'not', 'nobody', 'no', 'no', 'criminal', 'not', 'not', 'not', 'mean', 'hard', 'not', 'not', 'not', 'not', 'not', 'not', 'not', 'not', 'mean', 'never', 'negative', 'negative', 'mean', 'mean', 'mean', 'missing', 'not', 'no', 'never', 'not', 'not', 'fight', 'not', 'not', 'not', 'not', 'no', 'not', 'not', 'not', 'not', 'bad', 'nobody', 'not', 'not', 'mean', 'mean', 'not', 'not', 'hate', 'not', 'not', 'not', 'bad', 'bad', 'bad', 'bad', 'no', 'shocking', 'shocking', 'bad', 'not', 'unhappy', 'not', 'fight', 'fight', 'never', 'not', 'no', 'not', 'not', 'not', 'not', 'not', 'contrary', 'threatening', 'not', 'not', 'hate', 'not', 'not', 'no', 'no', 'not', 'not', 'not', 'fight', 'fear', 'not', 'mean', 'no', 'not', 'not', 'not', 'stuck', 'stuck', 'no', 'corrupt', 'not', 'no', 'not', 'not', 'not', 'no', 'bad', 'not', 'not', 'mean', 'not', 'no', 'no', 'not', 'not', 'not', 'mean', 'old', 'not', 'hard', 'no', 'not', 'corrupt', 'terrifying', 'no', 'corrupt', 'not', 'not', 'no', 'bad', 'not', 'not', 'not', 'unpleasant', 'not', 'corrupt', 'not', 'not', 'not', 'broken', 'criminal', 'not', 'not', 'not', 'suspect', 'not', 'no', 'never', 'not', 'not', 'fight', 'fight', 'bad', 'not', 'not', 'not', 'not', 'never', 'negative', 'lose', 'not', 'no', 'no', 'no', 'ignorant', 'not', 'not', 'not', 'not', 'hard', 'not', 'not', 'not', 'mean', 'not', 'no', 'no', 'no', 'not', 'hard', 'not', 'not', 'not', 'not', 'dead', 'dead', 'dead', 'not', 'not', 'not', 'not', 'not', 'not', 'not', 'not', 'not', 'not', 'never', 'never', 'not', 'hard', 'corrupt', 'ignorant', 'not', 'not', 'not', 'not', 'not', 'mean', 'mean', 'not', 'old', 'not', 'not', 'not', 'not', 'not', 'not', 'not', 'not', 'not', 'not', 'not', 'not', 'no', 'no', 'not', 'no', 'not', 'not', 'damage', 'not', 'not', 'not', 'angry', 'lose', 'not', 'not', 'not', 'hard', 'unfair', 'unfair', 'never', 'unhappy', 'not', 'never', 'not', 'bad', 'never', 'criminal', 'bad', 'crazy', 'not', 'bad', 'bad', 'not', 'hard', 'hard', 'hard', 'not', 'not', 'not', 'bad', 'mean', 'mean', 'ugly', 'reject', 'mean', 'upset', 'not', 'never', 'terrible', 'not', 'broken', 'mean', 'not', 'no', 'mean', 'mean', 'not', 'not', 'not', 'not', 'not', 'hate', 'hard', 'not', 'angry', 'reject', 'angry', 'reject', 'not', 'not', 'no', 'yell', 'scream', 'no', 'not', 'not', 'not', 'reject', 'contrary', 'hard', 'no', 'sad', 'no', 'no', 'hard', 'hard', 'not', 'not', 'not', 'not', 'never', 'never', 'criminal', 'not', 'criminal', 'criminal', 'hurt', 'never', 'not', 'guilty', 'not', 'bad', 'not', 'missing', 'not', 'not', 'mean', 'mean', 'not', 'not', 'not', 'mean', 'not', 'not', 'fight', 'mean', 'not', 'not', 'never', 'never', 'not', 'mean', 'no', 'awful', 'not', 'not', 'damage', 'vice', 'not', 'not', 'hard', 'not', 'vice', 'awful', 'no', 'not', 'vice', 'no', 'not', 'not', 'no', 'mean', 'not', 'not', 'no', 'petty', 'petty', 'nobody', 'nobody', 'not', 'mean', 'hard', 'not', 'not', 'not', 'not', 'not', 'not', 'not', 'not', 'not', 'not', 'no', 'not', 'not', 'not', 'not', 'not', 'not', 'not', 'fight', 'fight', 'fight', 'fight', 'guilty', 'not', 'not', 'not', 'not', 'not', 'not', 'not', 'not', 'hard', 'not', 'not', 'disgusting', 'disgusting', 'disgusting', 'not', 'no', 'disgusting', 'not', 'not', 'not', 'lose', 'vindictive', 'not', 'hard', 'no', 'mean', 'pain', 'not', 'not', 'not', 'not', 'not', 'mean', 'not', 'nobody', 'not', 'hard', 'mean', 'no', 'not', 'not', 'no', 'hard', 'not', 'not', 'hate', 'not', 'not', 'never', 'not', 'not', 'not', 'not', 'not', 'fear', 'fear', 'not', 'not', 'hate', 'criminal', 'not', 'not', 'no', 'not', 'not', 'not', 'negative', 'not', 'mean', 'not', 'no', 'not', 'not', 'not', 'hard', 'not', 'not', 'not', 'not', 'not', 'fight', 'not', 'not', 'hard', 'not', 'no', 'no', 'mean', 'hard', 'mean', 'no', 'mean', 'collapse', 'not', 'not', 'not', 'nobody', 'hard', 'not', 'fight', 'not', 'fight', 'fight', 'fight', 'fight', 'not', 'mean', 'deny', 'not', 'not', 'not', 'not', 'scream', 'not', 'bad', 'terrible', 'not', 'not', 'never', 'mean', 'nobody', 'sick', 'questionable', 'not', 'never', 'no', 'corrupt', 'ignore', 'criminal', 'not', 'not', 'not', 'not', 'not', 'not', 'contrary', 'not', 'not', 'not', 'not', 'no', 'contrary', 'not', 'not', 'not', 'not', 'angry', 'not', 'not', 'no', 'not', 'not', 'never', 'undermine', 'no', 'not', 'not', 'not', 'not', 'not', 'not', 'not', 'criminal', 'not', 'no', 'not', 'no', 'no', 'scary', 'not', 'fear', 'grave', 'corrupt', 'mean', 'corrupt', 'not', 'corrupt', 'no', 'fight', 'not', 'no', 'no', 'no', 'nonsense', 'insane', 'no', 'not', 'damaging', 'damaging', 'not', 'not', 'not', 'bad', 'not', 'zero', 'not', 'upset', 'not', 'crazy', 'not', 'not', 'not', 'not', 'no', 'no', 'not', 'not', 'never', 'broken', 'never', 'never', 'not', 'not', 'mean', 'never', 'not', 'never', 'sinister', 'fail', 'no', 'not', 'hard', 'hard', 'not', 'hard', 'not', 'no', 'bad', 'not', 'reject', 'not', 'not', 'lose', 'lose', 'lose', 'fight', 'old', 'no', 'not', 'dead', 'not', 'dead', 'dead', 'dead', 'not', 'belligerent', 'no', 'no', 'no', 'hard', 'not', 'vice', 'not', 'hard', 'never', 'not', 'not', 'rotten', 'not', 'not', 'not', 'not', 'not', 'not', 'not', 'not', 'no', 'no', 'evil', 'no', 'not', 'lose', 'scare', 'hate', 'scare', 'lose', 'not', 'not', 'no', 'not', 'not', 'not', 'not', 'not', 'not', 'no', 'no', 'no', 'not', 'no', 'nobody', 'no', 'stupid', 'disgusting', 'stupid', 'not', 'corrupt', 'not', 'not', 'disgusting', 'mean', 'no', 'mean', 'not', 'mean', 'bad', 'not', 'not', 'not', 'hurt', 'not', 'hurt', 'no', 'no', 'not', 'not', 'not', 'not', 'not', 'bad', 'bad', 'terrible', 'horrible', 'hurt', 'not', 'mean', 'not', 'nobody', 'broken', 'nobody', 'bad', 'not', 'no', 'offensive', 'scary', 'not', 'ugly', 'ugly', 'not', 'not', 'not', 'negative', 'not', 'not', 'not', 'vice', 'no', 'no', 'no', 'hurt', 'not', 'not', 'not', 'not', 'no', 'not', 'not', 'shocking', 'not', 'not', 'not', 'not', 'not', 'not', 'never', 'not', 'not', 'not', 'not', 'not', 'dead', 'belligerent', 'hostile', 'mean', 'not', 'no', 'no', 'no', 'terrible', 'terrible', 'never', 'never', 'never', 'not', 'not', 'missing', 'terrible', 'not', 'not', 'deny', 'not', 'not', 'not', 'not', 'not', 'not', 'no', 'not', 'not', 'yell', 'not', 'not', 'stupid', 'no', 'mean', 'no', 'no', 'not', 'no', 'dead', 'no', 'not', 'never', 'not', 'not', 'mean', 'not', 'dont', 'reject', 'fail', 'not', 'bad', 'no', 'terrible', 'no', 'horrible', 'horrible', 'no', 'nobody', 'not', 'not', 'not', 'horrible', 'not', 'not', 'not', 'not', 'not', 'not', 'not', 'never', 'not', 'never', 'not', 'not', 'sorry', 'lose', 'damaging', 'not', 'not', 'not', 'not', 'not', 'not', 'sad', 'not', 'mean', 'bad', 'not', 'not', 'not', 'hate', 'never', 'damage', 'damage', 'not', 'not', 'lose', 'not', 'greed', 'not', 'hard', 'deny', 'not', 'not', 'not', 'not', 'not', 'vice', 'no', 'not', 'not', 'not', 'never', 'old', 'old', 'old', 'not', 'not', 'hard', 'not', 'vice', 'not', 'no', 'not', 'not', 'not', 'not', 'not', 'no', 'not', 'not', 'not', 'not', 'not', 'damage', 'mean', 'not', 'hate', 'horrible', 'hate', 'offensive', 'poor', 'poor', 'sad', 'poor', 'not', 'poor', 'not', 'not', 'no', 'no', 'not', 'hate', 'not', 'not', 'not', 'not', 'not', 'not', 'not', 'not', 'not', 'not', 'never', 'reject', 'reject', 'not', 'not', 'not', 'not', 'old', 'fight', 'not', 'not', 'not', 'mean', 'not', 'not', 'not', 'reject', 'reject', 'no', 'not', 'not', 'not', 'not', 'hard', 'not', 'nasty', 'no', 'hate', 'no', 'not', 'bad', 'not', 'no', 'not', 'hate', 'not', 'no', 'not', 'not', 'old', 'no', 'no', 'not', 'reject', 'not', 'corrosive', 'old', 'not', 'not', 'reject', 'hate', 'mean', 'not', 'not', 'bad', 'ignorant', 'not', 'not', 'not', 'dead', 'not', 'never', 'questionable', 'nobody', 'nobody', 'no', 'mean', 'not', 'not', 'never', 'hard', 'not', 'not', 'not', 'not', 'no', 'not', 'not', 'not', 'not', 'upset', 'not', 'not', 'not', 'no', 'no', 'not', 'not', 'not', 'not', 'not', 'not', 'not', 'never', 'no', 'not', 'no', 'no', 'not', 'not', 'not', 'not', 'mean', 'not', 'not', 'not', 'not', 'not', 'not'], 'Charlie Spiering': ['not', 'no', 'not', 'reject', 'not', 'hate', 'hate', 'unhappy', 'hurt', 'not', 'not', 'reject', 'not', 'not', 'mean', 'deny', 'no', 'not', 'no', 'suspicious', 'no', 'broken', 'no', 'not', 'bad', 'bad', 'not', 'nobody', 'not', 'not', 'bad', 'never', 'cutting', 'not', 'not', 'fight', 'hard', 'fight', 'dead', 'criminal', 'deny', 'criminal', 'not', 'not', 'not', 'criminal', 'not', 'never', 'no', 'no', 'not', 'no', 'no', 'not', 'no', 'questionable', 'not', 'not', 'not', 'never', 'no', 'no', 'hard', 'horrible', 'not', 'fight', 'ugly', 'horrible', 'sad', 'hate', 'prejudice', 'no', 'not', 'not', 'not', 'no', 'not', 'not', 'cold', 'not', 'damage', 'hurt', 'not', 'damaging', 'damaging', 'hurt', 'hate', 'not', 'hate', 'despicable', 'criminal', 'hate', 'terrible', 'hate', 'alarming', 'hate', 'not', 'not', 'not', 'fight', 'cold', 'fight', 'fight', 'no', 'fight', 'no', 'fight', 'not', 'not', 'no', 'not', 'angry', 'awful', 'never', 'no', 'lose', 'crazy', 'not', 'deny', 'not', 'not', 'no', 'not', 'criminal', 'not', 'no', 'no', 'old', 'hurt', 'not', 'not', 'not', 'vicious', 'never', 'broken', 'not', 'not', 'damage', 'threatening', 'not', 'hard', 'lose', 'angry', 'dead', 'terrible', 'criminal', 'not', 'evil', 'angry', 'never', 'alarming', 'deny', 'hostile', 'reject', 'not', 'not', 'adverse', 'impossible', 'not', 'anxious', 'no', 'cutting', 'never', 'impossible', 'fight', 'not', 'bad', 'collapse', 'reject', 'no', 'hard', 'broken', 'not', 'never', 'not', 'poor', 'undermine', 'cutting', 'never', 'not', 'criminal', 'bad', 'not', 'hate', 'not', 'not', 'not', 'not', 'undermine', 'not', 'not', 'not', 'fear', 'not', 'mean', 'bad', 'not', 'not', 'not', 'not', 'not', 'bad', 'never', 'criminal', 'fight', 'fight', 'not', 'not', 'not', 'not', 'criminal', 'hard', 'not', 'no', 'not', 'wary', 'never', 'not', 'anxious', 'horrible', 'never', 'not', 'horrible', 'not', 'not', 'not', 'fight', 'not', 'no', 'horrendous', 'no', 'horrendous', 'hard', 'not', 'not', 'not', 'hard', 'dead', 'dead', 'dead', 'stuck', 'not', 'not', 'confused', 'not', 'old', 'dishonest', 'no', 'undermine', 'undermine', 'not', 'never', 'negative', 'never', 'negative', 'never', 'not', 'never', 'evil', 'evil', 'fight', 'angry', 'crazy', 'damaging', 'not', 'not', 'not', 'zero', 'no', 'cutting', 'not', 'not', 'not', 'not', 'not', 'criminal', 'not', 'not', 'not', 'not', 'not', 'not', 'missing', 'barbed', 'not', 'not', 'not', 'horrible', 'not', 'not', 'threatening', 'threatening', 'not', 'not', 'bad', 'not', 'bad', 'no', 'not', 'not', 'horrible', 'bad', 'not', 'sad', 'not', 'not', 'not', 'angry', 'hurt', 'wicked', 'not', 'anxious', 'fight', 'no', 'not', 'not', 'no', 'no', 'no', 'no', 'not', 'imperfect', 'old', 'never', 'no', 'not', 'not', 'not', 'not', 'not', 'not', 'evil', 'no', 'never', 'not', 'not', 'not', 'fight', 'evil', 'vile', 'not', 'not', 'not', 'not', 'not', 'not', 'never', 'no', 'fight', 'not', 'not', 'not', 'bad', 'no', 'old', 'hard', 'reject', 'not', 'broken', 'not', 'not', 'not', 'never', 'dishonest', 'negative', 'negative', 'criminal', 'criminal', 'not', 'bad', 'no', 'hostile', 'fight', 'upset', 'dishonest', 'no', 'not', 'no', 'ignore', 'not', 'not', 'not', 'not', 'collapse', 'not', 'no', 'sick', 'no', 'not', 'not', 'not', 'never', 'no', 'not', 'not', 'not', 'not', 'not', 'fail', 'not', 'not', 'not', 'not', 'not', 'not', 'not', 'cutting', 'damaging', 'cutting', 'never', 'poor', 'mean', 'not', 'no', 'crazy', 'no', 'mean', 'not', 'corrupt', 'not', 'not', 'not', 'no', 'no', 'not', 'fight', 'hard', 'fight', 'not', 'not', 'not', 'no', 'fight', 'not', 'no', 'old', 'old', 'not', 'never', 'old', 'fight', 'bad', 'sad', 'not', 'no', 'no', 'no', 'criminal', 'undermine', 'not', 'guilty', 'dishonest', 'not', 'not', 'threatening', 'not', 'suspect', 'no', 'not', 'fight', 'cry', 'not', 'not', 'no', 'not', 'impossible', 'bad', 'not', 'not', 'not', 'hard', 'dead', 'ignorant', 'not', 'not', 'not', 'not', 'unfair', 'fight', 'not', 'not', 'cutting', 'mean', 'fight', 'not', 'not', 'no', 'not', 'not', 'no', 'vice', 'mean', 'upset', 'not', 'not', 'not', 'not', 'not', 'never', 'nobody', 'not', 'fear', 'not', 'not', 'not', 'not', 'hurt', 'not', 'not', 'not', 'no', 'no', 'no', 'not', 'not', 'fight', 'not', 'not', 'not', 'not', 'reject', 'not', 'hate', 'hate', 'no', 'not', 'not', 'not', 'grave', 'no', 'no', 'not', 'no', 'not', 'bad', 'hostile', 'not', 'not', 'not', 'not', 'hate', 'not', 'never', 'fail', 'sick', 'evil', 'not', 'fight', 'not', 'fight', 'not', 'hate', 'not', 'reject', 'prejudice', 'not', 'not', 'no', 'not', 'not', 'criminal', 'not', 'not', 'not', 'bad', 'not', 'negative', 'not', 'ugly', 'ugly', 'not', 'not', 'not', 'not', 'not', 'not', 'not', 'not', 'not', 'not', 'never', 'damage', 'not', 'no', 'not', 'not', 'not', 'no', 'mean', 'undermine', 'no', 'no', 'no', 'not', 'not', 'not', 'not', 'lousy', 'unhappy', 'nobody', 'not', 'never', 'not', 'fight', 'hard', 'not', 'never', 'never', 'not', 'lose', 'no', 'not', 'negative', 'no', 'not', 'not', 'no', 'not', 'never', 'hard', 'not', 'not', 'not', 'never', 'mean', 'criminal', 'not', 'not', 'mean', 'mean', 'damage', 'not', 'no', 'not', 'no', 'not', 'not', 'not', 'not', 'corrupt', 'terrifying', 'not', 'fear', 'not', 'no', 'not', 'weary', 'not', 'not', 'not', 'not', 'not', 'not', 'no', 'imperfect', 'no', 'not', 'not', 'not', 'not', 'not', 'not', 'mean', 'not', 'not', 'not', 'not', 'not', 'no', 'never', 'never', 'not', 'not', 'fight', 'hard', 'not', 'not', 'threatening', 'no', 'not', 'malicious', 'not', 'no', 'not', 'hate', 'not', 'crazy', 'not', 'not', 'not', 'not', 'not', 'lose', 'no', 'not', 'not', 'not', 'bad', 'not', 'not', 'not', 'not', 'reject', 'lose', 'never', 'fight', 'not', 'not', 'not', 'not', 'never', 'not', 'reject', 'not', 'not', 'not', 'reject', 'offensive', 'old', 'old', 'old', 'fight', 'fight', 'fight', 'not', 'fight', 'never', 'not', 'angry', 'hard', 'hard', 'not', 'no', 'not', 'pain', 'never', 'disgusting', 'no', 'not', 'not', 'not', 'not', 'hate', 'hate', 'not', 'bad', 'not', 'not', 'not', 'negative', 'not', 'not', 'mean', 'not', 'hard', 'not', 'not', 'not', 'nobody', 'nobody', 'sad', 'no', 'awful', 'not', 'no', 'no', 'reject', 'disgusting', 'repugnant', 'not', 'not', 'not', 'not', 'not', 'not', 'not', 'not', 'sick', 'lose', 'not', 'not', 'not', 'not', 'contrary', 'not', 'not', 'not', 'not', 'not', 'not', 'mean', 'not', 'not', 'hard', 'not', 'mean', 'no', 'never', 'not', 'not', 'not', 'not', 'no', 'not', 'not', 'terrible', 'not', 'rude', 'offensive', 'hard', 'not', 'not', 'no', 'negative', 'no', 'not', 'not', 'negative', 'negative', 'not', 'not', 'not', 'not', 'no', 'no', 'fight', 'not', 'fear', 'hard', 'hard', 'bad', 'not', 'not', 'not', 'not', 'not', 'nasty', 'not', 'nasty', 'not', 'not', 'not', 'petty', 'no', 'ignore', 'no', 'no', 'bad', 'lose', 'no', 'no', 'not', 'reject', 'not', 'never', 'not', 'not', 'not', 'no', 'negative', 'not', 'not', 'never', 'fight', 'no', 'not', 'bad', 'bad', 'shocking', 'upset', 'never', 'not', 'not', 'not', 'fear', 'angry', 'upset', 'not', 'not', 'confused', 'suspect', 'hard', 'threatening', 'not', 'not', 'angry', 'not', 'not', 'mean', 'mean', 'negative', 'not', 'dishonest', 'not', 'disease', 'not', 'no', 'not', 'hard', 'not', 'oppressive', 'crazy', 'not', 'not', 'not', 'not', 'not', 'old', 'not', 'eroding', 'never', 'not', 'not', 'not', 'not', 'not', 'not', 'no', 'never', 'never', 'not', 'not', 'not', 'fear', 'sinister', 'fear', 'fear', 'evil', 'fear', 'not', 'fear', 'not', 'hurt', 'reject', 'not', 'bad', 'not', 'no', 'not', 'not', 'never', 'not', 'not', 'not', 'not', 'bad', 'negative', 'no', 'ignore', 'not', 'not', 'zero', 'distress', 'grave', 'not', 'no', 'never', 'not', 'hard', 'not', 'not', 'nonsense', 'angry', 'nobody', 'not', 'cutting', 'not', 'not', 'not', 'not', 'never', 'no', 'not', 'no', 'sad', 'not', 'boring', 'boring', 'boring', 'hard', 'never', 'not', 'not', 'no', 'no', 'no', 'no', 'not', 'not', 'reject', 'not', 'not', 'hurt', 'not', 'vicious', 'ignorant', 'not', 'oppressive', 'damage', 'angry', 'no', 'not', 'not', 'not', 'no', 'bad', 'not', 'not', 'not', 'reject', 'no', 'fight', 'never', 'not', 'not', 'not', 'never', 'not', 'horrible', 'not', 'not', 'hard', 'no', 'no', 'deny', 'deny', 'never', 'not', 'no', 'not', 'not', 'criminal', 'fight', 'fight', 'not', 'not', 'not', 'not', 'not', 'not', 'not', 'not', 'angry', 'not', 'fear', 'not', 'not', 'not', 'not', 'never', 'not', 'no', 'not', 'damage', 'hard', 'not', 'not', 'not', 'anxious', 'not', 'not', 'not', 'objectionable', 'not', 'criminal', 'not', 'not', 'no', 'no', 'no', 'fight', 'fight', 'no', 'fight', 'not', 'not', 'revenge', 'not', 'criminal', 'criminal', 'not', 'not', 'damage', 'hard', 'hard', 'not', 'not', 'not', 'unfavorable', 'quit', 'not', 'not', 'not', 'not', 'sad', 'no', 'no', 'criminal', 'no', 'no', 'not', 'not', 'hurt', 'nasty', 'terrible', 'not', 'upset', 'upset', 'not', 'not', 'not', 'not', 'not', 'hard', 'not', 'not', 'not', 'not', 'not', 'angry', 'not', 'not', 'not', 'broken', 'not', 'hard', 'not', 'not', 'reject', 'not', 'not', 'not', 'not', 'upset', 'no', 'disease', 'not', 'not', 'hard', 'hard', 'not', 'not', 'sad', 'ignorant', 'dirty', 'cold', 'stupid', 'cold', 'stupid', 'gross', 'gross', 'no', 'no', 'dirty', 'dirty', 'messy', 'not', 'not', 'not', 'fight', 'fight', 'terrible', 'nasty', 'odious', 'offensive', 'filthy', 'hate', 'upset', 'fight', 'ignore', 'upset', 'hurt', 'sad', 'hate', 'sad', 'bad', 'bad', 'terrible', 'not', 'not', 'not', 'mean', 'not', 'mean', 'terrifying', 'not', 'not', 'reject', 'not', 'appalling', 'plain', 'no', 'bad', 'fight', 'ignorant', 'suspect', 'not', 'negative', 'not', 'scare', 'scare', 'not', 'offensive', 'not', 'fight', 'poisonous', 'not', 'corrupt', 'nasty', 'questionable', 'not', 'dishonorable', 'pain', 'bad', 'no', 'misunderstood', 'threatening', 'callous', 'not', 'not', 'no', 'no', 'hurt', 'not', 'not', 'no', 'threatening', 'no', 'not', 'unfavorable', 'unfavorable', 'old', 'never', 'not', 'not', 'not', 'not', 'not', 'lose', 'hard', 'not', 'cutting', 'not', 'old', 'scare', 'negative', 'corrupt', 'not', 'never', 'not', 'not', 'not', 'scare', 'not', 'ignore', 'not', 'not', 'not', 'not', 'crazy', 'not', 'not', 'no', 'hard', 'not', 'criminal', 'hurt', 'threatening', 'not', 'grave', 'anxious', 'not', 'impossible', 'no', 'angry', 'no', 'not', 'not', 'hard', 'not', 'poor', 'not', 'poor', 'not', 'no', 'negative', 'negative', 'damage', 'not', 'never', 'nobody', 'no', 'nobody', 'fight', 'not', 'not', 'hard', 'no', 'not', 'not', 'no', 'not', 'not', 'not', 'dismal', 'no', 'not', 'not', 'not', 'not', 'not', 'angry', 'not', 'not', 'angry', 'not', 'not', 'not', 'not', 'not', 'not', 'not', 'negative', 'not', 'horrible', 'not', 'no', 'no', 'shocking', 'damage', 'not', 'never', 'hard', 'not', 'negative', 'not', 'never', 'not', 'not', 'angry', 'not', 'not', 'not', 'evil', 'fail', 'scare', 'not', 'not', 'not', 'not', 'no', 'not', 'not', 'suspect', 'not', 'hurt', 'fear', 'undermine', 'sorry', 'hate', 'fear', 'fear', 'not', 'not', 'severe', 'not', 'never', 'quit', 'never', 'not', 'unhappy', 'not', 'not', 'not', 'bad', 'no', 'fear', 'nasty', 'ugly', 'not', 'not', 'not', 'suspicious', 'not', 'not', 'not', 'no', 'no', 'not', 'not', 'dead', 'not', 'not', 'not', 'not', 'not', 'fight', 'hard', 'zero', 'not', 'poor', 'sad', 'sad', 'angry', 'terrible', 'fear', 'not', 'fight', 'collapse', 'never', 'never', 'not', 'not', 'never', 'not', 'fight', 'scary', 'not', 'not', 'broken', 'not', 'not', 'not', 'not', 'lose', 'never', 'not', 'damage', 'nobody', 'nobody', 'not', 'not', 'unfavorable', 'unfavorable', 'unfavorable', 'not', 'not', 'not', 'not', 'terrible', 'not', 'not', 'not', 'fight', 'no', 'not', 'not', 'not', 'angry', 'not', 'not', 'not', 'not', 'not', 'impossible', 'no', 'not', 'not', 'never', 'not', 'bad', 'no', 'not', 'not', 'grave', 'fight', 'not', 'unfavorable', 'not', 'anxious', 'not', 'poor', 'never', 'not', 'never', 'not', 'never', 'not', 'shocking', 'not', 'not', 'not', 'bad', 'fight', 'old', 'fear', 'no', 'not', 'not', 'never', 'bad', 'not', 'not', 'not', 'mean', 'not', 'not', 'hard', 'not', 'poor', 'criminal', 'criminal', 'not', 'bad', 'no', 'not', 'no', 'not', 'not', 'not', 'not', 'fight', 'confused', 'not', 'not', 'hostile', 'hurt', 'zero', 'no', 'anxious', 'no', 'not', 'not', 'not', 'not', 'hostile', 'not', 'not', 'upset', 'not', 'not', 'alarming', 'not', 'no', 'never', 'no', 'not', 'not', 'not', 'not', 'not', 'not', 'harmful', 'not', 'not', 'not', 'not', 'not', 'not', 'not', 'not', 'not', 'threatening', 'lose', 'lose', 'not', 'not', 'fear', 'fear', 'fear', 'evil', 'not', 'never', 'never', 'never', 'never', 'sorry', 'not', 'no', 'not', 'not', 'not', 'not', 'no', 'not', 'not', 'poor', 'hard', 'not', 'not', 'fight', 'not', 'not', 'not', 'not', 'not', 'bad', 'not', 'not', 'not', 'vice', 'no', 'no', 'no', 'angry', 'hurt', 'not', 'not', 'not', 'never', 'no', 'no', 'no', 'fight', 'angry', 'nobody', 'hurt', 'not', 'criminal', 'not', 'never', 'no', 'not', 'lose', 'not', 'not', 'not', 'not', 'not', 'vice', 'never', 'never', 'old', 'old', 'no', 'not', 'fight', 'not', 'not', 'messy', 'angry', 'not', 'messy', 'suspect', 'bad', 'not', 'not', 'fight', 'no', 'not', 'bad', 'not', 'upset', 'bad', 'no', 'cutting', 'cutting', 'no', 'not', 'fear', 'not', 'not', 'not', 'not', 'anxious', 'hard', 'not', 'not', 'no', 'reject', 'never', 'never', 'not', 'fail', 'not', 'fail', 'not', 'not', 'not', 'not', 'no', 'old', 'hard', 'not', 'not', 'not', 'scare', 'not', 'not', 'not', 'ignore', 'no', 'no', 'not', 'no', 'criminal', 'fight', 'no', 'not', 'no', 'no', 'hate', 'hate', 'hate', 'hate', 'not', 'never', 'never', 'never', 'never', 'no', 'not', 'bad', 'not', 'not', 'negative', 'not', 'evil', 'never', 'boring', 'not', 'not', 'never', 'not', 'not', 'hard', 'hard', 'not', 'not', 'never', 'wicked', 'terrible', 'bad', 'fight', 'fight', 'no', 'not', 'not', 'not', 'not', 'not', 'not', 'not', 'not', 'not', 'angry', 'not', 'severe', 'greed', 'not', 'not', 'ignore', 'not', 'not', 'not', 'not', 'not', 'never', 'not', 'not', 'no', 'fight', 'never', 'collapse', 'scare', 'never', 'not', 'hard', 'not', 'no', 'hard', 'no', 'no', 'not', 'bad', 'not', 'fight', 'fight', 'not', 'fight', 'fight', 'mean', 'hard', 'never', 'not', 'hard', 'vice', 'no', 'not', 'lose', 'not', 'impossible', 'not', 'threatening', 'bad', 'not', 'not', 'hostile', 'not', 'collapse', 'criminal', 'not', 'not', 'damaging', 'not', 'not', 'lose', 'old', 'hard', 'not', 'no', 'not', 'contrary', 'not', 'unhealthy', 'not', 'hate', 'negative', 'bad', 'hurt', 'not', 'crazy', 'not', 'not', 'not', 'broken', 'not', 'not', 'no', 'not', 'not', 'never', 'never', 'never', 'not', 'not', 'not', 'not', 'not', 'not', 'stupid', 'not', 'suspect', 'not', 'not', 'not', 'not', 'never', 'no', 'negative', 'fight', 'not', 'not', 'not', 'not', 'not', 'no', 'not', 'fight', 'not', 'not', 'no', 'no', 'not', 'not', 'worthless', 'lousy', 'not', 'not', 'not', 'not', 'not', 'not', 'not', 'not', 'not', 'not', 'not', 'not', 'vice', 'cutting', 'not', 'not', 'not', 'not', 'nobody', 'never', 'never', 'fight', 'fight', 'not', 'not', 'not', 'not', 'hurt', 'not', 'not', 'harmful', 'no', 'not', 'mean', 'not', 'mean', 'terrifying', 'not', 'not', 'hurt', 'threatening', 'upset', 'not', 'mean', 'hate', 'hate', 'nasty', 'nasty', 'not', 'not', 'not', 'nasty', 'not', 'not', 'not', 'not', 'no', 'not', 'rocky', 'hard', 'broken', 'not', 'not', 'damage', 'not', 'angry', 'not', 'deny', 'not', 'damaging', 'not', 'not', 'not', 'not', 'contradictory', 'never', 'disease', 'threatening', 'not', 'not', 'never', 'lose', 'never', 'never', 'not', 'never', 'not', 'not', 'not', 'not', 'not', 'not', 'not', 'not', 'not', 'not', 'not', 'not', 'dirty', 'not', 'not', 'not', 'not', 'not', 'bad', 'appalling', 'not', 'sickening', 'threatening', 'damage', 'fight', 'not', 'not', 'not', 'cry', 'not', 'never', 'not', 'not', 'no', 'no', 'not', 'fight', 'fight', 'scream', 'fight', 'fight', 'nobody', 'fight', 'scream', 'fight', 'fight', 'nobody', 'fight', 'fight', 'fight', 'fight', 'nobody', 'fight', 'fight', 'not', 'never', 'no', 'upset', 'no', 'not', 'not', 'not', 'hard', 'not', 'no', 'no', 'not', 'not', 'not', 'criminal', 'lose', 'never', 'never', 'not', 'never', 'revenge', 'never', 'not', 'not', 'not', 'scare', 'not', 'not', 'not', 'not', 'vice', 'not', 'not', 'no', 'never', 'smelly', 'no', 'not', 'poor', 'not', 'not', 'not', 'not', 'cold', 'not', 'not', 'not', 'cold', 'cold', 'deny', 'bad', 'not', 'not', 'sorry', 'bad', 'old', 'hard', 'no', 'not', 'not', 'not', 'not', 'not', 'no', 'no', 'no', 'not', 'not', 'not', 'not', 'no', 'not', 'never', 'not', 'hard', 'no', 'hard', 'no', 'not', 'not', 'not', 'not', 'terrible', 'negative', 'negative', 'not', 'negative', 'not', 'not', 'unhappy', 'no', 'terrible', 'terrible', 'stupid', 'fear', 'not', 'not', 'never', 'no', 'no', 'fear', 'not', 'not', 'not', 'mean', 'ignore', 'mean', 'not', 'not', 'not', 'hard', 'not', 'not', 'unfair', 'crazy', 'not', 'not', 'not', 'not', 'gross', 'bad', 'not', 'not', 'not', 'fight', 'not', 'impossible', 'not', 'not', 'bad', 'not', 'criminal', 'no', 'not', 'not', 'not', 'not', 'not', 'lose', 'hard', 'not', 'no', 'not', 'not', 'not', 'not', 'not', 'not', 'not', 'not', 'angry', 'not', 'not', 'lose', 'messy', 'not', 'not', 'vice', 'not', 'never', 'never', 'not', 'lose', 'hard', 'no', 'no', 'not', 'suspicious', 'collapse', 'sickening', 'hate', 'mean', 'broken', 'ugly', 'not', 'fight', 'broken', 'angry', 'no', 'crazy', 'not', 'never', 'never', 'never', 'vicious', 'fear', 'not', 'not', 'not', 'ruthless', 'not', 'reject', 'fear', 'not', 'not', 'never', 'never', 'not', 'not', 'not', 'old', 'not', 'no', 'nobody', 'not', 'upset', 'fight', 'fight', 'not', 'not', 'not', 'nobody', 'no', 'not', 'bad', 'negative', 'bad', 'not', 'never', 'not', 'angry', 'not', 'not', 'not', 'not', 'not', 'scare', 'not', 'not', 'lose', 'no', 'not', 'no', 'no', 'not', 'no', 'no', 'no', 'not', 'not', 'not', 'never', 'not', 'not', 'not'], 'Jerome Hudson': ['not', 'ignore', 'deny', 'crazy', 'no', 'not', 'not', 'not', 'angry', 'never', 'not', 'no', 'not', 'no', 'mean', 'never', 'vile', 'not', 'not', 'no', 'sad', 'sad', 'terrible', 'sad', 'not', 'not', 'fight', 'not', 'not', 'disgusting', 'no', 'disgusting', 'disgusting', 'deny', 'old', 'hard', 'broken', 'not', 'not', 'yell', 'old', 'no', 'threatening', 'never', 'not', 'deny', 'mean', 'angry', 'sad', 'not', 'no', 'no', 'no', 'no', 'not', 'not', 'not', 'not', 'not', 'no', 'not', 'no', 'no', 'offensive', 'not', 'not', 'not', 'sick', 'negative', 'poor', 'cruel', 'not', 'not', 'never', 'not', 'no', 'hard', 'not', 'not', 'old', 'not', 'old', 'offensive', 'not', 'ugly', 'offensive', 'awful', 'not', 'old', 'sad', 'not', 'fight', 'undermine', 'oppressive', 'fight', 'not', 'hard', 'not', 'not', 'not', 'sinister', 'no', 'questionable', 'not', 'poor', 'never', 'not', 'bad', 'mean', 'negative', 'not', 'no', 'offensive', 'poor', 'no', 'not', 'no', 'nonsense', 'no', 'not', 'not', 'sorry', 'not', 'not', 'bad', 'not', 'not', 'criminal', 'criminal', 'not', 'not', 'no', 'not', 'not', 'fear', 'not', 'not', 'never', 'not', 'hard', 'fight', 'not', 'not', 'not', 'no', 'not', 'hard', 'not', 'vice', 'not', 'not', 'not', 'terrible', 'terrible', 'bad', 'bad', 'bad', 'not', 'poor', 'poor', 'poor', 'spring', 'spring', 'never', 'not', 'awful', 'not', 'not', 'no', 'not', 'not', 'not', 'zero', 'nonsense', 'not', 'fear', 'not', 'bad', 'not', 'not', 'fight', 'missing', 'vice', 'not', 'not', 'never', 'not', 'not', 'not', 'not', 'no', 'broken', 'fight', 'not', 'not', 'old', 'no', 'pain', 'never', 'harmful', 'old', 'ignore', 'never', 'never', 'no', 'sad', 'sad', 'sad', 'dishonest', 'no', 'mean', 'bad', 'not', 'not', 'hate', 'hard', 'not', 'old', 'bad', 'lose', 'not', 'not', 'shocking', 'bad', 'not', 'evil', 'never', 'sick', 'not', 'angry', 'never', 'not', 'angry', 'never', 'not', 'not', 'mean', 'not', 'not', 'not', 'alarming', 'not', 'not', 'fear', 'not', 'fear', 'never', 'not', 'sorry', 'not', 'sorry', 'not', 'not', 'bad', 'evil', 'not', 'not', 'not', 'cry', 'prejudice', 'horrible', 'threatening', 'stupid', 'ignorant', 'negative', 'not', 'filthy', 'grave', 'no', 'not', 'not', 'not', 'fight', 'not', 'not', 'lose', 'fight', 'fight', 'fight', 'fight', 'fight', 'fight', 'not', 'broken', 'not', 'not', 'not', 'not', 'not', 'nasty', 'terrible', 'mean', 'no', 'not', 'not', 'not', 'not', 'stupid', 'stupid', 'not', 'broken', 'hostile', 'old', 'ignorant', 'not', 'never', 'not', 'not', 'not', 'not', 'never', 'never', 'never', 'never', 'not', 'never', 'hurt', 'not', 'never', 'disgusting', 'never', 'fear', 'not', 'not', 'fight', 'not', 'not', 'mean', 'not', 'not', 'not', 'not', 'not', 'not', 'not', 'never', 'old', 'weary', 'not', 'never', 'never', 'no', 'not', 'damage', 'hurt', 'alarming', 'not', 'nonsense', 'not', 'not', 'hate', 'never', 'awful', 'not', 'not', 'never', 'not', 'no', 'not', 'not', 'mean', 'no', 'no', 'not', 'not', 'no', 'offensive', 'not', 'crazy', 'not', 'no', 'no', 'no', 'old', 'not', 'old', 'not', 'no', 'corrupt', 'creepy', 'disgusting', 'creepy', 'never', 'not', 'not', 'not', 'not', 'damage', 'not', 'not', 'not', 'no', 'not', 'no', 'not', 'fight', 'fear', 'not', 'no', 'mean', 'not', 'not', 'bad', 'not', 'never', 'hurt', 'not', 'angry', 'not', 'bad', 'not', 'not', 'suspect', 'no', 'not', 'no', 'no', 'no', 'not', 'lose', 'lose', 'lose', 'pain', 'never', 'no', 'not', 'not', 'broken', 'no', 'not', 'not', 'fear', 'not', 'not', 'not', 'hate', 'no', 'hate', 'never', 'crazy', 'not', 'broken', 'sad', 'not', 'not', 'not', 'not', 'hard', 'villainous', 'not', 'bad', 'hard', 'no', 'not', 'not', 'offensive', 'offensive', 'contrary', 'atrocious', 'no', 'not', 'terrifying', 'never', 'hard', 'not', 'never', 'never', 'not', 'not', 'not', 'ignorant', 'not', 'hurtful', 'never', 'not', 'never', 'no', 'no', 'not', 'not', 'not', 'not', 'hurt', 'not', 'missing', 'not', 'never', 'not', 'not', 'fear', 'not', 'never', 'cry', 'negative', 'fight', 'zero', 'poor', 'old', 'smelly', 'corrupt', 'not', 'not', 'spring', 'not', 'revenge', 'no', 'no', 'no', 'not', 'not', 'horrible', 'not', 'not', 'not', 'not', 'no', 'not', 'not', 'disgusting', 'not', 'not', 'not', 'never', 'awful', 'old', 'not', 'hard', 'vice', 'hard', 'not', 'no', 'never', 'not', 'enraged', 'not', 'not', 'not', 'not', 'not', 'no', 'not', 'threatening', 'stupid', 'ignorant', 'negative', 'not', 'old', 'bad', 'old', 'old', 'not', 'no', 'not', 'not', 'not', 'not', 'not', 'not', 'not', 'never', 'not', 'not', 'not', 'not', 'not', 'not', 'not', 'not', 'not', 'never', 'not', 'mean', 'fight', 'not', 'not', 'sad', 'not', 'dead', 'dead', 'cutting', 'not', 'hurt', 'never', 'cutting', 'not', 'not', 'not', 'lose', 'ignorant', 'no', 'not', 'not', 'not', 'not', 'scary', 'not', 'oppressive', 'negative', 'fight', 'fight', 'negative', 'dirty', 'not', 'not', 'fight', 'not', 'gruesome', 'not', 'not', 'no', 'not', 'vile', 'never', 'not', 'no', 'not', 'not', 'not', 'no', 'evil', 'decaying', 'evil', 'not', 'mean', 'mean', 'hate', 'damage', 'not', 'nasty', 'never', 'never', 'no', 'no', 'not', 'not', 'vice', 'not', 'hard', 'bad', 'not', 'not', 'not', 'broken', 'no', 'hate', 'not', 'not', 'ignore', 'fight', 'not', 'not', 'not', 'offensive', 'not', 'terrible', 'not', 'never', 'no', 'missing', 'unhealthy', 'broken', 'mean', 'never', 'no', 'old', 'old', 'no', 'evil', 'awful', 'not', 'hurt', 'no', 'no', 'fear', 'not', 'vice', 'negative', 'no', 'bad', 'bad', 'never', 'fight', 'not', 'scare', 'no', 'never', 'never', 'never', 'not', 'not', 'fight', 'never', 'not', 'offensive', 'insane', 'not', 'nonsense', 'not', 'not', 'not', 'negative', 'no', 'no', 'impossible', 'not', 'not', 'not', 'not', 'hard', 'hard', 'bad', 'not', 'not', 'negative', 'hate', 'no', 'not', 'no', 'damage', 'hurt', 'hurt', 'awful', 'bad', 'offensive', 'fear', 'not', 'not', 'not', 'mean', 'mean', 'not', 'evil', 'gross', 'not', 'not', 'bad', 'undermine', 'not', 'crazy', 'not', 'dismal', 'not', 'bad', 'bad', 'damaging', 'not', 'never', 'never', 'not', 'not', 'not', 'misunderstood', 'no', 'pain', 'not', 'bad', 'never', 'stupid', 'not', 'ignore', 'poor', 'not', 'not', 'not', 'not', 'negative', 'not', 'disgusting', 'disgusting', 'old', 'hard', 'not', 'negative', 'not', 'mean', 'dead', 'dead', 'dead', 'never', 'hard', 'not', 'terrible', 'no', 'deny', 'cry', 'not', 'not', 'sorry', 'never', 'hurt', 'mean', 'not', 'not', 'not', 'not', 'negative', 'enraged', 'severe', 'not', 'crazy', 'ruthless', 'no', 'no', 'nobody', 'not', 'never', 'confused', 'not', 'never', 'grave', 'threatening', 'no', 'not', 'never', 'insane', 'bad', 'not', 'not', 'not', 'not', 'not', 'not', 'not', 'not', 'hurt', 'bad', 'mean', 'not', 'cutting', 'not', 'not', 'not', 'hate', 'no', 'hate', 'no', 'terrible', 'not', 'not', 'not', 'bad', 'not', 'no', 'hate', 'cutting', 'not', 'hard', 'no', 'not', 'not', 'not', 'not', 'not', 'pain', 'never', 'hurt', 'rude', 'old', 'never', 'sorry', 'pain', 'not', 'sorry', 'not', 'angry', 'not', 'not', 'no', 'fight', 'fight', 'hate', 'not', 'not', 'not', 'not', 'fear', 'undermine', 'never', 'no', 'never', 'not', 'not', 'hate', 'not', 'stupid', 'no', 'not', 'crazy', 'crazy', 'not', 'bad', 'not', 'criminal', 'not', 'not', 'not', 'never', 'never', 'not', 'not', 'no', 'not', 'not', 'dishonest', 'corrupt', 'not', 'disgusting', 'corrupt', 'not', 'dishonest', 'corrupt', 'not', 'no', 'not', 'not', 'not', 'never', 'awful', 'awful', 'not', 'not', 'not', 'offensive', 'not', 'evil', 'not', 'never', 'upset', 'not', 'missing', 'hate', 'not', 'nondescript', 'never', 'not', 'no', 'not', 'not', 'not', 'not', 'mean', 'not', 'questionable', 'corrupt', 'dirty', 'no', 'no', 'bad', 'not', 'bad', 'bad', 'missing', 'no', 'not', 'no', 'unfair', 'tense', 'hard', 'hurt', 'no', 'not', 'not', 'not', 'tense', 'not', 'not', 'not', 'not', 'not', 'not', 'not', 'hurt', 'poor', 'shocking', 'cry', 'not', 'not', 'alarming', 'negative', 'not', 'lose', 'lose', 'no', 'guilty', 'criminal', 'never', 'never', 'grave', 'criminal', 'guilty', 'not', 'sorry', 'never', 'never', 'unfair', 'negative', 'bad', 'not', 'contrary', 'not', 'no', 'not', 'offensive', 'offensive', 'not', 'damage', 'no', 'suspect', 'not', 'petty', 'no', 'scary', 'upset', 'not', 'not', 'offensive', 'not', 'never', 'not', 'never', 'no', 'not', 'shocking', 'not', 'not', 'not', 'hate', 'not', 'not', 'not', 'not', 'not', 'not', 'not', 'not', 'not', 'not', 'corrupt', 'not', 'not', 'not', 'not', 'not', 'not', 'not', 'ignore', 'not', 'sick', 'not', 'offensive', 'hate', 'not', 'hate', 'bad', 'sorry', 'hate', 'not', 'not', 'offensive', 'not', 'not', 'not', 'not', 'not', 'not', 'sorry', 'never', 'not', 'not', 'not', 'cutting', 'not', 'hard', 'not', 'mean', 'fear', 'not', 'not', 'not', 'no', 'rude', 'rude', 'never', 'offensive', 'not', 'disgusting', 'not', 'not', 'not', 'never', 'poor', 'fight', 'wound', 'never', 'lose', 'despicable', 'ignorant', 'not', 'no', 'never', 'not', 'not', 'not', 'not', 'not', 'not', 'not', 'not', 'mean', 'dead', 'not', 'no', 'not', 'no', 'never', 'never', 'not', 'sick', 'no', 'upset', 'not', 'never', 'anxious', 'not', 'disgusting', 'no', 'not', 'not', 'not', 'rude', 'rude', 'not', 'not', 'not', 'never', 'fight', 'not', 'crazy', 'no', 'offensive', 'offensive', 'not', 'awful', 'not', 'awful', 'never', 'mean', 'not', 'not', 'not', 'not', 'impossible', 'sorry', 'not', 'no', 'not', 'not', 'not', 'no', 'not', 'not', 'not', 'not', 'no', 'awful', 'mean', 'no', 'never', 'negative', 'never', 'not', 'never', 'not', 'hurt', 'guilty', 'not', 'never', 'never', 'never', 'never', 'never', 'mean', 'not', 'crazy', 'bad', 'criminal', 'not', 'not', 'not', 'never', 'no', 'not', 'vice', 'not', 'not', 'never', 'not', 'not', 'not', 'no', 'not', 'never', 'not', 'not', 'not', 'deplorable', 'not', 'not', 'not', 'fail', 'pain', 'not', 'deny', 'not', 'depressed', 'no', 'not', 'not', 'not', 'not', 'not', 'hard', 'not', 'hard', 'not', 'no', 'no', 'prejudice', 'not', 'never', 'not', 'not', 'no', 'pain', 'no', 'no', 'not', 'not', 'no', 'not', 'not', 'alarming', 'not', 'mean', 'criminal', 'not', 'mean', 'not', 'not', 'hard', 'fight', 'damage', 'prejudice', 'never', 'anxious', 'not', 'not', 'not', 'not', 'missing', 'fight', 'old', 'not', 'belligerent', 'mean', 'ignorant', 'no', 'no', 'never', 'missing', 'not', 'no', 'alarming', 'not', 'not', 'hard', 'no', 'damage', 'negative', 'negative', 'no', 'not', 'hostile', 'not', 'hard', 'broken', 'not', 'corrupt', 'not', 'not', 'bad', 'not', 'not', 'mean', 'fight', 'not', 'not', 'no', 'not', 'not', 'not', 'not', 'no', 'not', 'old', 'not', 'not', 'offensive', 'offensive', 'not', 'never', 'never', 'never', 'not', 'never', 'not', 'cold', 'cutting', 'not', 'horrendous', 'not', 'not', 'not', 'not', 'angry', 'not', 'not', 'not', 'hate', 'not', 'hard', 'hurt', 'guilty', 'never', 'no', 'mean', 'not', 'not', 'upset', 'yell', 'scare', 'not', 'sorry', 'no', 'not', 'not', 'bad', 'never', 'not', 'not', 'hard', 'no', 'guilty', 'hard', 'no', 'not', 'not', 'not', 'not', 'never', 'never', 'hard', 'not', 'no', 'ignore', 'fight', 'nasty', 'terrible', 'not', 'hard', 'impossible', 'hard', 'lose', 'negative', 'disgusting', 'not', 'not', 'poor', 'bad', 'hate', 'not', 'no', 'no', 'no', 'not', 'not', 'no', 'not', 'hard', 'impossible', 'not', 'fight', 'fight', 'not', 'fight', 'fight', 'not', 'fight', 'fight', 'not', 'no', 'no', 'not', 'upset', 'suspect', 'suspect', 'no', 'not', 'not', 'negative', 'zero', 'never', 'fear', 'fear', 'prejudice', 'sick', 'stuck', 'hard', 'not', 'sick', 'not', 'hard', 'not', 'criminal', 'poor', 'not', 'not', 'not', 'not', 'not', 'not', 'not', 'ill', 'criminal', 'enraged', 'not', 'not', 'ignore', 'never', 'not', 'cry', 'cry', 'not', 'contrary', 'not', 'not', 'never', 'not', 'never', 'never', 'no', 'not', 'no', 'mean', 'no', 'stupid', 'no', 'not', 'not', 'not', 'not', 'no', 'no', 'not', 'not', 'not', 'not', 'not', 'not', 'stupid', 'not', 'sad', 'fight', 'hate', 'no', 'hate', 'not', 'no', 'bad', 'bad', 'no', 'awful', 'old', 'never', 'not', 'not', 'fight', 'not', 'upset', 'not', 'no', 'criminal', 'not', 'not', 'no', 'vice', 'not', 'not', 'atrocious', 'no', 'not', 'no', 'cold', 'cold', 'not', 'not', 'bad', 'fear', 'not', 'menacing', 'not', 'no', 'not', 'not', 'bad', 'not', 'insidious', 'not', 'not', 'alarming', 'confused', 'never', 'never', 'not', 'alarming', 'not', 'hate', 'not', 'worthless', 'not', 'not', 'bad', 'no', 'no', 'sad', 'sad', 'lose', 'not', 'sick', 'bad', 'stuck', 'not', 'not', 'not', 'hard', 'impossible', 'not', 'never', 'never', 'dead', 'enraged', 'not', 'not', 'dead', 'cold', 'not', 'not', 'gross', 'dead', 'never', 'not', 'no', 'poor', 'not', 'not', 'anxious', 'fear', 'never', 'terrible', 'not', 'not', 'not', 'spring', 'suspect', 'not', 'suspect', 'suspect', 'not', 'alarming', 'criminal', 'corrupt', 'disease', 'disease', 'no', 'disease', 'no', 'damaging', 'not', 'not', 'not', 'no', 'no', 'no', 'stupid', 'not', 'stupid', 'not', 'prejudice', 'angry', 'old', 'not', 'not', 'not', 'not', 'not', 'not', 'oppressive', 'never', 'not', 'not', 'hard', 'not', 'no', 'no', 'hard', 'sad', 'hard', 'not', 'not', 'impossible', 'not', 'not', 'old', 'quit', 'not', 'never', 'broken', 'no', 'no', 'not', 'severe', 'severe', 'mean', 'not', 'not', 'not', 'yell', 'not', 'not', 'not', 'not', 'not', 'severe', 'suspect', 'not', 'no', 'not', 'suspect', 'no', 'no', 'dont', 'not', 'dont', 'not', 'not', 'dont', 'no', 'not', 'not', 'not', 'not', 'not', 'not', 'shoddy', 'not', 'no', 'not', 'offensive', 'objectionable', 'offensive', 'not', 'never', 'not', 'threatening', 'hate', 'scary', 'collapse', 'fear', 'fear', 'not', 'not', 'negative', 'not', 'not', 'not', 'not', 'not', 'not', 'mean', 'disgusting', 'no', 'not', 'no', 'no', 'scary', 'never', 'impossible', 'impossible', 'not', 'no', 'not', 'not', 'not', 'no', 'no', 'not', 'not', 'not', 'not', 'not', 'dead', 'not', 'dead', 'oppressive', 'angry', 'vice', 'vice', 'not', 'fear', 'quit', 'threatening', 'ignorant', 'hate', 'ignore', 'fear', 'not', 'not', 'not', 'not', 'terrible', 'not', 'rude', 'not', 'no', 'upset', 'negative', 'no', 'missing', 'bad', 'negative', 'bad', 'lose', 'no', 'vice', 'damaging', 'alarming', 'not', 'not', 'cutting', 'not', 'not', 'not', 'alarming', 'not', 'not', 'not', 'not', 'hard', 'hurt', 'not', 'alarming', 'no', 'alarming', 'questionable', 'not', 'not', 'not', 'not', 'guilty', 'not', 'old', 'not', 'pain', 'criminal', 'not', 'not', 'not', 'hard', 'deny', 'bad', 'sick', 'fight', 'not', 'not', 'cutting', 'not', 'shocking', 'corrupt', 'no', 'bad', 'evil', 'not', 'ignore', 'not', 'not', 'not', 'not', 'no', 'not', 'not', 'shocking', 'cold', 'fear', 'fear', 'no', 'not', 'never', 'never', 'never', 'hate', 'hate', 'angry', 'not', 'not', 'never', 'never', 'vice', 'not', 'never', 'no', 'not', 'never', 'vice', 'not', 'not', 'not', 'not', 'never', 'not', 'never', 'alarming', 'not', 'not', 'not', 'not', 'guilty', 'no', 'ignore', 'sick', 'old', 'not', 'not', 'no', 'hate', 'not', 'not', 'cutting', 'fight', 'not', 'not', 'not', 'not', 'nasty', 'upset', 'not', 'not', 'never', 'not', 'sick', 'vice', 'not', 'not', 'never', 'not', 'no', 'fight', 'disgusting', 'poor', 'not', 'not', 'sad', 'hard', 'not', 'disease', 'disease', 'disease', 'mean', 'mean', 'grave', 'never', 'never', 'no', 'not', 'not', 'old', 'hate', 'not', 'not', 'not', 'not', 'criminal', 'not', 'terrible', 'guilty', 'never', 'shoddy', 'sad', 'not', 'not', 'not', 'corrupt', 'not', 'not', 'sick', 'old', 'not', 'not', 'not', 'pain', 'vice', 'not', 'revenge', 'crazy', 'never', 'stuck', 'crazy', 'crazy', 'not', 'no', 'not', 'not', 'not', 'no', 'upset', 'not', 'not', 'bad', 'guilty', 'not', 'no', 'never', 'not', 'not', 'pain', 'not', 'hard', 'pain', 'never', 'not', 'not', 'lose', 'lose', 'lose', 'lose', 'not', 'not', 'not', 'fight', 'terrible', 'not', 'poor', 'not', 'not', 'not', 'not', 'not', 'yell', 'never', 'hate', 'not', 'severe', 'dead', 'not', 'not', 'not', 'hard', 'hate', 'fight', 'fear', 'alarming', 'not', 'not', 'no', 'no', 'not', 'foul', 'foul', 'not', 'naive', 'foul', 'no', 'never', 'not', 'no', 'not', 'never', 'not', 'not', 'not', 'not', 'not', 'threatening', 'no', 'not', 'not', 'anxious', 'not', 'rude', 'poor', 'not', 'not', 'never', 'not', 'not', 'mean', 'no', 'disgusting', 'not', 'not', 'not', 'quit', 'no', 'bad', 'yell', 'not', 'not', 'guilty', 'not', 'fight', 'fight', 'not', 'not', 'not', 'no', 'no', 'terrible', 'not', 'not', 'naive', 'not', 'not', 'no', 'not', 'not', 'no', 'hurt', 'prejudice', 'stupid', 'stupid', 'sorry', 'fight', 'unjust', 'not', 'disease', 'dead', 'never', 'crazy', 'never', 'not', 'not', 'not', 'no', 'impossible', 'not', 'not', 'not', 'mean', 'missing', 'not', 'not', 'poor', 'horrible', 'ugly', 'bad', 'not', 'not', 'not', 'not', 'no', 'dead', 'rude', 'no', 'poor', 'hard', 'disgusting', 'shocking', 'sick', 'dead', 'not', 'guilty', 'not', 'not', 'criminal', 'not', 'not', 'not', 'no', 'not', 'not', 'not', 'ignore', 'ignore', 'ignore', 'criminal', 'shocking', 'broken', 'not', 'no', 'not', 'sad', 'hate', 'not', 'never', 'awful', 'suspect', 'evil', 'awful', 'malicious', 'undermine', 'no', 'damage', 'lose', 'hate', 'not', 'not', 'hard', 'not', 'no', 'no', 'no', 'not', 'not', 'alarming', 'never', 'not', 'never', 'not', 'never', 'never', 'not', 'not', 'disease', 'damage', 'not', 'no', 'no', 'evil', 'not', 'guilty', 'not', 'not', 'upset', 'not', 'vice', 'hate', 'not', 'not', 'not', 'not', 'hate', 'poor', 'not', 'not', 'not', 'apathy', 'not', 'poor', 'not', 'not', 'not', 'not', 'cutting', 'terrible', 'not', 'poor', 'no', 'dont', 'dont', 'corrupt', 'fight', 'never', 'not', 'no', 'not', 'disease', 'impossible', 'not', 'not', 'not', 'not', 'no', 'no', 'never', 'not', 'harmful', 'never', 'nasty', 'not', 'depressed', 'not', 'never', 'not', 'not', 'not', 'no', 'threatening', 'sad', 'not', 'not', 'hideous', 'not', 'not', 'angry', 'not', 'sad', 'not', 'ignore', 'offensive', 'not', 'grim', 'missing', 'awful', 'not', 'never', 'not', 'hard', 'alarming', 'lose', 'lose', 'suspect', 'fear', 'fear', 'not', 'not', 'fight', 'no', 'fail', 'damage', 'fight', 'not', 'bad', 'not', 'broken', 'sick', 'not', 'no', 'bad', 'bad', 'bad', 'not', 'nasty', 'never', 'no', 'not', 'boring', 'boring', 'shocking', 'old', 'gross', 'hard', 'not', 'messy', 'sad', 'not', 'sad', 'not', 'nobody', 'lose', 'not', 'not', 'never', 'not', 'hate', 'fight', 'ugly', 'not', 'lose', 'fear', 'never', 'nobody', 'no', 'lose', 'negative', 'not', 'not', 'not', 'abysmal', 'not', 'mean', 'mean', 'mean', 'mean', 'not', 'not', 'hate', 'no', 'no', 'not', 'not', 'not', 'not', 'not', 'not', 'not', 'evil', 'not', 'crazy', 'nobody', 'vicious', 'not', 'not', 'not', 'no', 'no', 'no', 'not', 'hate', 'hate', 'hate', 'hate', 'not', 'not', 'not', 'impossible', 'not', 'no', 'not', 'deny', 'villainous', 'never', 'not', 'never', 'never', 'not', 'not', 'no', 'lose', 'hate', 'not', 'not', 'not', 'no', 'not', 'not', 'no', 'not', 'not', 'not', 'mean', 'not', 'not', 'not', 'bad', 'not', 'corrupt', 'not', 'fear', 'poor', 'shoddy', 'prejudice', 'ignorant', 'nobody', 'bad', 'harmful', 'not', 'not', 'broken', 'hate', 'old', 'not', 'no', 'not', 'sad', 'mean', 'not', 'not', 'not', 'not', 'threatening', 'not', 'hard', 'not', 'no', 'no', 'damaging', 'not', 'not', 'lose', 'lose', 'not', 'not', 'damage', 'hate', 'not', 'upset', 'never', 'never', 'dead', 'dead', 'not', 'hate', 'hate', 'mean', 'no', 'never', 'never', 'no', 'not', 'hard', 'crazy', 'reject', 'not', 'not', 'ignore', 'not', 'not', 'hurt', 'not', 'not', 'no', 'no', 'sad', 'not', 'criminal', 'not', 'not', 'reject', 'criminal', 'shocking', 'no', 'no'], 'John Hayward': ['not', 'no', 'not', 'not', 'not', 'not', 'hard', 'not', 'hard', 'not', 'disease', 'not', 'not', 'not', 'terrible', 'no', 'no', 'not', 'fail', 'fail', 'nobody', 'no', 'not', 'not', 'hard', 'not', 'not', 'criminal', 'not', 'not', 'no', 'no', 'undermine', 'guilty', 'not', 'not', 'not', 'hostile', 'not', 'not', 'not', 'deny', 'not', 'hard', 'not', 'not', 'poor', 'not', 'not', 'not', 'not', 'bad', 'not', 'not', 'bad', 'not', 'not', 'bad', 'no', 'no', 'not', 'grave', 'old', 'not', 'not', 'not', 'not', 'not', 'not', 'not', 'not', 'damage', 'damage', 'never', 'bad', 'not', 'not', 'cruel', 'no', 'old', 'no', 'nobody', 'never', 'wary', 'no', 'not', 'suspect', 'not', 'not', 'not', 'not', 'no', 'hard', 'not', 'fear', 'impossible', 'never', 'not', 'not', 'not', 'never', 'vice', 'never', 'never', 'not', 'never', 'upset', 'not', 'no', 'not', 'not', 'no', 'not', 'scary', 'not', 'not', 'terrible', 'not', 'no', 'not', 'mean', 'mean', 'lose', 'not', 'not', 'not', 'old', 'not', 'not', 'tense', 'not', 'hurt', 'no', 'no', 'not', 'not', 'not', 'not', 'not', 'not', 'never', 'fear', 'never', 'no', 'no', 'not', 'no', 'not', 'no', 'not', 'not', 'mean', 'not', 'undermine', 'not', 'not', 'not', 'not', 'not', 'no', 'not', 'not', 'contrary', 'not', 'not', 'gross', 'plain', 'not', 'no', 'not', 'not', 'old', 'negative', 'eroding', 'not', 'vice', 'not', 'not', 'not', 'collapse', 'not', 'not', 'collapse', 'hard', 'not', 'old', 'grim', 'fight', 'not', 'angry', 'dead', 'not', 'not', 'not', 'fight', 'not', 'nobody', 'no', 'no', 'not', 'old', 'not', 'no', 'no', 'not', 'not', 'threatening', 'threatening', 'not', 'not', 'terrible', 'no', 'not', 'not', 'not', 'not', 'no', 'no', 'no', 'awful', 'not', 'not', 'wary', 'not', 'not', 'no', 'not', 'not', 'not', 'not', 'not', 'hard', 'collapse', 'guilty', 'never', 'ignore', 'corrupt', 'ignore', 'hard', 'corrupt', 'not', 'no', 'offensive', 'hard', 'hurt', 'hurt', 'no', 'no', 'hard', 'objectionable', 'never', 'not', 'not', 'plain', 'not', 'not', 'not', 'hard', 'not', 'not', 'not', 'not', 'not', 'not', 'not', 'not', 'not', 'no', 'no', 'sick', 'nobody', 'sick', 'nobody', 'sick', 'no', 'not', 'not', 'not', 'not', 'hate', 'hate', 'bad', 'bad', 'no', 'no', 'not', 'not', 'no', 'not', 'not', 'not', 'bad', 'not', 'not', 'not', 'never', 'not', 'collapse', 'no', 'not', 'questionable', 'no', 'broken', 'no', 'no', 'damaging', 'never', 'never', 'ignore', 'angry', 'corrupt', 'lose', 'hard', 'not', 'not', 'not', 'not', 'fight', 'fight', 'not', 'fight', 'not', 'no', 'no', 'not', 'not', 'no', 'nobody', 'not', 'not', 'confused', 'old', 'hard', 'not', 'not', 'no', 'no', 'deny', 'deny', 'deny', 'not', 'not', 'not', 'never', 'not', 'mean', 'damaging', 'adverse', 'not', 'severe', 'adverse', 'pain', 'not', 'pain', 'distress', 'unhealthy', 'not', 'reject', 'negative', 'adverse', 'poor', 'not', 'poor', 'poor', 'not', 'damaging', 'not', 'missing', 'missing', 'not', 'severe', 'dead', 'not', 'damaging', 'undermine', 'offensive', 'not', 'beneath', 'fight', 'not', 'damage', 'not', 'hurt', 'negative', 'not', 'damage', 'not', 'not', 'not', 'fight', 'not', 'frighten', 'hard', 'not', 'missing', 'not', 'dead', 'suspect', 'savage', 'fight', 'fight', 'not', 'vicious', 'hate', 'ill', 'disgusting', 'dead', 'not', 'no', 'not', 'not', 'vile', 'objectionable', 'not', 'hard', 'hard', 'hard', 'not', 'not', 'not', 'guilty', 'no', 'not', 'not', 'damaging', 'not', 'naive', 'not', 'not', 'not', 'not', 'not', 'not', 'not', 'not', 'not', 'hard', 'not', 'no', 'horrible', 'horrible', 'no', 'not', 'not', 'not', 'not', 'not', 'not', 'no', 'not', 'lose', 'alarming', 'unfair', 'not', 'not', 'not', 'not', 'bad', 'wound', 'not', 'shocking', 'never', 'not', 'not', 'not', 'no', 'not', 'never', 'no', 'not', 'not', 'not', 'not', 'bad', 'not', 'not', 'not', 'not', 'not', 'not', 'not', 'not', 'not', 'not', 'no', 'not', 'not', 'not', 'not', 'no', 'mean', 'vice', 'not', 'not', 'not', 'bad', 'not', 'fight', 'fight', 'not', 'not', 'no', 'not', 'not', 'not', 'not', 'not', 'deny', 'zero', 'cutting', 'not', 'not', 'not', 'no', 'no', 'not', 'not', 'not', 'not', 'not', 'ugly', 'no', 'not', 'not', 'no', 'no', 'no', 'never', 'not', 'not', 'not', 'never', 'no', 'never', 'bad', 'old', 'bad', 'no', 'not', 'hard', 'not', 'lose', 'not', 'not', 'not', 'bad', 'bad', 'no', 'no', 'not', 'no', 'no', 'no', 'clumsy', 'not', 'negative', 'adverse', 'unfair', 'bad', 'mean', 'old', 'terrible', 'terrible', 'terrible', 'not', 'not', 'no', 'not', 'not', 'not', 'not', 'no', 'collapse', 'not', 'bad', 'not', 'bad', 'not', 'never', 'not', 'mean', 'not', 'not', 'not', 'no', 'hate', 'not', 'no', 'fear', 'threatening', 'hurt', 'upset', 'not', 'not', 'threatening', 'no', 'no', 'not', 'not', 'hard', 'bad', 'no', 'not', 'not', 'moan', 'damage', 'mean', 'not', 'no', 'never', 'not', 'not', 'not', 'not', 'not', 'not', 'not', 'never', 'hard', 'impossible', 'grim', 'not', 'angry', 'grim', 'not', 'no', 'no', 'not', 'not', 'never', 'mean', 'never', 'severe', 'poisonous', 'not', 'not', 'not', 'no', 'no', 'not', 'not', 'not', 'no', 'scare', 'not', 'no', 'imperfect', 'not', 'no', 'not', 'imperfect', 'damage', 'not', 'criminal', 'not', 'not', 'not', 'not', 'not', 'not', 'criminal', 'never', 'no', 'no', 'not', 'not', 'never', 'not', 'not', 'not', 'not', 'not', 'not', 'not', 'not', 'not', 'not', 'never', 'not', 'not', 'not', 'not', 'dishonest', 'zero', 'not', 'not', 'not', 'fight', 'harmful', 'nonsense', 'questionable', 'no', 'not', 'not', 'hard', 'hard', 'not', 'no', 'not', 'not', 'never', 'gross', 'not', 'not', 'not', 'not', 'no', 'guilty', 'no', 'not', 'not', 'not', 'never', 'not', 'not', 'not', 'not', 'not', 'mean', 'not', 'not', 'bad', 'horrible', 'not', 'bad', 'not', 'not', 'no', 'contrary', 'no', 'hard', 'fear', 'not', 'not', 'bad', 'not', 'not', 'never', 'bad', 'crazy', 'not', 'not', 'not', 'not', 'not', 'not', 'not', 'zero', 'hard', 'hard', 'no', 'not', 'fail', 'not', 'hard', 'hard', 'hard', 'fear', 'not', 'not', 'not', 'damage', 'enraged', 'damage', 'no', 'old', 'never', 'never', 'no', 'unfair', 'scream', 'never', 'mean', 'mean', 'not', 'mean', 'not', 'not', 'zero', 'no', 'no', 'no', 'not', 'not', 'mean', 'not', 'never', 'no', 'not', 'not', 'not', 'no', 'no', 'dead', 'not', 'not', 'hostile', 'never', 'no', 'unfair', 'no', 'not', 'never', 'not', 'not', 'not', 'not', 'old', 'not', 'not', 'not', 'not', 'not', 'not', 'no', 'not', 'undermine', 'appalling', 'no', 'damaging', 'not', 'broken', 'grotesque', 'alarming', 'fear', 'not', 'hate', 'not', 'not', 'not', 'never', 'no', 'fear', 'fear', 'fear', 'hostile', 'not', 'no', 'collapse', 'no', 'beneath', 'threatening', 'not', 'not', 'not', 'no', 'not', 'collapse', 'mean', 'not', 'no', 'never', 'cold', 'not', 'no', 'no', 'broken', 'not', 'no', 'never', 'not', 'not', 'undermine', 'fight', 'not', 'not', 'not', 'negative', 'not', 'collapse', 'not', 'damage', 'not', 'fight', 'negative', 'not', 'unwise', 'not', 'not', 'not', 'not', 'never', 'not', 'no', 'not', 'not', 'bad', 'bad', 'not', 'not', 'not', 'ignore', 'not', 'nobody', 'nasty', 'not', 'poor', 'not', 'not', 'hard', 'quit', 'not', 'not', 'not', 'gruesome', 'shocking', 'old', 'old', 'not', 'not', 'not', 'not', 'fight', 'boring', 'not', 'not', 'not', 'not', 'not', 'not', 'not', 'no', 'not', 'not', 'not', 'not', 'hostile', 'not', 'not', 'not', 'not', 'mean', 'not', 'not', 'not', 'not', 'unsatisfactory', 'not', 'old', 'not', 'not', 'not', 'not', 'dishonest', 'not', 'poor', 'no', 'never', 'not', 'hard', 'not', 'not', 'not', 'old', 'not', 'not', 'mean', 'not', 'mean', 'not', 'mean', 'not', 'no', 'not', 'not', 'cutting', 'suspect', 'never', 'not', 'not', 'prejudice', 'no', 'no', 'not', 'prejudice', 'negative', 'not', 'poor', 'not', 'not', 'guilty', 'not', 'not', 'not', 'missing', 'bad', 'not', 'hard', 'not', 'not', 'no', 'fight', 'not', 'not', 'criminal', 'not', 'criminal', 'not', 'not', 'no', 'not', 'not', 'no', 'not', 'not', 'unpleasant', 'not', 'criminal', 'not', 'hard', 'no', 'oppressive', 'not', 'not', 'not', 'not', 'reject', 'not', 'harmful', 'not', 'no', 'malicious', 'no', 'damage', 'not', 'poor', 'hard', 'damage', 'damage', 'damage', 'no', 'fight', 'nobody', 'not', 'threatening', 'no', 'no', 'never', 'not', 'damaging', 'not', 'not', 'damage', 'not', 'messy', 'never', 'not', 'never', 'not', 'not', 'not', 'no', 'not', 'not', 'mean', 'crazy', 'not', 'never', 'not', 'contrary', 'vice', 'no', 'not', 'no', 'mean', 'hard', 'not', 'never', 'not', 'not', 'hard', 'not', 'vice', 'vicious', 'not', 'enraged', 'not', 'not', 'not', 'old', 'poor', 'poor', 'not', 'contrary', 'criminal', 'not', 'not', 'not', 'not', 'not', 'ghastly', 'dead', 'fear', 'not', 'not', 'not', 'not', 'not', 'not', 'not', 'unwanted', 'fear', 'damage', 'not', 'alarming', 'not', 'damage', 'fight', 'no', 'bad', 'not', 'no', 'no', 'poor', 'no', 'no', 'no', 'not', 'bad', 'nobody', 'malicious', 'bad', 'not', 'not', 'mean', 'not', 'not', 'bad', 'not', 'bad', 'not', 'not', 'pessimistic', 'terrifying', 'poor', 'not', 'suspicious', 'not', 'hard', 'not', 'negative', 'not', 'not', 'threatening', 'not', 'awful', 'not', 'not', 'hostile', 'never', 'hard', 'vicious', 'not', 'stupid', 'not', 'fight', 'old', 'hate', 'not', 'not', 'not', 'adverse', 'no', 'not', 'not', 'not', 'mean', 'not', 'not', 'not', 'never', 'not', 'no', 'sick', 'cold', 'hard', 'vicious', 'not', 'hideous', 'not', 'suspect', 'ignore', 'negative', 'not', 'pain', 'hurt', 'never', 'wound', 'awful', 'sick', 'old', 'negative', 'not', 'alarming', 'not', 'not', 'no', 'not', 'not', 'nobody', 'not', 'mean', 'no', 'odious', 'not', 'belligerent', 'old', 'no', 'awful', 'not', 'not', 'hate', 'not', 'not', 'not', 'not', 'not', 'hate', 'hate', 'not', 'not', 'no', 'not', 'not', 'cold', 'not', 'not', 'bad', 'not', 'not', 'not', 'no', 'no', 'reject', 'not', 'not', 'not', 'not', 'not', 'unfair', 'not', 'not', 'not', 'not', 'wound', 'evil', 'fight', 'not', 'not', 'not', 'fight', 'fear', 'no', 'poor', 'not', 'dirty', 'reject', 'no', 'ignore', 'no', 'never', 'hard', 'no', 'hard', 'not', 'no', 'not', 'hard', 'hostile', 'no', 'bad', 'no', 'hard', 'not', 'suspect', 'not', 'not', 'angry', 'zero', 'mean', 'nonsense', 'no', 'undermine', 'not', 'criminal', 'criminal', 'not', 'not', 'wicked', 'not', 'undermine', 'not', 'impossible', 'no', 'hard', 'appalling', 'never', 'no', 'never', 'poor', 'fight', 'cruel', 'poor', 'sick', 'not', 'not', 'not', 'never', 'fear', 'grim', 'no', 'not', 'no', 'fear', 'angry', 'not', 'hard', 'not', 'not', 'hard', 'lose', 'lose', 'not', 'never', 'hard', 'hard', 'lose', 'dishonest', 'not', 'never', 'not', 'sick', 'sick', 'callous', 'not', 'not', 'not', 'never', 'not', 'zero', 'poor', 'not', 'sick', 'no', 'not', 'crazy', 'not', 'plain', 'threatening', 'not', 'not', 'enraged', 'nobody', 'no', 'hard', 'not', 'not', 'not', 'not', 'not', 'not', 'not', 'no', 'no', 'not', 'negative', 'not', 'not', 'not', 'ignore', 'no', 'old', 'not', 'not', 'pain', 'fail', 'not', 'not', 'nobody', 'not', 'not', 'no', 'not', 'not', 'not', 'mean', 'not', 'not', 'offensive', 'not', 'not', 'bad', 'no', 'not', 'suspect', 'ignore', 'ignore', 'no', 'shocking', 'old', 'bad', 'bad', 'fear', 'no', 'not', 'no', 'not', 'bad', 'fear', 'not', 'not', 'not', 'not', 'not', 'not', 'evil', 'unwelcome', 'never', 'not', 'not', 'angry', 'not', 'never', 'not', 'quit', 'not', 'not', 'not', 'not', 'shocking', 'no', 'not', 'not', 'vicious', 'unfair', 'not', 'dead', 'not', 'not', 'no', 'not', 'not', 'no', 'not', 'no', 'not', 'not', 'not', 'nobody', 'not', 'lose', 'adverse', 'not', 'not', 'not', 'nobody', 'sick', 'not', 'not', 'lose', 'not', 'no', 'not', 'not', 'no', 'no', 'hurt', 'not', 'hard', 'no', 'not', 'sinister', 'not', 'not', 'not', 'not', 'not', 'not', 'not', 'not', 'not', 'deny', 'ignore', 'not', 'not', 'not', 'not', 'not', 'not', 'offensive', 'not', 'not', 'reject', 'not', 'not', 'no', 'cutting', 'reject', 'no', 'not', 'bad', 'not', 'not', 'not', 'not', 'not', 'rocky', 'not', 'no', 'no', 'not', 'not', 'not', 'no', 'not', 'fight', 'not', 'not', 'not', 'not', 'broken', 'old', 'not', 'not', 'no', 'no', 'not', 'fight', 'not', 'fight', 'not', 'not', 'not', 'not', 'not', 'contrary', 'not', 'mean', 'no', 'never', 'never', 'sick', 'hate', 'dead', 'dead', 'dead', 'not', 'not', 'cutting', 'not', 'mean', 'grave', 'grim', 'not', 'contrary', 'hostile', 'not', 'mean', 'mean', 'no', 'quit', 'not', 'no', 'nobody', 'quit', 'angry', 'not', 'no', 'never', 'scare', 'not', 'poor', 'vice', 'poor', 'bad', 'not', 'lose', 'not', 'not', 'not', 'no', 'no', 'no', 'lose', 'never', 'never', 'no', 'bad', 'grim', 'no', 'not', 'not', 'poor', 'no', 'vicious', 'no', 'not', 'never', 'evil', 'poor', 'cutting', 'lose', 'no', 'not', 'no', 'grave', 'not', 'upset', 'shocking', 'cutting', 'not', 'not', 'menacing', 'not', 'no', 'hard', 'pain', 'fight', 'not', 'not', 'bad', 'negative', 'not', 'hard', 'bad', 'not', 'unfair', 'damage', 'not', 'not', 'not', 'not', 'no', 'no', 'not', 'poor', 'awful', 'hard', 'no', 'hate', 'dismal', 'impossible', 'not', 'hard', 'hard', 'no', 'never', 'not', 'not', 'not', 'threatening', 'not', 'wary', 'not', 'no', 'not', 'hate', 'fight', 'not', 'not', 'not', 'mean', 'hard', 'not', 'never', 'no', 'not', 'old', 'fight', 'fail', 'not', 'not', 'mean', 'not', 'not', 'not', 'bad', 'not', 'scream', 'not', 'menacing', 'threatening', 'no', 'not', 'angry', 'evil', 'cry', 'never', 'never', 'not', 'fight', 'fight', 'not', 'no', 'fight', 'not', 'lose', 'not', 'not', 'cutting', 'not', 'awful', 'not', 'not', 'reject', 'not', 'not', 'bad', 'hard', 'not', 'not', 'not', 'not', 'no', 'horrendous', 'not', 'threatening', 'broken', 'old', 'not', 'not', 'no', 'broken', 'not', 'damage', 'no', 'not', 'never', 'never', 'old', 'never', 'never', 'not', 'never', 'never', 'not', 'not', 'not', 'horrible', 'no', 'bad', 'no', 'not', 'no', 'not', 'no', 'no', 'not', 'no', 'not', 'no', 'not', 'never', 'plain', 'undermine', 'never', 'not', 'not', 'no', 'not', 'not', 'not', 'not', 'not', 'not', 'not', 'not', 'not', 'not', 'cruel', 'not', 'not', 'not', 'not', 'not', 'confused', 'not', 'not', 'confused', 'not', 'not', 'not', 'hostile', 'deny', 'damage', 'no', 'not', 'not', 'not', 'fear', 'nobody', 'not', 'not', 'hard', 'damage', 'damage', 'not', 'no', 'never', 'not', 'no', 'not', 'not', 'not', 'not', 'confused', 'not', 'not', 'not', 'not', 'no', 'not', 'not', 'no', 'no', 'not', 'not', 'not', 'never', 'not', 'not', 'detrimental', 'not', 'not', 'corrupt', 'damage', 'not', 'not', 'hideous', 'no', 'sinister', 'not', 'deprived', 'poor', 'not', 'vicious', 'not', 'not', 'savage', 'corrupt', 'not', 'corrupt', 'not', 'corrupt', 'cutting', 'fear', 'not', 'fight', 'not', 'not', 'not', 'not', 'not', 'guilty', 'not', 'missing', 'not', 'criminal', 'gross', 'not', 'negative', 'not', 'corrupt', 'no', 'gross', 'not', 'terrible', 'not', 'mean', 'ugly', 'not', 'not', 'damage', 'never', 'old', 'impossible', 'not', 'not', 'shocking', 'not', 'hard', 'not', 'no', 'no', 'stupid', 'no', 'suspicious', 'not', 'bad', 'not', 'fight', 'fight', 'severe', 'pain', 'not', 'collapse', 'lose', 'not', 'not', 'not', 'not', 'not', 'not', 'not', 'not', 'no', 'not', 'not', 'not', 'never', 'vice', 'not', 'not', 'not', 'not', 'faulty', 'mean', 'not', 'not', 'not', 'damage', 'not', 'not', 'not', 'not', 'not', 'not', 'not', 'not', 'not', 'not', 'no', 'fear', 'no', 'not', 'not', 'not', 'not', 'spring', 'not', 'not', 'horrible', 'not', 'no', 'not', 'hard', 'no', 'revenge', 'not', 'never', 'not', 'not', 'not', 'hard', 'not', 'not', 'not', 'not', 'not', 'not', 'not', 'nobody', 'not', 'not', 'not', 'not', 'not', 'not', 'not', 'not', 'not', 'bad', 'not', 'hurt', 'hurt', 'not', 'fight', 'not', 'not', 'not', 'not', 'not', 'not', 'no', 'not', 'not', 'not', 'bad', 'not', 'not', 'not', 'not', 'no', 'no', 'no', 'not', 'never', 'not', 'not', 'no', 'no', 'hard', 'not', 'not', 'no', 'not', 'old', 'not', 'never', 'sad', 'not', 'unfair', 'not', 'damage', 'not', 'not', 'no', 'criminal', 'criminal', 'bad', 'not', 'not', 'no', 'no', 'shocking', 'not', 'poor', 'not', 'poor', 'no', 'cutting', 'poor', 'not', 'not', 'not', 'not', 'not', 'boring', 'mean', 'horrible', 'not', 'never', 'not', 'not', 'not', 'not', 'grim', 'guilty', 'not', 'mean', 'not', 'no', 'no', 'not', 'not', 'not', 'not', 'not', 'hideous', 'not', 'not', 'hideous', 'not', 'not', 'not', 'not', 'sorry', 'not', 'old', 'appalling', 'not', 'undermine', 'not', 'alarming', 'not', 'not', 'scare', 'not', 'no', 'no', 'not', 'not', 'not', 'never', 'no', 'not', 'not', 'not', 'not', 'bad', 'no', 'never', 'not', 'no', 'criminal', 'no', 'never', 'not', 'not', 'not', 'not', 'not', 'not', 'not', 'poor', 'fear', 'damage', 'hard', 'never', 'not', 'not', 'no', 'wicked', 'not', 'not', 'not', 'not', 'not', 'not', 'not', 'not', 'revenge', 'not', 'bad', 'not', 'no', 'not', 'not', 'not', 'not', 'not', 'not', 'not', 'not', 'not', 'not', 'not', 'not', 'severe', 'lose', 'lose', 'collapse', 'not', 'not', 'never', 'not', 'not', 'corrupt', 'not', 'not', 'not', 'not', 'not', 'not', 'not', 'fear', 'no', 'not', 'never', 'worthless', 'sick', 'angry', 'not', 'missing', 'no', 'not', 'never', 'never', 'no', 'threatening', 'threatening', 'not', 'never', 'no', 'hard', 'not', 'bad', 'stupid', 'not', 'not', 'not', 'not', 'not', 'not', 'not', 'not', 'not', 'bad', 'mean', 'not', 'not', 'not', 'not', 'not', 'no', 'no', 'no', 'not', 'not', 'not', 'not', 'adverse', 'nobody', 'not', 'bad', 'not', 'mean', 'not', 'not', 'not', 'bad', 'bad', 'severe', 'never', 'suspicious', 'no', 'not', 'not', 'not', 'broken', 'zero', 'no', 'no', 'not', 'not', 'shocking', 'not', 'not', 'threatening', 'not', 'not', 'not', 'not', 'bad', 'unfair', 'evil', 'evil', 'deny', 'fight', 'hate', 'not', 'dirty', 'not', 'not', 'not', 'hard', 'nonsense', 'never', 'never', 'no', 'no', 'not', 'damaging', 'not', 'hard', 'not', 'not', 'vice', 'not', 'not', 'not', 'not', 'plain', 'not', 'naive', 'evil', 'no', 'old', 'not', 'hard', 'not', 'broken', 'not', 'no', 'not', 'no', 'never', 'negate', 'not', 'not', 'not', 'not', 'not', 'no', 'no', 'questionable', 'not', 'mean', 'plain', 'not', 'mean', 'not', 'fear', 'not', 'never', 'foul', 'old', 'not', 'vice', 'not', 'deny', 'no', 'not', 'never', 'not', 'not', 'not', 'not', 'hurt', 'not', 'not', 'never', 'not', 'hurt', 'never', 'not', 'no', 'stuck', 'unfavorable', 'not', 'not', 'not', 'no', 'collapse', 'not', 'not', 'not', 'hostile', 'not', 'no', 'bad', 'not', 'not', 'not', 'not', 'no', 'not', 'old', 'terrible', 'contrary', 'not', 'hard', 'never', 'hard', 'not', 'criminal', 'mean', 'not', 'no', 'not', 'fight', 'not', 'not', 'bad', 'not', 'not', 'criminal', 'not', 'scary', 'not', 'not', 'never', 'not', 'not', 'not', 'not', 'not', 'not', 'not', 'not', 'not', 'not', 'not', 'not', 'old', 'not', 'not', 'not', 'not', 'fail', 'fear', 'not', 'prejudice', 'no', 'not', 'not', 'not', 'no', 'no', 'not', 'unwise', 'no', 'no', 'never', 'criminal', 'not', 'never', 'not', 'no', 'criminal', 'not', 'no', 'not', 'criminal', 'not', 'not', 'never', 'no', 'not', 'deny', 'not', 'deny', 'not', 'deny', 'never', 'no', 'not', 'not', 'criminal', 'not', 'criminal', 'no', 'not', 'not', 'not', 'corrupt', 'no', 'not', 'never', 'not', 'not', 'awful', 'criminal', 'terrible', 'terrible', 'offensive', 'no', 'not', 'never', 'not', 'no', 'damage', 'never', 'no', 'never', 'terrible', 'not', 'unfair', 'not', 'monstrous', 'mean', 'not', 'mean', 'fight', 'not', 'not', 'awful', 'never', 'never', 'never', 'never', 'no', 'never', 'no', 'not', 'not', 'revenge', 'damage', 'belligerent', 'not', 'not', 'not', 'impossible', 'no', 'not', 'fight', 'guilty', 'not', 'never', 'criminal', 'bad', 'never', 'bad', 'never', 'no', 'never', 'never', 'no', 'lose', 'corrupt', 'sad', 'never', 'never', 'hurt', 'never', 'contrary', 'ignore', 'not', 'not', 'no', 'not', 'fight', 'hideous', 'fight', 'not', 'hard', 'not', 'not', 'not', 'hard', 'not', 'not', 'fight', 'no', 'nobody', 'nobody', 'nobody', 'threatening', 'not', 'terrible', 'old', 'not', 'lose', 'horrible', 'fear', 'fear', 'old', 'not', 'no', 'no', 'no', 'corrupt', 'no', 'not', 'hate', 'never', 'never', 'no', 'hard', 'corrupt', 'not', 'not', 'no', 'hate', 'hard', 'no', 'damage', 'damage', 'damage', 'never', 'no', 'never', 'no', 'creepy', 'corrupt', 'evil', 'dismal', 'no', 'dead', 'no', 'no', 'not', 'no', 'no', 'bad', 'not', 'not', 'anxious', 'old', 'mean', 'not', 'not', 'not', 'not', 'not', 'not', 'no', 'not', 'bad', 'not', 'no', 'reject', 'hate', 'not', 'not', 'no', 'plain', 'old', 'not', 'never', 'not', 'nobody', 'mean', 'no', 'not', 'poor', 'no', 'not', 'questionable', 'no', 'not', 'no', 'no', 'gruesome', 'impossible', 'unhealthy', 'vile', 'threatening', 'not', 'not', 'not', 'lose', 'unfair', 'bad', 'not', 'unpleasant', 'hard', 'not', 'negative', 'not', 'not', 'no', 'no', 'not', 'alarming', 'criminal', 'bad', 'evil', 'contrary', 'no', 'no', 'bad', 'scare', 'dismal', 'contrary', 'never', 'not', 'lose', 'never', 'never', 'never', 'never', 'never', 'not', 'not', 'not', 'not', 'no', 'mean', 'never', 'sad', 'stupid', 'not', 'stupid', 'no', 'not', 'stupid', 'not', 'stupid', 'disgusting', 'not', 'stupid', 'not', 'not', 'dead', 'not', 'angry', 'not', 'not', 'not', 'no', 'not', 'no', 'hard', 'not', 'not', 'not', 'unfair', 'not', 'broken', 'not', 'dead', 'negative', 'criminal', 'no', 'no', 'not', 'vice', 'not', 'broken', 'not', 'not', 'no', 'questionable', 'hard', 'never', 'sobbing', 'never', 'hostile', 'hard', 'severe', 'not', 'not', 'no', 'not', 'not', 'not', 'not', 'bad', 'hard', 'not', 'not', 'not', 'not', 'never', 'not', 'not', 'no', 'poor', 'not', 'fear', 'no', 'not', 'not', 'not', 'hard', 'poor', 'decaying', 'greed', 'detrimental', 'not', 'ignore', 'hard', 'evil', 'not', 'old', 'corrupt', 'not', 'broken', 'fear', 'not', 'no', 'not', 'lose', 'no', 'not', 'not', 'not', 'not', 'nobody', 'never', 'never', 'fight', 'threatening', 'not', 'not', 'not', 'not', 'not', 'not', 'not', 'never', 'not', 'not', 'fail', 'no', 'not', 'not', 'not', 'not', 'not', 'not', 'not', 'not', 'not', 'not', 'not', 'not', 'not', 'no', 'not', 'vile', 'not', 'no', 'stupid', 'stuck', 'collapse', 'not', 'crazy', 'never', 'corrupt', 'never', 'not', 'criminal', 'no', 'negative', 'undermine', 'not', 'not', 'not', 'corrupt', 'lose', 'not', 'fight', 'no', 'disgusting', 'not', 'not', 'not', 'not', 'not', 'not', 'not', 'dead', 'never', 'hard', 'not', 'mean', 'lose', 'not', 'weary', 'grim', 'not', 'not', 'no', 'bad', 'wound', 'nasty', 'wound', 'no', 'not', 'not', 'not', 'no', 'not', 'not', 'not', 'damaging', 'old', 'dishonest', 'no', 'criminal', 'no', 'no', 'never', 'not', 'not', 'old', 'bad', 'hard', 'fight', 'no', 'never', 'no', 'not', 'not', 'not', 'not', 'fight', 'not', 'fight', 'vicious', 'fight', 'not', 'not', 'not', 'old', 'bad', 'not', 'not', 'no', 'not', 'ignore', 'not', 'terrible', 'mean', 'not', 'not', 'never', 'not', 'insane', 'no', 'not', 'not', 'hate', 'sinister', 'no', 'no', 'mean', 'sinister', 'hurt', 'grim', 'old', 'never', 'insidious', 'no', 'angry', 'not', 'not', 'not', 'not', 'frighten', 'no', 'unfavorable', 'no', 'not', 'vicious', 'hostile', 'hard', 'old', 'bad', 'not', 'not', 'not', 'awful', 'not', 'not', 'not', 'not', 'not', 'no', 'not', 'unhappy', 'not', 'bad', 'naive', 'not', 'not', 'stuck', 'not', 'crazy', 'quit', 'sad', 'not', 'broken', 'not', 'criminal', 'criminal', 'criminal', 'criminal', 'not', 'not', 'upset', 'never', 'not', 'criminal', 'contrary', 'not', 'horrible', 'criminal', 'fear', 'never', 'not', 'zero', 'not', 'never', 'not', 'not', 'not', 'bad', 'not', 'nonsense', 'not', 'no', 'sorry', 'no', 'no', 'not', 'mean', 'not', 'no', 'mean', 'hate', 'no', 'hate', 'not', 'hate', 'stupid', 'offensive', 'never', 'never', 'never', 'never', 'not', 'not', 'guilty', 'guilty', 'hostile', 'not', 'hate', 'not', 'hate', 'not', 'hate', 'no', 'not', 'not', 'not', 'not', 'no', 'pain', 'not', 'disease', 'no', 'old', 'not', 'old', 'not', 'vice', 'no', 'no', 'no', 'not', 'nobody', 'suspicious', 'not', 'no', 'no', 'no', 'suspect', 'not', 'no', 'gross', 'never', 'not', 'fear', 'fear', 'not', 'not', 'not', 'hard', 'not', 'not', 'threatening', 'spring', 'no', 'damage', 'not', 'not', 'damage', 'not', 'not', 'damage', 'not', 'not', 'never', 'not', 'no', 'bad', 'not', 'undermine', 'corrupt', 'not', 'not', 'not', 'not', 'never', 'collapse', 'not', 'collapse', 'not', 'old', 'not', 'old', 'grim', 'lousy', 'pain', 'not', 'not', 'not', 'not', 'not', 'hate', 'no', 'poor', 'not', 'never', 'terrible', 'old', 'bad', 'no', 'no', 'not', 'bad', 'poor', 'not', 'old', 'not', 'criminal', 'old', 'not', 'not', 'nobody', 'not', 'clumsy', 'dishonest', 'not', 'not', 'not', 'not', 'not', 'no', 'not', 'not', 'no', 'savage', 'not', 'hard', 'nonsense', 'not', 'threatening', 'no', 'not', 'mean', 'no', 'no', 'bad', 'not', 'not', 'no', 'not', 'no', 'fight', 'not', 'old', 'not', 'not', 'not', 'stupid', 'not', 'hard', 'corrupt', 'no', 'not', 'despicable', 'corrupt', 'not', 'not', 'deny', 'not', 'no', 'not', 'vice', 'negative', 'not', 'not', 'not', 'not', 'not', 'undermine', 'not', 'not', 'not', 'not', 'not', 'not', 'not', 'not', 'not', 'hate', 'not', 'not', 'not', 'fight', 'no', 'grave', 'collapse', 'dead', 'no', 'not', 'missing', 'not', 'beneath', 'not', 'not', 'not', 'not', 'not', 'harmful', 'unhealthy', 'never', 'offensive', 'damage', 'hard', 'not', 'damaging', 'enraged', 'hostile', 'not', 'bad', 'never', 'old', 'no', 'fight', 'cold', 'not', 'sick', 'not', 'stuck', 'no', 'not', 'never', 'not', 'fear', 'not', 'never', 'no', 'not', 'no', 'not', 'not', 'never', 'never', 'impossible', 'disease', 'not', 'harmful', 'bad', 'no', 'no', 'cold', 'hard', 'not', 'no', 'never', 'criminal', 'never', 'lose', 'not', 'faulty', 'not', 'not', 'not', 'not', 'not', 'not', 'not', 'old', 'no', 'no', 'never', 'nobody', 'old', 'not', 'no', 'not', 'not', 'not', 'not', 'not', 'not', 'no', 'damage', 'criminal', 'criminal', 'not', 'vice', 'criminal', 'corrupt', 'not', 'no', 'no', 'no', 'not', 'fight', 'no', 'not', 'not', 'not', 'not', 'not', 'no', 'grim', 'not', 'faulty', 'threatening', 'tense', 'not', 'not', 'not', 'ignore', 'not', 'not', 'not', 'not', 'no', 'no', 'no', 'not', 'not', 'hard', 'not', 'not', 'no', 'no', 'not', 'evil', 'not', 'not', 'bad', 'unjust', 'hard', 'never', 'not', 'disease', 'not', 'not', 'oppressive', 'not', 'not', 'suspicious', 'oppressive', 'oppressive', 'lousy', 'unfair', 'no', 'lousy', 'not', 'nasty', 'angry', 'revenge', 'no', 'not', 'not', 'no', 'vile', 'scare', 'old', 'not', 'not', 'not', 'not', 'dirty', 'anxious', 'cruel', 'scare', 'not', 'not', 'not', 'not', 'not', 'not', 'not', 'ugly', 'no', 'not', 'never', 'never', 'dead', 'hard', 'not', 'terrible', 'hideous', 'hard', 'hard', 'not', 'not', 'hideous', 'sick', 'not', 'no', 'not', 'not', 'not', 'not', 'angry', 'not', 'mean', 'bad', 'not', 'no', 'not', 'hate', 'poor', 'never', 'poor', 'not', 'not', 'cutting', 'never', 'contradictory', 'never', 'not', 'mean', 'not', 'not', 'not', 'not', 'criminal', 'not', 'not', 'grave', 'not', 'impossible', 'not', 'not', 'not', 'never', 'not', 'bad', 'not', 'not', 'not', 'not', 'hard', 'not', 'not', 'tense', 'confused', 'not', 'not', 'never', 'not', 'not', 'no', 'not', 'no', 'never', 'negative', 'negative', 'offensive', 'impossible', 'offensive', 'not', 'no', 'fight', 'fight', 'not', 'fight', 'not', 'fight', 'undermine', 'hard', 'not', 'not', 'not', 'hard', 'not', 'fight', 'no', 'bad', 'hard', 'not', 'not', 'not', 'not', 'not', 'rotten', 'no', 'no', 'not', 'not', 'dead', 'angry', 'not', 'threatening', 'not', 'never', 'no', 'no', 'no', 'angry', 'not', 'not', 'fear', 'not', 'not', 'corrupt', 'not', 'not', 'corrupt', 'not', 'pain', 'severe', 'not', 'not', 'not', 'not', 'damaging', 'not', 'scare', 'nobody', 'greed', 'unpleasant', 'threatening', 'not', 'corrupt', 'no', 'no', 'hate', 'dirty', 'not', 'no', 'not', 'not', 'not', 'insane', 'not', 'not', 'hard', 'mean', 'not', 'poor', 'no', 'no', 'no', 'no', 'not', 'not', 'hard', 'no', 'pain', 'not', 'pain', 'not', 'oppressive', 'hard', 'not', 'injure', 'not', 'no', 'grave', 'not', 'not', 'stupid', 'never', 'hate', 'impossible', 'not', 'suspicious', 'not', 'vice', 'terrible', 'terrible', 'not', 'not', 'not', 'not', 'no', 'not', 'not', 'mean', 'not', 'never', 'no', 'deny', 'not', 'not', 'not', 'no', 'ignore', 'fight', 'not', 'not', 'cutting', 'crazy', 'bad', 'bad', 'not', 'not', 'fight', 'lose', 'not', 'bad', 'not', 'never', 'terrible', 'awful', 'not', 'never', 'insidious', 'impossible', 'impossible', 'not', 'contrary', 'ignore', 'not', 'horrendous', 'damage', 'damage', 'nobody', 'no', 'horrendous', 'not', 'hard', 'no', 'imperfect', 'not', 'not', 'not', 'not', 'not', 'not', 'not', 'suspect', 'not', 'deny', 'suspect', 'not', 'upset', 'hard', 'hard', 'never', 'not', 'no', 'damage', 'not', 'shocking', 'not', 'horrible', 'hideous', 'suspicious', 'no', 'no', 'not', 'no', 'hard', 'old', 'no', 'missing', 'never', 'no', 'old', 'unfair', 'not', 'appalling', 'not', 'not', 'hard', 'not', 'not', 'no', 'not', 'evil', 'evil', 'mean', 'not', 'sickening', 'callous', 'dead', 'not', 'dead', 'not', 'not', 'not', 'lose', 'not', 'not', 'not', 'not', 'not', 'not', 'not', 'not', 'not', 'old', 'not', 'not', 'not', 'not', 'not', 'not', 'no', 'not', 'not', 'not', 'not', 'collapse', 'not', 'not', 'no', 'not', 'impossible', 'not', 'never', 'not', 'dead', 'never', 'never', 'vicious', 'scare', 'greed', 'not', 'scare', 'bad', 'hard', 'not', 'not', 'no', 'lose', 'not', 'not', 'hard', 'collapse', 'hard', 'not', 'no', 'not', 'negative', 'no', 'no', 'not', 'not', 'not', 'deny', 'mean', 'no', 'terrible', 'not', 'not', 'damage', 'not', 'nasty', 'nasty', 'not', 'vicious', 'nasty', 'not', 'no', 'not', 'corrupt', 'corrupt', 'corrupt', 'no', 'no', 'corrupt', 'oppressive', 'cutting', 'not', 'cutting', 'angry', 'angry', 'angry', 'not', 'not', 'never', 'no', 'hurt', 'no', 'collapse', 'hurt', 'not', 'no', 'scream', 'cutting', 'hard', 'criminal', 'no', 'not', 'undermine', 'not', 'damage', 'not', 'no', 'no', 'not', 'suspicious', 'suspicious', 'suspect', 'suspicious', 'not', 'never', 'no', 'not', 'not', 'distress', 'not', 'negative', 'negative', 'never', 'not', 'not', 'collapse', 'not', 'no', 'fear', 'dead', 'not', 'nobody', 'boring', 'not', 'crazy', 'not', 'not', 'sick', 'fight', 'fight', 'fight', 'fight', 'fight', 'sick', 'hard', 'not', 'not', 'not', 'not', 'not', 'not', 'not', 'no', 'no', 'angry', 'damage', 'severe', 'unwelcome', 'no', 'bad', 'not', 'not', 'ignore', 'fight', 'not', 'bad', 'not', 'no', 'not', 'not', 'no', 'not', 'fear', 'not', 'not', 'never', 'bad', 'not', 'zero', 'not', 'not', 'not', 'not', 'damage', 'not', 'no', 'corrupt', 'cold', 'cold', 'corrupt', 'corrupt', 'not', 'never', 'not', 'dead', 'broken', 'sad', 'never', 'not', 'not', 'no', 'not', 'not', 'not', 'no', 'never', 'never', 'never', 'never', 'no', 'no', 'not', 'not', 'not', 'grim', 'not', 'not', 'not', 'not', 'not', 'sick', 'never', 'not', 'not', 'impossible', 'not', 'lose', 'no', 'poor', 'hard', 'no', 'fail', 'not', 'threatening', 'not', 'not', 'not', 'not', 'corrupt', 'bad', 'not', 'not', 'not', 'unfair', 'ignore', 'not', 'no', 'no', 'no', 'no', 'criminal', 'no', 'not', 'no', 'not', 'no', 'not', 'not', 'never', 'not', 'contrary', 'not', 'not', 'not', 'negative', 'terrible', 'sick', 'never', 'dead', 'not', 'evil', 'not', 'not', 'fight', 'mean', 'dead', 'dead', 'not', 'no', 'never', 'old', 'not', 'cry', 'old', 'fight', 'never', 'not', 'not', 'not', 'not', 'monstrous', 'never', 'cry', 'stupid', 'not', 'fear', 'damage', 'damage', 'bad', 'evil', 'bad', 'horrible', 'not', 'unsightly', 'no', 'no', 'hard', 'no', 'no', 'not', 'not', 'reject', 'hard', 'not', 'corrupt', 'not', 'no', 'never', 'no', 'no', 'no', 'hostile', 'no', 'not', 'hard', 'no', 'no', 'not', 'never', 'not', 'not', 'not', 'not', 'not', 'not', 'no', 'not', 'no', 'hostile', 'not', 'dishonorable', 'corrupt', 'hard', 'no', 'not', 'missing', 'not', 'contrary', 'no', 'not', 'not', 'never', 'not', 'never', 'unhappy', 'no', 'not', 'not', 'negative', 'hate', 'not', 'not', 'mean', 'not', 'not', 'not', 'hard', 'gross', 'monstrous', 'not', 'oppressive', 'not', 'not', 'not', 'hate', 'not', 'not', 'deny', 'no', 'not', 'not', 'not', 'hostile', 'undermine', 'damage', 'not', 'not', 'savage', 'old', 'fight', 'barbed', 'never', 'no', 'stupid', 'not', 'hard', 'stuck', 'nobody', 'not', 'reject', 'not', 'not', 'not', 'fear', 'angry', 'not', 'insane', 'no', 'deprived', 'cutting', 'not', 'corrupt', 'not', 'not', 'not', 'not', 'not', 'bad', 'corrupt', 'bad', 'criminal', 'ugly', 'savage', 'missing', 'no', 'not', 'never', 'not', 'never', 'hideous', 'not', 'no', 'upset', 'not', 'gruesome', 'never', 'no', 'zero', 'no', 'guilty', 'guilty', 'hard', 'not', 'no', 'damaging', 'no', 'no', 'not', 'never', 'not', 'terrible', 'broken', 'not', 'no', 'not', 'not', 'no', 'no', 'no', 'no', 'no', 'no', 'mean', 'no', 'not', 'no', 'severe', 'damaging', 'not', 'not', 'never', 'contrary', 'contrary', 'mean', 'old', 'greed', 'greed', 'not', 'not', 'greed', 'no', 'not', 'not', 'fight', 'old', 'stuck', 'vice', 'not', 'hard', 'ugly', 'dishonest', 'not', 'not', 'no', 'not', 'nonsense', 'not', 'grim', 'damaging', 'not', 'not', 'not', 'not', 'not', 'suspicious', 'offensive', 'not', 'not', 'never', 'not', 'not', 'mean', 'not', 'not', 'not', 'horrible', 'ignore', 'never', 'never', 'missing', 'not', 'dead', 'never', 'not', 'never', 'never', 'dead', 'never', 'not', 'never', 'no', 'not', 'not', 'never', 'not', 'no', 'hate', 'criminal', 'fear', 'not', 'not', 'not', 'naive', 'lose', 'terrible', 'no', 'no', 'no', 'not', 'not', 'never', 'never', 'not', 'not', 'no', 'hard', 'not', 'no', 'not', 'suspicious', 'not', 'appalling', 'not', 'never', 'not', 'not', 'not', 'not', 'never', 'mean', 'not', 'old', 'never', 'never', 'not', 'not', 'not', 'no', 'no', 'not', 'not', 'no', 'not', 'not', 'not', 'not', 'not', 'vice', 'not', 'not', 'revenge', 'no', 'not', 'not', 'not', 'unfair', 'unfair', 'no', 'not', 'criminal', 'criminal', 'disgusting', 'threatening', 'criminal', 'not', 'disgusting', 'criminal', 'not', 'evil', 'not', 'evil', 'not', 'damaging', 'not', 'hard', 'not', 'criminal', 'not', 'not', 'not', 'not', 'not', 'not', 'pain', 'not', 'broken', 'broken', 'sad', 'not', 'not', 'criminal', 'old', 'no', 'no', 'no', 'not', 'not', 'criminal', 'criminal', 'criminal', 'hideous', 'hard', 'no', 'lose', 'lose', 'bad', 'not', 'no', 'no', 'not', 'no', 'not', 'not', 'not', 'no', 'not', 'damaging', 'suspect', 'not', 'not', 'not', 'not', 'mean', 'not', 'old', 'not', 'suspicious', 'no', 'mean', 'not', 'no', 'awful', 'no', 'not', 'not', 'not', 'nonsense', 'no', 'not', 'not', 'not', 'not', 'sorry', 'no', 'not', 'not', 'sorry', 'bad', 'bad', 'no', 'no', 'no', 'fight', 'hard', 'not', 'no', 'not', 'guilty', 'cutting', 'not', 'never', 'angry', 'not', 'never', 'never', 'not', 'not', 'not', 'not', 'dead', 'not', 'not', 'never', 'no', 'no', 'no', 'not', 'not', 'crazy', 'never', 'vice', 'fight', 'revenge', 'hideous', 'fight', 'not', 'missing', 'not', 'never', 'not', 'ignorant', 'not', 'impossible', 'no', 'not', 'not', 'not', 'no', 'not', 'not', 'not', 'no', 'not', 'hurt', 'stuck', 'hard', 'not', 'no', 'lose', 'not', 'hard', 'lose', 'evil', 'mean', 'sick', 'never', 'not', 'hard', 'alarming', 'grim', 'sick', 'never', 'not', 'fight', 'no', 'no', 'old', 'not', 'not', 'offensive', 'not', 'not', 'not', 'negative', 'not', 'not', 'not', 'not', 'not', 'not', 'no', 'scary', 'fight', 'criminal', 'not', 'mean', 'criminal', 'not', 'not', 'no', 'lose', 'no', 'bad', 'not', 'negative', 'zero', 'not', 'not', 'not', 'negative', 'not', 'never', 'not', 'never', 'hard', 'not', 'not', 'not', 'not', 'never', 'hurt', 'mean', 'not', 'not', 'not', 'hard', 'fight', 'bad', 'no', 'horrible', 'not', 'mean', 'sticky', 'old', 'vice', 'never', 'never', 'never', 'no', 'never', 'not', 'mean', 'not', 'guilty', 'grave', 'not', 'contrary', 'reject', 'never', 'nobody', 'not', 'not', 'lose', 'not', 'offensive', 'not', 'no', 'no', 'savage', 'not', 'missing', 'not', 'bad', 'lose', 'not', 'lose', 'suspicious', 'damage', 'damaging', 'hard', 'not', 'not', 'scary', 'not', 'nobody', 'not', 'old', 'no', 'not', 'not', 'never', 'not', 'shocking', 'not', 'not', 'cutting', 'not', 'not', 'old', 'not', 'no', 'bad', 'not', 'not', 'no', 'no', 'no', 'dead', 'not', 'no', 'not', 'not', 'not', 'not', 'fight', 'not', 'not', 'sad', 'not', 'dismal', 'hard', 'impossible', 'lose', 'damage', 'not', 'no', 'hard', 'no', 'not', 'no', 'no', 'not', 'no', 'not', 'not', 'not', 'never', 'not', 'damaging', 'damaging', 'damaging', 'corrupt', 'not', 'hurt', 'bad', 'corrupt', 'no', 'bad', 'no', 'criminal', 'dirty', 'not', 'not', 'not', 'not', 'ill', 'not', 'nobody', 'not', 'reptilian', 'not', 'not', 'not', 'dead', 'no', 'dead', 'not', 'not', 'dead', 'not', 'hard', 'criminal', 'suspicious', 'not', 'not', 'no', 'not', 'old', 'no', 'not', 'confused', 'awful', 'not', 'not', 'not', 'not', 'mean', 'not', 'not', 'not', 'not', 'old', 'offensive', 'not', 'mean', 'not', 'fight', 'unsatisfactory', 'not', 'not', 'poor', 'old', 'damaging', 'contrary', 'hard', 'not', 'guilty', 'impossible', 'deny', 'corrupt', 'not', 'corrupt', 'questionable', 'not', 'not', 'not', 'no', 'reject', 'not', 'no', 'not', 'hate', 'hate', 'not', 'not', 'not', 'fear', 'not', 'hate', 'no', 'no', 'not', 'hate', 'not', 'not', 'not', 'insane', 'nobody', 'never', 'never', 'no', 'not', 'not', 'not', 'no', 'no', 'not', 'detrimental', 'not', 'not', 'not', 'not', 'not', 'mean', 'hostile', 'not', 'corrupt', 'collapse', 'damage', 'collapse', 'not', 'not', 'not', 'not', 'not', 'detrimental', 'not', 'not', 'no', 'not', 'no', 'no', 'not', 'bad', 'not', 'not', 'not', 'not', 'not', 'not', 'not', 'not', 'not', 'not', 'not', 'no', 'broken', 'not', 'not', 'not', 'not', 'not', 'not', 'not', 'terrible', 'no', 'offensive', 'impossible', 'ignore', 'not', 'never', 'not', 'impossible', 'fight', 'bad', 'not', 'not', 'no', 'not', 'not', 'not', 'not', 'no', 'no', 'not', 'never', 'not', 'not', 'not', 'not', 'not', 'not', 'scare', 'not', 'not', 'no', 'no', 'not', 'scare', 'not', 'not', 'not', 'deprived', 'never', 'not', 'not', 'fight', 'bad', 'not', 'not', 'corrupt', 'no', 'not', 'not', 'no', 'never', 'lose', 'not', 'no', 'not', 'tense', 'not', 'not', 'not', 'old', 'not', 'ignorant', 'not', 'never', 'no', 'not', 'not', 'sorry', 'old', 'old', 'not', 'not', 'not', 'missing', 'old', 'fail', 'no', 'not', 'unfair', 'noxious', 'hard', 'not', 'no', 'ignore', 'not', 'evil', 'not', 'not', 'not', 'no', 'not', 'not', 'not', 'not', 'no', 'not', 'bad', 'bad', 'not', 'disease', 'never', 'not', 'mean', 'not', 'not', 'deny', 'not', 'contradictory', 'bad', 'not', 'not', 'damaging', 'hard', 'insane', 'ignore', 'hard', 'not', 'unjust', 'not', 'old', 'old', 'not', 'not', 'not', 'not', 'threatening', 'ignore', 'poor', 'bad', 'bad', 'guilty', 'poor', 'poor', 'no', 'damaging', 'no', 'never', 'beneath', 'not', 'not', 'hard', 'offensive', 'not', 'not', 'not', 'never', 'no', 'no', 'no', 'not', 'not', 'not', 'not', 'not', 'not', 'not', 'no', 'hard', 'not', 'not', 'not', 'broken', 'sick', 'not', 'not', 'never', 'not', 'no', 'crazy', 'crazy', 'never', 'pain', 'not', 'not', 'bad', 'not', 'not', 'not', 'not', 'not', 'angry', 'no', 'not', 'no', 'hate', 'hate', 'not', 'nobody', 'never', 'evil', 'criminal', 'not', 'unpleasant', 'not', 'not', 'angry', 'poor', 'bad', 'no', 'undermine', 'not', 'not', 'not', 'not', 'not', 'bad', 'not', 'not', 'not', 'not', 'not', 'not', 'not', 'not', 'hurt', 'not', 'fear', 'confused', 'terrible', 'not', 'not', 'no', 'sick', 'enraged', 'not', 'insane', 'wound', 'upset', 'not', 'no', 'not', 'wound', 'wound', 'not', 'not', 'not', 'not', 'not', 'no', 'fight', 'not', 'no', 'terrible', 'no', 'missing', 'hard', 'not', 'not', 'not', 'not', 'not', 'no', 'not', 'not', 'not', 'not', 'not', 'not', 'never', 'not', 'not', 'not', 'not', 'not', 'not', 'never', 'bad', 'not', 'cutting', 'grim', 'suspect', 'sad', 'shocking', 'not', 'no', 'not', 'not', 'not', 'not', 'no', 'no', 'never', 'not', 'not', 'vice', 'never', 'never', 'hurtful', 'not', 'not', 'sorry', 'hard', 'not', 'not', 'impossible', 'scare', 'impossible', 'awful', 'hurt', 'fight', 'no', 'not', 'impossible', 'not', 'hard', 'hate', 'wound', 'not', 'not', 'not', 'not', 'negative', 'negative', 'pessimistic', 'not', 'hard', 'guilty', 'guilty', 'not', 'not', 'not', 'never', 'not', 'no', 'not', 'not', 'not', 'not', 'no', 'not', 'not', 'not', 'no', 'no', 'no', 'not', 'no', 'not', 'negate', 'no', 'no', 'not', 'not', 'not', 'sick', 'never', 'scare', 'not', 'not', 'not', 'not', 'not', 'not', 'not', 'not', 'not', 'not', 'not', 'not', 'revenge', 'dead', 'savage', 'despicable', 'no', 'not', 'evil', 'pain', 'dead', 'not', 'no', 'not', 'not', 'not', 'not', 'vice', 'no', 'suspicious', 'not', 'not', 'questionable', 'not', 'not', 'not', 'no', 'not', 'not', 'fight', 'fear', 'no', 'no', 'old', 'not', 'no', 'undermine', 'not', 'wound', 'not', 'sorry', 'never', 'never', 'no', 'dead', 'not', 'dead', 'not', 'not', 'grave', 'sad', 'mean', 'not', 'not', 'no', 'criminal', 'no', 'mean', 'not', 'not', 'monstrous', 'criminal', 'never', 'never', 'not', 'shocking', 'no', 'bad', 'no', 'hard', 'not', 'never', 'not', 'lose', 'no', 'ignore', 'old', 'no', 'never', 'never', 'damage', 'damage', 'not', 'no', 'damaging', 'angry', 'never', 'not', 'not', 'savage', 'never', 'not', 'not', 'confused', 'evil', 'sinister', 'sinister', 'questionable', 'not', 'not', 'no', 'mean', 'bad', 'never', 'not', 'no', 'hate', 'no', 'tense', 'not', 'cruel', 'spring', 'not', 'pain', 'no', 'not', 'guilty', 'no', 'unjust', 'angry', 'not', 'criminal', 'no', 'unfair', 'guilty', 'not', 'sad', 'no', 'not', 'no', 'old', 'not', 'no', 'not', 'not', 'not', 'not', 'not', 'not', 'nobody', 'no', 'never', 'mean', 'not', 'not', 'not', 'not', 'not', 'not', 'fear', 'damage', 'misunderstood', 'not', 'not', 'misunderstood', 'no', 'hostile', 'not', 'not', 'criminal', 'not', 'not', 'not', 'not', 'not', 'not', 'not', 'not', 'not', 'not', 'not', 'cry', 'never', 'criminal', 'not', 'old', 'no', 'not', 'not', 'not', 'hard', 'not', 'not', 'no', 'vice', 'no', 'not', 'not', 'mean', 'bad', 'cold', 'not', 'no', 'not', 'poor', 'never', 'not', 'damaging', 'not', 'not', 'criminal', 'not', 'no', 'broken', 'not', 'poor', 'not', 'not', 'not', 'poor', 'poor', 'poor', 'poor', 'not', 'not', 'not', 'not', 'poor', 'poor', 'poor', 'not', 'not', 'poor', 'not', 'not', 'not', 'not', 'not', 'no', 'no', 'not', 'not', 'not', 'not', 'not', 'grim', 'not', 'not', 'hard', 'not', 'unsatisfactory', 'no', 'not', 'deny', 'not', 'shocking', 'no', 'not', 'never', 'negative', 'negative', 'not', 'zero', 'negative', 'not', 'zero', 'negative', 'negative', 'not', 'not', 'not', 'never', 'not', 'damage', 'not', 'not', 'not', 'not', 'not', 'scare', 'hard', 'hard', 'not', 'not', 'no', 'sorry', 'not', 'not', 'negative', 'not', 'bad', 'poor', 'not', 'no', 'no', 'not', 'not', 'not', 'not', 'not', 'not', 'not', 'not', 'criminal', 'not', 'criminal', 'criminal', 'criminal', 'criminal', 'not', 'never', 'not', 'mean', 'damage', 'fear', 'not', 'not', 'upset', 'mean', 'no', 'spring', 'not', 'never', 'no', 'not', 'impossible', 'no', 'hard', 'criminal', 'bad', 'negative', 'zero', 'not', 'never', 'fail', 'hurt', 'lose', 'not', 'not', 'not', 'not', 'not', 'negative', 'bad', 'hate', 'not', 'not', 'not', 'sad', 'fight', 'sick', 'not', 'not', 'not', 'not', 'not', 'not', 'not', 'not', 'not', 'not', 'bad', 'not', 'dead', 'not', 'not', 'never', 'sinister', 'not', 'not', 'undermine', 'not', 'not', 'not', 'not', 'cruel', 'no', 'not', 'not', 'bad', 'not', 'not', 'not', 'not', 'not', 'old', 'not', 'not', 'angry', 'never', 'not', 'offensive', 'sorry', 'no', 'not', 'never', 'no', 'hard', 'crazy', 'not', 'fear', 'not', 'hate', 'hard', 'poor', 'not', 'never', 'hard', 'mean', 'sorry', 'vice', 'not', 'not', 'not', 'no', 'no', 'no', 'never', 'not', 'no', 'no', 'no', 'no', 'bad', 'not', 'not', 'not', 'not', 'not', 'not', 'never', 'bad', 'never', 'mean', 'awful', 'not', 'never', 'never', 'never', 'sick', 'never', 'never', 'cutting', 'no', 'not', 'corrupt', 'never', 'not', 'not', 'not', 'not', 'no', 'distress', 'not', 'not', 'not', 'bad', 'not', 'missing', 'hate', 'hate', 'not', 'not', 'hard', 'hard', 'angry', 'poor', 'not', 'fight', 'not', 'never', 'no', 'not', 'unfair', 'no', 'not', 'not', 'hostile', 'not', 'poor', 'not', 'missing', 'bad', 'no', 'severe', 'collapse', 'not', 'no', 'suspect', 'not', 'fight', 'not', 'dead', 'threatening', 'not', 'no', 'not', 'deny', 'fight', 'not', 'unhealthy', 'bad', 'criminal', 'criminal', 'no', 'fear', 'not', 'not', 'alarming', 'not', 'not', 'no', 'no', 'not', 'not', 'not', 'not', 'no', 'fight', 'no', 'not', 'not', 'not', 'missing', 'not', 'not', 'dead', 'never', 'old', 'not', 'not', 'not', 'not', 'bad', 'no', 'awful', 'no', 'bad', 'old', 'no', 'hate', 'nobody', 'not', 'not', 'not', 'hard', 'not', 'not', 'old', 'no', 'vice', 'poor', 'hard', 'not', 'never', 'never', 'messy', 'fear', 'hard', 'no', 'not', 'nasty', 'not', 'not', 'not', 'hard', 'hate', 'not', 'not', 'not', 'suspect', 'hurt', 'no', 'contrary', 'hurt', 'not', 'never', 'no', 'not', 'no', 'not', 'poor', 'not', 'not', 'damage', 'never', 'stupid', 'sad', 'not', 'tense', 'no', 'threatening', 'angry', 'not', 'no', 'hard', 'hurt', 'not', 'not', 'not', 'no', 'fight', 'not', 'not', 'never', 'never', 'never', 'confused', 'not', 'lose', 'grave', 'ignorant', 'never', 'no', 'not', 'not', 'no', 'impossible', 'not', 'never', 'not', 'not', 'never', 'never', 'never', 'hard', 'not', 'not', 'nobody', 'no', 'not', 'not', 'hate', 'bad', 'ignore', 'not', 'no', 'not', 'negate', 'not', 'alarming', 'not', 'not', 'no', 'angry', 'not', 'no', 'appalling', 'not', 'appalling', 'not', 'not', 'not', 'not', 'no', 'bad', 'not', 'not', 'no', 'not', 'never', 'criminal', 'no', 'unjust', 'not', 'grim', 'not', 'gruesome', 'not', 'dead', 'not', 'terrible', 'not', 'never', 'not', 'broken', 'disease', 'not', 'not', 'not', 'severe', 'not', 'not', 'grave', 'no', 'corrupt', 'not', 'not', 'never', 'terrible', 'not', 'never', 'not', 'no', 'no', 'no', 'no', 'not', 'hard', 'not', 'hard', 'not', 'crazy', 'criminal', 'bad', 'not', 'not', 'bad', 'bad', 'stressful', 'not', 'no', 'terrible', 'not', 'no', 'not', 'missing', 'not', 'hard', 'missing', 'not', 'lose', 'no', 'not', 'no', 'fail', 'naive', 'never', 'criminal', 'savage', 'not', 'old', 'hard', 'not', 'not', 'not', 'not', 'no', 'angry', 'not', 'damage', 'not', 'angry', 'confused', 'not', 'never', 'wound', 'not', 'awful', 'not', 'old', 'sick', 'not', 'not', 'not', 'not', 'not', 'ignore', 'impossible', 'no', 'hard', 'not', 'not', 'not', 'no', 'not', 'no', 'never', 'not', 'unhealthy', 'not', 'unhealthy', 'not', 'no', 'not', 'poor', 'not', 'no', 'not', 'not', 'broken', 'not', 'never', 'not', 'upset', 'not', 'not', 'no', 'deny', 'deny', 'not', 'not', 'no', 'not', 'mean', 'not', 'not', 'no', 'no', 'not', 'mean', 'not', 'not', 'not', 'not', 'not', 'criminal', 'criminal', 'no', 'no', 'not', 'unjust', 'not', 'criminal', 'no', 'nobody', 'never', 'no', 'no', 'not', 'not', 'never', 'disgusting', 'not', 'not', 'corrupt', 'never', 'corrupt', 'savage', 'deny', 'not', 'not', 'not', 'no', 'not', 'not', 'not', 'not', 'shocking', 'no', 'quit', 'not', 'bad', 'not', 'not', 'hard', 'quit', 'quit', 'crazy', 'hard', 'not', 'no', 'no', 'not', 'fight', 'nasty', 'despicable', 'not', 'never', 'not', 'not', 'not', 'dirty', 'negative', 'not', 'no', 'old', 'hard', 'not', 'dead', 'not', 'angry', 'not', 'not', 'not', 'not', 'never', 'not', 'not', 'not', 'lousy', 'no', 'hard', 'not', 'hard', 'not', 'hostile', 'not', 'fight', 'not', 'suspicious', 'not', 'not', 'angry', 'no', 'suspect', 'not', 'not', 'hard', 'no', 'poor', 'not', 'threatening', 'shocking', 'mean', 'no', 'ignore', 'not', 'fear', 'undermine', 'not', 'scary', 'no', 'criminal', 'no', 'despicable', 'terrible', 'bad', 'not', 'not', 'not', 'not', 'not', 'hard', 'nobody', 'not', 'not', 'plain', 'upset', 'not', 'not', 'not', 'not', 'not', 'not', 'injure', 'not', 'not', 'nobody', 'not', 'not', 'not', 'angry', 'not', 'not', 'suspicious', 'no', 'not', 'never', 'not', 'crazy', 'crazy', 'never', 'not', 'no', 'mean', 'not', 'never', 'not', 'poor', 'insane', 'hate', 'never', 'filthy', 'scare', 'appalling', 'not', 'not', 'not', 'not', 'hard', 'bad', 'grim', 'not', 'mean', 'negative', 'no', 'not', 'not', 'not', 'oppressive', 'not', 'not', 'not', 'not', 'not', 'not', 'criminal', 'unwelcome', 'malicious', 'not', 'not', 'not', 'not', 'not', 'not', 'not', 'not', 'no', 'damaging', 'not', 'ignore', 'no', 'threatening', 'not', 'fight', 'not', 'threatening', 'nobody', 'fight', 'no', 'not', 'hard', 'no', 'no', 'no', 'no', 'missing', 'sick', 'not', 'dead', 'not', 'hurtful', 'not', 'not', 'not', 'not', 'not', 'not', 'no', 'no', 'not', 'not', 'bad', 'no', 'no', 'not', 'not', 'no', 'not', 'not', 'not', 'not', 'not', 'no', 'no', 'not', 'no', 'not', 'missing', 'missing', 'not', 'criminal', 'missing', 'old', 'beneath', 'not', 'never', 'never', 'no', 'no', 'never', 'insidious', 'hate', 'stuck', 'lousy', 'damage', 'impossible', 'insidious', 'cold', 'reject', 'no', 'fight', 'not', 'not', 'old', 'old', 'not', 'not', 'not', 'terrifying', 'scary', 'no', 'no', 'collapse', 'not', 'old', 'not', 'not', 'not', 'not', 'threatening', 'never', 'not', 'hard', 'not', 'not', 'not', 'distress', 'not', 'not', 'not', 'never', 'not', 'no', 'not', 'bad', 'no', 'never', 'not', 'not', 'hard', 'not', 'fear', 'not', 'not', 'horrible', 'not', 'corrupt', 'never', 'no', 'never', 'no', 'no', 'not', 'not', 'bad', 'sad', 'sad', 'no', 'no', 'no', 'no', 'not', 'not', 'bad', 'never', 'not', 'never', 'negative', 'not', 'never', 'horrible', 'not', 'mean', 'not', 'not', 'terrible', 'not', 'never', 'not', 'no', 'never', 'not', 'dead', 'negative', 'not', 'not', 'not', 'not', 'not', 'not', 'never', 'corrupt', 'not', 'not', 'no', 'not', 'negative', 'not', 'criminal', 'corrupt', 'not', 'no', 'never', 'damage', 'not', 'hard', 'bad', 'dirty', 'negative', 'never', 'hard', 'threatening', 'old', 'stuck', 'cutting', 'not', 'no', 'not', 'not', 'dismal', 'apathy', 'negative', 'bad', 'no', 'cold', 'not', 'no', 'no', 'not', 'wary', 'not', 'not', 'dead', 'never', 'not', 'not', 'not', 'not', 'not', 'not', 'not', 'not', 'mean', 'no', 'not', 'not', 'pain', 'not', 'not', 'poor', 'no', 'criminal', 'not', 'not', 'not', 'suspect', 'not', 'not', 'not', 'not', 'not', 'not', 'not', 'not', 'unwieldy', 'not', 'not', 'not', 'not', 'not', 'not', 'terrible', 'not', 'not', 'negative', 'corrupt', 'unfair', 'never', 'terrible', 'criminal', 'not', 'old', 'not', 'insidious', 'no', 'not', 'not', 'not', 'fail', 'dead', 'negative', 'never', 'despicable', 'never', 'not', 'never', 'adverse', 'damage', 'not', 'not', 'not', 'angry', 'poor', 'never', 'old', 'not', 'no', 'old', 'hard', 'lose', 'poor', 'poor', 'never', 'no', 'no', 'no', 'not', 'not', 'no', 'not', 'not', 'no', 'not', 'no', 'not', 'sad', 'not', 'not', 'no', 'not', 'not', 'scare', 'threatening', 'not', 'no', 'never', 'threatening', 'not', 'no', 'no', 'never', 'not', 'no', 'hard', 'not', 'not', 'no', 'not', 'broken', 'not', 'undermine', 'not', 'not', 'not', 'not', 'not', 'not', 'not', 'impossible', 'not', 'not', 'not', 'not', 'no', 'no', 'not', 'not', 'no', 'not', 'not', 'not', 'not', 'not', 'fight', 'not', 'fear', 'not', 'no', 'not', 'spring', 'not', 'annoy', 'not', 'not', 'no', 'no', 'collapse', 'not', 'not', 'not', 'not', 'not', 'not', 'not', 'not', 'not', 'broken', 'not', 'not', 'not', 'no', 'hostile', 'no', 'fear', 'lose', 'reject', 'monstrous', 'never', 'vice', 'not', 'not', 'vice', 'dead', 'anxious', 'not', 'crazy', 'stupid', 'not', 'not', 'no', 'not', 'not', 'hate', 'not', 'never', 'not', 'not', 'no', 'not', 'not', 'not', 'not', 'not', 'not', 'never', 'not', 'no', 'not', 'never', 'lousy', 'pessimistic', 'not', 'bad', 'no', 'not', 'no', 'not', 'not', 'not', 'imperfect', 'lousy', 'not', 'grave', 'never', 'hostile', 'not', 'not', 'damage', 'not', 'never', 'not', 'old', 'suspicious', 'not', 'no', 'evil', 'old', 'not', 'broken', 'not', 'no', 'no', 'no', 'terrible', 'no', 'not', 'no', 'not', 'not', 'no', 'not', 'not', 'not', 'poor', 'suspicious', 'poor', 'damage', 'damage', 'no', 'fight', 'fight', 'filthy', 'no', 'not', 'not', 'not', 'criminal', 'not', 'no', 'not', 'not', 'not', 'not', 'no', 'foul', 'no', 'no', 'messy', 'tense', 'dead', 'not', 'fear', 'criminal', 'not', 'not', 'not', 'not', 'not', 'impossible', 'not', 'not', 'never', 'not', 'never', 'angry', 'not', 'no', 'callous', 'insidious', 'not', 'bad', 'not', 'not', 'not', 'not', 'not', 'no', 'not', 'never', 'lose', 'not', 'never', 'not', 'not', 'no', 'not', 'vice', 'no', 'not', 'not', 'not', 'not', 'not', 'no', 'collapse', 'not', 'not', 'not', 'upset', 'not', 'fear', 'not', 'bad', 'never', 'not', 'not', 'fear', 'not', 'not', 'suspicious', 'not', 'not', 'gruesome', 'not', 'ghastly', 'never', 'no', 'not', 'not', 'not', 'disease', 'never', 'fight', 'not', 'not', 'not', 'horrible', 'not', 'severe', 'old', 'not', 'negative', 'pessimistic', 'negative', 'not', 'hard', 'lose', 'lose', 'not', 'nobody', 'not', 'bad', 'not', 'wound', 'horrible', 'horrible', 'never', 'dead', 'mean', 'no', 'terrible', 'no', 'no', 'no', 'bad', 'not', 'not', 'not', 'not', 'old', 'fight', 'no', 'fear', 'not', 'not', 'not', 'never', 'no', 'no', 'no', 'severe', 'scream', 'hard', 'no', 'never', 'never', 'not', 'never', 'never', 'no', 'not', 'not', 'not', 'not', 'not', 'sick', 'not', 'not', 'belligerent', 'not', 'not', 'not', 'lousy', 'lousy', 'lousy', 'no', 'not', 'not', 'not', 'corrupt', 'dirty', 'dirty', 'not', 'not', 'corrupt', 'not', 'not', 'no', 'not', 'no', 'no', 'not', 'not', 'bad', 'bad', 'not', 'not', 'not', 'mean', 'never', 'alarming', 'nobody', 'not', 'not', 'not', 'not', 'poor', 'vicious', 'not', 'hard', 'lose', 'poor', 'not', 'not', 'zero', 'never', 'hard', 'fear', 'greed', 'never', 'never', 'not', 'never', 'not', 'never', 'never', 'not', 'contrary', 'not', 'not', 'angry', 'not', 'mean', 'no', 'not', 'not', 'nobody', 'bad', 'not', 'never', 'not', 'never', 'not', 'damage', 'unpleasant', 'fail', 'not', 'not', 'not', 'not', 'not', 'not', 'never', 'not', 'no', 'no', 'not', 'not', 'guilty', 'not', 'bad', 'fight', 'not', 'not', 'lose', 'not', 'not', 'no', 'not', 'fight', 'not', 'ill', 'ugly', 'no', 'not', 'old', 'not', 'not', 'not', 'not', 'never', 'fight', 'old', 'hate', 'not', 'never', 'not', 'not', 'not', 'not', 'menacing', 'deny', 'bad', 'not', 'no', 'not', 'awful', 'lousy', 'not', 'no', 'stuck', 'fight', 'fear', 'not', 'fear', 'no', 'suspect', 'hate', 'sick', 'no', 'threatening', 'not', 'hate', 'missing', 'bad', 'no', 'no', 'not', 'not', 'stuck', 'contrary', 'broken', 'angry', 'not', 'hard', 'not', 'not', 'not', 'zero', 'no', 'criminal', 'not', 'grave', 'never', 'not', 'nobody', 'not', 'not', 'evil', 'not', 'no', 'suspicious', 'not', 'old', 'no', 'not', 'not', 'stupid', 'not', 'imperfect', 'not', 'appalling', 'not', 'no', 'not', 'not', 'no', 'not', 'no', 'not', 'not', 'never', 'not', 'upset', 'no', 'bad', 'not', 'evil', 'not', 'no', 'no', 'not', 'vice', 'never', 'no', 'not', 'no', 'not', 'not'], 'Daniel Nussbaum': ['bad', 'bad', 'bad', 'ignore', 'not', 'no', 'corrupt', 'never', 'not', 'suspect', 'suspicious', 'never', 'never', 'no', 'ill', 'disgusting', 'shocking', 'hard', 'fight', 'not', 'bad', 'poor', 'no', 'not', 'not', 'quit', 'not', 'no', 'never', 'not', 'not', 'not', 'not', 'dont', 'not', 'stupid', 'ignorant', 'no', 'not', 'hate', 'not', 'vile', 'not', 'no', 'no', 'criminal', 'no', 'no', 'no', 'criminal', 'no', 'sad', 'not', 'greed', 'never', 'not', 'no', 'no', 'no', 'not', 'no', 'stupid', 'no', 'no', 'fight', 'fight', 'fight', 'not', 'poor', 'no', 'not', 'no', 'no', 'no', 'not', 'fight', 'disgusting', 'disgusting', 'not', 'disgusting', 'no', 'not', 'not', 'not', 'not', 'not', 'not', 'not', 'no', 'not', 'nobody', 'impossible', 'not', 'not', 'negative', 'not', 'no', 'fight', 'adverse', 'not', 'not', 'not', 'scare', 'never', 'not', 'never', 'zero', 'hard', 'no', 'mean', 'not', 'no', 'no', 'cry', 'gross', 'monstrous', 'no', 'fail', 'not', 'not', 'not', 'not', 'questionable', 'dead', 'old', 'terrifying', 'villainous', 'fear', 'never', 'fear', 'not', 'mean', 'not', 'not', 'not', 'not', 'not', 'not', 'not', 'never', 'not', 'not', 'awful', 'no', 'criminal', 'not', 'sick', 'no', 'no', 'never', 'not', 'offensive', 'offensive', 'no', 'no', 'vicious', 'fight', 'no', 'not', 'not', 'upset', 'bad', 'never', 'not', 'confused', 'not', 'not', 'not', 'not', 'not', 'never', 'sick', 'not', 'hard', 'old', 'hard', 'no', 'not', 'not', 'not', 'vile', 'never', 'hideous', 'not', 'not', 'gross', 'dismal', 'not', 'fight', 'not', 'cutting', 'not', 'not', 'not', 'no', 'not', 'not', 'not', 'horrible', 'lose', 'crazy', 'no', 'pain', 'not', 'not', 'no', 'impossible', 'no', 'no', 'bad', 'never', 'fear', 'not', 'not', 'deny', 'no', 'not', 'not', 'never', 'not', 'fight', 'no', 'not', 'not', 'upset', 'not', 'not', 'not', 'messy', 'not', 'suspect', 'hate', 'fear', 'terrible', 'horrible', 'not', 'offensive', 'not', 'not', 'savage', 'not', 'villainous', 'old', 'old', 'no', 'quit', 'no', 'no', 'not', 'broken', 'severe', 'no', 'not', 'not', 'upset', 'hard', 'not', 'not', 'never', 'not', 'ignore', 'not', 'never', 'not', 'not', 'not', 'not', 'not', 'fear', 'vice', 'severe', 'not', 'damage', 'no', 'harmful', 'not', 'not', 'not', 'not', 'no', 'no', 'no', 'mean', 'not', 'zero', 'not', 'hard', 'not', 'not', 'not', 'never', 'hurt', 'not', 'never', 'never', 'not', 'sick', 'not', 'not', 'spring', 'not', 'not', 'hate', 'hate', 'hate', 'not', 'never', 'never', 'mean', 'not', 'not', 'never', 'not', 'not', 'fight', 'fight', 'creepy', 'missing', 'bad', 'negative', 'not', 'not', 'not', 'rocky', 'vice', 'never', 'never', 'fear', 'not', 'not', 'shocking', 'fear', 'gruesome', 'broken', 'not', 'not', 'not', 'not', 'not', 'smelly', 'not', 'not', 'weary', 'not', 'not', 'not', 'not', 'not', 'no', 'awful', 'no', 'unwanted', 'not', 'not', 'negative', 'not', 'not', 'not', 'not', 'not', 'old', 'hard', 'old', 'hard', 'bad', 'poor', 'not', 'bad', 'not', 'upset', 'old', 'not', 'not', 'not', 'not', 'threatening', 'no', 'suspect', 'not', 'shocking', 'not', 'not', 'not', 'not', 'not', 'quit', 'quit', 'not', 'not', 'not', 'no', 'never', 'not', 'not', 'not', 'not', 'criminal', 'vice', 'no', 'cutting', 'no', 'no', 'no', 'no', 'not', 'not', 'no', 'not', 'not', 'not', 'not', 'angry', 'never', 'nobody', 'fear', 'not', 'not', 'angry', 'no', 'not', 'not', 'not', 'lose', 'sorry', 'never', 'stupid', 'ignorant', 'negative', 'not', 'not', 'not', 'not', 'not', 'not', 'cutting', 'old', 'never', 'dead', 'not', 'hurt', 'not', 'never', 'shocking', 'not', 'not', 'no', 'not', 'not', 'negative', 'not', 'not', 'not', 'not', 'not', 'not', 'not', 'not', 'not', 'not', 'not', 'hate', 'no', 'not', 'not', 'not', 'not', 'not', 'never', 'not', 'never', 'not', 'not', 'no', 'ruthless', 'not', 'not', 'never', 'no', 'not', 'not', 'not', 'poor', 'not', 'mean', 'not', 'not', 'not', 'not', 'hard', 'terrifying', 'no', 'vice', 'fight', 'vice', 'not', 'fight', 'never', 'terrible', 'not', 'not', 'negative', 'mean', 'never', 'not', 'crazy', 'beneath', 'stuck', 'not', 'no', 'mean', 'disgusting', 'never', 'not', 'not', 'no', 'bad', 'damage', 'mean', 'immature', 'never', 'not', 'no', 'ignore', 'not', 'not', 'fear', 'no', 'not', 'not', 'poor', 'poor', 'no', 'not', 'not', 'not', 'not', 'not', 'not', 'never', 'hate', 'not', 'not', 'not', 'shocking', 'not', 'not', 'never', 'awful', 'hurt', 'hurt', 'not', 'not', 'not', 'no', 'never', 'not', 'not', 'hard', 'hard', 'not', 'no', 'not', 'negative', 'not', 'not', 'never', 'not', 'not', 'dead', 'not', 'dead', 'not', 'dead', 'bad', 'dead', 'fear', 'nasty', 'unhappy', 'fight', 'never', 'not', 'sorry', 'poor', 'angry', 'no', 'not', 'negative', 'old', 'bad', 'bad', 'no', 'no', 'not', 'not', 'not', 'not', 'no', 'not', 'not', 'not', 'never', 'no', 'nobody', 'bad', 'not', 'not', 'revolting', 'angry', 'stuck', 'no', 'not', 'ignorant', 'upset', 'ignorant', 'quit', 'not', 'not', 'hurt', 'not', 'not', 'fear', 'not', 'not', 'not', 'sick', 'not', 'not', 'not', 'no', 'not', 'not', 'belligerent', 'foul', 'never', 'never', 'quit', 'not', 'not', 'never', 'lose', 'damage', 'not', 'not', 'stuck', 'angry', 'bad', 'not', 'not', 'hurt', 'awful', 'not', 'not', 'no', 'offensive', 'not', 'contradictory', 'not', 'not', 'fail', 'yell', 'dont', 'spring', 'shocking', 'bad', 'no', 'not', 'not', 'mean', 'never', 'confused', 'disease', 'disease', 'disease', 'disease', 'fear', 'never', 'never', 'not', 'not', 'not', 'hard', 'not', 'not', 'no', 'not', 'ignore', 'not', 'never', 'never', 'not', 'dismal', 'not', 'not', 'no', 'no', 'not', 'hurt', 'fear', 'hate', 'prejudice', 'no', 'bad', 'awful', 'evil', 'insane', 'evil', 'evil', 'insane', 'evil', 'not', 'not', 'not', 'dont', 'not', 'no', 'no', 'broken', 'hard', 'never', 'not', 'no', 'not', 'not', 'no', 'no', 'criminal', 'no', 'criminal', 'angry', 'enraged', 'stuck', 'not', 'not', 'not', 'criminal', 'never', 'criminal', 'criminal', 'grim', 'not', 'angry', 'not', 'not', 'never', 'dead', 'no', 'not', 'old', 'no', 'not', 'not', 'not', 'fight', 'ugly', 'no', 'no', 'not', 'not', 'not', 'not', 'not', 'not', 'no', 'not', 'unjust', 'not', 'sad', 'vice', 'no', 'contrary', 'no', 'no', 'not', 'fight', 'hard', 'no', 'not', 'hostile', 'not', 'not', 'not', 'not', 'pain', 'deplorable', 'not', 'not', 'not', 'not', 'not', 'not', 'guilty', 'no', 'no', 'not', 'not', 'not', 'not', 'not', 'hard', 'hard', 'never', 'never', 'no', 'faulty', 'never', 'never', 'not', 'upset', 'offensive', 'negative', 'not', 'never', 'petty', 'not', 'not', 'not', 'hate', 'fear', 'not', 'threatening', 'threatening', 'hard', 'vice', 'evil', 'distress', 'not', 'vice', 'not', 'not', 'not', 'not', 'fear', 'not', 'threatening', 'threatening', 'never', 'never', 'no', 'not', 'never', 'not', 'not', 'angry', 'angry', 'angry', 'fear', 'no', 'never', 'never', 'never', 'not', 'never', 'not', 'not', 'vice', 'not', 'never', 'not', 'hate', 'hate', 'not', 'not', 'not', 'not', 'not', 'angry', 'not', 'bad', 'not', 'harmful', 'not', 'not', 'no', 'not', 'pain', 'fight', 'hate', 'hate', 'no', 'horrible', 'hideous', 'pain', 'not', 'fear', 'never', 'not', 'never', 'no', 'never', 'not', 'not', 'not', 'not', 'not', 'not', 'nobody', 'boring', 'boring', 'corrupt', 'not', 'hate', 'not', 'hard', 'not', 'hard', 'no', 'not', 'not', 'no', 'not', 'not', 'dead', 'awful', 'foul', 'hostile', 'never', 'fear', 'not', 'ignore', 'hate', 'never', 'no', 'never', 'negative', 'bad', 'bad', 'not', 'no', 'no', 'not', 'not', 'not', 'not', 'not', 'horrible', 'not', 'not', 'lose', 'never', 'old', 'not', 'old', 'hate', 'negative', 'hate', 'negative', 'hate', 'not', 'not', 'boring', 'no', 'boring', 'not', 'not', 'not', 'never', 'lose', 'scary', 'hard', 'wary', 'cold', 'bad', 'fight', 'no', 'fight', 'fight', 'criminal', 'never', 'not', 'never', 'not', 'no', 'not', 'not', 'not', 'not', 'not', 'not', 'not', 'not', 'terrible', 'contrary', 'not', 'sorry', 'not', 'no', 'not', 'not', 'not', 'not', 'not', 'never', 'no', 'missing', 'stuck', 'severe', 'never', 'never', 'no', 'malicious', 'vicious', 'malicious', 'not', 'no', 'no', 'never', 'vice', 'no', 'no', 'not', 'not', 'plain', 'old', 'no', 'no', 'not', 'not', 'not', 'sick', 'no', 'bad', 'not', 'disease', 'dead', 'ill', 'no', 'reject', 'not', 'not', 'not', 'no', 'ugly', 'not', 'not', 'no', 'prejudice', 'not', 'not', 'never', 'not', 'not', 'not', 'severe', 'not', 'evil', 'guilty', 'hate', 'no', 'not', 'poor', 'no', 'bad', 'lose', 'not', 'not', 'bad', 'unfair', 'not', 'hard', 'hard', 'hard', 'not', 'crazy', 'old', 'not', 'crazy', 'hard', 'never', 'no', 'villainous', 'not', 'not', 'evil', 'not', 'not', 'ignore', 'not', 'never', 'terrible', 'not', 'no', 'deny', 'not', 'no', 'belligerent', 'crazy', 'horrible', 'no', 'never', 'never', 'never', 'never', 'never', 'never', 'never', 'not', 'not', 'upset', 'not', 'no', 'vice', 'no', 'mean', 'mean', 'no', 'evil', 'not', 'fight', 'evil', 'evil', 'not', 'no', 'not', 'questionable', 'villainous', 'not', 'not', 'not', 'not', 'not', 'fight', 'never', 'never', 'no', 'not', 'not', 'not', 'cry', 'not', 'not', 'not', 'not', 'never', 'never', 'never', 'sick', 'sick', 'sad', 'zero', 'not', 'never', 'upset', 'not', 'not', 'not', 'lose', 'lose', 'dead', 'not', 'not', 'no', 'hate', 'hurt', 'hate', 'hurt', 'grotesque', 'not', 'not', 'not', 'sorry', 'old', 'never', 'not', 'not', 'not', 'not', 'not', 'no', 'no', 'ill', 'not', 'stupid', 'bad', 'never', 'never', 'never', 'never', 'not', 'not', 'not', 'not', 'mean', 'not', 'fight', 'fight', 'not', 'not', 'never', 'never', 'not', 'terrifying', 'terrifying', 'not', 'beneath', 'not', 'not', 'not', 'suspect', 'suspect', 'fight', 'no', 'contrary', 'never', 'not', 'not', 'not', 'not', 'not', 'not', 'not', 'no', 'no', 'not', 'not', 'not', 'not', 'not', 'not', 'not', 'not', 'mean', 'not', 'no', 'not', 'never', 'fight', 'not', 'hard', 'not', 'not', 'no', 'rotten', 'never', 'never', 'not', 'quit', 'awful', 'hate', 'crazy', 'not', 'hate', 'not', 'not', 'not', 'fear', 'not', 'dead', 'vice', 'disgusting', 'hate', 'no', 'disgusting', 'hate', 'not', 'no', 'not', 'cry', 'cry', 'not', 'mean', 'hard', 'no', 'no', 'never', 'not', 'not', 'never', 'no', 'no', 'offensive', 'hard', 'not', 'terrible', 'hideous', 'not', 'never', 'mean', 'mean', 'not', 'filthy', 'not', 'no', 'old', 'not', 'negative', 'bad', 'not', 'negative', 'deplorable', 'deplorable', 'deplorable', 'deplorable', 'deplorable', 'deplorable', 'not', 'cry', 'not', 'crazy', 'crazy', 'crazy', 'shocking', 'not', 'upset', 'fear', 'bad', 'not', 'never', 'not', 'fight', 'fight', 'not', 'unfair', 'not', 'terrible', 'not', 'old', 'hate', 'hate', 'no', 'no', 'not', 'not', 'no', 'not', 'no', 'not', 'not', 'not', 'not', 'questionable', 'bad', 'not', 'upset', 'hate', 'lose', 'lose', 'not', 'not', 'hurt', 'not', 'not', 'no', 'no', 'not', 'not', 'no', 'terrible', 'bad', 'not', 'never', 'offensive', 'not', 'not', 'no', 'not', 'not', 'not', 'never', 'not', 'hate', 'hate', 'dead', 'scare', 'no', 'not', 'no', 'not', 'not', 'no', 'not', 'fear', 'not', 'crazy', 'no', 'not', 'not', 'not', 'not', 'fear', 'not', 'not', 'not', 'not', 'no', 'not', 'not', 'not', 'nasty', 'hate', 'not', 'not', 'not', 'not', 'not', 'no', 'never', 'shocking', 'not', 'not', 'hard', 'no', 'negative', 'hurt', 'no', 'bad', 'not', 'not', 'criminal', 'not', 'not', 'not', 'not', 'missing', 'never', 'not', 'not', 'not', 'no', 'not', 'not', 'no', 'not', 'never', 'hurt', 'sick', 'not', 'severe', 'no', 'dont', 'not', 'not', 'not', 'fight', 'never', 'not', 'not', 'hate', 'harmful', 'old', 'no', 'not', 'not', 'old', 'no', 'no', 'hard', 'not', 'guilty', 'confused', 'not', 'threatening', 'not', 'not', 'no', 'not', 'lose', 'not', 'lose', 'never', 'wound', 'never', 'not', 'never', 'scary', 'no', 'terrible', 'not', 'not', 'not', 'not', 'not', 'hard', 'not', 'not', 'not', 'no', 'not', 'never', 'not', 'not', 'lose', 'not', 'hurt', 'unfair', 'no', 'not', 'no', 'no', 'no', 'no', 'never', 'not', 'not', 'not', 'not', 'not', 'not', 'lose', 'not', 'not', 'not', 'no', 'mean', 'no', 'not', 'not', 'not', 'not', 'not', 'broken', 'never', 'hate', 'not', 'not', 'not', 'no', 'not', 'not', 'never', 'not', 'not', 'not', 'not', 'not', 'questionable', 'old', 'hate', 'not', 'hate', 'not', 'not', 'not', 'hate', 'no', 'deny', 'not', 'hate', 'not', 'not', 'not', 'no', 'no', 'not', 'not', 'not', 'not', 'hard', 'no', 'hard', 'no', 'no', 'not', 'fight', 'not', 'no', 'criminal', 'criminal', 'not', 'never', 'not', 'vice', 'not', 'not', 'never', 'sorry', 'fear', 'fear', 'never', 'stupid', 'old', 'poor', 'terrible', 'no', 'bad', 'not', 'not', 'not', 'never', 'not', 'bad', 'not', 'not', 'not', 'no', 'ignore', 'fight', 'not', 'not', 'not', 'old', 'not', 'scary', 'never', 'not', 'not', 'no', 'no', 'no', 'sad', 'broken', 'not', 'not', 'broken', 'no', 'hate', 'not', 'not', 'crazy', 'no', 'sad', 'fight', 'unhappy', 'old', 'guilty', 'not', 'not', 'not', 'not', 'vice', 'hard', 'scary', 'not', 'not', 'not', 'hate', 'not', 'angry', 'not', 'never', 'not', 'no', 'stupid', 'mean', 'not', 'not', 'not', 'never', 'bad', 'never', 'no', 'deny', 'no', 'awful', 'not', 'bad', 'not', 'not', 'old', 'old', 'cruel', 'not', 'not', 'terrifying', 'not', 'no', 'hate', 'no', 'worthless', 'worthless', 'not', 'not', 'not', 'not', 'not', 'offensive', 'fear', 'bad', 'not', 'not', 'never', 'not', 'sad', 'sorry', 'no', 'not', 'not', 'vice', 'not', 'not', 'not', 'depressed', 'sick', 'not', 'not', 'not', 'prejudice', 'fight', 'prejudice', 'no', 'not', 'not', 'not', 'never', 'not', 'old', 'worthless', 'not', 'not', 'not', 'not', 'villainous', 'evil', 'offensive', 'hate', 'no', 'evil', 'impossible', 'evil', 'evil', 'vice', 'disgusting', 'not', 'not', 'not', 'not', 'never', 'unhappy', 'no', 'not', 'never', 'not', 'sad', 'not', 'vicious', 'not', 'not', 'not', 'not', 'not', 'not', 'never', 'poor', 'no', 'poor', 'no', 'stupid', 'not', 'never', 'dirty', 'not', 'never', 'revenge', 'not', 'not', 'never', 'not', 'not', 'bad', 'no', 'old', 'not', 'not', 'not', 'not', 'not', 'hurtful', 'no', 'not', 'horrendous', 'no', 'not', 'hate', 'not', 'not', 'not', 'not', 'not', 'ugly', 'not', 'not', 'not', 'angry', 'bad', 'no', 'never', 'not', 'no', 'lose', 'dead', 'not', 'wound', 'wound', 'not', 'threatening', 'not', 'never', 'not', 'fight', 'not', 'never', 'not', 'not', 'fight', 'not', 'fight', 'crazy', 'not', 'crazy', 'not', 'not', 'not', 'not', 'no', 'shocking', 'not', 'not', 'not', 'not', 'bad', 'bad', 'criminal', 'not', 'not', 'no', 'mean', 'fight', 'threatening', 'disgusting', 'no', 'zero', 'hurt', 'not', 'not', 'hate', 'hate', 'not', 'horrible', 'no', 'not', 'not', 'never', 'shocking', 'not', 'oppressive', 'not', 'not', 'vice', 'not', 'no', 'vice', 'not', 'not', 'hate', 'not', 'scary', 'never', 'not', 'hate', 'bad', 'mean', 'lose', 'not', 'not', 'not', 'not', 'not', 'scary', 'never', 'not', 'never', 'not', 'not', 'not', 'never', 'never', 'never', 'poor', 'not', 'dismal', 'unwanted', 'no', 'not', 'not', 'not', 'not', 'not', 'never', 'not', 'never', 'not', 'not', 'never', 'not', 'never', 'no', 'not', 'terrible', 'not', 'not', 'not', 'not', 'never', 'not', 'not', 'pain', 'not', 'no', 'not', 'not', 'not', 'lose', 'not', 'never', 'no', 'not', 'dead', 'dead', 'angry', 'no', 'mean', 'no', 'not', 'not', 'not', 'stuck', 'dont', 'not', 'not', 'hostile', 'sick', 'not', 'mean', 'never', 'bad', 'never', 'not', 'not', 'never', 'not', 'not', 'not', 'mean', 'not', 'not', 'not', 'not', 'old', 'no', 'evil', 'not', 'no', 'no', 'guilty', 'suspect', 'lose', 'not', 'not', 'no', 'scare', 'not', 'not', 'not', 'not', 'not', 'not', 'awful', 'not', 'not', 'not', 'cutting', 'bad', 'not', 'fight', 'fight', 'no', 'not', 'no', 'criminal', 'not', 'no', 'dead', 'not', 'dead', 'no', 'no', 'mean', 'broken', 'negative', 'not', 'missing', 'old', 'distress', 'broken', 'not', 'not', 'never', 'not', 'not', 'not', 'angry', 'not', 'not', 'not', 'negative', 'no', 'not', 'not', 'not', 'never', 'not', 'malicious', 'offensive', 'offensive', 'not', 'vicious', 'ugly', 'messy', 'not', 'never', 'bad', 'not', 'negative', 'not', 'bad', 'not', 'hate', 'hate', 'sick', 'confused', 'fail', 'not', 'boring', 'not', 'old', 'not', 'not', 'not', 'never', 'never', 'lose', 'deny', 'not', 'not', 'never', 'not', 'not', 'not', 'not', 'not', 'not', 'not', 'no', 'not', 'bad', 'not', 'not', 'negative', 'not', 'petty', 'not', 'not', 'never', 'not', 'not', 'not', 'not', 'not', 'not', 'not', 'deny', 'hard', 'never', 'not', 'not', 'not', 'hate', 'nobody', 'prejudice', 'hate', 'fight', 'no', 'no', 'dead', 'hate', 'hate', 'guilty', 'not', 'ugly', 'awful', 'sick', 'scary', 'not', 'not', 'not', 'bad', 'not', 'sick', 'hard', 'never', 'no', 'not', 'not', 'not', 'not', 'not', 'not', 'not', 'no', 'not', 'not', 'not', 'not', 'not', 'stuck', 'damage', 'not', 'terrible', 'dishonest', 'not', 'no', 'not', 'hate', 'hate', 'hate', 'hate', 'not', 'not', 'broken', 'vice', 'not', 'never', 'not', 'no', 'no', 'vice', 'vice', 'anxious', 'not', 'not', 'unfair', 'terrible', 'rude', 'terrible', 'never', 'unfair', 'nobody', 'not', 'terrible', 'rude', 'not', 'not', 'villainous', 'never', 'not', 'not', 'no', 'broken', 'not', 'no', 'alarming', 'no', 'poor', 'no', 'not', 'never', 'disease', 'never', 'crazy', 'not', 'no', 'not', 'no', 'not', 'old', 'old', 'not', 'hurt', 'not', 'not', 'old', 'not', 'upset', 'guilty', 'criminal', 'corrupt', 'criminal', 'not', 'not', 'not', 'no', 'horrendous', 'hard', 'stuck', 'not', 'not', 'not', 'impossible', 'not', 'terrible', 'not', 'ignore', 'never', 'never', 'bad', 'not', 'hate', 'no', 'not', 'not', 'not', 'no', 'not', 'not', 'not', 'not', 'no', 'not', 'not', 'not', 'not', 'damage', 'damage', 'not', 'not', 'never', 'hard', 'not', 'not', 'not', 'old', 'no', 'sorry', 'sad', 'mean', 'mean', 'no', 'not', 'not', 'no', 'nobody', 'not', 'bad', 'not', 'not', 'never', 'no', 'not', 'not', 'no', 'not', 'not', 'dead', 'not', 'bad', 'no', 'not', 'fear', 'fight', 'not', 'not', 'sorry', 'not', 'not', 'never', 'unfair', 'bad', 'gross', 'not', 'not', 'terrible', 'despicable', 'not', 'never', 'not', 'not', 'not', 'poor', 'criminal', 'wound', 'no', 'fight', 'old', 'damage', 'not', 'not', 'not', 'not', 'wound', 'no', 'never', 'no', 'gross', 'not', 'guilty', 'shocking', 'never', 'not', 'not', 'not', 'not', 'no', 'never', 'sick', 'no', 'not', 'not', 'not', 'not', 'hard', 'dead', 'mean', 'never', 'not', 'no', 'no', 'no', 'dirty', 'bad', 'nobody', 'wary', 'never', 'not', 'no', 'not', 'not', 'not', 'fail', 'lose', 'not', 'mean'], 'AWR Hawkins': ['upset', 'not', 'not', 'negative', 'no', 'no', 'suspect', 'suspect', 'suspect', 'suspect', 'not', 'not', 'not', 'fight', 'fight', 'not', 'not', 'no', 'fail', 'not', 'hard', 'criminal', 'not', 'hate', 'not', 'cold', 'hard', 'no', 'fight', 'not', 'not', 'injure', 'not', 'suspect', 'suspect', 'not', 'not', 'suspect', 'suspect', 'suspect', 'suspect', 'suspect', 'not', 'not', 'no', 'no', 'no', 'dead', 'suspect', 'suspect', 'not', 'not', 'not', 'not', 'not', 'fear', 'not', 'suspect', 'no', 'no', 'not', 'hurt', 'hurt', 'not', 'not', 'hard', 'not', 'not', 'not', 'not', 'not', 'not', 'not', 'never', 'not', 'not', 'suspect', 'no', 'hurt', 'no', 'fail', 'ill', 'not', 'never', 'ill', 'not', 'not', 'not', 'not', 'fail', 'not', 'mean', 'not', 'evil', 'evil', 'not', 'no', 'fight', 'not', 'injure', 'sad', 'mean', 'not', 'nasty', 'not', 'not', 'not', 'no', 'deny', 'not', 'suspect', 'criminal', 'lose', 'hard', 'no', 'not', 'criminal', 'broken', 'not', 'not', 'no', 'criminal', 'no', 'not', 'not', 'not', 'not', 'no', 'not', 'not', 'stupid', 'not', 'not', 'stupid', 'no', 'fight', 'no', 'not', 'fight', 'never', 'never', 'not', 'not', 'not', 'not', 'not', 'criminal', 'damage', 'no', 'not', 'no', 'not', 'fight', 'fail', 'horrible', 'fail', 'cry', 'disease', 'not', 'severe', 'not', 'fear', 'adverse', 'lose', 'not', 'no', 'criminal', 'angry', 'suspect', 'not', 'not', 'suspect', 'suspect', 'fight', 'lose', 'never', 'never', 'no', 'not', 'not', 'no', 'fight', 'not', 'not', 'not', 'not', 'not', 'not', 'criminal', 'criminal', 'no', 'no', 'not', 'not', 'not', 'not', 'not', 'no', 'collapse', 'not', 'fight', 'not', 'not', 'no', 'not', 'not', 'mean', 'ill', 'horrendous', 'ill', 'severe', 'no', 'not', 'no', 'missing', 'not', 'not', 'no', 'no', 'no', 'bad', 'not', 'quit', 'undermine', 'not', 'not', 'not', 'hard', 'not', 'horrendous', 'not', 'not', 'fight', 'fight', 'fight', 'fight', 'fight', 'fight', 'fight', 'never', 'not', 'fight', 'no', 'no', 'not', 'not', 'offensive', 'evil', 'horrible', 'not', 'not', 'no', 'not', 'not', 'not', 'not', 'undermine', 'not', 'no', 'not', 'no', 'hurt', 'no', 'not', 'not', 'not', 'not', 'never', 'not', 'not', 'not', 'suspicious', 'suspect', 'suspect', 'not', 'not', 'dead', 'no', 'not', 'no', 'horrendous', 'fear', 'not', 'not', 'fight', 'no', 'bad', 'no', 'not', 'suspect', 'suspect', 'suspect', 'suspect', 'suspect', 'dead', 'not', 'not', 'not', 'not', 'not', 'not', 'not', 'not', 'fight', 'fight', 'not', 'suspect', 'suspect', 'not', 'not', 'fight', 'fight', 'quit', 'not', 'not', 'not', 'not', 'not', 'ill', 'not', 'not', 'not', 'not', 'not', 'not', 'not', 'no', 'not', 'not', 'no', 'hate', 'hate', 'hate', 'suspect', 'bad', 'hate', 'not', 'never', 'ill', 'threatening', 'no', 'no', 'suspect', 'suspect', 'suspect', 'criminal', 'dead', 'suspect', 'suspect', 'not', 'hard', 'not', 'not', 'not', 'not', 'not', 'not', 'not', 'no', 'not', 'not', 'plain', 'no', 'not', 'suspect', 'criminal', 'wound', 'not', 'not', 'not', 'negative', 'not', 'not', 'negative', 'not', 'not', 'suspicious', 'jealous', 'no', 'not', 'no', 'bad', 'guilty', 'suspicious', 'not', 'no', 'not', 'not', 'not', 'not', 'plain', 'criminal', 'not', 'not', 'no', 'no', 'not', 'not', 'no', 'no', 'old', 'no', 'not', 'old', 'old', 'suspect', 'dead', 'suspect', 'suspect', 'not', 'criminal', 'no', 'no', 'not', 'not', 'not', 'zero', 'not', 'not', 'not', 'not', 'not', 'not', 'not', 'not', 'not', 'not', 'not', 'not', 'not', 'not', 'wary', 'not', 'not', 'not', 'no', 'not', 'mean', 'not', 'criminal', 'wound', 'not', 'fear', 'never', 'not', 'criminal', 'zero', 'criminal', 'not', 'lose', 'no', 'broken', 'not', 'criminal', 'no', 'not', 'not', 'criminal', 'criminal', 'not', 'injure', 'suspect', 'suspect', 'suspect', 'suspect', 'suspect', 'not', 'no', 'not', 'no', 'no', 'not', 'horrible', 'ignore', 'not', 'not', 'not', 'not', 'fail', 'not', 'not', 'not', 'questionable', 'mean', 'no', 'not', 'ill', 'not', 'suspect', 'not', 'suspect', 'not', 'dead', 'not', 'not', 'bad', 'cold', 'suspect', 'suspect', 'wound', 'dead', 'suspect', 'suspect', 'suspect', 'suspect', 'suspect', 'not', 'not', 'no', 'criminal', 'no', 'never', 'criminal', 'not', 'grim', 'suspect', 'not', 'not', 'mean', 'no', 'suspect', 'suspect', 'suspect', 'not', 'not', 'not', 'plain', 'not', 'not', 'not', 'not', 'not', 'not', 'criminal', 'not', 'not', 'not', 'old', 'lose', 'not', 'dead', 'stupid', 'stupid', 'bad', 'criminal', 'not', 'lose', 'not', 'lose', 'not', 'not', 'not', 'mean', 'not', 'terrible', 'not', 'not', 'reject', 'damage', 'dead', 'not', 'fight', 'suspect', 'collapse', 'fear', 'cry', 'grim', 'not', 'cold', 'not', 'fight', 'suspect', 'not', 'not', 'no', 'not', 'not', 'never', 'not', 'not', 'not', 'fight', 'no', 'not', 'fail', 'lose', 'no', 'fight', 'fight', 'not', 'not', 'never', 'not', 'old', 'fight', 'no', 'not', 'no', 'suspect', 'not', 'vice', 'mean', 'not', 'not', 'suspect', 'suspect', 'no', 'not', 'not', 'not', 'fight', 'not', 'mean', 'mean', 'suspect', 'broken', 'criminal', 'not', 'criminal', 'not', 'fight', 'not', 'not', 'not', 'not', 'fear', 'not', 'not', 'not', 'not', 'suspect', 'suspect', 'not', 'suspect', 'suspect', 'suspect', 'suspect', 'mean', 'mean', 'not', 'cutting', 'not', 'not', 'bad', 'bad', 'not', 'not', 'no', 'not', 'not', 'no', 'not', 'not', 'not', 'not', 'not', 'dead', 'broken', 'broken', 'vice', 'not', 'cold', 'not', 'not', 'fight', 'fight', 'not', 'fear', 'not', 'not', 'not', 'terrible', 'not', 'not', 'not', 'not', 'not', 'not', 'bad', 'bad', 'fear', 'not', 'nobody', 'criminal', 'not', 'scare', 'not', 'not', 'not', 'not', 'not', 'not', 'not', 'not', 'not', 'not', 'dirty', 'insidious', 'not', 'impossible', 'not', 'bad', 'not', 'not', 'bad', 'no', 'bad', 'not', 'scary', 'not', 'no', 'not', 'not', 'never', 'never', 'not', 'not', 'not', 'not', 'scare', 'not', 'not', 'not', 'not', 'criminal', 'not', 'stuck', 'not', 'not', 'criminal', 'not', 'criminal', 'no', 'criminal', 'criminal', 'not', 'criminal', 'not', 'never', 'not', 'evil', 'not', 'scare', 'not', 'not', 'not', 'not', 'not', 'not', 'not', 'not', 'not', 'not', 'not', 'no', 'not', 'dead', 'not', 'suspect', 'not', 'not', 'fight', 'not', 'not', 'undermine', 'not', 'not', 'not', 'offensive', 'horrible', 'not', 'horrible', 'suspect', 'suspect', 'wound', 'suspect', 'not', 'not', 'not', 'not', 'not', 'no', 'fight', 'not', 'not', 'not', 'no', 'broken', 'not', 'no', 'not', 'not', 'hard', 'not', 'not', 'no', 'no', 'no', 'not', 'cutting', 'not', 'not', 'dead', 'not', 'not', 'never', 'dead', 'never', 'no', 'never', 'not', 'not', 'not', 'not', 'not', 'not', 'not', 'fight', 'not', 'no', 'threatening', 'suspect', 'scare', 'no', 'horrible', 'poor', 'not', 'not', 'not', 'never', 'no', 'not', 'not', 'bad', 'not', 'not', 'missing', 'not', 'not', 'never', 'reject', 'not', 'not', 'not', 'not', 'not', 'not', 'not', 'not', 'not', 'not', 'not', 'not', 'no', 'lose', 'not', 'evil', 'not', 'not', 'not', 'not', 'not', 'not', 'not', 'mean', 'hard', 'bad', 'not', 'deny', 'no', 'suspect', 'no', 'suspect', 'not', 'broken', 'not', 'scare', 'mean', 'no', 'no', 'no', 'not', 'no', 'old', 'not', 'suspect', 'not', 'suspect', 'suspect', 'not', 'not', 'fight', 'suspect', 'suspect', 'fight', 'not', 'not', 'not', 'no', 'evil', 'criminal', 'not', 'not', 'not', 'not', 'not', 'not', 'not', 'no', 'not', 'dead', 'no', 'not', 'never', 'not', 'not', 'not', 'not', 'not', 'criminal', 'not', 'not', 'not', 'not', 'not', 'no', 'no', 'fight', 'fight', 'not', 'not', 'not', 'not', 'not', 'not', 'mean', 'no', 'not', 'not', 'no', 'not', 'no', 'not', 'not', 'fight', 'no', 'no', 'no', 'fight', 'no', 'fight', 'unfair', 'criminal', 'not', 'not', 'no', 'not', 'no', 'not', 'not', 'not', 'not', 'not', 'not', 'not', 'vice', 'not', 'nasty', 'no', 'not', 'not', 'not', 'not', 'no', 'not', 'no', 'not', 'deny', 'not', 'not', 'not', 'not', 'not', 'fear', 'evil', 'hate', 'not', 'dead', 'dead', 'lose', 'sick', 'ignore', 'not', 'no', 'no', 'no', 'criminal', 'dead', 'awful', 'not', 'not', 'bad', 'not', 'not', 'not', 'not', 'not', 'not', 'old', 'not', 'not', 'not', 'no', 'fear', 'not', 'not', 'not', 'not', 'not', 'not', 'criminal', 'not', 'not', 'not', 'criminal', 'not', 'not', 'no', 'not', 'poor', 'not', 'not', 'not', 'not', 'not', 'not', 'not', 'not', 'not', 'not', 'not', 'no', 'not', 'not', 'no', 'not', 'not', 'not', 'not', 'suspect', 'not', 'not', 'not', 'mean', 'not', 'hate', 'not', 'not', 'no', 'callous', 'suspect', 'not', 'fight', 'not', 'not', 'criminal', 'not', 'ill', 'not', 'not', 'vice', 'not', 'not', 'not', 'scary', 'no', 'not', 'never', 'not', 'not', 'not', 'not', 'nobody', 'no', 'not', 'ill', 'not', 'not', 'not', 'not', 'not', 'not', 'no', 'dead', 'suspect', 'dead', 'suspect', 'suspect', 'no', 'not', 'suspect', 'suspect', 'not', 'not', 'not', 'not', 'not', 'not', 'not', 'crazy', 'never', 'bad', 'not', 'not', 'no', 'criminal', 'suspect', 'suspect', 'suspect', 'suspect', 'not', 'suspect', 'contrary', 'not', 'not', 'suspect', 'not', 'not', 'not', 'not', 'nobody', 'not', 'angry', 'dead', 'hate', 'not', 'fight', 'zero', 'not', 'not', 'not', 'not', 'not', 'not', 'insidious', 'not', 'not', 'not', 'not', 'not', 'mean', 'missing', 'not', 'misunderstood', 'not', 'wound', 'no', 'threatening', 'suspect', 'not', 'suspect', 'not', 'threatening', 'lose', 'not', 'not', 'not', 'fight', 'not', 'not', 'wound', 'dead', 'suspect', 'no', 'not', 'criminal', 'suspect', 'never', 'never', 'old', 'shocking', 'not', 'criminal', 'criminal', 'not', 'not', 'not', 'not', 'not', 'not', 'not', 'no', 'not', 'not', 'not', 'not', 'old', 'not', 'not', 'not', 'no', 'not', 'threatening', 'criminal', 'criminal', 'criminal', 'criminal', 'criminal', 'no', 'no', 'not', 'not', 'not', 'no', 'criminal', 'no', 'no', 'no', 'criminal', 'not', 'evil', 'never', 'evil', 'not', 'no', 'criminal', 'old', 'suspect', 'fight', 'suspect', 'not', 'vicious', 'impossible', 'horrible', 'horrible', 'horrible', 'bad', 'criminal', 'not', 'not', 'vice', 'revenge', 'never', 'not', 'suspect', 'suspect', 'hard', 'no', 'not', 'no', 'questionable', 'not', 'not', 'nasty', 'never', 'not', 'undermine', 'no', 'evil', 'no', 'contrary', 'bad', 'bad', 'hurt', 'not', 'not', 'not', 'not', 'never', 'old', 'ill', 'not', 'no', 'not', 'not', 'no', 'never', 'never', 'never', 'no', 'not', 'no', 'not', 'quit', 'not', 'not', 'not', 'not', 'not', 'not', 'collapse', 'not', 'not', 'not', 'no', 'not', 'no', 'not', 'hard', 'hard', 'not', 'dead', 'never', 'never', 'no', 'not', 'no', 'not', 'horrible', 'not', 'sorry', 'not', 'not', 'no', 'no', 'not', 'not', 'not', 'not', 'not', 'no', 'evil', 'not', 'not', 'not', 'not', 'no', 'never', 'nobody', 'not', 'not', 'not', 'hard', 'bad', 'distress', 'not', 'not', 'not', 'not', 'not', 'not', 'not', 'not', 'not', 'no', 'not', 'deny', 'not', 'not', 'fight', 'not', 'no', 'not', 'not', 'no', 'ignore', 'hate', 'hard', 'not', 'ignore', 'ignore', 'ignore', 'not', 'not', 'depressed', 'no', 'not', 'never', 'not', 'not', 'not', 'not', 'cruel', 'bad', 'dirty', 'cruel', 'never', 'not', 'not', 'not', 'not', 'suspect', 'not', 'suspect', 'suspect', 'not', 'no', 'not', 'not', 'suspect', 'suspect', 'damage', 'not', 'not', 'not', 'not', 'offensive', 'mean', 'bad', 'mean', 'fear', 'suspect', 'suspect', 'suspect', 'hard', 'not', 'not', 'cold', 'not', 'cold', 'not', 'not', 'suspect', 'suspect', 'suspect', 'no', 'no', 'no', 'criminal', 'broken', 'suspect', 'not', 'not', 'never', 'not', 'criminal', 'not', 'dead', 'no', 'criminal', 'no', 'vice', 'no', 'not', 'fear', 'not', 'not', 'no', 'not', 'not', 'no', 'not', 'hate', 'no', 'not', 'not', 'not', 'not', 'not', 'not', 'criminal', 'not', 'not', 'no', 'hard', 'not', 'not', 'not', 'criminal', 'horrendous', 'not', 'no', 'fight', 'not', 'not', 'terrible', 'no', 'not', 'wound', 'never', 'fight', 'no', 'dead', 'not', 'bad', 'fight', 'fight', 'disgusting', 'not', 'fight', 'no', 'fight', 'not', 'fight', 'fight', 'never', 'fight', 'not', 'bad', 'contrary', 'no', 'wound', 'suspect', 'suspect', 'hard', 'suspect', 'never', 'bad', 'not', 'not', 'not', 'not', 'no', 'not', 'not', 'no', 'not', 'suspicious', 'not', 'not', 'not', 'not', 'not', 'cutting', 'bad', 'not', 'vice', 'bad', 'bad', 'not', 'not', 'dismal', 'no', 'scary', 'not', 'no', 'not', 'fight', 'criminal', 'not', 'offensive', 'not', 'not', 'nobody', 'no', 'fail', 'dead', 'not', 'wound', 'nobody', 'not', 'old', 'not', 'no', 'not', 'not', 'no', 'not', 'not', 'not', 'evil', 'not', 'injure', 'not', 'dead', 'not', 'sad', 'mean', 'fight', 'fight', 'suspect', 'suspect', 'suspect', 'suspect', 'suspect', 'suspect', 'wound', 'guilty', 'not', 'hate', 'hate', 'not', 'not', 'hate', 'fail', 'not', 'not', 'not', 'no', 'no', 'suspect', 'no', 'no', 'fight', 'not', 'fight', 'not', 'not', 'not', 'not', 'creepy', 'not', 'not', 'not', 'not', 'never', 'not', 'fight', 'not', 'not', 'scary', 'not', 'not', 'not', 'no', 'not', 'not', 'suspect', 'suspect', 'not', 'dead', 'criminal', 'criminal', 'not', 'criminal', 'criminal', 'not', 'not', 'hard', 'hard', 'hate', 'hate', 'not', 'not', 'never', 'no', 'no', 'not', 'not', 'impossible', 'bad', 'not', 'not', 'dead', 'no', 'dead', 'not', 'no', 'fight', 'fear', 'not', 'not', 'not', 'criminal', 'not', 'fight', 'not', 'not', 'deny', 'criminal', 'not', 'not', 'fear', 'fear', 'hard', 'fight', 'fight', 'never', 'never', 'not', 'not', 'not', 'not', 'not', 'not', 'not', 'criminal', 'not', 'not', 'no', 'not', 'deny', 'not', 'bad', 'no', 'not', 'not', 'not', 'never', 'no', 'not', 'not', 'not', 'not', 'reject', 'fight', 'no', 'not', 'not', 'criminal', 'ignore', 'not', 'not', 'not', 'not', 'not', 'scary', 'not', 'not', 'not', 'not', 'not', 'not', 'confused', 'suspect', 'not', 'not', 'not', 'not', 'not', 'not', 'cold', 'suspect', 'suspect', 'not', 'not', 'not', 'not', 'stuck', 'negative', 'not', 'fear', 'not', 'not', 'not', 'not', 'not', 'not', 'not', 'never', 'not', 'dead', 'no', 'criminal', 'no', 'no', 'not', 'no', 'no', 'sick', 'not', 'not', 'not', 'not', 'not', 'not', 'criminal', 'criminal', 'no', 'fear', 'not', 'not', 'not', 'not', 'not', 'not', 'not', 'no', 'never', 'criminal', 'criminal', 'fight', 'dead', 'not', 'no', 'old', 'zero', 'mean', 'not', 'not', 'stuck', 'suspect', 'suspect', 'pain', 'suspect', 'suspect', 'suspect', 'suspect', 'suspect', 'suspect', 'not', 'not', 'no', 'not', 'eroding', 'not', 'collapse', 'fight', 'not', 'not', 'offensive', 'offensive', 'not', 'not', 'never', 'not', 'not', 'not', 'no', 'bad', 'not', 'criminal', 'no', 'hard', 'not', 'contrary', 'no', 'fight', 'not', 'not', 'wound', 'wound', 'dead', 'no', 'fear', 'fear', 'not', 'not', 'no', 'not', 'not', 'not', 'undermine', 'undermine', 'not', 'not', 'not', 'not', 'not', 'dead', 'sad', 'not', 'criminal', 'damage', 'not', 'not', 'not', 'not', 'hard', 'hard', 'no', 'not', 'suspect', 'suspect', 'not', 'no', 'dead', 'not', 'no', 'not', 'not', 'not', 'not', 'criminal', 'not', 'criminal', 'not', 'not', 'not', 'no', 'criminal', 'not', 'not', 'mean', 'mean', 'criminal', 'fight', 'fail', 'no', 'no', 'not', 'not', 'not', 'not', 'criminal', 'not', 'no', 'hard', 'no', 'no', 'not', 'no', 'not', 'not', 'not', 'hard', 'hard', 'not', 'not', 'sad', 'sad', 'hard', 'not', 'not', 'crazy', 'mean', 'never', 'mean', 'not', 'not', 'not', 'not', 'not', 'guilty', 'not', 'not', 'terrible', 'ill', 'ill', 'never', 'no', 'ill', 'not', 'no', 'poor', 'not', 'not', 'bad', 'not', 'fear', 'not', 'no', 'not', 'not', 'not', 'not', 'not', 'insane', 'not', 'fight', 'fight', 'no', 'not', 'guilty', 'guilty', 'not', 'not', 'old', 'not', 'not', 'bad', 'bad', 'not', 'suspect', 'never', 'horrendous', 'horrendous', 'horrendous', 'suspect', 'suspect', 'never', 'not', 'not', 'not', 'not', 'not', 'fight', 'not', 'never', 'never', 'fight', 'broken', 'not', 'mean', 'mean', 'not', 'not', 'not', 'not', 'criminal', 'not', 'no', 'not', 'missing', 'not', 'no', 'not', 'not', 'not', 'dead', 'dead', 'old', 'never', 'not', 'not', 'no', 'not', 'not', 'not', 'severe', 'not', 'not', 'not', 'not', 'no', 'not', 'never', 'cutting', 'not', 'not', 'no', 'not', 'bad', 'no', 'fear', 'fear', 'not', 'not', 'dead', 'no', 'not', 'not', 'no', 'no', 'no', 'no', 'dead', 'not', 'no', 'not', 'not', 'suspect', 'suspect', 'suspect', 'suspect', 'not', 'not', 'dead', 'damage', 'no', 'not', 'never', 'not', 'not', 'evil', 'not', 'not', 'not', 'not', 'not', 'not', 'not', 'not', 'suspect', 'dead', 'dead', 'suspect', 'suspect', 'suspect', 'no', 'no', 'not', 'never', 'not', 'no', 'no', 'bad', 'evil', 'never', 'criminal', 'not', 'not', 'criminal', 'no', 'not', 'not', 'scare', 'not', 'not', 'horrible', 'not', 'not', 'criminal', 'not', 'insane', 'not', 'not', 'not', 'not', 'not', 'not', 'not', 'mean', 'hard', 'not', 'not', 'not', 'not', 'never', 'evil', 'no', 'not', 'not', 'not', 'not', 'not', 'not', 'mean', 'never', 'not', 'not', 'not', 'suspect', 'suspect', 'not', 'vice', 'never', 'not', 'not', 'never', 'lose', 'insidious', 'not', 'no', 'criminal', 'fail', 'not', 'impossible', 'cry', 'not', 'not', 'not', 'not', 'no', 'suspect', 'not', 'not', 'fear', 'not', 'evil', 'evil', 'not', 'not', 'fight', 'fight', 'cold', 'banal', 'not', 'horrible', 'negative', 'not', 'no', 'no', 'mean', 'not', 'not', 'not', 'dead', 'suspect', 'not', 'not', 'not', 'suspect', 'not', 'not', 'not', 'not', 'no', 'no', 'not', 'no', 'not', 'terrible', 'faulty', 'not', 'not', 'not', 'not', 'enraged', 'wound', 'not', 'not', 'suspect', 'not', 'suspect', 'not', 'not', 'horrible', 'no', 'not', 'spring', 'not', 'not', 'not', 'never', 'criminal', 'mean', 'not', 'not', 'suspect', 'not', 'never', 'not', 'not', 'suspect', 'suspect', 'suspect', 'suspect', 'not', 'not', 'no', 'no', 'not', 'not', 'not', 'not', 'not', 'not', 'not', 'not', 'not', 'cry', 'not', 'broken', 'ignore', 'suspect', 'suspect', 'suspect', 'no', 'suspect', 'not', 'not', 'no', 'not', 'poor', 'not', 'not', 'not', 'no', 'not', 'not', 'not', 'not', 'dead', 'not', 'dead', 'dead', 'not', 'vile', 'not', 'no', 'not', 'deprived', 'criminal', 'not', 'no', 'no', 'not', 'not', 'no', 'angry', 'not', 'no', 'no', 'no', 'vice', 'fight', 'hard', 'not', 'not', 'not', 'criminal', 'enraged', 'never', 'not', 'not', 'not', 'not', 'suspect', 'fight', 'suspect', 'suspect', 'not', 'threatening', 'never', 'shocking', 'shocking', 'not', 'no', 'not', 'no', 'scary', 'not', 'criminal'], 'Ian Hanchett': ['hard', 'no', 'not', 'hard', 'not', 'bad', 'not', 'not', 'not', 'no', 'no', 'mean', 'not', 'not', 'not', 'not', 'no', 'no', 'mean', 'not', 'never', 'never', 'not', 'not', 'not', 'no', 'not', 'not', 'mean', 'deny', 'not', 'questionable', 'not', 'criminal', 'not', 'criminal', 'not', 'not', 'not', 'not', 'criminal', 'hate', 'not', 'bad', 'not', 'not', 'not', 'not', 'not', 'not', 'not', 'no', 'no', 'horrible', 'not', 'not', 'not', 'not', 'not', 'not', 'no', 'not', 'no', 'no', 'hard', 'never', 'not', 'never', 'not', 'not', 'no', 'dead', 'not', 'not', 'not', 'not', 'no', 'not', 'no', 'no', 'no', 'hostile', 'hostile', 'not', 'no', 'fight', 'not', 'not', 'bad', 'poor', 'not', 'not', 'not', 'bad', 'plain', 'plain', 'broken', 'not', 'not', 'not', 'not', 'not', 'not', 'not', 'not', 'hate', 'not', 'fight', 'undermine', 'no', 'no', 'suspicious', 'no', 'not', 'criminal', 'not', 'damaging', 'not', 'not', 'no', 'no', 'no', 'not', 'never', 'not', 'stupid', 'not', 'not', 'no', 'revenge', 'not', 'revenge', 'no', 'fight', 'not', 'not', 'not', 'not', 'no', 'not', 'not', 'not', 'not', 'bad', 'stuck', 'nobody', 'suspect', 'cutting', 'not', 'criminal', 'not', 'never', 'dead', 'dead', 'not', 'not', 'criminal', 'not', 'cruel', 'lose', 'not', 'cruel', 'tense', 'hurtful', 'no', 'not', 'not', 'hurtful', 'unfair', 'not', 'not', 'fear', 'no', 'not', 'old', 'fight', 'not', 'not', 'not', 'undermine', 'undermine', 'fight', 'not', 'not', 'not', 'not', 'not', 'not', 'not', 'not', 'not', 'not', 'bad', 'not', 'sick', 'not', 'no', 'not', 'hate', 'not', 'scary', 'not', 'crazy', 'not', 'oppressive', 'hate', 'not', 'not', 'not', 'not', 'no', 'not', 'not', 'not', 'hard', 'not', 'no', 'no', 'not', 'not', 'not', 'not', 'crazy', 'not', 'deny', 'not', 'not', 'not', 'not', 'not', 'hard', 'not', 'not', 'not', 'not', 'not', 'never', 'not', 'never', 'not', 'never', 'not', 'not', 'no', 'not', 'nobody', 'not', 'not', 'bad', 'not', 'not', 'not', 'hard', 'never', 'cutting', 'not', 'no', 'no', 'not', 'suspect', 'not', 'not', 'suspect', 'not', 'nasty', 'not', 'nasty', 'not', 'nasty', 'not', 'nasty', 'nasty', 'not', 'nasty', 'fight', 'not', 'lose', 'not', 'not', 'not', 'threatening', 'threatening', 'not', 'not', 'not', 'not', 'not', 'upset', 'upset', 'not', 'not', 'not', 'not', 'never', 'never', 'not', 'not', 'not', 'sorry', 'suspect', 'upset', 'upset', 'not', 'not', 'not', 'no', 'suspicious', 'no', 'not', 'not', 'hate', 'not', 'hate', 'hard', 'not', 'mean', 'wound', 'cutting', 'not', 'not', 'fight', 'fight', 'not', 'suspect', 'never', 'not', 'not', 'never', 'not', 'no', 'not', 'not', 'not', 'hate', 'not', 'criminal', 'not', 'criminal', 'not', 'not', 'not', 'nobody', 'never', 'no', 'no', 'dishonest', 'dishonest', 'not', 'negative', 'upset', 'dishonest', 'nobody', 'not', 'not', 'cry', 'cry', 'not', 'not', 'upset', 'never', 'wound', 'not', 'not', 'fight', 'not', 'upset', 'not', 'not', 'not', 'not', 'not', 'not', 'not', 'not', 'not', 'not', 'not', 'stuck', 'not', 'guilty', 'not', 'not', 'no', 'criminal', 'fight', 'fight', 'lose', 'fear', 'fear', 'fear', 'not', 'undermine', 'hard', 'not', 'fear', 'fear', 'fear', 'not', 'undermine', 'not', 'fear', 'cold', 'fight', 'fight', 'not', 'fight', 'fight', 'fight', 'not', 'not', 'not', 'fight', 'not', 'criminal', 'criminal', 'criminal', 'criminal', 'reject', 'hostile', 'bad', 'not', 'not', 'not', 'not', 'not', 'broken', 'not', 'no', 'not', 'fight', 'not', 'not', 'frighten', 'not', 'coarse', 'not', 'not', 'coarse', 'not', 'not', 'not', 'not', 'no', 'not', 'hard', 'not', 'hard', 'hard', 'not', 'not', 'not', 'no', 'no', 'broken', 'bad', 'not', 'not', 'never', 'never', 'nobody', 'not', 'not', 'not', 'not', 'not', 'not', 'not', 'angry', 'no', 'not', 'not', 'not', 'not', 'undermine', 'no', 'not', 'not', 'cold', 'cold', 'cold', 'cold', 'hate', 'not', 'hate', 'never', 'wound', 'not', 'not', 'hate', 'never', 'hate', 'not', 'evil', 'no', 'no', 'not', 'not', 'not', 'not', 'not', 'not', 'not', 'collapse', 'vice', 'not', 'no', 'terrible', 'grave', 'lose', 'no', 'no', 'no', 'not', 'not', 'no', 'no', 'no', 'bad', 'no', 'never', 'not', 'not', 'not', 'not', 'never', 'never', 'no', 'no', 'not', 'mean', 'mean', 'mean', 'not', 'not', 'not', 'pain', 'never', 'not', 'pain', 'not', 'not', 'not', 'not', 'not', 'not', 'not', 'not', 'not', 'not', 'not', 'not', 'never', 'not', 'not', 'not', 'no', 'not', 'no', 'impossible', 'suspect', 'no', 'never', 'not', 'not', 'zero', 'not', 'never', 'never', 'not', 'not', 'not', 'not', 'guilty', 'never', 'not', 'no', 'no', 'no', 'not', 'not', 'not', 'gruesome', 'not', 'not', 'scary', 'fear', 'not', 'unhealthy', 'never', 'not', 'never', 'never', 'no', 'not', 'not', 'not', 'unhealthy', 'bad', 'deny', 'not', 'not', 'not', 'offensive', 'not', 'no', 'fight', 'terrible', 'no', 'no', 'not', 'never', 'bad', 'broken', 'mean', 'no', 'cold', 'not', 'hurt', 'terrible', 'terrible', 'terrible', 'not', 'not', 'not', 'not', 'criminal', 'not', 'not', 'not', 'no', 'not', 'not', 'awful', 'bad', 'not', 'hostile', 'bad', 'not', 'not', 'nobody', 'nobody', 'undermine', 'not', 'not', 'sick', 'not', 'not', 'not', 'not', 'no', 'no', 'not', 'unfair', 'unfair', 'awful', 'not', 'no', 'never', 'never', 'damage', 'never', 'not', 'not', 'not', 'not', 'not', 'bad', 'not', 'fight', 'not', 'not', 'not', 'hurt', 'no', 'not', 'rocky', 'dead', 'dead', 'hate', 'hate', 'criminal', 'criminal', 'never', 'terrifying', 'not', 'not', 'not', 'never', 'callous', 'not', 'not', 'not', 'hate', 'no', 'mean', 'ill', 'mean', 'no', 'mean', 'ill', 'criminal', 'no', 'mean', 'not', 'not', 'never', 'mean', 'not', 'no', 'no', 'mean', 'bad', 'bad', 'never', 'never', 'no', 'not', 'not', 'offensive', 'mean', 'not', 'not', 'no', 'no', 'not', 'never', 'not', 'not', 'not', 'no', 'not', 'no', 'poor', 'hurt', 'not', 'hurt', 'rocky', 'nasty', 'hurt', 'not', 'not', 'not', 'not', 'not', 'not', 'not', 'not', 'not', 'broken', 'deny', 'sick', 'not', 'mean', 'sick', 'bad', 'no', 'no', 'not', 'not', 'not', 'not', 'angry', 'not', 'negative', 'pain', 'dirty', 'not', 'bad', 'no', 'not', 'not', 'broken', 'not', 'broken', 'not', 'never', 'no', 'no', 'no', 'not', 'never', 'not', 'pain', 'not', 'not', 'not', 'not', 'not', 'not', 'not', 'not', 'not', 'not', 'not', 'not', 'no', 'gross', 'gross', 'never', 'gross', 'never', 'bad', 'not', 'ill', 'not', 'not', 'not', 'damage', 'no', 'mean', 'poor', 'hate', 'not', 'not', 'not', 'fight', 'not', 'not', 'never', 'not', 'not', 'never', 'not', 'hate', 'not', 'hate', 'threatening', 'threatening', 'unhappy', 'vicious', 'threatening', 'dirty', 'not', 'not', 'threatening', 'threatening', 'threatening', 'not', 'scare', 'threatening', 'not', 'threatening', 'never', 'hard', 'not', 'not', 'undermine', 'hard', 'horrible', 'not', 'fear', 'not', 'fight', 'fight', 'fight', 'not', 'not', 'not', 'never', 'not', 'never', 'hostile', 'mean', 'not', 'not', 'not', 'damaging', 'not', 'not', 'not', 'not', 'no', 'fight', 'no', 'not', 'vice', 'hurt', 'not', 'not', 'not', 'not', 'not', 'no', 'not', 'not', 'rocky', 'hard', 'not', 'rocky', 'not', 'hard', 'not', 'not', 'not', 'cutting', 'no', 'not', 'not', 'not', 'lose', 'no', 'never', 'criminal', 'not', 'not', 'not', 'old', 'severe', 'not', 'never', 'not', 'not', 'not', 'hurt', 'not', 'not', 'no', 'not', 'not', 'bad', 'never', 'hurt', 'not', 'not', 'no', 'never', 'nobody', 'not', 'not', 'not', 'not', 'not', 'not', 'horrible', 'horrible', 'horrible', 'no', 'hard', 'not', 'no', 'not', 'criminal', 'not', 'grave', 'no', 'criminal', 'not', 'hard', 'not', 'not', 'not', 'mean', 'nobody', 'confused', 'evil', 'confused', 'not', 'evil', 'not', 'no', 'no', 'not', 'not', 'no', 'no', 'not', 'not', 'not', 'not', 'not', 'not', 'prejudice', 'mean', 'nasty', 'not', 'not', 'offensive', 'not', 'never', 'horrible', 'rocky', 'rocky', 'not', 'not', 'not', 'not', 'not', 'angry', 'bad', 'not', 'never', 'not', 'never', 'never', 'no', 'not', 'not', 'not', 'no', 'not', 'no', 'dishonest', 'fight', 'fight', 'fight', 'not', 'never', 'not', 'not', 'not', 'not', 'not', 'not', 'not', 'mean', 'not', 'fear', 'fear', 'not', 'not', 'not', 'not', 'never', 'never', 'not', 'not', 'no', 'not', 'no', 'lose', 'not', 'not', 'not', 'not', 'angry', 'not', 'not', 'no', 'terrible', 'no', 'no', 'hard', 'not', 'not', 'not', 'mean', 'depressed', 'hate', 'negative', 'nobody', 'hate', 'negative', 'no', 'questionable', 'not', 'angry', 'not', 'not', 'never', 'damage', 'no', 'not', 'no', 'nobody', 'hurtful', 'not', 'never', 'mean', 'no', 'no', 'mean', 'no', 'nobody', 'never', 'not', 'no', 'no', 'hostile', 'not', 'hostile', 'no', 'no', 'hard', 'no', 'no', 'criminal', 'not', 'not', 'not', 'hard', 'hard', 'not', 'bad', 'criminal', 'fight', 'not', 'not', 'not', 'not', 'not', 'not', 'not', 'not', 'not', 'not', 'not', 'not', 'not', 'not', 'not', 'hard', 'not', 'not', 'bad', 'not', 'contrary', 'adverse', 'not', 'adverse', 'adverse', 'bad', 'horrible', 'unfair', 'not', 'hurt', 'no', 'no', 'no', 'no', 'no', 'not', 'not', 'sinister', 'not', 'not', 'bad', 'old', 'no', 'not', 'no', 'not', 'not', 'not', 'not', 'not', 'bad', 'bad', 'fight', 'no', 'no', 'not', 'not', 'vice', 'no', 'not', 'not', 'no', 'not', 'terrible', 'terrible', 'hard', 'no', 'not', 'never', 'old', 'not', 'dirty', 'never', 'not', 'not', 'not', 'ugly', 'not', 'never', 'not', 'not', 'not', 'not', 'not', 'not', 'not', 'old', 'bad', 'not', 'bad', 'old', 'bad', 'not', 'not', 'never', 'not', 'not', 'never', 'bad', 'not', 'not', 'shocking', 'lose', 'no', 'not', 'never', 'never', 'no', 'pain', 'never', 'not', 'not', 'not', 'not', 'mean', 'no', 'beneath', 'not', 'no', 'not', 'mean', 'no', 'not', 'not', 'no', 'not', 'not', 'not', 'no', 'not', 'not', 'not', 'never', 'not', 'never', 'not', 'not', 'not', 'not', 'not', 'lose', 'not', 'never', 'not', 'not', 'not', 'not', 'hate', 'hate', 'no', 'no', 'not', 'no', 'not', 'not', 'not', 'bad', 'not', 'not', 'not', 'no', 'no', 'no', 'hostile', 'not', 'not', 'not', 'not', 'hate', 'not', 'poor', 'hard', 'not', 'not', 'not', 'never', 'not', 'horrible', 'fight', 'lose', 'no', 'no', 'no', 'not', 'not', 'never', 'bad', 'bad', 'sick', 'sick', 'not', 'no', 'no', 'not', 'not', 'not', 'crazy', 'hard', 'no', 'no', 'not', 'horrible', 'not', 'not', 'not', 'stupid', 'not', 'unfair', 'no', 'criminal', 'not', 'no', 'criminal', 'not', 'never', 'not', 'no', 'criminal', 'not', 'criminal', 'not', 'severe', 'never', 'bad', 'dirty', 'old', 'not', 'not', 'no', 'not', 'never', 'not', 'not', 'criminal', 'not', 'not', 'not', 'hard', 'terrible', 'not', 'not', 'not', 'dead', 'hard', 'not', 'not', 'not', 'not', 'not', 'not', 'damaging', 'not', 'not', 'suspect', 'not', 'not', 'not', 'never', 'not', 'not', 'no', 'not', 'not', 'never', 'no', 'no', 'mean', 'not', 'not', 'vice', 'not', 'not', 'not', 'not', 'never', 'never', 'hate', 'not', 'never', 'not', 'no', 'grotesque', 'not', 'no', 'not', 'bad', 'hard', 'ignore', 'grave', 'damage', 'not', 'not', 'not', 'not', 'not', 'not', 'not', 'no', 'bad', 'reject', 'poor', 'not', 'never', 'not', 'not', 'not', 'no', 'not', 'suspect', 'not', 'not', 'no', 'not', 'not', 'not', 'not', 'not', 'no', 'not', 'not', 'not', 'not', 'not', 'no', 'faulty', 'not', 'fear', 'not', 'not', 'not', 'not', 'not', 'not', 'not', 'not', 'fear', 'fear', 'no', 'no', 'fear', 'fear', 'not', 'not', 'never', 'not', 'not', 'fight', 'fight', 'never', 'lose', 'not', 'not', 'cutting', 'not', 'not', 'criminal', 'lose', 'hard', 'hard', 'never', 'not', 'not', 'not', 'not', 'not', 'not', 'not', 'not', 'not', 'not', 'not', 'never', 'not', 'nobody', 'no', 'never', 'no', 'not', 'not', 'not', 'not', 'not', 'never', 'not', 'not', 'not', 'not', 'vice', 'not', 'suspect', 'suspect', 'not', 'never', 'bad', 'no', 'not', 'not', 'not', 'not', 'poor', 'hate', 'hate', 'hate', 'not', 'not', 'appalling', 'hate', 'no', 'not', 'poor', 'poor', 'never', 'not', 'dead', 'not', 'horrible', 'dead', 'bad', 'hate', 'hate', 'hate', 'not', 'not', 'not', 'bad', 'never', 'bad', 'not', 'never', 'never', 'dead', 'not', 'fight', 'fight', 'not', 'never', 'never', 'upset', 'never', 'upset', 'sad', 'not', 'not', 'not', 'nobody', 'angry', 'not', 'nasty', 'not', 'nobody', 'not', 'not', 'no', 'not', 'no', 'vice', 'crazy', 'stressful', 'missing', 'missing', 'missing', 'not', 'bad', 'bad', 'not', 'ignorant', 'not', 'not', 'not', 'never', 'not', 'not', 'never', 'not', 'not', 'not', 'not', 'not', 'not', 'not', 'not', 'no', 'no', 'not', 'contrary', 'contrary', 'sticky', 'not', 'hurt', 'not', 'no', 'mean', 'never', 'not', 'not', 'not', 'not', 'not', 'not', 'not', 'not', 'hurt', 'hurt', 'not', 'no', 'not', 'no', 'no', 'never', 'never', 'never', 'pain', 'never', 'not', 'not', 'hard', 'mean', 'crazy', 'not', 'not', 'mean', 'crazy', 'no', 'no', 'not', 'not', 'not', 'contrary', 'not', 'reject', 'never', 'no', 'not', 'not', 'not', 'ignore', 'not', 'not', 'hard', 'dead', 'not', 'not', 'scare', 'not', 'dead', 'stupid', 'not', 'not', 'not', 'no', 'old', 'vice', 'not', 'no', 'no', 'not', 'not', 'not', 'not', 'not', 'no', 'not', 'not', 'not', 'not', 'wound', 'not', 'not', 'not', 'fear', 'not', 'poor', 'not', 'threatening', 'not', 'not', 'guilty', 'not', 'contrary', 'not', 'not', 'not', 'not', 'not', 'not', 'no', 'missing', 'not', 'deplorable', 'deplorable', 'not', 'not', 'not', 'not', 'no', 'no', 'not', 'never', 'never', 'not', 'horrible', 'bad', 'not', 'wound', 'damage', 'creepy', 'stuck', 'gross', 'hard', 'disgusting', 'crazy', 'not', 'not', 'terrible', 'corrupt', 'no', 'broken', 'mean', 'never', 'not', 'not', 'not', 'not', 'not', 'lose', 'hard', 'no', 'hard', 'not', 'sad', 'no', 'not', 'no', 'not', 'never', 'never', 'never', 'stuck', 'upset', 'old', 'mean', 'no', 'hard', 'no', 'not', 'no', 'no', 'not', 'cry', 'fight', 'sick', 'not', 'not', 'nobody', 'not', 'scream', 'no', 'hard', 'angry', 'no', 'nonsense', 'not', 'no', 'no', 'no', 'not', 'not', 'dismal', 'not', 'terrible', 'not', 'negative', 'negative', 'negative', 'never', 'negative', 'no', 'negative', 'not', 'no', 'not', 'negative', 'negative', 'never', 'never', 'never', 'not', 'no', 'not', 'not', 'no', 'not', 'not', 'horrible', 'sorry', 'no', 'hard', 'plain', 'not', 'not', 'not', 'not', 'corrupt', 'corrupt', 'rotten', 'no', 'no', 'mean', 'no', 'never', 'no', 'hurt', 'hurt', 'not', 'not', 'not', 'never', 'no', 'not', 'not', 'hard', 'no', 'hard', 'no', 'no', 'sorry', 'not', 'never', 'no', 'no', 'fight', 'never', 'never', 'criminal', 'no', 'not', 'anxious', 'not', 'old', 'not', 'zero', 'not', 'zero', 'not', 'evil', 'not', 'not', 'not', 'not', 'hate', 'not', 'unwanted', 'not', 'mean', 'dirty', 'no', 'not', 'awful', 'awful', 'lose', 'lose', 'not', 'not', 'not', 'not', 'not', 'bad', 'not', 'not', 'not', 'not', 'not', 'not', 'not', 'not', 'no', 'not', 'not', 'no', 'not', 'not', 'not', 'not', 'not', 'not', 'not', 'no', 'not', 'not', 'not', 'fight', 'never', 'nobody', 'no', 'no', 'no', 'fight', 'upset', 'no', 'not', 'not', 'not', 'not', 'not', 'not', 'not', 'no', 'criminal', 'not', 'bad', 'not', 'not', 'not', 'not', 'not', 'criminal', 'never', 'never', 'not', 'not', 'not', 'not', 'dishonest', 'angry', 'not', 'dishonest', 'quit', 'quit', 'not', 'not', 'not', 'old', 'not', 'mean', 'no', 'terrifying', 'not', 'bad', 'not', 'nonsense', 'not', 'suspect', 'never', 'no', 'no', 'crazy', 'not', 'not', 'not', 'dishonest', 'not', 'anxious', 'never', 'not', 'not', 'not', 'no', 'hard', 'not', 'never', 'no', 'hard', 'not', 'not', 'no', 'mean', 'mean', 'mean', 'not', 'deny', 'deny', 'not', 'mean', 'not', 'never', 'never', 'no', 'no', 'nobody', 'not', 'vice', 'not', 'no', 'vice', 'vice', 'not', 'vice', 'not', 'never', 'messy', 'no', 'sinister', 'lose', 'no', 'not', 'not', 'dirty', 'not', 'lose', 'never', 'not', 'never', 'not', 'criminal', 'lose', 'not', 'not', 'not', 'not', 'not', 'hard', 'hate', 'hurt', 'not', 'hate', 'fight', 'not', 'not', 'not', 'not', 'not', 'hard', 'not', 'not', 'not', 'no', 'not', 'no', 'not', 'not', 'not', 'not', 'hard', 'horrible', 'mean', 'dead', 'no', 'never', 'never', 'not', 'not', 'no', 'no', 'not', 'no', 'no', 'no', 'missing', 'no', 'not', 'not', 'criminal', 'criminal', 'not', 'criminal', 'not', 'hard', 'not', 'not', 'not', 'fight', 'fight', 'fight', 'not', 'fight', 'not', 'not', 'no', 'weary', 'no', 'not', 'boring', 'not', 'no', 'hurt', 'poor', 'not', 'not', 'no', 'not'], 'Joel B. Pollak': ['fear', 'not', 'no', 'damage', 'hard', 'not', 'not', 'not', 'prejudice', 'not', 'not', 'confused', 'evil', 'not', 'not', 'not', 'not', 'appalling', 'not', 'not', 'no', 'not', 'undermine', 'not', 'no', 'shocking', 'not', 'broken', 'not', 'never', 'no', 'not', 'not', 'not', 'no', 'not', 'not', 'not', 'not', 'detrimental', 'no', 'no', 'not', 'not', 'no', 'not', 'not', 'not', 'deny', 'not', 'not', 'not', 'not', 'not', 'not', 'no', 'not', 'not', 'not', 'not', 'harmful', 'not', 'not', 'fight', 'never', 'never', 'not', 'mean', 'damage', 'no', 'no', 'no', 'not', 'no', 'not', 'objectionable', 'mean', 'impossible', 'not', 'negate', 'broken', 'not', 'no', 'not', 'not', 'vice', 'not', 'not', 'never', 'fight', 'hostile', 'not', 'not', 'not', 'damage', 'not', 'hate', 'not', 'offensive', 'objectionable', 'not', 'not', 'never', 'no', 'not', 'not', 'hard', 'not', 'not', 'not', 'not', 'never', 'not', 'not', 'not', 'not', 'not', 'not', 'suspect', 'suspect', 'not', 'not', 'not', 'not', 'not', 'no', 'not', 'not', 'not', 'not', 'not', 'not', 'no', 'dead', 'dead', 'old', 'missing', 'not', 'not', 'not', 'no', 'plain', 'not', 'not', 'not', 'no', 'not', 'not', 'not', 'no', 'not', 'not', 'never', 'not', 'not', 'damage', 'never', 'deny', 'negative', 'reject', 'vicious', 'no', 'vicious', 'no', 'no', 'not', 'malicious', 'no', 'no', 'no', 'no', 'no', 'no', 'never', 'never', 'never', 'hate', 'vice', 'cry', 'not', 'not', 'not', 'hurt', 'contrary', 'not', 'no', 'not', 'not', 'impossible', 'evil', 'never', 'not', 'no', 'not', 'no', 'no', 'not', 'not', 'not', 'criminal', 'criminal', 'not', 'confused', 'not', 'confused', 'plain', 'sorry', 'sorry', 'not', 'not', 'not', 'fear', 'not', 'horrible', 'not', 'no', 'fear', 'not', 'foul', 'impossible', 'damage', 'undermine', 'fight', 'never', 'no', 'not', 'missing', 'no', 'not', 'not', 'no', 'not', 'cold', 'not', 'fight', 'not', 'not', 'not', 'odious', 'hate', 'hurtful', 'not', 'never', 'never', 'threatening', 'harmful', 'not', 'fear', 'not', 'not', 'not', 'not', 'offensive', 'not', 'not', 'no', 'suspect', 'suspect', 'no', 'suspect', 'not', 'despicable', 'not', 'not', 'no', 'not', 'not', 'not', 'not', 'not', 'damage', 'no', 'undermine', 'not', 'scare', 'threatening', 'not', 'not', 'not', 'no', 'not', 'no', 'no', 'not', 'not', 'corrupt', 'not', 'not', 'appalling', 'no', 'no', 'corrupt', 'not', 'hard', 'not', 'no', 'not', 'not', 'offensive', 'prejudice', 'upset', 'no', 'no', 'not', 'not', 'not', 'not', 'terrible', 'not', 'not', 'never', 'no', 'not', 'not', 'not', 'mean', 'not', 'no', 'fail', 'fail', 'not', 'damage', 'not', 'fail', 'fail', 'broken', 'not', 'mean', 'no', 'damage', 'no', 'old', 'zero', 'fight', 'bad', 'damage', 'not', 'bad', 'no', 'not', 'lose', 'not', 'no', 'ugly', 'no', 'no', 'not', 'contrary', 'not', 'deny', 'cold', 'fight', 'fight', 'not', 'not', 'not', 'not', 'not', 'not', 'hurt', 'not', 'not', 'not', 'harmful', 'cutting', 'spring', 'not', 'contrary', 'never', 'broken', 'not', 'not', 'no', 'hurt', 'not', 'not', 'not', 'not', 'not', 'not', 'depressed', 'never', 'not', 'fight', 'terrible', 'not', 'lose', 'fear', 'collapse', 'not', 'hard', 'not', 'no', 'lose', 'not', 'fight', 'not', 'scare', 'fight', 'not', 'never', 'no', 'never', 'no', 'criminal', 'never', 'not', 'not', 'not', 'questionable', 'lose', 'fight', 'reject', 'poor', 'not', 'not', 'not', 'not', 'not', 'bad', 'not', 'not', 'not', 'horrible', 'horrible', 'not', 'not', 'not', 'not', 'old', 'poor', 'not', 'not', 'not', 'not', 'dead', 'not', 'corrupt', 'not', 'not', 'never', 'not', 'no', 'tense', 'not', 'damaging', 'undermine', 'no', 'not', 'no', 'damaging', 'never', 'not', 'deny', 'damage', 'not', 'fight', 'fight', 'fight', 'nasty', 'fight', 'no', 'no', 'no', 'old', 'not', 'not', 'not', 'not', 'fail', 'not', 'not', 'not', 'not', 'not', 'no', 'unhappy', 'upset', 'no', 'ignore', 'no', 'no', 'no', 'not', 'not', 'fight', 'undermine', 'not', 'not', 'not', 'no', 'not', 'not', 'not', 'mean', 'mean', 'not', 'mean', 'mean', 'not', 'hard', 'no', 'reject', 'deny', 'not', 'hard', 'no', 'not', 'fail', 'never', 'not', 'fail', 'hard', 'not', 'no', 'not', 'not', 'never', 'not', 'not', 'hostile', 'never', 'not', 'nonsense', 'not', 'not', 'lose', 'broken', 'lose', 'never', 'not', 'never', 'not', 'not', 'no', 'not', 'never', 'no', 'not', 'hard', 'hard', 'not', 'missing', 'no', 'no', 'no', 'not', 'no', 'not', 'not', 'hard', 'threatening', 'not', 'not', 'not', 'not', 'angry', 'not', 'not', 'unwelcome', 'fear', 'hostile', 'not', 'fight', 'ignore', 'not', 'no', 'not', 'not', 'mean', 'not', 'negative', 'not', 'not', 'vicious', 'not', 'not', 'not', 'not', 'not', 'bad', 'undermine', 'not', 'cruel', 'never', 'no', 'no', 'negative', 'not', 'mean', 'mean', 'prejudice', 'mean', 'not', 'never', 'not', 'not', 'not', 'not', 'not', 'not', 'not', 'not', 'not', 'not', 'not', 'not', 'not', 'not', 'not', 'not', 'never', 'not', 'fear', 'fear', 'no', 'undermine', 'not', 'criminal', 'not', 'not', 'not', 'never', 'no', 'not', 'no', 'criminal', 'never', 'no', 'no', 'no', 'not', 'not', 'not', 'hate', 'evil', 'fight', 'not', 'not', 'no', 'never', 'not', 'poor', 'poor', 'dead', 'dead', 'not', 'not', 'not', 'fight', 'threatening', 'suspicious', 'not', 'fear', 'not', 'not', 'not', 'not', 'not', 'zero', 'no', 'not', 'missing', 'not', 'not', 'not', 'impossible', 'never', 'never', 'never', 'bad', 'hurt', 'not', 'not', 'not', 'not', 'never', 'not', 'hostile', 'no', 'not', 'not', 'no', 'not', 'not', 'hostile', 'no', 'not', 'not', 'never', 'no', 'not', 'not', 'fail', 'not', 'no', 'no', 'no', 'not', 'mean', 'never', 'no', 'not', 'no', 'no', 'never', 'no', 'not', 'no', 'no', 'not', 'not', 'not', 'no', 'nobody', 'not', 'no', 'not', 'not', 'no', 'untoward', 'never', 'lose', 'not', 'not', 'not', 'criminal', 'not', 'hurt', 'cold', 'dead', 'sad', 'no', 'poor', 'not', 'old', 'hate', 'never', 'anxious', 'offensive', 'bad', 'never', 'lose', 'not', 'never', 'not', 'not', 'hostile', 'not', 'no', 'fear', 'not', 'severe', 'not', 'collapse', 'not', 'guilty', 'fear', 'not', 'not', 'hostile', 'not', 'no', 'not', 'not', 'not', 'never', 'never', 'no', 'no', 'not', 'not', 'not', 'not', 'not', 'upset', 'not', 'no', 'not', 'no', 'fight', 'not', 'fight', 'ugly', 'not', 'reject', 'hate', 'not', 'not', 'fail', 'not', 'never', 'not', 'not', 'not', 'deny', 'not', 'deny', 'not', 'deny', 'no', 'not', 'hate', 'not', 'not', 'no', 'not', 'bad', 'gross', 'not', 'undermine', 'not', 'not', 'hostile', 'not', 'not', 'not', 'not', 'not', 'never', 'not', 'not', 'no', 'not', 'no', 'corrupt', 'not', 'not', 'not', 'lose', 'severe', 'collapse', 'damage', 'never', 'vicious', 'not', 'never', 'mean', 'never', 'no', 'never', 'never', 'stuck', 'terrible', 'nobody', 'not', 'not', 'not', 'not', 'not', 'no', 'not', 'collapse', 'no', 'not', 'fear', 'not', 'lose', 'not', 'not', 'not', 'never', 'not', 'hate', 'no', 'not', 'not', 'not', 'not', 'not', 'guilty', 'not', 'deny', 'not', 'not', 'no', 'not', 'poor', 'not', 'not', 'no', 'not', 'no', 'pain', 'not', 'mean', 'not', 'old', 'no', 'old', 'never', 'no', 'no', 'never', 'not', 'fight', 'not', 'not', 'frighten', 'not', 'no', 'no', 'damaging', 'hate', 'not', 'disgusting', 'no', 'hurt', 'not', 'revenge', 'shocking', 'not', 'not', 'revenge', 'not', 'no', 'no', 'not', 'not', 'nasty', 'not', 'hard', 'not', 'undermine', 'not', 'undermine', 'not', 'missing', 'not', 'no', 'no', 'guilty', 'shocking', 'not', 'not', 'not', 'no', 'not', 'not', 'not', 'not', 'never', 'no', 'not', 'not', 'not', 'not', 'not', 'not', 'not', 'impossible', 'hate', 'not', 'suspect', 'never', 'not', 'not', 'mean', 'not', 'not', 'not', 'not', 'not', 'not', 'hard', 'not', 'not', 'not', 'negative', 'no', 'no', 'not', 'no', 'no', 'fear', 'no', 'fear', 'not', 'no', 'fight', 'not', 'not', 'not', 'not', 'not', 'not', 'not', 'not', 'no', 'not', 'not', 'no', 'not', 'not', 'not', 'no', 'not', 'hard', 'not', 'mean', 'not', 'rocky', 'fight', 'hard', 'never', 'impossible', 'not', 'no', 'impossible', 'collapse', 'collapse', 'not', 'not', 'fear', 'not', 'never', 'not', 'not', 'not', 'hurt', 'not', 'not', 'fail', 'no', 'fail', 'lose', 'no', 'lose', 'lose', 'lose', 'revenge', 'not', 'reject', 'never', 'not', 'not', 'not', 'no', 'no', 'not', 'bad', 'not', 'never', 'not', 'no', 'not', 'not', 'no', 'not', 'not', 'never', 'no', 'no', 'not', 'never', 'not', 'never', 'suspect', 'fear', 'fear', 'not', 'not', 'no', 'lose', 'not', 'fight', 'not', 'never', 'hurt', 'no', 'not', 'not', 'not', 'not', 'upset', 'not', 'not', 'mean', 'no', 'not', 'not', 'not', 'no', 'not', 'not', 'not', 'never', 'no', 'not', 'not', 'mean', 'not', 'damage', 'not', 'no', 'no', 'no', 'never', 'vice', 'no', 'not', 'never', 'no', 'not', 'not', 'no', 'not', 'not', 'never', 'not', 'hurt', 'vice', 'no', 'no', 'no', 'poor', 'vice', 'fight', 'not', 'never', 'awful', 'not', 'never', 'not', 'offensive', 'not', 'bad', 'reject', 'reject', 'not', 'not', 'hate', 'not', 'not', 'fight', 'no', 'no', 'not', 'no', 'never', 'negative', 'negative', 'no', 'not', 'not', 'not', 'shocking', 'no', 'never', 'never', 'collapse', 'never', 'not', 'no', 'missing', 'not', 'not', 'broken', 'never', 'broken', 'not', 'not', 'no', 'terrible', 'threatening', 'not', 'no', 'not', 'not', 'never', 'never', 'angry', 'never', 'beneath', 'no', 'broken', 'not', 'bad', 'not', 'broken', 'no', 'not', 'not', 'no', 'no', 'not', 'corrupt', 'never', 'fight', 'old', 'fight', 'not', 'hard', 'never', 'no', 'not', 'never', 'lose', 'not', 'not', 'not', 'not', 'fear', 'not', 'pain', 'no', 'not', 'not', 'not', 'not', 'not', 'no', 'zero', 'not', 'not', 'not', 'not', 'no', 'zero', 'not', 'not', 'never', 'not', 'no', 'not', 'criminal', 'criminal', 'not', 'not', 'not', 'not', 'not', 'not', 'hurt', 'no', 'no', 'deny', 'fight', 'damage', 'damage', 'lose', 'not', 'not', 'undermine', 'no', 'reject', 'not', 'unfair', 'not', 'not', 'not', 'no', 'hard', 'not', 'fight', 'not', 'dismal', 'not', 'not', 'no', 'no', 'no', 'not', 'fight', 'fight', 'not', 'lose', 'not', 'not', 'grave', 'cold', 'no', 'not', 'not', 'never', 'never', 'not', 'not', 'not', 'never', 'no', 'not', 'not', 'broken', 'distress', 'pain', 'stressful', 'rude', 'upset', 'not', 'distress', 'not', 'guilty', 'revenge', 'broken', 'not', 'fight', 'not', 'never', 'no', 'not', 'fail', 'not', 'eroding', 'not', 'sad', 'not', 'not', 'no', 'no', 'no', 'not', 'ugly', 'no', 'never', 'no', 'never', 'never', 'not', 'not', 'not', 'not', 'not', 'no', 'no', 'not', 'no', 'old', 'not', 'not', 'not', 'not', 'lose', 'not', 'never', 'not', 'undermine', 'not', 'not', 'no', 'not', 'not', 'not', 'not', 'bad', 'not', 'not', 'fear', 'not', 'not', 'not', 'not', 'not', 'poor', 'no', 'confused', 'not', 'never', 'not', 'not', 'not', 'not', 'hard', 'no', 'never', 'never', 'unhappy', 'unhappy', 'unhappy', 'not', 'never', 'not', 'not', 'wound', 'sick', 'no', 'no', 'quit', 'hate', 'not', 'not', 'not', 'hate', 'not', 'not', 'never', 'never', 'not', 'not', 'not', 'not', 'hurt', 'hurt', 'sad', 'not', 'criminal', 'criminal', 'not', 'collapse', 'not', 'no', 'not', 'old', 'old', 'old', 'not', 'scary', 'fear', 'boring', 'fear', 'not', 'not', 'nobody', 'not', 'not', 'bad', 'not', 'missing', 'not', 'not', 'never', 'never', 'never', 'never', 'never', 'not', 'not', 'not', 'not', 'hurt', 'not', 'not', 'deny', 'not', 'no', 'vicious', 'fight', 'not', 'not', 'not', 'not', 'suspect', 'not', 'not', 'not', 'no', 'not', 'no', 'no', 'confused', 'not', 'no', 'not', 'not', 'not', 'hard', 'not', 'lose', 'fight', 'not', 'no', 'not', 'nobody', 'not', 'no', 'not', 'no', 'never', 'never', 'never', 'never', 'not', 'damage', 'not', 'not', 'not', 'never', 'not', 'not', 'not', 'damage', 'lose', 'not', 'not', 'not', 'never', 'not', 'not', 'not', 'not', 'not', 'distress', 'no', 'no', 'not', 'not', 'broken', 'damaging', 'not', 'not', 'never', 'fail', 'no', 'not', 'not', 'grave', 'fight', 'not', 'lose', 'damage', 'damage', 'not', 'not', 'deny', 'grave', 'no', 'not', 'no', 'never', 'not', 'not', 'not', 'not', 'no', 'stupid', 'not', 'undermine', 'fear', 'hostile', 'hard', 'no', 'no', 'no', 'not', 'not', 'no', 'no', 'lose', 'spring', 'hard', 'no', 'not', 'not', 'not', 'not', 'not', 'corrupt', 'never', 'not', 'fight', 'poor', 'terrible', 'no', 'no', 'not', 'not', 'not', 'not', 'not', 'not', 'mean', 'cutting', 'mean', 'upset', 'not', 'not', 'not', 'not', 'not', 'no', 'bad', 'not', 'no', 'not', 'not', 'offensive', 'not', 'ignorant', 'dishonest', 'hostile', 'never', 'never', 'never', 'not', 'quit', 'vice', 'not', 'criminal', 'no', 'not', 'not', 'not', 'not', 'not', 'not', 'not', 'not', 'not', 'threatening', 'not', 'not', 'fight', 'no', 'mean', 'not', 'not', 'not', 'fight', 'unjust', 'unjust', 'not', 'hate', 'not', 'not', 'not', 'not', 'not', 'upset', 'zero', 'plain', 'not', 'feeble', 'not', 'old', 'reject', 'not', 'not', 'not', 'not', 'no', 'not', 'never', 'undermine', 'no', 'no', 'not', 'not', 'not', 'no', 'not', 'not', 'no', 'not', 'not', 'not', 'not', 'sick', 'not', 'not', 'not', 'no', 'not', 'not', 'not', 'no', 'not', 'not', 'not', 'nasty', 'not', 'severe', 'pain', 'disease', 'pain', 'pain', 'pain', 'not', 'scary', 'lose', 'not', 'bad', 'not', 'lose', 'not', 'severe', 'not', 'not', 'not', 'hate', 'no', 'not', 'no', 'not', 'no', 'not', 'not', 'fight', 'old', 'no', 'no', 'upset', 'not', 'deny', 'not', 'not', 'never', 'not', 'frighten', 'not', 'grave', 'not', 'never', 'dishonest', 'ignore', 'negative', 'collapse', 'not', 'upset', 'not', 'no', 'evil', 'old', 'cutting', 'cutting', 'not', 'not', 'not', 'not', 'not', 'hard', 'not', 'damage', 'fight', 'not', 'not', 'not', 'not', 'not', 'not', 'not', 'not', 'unwise', 'no', 'ignore', 'not', 'damaging', 'not', 'not', 'pessimistic', 'not', 'not', 'no', 'not', 'imperfect', 'no', 'not', 'no', 'no', 'no', 'not', 'not', 'not', 'cry', 'old', 'no', 'not', 'not', 'no', 'not', 'not', 'impossible', 'not', 'undermine', 'undermine', 'not', 'deny', 'not', 'no', 'not', 'never', 'not', 'not', 'dead', 'not', 'not', 'never', 'missing', 'no', 'callous', 'deprived', 'not', 'not', 'not', 'not', 'vice', 'not', 'not', 'no', 'not', 'not', 'not', 'hostile', 'contrary', 'no', 'not', 'mean', 'dead', 'not', 'not', 'not', 'not', 'lose', 'not', 'threatening', 'not', 'old', 'no', 'no', 'fight', 'not', 'dead', 'not', 'not', 'not', 'not', 'not', 'no', 'impossible', 'enraged', 'not', 'damaging', 'no', 'no', 'not', 'sick', 'not', 'old', 'hard', 'no', 'no', 'vice', 'not', 'hard', 'no', 'not', 'not', 'not', 'not', 'not', 'never', 'fight', 'impossible', 'not', 'never', 'no', 'not', 'not', 'not', 'not', 'no', 'not', 'corrupt', 'bad', 'dead', 'not', 'not', 'not', 'cutting', 'never', 'not', 'not', 'mean', 'not', 'not', 'shocking', 'no', 'never', 'not', 'hate', 'not', 'not', 'insane', 'not', 'no', 'vice', 'quit', 'not', 'no', 'unfavorable', 'unfavorable', 'negative', 'never', 'not', 'criminal', 'horrible', 'not', 'missing', 'not', 'not', 'fight', 'no', 'mean', 'not', 'no', 'no', 'not', 'not', 'not', 'not', 'not', 'not', 'not', 'not', 'not', 'not', 'not', 'not', 'no', 'not', 'never', 'not', 'hard', 'no', 'not', 'no', 'not', 'not', 'never', 'not', 'not', 'hard', 'deny', 'hard', 'not', 'not', 'dead', 'not', 'never', 'never', 'never', 'never', 'not', 'not', 'not', 'not', 'mean', 'mean', 'not', 'not', 'not', 'hard', 'hard', 'not', 'not', 'not', 'vice', 'never', 'oppressive', 'no', 'evil', 'not', 'not', 'not', 'not', 'undermine', 'despicable', 'not', 'not', 'not', 'negative', 'no', 'not', 'anxious', 'not', 'not', 'not', 'not', 'not', 'not', 'never', 'not', 'cruel', 'evil', 'no', 'not', 'never', 'no', 'no', 'not', 'fight', 'never', 'disgusting', 'bad', 'frighten', 'not', 'not', 'not', 'not', 'never', 'ignore', 'never', 'never', 'negative', 'not', 'not', 'undermine', 'mean', 'mean', 'mean', 'not', 'no', 'deny', 'not', 'not', 'never', 'not', 'not', 'not', 'not', 'never', 'no', 'never', 'not', 'not', 'never', 'not', 'not', 'not', 'not', 'not', 'not', 'hostile', 'no', 'not', 'not', 'hostile', 'not', 'reject', 'not', 'not', 'not', 'decaying', 'cutting', 'not', 'not', 'no', 'not', 'not', 'not', 'no', 'no', 'horrible', 'not', 'horrible', 'not', 'old', 'dead', 'not', 'no', 'threatening', 'no', 'hate', 'fight', 'hate', 'not', 'not', 'not', 'awful', 'nobody', 'negative', 'not', 'not', 'not', 'poor', 'not', 'hard', 'no', 'not', 'not', 'not', 'not', 'not', 'not', 'not', 'mean', 'not', 'severe', 'not', 'no', 'not', 'not', 'not', 'poisonous', 'not', 'not', 'never', 'no', 'fear', 'not', 'not', 'not', 'not', 'not', 'hate', 'not', 'reject', 'never', 'not', 'no', 'not', 'not', 'never', 'never', 'corrupt', 'not', 'poor', 'undermine', 'sorry', 'never', 'hard', 'no', 'no', 'impossible', 'never', 'not', 'reject', 'not', 'not', 'not', 'unfair', 'never', 'not', 'hate', 'not', 'not', 'fear', 'missing', 'not', 'nobody', 'never', 'nobody', 'bad', 'offensive', 'not', 'severe', 'undermine', 'not', 'dead', 'no', 'not', 'negative', 'not', 'never', 'not', 'stuck', 'not', 'never', 'poor', 'not', 'hard', 'not', 'unfavorable', 'collapse', 'no', 'not', 'not', 'not', 'not', 'not', 'not', 'not', 'not', 'lose', 'not', 'dead', 'hard', 'upset', 'no', 'not', 'not', 'never', 'not', 'not', 'not', 'not', 'not', 'never', 'never', 'never', 'never', 'quit', 'fear', 'never', 'not', 'mean', 'never', 'not', 'not', 'not', 'not', 'never', 'never', 'not', 'not', 'never', 'never', 'never', 'not', 'never', 'no', 'no', 'never', 'not', 'not', 'not', 'not', 'not', 'criminal', 'never', 'not', 'not', 'not', 'never', 'not', 'hurt', 'hurt', 'no', 'no', 'not', 'not', 'never', 'no', 'not', 'not', 'tense', 'beneath', 'not', 'fear', 'ignore', 'nobody', 'no', 'not', 'no', 'not', 'vice', 'no', 'not', 'not', 'not', 'not', 'not', 'not', 'fight', 'not', 'not', 'not', 'negative', 'fight', 'reject', 'not', 'never', 'not', 'not', 'old', 'never', 'not', 'corrupt', 'not', 'no', 'no', 'not', 'hostile', 'not', 'not', 'no', 'not', 'not', 'not', 'not', 'not', 'never', 'not', 'not', 'not', 'bad', 'not', 'reject', 'no', 'hate', 'impossible', 'harmful', 'not', 'not', 'hate', 'not', 'undermine', 'not', 'hurt', 'not', 'damage', 'impossible', 'lose', 'not', 'not', 'deny', 'not', 'broken', 'no', 'not', 'damaging', 'pain', 'never', 'never', 'not', 'no', 'ignore', 'not', 'not', 'not', 'never', 'not', 'never', 'not', 'never', 'bad', 'not', 'criminal', 'old', 'criminal', 'old', 'missing', 'no', 'not', 'no', 'not', 'not', 'criminal', 'never', 'not', 'no', 'never', 'impossible', 'terrible', 'not', 'no', 'not', 'never', 'damage', 'no', 'not', 'not', 'undermine', 'not', 'no', 'no', 'not', 'not', 'hurt', 'hurt', 'not', 'no', 'mean', 'not', 'fight', 'ill', 'hate', 'malicious', 'not', 'not', 'unwelcome', 'fear', 'dishonest', 'not', 'no', 'ruthless', 'not', 'not', 'offensive', 'never', 'not', 'never', 'ignore', 'not', 'not', 'no', 'fear', 'no', 'not', 'plain', 'not', 'unhappy', 'not', 'not', 'not', 'not', 'crazy', 'fight', 'not', 'not', 'not', 'not', 'not', 'old', 'not', 'not', 'not', 'not', 'not', 'not', 'vice', 'not', 'criminal', 'not', 'fight', 'broken', 'not', 'not', 'never', 'not', 'not', 'not', 'not', 'not', 'not', 'questionable', 'ruthless', 'suspect', 'not', 'not', 'not', 'collapse', 'collapse', 'not', 'criminal', 'criminal', 'not', 'gross', 'never', 'never', 'no', 'not', 'not', 'corrupt', 'not', 'not', 'not', 'no', 'never', 'lose', 'dead', 'not', 'hostile', 'not', 'not', 'not', 'not', 'not', 'not', 'not', 'no', 'not', 'not', 'ignorant', 'not', 'confused', 'quit', 'frighten', 'not', 'horrible', 'no', 'never', 'not', 'never', 'never', 'not', 'not', 'poor', 'not', 'not', 'not', 'not', 'not', 'impossible', 'not', 'not', 'no', 'not', 'not', 'not', 'not', 'hard', 'not', 'cutting', 'poor', 'not', 'no', 'lose', 'deny', 'not', 'not', 'not', 'not', 'poor', 'unfair', 'not', 'no', 'not', 'dead', 'not', 'not', 'not', 'not', 'not', 'harmful', 'fight', 'not', 'not', 'reject', 'fight', 'threatening', 'mean', 'reject', 'not', 'not', 'offensive', 'no', 'no', 'hostile', 'no', 'no', 'corrosive', 'not', 'not', 'mean', 'not', 'not', 'not', 'not', 'fight', 'not', 'no', 'unwise', 'not', 'not', 'never', 'never', 'not', 'dead', 'rude', 'mean', 'not', 'no', 'not', 'not', 'no', 'no', 'never', 'fight', 'not', 'no', 'not', 'old', 'not', 'confused', 'no', 'no', 'not', 'bad', 'no', 'not', 'not', 'no', 'not', 'not', 'not', 'never', 'not', 'never', 'not', 'criminal', 'not', 'fear', 'missing', 'bad', 'never', 'guilty', 'not', 'not', 'no', 'not', 'not', 'not', 'not', 'guilty', 'hate', 'lose', 'not', 'not', 'not', 'not', 'not', 'not', 'no', 'not', 'not', 'not', 'not', 'not', 'not', 'criminal', 'not', 'not', 'not', 'not', 'not', 'not', 'contradictory', 'not', 'not', 'not', 'not', 'not', 'not', 'never', 'not', 'not', 'hard', 'not', 'not', 'sick', 'dreadful', 'corrupt', 'no', 'not', 'no', 'not', 'not', 'no', 'not', 'not', 'not', 'never', 'not', 'no', 'evil', 'not', 'fight', 'broken', 'not', 'criminal', 'no', 'undermine', 'damaging', 'sick', 'no', 'not', 'not', 'cold', 'not', 'fight', 'objectionable', 'not', 'not', 'damage', 'not', 'not', 'old', 'hate', 'not', 'no', 'ignore', 'never', 'no', 'offensive', 'not', 'no', 'not', 'offensive', 'not', 'not', 'negative', 'not', 'not', 'not', 'not', 'not', 'not', 'not', 'hard', 'not', 'not', 'mean', 'not', 'ugly', 'never', 'no', 'not', 'not', 'not', 'not', 'no', 'no', 'not', 'not', 'not', 'no', 'fight', 'hard', 'not', 'never', 'not', 'not', 'wary', 'vicious', 'not', 'not', 'not', 'not', 'fight', 'not', 'not', 'not', 'negate', 'harmful', 'sad', 'cutting', 'naive', 'no', 'not', 'not', 'no', 'not', 'not', 'not', 'not', 'not', 'mean', 'not', 'old', 'terrible', 'no', 'no', 'not', 'not', 'no', 'no', 'not', 'hostile', 'not', 'not', 'negative', 'not', 'not', 'not', 'not', 'never', 'not', 'no', 'spring', 'ignore', 'not', 'guilty', 'deny', 'undermine', 'not', 'nobody', 'not', 'vice', 'ignorant', 'no', 'no', 'not', 'grim', 'not', 'hard', 'no', 'not', 'horrible', 'hurtful', 'negative', 'not', 'never', 'corrupt', 'pain', 'not', 'no', 'damaging', 'never', 'no', 'not', 'no', 'not', 'no', 'no', 'not', 'not', 'no', 'no', 'not', 'not', 'not', 'not', 'nobody', 'no', 'not', 'not', 'not', 'not', 'no', 'not', 'no', 'not', 'sad', 'vile', 'no', 'not', 'no', 'no', 'tense', 'no', 'fight', 'undermine', 'not', 'no', 'not', 'not', 'not', 'not', 'no', 'old', 'not', 'ignore', 'not', 'not', 'not', 'not', 'not', 'not', 'not', 'not', 'not', 'not', 'not', 'not', 'not', 'not', 'no', 'no', 'sick', 'deny', 'not', 'not', 'not', 'suspect', 'no', 'not', 'reject', 'not', 'not', 'not', 'not', 'hate', 'deny', 'deny', 'hard', 'old', 'no', 'not', 'not', 'not', 'not', 'no', 'not', 'old', 'no', 'boring', 'no', 'fight', 'deny', 'mean', 'mean', 'mean', 'fight', 'vice', 'no', 'no', 'no', 'no', 'not', 'bad', 'hurt', 'not', 'not', 'not', 'not', 'not', 'not', 'no', 'not', 'not', 'no', 'no', 'not', 'not', 'not', 'not', 'not', 'not', 'not', 'not', 'sad', 'fear', 'not', 'never', 'never', 'never', 'hard', 'sad', 'not', 'not', 'not', 'not', 'never', 'no', 'not', 'never', 'no', 'never', 'disgusting', 'no', 'not', 'not', 'not', 'not', 'never', 'never', 'not', 'never', 'not', 'never', 'not', 'not', 'harmful', 'not', 'old', 'broken', 'not', 'not', 'not', 'dead', 'not', 'insidious', 'not', 'not', 'offensive', 'terrible', 'not', 'not', 'bad', 'not', 'bad', 'hate', 'threatening', 'not', 'not', 'no', 'vile', 'filthy', 'not', 'no', 'no', 'hate', 'never', 'never', 'hate', 'no', 'not', 'not', 'not', 'not', 'not', 'broken', 'nasty', 'scare', 'impossible', 'not', 'vice', 'not', 'not', 'not', 'no', 'no', 'not', 'hard', 'plain', 'not', 'not', 'not', 'deplorable', 'damage', 'no', 'hate', 'never', 'hate', 'hate', 'ignorant', 'nobody', 'no', 'not', 'not', 'not', 'not', 'not', 'not', 'never', 'no', 'nonsense', 'not', 'not', 'not', 'hate', 'no', 'not', 'not', 'not', 'no', 'no', 'not', 'hate', 'hate', 'not', 'hate', 'never', 'not', 'deny', 'threatening', 'not', 'not', 'fail', 'severe', 'never', 'no', 'not', 'sad', 'not', 'fight', 'no', 'no', 'fight', 'no', 'not', 'not', 'not', 'reject', 'not', 'not', 'no', 'evil', 'not', 'hate', 'no', 'vice', 'fight', 'corrupt', 'no', 'not', 'old', 'no', 'not', 'fight', 'fight', 'old', 'stuck', 'never', 'never', 'not', 'not', 'not', 'no', 'not', 'not', 'not', 'no', 'not', 'not', 'malicious', 'scare', 'never', 'fight', 'not', 'clumsy', 'nonsense', 'vice', 'atrocious', 'not', 'fear', 'noxious', 'fight', 'mean', 'no', 'negative', 'not', 'not', 'bad', 'no', 'undermine', 'wary', 'dead', 'no', 'lose', 'no', 'no', 'no', 'plain', 'not', 'never', 'not', 'no', 'not', 'not', 'no', 'fail', 'lose', 'clumsy', 'no', 'ignorant', 'not', 'no', 'not', 'bad', 'not', 'old', 'not', 'nobody', 'not', 'not', 'nobody', 'not', 'not', 'bad', 'not', 'nobody', 'not', 'fight', 'never', 'no', 'not', 'nasty', 'not', 'never', 'not', 'no', 'never', 'not', 'not', 'fail', 'not', 'not', 'not', 'not', 'no', 'impossible', 'ignore', 'not', 'not', 'not', 'no', 'not', 'not', 'not', 'not', 'no', 'not', 'not', 'not', 'not', 'never', 'not', 'not', 'not', 'not', 'bad', 'hard', 'not', 'not', 'no', 'never', 'lose', 'never', 'no', 'not', 'cutting', 'not', 'never', 'not', 'not', 'not', 'evil', 'wicked', 'grave', 'never', 'ill', 'bad', 'wicked', 'fight', 'dead', 'dead', 'not', 'dead', 'dead', 'not', 'not', 'cutting', 'not', 'mean', 'not', 'never', 'not', 'lose', 'not', 'not', 'not', 'not', 'hard', 'criminal', 'never', 'stupid', 'not', 'not', 'never', 'no', 'no', 'not', 'not', 'never', 'no', 'hostile', 'hate', 'threatening', 'dead', 'mean', 'not', 'no', 'not', 'not', 'not', 'not', 'not', 'not', 'not', 'reject', 'deny', 'not', 'not', 'undermine', 'not', 'not', 'no', 'never', 'lose', 'not', 'not', 'not', 'not', 'not', 'no', 'not', 'not', 'no', 'not', 'not'], 'Alex Swoyer': ['sad', 'not', 'not', 'poor', 'not', 'lose', 'no', 'not', 'not', 'not', 'alarming', 'not', 'not', 'not', 'no', 'not', 'not', 'terrible', 'no', 'no', 'dishonest', 'poor', 'not', 'not', 'no', 'anxious', 'not', 'never', 'no', 'no', 'not', 'hard', 'old', 'no', 'no', 'not', 'not', 'zero', 'not', 'not', 'not', 'not', 'not', 'missing', 'not', 'bad', 'no', 'no', 'dead', 'no', 'not', 'not', 'nonsense', 'not', 'terrible', 'not', 'not', 'not', 'not', 'not', 'impossible', 'not', 'poor', 'not', 'not', 'not', 'boring', 'hard', 'hard', 'not', 'bad', 'not', 'crazy', 'terrible', 'not', 'bad', 'never', 'hard', 'vice', 'not', 'not', 'not', 'hurt', 'old', 'old', 'no', 'hard', 'hard', 'not', 'bad', 'not', 'lose', 'not', 'not', 'horrible', 'no', 'horrible', 'poor', 'hate', 'no', 'nobody', 'not', 'not', 'not', 'no', 'not', 'vice', 'not', 'vice', 'horrible', 'fight', 'no', 'not', 'not', 'shoddy', 'old', 'not', 'shoddy', 'poor', 'mean', 'no', 'shocking', 'horrible', 'not', 'not', 'not', 'vice', 'not', 'not', 'never', 'offensive', 'offensive', 'stuck', 'hurt', 'unfair', 'not', 'not', 'not', 'missing', 'horrible', 'hate', 'prejudice', 'no', 'not', 'quit', 'cutting', 'not', 'not', 'not', 'not', 'not', 'not', 'no', 'not', 'no', 'not', 'no', 'horrible', 'horrible', 'no', 'not', 'not', 'bad', 'not', 'not', 'not', 'poor', 'never', 'not', 'not', 'not', 'deny', 'not', 'not', 'questionable', 'not', 'not', 'not', 'not', 'beneath', 'not', 'not', 'not', 'bad', 'no', 'never', 'no', 'no', 'not', 'no', 'not', 'fight', 'not', 'not', 'old', 'not', 'never', 'not', 'not', 'not', 'not', 'not', 'never', 'fail', 'fight', 'not', 'not', 'fight', 'reject', 'ugly', 'not', 'not', 'not', 'not', 'not', 'not', 'not', 'not', 'nobody', 'never', 'not', 'not', 'hate', 'not', 'unfair', 'not', 'not', 'hard', 'fight', 'not', 'not', 'not', 'not', 'fear', 'not', 'not', 'hard', 'not', 'old', 'no', 'vice', 'vice', 'vice', 'not', 'criminal', 'not', 'bad', 'not', 'not', 'horrible', 'never', 'ruthless', 'not', 'criminal', 'not', 'dishonest', 'not', 'no', 'not', 'corrupt', 'no', 'dishonest', 'corrupt', 'no', 'no', 'no', 'no', 'no', 'not', 'not', 'not', 'not', 'never', 'not', 'not', 'not', 'no', 'nonsense', 'not', 'not', 'not', 'rude', 'anxious', 'not', 'not', 'not', 'not', 'pain', 'no', 'not', 'not', 'shocking', 'not', 'not', 'not', 'never', 'not', 'never', 'never', 'not', 'no', 'not', 'hate', 'never', 'not', 'zero', 'poor', 'hurt', 'not', 'not', 'not', 'not', 'not', 'not', 'not', 'not', 'never', 'not', 'criminal', 'criminal', 'criminal', 'not', 'mean', 'not', 'not', 'stuck', 'not', 'cutting', 'upset', 'vice', 'vice', 'vice', 'not', 'hard', 'not', 'not', 'not', 'not', 'not', 'not', 'not', 'corrupt', 'corrupt', 'not', 'not', 'not', 'not', 'suspect', 'not', 'no', 'not', 'cutting', 'hurt', 'no', 'not', 'never', 'no', 'no', 'no', 'corrupt', 'not', 'not', 'not', 'not', 'not', 'bad', 'not', 'no', 'shocking', 'never', 'sick', 'not', 'hard', 'not', 'belligerent', 'never', 'never', 'never', 'never', 'never', 'no', 'not', 'unfair', 'not', 'not', 'not', 'oppressive', 'no', 'no', 'hate', 'not', 'not', 'disgusting', 'sorry', 'not', 'vice', 'not', 'not', 'not', 'wary', 'never', 'not', 'not', 'hard', 'not', 'hard', 'dirty', 'zero', 'not', 'criminal', 'corrupt', 'old', 'no', 'corrupt', 'horrible', 'disease', 'no', 'hurtful', 'sorry', 'not', 'fear', 'no', 'not', 'hard', 'not', 'not', 'not', 'not', 'hard', 'not', 'fight', 'not', 'not', 'poor', 'not', 'not', 'angry', 'upset', 'not', 'negative', 'never', 'never', 'not', 'no', 'not', 'not', 'not', 'not', 'never', 'bad', 'no', 'not', 'not', 'no', 'not', 'not', 'never', 'no', 'poor', 'never', 'not', 'reject', 'not', 'not', 'not', 'fight', 'not', 'not', 'not', 'not', 'not', 'horrible', 'not', 'vice', 'deny', 'not', 'poor', 'fight', 'deny', 'no', 'not', 'not', 'not', 'hard', 'bad', 'bad', 'no', 'vice', 'dishonest', 'not', 'no', 'hard', 'never', 'horrible', 'not', 'vice', 'vice', 'vice', 'dead', 'no', 'not', 'old', 'no', 'hurt', 'bad', 'not', 'ugly', 'not', 'not', 'not', 'not', 'bad', 'fight', 'not', 'not', 'not', 'no', 'poor', 'hard', 'not', 'not', 'not', 'no', 'not', 'no', 'no', 'not', 'not', 'no', 'negative', 'unfavorable', 'negative', 'not', 'bad', 'poor', 'no', 'not', 'not', 'never', 'not', 'not', 'bad', 'not', 'dead', 'filthy', 'hate', 'corrupt', 'not', 'not', 'dishonest', 'negative', 'unwelcome', 'not', 'not', 'not', 'negative', 'negative', 'never', 'not', 'not', 'no', 'shocking', 'vice', 'not', 'vice', 'vice', 'horrible', 'vice', 'disgusting', 'dishonest', 'bad', 'lose', 'fight', 'not', 'ill', 'not', 'savage', 'not', 'not', 'not', 'no', 'disease', 'fear', 'not', 'never', 'not', 'not', 'dishonest', 'disgusting', 'corrupt', 'not', 'never', 'never', 'not', 'dishonest', 'not', 'dishonest', 'corrupt', 'not', 'dishonest', 'lose', 'hard', 'lose', 'not', 'bad', 'collapse', 'disease', 'not', 'hard', 'never', 'not', 'zero', 'no', 'old', 'mean', 'not', 'not', 'no', 'not', 'not', 'nobody', 'disgusting', 'bad', 'not', 'horrible', 'horrible', 'unfair', 'not', 'fight', 'reject', 'never', 'not', 'not', 'hard', 'nobody', 'not', 'no', 'not', 'never', 'insane', 'no', 'not', 'nobody', 'not', 'not', 'never', 'never', 'not', 'not', 'never', 'criminal', 'criminal', 'bad', 'criminal', 'not', 'not', 'not', 'hard', 'hard', 'no', 'not', 'not', 'not', 'never', 'disgusting', 'dishonest', 'not', 'sad', 'detrimental', 'fight', 'not', 'hurt', 'never', 'hard', 'horrible', 'never', 'not', 'not', 'not', 'not', 'not', 'not', 'not', 'not', 'not', 'not', 'not', 'fight', 'no', 'no', 'not', 'not', 'fight', 'fear', 'not', 'not', 'not', 'guilty', 'negative', 'not', 'terrible', 'not', 'no', 'never', 'poor', 'poor', 'missing', 'quit', 'not', 'not', 'not', 'angry', 'old', 'not', 'not', 'mean', 'not', 'not', 'dishonest', 'not', 'not', 'not', 'not', 'not', 'not', 'never', 'guilty', 'not', 'not', 'bad', 'dishonest', 'bad', 'fight', 'fight', 'nobody', 'no', 'not', 'mean', 'not', 'not', 'no', 'unhappy', 'fight', 'not', 'not', 'mean', 'not', 'corrupt', 'not', 'not', 'never', 'broken', 'dead', 'never', 'not', 'not', 'unfair', 'not', 'not', 'not', 'terrible', 'never', 'never', 'never', 'never', 'no', 'not', 'not', 'never', 'no', 'no', 'never', 'impossible', 'not', 'no', 'not', 'not', 'no', 'nasty', 'nasty', 'no', 'not', 'not', 'not', 'never', 'missing', 'no', 'not', 'sorry', 'lose', 'lose', 'never', 'not', 'not', 'not', 'never', 'not', 'vicious', 'not', 'deny', 'no', 'prejudice', 'not', 'not', 'not', 'threatening', 'missing', 'no', 'not', 'not', 'not', 'poor', 'poor', 'not', 'not', 'not', 'not', 'not', 'not', 'not', 'not', 'confused', 'old', 'not', 'not', 'fight', 'unfair', 'not', 'ignorant', 'not', 'not', 'not', 'negative', 'not', 'angry', 'angry', 'no', 'never', 'never', 'never', 'never', 'not', 'unhappy', 'not', 'not', 'not', 'missing', 'not', 'not', 'no', 'no', 'mean', 'not', 'not', 'not', 'horrible', 'not', 'criminal', 'unfair', 'unfair', 'not', 'hard', 'no', 'not', 'not', 'quit', 'not', 'not', 'not', 'not', 'negative', 'not', 'greed', 'unlucky', 'not', 'never', 'not', 'damage', 'awful', 'no', 'not', 'not', 'not', 'not', 'not', 'not', 'not', 'not', 'not', 'suspicious', 'foul', 'foul', 'not', 'not', 'dirty', 'no', 'dirty', 'dirty', 'not', 'vice', 'vice', 'never', 'not', 'hard', 'not', 'not', 'not', 'not', 'no', 'not', 'not', 'poor', 'not', 'fight', 'criminal', 'not', 'not', 'contrary', 'hate', 'not', 'not', 'not', 'not', 'not', 'not', 'detrimental', 'savage', 'not', 'no', 'no', 'ignore', 'broken', 'no', 'not', 'dead', 'vice', 'not', 'no', 'vice', 'horrible', 'not', 'not', 'fight', 'grim', 'old', 'not', 'fail', 'never', 'not', 'cutting', 'not', 'no', 'no', 'no', 'no', 'corrupt', 'not', 'no', 'not', 'not', 'not', 'not', 'not', 'no', 'hard', 'no', 'no', 'not', 'not', 'bad', 'not', 'not', 'bad', 'deplorable', 'not', 'no', 'no', 'not', 'no', 'not', 'not', 'no', 'fight', 'vice', 'no', 'not', 'stupid', 'deprived', 'fight', 'not', 'not', 'not', 'not', 'not', 'criminal', 'not', 'not', 'corrupt', 'never', 'no', 'not', 'damaging', 'not', 'not', 'not', 'not', 'upset', 'not', 'not', 'criminal', 'not', 'never', 'never', 'never', 'bad', 'no', 'not', 'not', 'bad', 'not', 'not', 'bad', 'bad', 'wound', 'dishonest', 'not', 'hard', 'not', 'not', 'not', 'suspect', 'dead', 'horrible', 'not', 'terrible', 'not', 'not', 'not', 'upset', 'sad', 'not', 'hurt', 'not', 'never', 'offensive', 'not', 'no', 'no', 'offensive', 'no', 'not', 'bad', 'not', 'not', 'not', 'no', 'not', 'not', 'not', 'not', 'not', 'not', 'no', 'nasty', 'severe', 'no', 'lose', 'bad', 'not', 'hard', 'lose', 'nasty', 'not', 'not', 'dishonest', 'corrupt', 'corrupt', 'not', 'negative', 'nobody', 'mean', 'never', 'mean', 'horrible', 'corrupt', 'not', 'no', 'not', 'not', 'unfair', 'not', 'poor', 'poor', 'hurt', 'unfavorable', 'damage', 'angry', 'angry', 'not', 'not', 'angry', 'angry', 'angry', 'not', 'not', 'hard', 'not', 'vice', 'no', 'never', 'bad', 'dead', 'not', 'not', 'not', 'not', 'not', 'contrary', 'not', 'not', 'bad', 'not', 'not', 'crazy', 'crazy', 'not', 'never', 'no', 'not', 'not', 'impossible', 'not', 'not', 'not', 'no', 'no', 'not', 'no', 'never', 'not', 'no', 'no', 'not', 'no', 'no', 'not', 'not', 'fight', 'bad', 'no', 'never', 'not', 'not', 'not', 'no', 'not', 'not', 'vice', 'horrible', 'terrible', 'not', 'not', 'never', 'never', 'no', 'not', 'nasty', 'not', 'deplorable', 'sick', 'horrible', 'never', 'deplorable', 'grotesque', 'not', 'not', 'vice', 'fight', 'horrible', 'no', 'negative', 'no', 'not', 'ignore', 'not', 'offensive', 'offensive', 'never', 'not', 'no', 'fight', 'not', 'not', 'not', 'no', 'no', 'hard', 'never', 'no', 'not', 'not', 'not', 'not', 'no', 'not', 'no', 'not', 'not', 'dead', 'damage', 'missing', 'no', 'bad', 'lose', 'lose', 'not', 'never', 'plain', 'fight', 'fight', 'not', 'not', 'not', 'not', 'not', 'not', 'not', 'not', 'not', 'not', 'not', 'not', 'hard', 'not', 'not', 'not', 'not', 'not', 'not', 'broken', 'not', 'lose', 'not', 'no', 'frighten', 'never', 'not', 'not', 'not', 'never', 'deny', 'not', 'not', 'negative', 'lose', 'not', 'not', 'mean', 'not', 'not', 'no', 'not', 'not'], 'Warner Todd Huston': ['impossible', 'not', 'not', 'no', 'never', 'not', 'not', 'not', 'bad', 'not', 'no', 'not', 'not', 'not', 'not', 'no', 'not', 'not', 'not', 'disgusting', 'not', 'not', 'not', 'no', 'damage', 'unfair', 'no', 'not', 'no', 'no', 'not', 'not', 'never', 'pain', 'not', 'no', 'no', 'no', 'not', 'not', 'not', 'bad', 'not', 'not', 'not', 'not', 'cry', 'impossible', 'hard', 'unhappy', 'not', 'not', 'suspicious', 'suspect', 'suspect', 'not', 'hate', 'hate', 'fight', 'not', 'not', 'hard', 'cry', 'not', 'vice', 'not', 'not', 'not', 'upset', 'criminal', 'enraged', 'fight', 'suspect', 'hate', 'nasty', 'no', 'no', 'no', 'suspect', 'not', 'not', 'fear', 'no', 'shocking', 'not', 'fear', 'severe', 'not', 'not', 'not', 'sorry', 'not', 'hurt', 'not', 'never', 'dismal', 'quit', 'not', 'not', 'not', 'not', 'not', 'vice', 'not', 'no', 'not', 'damage', 'damage', 'not', 'not', 'not', 'no', 'suspect', 'severe', 'not', 'vice', 'not', 'not', 'not', 'not', 'suspicious', 'old', 'no', 'guilty', 'hard', 'fight', 'not', 'negative', 'not', 'corrupt', 'offensive', 'offensive', 'not', 'hard', 'stupid', 'no', 'not', 'no', 'not', 'enraged', 'not', 'no', 'never', 'no', 'fight', 'fight', 'fight', 'bad', 'bad', 'dead', 'not', 'old', 'undermine', 'dead', 'damaging', 'damaging', 'not', 'not', 'not', 'not', 'upset', 'stuck', 'not', 'no', 'hate', 'not', 'hate', 'dead', 'no', 'dead', 'not', 'no', 'not', 'no', 'not', 'deny', 'not', 'terrible', 'damage', 'no', 'not', 'not', 'not', 'not', 'not', 'fight', 'not', 'not', 'not', 'no', 'not', 'no', 'not', 'upset', 'not', 'upset', 'deny', 'petty', 'cutting', 'cutting', 'not', 'no', 'not', 'not', 'not', 'pain', 'not', 'not', 'no', 'no', 'threatening', 'hurt', 'cold', 'no', 'not', 'not', 'not', 'hate', 'not', 'quit', 'missing', 'never', 'sorry', 'threatening', 'spring', 'dismal', 'never', 'unfair', 'suspect', 'not', 'suspect', 'not', 'missing', 'contrary', 'broken', 'gruesome', 'damage', 'lose', 'not', 'no', 'damage', 'fight', 'dead', 'dead', 'sick', 'not', 'not', 'upset', 'not', 'no', 'offensive', 'sorry', 'not', 'no', 'lose', 'not', 'not', 'not', 'not', 'not', 'prejudice', 'not', 'not', 'not', 'hostile', 'not', 'not', 'no', 'damage', 'not', 'never', 'fight', 'no', 'fight', 'not', 'no', 'mean', 'no', 'no', 'not', 'not', 'no', 'not', 'upset', 'not', 'not', 'criminal', 'cutting', 'guilty', 'guilty', 'hard', 'guilty', 'fight', 'not', 'suspect', 'not', 'not', 'not', 'no', 'stupid', 'no', 'not', 'not', 'not', 'contrary', 'not', 'unhappy', 'missing', 'missing', 'missing', 'missing', 'no', 'not', 'guilty', 'not', 'not', 'not', 'not', 'upset', 'awful', 'foul', 'not', 'cutting', 'cutting', 'not', 'no', 'damage', 'lose', 'lose', 'not', 'no', 'damage', 'stuck', 'offensive', 'hard', 'ill', 'not', 'unfair', 'not', 'not', 'not', 'not', 'not', 'not', 'no', 'contrary', 'not', 'vice', 'not', 'no', 'not', 'vice', 'not', 'old', 'old', 'not', 'no', 'damage', 'hostile', 'negative', 'angry', 'negative', 'negative', 'hostile', 'hard', 'quit', 'hurt', 'no', 'not', 'not', 'not', 'sick', 'not', 'offensive', 'not', 'fight', 'not', 'not', 'mean', 'fight', 'rocky', 'mean', 'hate', 'not', 'negative', 'not', 'not', 'not', 'not', 'no', 'undermine', 'unhappy', 'hard', 'no', 'not', 'shocking', 'not', 'not', 'not', 'not', 'upset', 'spring', 'stuck', 'suspect', 'not', 'not', 'unfavorable', 'no', 'not', 'not', 'no', 'hard', 'not', 'no', 'wound', 'not', 'not', 'not', 'not', 'not', 'not', 'not', 'not', 'hate', 'no', 'not', 'not', 'not', 'sorry', 'not', 'not', 'vice', 'damaging', 'mean', 'no', 'not', 'not', 'bad', 'disgusting', 'not', 'not', 'lose', 'angry', 'not', 'not', 'injure', 'never', 'never', 'never', 'no', 'reject', 'enraged', 'enraged', 'not', 'never', 'undermine', 'not', 'hurt', 'negative', 'unwanted', 'hurt', 'detrimental', 'not', 'hurt', 'disgusting', 'no', 'no', 'no', 'negative', 'not', 'no', 'undermine', 'not', 'no', 'undermine', 'never', 'deny', 'hard', 'no', 'hurt', 'no', 'no', 'gross', 'not', 'hard', 'fear', 'lose', 'lose', 'dirty', 'no', 'dead', 'not', 'guilty', 'not', 'never', 'dead', 'no', 'vice', 'not', 'fight', 'not', 'not', 'no', 'no', 'no', 'no', 'cold', 'old', 'hostile', 'not', 'no', 'not', 'missing', 'no', 'not', 'not', 'suspect', 'angry', 'enraged', 'no', 'missing', 'not', 'not', 'hate', 'no', 'not', 'fear', 'hate', 'no', 'hard', 'not', 'never', 'no', 'no', 'not', 'never', 'bad', 'no', 'wary', 'vice', 'not', 'hate', 'not', 'poor', 'bad', 'no', 'shocking', 'sorry', 'no', 'not', 'cutting', 'not', 'not', 'poor', 'no', 'upset', 'no', 'not', 'vice', 'not', 'not', 'hurt', 'never', 'never', 'not', 'not', 'not', 'upset', 'not', 'hard', 'not', 'not', 'no', 'not', 'not', 'corrupt', 'corrupt', 'no', 'not', 'never', 'not', 'missing', 'no', 'not', 'quit', 'not', 'not', 'no', 'weary', 'not', 'not', 'not', 'impossible', 'missing', 'no', 'not', 'no', 'not', 'no', 'no', 'hard', 'not', 'quit', 'sick', 'no', 'not', 'no', 'not', 'stuck', 'quit', 'bad', 'hate', 'not', 'hate', 'hate', 'fight', 'not', 'hate', 'never', 'suspect', 'shocking', 'no', 'not', 'no', 'upset', 'never', 'mean', 'sorry', 'mean', 'not', 'not', 'no', 'vice', 'not', 'not', 'terrible', 'no', 'hard', 'no', 'not', 'not', 'not', 'no', 'not', 'no', 'no', 'not', 'not', 'no', 'contrary', 'not', 'not', 'hard', 'not', 'quit', 'sick', 'not', 'no', 'no', 'old', 'mean', 'damaging', 'hard', 'not', 'not', 'not', 'not', 'quit', 'suspect', 'no', 'bad', 'not', 'unhappy', 'bad', 'upset', 'never', 'no', 'no', 'fight', 'no', 'not', 'terrible', 'not', 'fight', 'old', 'unsatisfactory', 'shocking', 'old', 'not', 'no', 'sad', 'criminal', 'vicious', 'not', 'grim', 'not', 'not', 'not', 'not', 'no', 'not', 'not', 'wary', 'not', 'not', 'not', 'not', 'bad', 'anxious', 'stuck', 'nobody', 'evil', 'no', 'never', 'not', 'no', 'not', 'not', 'not', 'never', 'never', 'not', 'no', 'suspect', 'not', 'not', 'not', 'not', 'not', 'vice', 'not', 'not', 'fail', 'no', 'not', 'no', 'upset', 'mean', 'threatening', 'not', 'terrible', 'suspicious', 'no', 'bad', 'never', 'no', 'wound', 'angry', 'fight', 'fight', 'fight', 'no', 'guilty', 'not', 'not', 'dead', 'no', 'not', 'never', 'never', 'not', 'guilty', 'hard', 'not', 'never', 'not', 'not', 'guilty', 'gross', 'not', 'never', 'vice', 'not', 'never', 'corrupt', 'criminal', 'criminal', 'not', 'suspect', 'never', 'not', 'deny', 'no', 'damage', 'undermine', 'not', 'no', 'criminal', 'not', 'not', 'not', 'not', 'never', 'not', 'not', 'not', 'not', 'not', 'not', 'not', 'not', 'hard', 'mean', 'not', 'cutting', 'not', 'bad', 'never', 'never', 'not', 'not', 'not', 'bad', 'crazy', 'negative', 'not', 'not', 'mean', 'bad', 'hate', 'hate', 'hate', 'not', 'stupid', 'not', 'not', 'ignorant', 'corrupt', 'not', 'scare', 'not', 'offensive', 'upset', 'malicious', 'malicious', 'not', 'suspicious', 'not', 'not', 'not', 'reject', 'not', 'not', 'no', 'suspect', 'never', 'criminal', 'not', 'not', 'guilty', 'hurt', 'damaging', 'hate', 'unfair', 'threatening', 'no', 'suspect', 'not', 'not', 'not', 'sad', 'mean', 'not', 'not', 'not', 'odious', 'fail', 'no', 'old', 'old', 'angry', 'threatening', 'damage', 'cutting', 'no', 'not', 'cold', 'not', 'cold', 'not', 'not', 'not', 'wound', 'hard', 'not', 'terrible', 'not', 'reject', 'not', 'no', 'no', 'old', 'bad', 'not', 'not', 'no', 'contrary', 'not', 'not', 'not', 'not', 'never', 'not', 'never', 'not', 'not', 'upset', 'not', 'not', 'evil', 'fear', 'never', 'not', 'no', 'corrupt', 'bad', 'not', 'fear', 'frighten', 'not', 'damage', 'no', 'bad', 'fear', 'wary', 'fear', 'no', 'dead', 'dead', 'suspect', 'no', 'not', 'angry', 'no', 'scary', 'corrupt', 'upset', 'no', 'suspect', 'not', 'not', 'horrendous', 'no', 'faulty', 'not', 'not', 'not', 'alarming', 'never', 'not', 'stuck', 'stuck', 'not', 'never', 'lose', 'not', 'not', 'never', 'never', 'hate', 'lose', 'hard', 'not', 'harmful', 'never', 'damaging', 'damage', 'not', 'not', 'no', 'not', 'fight', 'evil', 'not', 'not', 'ignore', 'not', 'not', 'not', 'no', 'not', 'not', 'no', 'not', 'not', 'not', 'guilty', 'hard', 'not', 'hard', 'hate', 'not', 'not', 'malicious', 'not', 'not', 'not', 'not', 'fail', 'not', 'not', 'not', 'never', 'upset', 'not', 'no', 'no', 'revolting', 'not', 'suspect', 'no', 'guilty', 'horrendous', 'not', 'sorry', 'no', 'guilty', 'lose', 'never', 'upset', 'not', 'hard', 'no', 'never', 'no', 'contrary', 'dead', 'sorry', 'not', 'sorry', 'hard', 'old', 'not', 'not', 'criminal', 'upset', 'deny', 'not', 'no', 'not', 'vice', 'no', 'never', 'never', 'not', 'not', 'no', 'bad', 'not', 'broken', 'suspect', 'not', 'not', 'not', 'not', 'not', 'ignore', 'not', 'confused', 'severe', 'not', 'not', 'not', 'not', 'sorry', 'fight', 'sorry', 'not', 'hate', 'revenge', 'hate', 'hate', 'hate', 'not', 'revenge', 'not', 'not', 'shocking', 'not', 'not', 'cutting', 'not', 'not', 'not', 'not', 'not', 'not', 'lose', 'not', 'no', 'bad', 'bad', 'not', 'mean', 'not', 'never', 'guilty', 'guilty', 'plain', 'evil', 'not', 'not', 'not', 'no', 'no', 'not', 'not', 'never', 'not', 'not', 'no', 'no', 'not', 'not', 'not', 'not', 'criminal', 'not', 'no', 'not', 'not', 'suspect', 'not', 'not', 'not', 'not', 'no', 'not', 'impossible', 'nobody', 'not', 'suspect', 'no', 'mean', 'no', 'not', 'not', 'not', 'ignore', 'vicious', 'not', 'no', 'not', 'guilty', 'suspect', 'old', 'guilty', 'old', 'not', 'vice', 'suspicious', 'never', 'never', 'ignore', 'ignore', 'no', 'no', 'not', 'not', 'no', 'evil', 'petty', 'no', 'spring', 'guilty', 'not', 'never', 'never', 'no', 'no', 'no', 'not', 'not', 'no', 'vice', 'not', 'terrible', 'vice', 'wound', 'not', 'not', 'no', 'deny', 'not', 'contrary', 'no', 'no', 'no', 'no', 'not', 'missing', 'not', 'not', 'not', 'not', 'no', 'not', 'unfair', 'hard', 'not', 'never', 'not', 'not', 'criminal', 'not', 'not', 'not', 'bad', 'not', 'not', 'not', 'lose', 'suspect', 'suspect', 'not', 'odious', 'hard', 'suspect', 'never', 'never', 'no', 'never', 'no', 'not', 'lose', 'not', 'cold', 'guilty', 'fear', 'undermine', 'not', 'not', 'contrary', 'not', 'not', 'not', 'fight', 'not', 'never', 'no', 'not', 'no', 'fail', 'not', 'angry', 'old', 'not', 'no', 'broken', 'suspect', 'suspect', 'no', 'vicious', 'damage', 'not', 'bad', 'vicious', 'terrible', 'negative', 'no', 'terrible', 'broken', 'not', 'lose', 'fight', 'lose', 'suspect', 'no', 'not', 'bad', 'deny', 'not', 'not', 'not', 'fight', 'no', 'ignore', 'no', 'unhappy', 'fight', 'not', 'fight', 'fight', 'broken', 'broken', 'not', 'not', 'not', 'not', 'deny', 'negative', 'not', 'bad', 'poor', 'cry', 'not', 'not', 'no', 'old', 'not', 'suspect', 'no', 'criminal', 'no', 'suspect', 'no', 'not', 'suspect', 'no', 'never', 'suspect', 'no', 'no', 'suspect', 'not', 'no', 'not', 'not', 'guilty', 'lose', 'not', 'never', 'never', 'never', 'never', 'crazy', 'lose', 'hard', 'hurt', 'upset', 'not', 'upset', 'damage', 'bad', 'never', 'never', 'sad', 'no', 'criminal', 'not', 'not', 'suspect', 'criminal', 'negative', 'not', 'no', 'terrible', 'not', 'not', 'no', 'not', 'awful', 'unfavorable', 'not', 'no', 'criminal', 'not', 'not', 'not', 'not', 'guilty', 'not', 'not', 'no', 'scare', 'not', 'not', 'not', 'not', 'lose', 'nasty', 'upset', 'dead', 'not', 'dead', 'criminal', 'not', 'threatening', 'not', 'not', 'not', 'not', 'no', 'dead', 'not', 'not', 'threatening', 'not', 'dead', 'bad', 'grave', 'dead', 'damage', 'vice', 'no', 'not', 'no', 'not', 'not', 'vice', 'anxious', 'not', 'contrary', 'not', 'no', 'not', 'not', 'not', 'terrible', 'no', 'not', 'never', 'never', 'never', 'never', 'not', 'not', 'not', 'never', 'never', 'not', 'not', 'no', 'fight', 'ill', 'fight', 'not', 'not', 'not', 'lose', 'lose', 'not', 'not', 'hate', 'not', 'not', 'not', 'not', 'not', 'suspect', 'not', 'impossible', 'bad', 'poor', 'bad', 'old', 'not', 'not', 'fight', 'not', 'offensive', 'not', 'no', 'not', 'fight', 'not', 'fight', 'not', 'no', 'not', 'no', 'not', 'poor', 'poor', 'deny', 'unfavorable', 'not', 'not', 'not', 'not', 'not', 'not', 'not', 'hard', 'prejudice', 'sinister', 'no', 'threatening', 'broken', 'no', 'not', 'not', 'no', 'not', 'not', 'no', 'vice', 'vice', 'mean', 'hurt', 'not', 'not', 'not', 'hurtful', 'not', 'vice', 'not', 'mean', 'dead', 'fight', 'broken', 'alarming', 'not', 'criminal', 'never', 'not', 'no', 'stupid', 'stupid', 'suspect', 'no', 'no', 'deny', 'not', 'not', 'never', 'not', 'suspect', 'sick', 'not', 'not', 'no', 'not', 'not', 'not', 'sick', 'not', 'grim', 'dead', 'suspect', 'not', 'not', 'mean', 'negative', 'not', 'no', 'vice', 'undermine', 'not', 'mean', 'not', 'no', 'not', 'no', 'hate', 'hate', 'hate', 'hate', 'not', 'no', 'dead', 'damage', 'fight', 'not', 'not', 'vile', 'upset', 'not', 'not', 'not', 'no', 'crazy', 'no', 'not', 'not', 'no', 'crazy', 'not', 'lose', 'quit', 'not', 'no', 'lose', 'lose', 'collapse', 'bad', 'mean', 'sick', 'not', 'sad', 'damaging', 'shocking', 'terrible', 'threatening', 'bad', 'not', 'sad', 'not', 'not', 'guilty', 'horrible', 'no', 'damage', 'poor', 'suspect', 'pain', 'monstrous', 'shocking', 'hard', 'bad', 'horrible', 'guilty', 'no', 'not', 'angry', 'not', 'not', 'no', 'not', 'not', 'not', 'vicious', 'not', 'never', 'cold', 'lose', 'no', 'upset', 'no', 'not', 'undermine', 'no', 'negative', 'not', 'no', 'not', 'crazy', 'old', 'not', 'not', 'cutting', 'sad', 'mean', 'no', 'never', 'upset', 'not', 'not', 'no', 'not', 'not', 'mean', 'gross', 'hard', 'criminal', 'dead', 'not', 'no', 'not', 'horrible', 'fight', 'guilty', 'no', 'not', 'vice', 'mean', 'not', 'contrary', 'no', 'no', 'not', 'not', 'fight', 'not', 'upset', 'upset', 'unwelcome', 'negative', 'unwelcome', 'not', 'bad', 'not', 'not', 'never', 'no', 'not', 'no', 'never', 'not', 'not', 'not', 'no', 'no', 'broken', 'not', 'suspect', 'not', 'not', 'mean', 'cutting', 'no', 'not', 'suspect', 'no', 'not', 'no', 'not', 'criminal', 'awful', 'hard', 'not', 'not', 'not', 'fear', 'no', 'no', 'not', 'no', 'hard', 'sick', 'vice', 'not', 'hard', 'not', 'not', 'hard', 'unwanted', 'not', 'no', 'not', 'not', 'suspect', 'no', 'no', 'dead', 'no', 'mean', 'dead', 'not', 'sorry', 'bad', 'old', 'not', 'suspect', 'lose', 'never', 'never', 'no', 'not', 'not', 'lose', 'lose', 'lose', 'lose', 'evil', 'never', 'evil', 'mean', 'fight', 'guilty', 'shocking', 'suspect', 'not', 'no', 'vice', 'deny', 'never', 'not', 'sad', 'no', 'hurt', 'not', 'not', 'sorry', 'no', 'not', 'not', 'not', 'not', 'not', 'suspect', 'never', 'not', 'not', 'bad', 'suspect', 'not', 'mean', 'suspect', 'fight', 'not', 'guilty', 'hate', 'reject', 'not', 'hate', 'reject', 'not', 'not', 'not', 'not', 'never', 'zero', 'no', 'no', 'terrible', 'not', 'not', 'not', 'bad', 'not', 'no', 'fear', 'not', 'not', 'no', 'never', 'not', 'never', 'not', 'no', 'never', 'not', 'suspect', 'no', 'not', 'lose', 'no', 'suspicious', 'not', 'not', 'not', 'not', 'not', 'no', 'dead', 'not', 'not', 'not', 'no', 'not', 'not', 'never', 'never', 'not', 'not', 'grave', 'never', 'fight', 'never', 'not', 'guilty', 'no', 'cold', 'not', 'guilty', 'not', 'guilty', 'not', 'zero', 'no', 'not', 'nobody', 'not', 'no', 'deprived', 'suspect', 'suspect', 'not', 'wound', 'no', 'no', 'no', 'no', 'no', 'no', 'no', 'not', 'no', 'not', 'unfair', 'not', 'nasty', 'not', 'ugly', 'sad', 'nasty', 'not', 'ugly', 'guilty', 'hard', 'suspect', 'rocky', 'hard', 'never', 'never', 'suspicious', 'not', 'not', 'not', 'not', 'suspect', 'criminal', 'criminal', 'broken', 'quit', 'not', 'not', 'angry', 'angry', 'tense', 'not', 'hate', 'not', 'not', 'not', 'angry', 'shocking', 'no', 'no', 'not', 'not', 'not', 'not', 'criminal', 'not', 'not', 'not', 'not', 'criminal', 'mean', 'contrary', 'not', 'not', 'upset', 'not', 'mean', 'suspect', 'suspect', 'vice', 'no', 'not', 'vice', 'not', 'lose', 'hate', 'hate', 'hate', 'hate', 'hate', 'awful', 'bad', 'criminal', 'not', 'criminal', 'criminal', 'not', 'criminal', 'criminal', 'no', 'not', 'distress', 'not', 'evil', 'no', 'not', 'fight', 'not', 'upset', 'deny', 'not', 'not', 'not', 'never', 'not', 'not', 'damaging', 'no', 'not', 'nobody', 'not', 'bad', 'not', 'terrible', 'damage', 'not', 'not', 'malicious', 'no', 'ignore', 'dead', 'oppressive', 'horrendous', 'deny', 'not', 'not', 'not', 'hate', 'not', 'broken', 'upset', 'yell', 'damage', 'upset', 'sad', 'upset', 'upset', 'fight', 'fight', 'no', 'fight', 'not', 'no', 'criminal', 'not', 'suspect', 'suspect', 'not', 'not', 'never', 'not', 'not', 'dead', 'stuck', 'evil', 'fight', 'suspicious', 'not', 'no', 'not', 'not', 'not', 'poor', 'no', 'not', 'no', 'not', 'not', 'sick', 'poor', 'poor', 'not', 'upset', 'not', 'not', 'not', 'not', 'not', 'not', 'shocking', 'alarming', 'hard', 'not', 'never', 'not', 'no', 'no', 'not', 'not', 'not', 'suspect', 'not', 'suspect', 'suspect', 'suspect', 'suspect', 'suspect', 'suspect', 'poor', 'grim', 'dead', 'dead', 'dead', 'not', 'not', 'foul', 'undermine', 'unjust', 'not', 'upset', 'no', 'no', 'no', 'criminal', 'hard', 'criminal', 'poor', 'never', 'pain', 'no', 'suspect', 'fight', 'no', 'not', 'not', 'suspect', 'negative', 'not'], 'Jeff Poor': ['not', 'not', 'fight', 'not', 'not', 'evil', 'hate', 'terrible', 'unhealthy', 'not', 'not', 'not', 'not', 'not', 'not', 'no', 'not', 'not', 'not', 'not', 'worthless', 'undermine', 'hard', 'not', 'lose', 'not', 'fail', 'not', 'not', 'not', 'bad', 'not', 'not', 'not', 'not', 'fear', 'not', 'not', 'threatening', 'old', 'nobody', 'stupid', 'not', 'threatening', 'not', 'spring', 'not', 'not', 'hate', 'not', 'deny', 'not', 'never', 'hate', 'not', 'hard', 'hate', 'not', 'not', 'not', 'sorry', 'not', 'terrible', 'mean', 'never', 'not', 'not', 'not', 'no', 'not', 'not', 'not', 'bad', 'bad', 'bad', 'no', 'not', 'angry', 'not', 'not', 'not', 'not', 'not', 'sad', 'guilty', 'not', 'not', 'not', 'not', 'not', 'not', 'old', 'never', 'not', 'deny', 'no', 'no', 'not', 'no', 'not', 'not', 'hate', 'criminal', 'not', 'no', 'not', 'not', 'not', 'no', 'prejudice', 'no', 'no', 'prejudice', 'not', 'not', 'hard', 'not', 'not', 'mean', 'no', 'not', 'no', 'not', 'not', 'not', 'not', 'not', 'not', 'mean', 'not', 'never', 'never', 'no', 'not', 'no', 'not', 'never', 'not', 'not', 'no', 'angry', 'angry', 'not', 'never', 'not', 'not', 'no', 'not', 'not', 'no', 'not', 'no', 'not', 'not', 'not', 'not', 'not', 'unsatisfactory', 'no', 'never', 'never', 'not', 'not', 'not', 'not', 'no', 'no', 'no', 'not', 'never', 'no', 'bad', 'never', 'bad', 'not', 'not', 'lose', 'mean', 'not', 'dead', 'not', 'not', 'mean', 'not', 'not', 'not', 'hard', 'not', 'not', 'not', 'hard', 'not', 'not', 'no', 'no', 'not', 'not', 'not', 'no', 'not', 'not', 'not', 'not', 'dead', 'not', 'fight', 'no', 'no', 'no', 'dishonest', 'no', 'mean', 'not', 'never', 'not', 'not', 'not', 'not', 'dishonest', 'not', 'not', 'not', 'not', 'crazy', 'never', 'stupid', 'no', 'impossible', 'not', 'not', 'not', 'no', 'pain', 'never', 'pain', 'not', 'not', 'not', 'never', 'not', 'no', 'not', 'no', 'not', 'no', 'not', 'not', 'no', 'no', 'not', 'no', 'not', 'not', 'no', 'zero', 'not', 'hard', 'no', 'not', 'not', 'never', 'not', 'not', 'vile', 'not', 'not', 'fight', 'not', 'never', 'fight', 'not', 'not', 'not', 'not', 'damage', 'no', 'not', 'hard', 'not', 'no', 'poor', 'not', 'no', 'not', 'not', 'never', 'never', 'not', 'crazy', 'crazy', 'deny', 'offensive', 'dead', 'not', 'evil', 'not', 'grotesque', 'not', 'not', 'not', 'not', 'not', 'not', 'not', 'bad', 'bad', 'bad', 'no', 'mean', 'not', 'not', 'mean', 'negative', 'nobody', 'criminal', 'negative', 'hate', 'hard', 'not', 'no', 'hate', 'angry', 'never', 'never', 'not', 'lose', 'not', 'no', 'no', 'not', 'not', 'not', 'hurt', 'not', 'fight', 'not', 'not', 'not', 'not', 'not', 'not', 'not', 'bad', 'no', 'not', 'not', 'lose', 'zero', 'zero', 'not', 'not', 'not', 'hard', 'not', 'not', 'terrible', 'not', 'never', 'not', 'no', 'dead', 'fear', 'no', 'not', 'not', 'not', 'not', 'pain', 'sad', 'sad', 'zero', 'no', 'never', 'not', 'not', 'no', 'not', 'collapse', 'not', 'never', 'not', 'not', 'no', 'not', 'damage', 'hurt', 'evil', 'never', 'never', 'not', 'not', 'not', 'old', 'not', 'not', 'upset', 'not', 'fight', 'cutting', 'not', 'mean', 'not', 'no', 'no', 'not', 'not', 'cutting', 'not', 'fight', 'fight', 'fight', 'no', 'no', 'no', 'no', 'never', 'never', 'not', 'not', 'never', 'never', 'bad', 'bad', 'never', 'never', 'mean', 'no', 'no', 'not', 'not', 'no', 'no', 'not', 'no', 'not', 'not', 'not', 'no', 'no', 'not', 'never', 'dirty', 'not', 'not', 'corrupt', 'not', 'not', 'not', 'not', 'not', 'not', 'not', 'nobody', 'no', 'not', 'never', 'not', 'old', 'not', 'no', 'never', 'no', 'never', 'hate', 'terrible', 'not', 'not', 'suspicious', 'not', 'not', 'ignore', 'angry', 'sad', 'bad', 'ignore', 'not', 'deny', 'not', 'not', 'not', 'ugly', 'coarse', 'coarse', 'fail', 'not', 'fail', 'not', 'not', 'threatening', 'dead', 'criminal', 'dead', 'criminal', 'not', 'shocking', 'dead', 'dead', 'not', 'not', 'not', 'not', 'not', 'not', 'not', 'mean', 'no', 'not', 'mean', 'cold', 'not', 'angry', 'not', 'not', 'dirty', 'dirty', 'not', 'not', 'not', 'hostile', 'mean', 'rude', 'mean', 'not', 'not', 'not', 'not', 'broken', 'grotesque', 'hard', 'no', 'no', 'undermine', 'damage', 'criminal', 'fear', 'not', 'zero', 'not', 'deny', 'dead', 'never', 'damage', 'not', 'not', 'vicious', 'vile', 'not', 'not', 'unhealthy', 'awful', 'awful', 'not', 'pain', 'not', 'sad', 'fight', 'hard', 'no', 'dead', 'hate', 'shocking', 'not', 'not', 'hate', 'not', 'no', 'not', 'not', 'not', 'not', 'not', 'no', 'not', 'not', 'not', 'not', 'not', 'no', 'ignore', 'deny', 'not', 'not', 'not', 'not', 'no', 'nobody', 'nobody', 'no', 'not', 'not', 'not', 'not', 'never', 'no', 'not', 'fight', 'not', 'not', 'criminal', 'not', 'not', 'criminal', 'hard', 'not', 'no', 'not', 'not', 'dishonest', 'not', 'not', 'not', 'lose', 'no', 'not', 'deny', 'deny', 'deny', 'not', 'not', 'not', 'ignore', 'not', 'grave', 'not', 'hard', 'cutting', 'old', 'threatening', 'mean', 'threatening', 'sad', 'no', 'never', 'never', 'not', 'not', 'bad', 'pain', 'not', 'not', 'not', 'not', 'not', 'not', 'no', 'no', 'no', 'naive', 'not', 'not', 'never', 'no', 'not', 'no', 'no', 'no', 'no', 'no', 'no', 'gross', 'not', 'no', 'no', 'no', 'not', 'no', 'old', 'not', 'mean', 'not', 'not', 'never', 'no', 'not', 'no', 'no', 'never', 'no', 'not', 'not', 'no', 'no', 'no', 'not', 'not', 'no', 'never', 'no', 'not', 'not', 'not', 'insane', 'no', 'no', 'no', 'hate', 'angry', 'not', 'not', 'not', 'never', 'not', 'not', 'not', 'not', 'not', 'not', 'not', 'not', 'dead', 'not', 'no', 'vicious', 'criminal', 'not', 'criminal', 'criminal', 'not', 'criminal', 'not', 'not', 'not', 'mean', 'hate', 'hate', 'hate', 'poisonous', 'stuck', 'criminal', 'no', 'spring', 'sorry', 'not', 'not', 'not', 'no', 'fear', 'not', 'not', 'not', 'not', 'not', 'not', 'not', 'mean', 'not', 'no', 'not', 'not', 'never', 'ugly', 'ugly', 'no', 'vice', 'not', 'vice', 'not', 'not', 'not', 'not', 'not', 'not', 'not', 'not', 'never', 'old', 'not', 'not', 'not', 'mean', 'insane', 'bad', 'never', 'poor', 'no', 'not', 'no', 'corrupt', 'not', 'deny', 'no', 'not', 'not', 'no', 'not', 'no', 'no', 'not', 'damage', 'not', 'not', 'not', 'fight', 'not', 'not', 'terrifying', 'fight', 'never', 'poor', 'not', 'zero', 'not', 'never', 'zero', 'no', 'not', 'deny', 'deny', 'no', 'stupid', 'no', 'not', 'not', 'not', 'not', 'not', 'not', 'bad', 'lose', 'mean', 'mean', 'not', 'not', 'not', 'broken', 'dishonest', 'broken', 'not', 'not', 'not', 'broken', 'dishonest', 'broken', 'dishonest', 'broken', 'not', 'not', 'not', 'not', 'not', 'not', 'not', 'not', 'not', 'not', 'mean', 'no', 'disease', 'cry', 'not', 'not', 'not', 'no', 'undermine', 'not', 'hard', 'not', 'not', 'not', 'not', 'lose', 'not', 'not', 'never', 'not', 'criminal', 'not', 'criminal', 'not', 'criminal', 'criminal', 'not', 'no', 'terrible', 'criminal', 'not', 'not', 'missing', 'not', 'not', 'no', 'mean', 'not', 'not', 'not', 'hard', 'mean', 'stupid', 'not', 'stupid', 'not', 'stupid', 'terrible', 'terrible', 'not', 'not', 'hate', 'not', 'not', 'not', 'not', 'no', 'not', 'no', 'not', 'no', 'not', 'no', 'no', 'not', 'no', 'not', 'not', 'not', 'corrupt', 'bad', 'not', 'not', 'not', 'not', 'not', 'never', 'bad', 'not', 'bad', 'poor', 'not', 'not', 'not', 'not', 'not', 'not', 'not', 'not', 'mean', 'suspect', 'not', 'no', 'never', 'never', 'not', 'not', 'not', 'cutting', 'not', 'no', 'not', 'not', 'mean', 'not', 'unfair', 'hard', 'not', 'not', 'not', 'no', 'no', 'not', 'not', 'not', 'not', 'not', 'fight', 'not', 'no', 'hate', 'hurt', 'old', 'not', 'not', 'questionable', 'not', 'fight', 'not', 'not', 'not', 'not', 'hard', 'not', 'vice', 'hard', 'not', 'terrible', 'not', 'no', 'no', 'hard', 'not', 'not', 'shocking', 'not', 'not', 'no', 'hostile', 'no', 'hate', 'not', 'no', 'no', 'not', 'not', 'not', 'offensive', 'not', 'mean', 'not', 'not', 'not', 'not', 'bad', 'ugly', 'plain', 'nasty', 'no', 'savage', 'never', 'not', 'not', 'not', 'not', 'no', 'not', 'no', 'negative', 'mean', 'no', 'no', 'not', 'not', 'not', 'not', 'not', 'not', 'not', 'hard', 'not', 'not', 'not', 'hard', 'no', 'vice', 'not', 'not', 'not', 'not', 'corrupt', 'not', 'no', 'not', 'not', 'not', 'hate', 'fight', 'not', 'no', 'no', 'not', 'not', 'not', 'not', 'not', 'no', 'not', 'no', 'not', 'not', 'terrible', 'suspect', 'suspect', 'horrible', 'not', 'suspect', 'suspect', 'lose', 'lose', 'fight', 'not', 'vice', 'not', 'not', 'not', 'not', 'not', 'unhappy', 'not', 'mean', 'hard', 'mean', 'unfair', 'never', 'old', 'never', 'unhappy', 'not', 'not', 'bad', 'not', 'lose', 'severe', 'not', 'severe', 'hurt', 'hurt', 'hard', 'not', 'not', 'not', 'no', 'never', 'savage', 'not', 'not', 'not', 'not', 'not', 'not', 'no', 'not', 'not', 'hate', 'hate', 'hate', 'not', 'not', 'not', 'corrupt', 'mean', 'nobody', 'greed', 'mean', 'bad', 'not', 'not', 'never', 'not', 'not', 'not', 'ill', 'not', 'not', 'not', 'not', 'not', 'not', 'not', 'angry', 'yell', 'not', 'not', 'never', 'not', 'not', 'lose', 'pessimistic', 'lose', 'not', 'not', 'no', 'eroding', 'lose', 'lose', 'lose', 'sick', 'sick', 'not', 'reject', 'not', 'missing', 'not', 'not', 'no', 'not', 'not', 'insane', 'no', 'not', 'not', 'not', 'not', 'not', 'not', 'not', 'not', 'never', 'no', 'no', 'no', 'fear', 'angry', 'not', 'not', 'not', 'never', 'never', 'never', 'not', 'never', 'nobody', 'not', 'not', 'not', 'bad', 'not', 'mean', 'lose', 'not', 'lose', 'not', 'not', 'not', 'no', 'plain', 'no', 'not', 'no', 'not', 'not', 'not', 'not', 'not', 'no', 'nobody', 'not', 'poor', 'not', 'not', 'not', 'no', 'not', 'not', 'no', 'dishonest', 'not', 'not', 'not', 'not', 'not', 'not', 'not', 'not', 'threatening', 'not', 'never', 'not', 'not', 'fight', 'not', 'no', 'not', 'dismal', 'hard', 'foul', 'not', 'not', 'never', 'not', 'damage', 'hurt', 'not', 'not', 'not', 'not', 'not', 'no', 'never', 'mean', 'not', 'awful', 'wary', 'never', 'no', 'not', 'no', 'never', 'bad', 'fight', 'cold', 'zero', 'not', 'not', 'not', 'not', 'not', 'mean', 'not', 'no', 'not', 'not', 'not', 'vice', 'vice', 'not', 'not', 'not', 'shocking', 'never', 'not', 'crazy', 'not', 'not', 'nobody', 'hard', 'never', 'broken', 'upset', 'not', 'not', 'not', 'not', 'not', 'fight', 'not', 'not', 'undermine', 'hard', 'never', 'not', 'not', 'not', 'hard', 'not', 'not', 'not', 'not', 'not', 'not', 'no', 'not', 'not', 'not', 'not', 'not', 'not', 'nobody', 'no', 'missing', 'never', 'no', 'not', 'no', 'no', 'not', 'not', 'nobody', 'not', 'hard', 'fight', 'hard', 'fight', 'fight', 'hard', 'fight', 'hard', 'not', 'missing', 'missing', 'never', 'not', 'not', 'lose', 'not', 'bad', 'not', 'bad', 'bad', 'not', 'upset', 'not', 'not', 'not', 'not', 'sick', 'not', 'bad', 'hard', 'hard', 'hard', 'terrible', 'not', 'not', 'hard', 'not', 'deny', 'never', 'not', 'bad', 'not', 'no', 'not', 'not', 'not', 'not', 'not', 'not', 'no', 'not', 'no', 'not', 'not', 'hurt', 'not', 'not', 'mean', 'negative', 'not', 'no', 'not', 'bad', 'not', 'fight', 'not', 'lose', 'no', 'mean', 'not', 'not', 'bad', 'not', 'pain', 'vice', 'not', 'not', 'not', 'not', 'not', 'not', 'not', 'not', 'not', 'not', 'distress', 'hurt', 'hurt', 'never', 'no', 'not', 'mean', 'not', 'fear', 'deny', 'negative', 'not', 'not', 'not', 'not', 'not', 'questionable', 'no', 'never', 'never', 'never', 'no', 'nobody', 'nasty', 'not', 'not', 'not', 'not', 'mean', 'angry', 'not', 'not', 'not', 'dead', 'missing', 'negative', 'missing', 'no', 'negative', 'negative', 'never', 'not', 'undermine', 'not', 'not', 'upset', 'not', 'no', 'no', 'not', 'not', 'not', 'not', 'never', 'not', 'not', 'not', 'not', 'not', 'not', 'plain', 'no', 'no', 'bad', 'reject', 'not', 'not', 'not', 'no', 'unfair', 'not', 'not', 'never', 'unhappy', 'not', 'ignorant', 'not', 'not', 'not', 'no', 'no', 'mean', 'lose', 'lose', 'not', 'not', 'not', 'not', 'not', 'not', 'not', 'not', 'not', 'hostile', 'not', 'never', 'lose', 'not', 'lose', 'lose', 'lose', 'lose', 'lose', 'no', 'guilty', 'not', 'vice', 'never', 'no', 'not', 'not', 'no', 'never', 'no', 'no', 'no', 'spring', 'not', 'no', 'no', 'no', 'not', 'not', 'old', 'bad', 'hate', 'not', 'dead', 'no', 'not', 'not', 'not', 'dishonest', 'corrupt', 'no', 'not', 'not', 'not', 'terrible', 'mean', 'lose', 'lose', 'not', 'not', 'not', 'not', 'never', 'yell', 'never', 'yell', 'never', 'nobody', 'nonsense', 'not', 'not', 'not', 'never', 'not', 'not', 'never', 'not', 'not', 'not', 'not', 'not', 'grave', 'criminal', 'bad', 'fight', 'not', 'not', 'missing', 'no', 'not', 'not', 'never', 'never', 'never', 'never', 'never', 'dirty', 'hate', 'shocking', 'nobody', 'never', 'never', 'not', 'not', 'never', 'not', 'not', 'not', 'not', 'not', 'no', 'not', 'no', 'not', 'not', 'not', 'guilty', 'not', 'not', 'criminal', 'not', 'not', 'horrible', 'not', 'not', 'dead', 'no', 'missing', 'no', 'no', 'not', 'no', 'no', 'not', 'never', 'never', 'not', 'not', 'hard', 'fight', 'no', 'greed', 'not', 'not', 'not', 'not', 'not', 'not', 'not', 'not', 'not', 'mean', 'not', 'not', 'not', 'not', 'not', 'never', 'fear', 'not', 'angry', 'not', 'fear', 'not', 'not', 'not', 'not', 'never', 'not', 'not', 'not', 'not', 'not', 'no', 'not', 'not', 'not', 'not', 'not', 'not', 'not', 'not', 'deplorable', 'not', 'never', 'old', 'never', 'sorry', 'never', 'bad', 'bad', 'not', 'not', 'not', 'unfair', 'no', 'not', 'not', 'not', 'not', 'cutting', 'not', 'not', 'not', 'bad', 'not', 'no', 'not', 'awful', 'not', 'not', 'mean', 'not', 'not', 'nobody', 'dirty', 'bad', 'bad', 'bad', 'not', 'not', 'sad', 'not', 'angry', 'gross', 'bad', 'not', 'not', 'not', 'not', 'not', 'never', 'not', 'horrible', 'no', 'deny', 'deny', 'not', 'not', 'no', 'not', 'not', 'not', 'hurt', 'never', 'broken', 'not', 'not', 'not', 'not', 'sick', 'not', 'no', 'not', 'unfair', 'upset', 'not', 'not', 'not', 'mean', 'nobody', 'mean', 'not', 'not', 'hard', 'not', 'not', 'not', 'mean', 'not', 'not', 'mean', 'not', 'not', 'not', 'not', 'not', 'not', 'no', 'not', 'not', 'not', 'not', 'not', 'terrible', 'not', 'not', 'no', 'nobody', 'not', 'fight', 'fear', 'sick', 'not', 'not', 'shocking', 'not', 'not', 'not', 'no', 'not', 'sorry', 'not', 'no', 'not', 'zero', 'criminal', 'not', 'no', 'not', 'not', 'not', 'never', 'never', 'broken', 'not', 'never', 'never', 'stupid', 'nobody', 'dishonest', 'not', 'not', 'not', 'not', 'not', 'lose', 'no', 'mean', 'terrible', 'no', 'no', 'not', 'not', 'not', 'not', 'not', 'never', 'never', 'not', 'no', 'not', 'not', 'never', 'not', 'vice', 'not', 'hard', 'hard', 'not', 'no', 'pessimistic', 'not', 'not', 'not', 'not', 'never', 'no', 'not', 'nobody', 'no', 'not', 'not', 'naughty', 'bad', 'bad', 'lose', 'not', 'unfair', 'not', 'not', 'dead', 'not', 'hate', 'not', 'bad', 'not', 'not', 'not', 'no', 'not', 'not', 'not', 'not', 'not', 'not', 'hate', 'not', 'not', 'not', 'hate', 'not', 'not', 'upset', 'not', 'beneath', 'no', 'ignore', 'ignore', 'not', 'not', 'not', 'not', 'wound', 'dishonest', 'not', 'not', 'never', 'not', 'weary', 'not', 'never', 'not', 'old', 'not', 'not', 'hard', 'hard', 'hard', 'not', 'not', 'not', 'not', 'no', 'not', 'no', 'not', 'not', 'angry', 'not', 'not', 'not', 'never', 'never', 'not', 'not', 'no', 'not', 'not', 'mean', 'not', 'not', 'not', 'not', 'not', 'fight', 'awful', 'not', 'hurt', 'no', 'not', 'not', 'not', 'fear', 'not', 'angry', 'angry', 'not', 'reject', 'not', 'angry', 'not', 'nobody', 'no', 'poor', 'poor', 'not', 'not', 'not', 'not', 'not', 'not', 'not', 'not', 'not', 'not', 'nobody', 'nobody', 'not', 'fight', 'bad', 'horrible', 'unfair', 'unfair', 'not', 'not', 'not', 'hard', 'not', 'not', 'sad', 'dead', 'never', 'mean', 'not', 'vice', 'not', 'mean', 'not', 'not', 'bad', 'not', 'not', 'not', 'not', 'not', 'fear', 'not', 'not', 'hate'], 'Trent Baker': ['not', 'bad', 'missing', 'not', 'not', 'distress', 'lousy', 'criminal', 'missing', 'poor', 'yell', 'not', 'not', 'not', 'not', 'damage', 'not', 'no', 'bad', 'bad', 'not', 'not', 'not', 'lose', 'not', 'not', 'not', 'not', 'not', 'ignore', 'ignore', 'not', 'not', 'nonsense', 'hard', 'not', 'terrible', 'horrible', 'not', 'not', 'lose', 'not', 'not', 'never', 'never', 'monstrous', 'not', 'not', 'no', 'fight', 'no', 'no', 'not', 'upset', 'not', 'old', 'never', 'wound', 'not', 'not', 'not', 'never', 'never', 'not', 'not', 'not', 'not', 'hate', 'not', 'not', 'not', 'criminal', 'hurt', 'not', 'missing', 'not', 'not', 'not', 'old', 'old', 'not', 'mean', 'not', 'not', 'not', 'not', 'hard', 'no', 'not', 'not', 'not', 'not', 'not', 'no', 'cutting', 'not', 'upset', 'not', 'not', 'crazy', 'not', 'fail', 'poor', 'not', 'spring', 'spring', 'not', 'mean', 'not', 'not', 'not', 'hurt', 'not', 'not', 'not', 'not', 'no', 'not', 'sad', 'not', 'not', 'stuck', 'mean', 'not', 'no', 'not', 'not', 'not', 'not', 'not', 'not', 'not', 'not', 'no', 'not', 'not', 'missing', 'missing', 'not', 'not', 'not', 'negative', 'not', 'bad', 'vindictive', 'bad', 'no', 'lose', 'not', 'undermine', 'not', 'not', 'no', 'no', 'not', 'no', 'fight', 'mean', 'not', 'not', 'not', 'spring', 'not', 'not', 'not', 'not', 'fight', 'not', 'not', 'no', 'cold', 'crazy', 'never', 'poor', 'not', 'yell', 'not', 'not', 'not', 'no', 'not', 'not', 'no', 'no', 'no', 'upset', 'not', 'lousy', 'not', 'hard', 'mean', 'not', 'disgusting', 'not', 'hard', 'not', 'not', 'not', 'missing', 'no', 'no', 'not', 'not', 'never', 'never', 'never', 'never', 'not', 'not', 'not', 'not', 'not', 'not', 'zero', 'spring', 'not', 'not', 'nobody', 'not', 'spring', 'no', 'not', 'not', 'not', 'ill', 'not', 'ill', 'not', 'broken', 'not', 'upset', 'not', 'not', 'not', 'not', 'not', 'not', 'insane', 'no', 'not', 'not', 'not', 'no', 'not', 'ignore', 'never', 'never', 'not', 'not', 'not', 'not', 'not', 'nobody', 'not', 'not', 'not', 'never', 'never', 'never', 'upset', 'upset', 'not', 'not', 'mean', 'cold', 'no', 'not', 'not', 'beneath', 'not', 'not', 'not', 'not', 'mean', 'scary', 'not', 'scary', 'bad', 'unhealthy', 'never', 'fail', 'not', 'not', 'not', 'not', 'not', 'vice', 'mean', 'no', 'not', 'not', 'not', 'not', 'not', 'never', 'lose', 'fear', 'not', 'not', 'deny', 'scare', 'frighten', 'not', 'not', 'hate', 'no', 'not', 'not', 'not', 'criminal', 'not', 'not', 'not', 'confused', 'confused', 'corrupt', 'bad', 'not', 'bad', 'no', 'beneath', 'not', 'not', 'no', 'criminal', 'sad', 'offensive', 'no', 'not', 'not', 'not', 'not', 'not', 'never', 'never', 'not', 'not', 'not', 'not', 'not', 'not', 'upset', 'criminal', 'not', 'not', 'not', 'severe', 'disease', 'disease', 'not', 'crazy', 'guilty', 'no', 'cold', 'not', 'not', 'not', 'nonsense', 'hostile', 'not', 'not', 'negate', 'no', 'not', 'dishonest', 'not', 'no', 'not', 'not', 'not', 'not', 'no', 'not', 'not', 'not', 'no', 'not', 'not', 'not', 'lose', 'not', 'fight', 'not', 'offensive', 'questionable', 'offensive', 'offensive', 'not', 'not', 'dirty', 'bad', 'dirty', 'not', 'dirty', 'cold', 'not', 'not', 'not', 'ugly', 'nasty', 'not', 'fight', 'not', 'no', 'not', 'not', 'not', 'not', 'ignore', 'never', 'mean', 'never', 'mean', 'never', 'dead', 'no', 'mean', 'mean', 'never', 'not', 'not', 'not', 'not', 'not', 'not', 'not', 'not', 'cold', 'not', 'no', 'not', 'not', 'not', 'not', 'stupid', 'not', 'not', 'not', 'cold', 'not', 'not', 'dead', 'not', 'no', 'not', 'not', 'not', 'not', 'not', 'not', 'no', 'fight', 'not', 'not', 'not', 'scary', 'old', 'rocky', 'broken', 'no', 'no', 'no', 'not', 'not', 'no', 'no', 'no', 'severe', 'dead', 'not', 'not', 'not', 'never', 'not', 'nobody', 'sad', 'no', 'nonsense', 'hate', 'sad', 'scare', 'not', 'terrible', 'no', 'not', 'not', 'not', 'never', 'no', 'poor', 'not', 'poor', 'negative', 'not', 'not', 'upset', 'not', 'not', 'undermine', 'no', 'no', 'not', 'not', 'sad', 'not', 'criminal', 'fight', 'not', 'not', 'not', 'not', 'bad', 'not', 'not', 'not', 'nobody', 'not', 'not', 'not', 'never', 'not', 'negative', 'never', 'not', 'not', 'no', 'offensive', 'no', 'not', 'not', 'not', 'not', 'not', 'not', 'never', 'never', 'not', 'never', 'not', 'not', 'terrifying', 'not', 'not', 'not', 'not', 'not', 'cutting', 'not', 'no', 'not', 'not', 'poor', 'not', 'not', 'not', 'not', 'cold', 'not', 'never', 'never', 'never', 'not', 'not', 'dead', 'upset', 'sick', 'sick', 'criminal', 'not', 'not', 'not', 'not', 'not', 'not', 'not', 'not', 'not', 'fear', 'not', 'no', 'terrifying', 'not', 'no', 'not', 'not', 'not', 'hard', 'not', 'not', 'mean', 'not', 'not', 'never', 'mean', 'no', 'criminal', 'no', 'not', 'not', 'not', 'no', 'never', 'not', 'not', 'not', 'hard', 'mean', 'old', 'not', 'not', 'not', 'not', 'not', 'not', 'offensive', 'not', 'not', 'not', 'not', 'not', 'not', 'not', 'not', 'vice', 'not', 'upset', 'not', 'hate', 'not', 'not', 'vice', 'vice', 'not', 'not', 'not', 'not', 'not', 'not', 'not', 'not', 'not', 'old', 'not', 'old', 'criminal', 'awful', 'hate', 'not', 'unhappy', 'not', 'not', 'not', 'not', 'never', 'never', 'never', 'never', 'not', 'not', 'not', 'not', 'not', 'not', 'not', 'not', 'not', 'poor', 'nobody', 'no', 'not', 'not', 'lose', 'never', 'never', 'hate', 'wound', 'wound', 'hate', 'not', 'not', 'not', 'damage', 'damage', 'not', 'damage', 'not', 'not', 'not', 'no', 'vice', 'hard', 'never', 'never', 'not', 'guilty', 'threatening', 'not', 'not', 'not', 'not', 'greed', 'cold', 'broken', 'not', 'not', 'not', 'not', 'mean', 'not', 'not', 'not', 'not', 'not', 'not', 'not', 'not', 'negative', 'not', 'not', 'deny', 'offensive', 'hard', 'not', 'not', 'not', 'not', 'stuck', 'no', 'stuck', 'not', 'not', 'never', 'crazy', 'hurt', 'crazy', 'no', 'not', 'not', 'menacing', 'threatening', 'menacing', 'never', 'deny', 'not', 'not', 'no', 'negative', 'no', 'not', 'angry', 'never', 'guilty', 'not', 'fight', 'fight', 'fight', 'not', 'not', 'not', 'not', 'never', 'never', 'not', 'never', 'not', 'not', 'no', 'not', 'no', 'no', 'creepy', 'angry', 'no', 'sick', 'not', 'dead', 'not', 'not', 'angry', 'hard', 'hate', 'disgusting', 'vice', 'reject', 'no', 'not', 'not', 'no', 'criminal', 'greed', 'not', 'not', 'not', 'no', 'no', 'not', 'criminal', 'criminal', 'not', 'not', 'not', 'hard', 'not', 'not', 'not', 'offensive', 'offensive', 'not', 'not', 'not', 'not', 'negative', 'terrible', 'hurt', 'hard', 'hard', 'not', 'not', 'not'], 'Breitbart London': ['hate', 'no', 'hate', 'fail', 'hate', 'not', 'hard', 'not', 'quit', 'mean', 'collapse', 'not', 'mean', 'not', 'upset', 'not', 'not', 'no', 'not', 'no', 'not', 'no', 'never', 'no', 'suspect', 'no', 'deny', 'terrible', 'not', 'fail', 'not', 'stuck', 'hard', 'old', 'not', 'not', 'no', 'not', 'not', 'cutting', 'stuck', 'not', 'bad', 'not', 'no', 'nobody', 'not', 'dead', 'dead', 'not', 'suspect', 'not', 'not', 'not', 'no', 'no', 'no', 'not', 'fight', 'not', 'sad', 'no', 'not', 'not', 'not', 'not', 'dead', 'not', 'never', 'suspect', 'not', 'not', 'not', 'not', 'not', 'appalling', 'not', 'evil', 'dead', 'fight', 'dead', 'dead', 'suspect', 'no', 'terrible', 'dreadful', 'not', 'hurt', 'suspicious', 'no', 'no', 'suspicious', 'quit', 'never', 'deny', 'dead', 'no', 'not', 'not', 'detrimental', 'not', 'not', 'criminal', 'no', 'callous', 'not', 'no', 'old', 'appalling', 'not', 'hard', 'not', 'collapse', 'not', 'evil', 'not', 'hate', 'not', 'not', 'eroding', 'never', 'not', 'unwelcome', 'cold', 'old', 'not', 'mean', 'mean', 'terrible', 'never', 'not', 'not', 'never', 'fear', 'not', 'not', 'terrible', 'never', 'never', 'no', 'not', 'impossible', 'impossible', 'never', 'not', 'no', 'not', 'no', 'no', 'no', 'no', 'never', 'no', 'no', 'no', 'not', 'not', 'never', 'not', 'not', 'evil', 'never', 'not', 'not', 'not', 'not', 'undermine', 'gross', 'old', 'not', 'undermine', 'not', 'not', 'not', 'fear', 'bad', 'mean', 'evil', 'not', 'not', 'not', 'no', 'fight', 'fight', 'not', 'not', 'not', 'cold', 'quit', 'quit', 'not', 'reject', 'criminal', 'quit', 'no', 'not', 'no', 'old', 'not', 'lose', 'not', 'not', 'not', 'eroding', 'offensive', 'quit', 'fight', 'angry', 'not', 'no', 'not', 'no', 'no', 'plain', 'dead', 'damage', 'deny', 'not', 'poor', 'no', 'not', 'dead', 'dead', 'not', 'not', 'severe', 'ignore', 'not', 'sick', 'never', 'never', 'not', 'not', 'not', 'not', 'broken', 'not', 'not', 'no', 'never', 'no', 'sad', 'suspect', 'despicable', 'not', 'not', 'old', 'suspect', 'not', 'plain', 'no', 'old', 'not', 'dreadful', 'not', 'damage', 'no', 'appalling', 'sickening', 'dead', 'no', 'appalling', 'wound', 'broken', 'not', 'not', 'suspect', 'no', 'not', 'not', 'dead', 'dead', 'no', 'not', 'guilty', 'not', 'not', 'suspect', 'not', 'not', 'no', 'no', 'no', 'dead', 'criminal', 'not', 'dead', 'not', 'not', 'not', 'not', 'never', 'not', 'not', 'guilty', 'threatening', 'not', 'no', 'suspect', 'not', 'reject', 'not', 'not', 'criminal', 'not', 'not', 'not', 'not', 'vice', 'not', 'fight', 'no', 'no', 'quit', 'never', 'never', 'barbed', 'zero', 'no', 'no', 'grave', 'no', 'not', 'not', 'not', 'no', 'not', 'not', 'no', 'dead', 'beneath', 'no', 'not', 'not', 'no', 'no', 'not', 'lose', 'not', 'not', 'offensive', 'not', 'wary', 'broken', 'not', 'no', 'boring', 'no', 'no', 'not', 'no', 'cutting', 'no', 'quit', 'not', 'no', 'vice', 'no', 'not', 'lose', 'terrible', 'severe', 'hate', 'not', 'quit', 'hate', 'no', 'old', 'fail', 'impossible', 'not', 'dead', 'not', 'cry', 'not', 'not', 'suspect', 'never', 'cry', 'no', 'grave', 'not', 'appalling', 'no', 'no', 'poor', 'not', 'criminal', 'fear', 'not', 'dead', 'undermine', 'not', 'contrary', 'unfair', 'not', 'not', 'contrary', 'suspect', 'not', 'hate', 'hate', 'not', 'not', 'no', 'terrible', 'fight', 'not', 'not', 'not', 'hard', 'not', 'not', 'not', 'not', 'reject', 'no', 'not', 'not', 'not', 'not', 'impossible', 'evil', 'not', 'not', 'never', 'deny', 'not', 'fear', 'not', 'fear', 'dead', 'not', 'never', 'not', 'not', 'no', 'not', 'no', 'fear', 'not', 'fear', 'not', 'dead', 'never', 'never', 'not', 'stupid', 'criminal', 'no', 'not', 'no', 'not', 'missing', 'not', 'anxious', 'not', 'not', 'not', 'not', 'not', 'not', 'never', 'not', 'not', 'enraged', 'never', 'tense', 'no', 'hard', 'not', 'oppressive', 'quit', 'hate', 'guilty', 'not', 'no', 'fear', 'not', 'not', 'not', 'not', 'not', 'gross', 'old', 'old', 'old', 'guilty', 'not', 'not', 'spring', 'not', 'not', 'not', 'reject', 'mean', 'not', 'no', 'no', 'no', 'dead', 'dead', 'not', 'alarming', 'not', 'hate', 'not', 'renege', 'suspect', 'stuck', 'not', 'no', 'guilty', 'hate', 'not', 'guilty', 'not', 'not', 'not', 'not', 'never', 'not', 'not', 'not', 'not', 'not', 'not', 'not', 'not', 'criminal', 'not', 'angry', 'bad', 'no', 'no', 'no', 'not', 'no', 'not', 'fight', 'not', 'not', 'no', 'not', 'no', 'not', 'deny', 'not', 'not', 'not', 'mean', 'stuck', 'never', 'not', 'not', 'not', 'not', 'wary', 'not', 'not', 'not', 'hostile', 'rude', 'evil', 'not', 'not', 'horrible', 'not', 'not', 'not', 'damage', 'never', 'angry', 'hard', 'no', 'old', 'not', 'fear', 'dead', 'petty', 'not', 'criminal', 'not', 'not', 'no', 'quit', 'not', 'reject', 'not', 'fail', 'not', 'not', 'hard', 'scary', 'not', 'not', 'not', 'vicious', 'guilty', 'no', 'not', 'lose', 'fight', 'not', 'not', 'not', 'fight', 'cutting', 'depressed', 'lose', 'fear', 'not', 'no', 'no', 'never', 'not', 'suspect', 'not', 'not', 'not', 'not', 'not', 'dead', 'not', 'not', 'no', 'sad', 'suspect', 'not', 'not', 'dead', 'not', 'not', 'not', 'not', 'dead', 'no', 'bad', 'suspect', 'no', 'dead', 'not', 'not', 'no', 'not', 'no', 'not', 'no', 'old', 'no', 'not', 'guilty', 'criminal', 'not', 'criminal', 'not', 'not', 'not', 'not', 'not', 'not', 'savage', 'fear', 'fear', 'ill', 'belligerent', 'not', 'not', 'criminal', 'not', 'not', 'cutting', 'poor', 'mean', 'not', 'not', 'disease', 'disease', 'not', 'fight', 'criminal', 'criminal', 'criminal', 'hard', 'not', 'severe', 'not', 'no', 'no', 'no', 'no', 'no', 'contradictory', 'bad', 'not', 'hate', 'sinister', 'fight', 'not', 'not', 'not', 'not', 'undermine', 'no', 'not', 'not', 'lose', 'not', 'not', 'not', 'not', 'no', 'not', 'hate', 'not', 'deny', 'fear', 'undermine', 'not', 'not', 'not', 'vice', 'enraged', 'fight', 'spring', 'not', 'not', 'horrible', 'not', 'no', 'dead', 'not', 'no', 'not', 'not', 'suspect', 'no', 'not', 'criminal', 'imperfect', 'no', 'not', 'cry', 'threatening', 'bad', 'hard', 'no', 'no', 'not', 'no', 'no', 'guilty', 'deny', 'deplorable', 'not', 'hurt', 'not', 'fight', 'suspect', 'guilty', 'never', 'bad', 'never', 'not', 'no', 'not', 'suspect', 'not', 'no', 'not', 'not', 'no', 'mean', 'no', 'no', 'not', 'fight', 'mean', 'not', 'not', 'mean', 'not', 'not', 'no', 'no', 'dead', 'no', 'impossible', 'not', 'not', 'not', 'guilty', 'guilty', 'no', 'vicious', 'ruthless', 'hard', 'no', 'not', 'not', 'not', 'not', 'not', 'not', 'not', 'not', 'cold', 'no', 'not', 'broken', 'broken', 'not', 'not', 'not', 'not', 'not', 'offensive', 'offensive', 'no', 'fear', 'poor', 'horrible', 'no', 'no', 'fight', 'bad', 'boring', 'never', 'revenge', 'fear', 'not', 'not', 'no', 'no', 'not', 'impossible', 'not', 'no', 'old', 'terrible', 'impossible', 'lose', 'not', 'not', 'hard', 'not', 'not', 'bad', 'no', 'grotesque', 'awful', 'no', 'impossible', 'no', 'lose', 'negative', 'vicious', 'collapse', 'not', 'not', 'no', 'dead', 'criminal', 'damaging', 'not', 'dead', 'old', 'no', 'old', 'not', 'mean', 'old', 'deny', 'no', 'unfair', 'not', 'no', 'deny', 'not', 'not', 'dead', 'old', 'old', 'dead', 'old', 'old', 'old', 'old', 'old', 'fight', 'fight', 'no', 'messy', 'not', 'old', 'old', 'old', 'old', 'old', 'old', 'old', 'old', 'dead', 'old', 'not', 'not', 'not', 'old', 'no', 'criminal', 'damage', 'threatening', 'old', 'threatening', 'old', 'no', 'old', 'old', 'not', 'old', 'no', 'not', 'not', 'broken', 'dead', 'suspect', 'criminal', 'no', 'deny', 'no', 'no', 'no', 'old', 'broken', 'old', 'old', 'old', 'broken', 'old', 'old', 'old', 'old', 'savage', 'old', 'old', 'old', 'fight', 'never', 'suspicious', 'no', 'old', 'not', 'not', 'old', 'not', 'old', 'old', 'criminal', 'damage', 'old', 'no', 'old', 'no', 'injure', 'not', 'old', 'broken', 'no', 'broken', 'old', 'not', 'poor', 'fight', 'not', 'quit', 'fear', 'not', 'suspect', 'not', 'not', 'not', 'not', 'no', 'no', 'not', 'not', 'not', 'no', 'not', 'angry', 'threatening', 'not', 'ignore', 'no', 'suspect', 'no', 'dead', 'not', 'no', 'not', 'not', 'bad', 'no', 'reject', 'cold', 'mean', 'not', 'not', 'fear', 'not', 'not', 'no', 'guilty', 'guilty', 'not', 'not', 'not', 'not', 'no', 'not', 'stuck', 'no', 'not', 'not', 'not', 'suspicious', 'not', 'not', 'reject', 'not', 'poor', 'nobody', 'reject', 'not', 'not', 'dirty', 'not', 'no', 'not', 'never', 'not', 'no', 'no', 'questionable', 'not', 'not', 'not', 'guilty', 'no', 'guilty', 'fight', 'not', 'not', 'no', 'not', 'no', 'no', 'poor', 'no', 'no', 'anxious', 'not', 'mean', 'mean', 'no', 'lose', 'not', 'no', 'not', 'no', 'no', 'not', 'sorry', 'not', 'scare', 'fear', 'vile', 'not', 'fear', 'not', 'not', 'not', 'bad', 'bad', 'not', 'deprived', 'no', 'bad', 'bad', 'bad', 'not', 'not', 'fail', 'lose', 'revolting', 'not', 'hate', 'not', 'never', 'old', 'not', 'not', 'never', 'not', 'not', 'no', 'wary', 'no', 'not', 'no', 'not', 'terrifying', 'terrifying', 'reject', 'fight', 'no', 'not', 'no', 'not', 'no', 'wary', 'offensive', 'dead', 'no', 'not', 'not', 'not', 'never', 'no', 'dead', 'grave', 'never', 'dont', 'nobody', 'no', 'no', 'not', 'not', 'reject', 'hard', 'damaging', 'not', 'hard', 'no', 'stupid', 'not', 'no', 'negative', 'not', 'not', 'negative', 'zero', 'negative', 'negative', 'bad', 'not', 'fight', 'no', 'no', 'never', 'not', 'dead', 'dead', 'no', 'wound', 'not', 'wound', 'dead', 'dead', 'criminal', 'appalling', 'cry', 'fear', 'fear', 'old', 'not', 'dead', 'missing', 'dead', 'dead', 'dead', 'not', 'cry', 'not', 'no', 'no', 'broken', 'dead', 'dead', 'dead', 'not', 'not', 'not', 'no', 'revenge', 'no', 'criminal', 'not', 'no', 'old', 'old', 'not', 'not', 'old', 'old', 'fight', 'old', 'hard', 'no', 'fight', 'old', 'missing', 'not', 'not', 'not', 'old', 'broken', 'old', 'cold', 'criminal', 'old', 'bad', 'old', 'threatening', 'stuck', 'threatening', 'not', 'not', 'not', 'old', 'old', 'old', 'old', 'old', 'old', 'old', 'old', 'old', 'old', 'old', 'old', 'old', 'old', 'old', 'angry', 'criminal', 'no', 'not', 'hurt', 'hate', 'fail', 'guilty', 'old', 'old', 'criminal', 'damage', 'old', 'old', 'old', 'old', 'old', 'old', 'old', 'no', 'old', 'broken', 'no', 'old', 'not', 'suspect', 'old', 'suspect', 'old', 'old', 'suspect', 'threatening', 'not', 'old', 'old', 'no', 'not', 'no', 'not', 'threatening', 'fight', 'not', 'fight', 'broken', 'old', 'not', 'old', 'hard', 'not', 'fight', 'no', 'old', 'old', 'cutting', 'fail', 'no', 'no', 'old', 'suspect', 'suspect', 'suspect', 'not', 'not', 'old', 'criminal', 'old', 'damage', 'not', 'no', 'not', 'old', 'old', 'broken', 'missing', 'no', 'no', 'not', 'not', 'angry', 'suspect', 'cutting', 'suspect', 'old', 'criminal', 'criminal', 'criminal', 'old', 'not', 'no', 'criminal', 'not', 'not', 'old', 'old', 'old', 'old', 'old', 'old', 'old', 'suspect', 'old', 'old', 'old', 'damage', 'no', 'no', 'old', 'wound', 'old', 'threatening', 'no', 'no', 'threatening', 'suspect', 'dead', 'petty', 'criminal', 'old', 'poor', 'no', 'no', 'fight', 'no', 'never', 'not', 'no', 'not', 'suspect', 'no', 'fight', 'no', 'criminal', 'missing', 'dead', 'not', 'not', 'no', 'not', 'mean', 'missing', 'fight', 'not', 'never', 'not', 'severe', 'not', 'not', 'bad', 'not', 'not', 'fight', 'not', 'never', 'hurt', 'odious', 'not', 'criminal', 'missing', 'missing', 'missing', 'no', 'not', 'old', 'not', 'fight', 'suspect', 'never', 'no', 'not', 'not', 'shocking', 'pain', 'horrible', 'not', 'pain', 'not', 'vile', 'not', 'dead', 'no', 'no', 'not', 'never', 'evil', 'fight', 'not', 'not', 'no', 'no', 'not', 'not', 'cold', 'hard', 'not', 'fear', 'fear', 'not', 'dead', 'not', 'no', 'not', 'not', 'not', 'no', 'dead', 'not', 'no', 'dead', 'not', 'severe', 'not', 'suspicious', 'not', 'not', 'not', 'not', 'not', 'monstrous', 'monstrous', 'monstrous', 'monstrous', 'monstrous', 'monstrous', 'monstrous', 'monstrous', 'monstrous', 'monstrous', 'monstrous', 'monstrous', 'monstrous', 'monstrous', 'monstrous', 'monstrous', 'monstrous', 'monstrous', 'monstrous', 'monstrous', 'monstrous', 'monstrous', 'monstrous', 'dead', 'revenge', 'not', 'no', 'not', 'fight', 'no', 'not', 'not', 'fight', 'hard', 'not', 'not', 'hard', 'never', 'bad', 'bad', 'bad', 'not', 'not', 'bad', 'nobody', 'not', 'not', 'never', 'never', 'not', 'not', 'quit', 'not', 'not', 'threatening', 'not', 'not', 'not', 'no', 'damage', 'not', 'mean', 'no', 'reject', 'no', 'stuck', 'not', 'not', 'not', 'not', 'not', 'not', 'never', 'scary', 'fear', 'no', 'no', 'not', 'not', 'damage', 'not', 'plain', 'not', 'contradictory', 'no', 'not', 'not', 'not', 'mean', 'not', 'not', 'not', 'not', 'no', 'no', 'old', 'not', 'severe', 'severe', 'undermine', 'undermine', 'negative', 'fail', 'no', 'not', 'not', 'guilty', 'appalling', 'not', 'fear', 'not', 'not', 'hard', 'old', 'never', 'never', 'no', 'no', 'not', 'no', 'not', 'not', 'dead', 'not', 'dead', 'not', 'angry', 'detrimental', 'not', 'not', 'deprived', 'not', 'evil', 'corrupt', 'not', 'threatening', 'no', 'nobody', 'deny', 'not', 'not', 'damage', 'no', 'no', 'not', 'not', 'not', 'not', 'not', 'not', 'not', 'negative', 'no', 'not', 'not', 'not', 'scare', 'never', 'wound', 'annoy', 'not', 'not', 'not', 'not', 'hard', 'not', 'collapse', 'dead', 'not', 'not', 'not', 'not', 'not', 'collapse', 'not', 'not', 'hate', 'fear', 'hard', 'no', 'not', 'not', 'no', 'old', 'pain', 'quit', 'quit', 'never', 'not', 'fight', 'not', 'not', 'not', 'not', 'not', 'unwanted', 'not', 'not', 'not', 'no', 'not', 'fight', 'not', 'not', 'not', 'not', 'criminal', 'dead', 'not', 'no', 'not', 'appalling', 'fight', 'not', 'quit', 'not', 'ignore', 'crazy', 'not', 'not', 'not', 'not', 'not', 'detrimental', 'not', 'not', 'no', 'petty', 'not', 'not', 'not', 'not', 'awful', 'hard', 'no', 'not', 'damage', 'no', 'not', 'not', 'never', 'never', 'not', 'no', 'no', 'not', 'not', 'not', 'not', 'no', 'not', 'no', 'never', 'hard', 'not', 'missing', 'never', 'missing', 'no', 'old', 'not', 'poor', 'not', 'beneath', 'no', 'never', 'no', 'no', 'no', 'dead', 'damage', 'not', 'missing', 'damage', 'severe', 'not', 'not', 'dead', 'mean', 'mean', 'no', 'no', 'hard', 'no', 'deny', 'shoddy', 'not', 'threatening', 'not', 'not', 'not', 'not', 'not', 'frighten', 'frighten', 'not', 'no', 'mean', 'no', 'dead', 'no', 'fear', 'no', 'no', 'no', 'angry', 'not', 'hostile', 'not', 'not', 'not', 'bad', 'not', 'damage', 'grave', 'not', 'not', 'not', 'not', 'lose', 'not', 'not', 'fear', 'not', 'not', 'not', 'appalling', 'not', 'not', 'not', 'not', 'no', 'not', 'not', 'old', 'old', 'not', 'criminal', 'old', 'old', 'old', 'not', 'ignore', 'not', 'not', 'not', 'not', 'stuck', 'appalling', 'fight', 'not', 'not', 'reject', 'no', 'no', 'not', 'not', 'not', 'not', 'petty', 'criminal', 'no', 'never', 'no', 'no', 'never', 'not', 'never', 'criminal', 'never', 'not', 'angry', 'shocking', 'not', 'not', 'fail', 'upset', 'fight', 'criminal', 'not', 'gruesome', 'not', 'not', 'no', 'not', 'not', 'no', 'fight', 'not', 'no', 'suspect', 'not', 'no', 'old', 'guilty', 'fear', 'deprived', 'no', 'lose', 'lose', 'never', 'not', 'not', 'no', 'not', 'not', 'undermine', 'never', 'no', 'not', 'not', 'not', 'not', 'no', 'not', 'no', 'not', 'sad', 'not', 'fight', 'not', 'hard', 'not', 'not', 'undermine', 'no', 'not', 'mean', 'no', 'not', 'no', 'fight', 'not', 'threatening', 'not', 'not', 'not', 'zero', 'collapse', 'cry', 'not', 'suspect', 'dead', 'no', 'terrifying', 'offensive', 'not', 'no', 'not', 'not', 'not', 'no', 'fight', 'not', 'never', 'fear'], 'Katherine Rodriguez': ['spring', 'shocking', 'spring', 'not', 'spring', 'offensive', 'rude', 'not', 'not', 'damage', 'harmful', 'suspect', 'not', 'not', 'guilty', 'fight', 'disease', 'hard', 'no', 'no', 'not', 'not', 'not', 'no', 'not', 'no', 'not', 'not', 'not', 'not', 'not', 'not', 'guilty', 'not', 'not', 'not', 'no', 'not', 'not', 'not', 'not', 'not', 'not', 'cutting', 'fight', 'suspect', 'suspect', 'suspect', 'not', 'not', 'no', 'hard', 'suspect', 'suspect', 'suspect', 'suspect', 'not', 'not', 'not', 'pain', 'pain', 'guilty', 'bad', 'never', 'not', 'not', 'not', 'angry', 'not', 'not', 'criminal', 'not', 'not', 'not', 'broken', 'mean', 'mean', 'mean', 'zero', 'not', 'not', 'no', 'suspect', 'criminal', 'criminal', 'not', 'no', 'not', 'criminal', 'not', 'not', 'not', 'not', 'not', 'no', 'suspect', 'dishonest', 'not', 'bad', 'not', 'not', 'not', 'not', 'no', 'criminal', 'not', 'dead', 'guilty', 'not', 'not', 'guilty', 'not', 'no', 'no', 'not', 'no', 'not', 'not', 'fight', 'not', 'not', 'not', 'grave', 'never', 'not', 'not', 'not', 'disgusting', 'not', 'no', 'fight', 'missing', 'never', 'wound', 'missing', 'dead', 'no', 'damage', 'not', 'not', 'not', 'not', 'suspect', 'not', 'not', 'not', 'missing', 'not', 'not', 'not', 'no', 'not', 'not', 'not', 'not', 'not', 'no', 'not', 'not', 'not', 'never', 'not', 'upset', 'not', 'never', 'poor', 'not', 'not', 'hurt', 'not', 'not', 'not', 'not', 'not', 'not', 'vice', 'vice', 'criminal', 'not', 'not', 'not', 'not', 'not', 'not', 'no', 'unfair', 'not', 'not', 'not', 'not', 'not', 'negative', 'angry', 'not', 'severe', 'not', 'not', 'fight', 'not', 'not', 'not', 'not', 'not', 'unhappy', 'cruel', 'not', 'not', 'not', 'suspect', 'not', 'suspicious', 'not', 'not', 'never', 'guilty', 'not', 'not', 'not', 'not', 'not', 'no', 'no', 'not', 'not', 'old', 'not', 'not', 'not', 'not', 'undermine', 'never', 'deny', 'shocking', 'not', 'not', 'not', 'vice', 'not', 'not', 'revenge', 'no', 'sick', 'hate', 'hard', 'suspect', 'beneath', 'no', 'fight', 'angry', 'mean', 'mean', 'fight', 'fight', 'fight', 'vice', 'not', 'not', 'no', 'tense', 'not', 'not', 'hostile', 'not', 'fight', 'not', 'fear', 'no', 'criminal', 'no', 'not', 'fight', 'fight', 'not', 'not', 'not', 'not', 'not', 'not', 'not', 'anxious', 'bad', 'not', 'not', 'never', 'not', 'no', 'guilty', 'no', 'negative', 'negative', 'no', 'hard', 'not', 'not', 'no', 'unwholesome', 'no', 'fight', 'not', 'no', 'not', 'not', 'not', 'not', 'no', 'guilty', 'guilty', 'guilty', 'guilty', 'fight', 'vice', 'not', 'cruel', 'not', 'not', 'hate', 'not', 'no', 'negative', 'malicious', 'no', 'not', 'zero', 'never', 'fight', 'not', 'fight', 'not', 'dead', 'no', 'not', 'missing', 'not', 'hard', 'broken', 'no', 'broken', 'not', 'not', 'no', 'lose', 'threatening', 'nobody', 'criminal', 'no', 'not', 'hate', 'hate', 'not', 'not', 'not', 'never', 'not', 'nondescript', 'broken', 'not', 'vice', 'not', 'not', 'vice', 'lose', 'hurt', 'bad', 'not', 'not', 'suspect', 'wound', 'not', 'not', 'not', 'cutting', 'not', 'not', 'not', 'not', 'not', 'not', 'no', 'not', 'not', 'no', 'not', 'guilty', 'not', 'not', 'not', 'fight', 'not', 'not', 'not', 'gross', 'fight', 'hate', 'spring', 'fight', 'not', 'cry', 'hard', 'no', 'not', 'poor', 'not', 'not', 'not', 'suspect', 'suspect', 'suspect', 'suspect', 'suspect', 'not', 'no', 'not', 'rude', 'no', 'not', 'criminal', 'damage', 'criminal', 'not', 'collapse', 'not', 'criminal', 'nobody', 'not', 'not', 'negative', 'no', 'not', 'threatening', 'not', 'not', 'not', 'not', 'not', 'not', 'no', 'not', 'missing', 'missing', 'guilty', 'not', 'not', 'no', 'fight', 'not', 'no', 'not', 'damage', 'wary', 'severe', 'not', 'not', 'collapse', 'no', 'fail', 'not', 'poor', 'not', 'criminal', 'not', 'mean', 'disgusting', 'not', 'not', 'not', 'not', 'not', 'no', 'not', 'not', 'not', 'not', 'not', 'damage', 'suspect', 'not', 'not', 'angry', 'threatening', 'not', 'not', 'threatening', 'sorry', 'no', 'beneath', 'no', 'not', 'not', 'not', 'not', 'not', 'not', 'hard', 'yell', 'criminal', 'damage', 'not', 'damage', 'quit', 'not', 'cold', 'not', 'not', 'not', 'not', 'not', 'not', 'not', 'not', 'guilty', 'guilty', 'no', 'no', 'nonsense', 'not', 'never', 'never', 'negative', 'negative', 'evil', 'not', 'fight', 'not', 'not', 'not', 'no', 'never', 'sorry', 'not', 'old', 'hate', 'old', 'zero', 'pain', 'never', 'not', 'suspect', 'not', 'not', 'not', 'never', 'never', 'not', 'never', 'not', 'not', 'not', 'guilty', 'not', 'not', 'dirty', 'not', 'not', 'not', 'mean', 'not', 'prejudice', 'mean', 'never', 'not', 'missing', 'criminal', 'never', 'not', 'not', 'not', 'no', 'impossible', 'dead', 'not', 'not', 'dead', 'not', 'not', 'no', 'never', 'undermine', 'never', 'unhappy', 'offensive', 'deny', 'no', 'not', 'guilty', 'no', 'not', 'not', 'guilty', 'no', 'no', 'no', 'never', 'not', 'hurt', 'not', 'not', 'broken', 'never', 'criminal', 'not', 'not', 'suspect', 'not', 'not', 'not', 'not', 'deny', 'not', 'not', 'not', 'never', 'negative', 'no', 'not', 'poor', 'not', 'no', 'no', 'cutting', 'no', 'sad', 'not', 'criminal', 'not', 'not', 'upset', 'bad', 'not', 'not', 'dead', 'not', 'dead', 'not', 'dead', 'dead', 'disease', 'not', 'not', 'not', 'not', 'impossible', 'fight', 'no', 'not', 'horrible', 'sad', 'damage', 'not', 'no', 'not', 'not', 'not', 'no', 'not', 'ignore', 'damage', 'not', 'not', 'guilty', 'guilty', 'guilty', 'plain', 'not', 'no', 'not', 'not', 'not', 'hate', 'no', 'not', 'no', 'criminal', 'not', 'not', 'offensive', 'not', 'never', 'never', 'old', 'never', 'never', 'hurt', 'not', 'fight', 'angry', 'not', 'not', 'no', 'not', 'not', 'not', 'not', 'not', 'mean', 'no', 'not', 'not', 'not', 'sick', 'no', 'no', 'missing', 'hurt', 'lose', 'not', 'lose', 'never', 'angry', 'no', 'nobody', 'never', 'shocking', 'no', 'not', 'not', 'not', 'never', 'criminal', 'hard', 'fight', 'old', 'never', 'broken', 'missing', 'not', 'no', 'hate', 'not', 'hate', 'not', 'sad', 'hate', 'vice', 'vice', 'bad', 'not', 'not', 'no', 'not', 'not', 'not', 'never', 'never', 'never', 'ill', 'sick', 'not', 'no', 'not', 'no', 'guilty', 'not', 'not', 'lose', 'not', 'not', 'dead', 'not', 'never', 'guilty', 'cruel', 'not', 'not', 'not', 'not', 'not', 'no', 'never', 'dead', 'not', 'not', 'not', 'not', 'no', 'no', 'grim', 'no', 'no', 'never', 'criminal', 'not', 'guilty', 'hate', 'yell', 'hostile', 'not', 'severe', 'severe', 'no', 'not', 'damage', 'nobody', 'not', 'not', 'not', 'not', 'nobody', 'impossible', 'guilty', 'severe', 'shocking', 'horrible', 'sad', 'not', 'not', 'never', 'hard', 'horrible', 'never', 'not', 'not', 'poor', 'suspect', 'suspect', 'suspect', 'not', 'not', 'not', 'not', 'not', 'no', 'never', 'terrifying', 'not', 'never', 'distress', 'no', 'no', 'fight', 'not', 'not', 'not', 'negative', 'dead', 'negative', 'sorry', 'dead', 'not', 'bad', 'unhealthy', 'no', 'not', 'not', 'not', 'not', 'offensive', 'not', 'not', 'not', 'corrupt', 'not', 'guilty', 'not', 'fight', 'not', 'not', 'questionable', 'questionable', 'poor', 'not', 'suspect', 'not', 'not', 'cutting', 'cutting', 'fight', 'fight', 'not', 'fight', 'fight', 'not', 'fight', 'bad', 'bad', 'nobody', 'rotten', 'no', 'shocking', 'not', 'old', 'not', 'not', 'not', 'lose', 'wound', 'not', 'deny', 'never', 'not', 'hard', 'not', 'severe', 'not', 'not', 'not', 'not', 'not', 'criminal', 'not', 'angry', 'angry', 'not', 'not', 'not', 'not', 'not', 'bad', 'not', 'not', 'mean', 'not', 'not', 'vice', 'unwelcome', 'not', 'never', 'not', 'no', 'not', 'not', 'negative', 'not', 'unpleasant', 'not', 'stupid', 'not', 'not', 'not', 'not', 'not', 'not', 'not', 'not', 'not', 'not', 'not', 'not', 'not', 'substandard', 'not', 'not', 'not', 'not', 'not', 'shocking', 'dead', 'shocking', 'not', 'never', 'cutting', 'no', 'not', 'no', 'no', 'not', 'not', 'missing', 'missing', 'not', 'never', 'stuck', 'not', 'not', 'old', 'angry', 'not', 'fight', 'not', 'hurt', 'threatening', 'no', 'not', 'guilty', 'guilty', 'threatening', 'no', 'not', 'spring', 'no', 'crazy', 'broken', 'never', 'nobody', 'old', 'not', 'not', 'not', 'not', 'not', 'no', 'stupid', 'not', 'no', 'not', 'vice', 'not', 'not', 'no', 'not', 'no', 'upset', 'old', 'dead', 'threatening', 'fear', 'criminal', 'not', 'shocking', 'not', 'not', 'no', 'missing', 'no', 'not', 'guilty', 'angry', 'not', 'mean', 'not', 'not', 'not', 'dead', 'missing', 'hard', 'dead', 'not', 'not', 'upset', 'not', 'not', 'not', 'no', 'no', 'no', 'no', 'not', 'not', 'no', 'criminal', 'criminal', 'bad', 'never', 'not', 'not', 'no', 'not', 'lose', 'not', 'not', 'not', 'not', 'fear', 'not', 'not', 'poor', 'not', 'not', 'not', 'not', 'criminal', 'not', 'severe', 'not', 'scary', 'severe', 'distress', 'no', 'no', 'not', 'not', 'no', 'negative', 'not', 'not', 'not', 'not', 'criminal', 'not', 'fear', 'not', 'not', 'not', 'no', 'not'], 'Charlie Nash': ['no', 'hard', 'dirty', 'disease', 'no', 'not', 'not', 'guilty', 'not', 'negative', 'not', 'not', 'not', 'not', 'not', 'not', 'not', 'ugly', 'not', 'hostile', 'not', 'not', 'unfair', 'not', 'old', 'not', 'not', 'not', 'not', 'not', 'not', 'not', 'damage', 'not', 'deny', 'no', 'cry', 'no', 'cry', 'no', 'cold', 'mean', 'hate', 'malicious', 'not', 'revenge', 'not', 'revenge', 'revenge', 'ignore', 'revenge', 'revenge', 'not', 'no', 'fear', 'hostile', 'negative', 'never', 'fear', 'pain', 'not', 'suspicious', 'not', 'not', 'not', 'never', 'sorry', 'not', 'not', 'not', 'not', 'not', 'no', 'never', 'negative', 'not', 'never', 'mean', 'stressful', 'fight', 'not', 'not', 'suspect', 'no', 'not', 'sad', 'hate', 'not', 'unjust', 'hate', 'not', 'not', 'stressful', 'stressful', 'ill', 'stressful', 'stressful', 'stressful', 'not', 'not', 'never', 'fight', 'questionable', 'not', 'no', 'not', 'not', 'not', 'old', 'not', 'old', 'not', 'not', 'threatening', 'not', 'never', 'not', 'stuck', 'corrupt', 'hate', 'mean', 'not', 'appalling', 'not', 'no', 'not', 'fail', 'stuck', 'not', 'no', 'never', 'hard', 'hard', 'severe', 'not', 'horrible', 'not', 'dont', 'never', 'not', 'horrible', 'no', 'no', 'not', 'not', 'not', 'terrible', 'not', 'no', 'not', 'suspect', 'hate', 'hate', 'not', 'not', 'mean', 'negative', 'no', 'hate', 'not', 'not', 'not', 'no', 'not', 'no', 'no', 'ugly', 'sad', 'suspect', 'not', 'not', 'not', 'no', 'nobody', 'no', 'oppressive', 'cry', 'scream', 'terrible', 'offensive', 'not', 'not', 'not', 'not', 'not', 'hate', 'hate', 'hate', 'hate', 'evil', 'hate', 'not', 'not', 'angry', 'nobody', 'sorry', 'not', 'not', 'not', 'not', 'not', 'ignorant', 'not', 'ignorant', 'negative', 'bad', 'not', 'fight', 'never', 'bad', 'no', 'no', 'not', 'no', 'no', 'mean', 'not', 'dreadful', 'mean', 'not', 'never', 'not', 'old', 'not', 'not', 'broken', 'never', 'not', 'not', 'poor', 'not', 'not', 'poor', 'poor', 'not', 'ignore', 'corrupt', 'no', 'damage', 'not', 'not', 'nasty', 'criminal', 'old', 'not', 'no', 'stupid', 'terrible', 'fight', 'not', 'mean', 'not', 'not', 'no', 'shocking', 'shocking', 'fight', 'not', 'no', 'no', 'no', 'sad', 'no', 'sad', 'not', 'not', 'not', 'not', 'evil', 'vicious', 'not', 'not', 'not', 'not', 'not', 'not', 'hate', 'fight', 'bad', 'not', 'no', 'odious', 'not', 'no', 'no', 'oppressive', 'ugly', 'sad', 'mean', 'not', 'hard', 'threatening', 'never', 'no', 'vicious', 'hate', 'not', 'not', 'not', 'not', 'severe', 'not', 'bad', 'fight', 'not', 'not', 'not', 'not', 'damage', 'suspect', 'not', 'not', 'not', 'never', 'no', 'boring', 'not', 'not', 'boring', 'ignore', 'not', 'not', 'not', 'never', 'not', 'not', 'hard', 'hate', 'not', 'not', 'not', 'dirty', 'lose', 'impossible', 'evil', 'awful', 'not', 'decaying', 'not', 'not', 'no', 'bad', 'no', 'bad', 'bad', 'old', 'not', 'not', 'not', 'fight', 'not', 'no', 'not', 'not', 'not', 'criminal', 'not', 'suspicious', 'not', 'not', 'upset', 'hate', 'hate', 'hate', 'fight', 'offensive', 'not', 'not', 'no', 'not', 'vile', 'vile', 'hate', 'hate', 'negative', 'negative', 'evil', 'not', 'no', 'not', 'not', 'lose', 'no', 'no', 'not', 'never', 'no', 'fight', 'questionable', 'ugly', 'hate', 'ugly', 'hate', 'hate', 'hate', 'ugly', 'no', 'ugly', 'no', 'not', 'ugly', 'hard', 'criminal', 'criminal', 'hard', 'not', 'criminal', 'criminal', 'criminal', 'ignore', 'cold', 'mean', 'hate', 'not', 'threatening', 'not', 'not', 'not', 'not', 'never', 'awful', 'never', 'awful', 'not', 'crazy', 'not', 'not', 'not', 'not', 'not', 'no', 'not', 'severe', 'no', 'belligerent', 'damage', 'not', 'not', 'no', 'threatening', 'not', 'suspicious', 'not', 'not', 'not', 'not', 'not', 'not', 'offensive', 'not', 'never', 'no', 'no', 'no', 'no', 'no', 'no', 'no', 'no', 'not', 'hard', 'no', 'not', 'not', 'hard', 'no', 'not', 'not', 'not', 'not', 'threatening', 'not', 'no', 'scream', 'scream', 'no', 'not', 'not', 'fear', 'no', 'no', 'no', 'not', 'vice', 'terrible', 'offensive', 'no', 'missing', 'threatening', 'not', 'terrifying', 'hate', 'bad', 'not', 'no', 'not', 'negative', 'not', 'not', 'icky', 'not', 'hideous', 'hideous', 'not', 'reject', 'nobody', 'hurt', 'negative', 'hurt', 'malicious', 'criminal', 'damage', 'not', 'broken', 'not', 'not', 'not', 'no', 'not', 'not', 'reject', 'not', 'no', 'bad', 'not', 'bad', 'not', 'not', 'not', 'nobody', 'not', 'lose', 'not', 'not', 'no', 'mean', 'not', 'crazy', 'not', 'hard', 'hard', 'hard', 'not', 'hate', 'mean', 'not', 'poor', 'no', 'old', 'old', 'never', 'not', 'no', 'terrible', 'not', 'not', 'no', 'not', 'old', 'corrupt', 'hurt', 'hurt', 'not', 'hard', 'objectionable', 'not', 'fight', 'not', 'not', 'not', 'not', 'dreadful', 'not', 'no', 'not', 'never', 'not', 'no', 'threatening', 'not', 'lose', 'threatening', 'ignore', 'not', 'not', 'not', 'no', 'shocking', 'not', 'deny', 'harmful', 'negative', 'not', 'impossible', 'poor', 'impossible', 'no', 'never', 'lose', 'bad', 'not', 'not', 'mean', 'not', 'not', 'spring', 'not', 'vile', 'no', 'no', 'sorry', 'not', 'objectionable', 'not', 'vicious', 'not', 'sick', 'not', 'not', 'no', 'not', 'stuck', 'not', 'not', 'damage', 'not', 'cold', 'upset', 'not', 'not', 'no', 'clumsy', 'no', 'not', 'no', 'not', 'mean', 'negative', 'no', 'not', 'not', 'not', 'ugly', 'sick', 'never', 'hate', 'hate', 'no', 'no', 'not', 'mean', 'no', 'no', 'not', 'not', 'not', 'not', 'not', 'not', 'not', 'not', 'hard', 'not', 'fight', 'not', 'not', 'no', 'poor', 'not', 'negative', 'no', 'impossible', 'never', 'not', 'not', 'not', 'questionable', 'not', 'questionable', 'never', 'not', 'not', 'creepy', 'not', 'not', 'not', 'not', 'no', 'sorry', 'not', 'no', 'never', 'no', 'not', 'not', 'not', 'not', 'not', 'not', 'not', 'no', 'not', 'sinister', 'never', 'no', 'fear', 'not', 'not', 'not', 'not', 'not', 'not', 'not', 'not', 'not', 'not', 'not', 'never', 'unhappy', 'no', 'not', 'old', 'not', 'not', 'not', 'not', 'no', 'reject', 'nobody', 'hurt', 'negative', 'hurt', 'not', 'not', 'not', 'not', 'not', 'old', 'questionable', 'plain', 'beneath', 'unfair', 'not', 'broken', 'not', 'unfair', 'fight', 'never', 'no', 'criminal', 'not', 'not', 'never', 'not', 'not', 'not', 'hard', 'bad', 'quit', 'not', 'not', 'horrible', 'terrible', 'horrible', 'terrible', 'not', 'not', 'not', 'not', 'not', 'never', 'negative', 'not', 'not', 'not', 'not', 'not', 'hate', 'bad', 'bad', 'not', 'not', 'not', 'sick', 'harmful', 'not', 'not', 'pain', 'pain', 'no', 'not', 'no', 'no', 'not', 'hostile', 'not', 'not', 'ignore', 'never', 'not', 'not', 'not', 'mean', 'not', 'mean', 'not', 'mean', 'no', 'not', 'suspect', 'poor', 'guilty', 'bad', 'fear', 'creepy', 'not', 'creepy', 'appalling', 'not', 'mean', 'fail', 'not', 'broken', 'not', 'hate', 'upset', 'hard', 'not', 'criminal', 'damage', 'hate', 'criminal', 'criminal', 'not', 'not', 'not', 'not', 'not', 'not', 'not', 'objectionable', 'reject', 'nonsense', 'not', 'not', 'not', 'no', 'no', 'no', 'dreadful', 'threatening', 'fear', 'fear', 'not', 'fear', 'not', 'not', 'not', 'crazy', 'not', 'never', 'not', 'dead', 'not', 'no', 'not', 'not', 'no', 'not', 'not', 'no', 'not', 'not', 'sinister', 'not', 'hostile', 'impossible', 'not', 'not', 'not', 'not', 'messy', 'hard', 'deny', 'confused', 'not', 'not', 'not', 'boring', 'missing', 'not', 'malicious', 'not', 'not', 'dirty', 'offensive', 'not', 'not', 'negative', 'horrible', 'hard', 'not', 'sad', 'sad', 'icky', 'no', 'sick', 'hate', 'not', 'reject', 'nobody', 'not', 'hurt', 'negative', 'hurt', 'not', 'not', 'no', 'not', 'no', 'not', 'negative', 'no', 'horrible', 'not', 'not', 'not', 'not', 'not', 'poor', 'hard', 'not', 'cutting', 'not', 'not', 'cutting', 'reject', 'deny', 'not', 'not', 'not', 'no', 'impossible', 'not', 'stupid', 'never', 'not', 'not', 'mean', 'not', 'never', 'not', 'malicious', 'not', 'malicious', 'bad', 'sad', 'poor', 'no', 'sorry', 'not', 'threatening', 'not', 'fear', 'ugly', 'not', 'not', 'threatening', 'mean', 'missing', 'no', 'not', 'no', 'no', 'hard', 'grotesque', 'no', 'crazy', 'old', 'not', 'not', 'not', 'no', 'not', 'not', 'not', 'not', 'no', 'no', 'not', 'no', 'not', 'not', 'not', 'mean', 'not', 'not', 'no', 'mean', 'lose', 'no', 'mean', 'not', 'not', 'not', 'mean', 'not', 'not', 'no', 'no', 'no', 'no', 'no', 'no', 'scare', 'no', 'no', 'never', 'not', 'no', 'hard', 'threatening', 'not', 'never', 'not', 'hurt', 'negative', 'hurt', 'fight', 'cutting', 'dead', 'no', 'mean', 'no', 'dead', 'no', 'not', 'reject', 'old', 'hurtful', 'never', 'impossible', 'offensive', 'horrendous', 'fight', 'mean', 'offensive', 'mean', 'not', 'hard', 'hard', 'not', 'not', 'not', 'not', 'nobody', 'not', 'criminal', 'dead', 'not', 'upset', 'not', 'no', 'not', 'hate', 'not', 'not', 'sinister', 'objectionable', 'not', 'hate', 'fight', 'offensive', 'not', 'not', 'not', 'not', 'awful', 'not', 'fight', 'awful', 'prejudice', 'not', 'not', 'not', 'not', 'not', 'old', 'not', 'not', 'not', 'poor', 'mean', 'old', 'pain', 'not', 'not', 'revenge', 'missing', 'bad', 'not', 'damaging', 'no', 'bad', 'hate', 'no', 'bad', 'no', 'deny', 'not', 'not', 'no', 'old', 'alarming', 'hate', 'not', 'not', 'not', 'not', 'not', 'not', 'undermine', 'not', 'hate', 'not', 'not', 'fear', 'harmful', 'alarming', 'hate', 'not', 'not', 'not', 'not', 'not', 'not', 'old', 'not', 'hate', 'broken', 'dead', 'not', 'spring', 'not', 'guilty', 'not', 'never', 'not', 'not', 'petty', 'sad', 'petty', 'not', 'no', 'negative', 'disease', 'awful', 'terrible', 'hate', 'no', 'mean', 'crazy', 'crazy', 'not', 'offensive', 'not', 'not', 'no', 'not', 'no', 'no', 'fear', 'not', 'hate', 'horrible', 'not', 'not', 'nonsense', 'not', 'not', 'weary', 'not', 'not', 'bad', 'not', 'not', 'not', 'not', 'not', 'bad', 'scare', 'scream', 'not', 'not', 'not', 'not', 'not', 'mean', 'not', 'not', 'stupid', 'never', 'not', 'unwanted', 'no', 'not', 'mean', 'hurt', 'hurt', 'not', 'not', 'never', 'not', 'ignore', 'not', 'sorry', 'not', 'sorry', 'not', 'hurt', 'no', 'hurt', 'pain', 'hate', 'harmful', 'pain', 'not', 'no', 'no', 'hate', 'not', 'hurt', 'negative', 'hurt', 'missing', 'not', 'not', 'negative', 'not', 'not', 'no', 'not', 'fear', 'offensive', 'hard', 'not', 'not', 'zero', 'threatening', 'not', 'not', 'no', 'angry', 'not', 'undermine', 'not', 'sorry', 'not', 'not', 'hard', 'not', 'hate', 'no', 'suspect', 'not', 'not', 'hate', 'suspect', 'no', 'old', 'not', 'not', 'old', 'not', 'offensive', 'not', 'no', 'not', 'impossible', 'no', 'not', 'nobody', 'no', 'no', 'no', 'not', 'never', 'never', 'never', 'not', 'hate', 'hate', 'hate', 'fight', 'never', 'sad', 'sad', 'prejudice', 'insane', 'repulsive', 'hate', 'not', 'not', 'not', 'not', 'not', 'not', 'not', 'poisonous', 'no', 'not', 'not', 'not', 'not', 'vice', 'no', 'not', 'no', 'not', 'negative', 'no', 'not', 'not', 'not', 'no', 'impossible', 'no', 'not', 'ignore', 'not', 'not', 'never', 'never', 'suspect', 'not', 'not', 'not', 'not', 'never', 'not', 'not', 'not', 'not', 'not', 'hard', 'not', 'fear', 'not', 'not', 'hate', 'not', 'no', 'no', 'no', 'no', 'hate', 'not', 'not', 'not', 'not', 'stuck', 'not', 'corrupt', 'contrary', 'not', 'not', 'not', 'no', 'contrary', 'no', 'never', 'no', 'hard', 'no', 'hard', 'hate', 'hate', 'no', 'not', 'not', 'fear', 'despicable', 'never', 'not', 'not', 'disease', 'old', 'dead', 'not', 'dishonest', 'not', 'no', 'never', 'never', 'no', 'mean', 'not', 'not', 'never', 'negative', 'not', 'bad', 'not', 'poor', 'bad', 'angry', 'shoddy', 'not', 'unfavorable', 'upset', 'fight', 'sad', 'sad', 'never', 'not', 'not', 'mean', 'slimy', 'not', 'terrible', 'evil', 'not', 'hard', 'mean', 'horrible', 'crazy', 'not', 'horrible', 'not', 'never', 'not', 'no', 'not', 'no', 'not', 'not', 'no', 'offensive', 'not', 'not', 'not', 'no', 'not', 'not', 'not', 'no', 'upset', 'not', 'not', 'not', 'not', 'no', 'not', 'not', 'not', 'not', 'poisonous', 'not', 'poor', 'terrible', 'not', 'not', 'not', 'negative', 'not', 'never', 'never', 'not', 'fight', 'missing', 'no', 'no', 'fight', 'not', 'bad', 'bad', 'not', 'not', 'not', 'no', 'malicious', 'not', 'not', 'not', 'not', 'not', 'not', 'not', 'not', 'negative', 'negative', 'bad', 'not', 'never', 'vice', 'poor', 'no', 'not', 'hate', 'grotesque', 'scream', 'negative', 'no', 'not', 'offensive', 'upset', 'unpleasant', 'despicable', 'no', 'not', 'not', 'not', 'not', 'suspect', 'no', 'suspect', 'suspect', 'hate', 'not', 'not', 'old', 'not', 'not', 'sorry', 'sorry', 'never', 'no', 'dead', 'dead', 'stupid', 'stupid', 'hate', 'broken', 'never', 'no', 'angry', 'ill'], 'Ben Kew': ['upset', 'not', 'not', 'not', 'not', 'not', 'dishonest', 'not', 'not', 'not', 'no', 'vice', 'vice', 'not', 'not', 'contrary', 'not', 'reject', 'not', 'not', 'evil', 'not', 'not', 'fight', 'evil', 'not', 'oppressive', 'contrary', 'no', 'nobody', 'no', 'no', 'bad', 'no', 'never', 'not', 'not', 'upset', 'hate', 'hate', 'not', 'not', 'not', 'not', 'reject', 'adverse', 'no', 'undermine', 'not', 'cutting', 'no', 'no', 'no', 'no', 'bad', 'bad', 'not', 'negative', 'bad', 'bad', 'bad', 'bad', 'not', 'no', 'no', 'not', 'not', 'old', 'damage', 'no', 'no', 'no', 'not', 'guilty', 'guilty', 'mean', 'not', 'hard', 'not', 'no', 'bad', 'smelly', 'damage', 'no', 'not', 'no', 'not', 'threatening', 'not', 'not', 'dead', 'not', 'not', 'disgusting', 'not', 'never', 'guilty', 'never', 'never', 'guilty', 'not', 'not', 'not', 'guilty', 'not', 'guilty', 'not', 'hate', 'hate', 'impossible', 'not', 'fail', 'not', 'unsightly', 'not', 'not', 'ignore', 'not', 'not', 'guilty', 'criminal', 'damaging', 'not', 'not', 'not', 'not', 'lose', 'revolting', 'not', 'dishonest', 'dishonest', 'fight', 'not', 'not', 'not', 'not', 'hard', 'not', 'damage', 'no', 'never', 'enraged', 'not', 'no', 'fight', 'not', 'not', 'no', 'stuck', 'not', 'not', 'not', 'fight', 'no', 'no', 'fight', 'no', 'not', 'not', 'lose', 'undermine', 'not', 'no', 'bad', 'bad', 'not', 'hard', 'poor', 'criminal', 'not', 'not', 'not', 'not', 'stupid', 'not', 'collapse', 'not', 'pain', 'shocking', 'fear', 'not', 'no', 'not', 'old', 'no', 'angry', 'spring', 'hard', 'no', 'not', 'damage', 'sad', 'awful', 'no', 'sad', 'guilty', 'severe', 'severe', 'hard', 'lose', 'not', 'not', 'not', 'not', 'not', 'fear', 'vice', 'fight', 'not', 'not', 'not', 'vice', 'not', 'suspect', 'hard', 'hard', 'no', 'never', 'not', 'not', 'fight', 'guilty', 'guilty', 'guilty', 'not', 'not', 'dead', 'threatening', 'not', 'not', 'not', 'no', 'angry', 'not', 'not', 'not', 'poor', 'old', 'not', 'suspicious', 'not', 'not', 'lose', 'lose', 'not', 'unfair', 'not', 'dirty', 'not', 'not', 'never', 'never', 'quit', 'not', 'not', 'fear', 'wound', 'not', 'fear', 'fear', 'no', 'not', 'not', 'not', 'no', 'not', 'poor', 'poor', 'never', 'vice', 'dead', 'no', 'not', 'poor', 'poor', 'not', 'threatening', 'poor', 'not', 'never', 'not', 'not', 'fight', 'not', 'mean', 'not', 'fight', 'collapse', 'not', 'fight', 'not', 'poor', 'not', 'no', 'cutting', 'no', 'cutting', 'hostile', 'not', 'not', 'not', 'undermine', 'never', 'not', 'not', 'not', 'bad', 'no', 'not', 'no', 'no', 'not', 'not', 'not', 'scare', 'hurt', 'alarming', 'undermine', 'zero', 'not', 'not', 'not', 'lose', 'no', 'no', 'no', 'not', 'not', 'greed', 'mean', 'nobody', 'old', 'never', 'criminal', 'never', 'never', 'not', 'impossible', 'no', 'no', 'no', 'greed', 'not', 'not', 'not', 'not', 'not', 'damage', 'never', 'not', 'not', 'not', 'not', 'stupid', 'confused', 'confused', 'not', 'upset', 'hard', 'not', 'never', 'not', 'hostile', 'impossible', 'hideous', 'hideous', 'not', 'lose', 'not', 'not', 'not', 'pain', 'reject', 'vice', 'not', 'not', 'lose', 'not', 'not', 'not', 'not', 'poor', 'not', 'mean', 'bad', 'terrible', 'broken', 'not', 'criminal', 'not', 'lose', 'criminal', 'fail', 'fail', 'no', 'not', 'not', 'deny', 'not', 'fight', 'not', 'dead', 'not', 'not', 'not', 'hostile', 'poor', 'poor', 'no', 'no', 'fear', 'not', 'fight', 'terrible', 'bad', 'never', 'not', 'no', 'foul', 'corrupt', 'not', 'undermine', 'not', 'mean', 'no', 'hard', 'not', 'grave', 'quit', 'hate', 'not', 'threatening', 'hate', 'not', 'hostile', 'not', 'not', 'not', 'not', 'deny', 'not', 'not', 'not', 'no', 'offensive', 'not', 'not', 'upset', 'nobody', 'no', 'old', 'hard', 'not', 'no', 'no', 'pain', 'not', 'dismal', 'not', 'hard', 'no', 'threatening', 'not', 'no', 'not', 'no', 'not', 'not', 'dead', 'not', 'guilty', 'not', 'not', 'not', 'not', 'harmful', 'not', 'stuck', 'hate', 'no', 'no', 'no', 'not', 'not', 'no', 'not', 'atrocious', 'confused', 'not', 'not', 'hate', 'hate', 'hate', 'hate', 'hate', 'hate', 'hate', 'fear', 'not', 'hate', 'not', 'hate', 'not', 'not', 'hate', 'not', 'not', 'disease', 'not', 'not', 'not', 'atrocious', 'hate', 'not', 'not', 'not', 'not', 'not', 'hate', 'foul', 'crazy', 'not', 'not', 'sorry', 'no', 'not', 'not', 'angry', 'corrupt', 'not', 'vice', 'hate', 'not', 'shocking', 'vice', 'appalling', 'not', 'impossible', 'not', 'not', 'impossible', 'missing', 'not', 'not', 'criminal', 'insane', 'not', 'not', 'not', 'not', 'no', 'fail', 'not', 'ignore', 'not', 'not', 'hate', 'fight', 'not', 'mean', 'offensive', 'misunderstood', 'vice', 'savage', 'hurt', 'criminal', 'not', 'no', 'not', 'not', 'never', 'not', 'hard', 'no', 'not', 'never', 'never', 'never', 'not', 'not', 'mean', 'no', 'not', 'hate', 'fight', 'lose', 'mean', 'not', 'not', 'not', 'not', 'not', 'dont', 'not', 'no', 'not', 'not', 'never', 'sickening', 'stressful', 'no', 'fight', 'not', 'lose', 'not', 'not', 'hate', 'hate', 'hate', 'prejudice', 'hate', 'no', 'not', 'not', 'not', 'not', 'no', 'fear', 'not', 'mean', 'not', 'not', 'not', 'not', 'fear', 'ignore', 'zero', 'not', 'not', 'not', 'not', 'vice', 'not', 'never', 'not', 'not', 'no', 'not', 'guilty', 'not', 'old', 'not', 'not', 'not', 'hate', 'fear', 'not', 'not', 'lose', 'grave', 'offensive', 'hate', 'not', 'not', 'terrible', 'not', 'hate', 'not', 'not', 'not', 'not', 'not', 'not', 'not', 'sad', 'no', 'never', 'not', 'not', 'not', 'not', 'vice', 'no', 'no', 'petty', 'no', 'old', 'not', 'zero', 'damage', 'fear', 'fight', 'sickening', 'not', 'not', 'reject', 'bad', 'damaging', 'hurtful', 'not', 'not', 'not', 'no', 'impossible', 'never', 'horrible', 'criminal', 'never', 'not', 'criminal', 'horrible', 'grave', 'not', 'not', 'negative', 'undermine', 'not', 'fear', 'not', 'reject', 'not', 'never', 'not', 'not', 'not', 'vice', 'vice', 'damaging', 'not', 'not', 'not', 'no', 'sinister', 'hard', 'not', 'not', 'hate', 'hate', 'negative', 'not', 'no', 'not', 'distress', 'distress', 'distress', 'old', 'insane', 'not', 'stupid', 'poor', 'not', 'not', 'not', 'not', 'not', 'never', 'no', 'not', 'hate', 'never', 'never', 'not', 'mean', 'hate', 'not', 'not', 'no', 'hate', 'not', 'dead', 'no', 'bad', 'not', 'not', 'hard', 'horrible', 'not', 'damaging', 'no', 'not', 'hard', 'not', 'hard', 'not', 'ill', 'upset', 'not', 'crazy', 'hate', 'not', 'not', 'not', 'cruel', 'never', 'never', 'never', 'not', 'not', 'never', 'never', 'never', 'not', 'never', 'never', 'not', 'not', 'no', 'ignore', 'no', 'nobody', 'never', 'not', 'oppressive', 'not', 'fear', 'not', 'not', 'hurt', 'damage', 'negative', 'not', 'not', 'hate', 'offensive', 'hate', 'bad', 'bad', 'not', 'not', 'not', 'not', 'not', 'not', 'not', 'not', 'no', 'not', 'not', 'not', 'no', 'hate', 'confused', 'not', 'no', 'not', 'severe', 'angry', 'sad', 'sad', 'hate', 'broken', 'not', 'revenge', 'not', 'not', 'hate', 'no', 'no', 'not', 'hate', 'not', 'no', 'dead', 'dead', 'not', 'fail', 'fail', 'not', 'not', 'not', 'not', 'bad', 'not', 'not', 'not', 'not', 'damaging', 'not', 'not', 'not', 'hate', 'not', 'not', 'no', 'never', 'mean', 'not', 'hate', 'negative', 'not', 'not', 'not', 'never', 'not', 'stupid', 'not', 'no', 'not', 'never', 'suspect', 'no', 'upset', 'negative', 'negative', 'grave', 'never', 'not', 'hurt', 'never', 'not', 'terrifying', 'mean', 'not', 'criminal', 'not', 'not', 'not', 'no', 'fight', 'dead', 'scary', 'old', 'not', 'not', 'not', 'not', 'not', 'hate', 'not', 'cry', 'not'], 'Frances Martel': ['not', 'not', 'not', 'not', 'not', 'adverse', 'not', 'fear', 'not', 'not', 'not', 'not', 'severe', 'vice', 'not', 'threatening', 'not', 'upset', 'missing', 'belligerent', 'not', 'not', 'collapse', 'not', 'ignore', 'not', 'offensive', 'not', 'no', 'not', 'fight', 'not', 'not', 'bad', 'callous', 'impossible', 'not', 'not', 'angry', 'not', 'not', 'not', 'severe', 'wound', 'broken', 'severe', 'wound', 'no', 'not', 'not', 'no', 'not', 'not', 'not', 'vice', 'hostile', 'not', 'not', 'not', 'no', 'not', 'not', 'no', 'not', 'not', 'fight', 'hard', 'not', 'never', 'not', 'not', 'never', 'damage', 'not', 'not', 'not', 'not', 'not', 'confused', 'suspicious', 'no', 'not', 'not', 'not', 'bad', 'not', 'no', 'bad', 'not', 'not', 'negative', 'not', 'not', 'not', 'no', 'threatening', 'hostile', 'not', 'criminal', 'not', 'never', 'never', 'not', 'gross', 'evil', 'not', 'never', 'not', 'oppressive', 'not', 'not', 'fight', 'not', 'not', 'not', 'criminal', 'gruesome', 'damage', 'not', 'not', 'not', 'not', 'lose', 'lose', 'not', 'no', 'not', 'not', 'not', 'not', 'not', 'criminal', 'not', 'no', 'not', 'not', 'not', 'not', 'not', 'not', 'not', 'not', 'no', 'not', 'not', 'fight', 'no', 'not', 'not', 'not', 'not', 'not', 'collapse', 'deprived', 'not', 'not', 'not', 'old', 'not', 'threatening', 'not', 'not', 'worthless', 'hard', 'no', 'oppressive', 'not', 'no', 'criminal', 'no', 'never', 'reject', 'no', 'not', 'not', 'not', 'not', 'not', 'not', 'fight', 'no', 'guilty', 'not', 'not', 'fight', 'not', 'not', 'not', 'no', 'not', 'not', 'not', 'not', 'not', 'rude', 'suspicious', 'no', 'not', 'not', 'old', 'not', 'not', 'contradictory', 'not', 'damage', 'not', 'not', 'not', 'threatening', 'not', 'not', 'not', 'not', 'not', 'threatening', 'not', 'not', 'never', 'old', 'dead', 'vicious', 'hurt', 'hideous', 'revenge', 'poisonous', 'not', 'not', 'no', 'grave', 'not', 'not', 'suspect', 'no', 'not', 'not', 'fight', 'not', 'no', 'no', 'criminal', 'not', 'damaging', 'not', 'not', 'not', 'no', 'vice', 'not', 'not', 'fear', 'lose', 'not', 'not', 'no', 'no', 'not', 'not', 'no', 'not', 'not', 'not', 'oppressive', 'not', 'no', 'not', 'terrible', 'guilty', 'oppressive', 'not', 'confused', 'no', 'stuck', 'not', 'not', 'not', 'sick', 'fear', 'not', 'angry', 'not', 'ignore', 'not', 'not', 'not', 'frighten', 'not', 'not', 'not', 'hostile', 'not', 'not', 'no', 'fear', 'dead', 'no', 'not', 'not', 'unhealthy', 'not', 'not', 'impossible', 'not', 'zero', 'not', 'not', 'not', 'contrary', 'not', 'never', 'not', 'not', 'no', 'not', 'ignore', 'adverse', 'no', 'not', 'not', 'not', 'not', 'fight', 'not', 'not', 'not', 'mean', 'no', 'not', 'not', 'not', 'no', 'dead', 'no', 'revenge', 'not', 'no', 'fight', 'dead', 'no', 'not', 'fight', 'gruesome', 'fight', 'dead', 'deplorable', 'not', 'no', 'no', 'not', 'no', 'no', 'no', 'not', 'no', 'not', 'not', 'not', 'not', 'no', 'not', 'no', 'no', 'no', 'not', 'not', 'criminal', 'not', 'not', 'no', 'not', 'not', 'not', 'fight', 'not', 'no', 'not', 'not', 'not', 'cutting', 'not', 'not', 'no', 'ignore', 'no', 'not', 'negative', 'not', 'not', 'no', 'fear', 'not', 'not', 'fight', 'not', 'not', 'not', 'not', 'vice', 'reject', 'not', 'not', 'not', 'not', 'not', 'collapse', 'not', 'no', 'not', 'not', 'not', 'not', 'not', 'not', 'not', 'not', 'not', 'not', 'not', 'reject', 'not', 'threatening', 'hard', 'not', 'not', 'not', 'evil', 'crazy', 'not', 'not', 'not', 'no', 'not', 'gruesome', 'suspect', 'not', 'not', 'not', 'damage', 'guilty', 'not', 'no', 'belligerent', 'no', 'not', 'no', 'not', 'not', 'bad', 'not', 'hurt', 'not', 'negative', 'not', 'not', 'not', 'offensive', 'not', 'not', 'not', 'not', 'not', 'not', 'suspect', 'not', 'no', 'no', 'impossible', 'not', 'never', 'not', 'no', 'damage', 'fight', 'not', 'no', 'no', 'not', 'not', 'not', 'not', 'not', 'dead', 'dead', 'not', 'not', 'not', 'no', 'belligerent', 'not', 'not', 'no', 'terrible', 'no', 'not', 'not', 'no', 'no', 'unfair', 'not', 'poor', 'not', 'not', 'no', 'not', 'suspect', 'not', 'not', 'not', 'not', 'not', 'fear', 'criminal', 'dead', 'not', 'never', 'not', 'not', 'not', 'fight', 'fight', 'not', 'not', 'not', 'not', 'not', 'not', 'not', 'not', 'not', 'damage', 'not', 'not', 'fear', 'not', 'not', 'guilty', 'not', 'not', 'criminal', 'not', 'not', 'no', 'no', 'ill', 'no', 'no', 'no', 'dead', 'not', 'not', 'no', 'not', 'no', 'no', 'deny', 'dishonest', 'ignorant', 'oppressive', 'not', 'not', 'not', 'no', 'threatening', 'not', 'not', 'not', 'not', 'not', 'not', 'not', 'not', 'ill', 'not', 'not', 'not', 'poor', 'never', 'not', 'not', 'revenge', 'never', 'deprived', 'no', 'alarming', 'not', 'not', 'not', 'not', 'hard', 'no', 'not', 'no', 'not', 'never', 'no', 'not', 'no', 'bad', 'no', 'wound', 'threatening', 'no', 'never', 'not', 'not', 'not', 'cry', 'no', 'contrary', 'not', 'no', 'not', 'never', 'not', 'unfair', 'not', 'not', 'barbed', 'not', 'not', 'bad', 'not', 'not', 'not', 'sorry', 'not', 'gruesome', 'not', 'collapse', 'collapse', 'lose', 'not', 'collapse', 'no', 'never', 'not', 'not', 'fight', 'never', 'fight', 'not', 'no', 'fight', 'fight', 'not', 'fight', 'not', 'no', 'not', 'no', 'fight', 'sad', 'not', 'not', 'not', 'angry', 'not', 'not', 'no', 'not', 'not', 'criminal', 'corrupt', 'corrupt', 'bad', 'not', 'ignore', 'not', 'not', 'not', 'not', 'not', 'vicious', 'hostile', 'dead', 'threatening', 'ruthless', 'not', 'not', 'belligerent', 'bad', 'hostile', 'gross', 'no', 'no', 'no', 'not', 'not', 'negative', 'no', 'not', 'not', 'not', 'not', 'not', 'no', 'no', 'no', 'guilty', 'not', 'lose', 'not', 'no', 'not', 'gruesome', 'not', 'no', 'not', 'not', 'no', 'not', 'not', 'not', 'criminal', 'not', 'no', 'threatening', 'not', 'not', 'not', 'vice', 'not', 'not', 'not', 'not', 'not', 'not', 'no', 'yell', 'cry', 'not', 'not', 'not', 'not', 'not', 'not', 'not', 'belligerent', 'belligerent', 'belligerent', 'not', 'not', 'objectionable', 'not', 'not', 'nobody', 'not', 'not', 'not', 'poor', 'not', 'not', 'not', 'fight', 'not', 'not', 'not', 'collapse', 'not', 'threatening', 'insane', 'no', 'suspect', 'not', 'not', 'not', 'not', 'old', 'not', 'no', 'not', 'fear', 'not', 'not', 'suspect', 'not', 'not', 'not', 'no', 'never', 'not', 'not', 'threatening', 'missing', 'no', 'not', 'no', 'deny', 'no', 'damage', 'not', 'suspect', 'no', 'criminal', 'suspect', 'not', 'criminal', 'not', 'no', 'not', 'bad', 'not', 'fight', 'no', 'criminal', 'hate', 'hostile', 'not', 'ill', 'not', 'never', 'not', 'not', 'threatening', 'hate', 'not', 'contrary', 'scare', 'no', 'not', 'not', 'not', 'criminal', 'alarming', 'criminal', 'dead', 'not', 'not', 'not', 'suspicious', 'not', 'not', 'suspicious', 'not', 'suspect', 'never', 'threatening', 'not', 'not', 'never', 'not', 'no', 'not', 'not', 'not', 'reject', 'not', 'no', 'gross', 'no', 'not', 'severe', 'damage', 'disease', 'not', 'not', 'hard', 'not', 'not', 'no', 'no', 'not', 'not', 'not', 'no', 'not', 'not', 'not', 'not', 'not', 'not', 'not', 'severe', 'not', 'disease', 'not', 'no', 'severe', 'not', 'repellant', 'unfair', 'not', 'fight', 'not', 'not', 'poor', 'not', 'severe', 'criminal', 'oppressive', 'no', 'not', 'not', 'not', 'not', 'old', 'not', 'not', 'no', 'dead', 'not', 'guilty', 'guilty', 'not', 'not', 'no', 'not', 'not', 'not', 'not', 'not', 'no', 'not', 'not', 'not', 'not', 'poor', 'not', 'not', 'not', 'not', 'no', 'no', 'severe', 'not', 'fear', 'not', 'threatening', 'not', 'scare', 'ignore', 'not', 'not', 'scare', 'not', 'not', 'not', 'not', 'not', 'severe', 'not', 'no', 'no', 'no', 'not', 'no', 'no', 'no', 'no', 'fear', 'damage', 'no', 'poor', 'not', 'not', 'fight', 'not', 'cry', 'not', 'not', 'not', 'not', 'impossible', 'not', 'suspect', 'not', 'dead', 'vice', 'not', 'stuck', 'deprived', 'no', 'not', 'not', 'corrupt', 'no', 'not', 'no', 'never', 'hate', 'fight', 'no', 'not', 'not', 'not', 'mean', 'not', 'never', 'not', 'criminal', 'not', 'missing', 'not', 'damage', 'not', 'not', 'cruel', 'not', 'fight', 'fight', 'shoddy', 'not', 'not', 'alarming', 'not', 'not', 'not', 'not', 'no', 'not', 'no', 'no', 'not', 'not', 'grave', 'not', 'not', 'not', 'fight', 'not', 'no', 'not', 'not', 'not', 'not', 'not', 'not', 'not', 'offensive', 'not', 'old', 'not', 'no', 'dead', 'cry', 'dead', 'pain', 'no', 'not', 'lose', 'not', 'not', 'mean', 'contradictory', 'not', 'no', 'not', 'never', 'no', 'no', 'not', 'not', 'not', 'not', 'not', 'missing', 'never', 'not', 'guilty', 'never', 'not', 'not', 'bad', 'no', 'not', 'not', 'criminal', 'never', 'not', 'no', 'not', 'not', 'missing', 'not', 'deny', 'bad', 'not', 'not', 'not', 'not', 'not', 'apathy', 'pain', 'never', 'old', 'no', 'apathy', 'not', 'not', 'severe', 'severe', 'no', 'not', 'not', 'not', 'not', 'not', 'not', 'not', 'not', 'not', 'not', 'not', 'no', 'suspect', 'not', 'fear', 'not', 'no', 'not', 'terrible', 'disease', 'no', 'not', 'no', 'not', 'not', 'hard', 'hurt', 'not', 'no', 'not', 'disease', 'not', 'not', 'not', 'no', 'not', 'fight', 'not', 'suspect', 'not', 'mean', 'not', 'missing', 'no', 'severe', 'not', 'not', 'not', 'not', 'not', 'no', 'fear', 'not', 'fear', 'not', 'hurt', 'severe', 'dead', 'not', 'threatening', 'not', 'not', 'no', 'never', 'disease', 'damage', 'not', 'fear', 'fear', 'not', 'no', 'fear', 'spring', 'disease', 'not', 'not', 'not', 'damage', 'disease', 'no', 'damage', 'severe', 'damaging', 'not', 'severe', 'not', 'not', 'no', 'not', 'not', 'fear', 'not', 'no', 'not', 'petty', 'not', 'no', 'not', 'never', 'not', 'no', 'not', 'stuck', 'not', 'not', 'criminal', 'not', 'criminal', 'no', 'not', 'not', 'not', 'not', 'not', 'lose', 'not', 'not', 'not', 'not', 'not', 'not', 'not', 'alarming', 'bad', 'never', 'no', 'no', 'no', 'not', 'deprived', 'not', 'bad', 'bad', 'never', 'not', 'not', 'not', 'belligerent', 'never', 'not', 'never', 'not', 'not', 'grave', 'grave', 'damage', 'no', 'no', 'no', 'no', 'no', 'fear', 'not', 'not', 'never', 'not', 'no', 'not', 'reject', 'petty', 'objectionable', 'not', 'not', 'not', 'not', 'damaging', 'not', 'repellant', 'fight', 'stuck', 'not', 'spring', 'threatening', 'not', 'threatening', 'not', 'not', 'no', 'criminal', 'reject', 'bad', 'no', 'bad', 'not', 'not', 'not', 'dead', 'not', 'not', 'not', 'mean', 'collapse', 'fight', 'hard', 'not', 'not', 'suspect', 'suspect', 'suspect', 'suspect', 'no', 'criminal', 'not', 'suspect', 'dead', 'stuck', 'threatening', 'suspect', 'not', 'suspect', 'dead', 'no', 'no', 'not', 'no', 'damage', 'broken', 'not', 'never', 'damage', 'not', 'ignore', 'not', 'fight', 'old', 'not', 'no', 'not', 'not', 'not', 'severe', 'not', 'no', 'not', 'not', 'belligerent', 'not', 'not', 'vice', 'guilty', 'not', 'offensive', 'fight', 'not', 'negative', 'not', 'lose', 'hurt', 'never', 'not', 'not', 'not', 'not', 'not', 'not', 'criminal', 'not', 'not', 'vicious', 'not', 'not', 'no', 'not', 'not', 'not', 'not', 'lose', 'not', 'never', 'not', 'fight', 'not', 'not', 'not', 'not', 'nobody', 'no', 'not', 'pain', 'fight', 'no', 'not', 'not', 'no', 'not', 'never', 'questionable', 'not', 'ignorant', 'not', 'not', 'not', 'never', 'no', 'fight', 'not', 'severe', 'not', 'no', 'disease', 'not', 'damage', 'fear', 'questionable', 'no', 'no', 'no', 'poor', 'not', 'not', 'not', 'not', 'no', 'not', 'not', 'not', 'not', 'no', 'no', 'no', 'not', 'fight', 'not', 'not', 'not', 'no', 'not', 'not', 'fear', 'hurt', 'fear', 'not', 'not', 'not', 'no', 'not', 'hideous', 'not', 'unfavorable', 'threatening', 'no', 'not', 'not', 'not', 'fight', 'not', 'never', 'not', 'collapse', 'not', 'collapse', 'collapse', 'not', 'deny', 'collapse', 'not', 'not', 'not', 'not', 'not', 'not', 'no', 'angry', 'never', 'not', 'not', 'not', 'fear', 'fear', 'no', 'not', 'severe', 'not', 'not', 'not', 'guilty', 'not', 'not', 'questionable', 'criminal', 'not', 'not', 'criminal', 'not', 'gruesome', 'damage', 'not', 'not', 'mean', 'fear', 'criminal', 'suspect', 'not', 'not', 'not', 'questionable', 'bad', 'fear', 'no', 'zero', 'collapse', 'no', 'no', 'never', 'impossible', 'nobody', 'lose', 'no', 'not', 'not', 'fight', 'not', 'fight', 'fight', 'no', 'no', 'zero', 'no', 'fight', 'fight', 'tense', 'not', 'not', 'not', 'not', 'not', 'not', 'not', 'not', 'disease', 'no', 'not', 'severe', 'not', 'not', 'severe', 'no', 'not', 'severe', 'not', 'not', 'not', 'hard', 'not', 'not', 'not', 'missing', 'not', 'revenge', 'not', 'no', 'dead', 'cry', 'not', 'no', 'not', 'no', 'no', 'no', 'no', 'no', 'not', 'not', 'not', 'never', 'old', 'not', 'suspicious', 'not', 'not', 'contradictory', 'not', 'no', 'never', 'no', 'not', 'no', 'no', 'not', 'evil', 'collapse', 'not', 'fear', 'not', 'revenge', 'not', 'suspicious', 'not', 'criminal', 'revenge', 'not', 'no', 'hard', 'not', 'deny', 'not', 'hard', 'hard', 'not', 'not', 'not', 'no', 'dead', 'not', 'never', 'not', 'not', 'not', 'petty', 'hard', 'no', 'not', 'not', 'not', 'impossible', 'impossible', 'not', 'not', 'not', 'not', 'never', 'not', 'not', 'not', 'not', 'not', 'no', 'no', 'collapse', 'not', 'abysmal', 'fight', 'damage', 'alarming', 'not', 'questionable', 'damage', 'collapse', 'ruthless', 'collapse', 'corrupt', 'not', 'collapse', 'collapse', 'fight', 'not', 'not', 'not', 'not', 'not', 'no', 'fight', 'never', 'not', 'not', 'not', 'not', 'never', 'not', 'angry', 'not', 'not', 'not', 'not', 'no', 'not', 'not', 'threatening', 'not', 'not', 'severe', 'not', 'severe', 'severe', 'not', 'fight', 'spring', 'not', 'no', 'not', 'not', 'not', 'not', 'no', 'deprived', 'not', 'not', 'no', 'not', 'not', 'no', 'no', 'no', 'not', 'not', 'no', 'threatening', 'damage', 'not', 'never', 'not', 'not', 'not', 'not', 'not', 'not', 'not', 'no', 'never', 'not', 'sorry', 'not', 'not', 'not', 'not', 'not', 'no', 'not', 'not', 'alarming', 'hurt', 'fear', 'not', 'cry', 'threatening', 'not', 'no', 'vice', 'not', 'not', 'alarming', 'not', 'not', 'not', 'no', 'not', 'dead', 'not', 'disease', 'not', 'no', 'fear', 'not', 'not', 'not', 'severe', 'bad', 'no', 'not', 'not', 'not', 'not', 'suspicious', 'fight', 'fight', 'fight', 'repellant', 'not', 'severe', 'no', 'not', 'no', 'not', 'not', 'fear', 'severe', 'not', 'not', 'not', 'negative', 'not', 'not', 'negative', 'not', 'not', 'not', 'contrary', 'not', 'not', 'not', 'severe', 'hostile', 'not', 'not', 'not', 'no', 'not', 'not', 'not', 'not', 'not', 'no', 'not', 'not', 'no', 'not', 'fear', 'not', 'not', 'never', 'not', 'not', 'mean', 'dead', 'old', 'not', 'severe', 'not', 'not', 'hurt', 'poor', 'pain', 'alarming', 'threatening', 'severe', 'not', 'fight', 'not', 'disease', 'severe', 'severe', 'not', 'not', 'suspect', 'not', 'no', 'hostile', 'vice', 'no', 'not', 'not', 'no', 'no', 'no', 'no', 'no', 'not', 'not', 'not', 'not', 'hate', 'not', 'no', 'not', 'not', 'not', 'no', 'no', 'not', 'not', 'not', 'no', 'no', 'no', 'not', 'not', 'not', 'not', 'deplorable', 'oppressive', 'not', 'not', 'criminal', 'not', 'no', 'no', 'not', 'not', 'not', 'not', 'not', 'not', 'not', 'not', 'not', 'offensive', 'not', 'not', 'no', 'no', 'not', 'no', 'not', 'no', 'not', 'no', 'not', 'not', 'not', 'tense', 'not', 'never', 'never', 'not', 'not', 'fear', 'tense', 'not', 'not', 'no', 'ill', 'not', 'negative', 'not', 'not', 'impossible', 'collapse', 'fear', 'not', 'not', 'bad', 'not', 'disease', 'unhealthy', 'evil', 'not', 'not', 'not', 'no', 'not', 'not', 'not', 'negative', 'unfavorable', 'not', 'not', 'never', 'not', 'alarming', 'not', 'threatening', 'no', 'not', 'petty', 'not', 'not', 'not', 'wary', 'not', 'no', 'not', 'damaging', 'not', 'not', 'severe', 'not', 'hard', 'no', 'not', 'severe', 'severe', 'not', 'fight', 'repellant', 'repellant', 'no', 'hurt', 'not', 'not', 'belligerent', 'never', 'no', 'not', 'not', 'not', 'hard', 'pain', 'not', 'not', 'not', 'deny', 'not', 'not', 'dead', 'not', 'not', 'not', 'not', 'not', 'not', 'atrocious', 'no', 'not', 'not', 'not', 'no', 'not', 'not', 'mean', 'vice', 'not', 'not', 'severe', 'severe', 'not', 'suspect', 'plain', 'hard', 'nobody', 'no', 'not', 'not', 'not', 'not', 'suspect', 'not', 'damage', 'damage', 'not', 'damage', 'not', 'tense', 'not', 'no', 'not', 'no', 'not', 'no', 'not', 'not', 'not', 'evil', 'no', 'not', 'not', 'not', 'collapse', 'broken', 'severe', 'no', 'no', 'no', 'not', 'not', 'not', 'not', 'not', 'alarming', 'never', 'not', 'not', 'not', 'not', 'not', 'fear', 'oppressive', 'no', 'sorry', 'not', 'not', 'not', 'not', 'not', 'not', 'never', 'never', 'not', 'no', 'not', 'no', 'not', 'not', 'not', 'quit', 'angry', 'criminal', 'never', 'filthy', 'no', 'vice', 'oppressive', 'no', 'never', 'not', 'not', 'never', 'not', 'quit', 'quit', 'angry', 'not', 'not', 'hurt', 'hurt', 'impossible', 'not', 'not', 'no', 'repellant', 'not', 'no', 'not', 'prejudice', 'prejudice', 'not', 'offensive', 'not', 'not', 'not', 'revenge', 'vice', 'not', 'not', 'not', 'not', 'no', 'disease', 'disease', 'not', 'fight', 'not', 'not', 'never', 'oppressive', 'not', 'not', 'wound', 'no', 'not', 'not', 'not', 'collapse', 'damage', 'fight', 'not', 'not', 'severe', 'not', 'not', 'mean', 'no', 'never', 'not', 'never', 'not', 'not', 'not', 'not', 'not', 'no', 'not', 'not', 'not', 'fear', 'no', 'severe', 'not', 'not', 'not', 'terrible', 'not', 'impossible', 'not', 'not', 'not', 'not', 'not', 'not', 'not', 'never', 'no', 'not', 'not', 'no', 'not', 'not', 'threatening', 'not', 'belligerent', 'not', 'no', 'not', 'not', 'no', 'no', 'no', 'evil', 'no', 'negative', 'fight', 'fight', 'not', 'no', 'no', 'fight', 'fear', 'fight', 'dead', 'damage', 'not', 'not', 'no', 'no', 'no', 'contradictory', 'not', 'no', 'not', 'no', 'no', 'not', 'not', 'not', 'awful', 'alarming', 'disease', 'not', 'disease', 'pain', 'suspect', 'not', 'impossible', 'not', 'no', 'not', 'lose', 'not', 'not', 'not', 'stuck', 'stuck', 'stuck', 'stuck', 'not', 'not', 'not', 'not', 'bad', 'not', 'no', 'not', 'suspicious', 'not', 'suspicious', 'deny', 'not', 'not', 'not', 'not', 'not', 'fear', 'not', 'not', 'not', 'petty', 'not', 'missing', 'no', 'poor', 'no', 'no', 'not', 'not', 'not', 'threatening', 'not', 'no', 'belligerent', 'no', 'not', 'nasty', 'damaging', 'no', 'nasty', 'cutting', 'cutting', 'not', 'pain', 'not', 'hard', 'not', 'not', 'no', 'no', 'not', 'not', 'dead', 'not', 'not', 'fear', 'never', 'not', 'not', 'not', 'fight', 'confused', 'no', 'not', 'not', 'no', 'not', 'not', 'not', 'not', 'no', 'hate', 'cold', 'criminal', 'not', 'oppressive', 'not', 'not', 'impossible', 'not', 'disease', 'damage', 'severe', 'fear', 'disease', 'dead', 'broken', 'suspect', 'not', 'not', 'not', 'fail', 'severe', 'not', 'petty', 'fight', 'not', 'not', 'not', 'not', 'not', 'no', 'grave', 'not', 'not', 'not', 'never', 'no', 'dead', 'not', 'not', 'not', 'not', 'not', 'belligerent', 'not', 'never', 'not', 'not', 'no', 'not', 'dead', 'wound', 'no', 'never', 'negative', 'not', 'not', 'not', 'severe', 'poor', 'hard', 'no', 'never', 'no', 'not', 'not', 'not', 'not', 'no', 'not', 'not'], 'Bob Price': ['never', 'criminal', 'ignore', 'not', 'not', 'wound', 'wound', 'terrible', 'vile', 'not', 'despicable', 'wound', 'suspect', 'not', 'no', 'fight', 'hostile', 'not', 'undermine', 'not', 'never', 'not', 'hostile', 'not', 'not', 'bad', 'no', 'not', 'not', 'not', 'not', 'not', 'never', 'not', 'not', 'not', 'fight', 'not', 'guilty', 'criminal', 'not', 'criminal', 'no', 'criminal', 'criminal', 'not', 'criminal', 'not', 'suspicious', 'no', 'hard', 'guilty', 'guilty', 'not', 'not', 'not', 'not', 'not', 'criminal', 'criminal', 'criminal', 'criminal', 'not', 'criminal', 'lose', 'not', 'suspect', 'suspect', 'not', 'not', 'suspect', 'suspect', 'suspect', 'suspect', 'suspect', 'threatening', 'criminal', 'criminal', 'not', 'not', 'not', 'not', 'not', 'criminal', 'not', 'not', 'not', 'criminal', 'not', 'never', 'not', 'not', 'not', 'not', 'impossible', 'deny', 'deny', 'criminal', 'threatening', 'wound', 'suspect', 'not', 'suspect', 'criminal', 'criminal', 'criminal', 'fear', 'not', 'fear', 'criminal', 'not', 'criminal', 'criminal', 'no', 'criminal', 'no', 'no', 'not', 'threatening', 'not', 'fear', 'criminal', 'criminal', 'not', 'not', 'poor', 'criminal', 'criminal', 'guilty', 'sad', 'unfair', 'broken', 'not', 'criminal', 'criminal', 'not', 'no', 'dead', 'dead', 'not', 'not', 'not', 'not', 'not', 'not', 'no', 'criminal', 'criminal', 'never', 'not', 'not', 'not', 'criminal', 'not', 'ignore', 'not', 'criminal', 'guilty', 'criminal', 'criminal', 'criminal', 'criminal', 'criminal', 'criminal', 'criminal', 'criminal', 'criminal', 'suspect', 'suspect', 'not', 'suspect', 'not', 'alarming', 'suspect', 'not', 'lose', 'not', 'cutting', 'criminal', 'not', 'criminal', 'not', 'no', 'no', 'not', 'not', 'not', 'not', 'no', 'hard', 'hostile', 'no', 'never', 'no', 'not', 'no', 'no', 'not', 'no', 'criminal', 'fail', 'undermine', 'criminal', 'not', 'not', 'hate', 'not', 'criminal', 'never', 'criminal', 'no', 'criminal', 'no', 'criminal', 'fail', 'not', 'suspect', 'suspect', 'suspect', 'suspect', 'suspect', 'suspect', 'threatening', 'wound', 'guilty', 'not', 'not', 'not', 'not', 'not', 'stupid', 'not', 'bad', 'guilty', 'not', 'ignore', 'not', 'not', 'criminal', 'no', 'not', 'guilty', 'guilty', 'not', 'criminal', 'not', 'never', 'not', 'not', 'not', 'not', 'gruesome', 'no', 'criminal', 'not', 'threatening', 'fear', 'no', 'criminal', 'not', 'criminal', 'ignore', 'not', 'not', 'no', 'not', 'not', 'criminal', 'distress', 'distress', 'distress', 'no', 'distress', 'not', 'not', 'ruthless', 'distress', 'not', 'not', 'not', 'sad', 'not', 'no', 'not', 'not', 'not', 'no', 'criminal', 'criminal', 'suspicious', 'no', 'criminal', 'not', 'criminal', 'criminal', 'criminal', 'criminal', 'not', 'not', 'not', 'shocking', 'not', 'not', 'guilty', 'criminal', 'suspect', 'not', 'not', 'not', 'dead', 'hurt', 'not', 'not', 'not', 'not', 'not', 'not', 'not', 'not', 'not', 'not', 'no', 'fail', 'no', 'not', 'hard', 'not', 'not', 'bad', 'not', 'not', 'hurt', 'not', 'not', 'no', 'no', 'hurt', 'not', 'stressful', 'not', 'not', 'not', 'not', 'not', 'dead', 'broken', 'fight', 'criminal', 'criminal', 'criminal', 'criminal', 'criminal', 'criminal', 'criminal', 'not', 'criminal', 'criminal', 'criminal', 'no', 'criminal', 'fear', 'criminal', 'not', 'no', 'criminal', 'criminal', 'not', 'fear', 'fear', 'criminal', 'not', 'criminal', 'criminal', 'cutting', 'no', 'criminal', 'not', 'no', 'no', 'not', 'negative', 'criminal', 'criminal', 'not', 'criminal', 'not', 'impossible', 'not', 'criminal', 'lose', 'no', 'not', 'not', 'not', 'ignore', 'terrible', 'no', 'not', 'criminal', 'suspect', 'not', 'criminal', 'not', 'not', 'not', 'damage', 'criminal', 'not', 'no', 'no', 'ruthless', 'ruthless', 'poor', 'not', 'not', 'not', 'not', 'not', 'not', 'not', 'no', 'no', 'no', 'not', 'no', 'not', 'never', 'not', 'no', 'fight', 'fight', 'not', 'not', 'sorry', 'fight', 'suspect', 'severe', 'suspect', 'wound', 'not', 'not', 'suspect', 'fight', 'not', 'not', 'no', 'not', 'not', 'no', 'broken', 'cutting', 'not', 'not', 'not', 'not', 'criminal', 'criminal', 'mean', 'mean', 'not', 'sick', 'no', 'unjust', 'suspect', 'criminal', 'not', 'criminal', 'criminal', 'criminal', 'not', 'not', 'criminal', 'criminal', 'not', 'not', 'criminal', 'criminal', 'not', 'deny', 'not', 'not', 'criminal', 'criminal', 'criminal', 'criminal', 'criminal', 'criminal', 'criminal', 'suspect', 'not', 'broken', 'not', 'broken', 'old', 'criminal', 'suspect', 'not', 'criminal', 'not', 'criminal', 'not', 'deny', 'criminal', 'not', 'not', 'missing', 'not', 'not', 'cold', 'not', 'no', 'hard', 'criminal', 'criminal', 'criminal', 'criminal', 'criminal', 'not', 'suspect', 'dead', 'suspect', 'no', 'not', 'not', 'not', 'not', 'no', 'damage', 'disease', 'damage', 'never', 'pain', 'no', 'not', 'not', 'not', 'never', 'never', 'never', 'not', 'alarming', 'suspect', 'suspect', 'suspect', 'suspect', 'not', 'not', 'damage', 'criminal', 'criminal', 'fear', 'not', 'not', 'hate', 'not', 'damage', 'hard', 'undermine', 'hard', 'not', 'hate', 'nobody', 'not', 'not', 'not', 'suspect', 'suspect', 'suspicious', 'no', 'old', 'pain', 'suspect', 'not', 'criminal', 'criminal', 'criminal', 'criminal', 'not', 'not', 'fear', 'fear', 'fear', 'criminal', 'not', 'not', 'fear', 'criminal', 'not', 'suspicious', 'not', 'criminal', 'criminal', 'criminal', 'criminal', 'criminal', 'criminal', 'damage', 'criminal', 'criminal', 'criminal', 'deny', 'deny', 'not', 'not', 'distress', 'callous', 'callous', 'criminal', 'criminal', 'not', 'not', 'criminal', 'fear', 'criminal', 'no', 'criminal', 'criminal', 'criminal', 'criminal', 'no', 'no', 'criminal', 'criminal', 'criminal', 'criminal', 'criminal', 'criminal', 'not', 'fear', 'criminal', 'not', 'not', 'not', 'not', 'never', 'sorry', 'severe', 'not', 'never', 'not', 'suspicious', 'callous', 'ruthless', 'criminal', 'criminal', 'criminal', 'criminal', 'criminal', 'criminal', 'criminal', 'not', 'suspicious', 'mean', 'not', 'not', 'no', 'not', 'not', 'criminal', 'criminal', 'not', 'vicious', 'criminal', 'criminal', 'no', 'criminal', 'not', 'criminal', 'criminal', 'criminal', 'criminal', 'criminal', 'criminal', 'not', 'criminal', 'no', 'no', 'not', 'not', 'not', 'not', 'criminal', 'criminal', 'not', 'suspect', 'not', 'suspect', 'suspect', 'hard', 'not', 'broken', 'wound', 'no', 'suspect', 'not', 'severe', 'no', 'depressed', 'criminal', 'not', 'not', 'awful', 'not', 'never', 'criminal', 'criminal', 'wound', 'not', 'criminal', 'no', 'bad', 'suspect', 'no', 'suspect', 'suspect', 'suspect', 'suspect', 'suspect', 'not', 'suspect', 'criminal', 'not', 'not', 'not', 'no', 'not', 'not', 'fight', 'not', 'no', 'not', 'criminal', 'not', 'not', 'not', 'criminal', 'criminal', 'criminal', 'fear', 'criminal', 'criminal', 'not', 'not', 'no', 'no', 'no', 'no', 'not', 'ignore', 'ignore', 'dead', 'not', 'not', 'bad', 'not', 'not', 'not', 'not', 'plain', 'repellant', 'alarming', 'not', 'criminal', 'criminal', 'not', 'criminal', 'hard', 'suspicious', 'suspicious', 'damage', 'suspicious', 'not', 'no', 'criminal', 'hard', 'criminal', 'criminal', 'criminal', 'criminal', 'criminal', 'fight', 'lose', 'not', 'not', 'criminal', 'criminal', 'deny', 'criminal', 'criminal', 'criminal', 'criminal', 'criminal', 'criminal', 'not', 'not', 'not', 'not', 'plain', 'not', 'not', 'not', 'not', 'not', 'not', 'not', 'wound', 'not', 'suspicious', 'suspect', 'suspect', 'criminal', 'criminal', 'zero', 'not', 'no', 'not', 'not', 'not', 'not', 'not', 'not', 'not', 'not', 'not', 'shocking', 'not', 'not', 'not', 'not', 'zero', 'not', 'criminal', 'no', 'not', 'not', 'not', 'no', 'ignore', 'not', 'criminal', 'fear', 'fear', 'criminal', 'criminal', 'revenge', 'criminal', 'not', 'criminal', 'not', 'criminal', 'not', 'not', 'sinister', 'no', 'not', 'suspect', 'suspect', 'not', 'criminal', 'criminal', 'criminal', 'criminal', 'not', 'criminal', 'guilty', 'ignore', 'terrible', 'lose', 'no', 'not', 'mean', 'hard', 'criminal', 'suspect', 'not', 'deny', 'criminal', 'not', 'no', 'not', 'not', 'fight', 'criminal', 'suspect', 'criminal', 'criminal', 'guilty', 'criminal', 'not', 'not', 'not', 'not', 'old', 'criminal', 'criminal', 'criminal', 'suspect', 'criminal', 'criminal', 'criminal', 'criminal', 'criminal', 'criminal', 'criminal', 'criminal', 'criminal', 'criminal', 'criminal', 'not', 'not', 'not', 'not', 'missing', 'not', 'not', 'never', 'not', 'not', 'not', 'suspect', 'criminal', 'criminal', 'not', 'no', 'not', 'not', 'not', 'hard', 'not', 'no', 'not', 'not', 'not', 'not', 'not', 'no', 'criminal', 'criminal', 'criminal', 'suspicious', 'criminal', 'not', 'suspect', 'suspect', 'not', 'not', 'fight', 'never', 'fight', 'ruthless', 'not', 'shocking', 'not', 'not', 'mean', 'not', 'no', 'horrible', 'hard', 'hard', 'not', 'not', 'dead', 'distress', 'no', 'stuck', 'wound', 'not', 'negative', 'fight', 'fight', 'not', 'angry', 'fight', 'not', 'fight', 'no', 'not', 'lose', 'no', 'evil', 'hate', 'evil', 'not', 'criminal', 'criminal', 'never', 'not', 'hard', 'not', 'not', 'hard', 'criminal', 'criminal', 'not', 'not', 'criminal', 'not', 'not', 'vicious', 'not', 'criminal', 'suspect', 'suspect', 'not', 'fight', 'suspect', 'never', 'no', 'not', 'not', 'no', 'not', 'never', 'never', 'never', 'not', 'threatening', 'suspect', 'suspect', 'not', 'suspect', 'not', 'not', 'criminal', 'not', 'suspect', 'ruthless', 'missing', 'no', 'no', 'not', 'not', 'not', 'suspicious', 'suspicious', 'suspect', 'suspicious', 'hard', 'scream', 'scream', 'quit', 'hard', 'deplorable', 'threatening', 'severe', 'bad', 'suspicious', 'not', 'not', 'no', 'not', 'not', 'never', 'not', 'criminal', 'not', 'not', 'not', 'hard', 'hostile', 'suspect', 'not', 'not', 'suspect', 'hate', 'dead', 'suspect', 'no', 'suspect', 'suspect', 'suspect', 'suspect', 'not', 'not', 'damage', 'suspect', 'broken', 'beneath', 'suspect', 'not', 'alarming', 'broken', 'dead', 'not', 'no', 'no', 'not', 'impossible', 'ignore', 'no', 'not', 'not', 'no', 'confused', 'criminal', 'not', 'not', 'not', 'criminal', 'criminal', 'criminal', 'no', 'criminal', 'not', 'not', 'criminal', 'not', 'not', 'not', 'not', 'wound', 'not', 'not', 'not', 'horrible', 'not', 'never', 'not', 'not', 'not', 'never', 'not', 'not', 'not', 'no', 'bad', 'not', 'not', 'negative', 'mean', 'bad', 'not', 'suspect', 'no', 'not', 'not', 'not', 'no', 'suspect', 'not', 'not', 'not', 'no', 'not', 'not', 'not', 'not', 'not', 'suspect', 'yell', 'scream', 'fight', 'not', 'fear', 'guilty', 'not', 'no', 'not', 'dead', 'suspect', 'suspect', 'suspect', 'not', 'not', 'suspect', 'suspect', 'no', 'no', 'not', 'suspect', 'guilty', 'no', 'no', 'not', 'no', 'prejudice', 'nobody', 'criminal', 'dead', 'missing', 'never', 'never', 'missing', 'zero', 'missing', 'not', 'missing', 'missing', 'not', 'not', 'not', 'not', 'not', 'not', 'no', 'criminal', 'suspect', 'not', 'plain', 'not', 'suspect', 'not', 'not', 'not', 'not', 'not', 'not', 'not', 'dead', 'not', 'fight', 'hard', 'horrible', 'not', 'not', 'not', 'wound', 'hard', 'not', 'fear', 'not', 'not', 'fight', 'fight', 'dead', 'dead', 'stuck', 'poisonous', 'no', 'missing', 'not', 'hard', 'horrible', 'criminal', 'severe', 'not', 'not', 'upset', 'not', 'not', 'spring', 'not', 'not', 'not', 'not', 'not', 'not', 'upset', 'no', 'no', 'no', 'sorry', 'deplorable', 'suspect', 'suspect', 'dead', 'suspect', 'suspect', 'suspect', 'suspect', 'angry', 'angry', 'angry', 'not', 'bad', 'criminal', 'no', 'no', 'no', 'criminal', 'not', 'not', 'not', 'not', 'negative', 'never', 'not', 'no', 'criminal', 'not', 'not', 'not', 'hurt', 'criminal', 'not', 'harmful', 'criminal', 'no', 'no', 'not', 'no', 'not', 'not', 'not', 'negative', 'not', 'not', 'not', 'unjust', 'not', 'upset', 'not', 'suspicious', 'hard', 'zero', 'not', 'zero', 'not', 'not', 'not', 'not', 'not', 'criminal', 'criminal', 'criminal', 'not', 'negative', 'not', 'not', 'threatening', 'not', 'not', 'not', 'not', 'not', 'not', 'bad', 'suspect', 'suspect', 'no', 'vice', 'not', 'no', 'threatening', 'never', 'not', 'not', 'not', 'not', 'pain', 'damage', 'never', 'not', 'sad', 'never', 'not', 'upset', 'upset', 'hard', 'not', 'fight', 'criminal', 'fight', 'never', 'criminal', 'criminal', 'criminal', 'criminal', 'not', 'missing', 'dead', 'missing', 'missing', 'missing', 'no', 'not', 'not', 'ruthless', 'criminal', 'criminal', 'criminal', 'dead', 'not', 'not', 'not', 'criminal', 'fear', 'criminal', 'not', 'not', 'not', 'not', 'fear', 'not', 'not', 'fear', 'not', 'criminal', 'criminal', 'ignorant', 'plain', 'coarse', 'no', 'distress', 'no', 'not', 'not', 'not', 'alarming', 'alarming', 'not', 'not', 'not', 'not', 'not', 'criminal', 'criminal', 'criminal', 'not', 'no', 'suspect', 'not', 'not', 'pain', 'criminal', 'criminal', 'criminal', 'not', 'not', 'criminal', 'criminal', 'guilty', 'guilty', 'never', 'never', 'damage', 'damage', 'lose', 'no', 'damaging', 'not', 'not', 'hard', 'ruthless', 'hard', 'suspicious', 'callous', 'fear', 'no', 'threatening', 'no', 'not', 'no', 'suspect', 'not', 'dead', 'not', 'not', 'not', 'not', 'not', 'not', 'hard', 'criminal', 'not', 'guilty', 'criminal', 'criminal', 'criminal', 'not', 'suspicious', 'suspicious', 'not', 'hurt', 'not', 'not', 'no', 'not', 'no', 'not', 'not', 'wound', 'terrifying', 'never', 'plain', 'not', 'dead', 'not', 'suspect', 'suspect', 'no', 'not', 'not', 'not', 'dead', 'not', 'not', 'not', 'not', 'no', 'foul', 'crazy', 'not', 'hostile', 'fight', 'not', 'not', 'not', 'not', 'not', 'not', 'not', 'not', 'no', 'no', 'damage', 'no', 'wound', 'threatening', 'not', 'not', 'scare', 'no', 'no', 'criminal', 'criminal', 'criminal', 'not', 'criminal', 'not', 'criminal', 'not', 'no', 'no', 'not', 'not', 'not', 'dead', 'not', 'not', 'fear', 'fear', 'not', 'fear', 'not', 'no', 'never', 'no', 'no', 'nobody', 'not', 'not', 'upset', 'pain', 'not', 'lose', 'not', 'no', 'suspect', 'criminal', 'criminal', 'threatening', 'threatening', 'no', 'not', 'not', 'not', 'not', 'suspicious', 'not', 'not', 'missing', 'not', 'not', 'not', 'not', 'not', 'not', 'never', 'dead', 'not', 'not', 'guilty', 'not', 'shocking', 'not', 'no', 'not', 'no', 'not', 'no', 'no', 'not', 'shocking', 'not', 'no', 'not', 'no', 'not', 'criminal', 'not', 'not', 'fight', 'not', 'shocking', 'not', 'not', 'ignorant', 'not', 'not', 'no', 'not', 'not', 'repugnant', 'guilty', 'guilty', 'not', 'criminal', 'criminal', 'not', 'no', 'not', 'criminal', 'impossible', 'disease', 'no', 'guilty', 'guilty', 'not', 'not', 'guilty', 'not', 'confused', 'not', 'hard', 'not', 'suspect', 'injure', 'suspect', 'suspect', 'fight', 'suspect', 'criminal', 'bad', 'criminal', 'criminal', 'dead', 'not', 'fear', 'not', 'criminal', 'hurt', 'not', 'missing', 'not', 'offensive', 'never', 'not', 'damage', 'not', 'offensive', 'no', 'not', 'broken', 'not', 'threatening', 'not', 'not', 'not', 'not', 'severe', 'suspicious', 'not', 'no', 'not', 'criminal', 'not', 'not', 'not', 'no', 'not', 'suspicious', 'no', 'not', 'not', 'not', 'not', 'mean', 'hard', 'hard', 'suspect', 'criminal', 'not', 'not', 'criminal', 'criminal', 'not', 'suspect', 'no', 'damage', 'no', 'hurt', 'no', 'not', 'criminal', 'no', 'hostile', 'no', 'suspect', 'suspect', 'dead', 'not', 'not', 'not', 'criminal', 'not', 'no', 'lose', 'lose', 'no', 'unfavorable', 'no', 'not', 'not', 'not', 'not', 'not', 'old', 'not', 'not', 'not', 'criminal', 'suspicious', 'mean', 'not', 'not', 'not', 'mean', 'not', 'vice', 'not', 'not', 'not', 'no', 'dirty', 'not', 'zero', 'mean', 'never', 'not', 'not', 'not', 'not', 'not', 'upset', 'not', 'not', 'corrupt', 'not', 'corrupt', 'not', 'never', 'dead', 'damage', 'damage', 'damage', 'severe', 'damage', 'not', 'offensive', 'not', 'no', 'criminal', 'criminal', 'not', 'criminal', 'criminal', 'old', 'cold', 'criminal', 'criminal', 'not', 'criminal', 'not', 'not', 'not', 'not', 'not', 'dead', 'not', 'no', 'not', 'suspect', 'dead', 'no', 'suspect', 'suspect', 'suspect', 'not', 'bad', 'poor', 'never', 'reject', 'not', 'criminal', 'criminal', 'revenge', 'not', 'not', 'terrifying', 'damage', 'not', 'hurt', 'not', 'criminal', 'no', 'never', 'not', 'not', 'upset', 'not', 'not', 'not', 'angry', 'not', 'criminal', 'not', 'not', 'not', 'suspect', 'not', 'suspect', 'suspect', 'not', 'no', 'not', 'no', 'not', 'never', 'shocking', 'not', 'not', 'not'], 'Dr. Susan Berry': ['not', 'no', 'fight', 'negative', 'severe', 'no', 'cutting', 'zero', 'no', 'pain', 'old', 'stuck', 'pain', 'not', 'no', 'bad', 'pain', 'hard', 'pain', 'pain', 'pain', 'disease', 'worthless', 'no', 'no', 'hurt', 'not', 'awful', 'fight', 'not', 'cry', 'not', 'fight', 'not', 'threatening', 'not', 'disease', 'fight', 'not', 'not', 'no', 'not', 'mean', 'not', 'substandard', 'not', 'negative', 'not', 'missing', 'not', 'suspect', 'no', 'fear', 'not', 'broken', 'deny', 'sick', 'not', 'no', 'no', 'no', 'no', 'not', 'not', 'cutting', 'cutting', 'no', 'not', 'no', 'severe', 'not', 'fear', 'guilty', 'fear', 'deny', 'gruesome', 'cutting', 'not', 'pain', 'harmful', 'not', 'not', 'no', 'not', 'not', 'not', 'no', 'no', 'no', 'not', 'not', 'negative', 'not', 'not', 'not', 'bad', 'not', 'not', 'not', 'not', 'not', 'not', 'not', 'not', 'not', 'not', 'not', 'no', 'never', 'not', 'unhealthy', 'not', 'no', 'not', 'no', 'no', 'cutting', 'filthy', 'guilty', 'fight', 'unfair', 'not', 'not', 'not', 'shocking', 'poor', 'unjust', 'not', 'no', 'fight', 'crazy', 'sad', 'no', 'fail', 'no', 'no', 'not', 'cutting', 'vice', 'broken', 'vice', 'sick', 'never', 'never', 'no', 'hard', 'old', 'dead', 'dead', 'not', 'not', 'no', 'no', 'no', 'no', 'no', 'not', 'not', 'not', 'dead', 'dead', 'not', 'not', 'fight', 'criminal', 'not', 'no', 'criminal', 'no', 'never', 'criminal', 'criminal', 'criminal', 'fight', 'vice', 'hard', 'vice', 'vice', 'never', 'no', 'poor', 'not', 'poor', 'no', 'not', 'not', 'not', 'broken', 'never', 'severe', 'broken', 'not', 'broken', 'not', 'not', 'broken', 'broken', 'no', 'not', 'unwanted', 'not', 'not', 'not', 'terrible', 'not', 'shoddy', 'not', 'mean', 'not', 'not', 'mean', 'not', 'mean', 'not', 'not', 'not', 'no', 'not', 'not', 'no', 'pain', 'not', 'deny', 'not', 'no', 'not', 'disease', 'never', 'no', 'not', 'fight', 'not', 'not', 'not', 'not', 'not', 'not', 'not', 'not', 'not', 'mean', 'not', 'not', 'not', 'never', 'not', 'not', 'not', 'not', 'no', 'no', 'not', 'cutting', 'zero', 'no', 'not', 'confused', 'no', 'no', 'not', 'not', 'never', 'not', 'not', 'unjust', 'oppressive', 'not', 'no', 'vice', 'vice', 'not', 'nobody', 'no', 'hard', 'not', 'not', 'not', 'no', 'spring', 'fear', 'not', 'unfavorable', 'not', 'not', 'vice', 'stressful', 'broken', 'never', 'severe', 'broken', 'not', 'broken', 'hurt', 'hard', 'not', 'not', 'not', 'cruel', 'terrible', 'no', 'damaging', 'old', 'not', 'not', 'no', 'old', 'not', 'not', 'not', 'not', 'mean', 'sorry', 'hate', 'fear', 'not', 'hostile', 'negative', 'not', 'not', 'never', 'not', 'not', 'not', 'hurtful', 'not', 'bad', 'not', 'never', 'not', 'deny', 'not', 'not', 'not', 'never', 'not', 'not', 'not', 'not', 'bad', 'not', 'not', 'no', 'no', 'no', 'hostile', 'not', 'not', 'not', 'missing', 'not', 'not', 'not', 'no', 'no', 'fear', 'not', 'not', 'stuck', 'criminal', 'never', 'mean', 'fear', 'not', 'hard', 'criminal', 'criminal', 'not', 'no', 'corrupt', 'prejudice', 'stuck', 'not', 'not', 'no', 'deny', 'criminal', 'not', 'not', 'not', 'reject', 'no', 'harmful', 'not', 'hard', 'fail', 'not', 'never', 'not', 'not', 'fight', 'confused', 'not', 'not', 'criminal', 'stuck', 'no', 'not', 'no', 'not', 'not', 'not', 'not', 'not', 'no', 'not', 'not', 'not', 'vice', 'not', 'not', 'no', 'no', 'no', 'not', 'not', 'no', 'never', 'no', 'not', 'bad', 'criminal', 'no', 'vice', 'not', 'not', 'vice', 'vice', 'no', 'vice', 'vice', 'not', 'harmful', 'pain', 'broken', 'not', 'unfair', 'sad', 'not', 'never', 'never', 'stuck', 'criminal', 'never', 'mean', 'not', 'not', 'not', 'lose', 'no', 'poor', 'no', 'lose', 'not', 'not', 'not', 'not', 'not', 'not', 'no', 'nonsense', 'no', 'not', 'mean', 'not', 'not', 'lose', 'lose', 'no', 'not', 'not', 'lose', 'not', 'not', 'not', 'not', 'not', 'not', 'cutting', 'mean', 'not', 'not', 'quit', 'not', 'contrary', 'not', 'not', 'not', 'detrimental', 'fail', 'not', 'cry', 'not', 'hate', 'no', 'never', 'not', 'never', 'no', 'sad', 'vice', 'not', 'not', 'not', 'not', 'missing', 'not', 'not', 'fight', 'not', 'not', 'not', 'not', 'not', 'not', 'no', 'fight', 'fight', 'fight', 'never', 'not', 'not', 'not', 'zero', 'not', 'not', 'not', 'anxious', 'not', 'not', 'fight', 'not', 'mean', 'not', 'no', 'not', 'not', 'threatening', 'no', 'grave', 'not', 'vice', 'upset', 'lose', 'mean', 'no', 'no', 'not', 'not', 'hurt', 'hurt', 'never', 'not', 'criminal', 'not', 'not', 'criminal', 'corrupt', 'criminal', 'no', 'not', 'no', 'not', 'criminal', 'criminal', 'criminal', 'criminal', 'no', 'not', 'no', 'not', 'not', 'not', 'not', 'hard', 'not', 'no', 'not', 'not', 'not', 'never', 'upset', 'not', 'criminal', 'criminal', 'not', 'criminal', 'not', 'not', 'no', 'not', 'no', 'not', 'not', 'not', 'zero', 'no', 'not', 'never', 'not', 'quit', 'vice', 'not', 'reject', 'ignore', 'no', 'dead', 'not', 'not', 'not', 'missing', 'not', 'hard', 'not', 'no', 'not', 'hard', 'lose', 'not', 'not', 'not', 'not', 'not', 'no', 'no', 'not', 'not', 'no', 'deny', 'lose', 'not', 'fight', 'hurt', 'not', 'cutting', 'not', 'criminal', 'not', 'not', 'not', 'not', 'not', 'not', 'vice', 'not', 'no', 'no', 'hostile', 'dead', 'not', 'not', 'criminal', 'corrupt', 'no', 'vice', 'not', 'not', 'no', 'fight', 'not', 'not', 'unwanted', 'not', 'not', 'no', 'not', 'not', 'never', 'criminal', 'not', 'not', 'hard', 'not', 'poor', 'no', 'not', 'not', 'not', 'not', 'not', 'dead', 'not', 'dead', 'not', 'upset', 'dead', 'not', 'dead', 'never', 'not', 'upset', 'not', 'not', 'not', 'not', 'not', 'not', 'offensive', 'not', 'no', 'not', 'not', 'fear', 'no', 'rotten', 'not', 'never', 'not', 'vice', 'hard', 'not', 'negative', 'not', 'not', 'not', 'lose', 'not', 'not', 'not', 'adverse', 'depressed', 'not', 'not', 'depressed', 'not', 'not', 'not', 'not', 'not', 'not', 'not', 'hard', 'no', 'not', 'no', 'not', 'fight', 'no', 'old', 'never', 'not', 'not', 'no', 'not', 'quit', 'not', 'never', 'hurt', 'not', 'not', 'not', 'not', 'not', 'negative', 'not', 'not', 'vice', 'no', 'vice', 'no', 'harmful', 'no', 'not', 'no', 'not', 'not', 'not', 'not', 'bad', 'not', 'not', 'ill', 'damage', 'vice', 'not', 'vice', 'no', 'not', 'no', 'not', 'no', 'not', 'not', 'never', 'not', 'not', 'angry', 'lose', 'broken', 'not', 'not', 'filthy', 'no', 'never', 'unhealthy', 'unhealthy', 'unhealthy', 'not', 'no', 'not', 'no', 'not', 'not', 'not', 'fear', 'hard', 'fear', 'fight', 'not', 'not', 'not', 'not', 'poor', 'not', 'reject', 'not', 'ill', 'ill', 'not', 'not', 'not', 'not', 'not', 'not', 'not', 'not', 'not', 'not', 'not', 'no', 'not', 'not', 'no', 'fight', 'not', 'never', 'corrupt', 'not', 'not', 'criminal', 'no', 'broken', 'cruel', 'no', 'callous', 'grave', 'no', 'not', 'criminal', 'no', 'not', 'bad', 'never', 'fear', 'no', 'dead', 'threatening', 'dead', 'not', 'not', 'oppressive', 'criminal', 'oppressive', 'not', 'no', 'no', 'fight', 'not', 'depressed', 'pain', 'not', 'not', 'not', 'not', 'no', 'not', 'no', 'not', 'angry', 'cold', 'hard', 'ignore', 'no', 'no', 'no', 'no', 'not', 'not', 'not', 'not', 'not', 'not', 'not', 'hate', 'guilty', 'guilty', 'not', 'not', 'hostile', 'dead', 'not', 'not', 'criminal', 'not', 'not', 'not', 'not', 'not', 'not', 'not', 'not', 'not', 'weary', 'not', 'crazy', 'not', 'pain', 'bad', 'bad', 'not', 'not', 'not', 'not', 'not', 'not', 'not', 'no', 'not', 'hard', 'criminal', 'quit', 'not', 'threatening', 'not', 'not', 'no', 'faulty', 'no', 'not', 'vice', 'harmful', 'not', 'not', 'confused', 'not', 'confused', 'confused', 'not', 'not', 'no', 'mean', 'mean', 'collapse', 'grave', 'not', 'not', 'not', 'not', 'not', 'no', 'no', 'no', 'no', 'criminal', 'not', 'no', 'not', 'poor', 'deny', 'ignore', 'hard', 'contradictory', 'malicious', 'not', 'never', 'not', 'mean', 'crazy', 'no', 'confused', 'never', 'mean', 'not', 'deny', 'never', 'not', 'mean', 'nobody', 'no', 'not', 'not', 'horrendous', 'lose', 'no', 'no', 'no', 'no', 'lose', 'lose', 'lose', 'fight', 'not', 'no', 'never', 'not', 'unjust', 'cry', 'not', 'not', 'gruesome', 'not', 'lose', 'criminal', 'criminal', 'corrupt', 'not', 'vice', 'callous', 'no', 'no', 'deny', 'grim', 'not', 'not', 'not', 'not', 'not', 'criminal', 'no', 'hard', 'not', 'objectionable', 'not', 'not', 'not', 'not', 'not', 'not', 'mean', 'not', 'reject', 'not', 'not', 'negative', 'no', 'not', 'not', 'confused', 'not', 'confused', 'confused', 'not', 'not', 'fight', 'not', 'fight', 'no', 'not', 'hard', 'not', 'not', 'not', 'never', 'no', 'no', 'deny', 'negative', 'not', 'not', 'not', 'hard', 'gruesome', 'harmful', 'undermine', 'no', 'bad', 'harmful', 'shocking', 'not', 'not', 'no', 'not', 'not', 'criminal', 'not', 'vice', 'hostile', 'not', 'not', 'no', 'not', 'not', 'not', 'no', 'despicable', 'no', 'not', 'no', 'gross', 'confused', 'not', 'fight', 'no', 'not', 'not', 'appalling', 'no', 'offensive', 'vindictive', 'harmful', 'deny', 'not', 'no', 'poor', 'not', 'not', 'hostile', 'vindictive', 'vice', 'undermine', 'not', 'vice', 'never', 'not', 'not', 'not', 'not', 'not', 'no', 'never', 'mean', 'no', 'no', 'reject', 'damage', 'no', 'hard', 'fight', 'no', 'no', 'not', 'not', 'not', 'not', 'not', 'not', 'plain', 'not', 'threatening', 'no', 'threatening', 'not', 'not', 'not', 'dirty', 'not', 'not', 'not', 'not', 'no', 'negative', 'not', 'not', 'not', 'deny', 'undermine', 'not', 'not', 'vice', 'not', 'not', 'no', 'no', 'no', 'no', 'not', 'not', 'not', 'not', 'mean', 'no', 'never', 'not', 'lose', 'fight', 'fail', 'no', 'no', 'not', 'no', 'no', 'no', 'hate', 'not', 'old', 'corrupt', 'never', 'not', 'vice', 'not', 'not', 'no', 'criminal', 'bad', 'criminal', 'criminal', 'not', 'no', 'hard', 'not', 'reject', 'never', 'never', 'not', 'vice', 'not', 'no', 'never', 'ignore', 'no', 'pain', 'pain', 'not', 'pain', 'mean', 'hard', 'gruesome', 'pain', 'fight', 'not', 'undermine', 'not', 'fear', 'fear', 'fight', 'stuck', 'not', 'not', 'spring', 'deny', 'deny', 'not', 'guilty', 'vice', 'not', 'not', 'substandard', 'not', 'disgusting', 'not', 'no', 'not', 'substandard', 'fail', 'fail', 'not', 'not', 'not', 'pain', 'not', 'disease', 'not', 'not', 'criminal', 'disease', 'lose', 'not', 'not', 'not', 'no', 'rotten', 'no', 'not', 'dead', 'not', 'dead', 'unwanted', 'not', 'no', 'not', 'not', 'not', 'fight', 'poor', 'hard', 'dead', 'not', 'hard', 'not', 'not', 'not', 'broken', 'not', 'never', 'no', 'never', 'mean', 'not', 'never', 'not', 'damaging', 'no', 'eroding', 'no', 'no', 'not', 'zero', 'never', 'not', 'not', 'not', 'fight', 'not', 'no', 'not', 'no', 'hate', 'not', 'unfair', 'unfair', 'unfair', 'not', 'no', 'not', 'not', 'not', 'not', 'not', 'not', 'not', 'not', 'old', 'anxious', 'not', 'no', 'angry', 'not', 'hurt', 'not', 'not', 'pain', 'not', 'not', 'not', 'not', 'not', 'sick', 'not', 'hard', 'not', 'hard', 'not', 'hard', 'not', 'no', 'no', 'sick', 'lose', 'damage', 'mean', 'ignore', 'not', 'hate', 'nasty', 'criminal', 'not', 'never', 'no', 'no', 'no', 'undermine', 'not', 'not', 'not', 'not', 'no', 'not', 'no', 'never', 'no', 'not', 'not', 'not', 'not', 'not', 'never', 'never', 'fight', 'quit', 'no', 'not', 'not', 'never', 'grave', 'not', 'hard', 'not', 'hard', 'not', 'hard', 'not', 'no', 'no', 'sick', 'not', 'fight', 'no', 'not', 'vice', 'not', 'not', 'not', 'fight', 'fight', 'not', 'no', 'not', 'no', 'not', 'not', 'not', 'never', 'no', 'unfair', 'not', 'not', 'not', 'not', 'not', 'reject', 'undermine', 'not', 'no', 'not', 'not', 'not', 'not', 'bad', 'not', 'not', 'not', 'ignore', 'old', 'no', 'criminal', 'not', 'not', 'spring', 'not', 'not', 'not', 'no', 'cold', 'no', 'fail', 'fight', 'not', 'not', 'not', 'mean', 'not', 'not', 'not', 'harmful', 'not', 'not', 'confused', 'not', 'confused', 'confused', 'not', 'no', 'not', 'not', 'mean', 'mean', 'collapse', 'grave', 'not', 'fight', 'not', 'no', 'criminal', 'negative', 'fear', 'criminal', 'no', 'no', 'not', 'grave', 'no', 'not', 'bad', 'not', 'mean', 'not', 'not', 'not', 'not', 'not', 'not', 'not', 'threatening', 'fight', 'impossible', 'ignore', 'not', 'not', 'not', 'not', 'no', 'not', 'not', 'not', 'no', 'not', 'not', 'poor', 'unwanted', 'not', 'not', 'no', 'not', 'not', 'scare', 'not', 'fight', 'fight', 'not', 'no', 'nobody', 'nobody', 'bad', 'not', 'no', 'alarming', 'no', 'not', 'alarming', 'not', 'not', 'never', 'not', 'unhappy', 'sinister', 'not', 'vice', 'no', 'not', 'not', 'not', 'not', 'fight', 'not', 'not', 'not', 'not', 'not', 'not', 'no', 'not', 'no', 'not', 'no', 'never', 'no', 'not', 'not', 'criminal', 'not', 'mean', 'hurtful', 'not', 'not', 'not', 'criminal', 'criminal', 'no', 'grotesque', 'criminal', 'not', 'no', 'criminal', 'not', 'not', 'unfair', 'not', 'not', 'not', 'not', 'not', 'not', 'no', 'nobody', 'never', 'not', 'fight', 'not', 'not', 'sad', 'negative', 'not', 'undermine', 'no', 'not', 'spring', 'not', 'not', 'hard', 'no', 'awful', 'not', 'not', 'not', 'reject', 'deny', 'malicious', 'disgusting', 'deplorable', 'ignore', 'ignore', 'not', 'not', 'not', 'not', 'not', 'not', 'not', 'not', 'never', 'no', 'mean', 'mean', 'harmful', 'reject', 'not', 'not', 'not', 'confused', 'not', 'confused', 'confused', 'not', 'not', 'no', 'not', 'fear', 'not', 'vice', 'scary', 'mean', 'not', 'not', 'no', 'never', 'not', 'not', 'not', 'vice', 'not', 'no', 'not', 'never', 'not', 'not', 'not', 'not', 'no', 'not', 'deny', 'not', 'nobody', 'not', 'not', 'not', 'not', 'never', 'pain', 'not', 'pain', 'pain', 'no', 'pain', 'not', 'not', 'pain', 'pain', 'pain', 'contrary', 'severe', 'plain', 'not', 'no', 'unwanted', 'guilty', 'not', 'hostile', 'no', 'no', 'fear', 'lose', 'hurt', 'not', 'not', 'not', 'ignore', 'no', 'not', 'no', 'not', 'never', 'not', 'no', 'suspect', 'poisonous', 'grave', 'not', 'no', 'no', 'sick', 'hard', 'not', 'dead', 'not', 'not', 'not', 'not', 'not', 'no', 'no', 'no', 'not', 'not', 'horrible', 'nasty', 'no', 'terrifying', 'not', 'not', 'not', 'not', 'not', 'not', 'not', 'not', 'not', 'not', 'not', 'lose', 'hate', 'no', 'damage', 'never', 'not', 'not', 'no', 'not', 'horrible', 'pain', 'not', 'not', 'not', 'bad', 'unjust', 'not', 'not', 'gross', 'evil', 'not', 'not', 'impossible', 'ignorant', 'old', 'no', 'shocking', 'no', 'fight', 'criminal', 'never', 'not', 'no', 'not', 'no', 'not', 'bad', 'not', 'hurt', 'unhappy', 'pain', 'not', 'no', 'poor', 'hurt', 'poor', 'not', 'not', 'not', 'dirty', 'not', 'unfair', 'not', 'not', 'faulty', 'not', 'no', 'quit', 'not', 'not', 'not', 'never', 'hurt', 'mean', 'undermine', 'dead', 'not', 'not', 'nobody', 'nobody', 'no', 'not', 'not', 'not', 'not', 'not', 'sad', 'not', 'not', 'never', 'never', 'not', 'not', 'hard', 'not', 'not', 'no', 'sad', 'no', 'damaging', 'not', 'cruel', 'not', 'filthy', 'greed', 'disgusting', 'shoddy', 'not', 'substandard', 'not', 'not', 'fail', 'not', 'negative', 'gross', 'gross', 'not', 'not', 'not', 'damage', 'disease', 'no', 'not', 'not', 'plain', 'not', 'not', 'fight', 'not', 'fail', 'not', 'fail', 'no', 'never', 'not', 'not', 'not', 'not', 'not', 'not', 'not', 'not', 'not', 'not', 'not', 'bad', 'not', 'never', 'plain', 'dishonest', 'not', 'not', 'not', 'no', 'not', 'not', 'not', 'not', 'no', 'not', 'not', 'no', 'no', 'not', 'not', 'not', 'no', 'not', 'not', 'lose', 'no', 'no', 'not', 'no', 'no', 'not', 'no', 'not', 'never', 'no', 'hard', 'fight', 'no', 'not', 'no', 'not', 'not', 'no', 'no']}\n"
     ]
    }
   ],
   "source": [
    "# Define a dictionary of negative words to be used as stylistic markers\n",
    "\n",
    "negDict = {}\n",
    "\n",
    "\n",
    "nameWordsDict = {}\n",
    "for line in top20:\n",
    "    for i in range(0, len(top20.index)):\n",
    "        #selection = longTextDB['author'].isin(top20.index)\n",
    "        #dfNeg = longTextDB[longTextDB['author'].isin(top20.index)].nunique()\\n\",\n",
    "        dfNeg = longTextDB[longTextDB['author'].isin(top20.index)]\n",
    "    \n",
    "#print(dfNeg['content'].values)\n",
    "\n",
    "# Check if negwords are present in these lines.\n",
    "     \n",
    "#wordDF = t.fit_on_texts(dfNeg['content'])\n",
    "\n",
    "# iterate over the list of top20 authors\n",
    "# check for presence of neg words for each of the authors\n",
    "# create a dictionary of authors to negative words found\n",
    "\n",
    "groupedDF = dfNeg.groupby(['author'],sort=False, as_index=False)\n",
    "\n",
    "authNegVocab = {}\n",
    "authNegVocab['author'] = []\n",
    "\n",
    "for auth in top20.index:\n",
    "    trial = groupedDF.get_group(auth)\n",
    "    #print(\"\\n\\n\\nAuthor is \", auth, \"\\n\\n\\n\")\n",
    "    for line in trial.content:\n",
    "        #print(\"\\n\\n\\n ***** \\n\\n\\n\",line)\n",
    "        makeLine = line.split(\" \")\n",
    "        for word in makeLine:\n",
    "            for elem in totalNegDocs:\n",
    "                if word == elem:\n",
    "                    #print(\"word is \", word, \" and elem is \", elem)\n",
    "                    #authNegVocab['author'] = elem\n",
    "                    if auth not in authNegVocab:\n",
    "                        authNegVocab[auth] = [elem]\n",
    "                        #print(\"auth not in authNegVocab, adding...\")\n",
    "                    else:\n",
    "                        authNegVocab[auth].append(elem)\n",
    "                        #print(\"auth in authNegVocab, appending...\")\n",
    "                else:\n",
    "                    continue\n",
    "    \n",
    "print(authNegVocab)\n"
   ]
  },
  {
   "cell_type": "code",
   "execution_count": 16,
   "metadata": {},
   "outputs": [
    {
     "data": {
      "text/plain": [
       "author                                                                []\n",
       "Breitbart News         [not, dead, pain, not, not, hurt, not, unsatis...\n",
       "Pam Key                [not, mean, not, not, not, not, yell, not, yel...\n",
       "Charlie Spiering       [not, no, not, reject, not, hate, hate, unhapp...\n",
       "Jerome Hudson          [not, ignore, deny, crazy, no, not, not, not, ...\n",
       "John Hayward           [not, no, not, not, not, not, hard, not, hard,...\n",
       "Daniel Nussbaum        [bad, bad, bad, ignore, not, no, corrupt, neve...\n",
       "AWR Hawkins            [upset, not, not, negative, no, no, suspect, s...\n",
       "Ian Hanchett           [hard, no, not, hard, not, bad, not, not, not,...\n",
       "Joel B. Pollak         [fear, not, no, damage, hard, not, not, not, p...\n",
       "Alex Swoyer            [sad, not, not, poor, not, lose, no, not, not,...\n",
       "Warner Todd Huston     [impossible, not, not, no, never, not, not, no...\n",
       "Jeff Poor              [not, not, fight, not, not, evil, hate, terrib...\n",
       "Trent Baker            [not, bad, missing, not, not, distress, lousy,...\n",
       "Breitbart London       [hate, no, hate, fail, hate, not, hard, not, q...\n",
       "Katherine Rodriguez    [spring, shocking, spring, not, spring, offens...\n",
       "Charlie Nash           [no, hard, dirty, disease, no, not, not, guilt...\n",
       "Ben Kew                [upset, not, not, not, not, not, dishonest, no...\n",
       "Frances Martel         [not, not, not, not, not, adverse, not, fear, ...\n",
       "Bob Price              [never, criminal, ignore, not, not, wound, wou...\n",
       "Dr. Susan Berry        [not, no, fight, negative, severe, no, cutting...\n",
       "dtype: object"
      ]
     },
     "execution_count": 16,
     "metadata": {},
     "output_type": "execute_result"
    }
   ],
   "source": [
    "negSeries = pd.Series(authNegVocab)\n",
    "negSeries\n",
    "\n"
   ]
  },
  {
   "cell_type": "code",
   "execution_count": 58,
   "metadata": {},
   "outputs": [
    {
     "ename": "AttributeError",
     "evalue": "'Series' object has no attribute 'insert'",
     "output_type": "error",
     "traceback": [
      "\u001b[1;31m---------------------------------------------------------------------------\u001b[0m",
      "\u001b[1;31mAttributeError\u001b[0m                            Traceback (most recent call last)",
      "\u001b[1;32m<ipython-input-58-31d141f06983>\u001b[0m in \u001b[0;36m<module>\u001b[1;34m\u001b[0m\n\u001b[0;32m      9\u001b[0m \u001b[1;32mfor\u001b[0m \u001b[0mauth\u001b[0m \u001b[1;32min\u001b[0m \u001b[0mauthNegVocab\u001b[0m\u001b[1;33m.\u001b[0m\u001b[0mkeys\u001b[0m\u001b[1;33m(\u001b[0m\u001b[1;33m)\u001b[0m\u001b[1;33m:\u001b[0m\u001b[1;33m\u001b[0m\u001b[1;33m\u001b[0m\u001b[0m\n\u001b[0;32m     10\u001b[0m     \u001b[1;32mif\u001b[0m \u001b[0mauth\u001b[0m \u001b[1;32min\u001b[0m \u001b[0mtop20\u001b[0m\u001b[1;33m.\u001b[0m\u001b[0mindex\u001b[0m\u001b[1;33m:\u001b[0m\u001b[1;33m\u001b[0m\u001b[1;33m\u001b[0m\u001b[0m\n\u001b[1;32m---> 11\u001b[1;33m         \u001b[0mtop20\u001b[0m\u001b[1;33m.\u001b[0m\u001b[0minsert\u001b[0m\u001b[1;33m(\u001b[0m\u001b[1;36m2\u001b[0m\u001b[1;33m,\u001b[0m\u001b[1;34m'neg words'\u001b[0m\u001b[1;33m,\u001b[0m\u001b[0mauthNegVocab\u001b[0m\u001b[1;33m[\u001b[0m\u001b[1;34m'auth'\u001b[0m\u001b[1;33m]\u001b[0m\u001b[1;33m,\u001b[0m \u001b[1;32mTrue\u001b[0m\u001b[1;33m)\u001b[0m\u001b[1;33m\u001b[0m\u001b[1;33m\u001b[0m\u001b[0m\n\u001b[0m\u001b[0;32m     12\u001b[0m     \u001b[1;32melse\u001b[0m\u001b[1;33m:\u001b[0m\u001b[1;33m\u001b[0m\u001b[1;33m\u001b[0m\u001b[0m\n\u001b[0;32m     13\u001b[0m         \u001b[1;32mcontinue\u001b[0m\u001b[1;33m\u001b[0m\u001b[1;33m\u001b[0m\u001b[0m\n",
      "\u001b[1;32m~\\anaconda3\\lib\\site-packages\\pandas\\core\\generic.py\u001b[0m in \u001b[0;36m__getattr__\u001b[1;34m(self, name)\u001b[0m\n\u001b[0;32m   5485\u001b[0m         ):\n\u001b[0;32m   5486\u001b[0m             \u001b[1;32mreturn\u001b[0m \u001b[0mself\u001b[0m\u001b[1;33m[\u001b[0m\u001b[0mname\u001b[0m\u001b[1;33m]\u001b[0m\u001b[1;33m\u001b[0m\u001b[1;33m\u001b[0m\u001b[0m\n\u001b[1;32m-> 5487\u001b[1;33m         \u001b[1;32mreturn\u001b[0m \u001b[0mobject\u001b[0m\u001b[1;33m.\u001b[0m\u001b[0m__getattribute__\u001b[0m\u001b[1;33m(\u001b[0m\u001b[0mself\u001b[0m\u001b[1;33m,\u001b[0m \u001b[0mname\u001b[0m\u001b[1;33m)\u001b[0m\u001b[1;33m\u001b[0m\u001b[1;33m\u001b[0m\u001b[0m\n\u001b[0m\u001b[0;32m   5488\u001b[0m \u001b[1;33m\u001b[0m\u001b[0m\n\u001b[0;32m   5489\u001b[0m     \u001b[1;32mdef\u001b[0m \u001b[0m__setattr__\u001b[0m\u001b[1;33m(\u001b[0m\u001b[0mself\u001b[0m\u001b[1;33m,\u001b[0m \u001b[0mname\u001b[0m\u001b[1;33m:\u001b[0m \u001b[0mstr\u001b[0m\u001b[1;33m,\u001b[0m \u001b[0mvalue\u001b[0m\u001b[1;33m)\u001b[0m \u001b[1;33m->\u001b[0m \u001b[1;32mNone\u001b[0m\u001b[1;33m:\u001b[0m\u001b[1;33m\u001b[0m\u001b[1;33m\u001b[0m\u001b[0m\n",
      "\u001b[1;31mAttributeError\u001b[0m: 'Series' object has no attribute 'insert'"
     ]
    }
   ],
   "source": [
    "# Create a dataframe with these words and add to the total top20 set\n",
    "\n",
    "# Check how many authors are there in the negauth set\n",
    "\n",
    "#authNegVocab[auth].nunique()\n",
    "\n",
    "# if author is present in top20, add the relevant word-set to the \n",
    "\n",
    "for auth in authNegVocab.keys():\n",
    "    if auth in top20.index:\n",
    "        top20.insert(2,'neg words',authNegVocab['auth'], True)\n",
    "    else:\n",
    "        continue\n",
    "\n",
    "print(top20)"
   ]
  },
  {
   "cell_type": "markdown",
   "metadata": {},
   "source": [
    "#### Steps to add other features 1. DF for top 20 authors ( also top10 and top5), add topn words, neg words and char n-grams as columns 2. test-train split and word vectorization 3. Split dataset into input and output variables based on feature set chosen 4. Run model"
   ]
  },
  {
   "cell_type": "code",
   "execution_count": 17,
   "metadata": {},
   "outputs": [
    {
     "data": {
      "text/html": [
       "<div>\n",
       "<style scoped>\n",
       "    .dataframe tbody tr th:only-of-type {\n",
       "        vertical-align: middle;\n",
       "    }\n",
       "\n",
       "    .dataframe tbody tr th {\n",
       "        vertical-align: top;\n",
       "    }\n",
       "\n",
       "    .dataframe thead th {\n",
       "        text-align: right;\n",
       "    }\n",
       "</style>\n",
       "<table border=\"1\" class=\"dataframe\">\n",
       "  <thead>\n",
       "    <tr style=\"text-align: right;\">\n",
       "      <th></th>\n",
       "      <th>author</th>\n",
       "      <th>content</th>\n",
       "    </tr>\n",
       "  </thead>\n",
       "  <tbody>\n",
       "    <tr>\n",
       "      <th>7803</th>\n",
       "      <td>Ian Hanchett</td>\n",
       "      <td>On Tuesday’s broadcast of CNN’s “Situation Roo...</td>\n",
       "    </tr>\n",
       "    <tr>\n",
       "      <th>7804</th>\n",
       "      <td>Katherine Rodriguez</td>\n",
       "      <td>A group of American spring break revelers repo...</td>\n",
       "    </tr>\n",
       "    <tr>\n",
       "      <th>7809</th>\n",
       "      <td>Jerome Hudson</td>\n",
       "      <td>A group of Hollywood celebrities is urging Ame...</td>\n",
       "    </tr>\n",
       "    <tr>\n",
       "      <th>7812</th>\n",
       "      <td>Dr. Susan Berry</td>\n",
       "      <td>Drug stocks plummeted as   Donald Trump announ...</td>\n",
       "    </tr>\n",
       "    <tr>\n",
       "      <th>7814</th>\n",
       "      <td>Ben Kew</td>\n",
       "      <td>Two helicopters, an FBI bomb squad and riot po...</td>\n",
       "    </tr>\n",
       "    <tr>\n",
       "      <th>...</th>\n",
       "      <td>...</td>\n",
       "      <td>...</td>\n",
       "    </tr>\n",
       "    <tr>\n",
       "      <th>31572</th>\n",
       "      <td>Ben Kew</td>\n",
       "      <td>Hillary Clinton’s campaign chief John Podesta ...</td>\n",
       "    </tr>\n",
       "    <tr>\n",
       "      <th>31575</th>\n",
       "      <td>Charlie Spiering</td>\n",
       "      <td>“The question about ‘Whether you give citizens...</td>\n",
       "    </tr>\n",
       "    <tr>\n",
       "      <th>31576</th>\n",
       "      <td>AWR Hawkins</td>\n",
       "      <td>A Fontana resident faces charges of animal cru...</td>\n",
       "    </tr>\n",
       "    <tr>\n",
       "      <th>31580</th>\n",
       "      <td>Alex Swoyer</td>\n",
       "      <td>2016 GOP presidential candidate and former Hew...</td>\n",
       "    </tr>\n",
       "    <tr>\n",
       "      <th>31581</th>\n",
       "      <td>Charlie Spiering</td>\n",
       "      <td>Florida Republican Representative David Jolly ...</td>\n",
       "    </tr>\n",
       "  </tbody>\n",
       "</table>\n",
       "<p>12874 rows × 2 columns</p>\n",
       "</div>"
      ],
      "text/plain": [
       "                    author                                            content\n",
       "7803          Ian Hanchett  On Tuesday’s broadcast of CNN’s “Situation Roo...\n",
       "7804   Katherine Rodriguez  A group of American spring break revelers repo...\n",
       "7809         Jerome Hudson  A group of Hollywood celebrities is urging Ame...\n",
       "7812       Dr. Susan Berry  Drug stocks plummeted as   Donald Trump announ...\n",
       "7814               Ben Kew  Two helicopters, an FBI bomb squad and riot po...\n",
       "...                    ...                                                ...\n",
       "31572              Ben Kew  Hillary Clinton’s campaign chief John Podesta ...\n",
       "31575     Charlie Spiering  “The question about ‘Whether you give citizens...\n",
       "31576          AWR Hawkins  A Fontana resident faces charges of animal cru...\n",
       "31580          Alex Swoyer  2016 GOP presidential candidate and former Hew...\n",
       "31581     Charlie Spiering  Florida Republican Representative David Jolly ...\n",
       "\n",
       "[12874 rows x 2 columns]"
      ]
     },
     "execution_count": 17,
     "metadata": {},
     "output_type": "execute_result"
    }
   ],
   "source": [
    "# Step 1 : Create a new full DF for top20, 10 and 5\n",
    "\n",
    "longTextDB.head(10)\n",
    "\n",
    "# Top20\n",
    "# mergedST.loc[mergedST['name'].isin(finalDF.index)]\n",
    "dftop20 = longTextDB.loc[longTextDB['author'].isin(top20.index)]\n",
    "        \n",
    "# Add columns for top-n words, negative vocab and char n-grams\n",
    "# dftop20new= pd.DataFrame()\n",
    "\n",
    "# for auth in topNwords.keys():\n",
    "#      dftop20new[auth] = pd.Series(list(topNwords.values()))\n",
    "     \n",
    "# # convert the dictionary to a pandas dataframe\n",
    "# dftop20new=dftop20new.transpose()\n",
    "# dftop20new.head()\n",
    "dftop20"
   ]
  },
  {
   "cell_type": "code",
   "execution_count": 19,
   "metadata": {},
   "outputs": [
    {
     "name": "stdout",
     "output_type": "stream",
     "text": [
      "(12874, 1)\n",
      "(12874,)\n"
     ]
    }
   ],
   "source": [
    "X = dftop20.iloc[:,0:1]\n",
    "y = dftop20.iloc[:,1]\n",
    "\n",
    "print(X.shape)\n",
    "print(y.shape)"
   ]
  },
  {
   "cell_type": "code",
   "execution_count": 20,
   "metadata": {},
   "outputs": [],
   "source": [
    "X_train, X_test,y_train, y_test = train_test_split(X, y, test_size=0.20, random_state=1)"
   ]
  },
  {
   "cell_type": "code",
   "execution_count": 21,
   "metadata": {},
   "outputs": [
    {
     "name": "stdout",
     "output_type": "stream",
     "text": [
      "(10299, 1)\n",
      "(10299,)\n",
      "(2575, 1)\n",
      "(2575,)\n"
     ]
    }
   ],
   "source": [
    "print(X_train.shape)\n",
    "print(y_train.shape)\n",
    "print(X_test.shape)\n",
    "print(y_test.shape)"
   ]
  },
  {
   "cell_type": "code",
   "execution_count": null,
   "metadata": {},
   "outputs": [],
   "source": []
  },
  {
   "cell_type": "code",
   "execution_count": null,
   "metadata": {},
   "outputs": [],
   "source": []
  },
  {
   "cell_type": "code",
   "execution_count": null,
   "metadata": {},
   "outputs": [],
   "source": []
  },
  {
   "cell_type": "code",
   "execution_count": null,
   "metadata": {},
   "outputs": [],
   "source": []
  },
  {
   "cell_type": "code",
   "execution_count": 32,
   "metadata": {},
   "outputs": [
    {
     "data": {
      "text/html": [
       "<div>\n",
       "<style scoped>\n",
       "    .dataframe tbody tr th:only-of-type {\n",
       "        vertical-align: middle;\n",
       "    }\n",
       "\n",
       "    .dataframe tbody tr th {\n",
       "        vertical-align: top;\n",
       "    }\n",
       "\n",
       "    .dataframe thead th {\n",
       "        text-align: right;\n",
       "    }\n",
       "</style>\n",
       "<table border=\"1\" class=\"dataframe\">\n",
       "  <thead>\n",
       "    <tr style=\"text-align: right;\">\n",
       "      <th></th>\n",
       "      <th>author</th>\n",
       "      <th>content</th>\n",
       "    </tr>\n",
       "  </thead>\n",
       "  <tbody>\n",
       "    <tr>\n",
       "      <th>7803</th>\n",
       "      <td>Ian Hanchett</td>\n",
       "      <td>On Tuesday’s broadcast of CNN’s “Situation Roo...</td>\n",
       "    </tr>\n",
       "    <tr>\n",
       "      <th>7804</th>\n",
       "      <td>Katherine Rodriguez</td>\n",
       "      <td>A group of American spring break revelers repo...</td>\n",
       "    </tr>\n",
       "    <tr>\n",
       "      <th>7809</th>\n",
       "      <td>Jerome Hudson</td>\n",
       "      <td>A group of Hollywood celebrities is urging Ame...</td>\n",
       "    </tr>\n",
       "    <tr>\n",
       "      <th>7812</th>\n",
       "      <td>Dr. Susan Berry</td>\n",
       "      <td>Drug stocks plummeted as   Donald Trump announ...</td>\n",
       "    </tr>\n",
       "    <tr>\n",
       "      <th>7814</th>\n",
       "      <td>Ben Kew</td>\n",
       "      <td>Two helicopters, an FBI bomb squad and riot po...</td>\n",
       "    </tr>\n",
       "    <tr>\n",
       "      <th>...</th>\n",
       "      <td>...</td>\n",
       "      <td>...</td>\n",
       "    </tr>\n",
       "    <tr>\n",
       "      <th>10050</th>\n",
       "      <td>Alex Swoyer</td>\n",
       "      <td>Donald Trump’s spokesman Sean Spicer pressed...</td>\n",
       "    </tr>\n",
       "    <tr>\n",
       "      <th>10179</th>\n",
       "      <td>Alex Swoyer</td>\n",
       "      <td>Donald Trump is using Twitter to criticize t...</td>\n",
       "    </tr>\n",
       "    <tr>\n",
       "      <th>11150</th>\n",
       "      <td>Alex Swoyer</td>\n",
       "      <td>Hillary Clinton is reportedly being pressured ...</td>\n",
       "    </tr>\n",
       "    <tr>\n",
       "      <th>11693</th>\n",
       "      <td>Alex Swoyer</td>\n",
       "      <td>Donald Trump took to Twitter on Thursday to ...</td>\n",
       "    </tr>\n",
       "    <tr>\n",
       "      <th>11791</th>\n",
       "      <td>Alex Swoyer</td>\n",
       "      <td>Donald Trump and Vice   Mike Pence plan to b...</td>\n",
       "    </tr>\n",
       "  </tbody>\n",
       "</table>\n",
       "<p>100 rows × 2 columns</p>\n",
       "</div>"
      ],
      "text/plain": [
       "                    author                                            content\n",
       "7803          Ian Hanchett  On Tuesday’s broadcast of CNN’s “Situation Roo...\n",
       "7804   Katherine Rodriguez  A group of American spring break revelers repo...\n",
       "7809         Jerome Hudson  A group of Hollywood celebrities is urging Ame...\n",
       "7812       Dr. Susan Berry  Drug stocks plummeted as   Donald Trump announ...\n",
       "7814               Ben Kew  Two helicopters, an FBI bomb squad and riot po...\n",
       "...                    ...                                                ...\n",
       "10050          Alex Swoyer    Donald Trump’s spokesman Sean Spicer pressed...\n",
       "10179          Alex Swoyer    Donald Trump is using Twitter to criticize t...\n",
       "11150          Alex Swoyer  Hillary Clinton is reportedly being pressured ...\n",
       "11693          Alex Swoyer    Donald Trump took to Twitter on Thursday to ...\n",
       "11791          Alex Swoyer    Donald Trump and Vice   Mike Pence plan to b...\n",
       "\n",
       "[100 rows x 2 columns]"
      ]
     },
     "execution_count": 32,
     "metadata": {},
     "output_type": "execute_result"
    }
   ],
   "source": [
    "top20Grouped = dftop20.groupby('author')\n",
    "top20Grouped.head()\n"
   ]
  },
  {
   "cell_type": "markdown",
   "metadata": {},
   "source": [
    "### Top n-words using the nlargest within each line. The same for loop may be re-used."
   ]
  },
  {
   "cell_type": "code",
   "execution_count": 18,
   "metadata": {},
   "outputs": [],
   "source": [
    "from keras.preprocessing.text import Tokenizer\n",
    "t = Tokenizer()"
   ]
  },
  {
   "cell_type": "code",
   "execution_count": 19,
   "metadata": {},
   "outputs": [
    {
     "name": "stdout",
     "output_type": "stream",
     "text": [
      "Author is: Breitbart News\n",
      "auth not in authNegVocab, adding...\n",
      "Author is: Pam Key\n",
      "auth not in authNegVocab, adding...\n",
      "Author is: Charlie Spiering\n",
      "auth not in authNegVocab, adding...\n",
      "Author is: Jerome Hudson\n",
      "auth not in authNegVocab, adding...\n",
      "Author is: John Hayward\n",
      "auth not in authNegVocab, adding...\n",
      "Author is: Daniel Nussbaum\n",
      "auth not in authNegVocab, adding...\n",
      "Author is: AWR Hawkins\n",
      "auth not in authNegVocab, adding...\n",
      "Author is: Ian Hanchett\n",
      "auth not in authNegVocab, adding...\n",
      "Author is: Joel B. Pollak\n",
      "auth not in authNegVocab, adding...\n",
      "Author is: Alex Swoyer\n",
      "auth not in authNegVocab, adding...\n",
      "Author is: Warner Todd Huston\n",
      "auth not in authNegVocab, adding...\n",
      "Author is: Jeff Poor\n",
      "auth not in authNegVocab, adding...\n",
      "Author is: Trent Baker\n",
      "auth not in authNegVocab, adding...\n",
      "Author is: Breitbart London\n",
      "auth not in authNegVocab, adding...\n",
      "Author is: Katherine Rodriguez\n",
      "auth not in authNegVocab, adding...\n",
      "Author is: Charlie Nash\n",
      "auth not in authNegVocab, adding...\n",
      "Author is: Ben Kew\n",
      "auth not in authNegVocab, adding...\n",
      "Author is: Frances Martel\n",
      "auth not in authNegVocab, adding...\n",
      "Author is: Bob Price\n",
      "auth not in authNegVocab, adding...\n",
      "Author is: Dr. Susan Berry\n",
      "auth not in authNegVocab, adding...\n",
      "\n",
      "*** train                                       Breitbart News  \\\n",
      "0  [second, ago, become, editor, voting, mainstre...   \n",
      "\n",
      "                                             Pam Key  \\\n",
      "0  [’, writes, plan, ago, reporter, north, nevada...   \n",
      "\n",
      "                                    Charlie Spiering  \\\n",
      "0  [information, north, bad, plan, line, love, we...   \n",
      "\n",
      "                                       Jerome Hudson  \\\n",
      "0  [tells, conference, north, decision, keep, rep...   \n",
      "\n",
      "                                        John Hayward  \\\n",
      "0  [book, updates, needs, meeting, clear, hard, c...   \n",
      "\n",
      "                                     Daniel Nussbaum  \\\n",
      "0  [military, together, number, understand, islam...   \n",
      "\n",
      "                                         AWR Hawkins  \\\n",
      "0  [few, rights, romney, woman, hard, officials, ...   \n",
      "\n",
      "                                        Ian Hanchett  \\\n",
      "0  [illegal, officials, delegates, crowd, young, ...   \n",
      "\n",
      "                                      Joel B. Pollak  \\\n",
      "0  [together, become, street, officials, reported...   \n",
      "\n",
      "                                         Alex Swoyer  \\\n",
      "0  [officials, together, young, himself, understa...   \n",
      "\n",
      "                                  Warner Todd Huston  \\\n",
      "0  [latest, himself, children, “it, young, i’ve, ...   \n",
      "\n",
      "                                           Jeff Poor  \\\n",
      "0  [young, candidates, recent, “it, released, bec...   \n",
      "\n",
      "                                         Trent Baker  \\\n",
      "0  [enough, “it, nomination, earlier, become, dis...   \n",
      "\n",
      "                                    Breitbart London  \\\n",
      "0  [young, j, children, men, “it, become, bad, i’...   \n",
      "\n",
      "                                 Katherine Rodriguez  \\\n",
      "0  [young, bad, saturday, children, i’ve, realdon...   \n",
      "\n",
      "                                        Charlie Nash  \\\n",
      "0  [four, young, i’ve, found, children, become, “...   \n",
      "\n",
      "                                             Ben Kew  \\\n",
      "0  [siriusxm, four, young, free, message, childre...   \n",
      "\n",
      "                                      Frances Martel  \\\n",
      "0  [bush, paul, record, past, message, star, youn...   \n",
      "\n",
      "                                           Bob Price  \\\n",
      "0  [record, star, message, across, community, you...   \n",
      "\n",
      "                                     Dr. Susan Berry  \n",
      "0  [00, health, facebook, points, across, ryan, l...  \n",
      "\n",
      "*** test                                       Breitbart News  \\\n",
      "0  [paul, “, chairman, court, siriusxm, such, off...   \n",
      "\n",
      "                                             Pam Key  \\\n",
      "0  [someone, 00, court, office, group, tells, exe...   \n",
      "\n",
      "                                    Charlie Spiering  \\\n",
      "0  [street, 35, latest, deal, someone, always, ma...   \n",
      "\n",
      "                                       Jerome Hudson  \\\n",
      "0  [27, director, someone, host, far, mean, alway...   \n",
      "\n",
      "                                        John Hayward  \\\n",
      "0  [actually, making, “this, went, crowd, carolin...   \n",
      "\n",
      "                                     Daniel Nussbaum  \\\n",
      "0  [record, north, real, came, 50, 17, j, seen, c...   \n",
      "\n",
      "                                         AWR Hawkins  \\\n",
      "0  [obama’s, morning, real, senator, bush, top, s...   \n",
      "\n",
      "                                        Ian Hanchett  \\\n",
      "0  [used, obama’s, morning, jobs, realdonaldtrump...   \n",
      "\n",
      "                                      Joel B. Pollak  \\\n",
      "0  [run, points, 19, history, mr, place, morning,...   \n",
      "\n",
      "                                         Alex Swoyer  \\\n",
      "0  [might, 19, history, justice, thursday, south,...   \n",
      "\n",
      "                                  Warner Todd Huston  \\\n",
      "0  [19, reported, might, history, 00, justice, at...   \n",
      "\n",
      "                                           Jeff Poor  \\\n",
      "0  [later, history, attacks, might, book, justice...   \n",
      "\n",
      "                                         Trent Baker  \\\n",
      "0  [justice, investigation, rights, book, amendme...   \n",
      "\n",
      "                                    Breitbart London  \\\n",
      "0  [might, trade, let, investigation, book, runni...   \n",
      "\n",
      "                                 Katherine Rodriguez  \\\n",
      "0  [running, number, attacks, book, monday, alway...   \n",
      "\n",
      "                                        Charlie Nash  \\\n",
      "0  [might, pm, always, attacks, book, number, inv...   \n",
      "\n",
      "                                             Ben Kew  \\\n",
      "0  [justice, might, always, florida, attacks, sep...   \n",
      "\n",
      "                                      Frances Martel  \\\n",
      "0  [always, might, senior, update, florida, septe...   \n",
      "\n",
      "                                           Bob Price  \\\n",
      "0  [might, florida, january, rest, woman, bernie,...   \n",
      "\n",
      "                                     Dr. Susan Berry  \n",
      "0  [information, september, justice, federal, tea...  \n"
     ]
    }
   ],
   "source": [
    "topNwords = pd.DataFrame()\n",
    "topNwordstrain = pd.DataFrame()\n",
    "topNwordstest = pd.DataFrame()\n",
    "\n",
    "from operator import itemgetter\n",
    "import heapq\n",
    "# from collections import Counter\n",
    "authContent=[]\n",
    "newlistOfWords=[]\n",
    "counter = 400\n",
    "\n",
    "for auth in top20.index: \n",
    "    #if (auth == 'Pam Key') or (auth=='Ben Kew'):\n",
    "    #if auth == 'Pam Key': \n",
    "        print(\"Author is:\", auth)\n",
    "        trial = groupedDF.get_group(auth)\n",
    "\n",
    "        for line in trial.content:\n",
    "            authContent.append(line)\n",
    "\n",
    "        t.fit_on_texts(authContent)\n",
    "        wc=t.word_counts\n",
    "\n",
    "    #     k = Counter(wc)\n",
    "    #     top100words = k.most_common(100)\n",
    "    #     print(top100words)\n",
    "\n",
    "        newlistOfWords1= heapq.nlargest(200, wc, key=wc.get)\n",
    "        \n",
    "        sortedDict = dict(sorted(wc.items(), key=itemgetter(1), reverse=True)[:500])\n",
    "        newlistOfWords = heapq.nsmallest(100, sortedDict, key=sortedDict.get)\n",
    "        #listOfWords = top100words.keys\n",
    "        newlistOfWords1 = newlistOfWords[:80]\n",
    "        newlistOfWords2 = newlistOfWords[81:]\n",
    "        \n",
    "        #print(\"\\n\\n*** list of words is \", newlistOfWords)     \n",
    "        if auth not in topNwords:\n",
    "                topNwordstrain[auth] = [newlistOfWords1]\n",
    "                topNwordstest[auth] = [newlistOfWords2]\n",
    "                \n",
    "                print(\"auth not in authNegVocab, adding...\")\n",
    "                #print(\"in new auth, series is \",  topNwords[auth])\n",
    "        else:\n",
    "               \n",
    "                topNwordstrain[auth].append([newlistOfWords1])\n",
    "                topNwordstest[auth].append([newlistOfWords2])\n",
    "                \n",
    "                #print(\"auth in authNegVocab, appending...\")\n",
    "                 \n",
    "\n",
    "print(\"\\n*** train\", topNwordstrain)\n",
    "print(\"\\n*** test\", topNwordstest)\n"
   ]
  },
  {
   "cell_type": "code",
   "execution_count": 131,
   "metadata": {},
   "outputs": [
    {
     "data": {
      "text/html": [
       "<div>\n",
       "<style scoped>\n",
       "    .dataframe tbody tr th:only-of-type {\n",
       "        vertical-align: middle;\n",
       "    }\n",
       "\n",
       "    .dataframe tbody tr th {\n",
       "        vertical-align: top;\n",
       "    }\n",
       "\n",
       "    .dataframe thead th {\n",
       "        text-align: right;\n",
       "    }\n",
       "</style>\n",
       "<table border=\"1\" class=\"dataframe\">\n",
       "  <thead>\n",
       "    <tr style=\"text-align: right;\">\n",
       "      <th></th>\n",
       "    </tr>\n",
       "  </thead>\n",
       "  <tbody>\n",
       "  </tbody>\n",
       "</table>\n",
       "</div>"
      ],
      "text/plain": [
       "Empty DataFrame\n",
       "Columns: []\n",
       "Index: []"
      ]
     },
     "execution_count": 131,
     "metadata": {},
     "output_type": "execute_result"
    }
   ],
   "source": [
    "topNwords = topNwordstrain + topNwordstest\n",
    "topNwords"
   ]
  },
  {
   "cell_type": "code",
   "execution_count": 39,
   "metadata": {},
   "outputs": [
    {
     "data": {
      "text/html": [
       "<div>\n",
       "<style scoped>\n",
       "    .dataframe tbody tr th:only-of-type {\n",
       "        vertical-align: middle;\n",
       "    }\n",
       "\n",
       "    .dataframe tbody tr th {\n",
       "        vertical-align: top;\n",
       "    }\n",
       "\n",
       "    .dataframe thead th {\n",
       "        text-align: right;\n",
       "    }\n",
       "</style>\n",
       "<table border=\"1\" class=\"dataframe\">\n",
       "  <thead>\n",
       "    <tr style=\"text-align: right;\">\n",
       "      <th></th>\n",
       "      <th>0</th>\n",
       "    </tr>\n",
       "  </thead>\n",
       "  <tbody>\n",
       "    <tr>\n",
       "      <th>Breitbart News</th>\n",
       "      <td>[past, across, “it, message, young, reportedly...</td>\n",
       "    </tr>\n",
       "    <tr>\n",
       "      <th>Pam Key</th>\n",
       "      <td>[past, across, young, message, reportedly, ear...</td>\n",
       "    </tr>\n",
       "    <tr>\n",
       "      <th>Charlie Spiering</th>\n",
       "      <td>[officers, himself, across, young, earlier, be...</td>\n",
       "    </tr>\n",
       "    <tr>\n",
       "      <th>Jerome Hudson</th>\n",
       "      <td>[himself, discuss, across, earlier, young, bec...</td>\n",
       "    </tr>\n",
       "    <tr>\n",
       "      <th>John Hayward</th>\n",
       "      <td>[“it, himself, across, young, discuss, become,...</td>\n",
       "    </tr>\n",
       "    <tr>\n",
       "      <th>Daniel Nussbaum</th>\n",
       "      <td>[across, himself, “it, discuss, young, free, b...</td>\n",
       "    </tr>\n",
       "    <tr>\n",
       "      <th>AWR Hawkins</th>\n",
       "      <td>[himself, reportedly, “it, free, discuss, satu...</td>\n",
       "    </tr>\n",
       "    <tr>\n",
       "      <th>Ian Hanchett</th>\n",
       "      <td>[himself, free, discuss, saturday, “it, j, rep...</td>\n",
       "    </tr>\n",
       "    <tr>\n",
       "      <th>Joel B. Pollak</th>\n",
       "      <td>[himself, earlier, saturday, free, j, “it, you...</td>\n",
       "    </tr>\n",
       "    <tr>\n",
       "      <th>Alex Swoyer</th>\n",
       "      <td>[siriusxm, free, j, saturday, earlier, young, ...</td>\n",
       "    </tr>\n",
       "    <tr>\n",
       "      <th>Warner Todd Huston</th>\n",
       "      <td>[awrhawkins, j, free, saturday, earlier, young...</td>\n",
       "    </tr>\n",
       "    <tr>\n",
       "      <th>Jeff Poor</th>\n",
       "      <td>[j, free, saturday, young, “it, earlier, illeg...</td>\n",
       "    </tr>\n",
       "    <tr>\n",
       "      <th>Trent Baker</th>\n",
       "      <td>[j, free, young, saturday, “it, illegal, becom...</td>\n",
       "    </tr>\n",
       "    <tr>\n",
       "      <th>Breitbart London</th>\n",
       "      <td>[across, illegal, young, free, “it, saturday, ...</td>\n",
       "    </tr>\n",
       "    <tr>\n",
       "      <th>Katherine Rodriguez</th>\n",
       "      <td>[four, illegal, young, free, “it, become, mess...</td>\n",
       "    </tr>\n",
       "    <tr>\n",
       "      <th>Charlie Nash</th>\n",
       "      <td>[past, four, young, realdonaldtrump, message, ...</td>\n",
       "    </tr>\n",
       "    <tr>\n",
       "      <th>Ben Kew</th>\n",
       "      <td>[across, past, four, young, message, become, “...</td>\n",
       "    </tr>\n",
       "    <tr>\n",
       "      <th>Frances Martel</th>\n",
       "      <td>[across, past, four, message, young, paul, bec...</td>\n",
       "    </tr>\n",
       "    <tr>\n",
       "      <th>Bob Price</th>\n",
       "      <td>[illegal, across, paul, past, four, young, bus...</td>\n",
       "    </tr>\n",
       "    <tr>\n",
       "      <th>Dr. Susan Berry</th>\n",
       "      <td>[across, bush, four, past, record, community, ...</td>\n",
       "    </tr>\n",
       "  </tbody>\n",
       "</table>\n",
       "</div>"
      ],
      "text/plain": [
       "                                                                     0\n",
       "Breitbart News       [past, across, “it, message, young, reportedly...\n",
       "Pam Key              [past, across, young, message, reportedly, ear...\n",
       "Charlie Spiering     [officers, himself, across, young, earlier, be...\n",
       "Jerome Hudson        [himself, discuss, across, earlier, young, bec...\n",
       "John Hayward         [“it, himself, across, young, discuss, become,...\n",
       "Daniel Nussbaum      [across, himself, “it, discuss, young, free, b...\n",
       "AWR Hawkins          [himself, reportedly, “it, free, discuss, satu...\n",
       "Ian Hanchett         [himself, free, discuss, saturday, “it, j, rep...\n",
       "Joel B. Pollak       [himself, earlier, saturday, free, j, “it, you...\n",
       "Alex Swoyer          [siriusxm, free, j, saturday, earlier, young, ...\n",
       "Warner Todd Huston   [awrhawkins, j, free, saturday, earlier, young...\n",
       "Jeff Poor            [j, free, saturday, young, “it, earlier, illeg...\n",
       "Trent Baker          [j, free, young, saturday, “it, illegal, becom...\n",
       "Breitbart London     [across, illegal, young, free, “it, saturday, ...\n",
       "Katherine Rodriguez  [four, illegal, young, free, “it, become, mess...\n",
       "Charlie Nash         [past, four, young, realdonaldtrump, message, ...\n",
       "Ben Kew              [across, past, four, young, message, become, “...\n",
       "Frances Martel       [across, past, four, message, young, paul, bec...\n",
       "Bob Price            [illegal, across, paul, past, four, young, bus...\n",
       "Dr. Susan Berry      [across, bush, four, past, record, community, ..."
      ]
     },
     "execution_count": 39,
     "metadata": {},
     "output_type": "execute_result"
    }
   ],
   "source": [
    "topNwordstrain = topNwordstrain.transpose()\n",
    "topNwordstrain"
   ]
  },
  {
   "cell_type": "code",
   "execution_count": 41,
   "metadata": {},
   "outputs": [
    {
     "data": {
      "text/html": [
       "<div>\n",
       "<style scoped>\n",
       "    .dataframe tbody tr th:only-of-type {\n",
       "        vertical-align: middle;\n",
       "    }\n",
       "\n",
       "    .dataframe tbody tr th {\n",
       "        vertical-align: top;\n",
       "    }\n",
       "\n",
       "    .dataframe thead th {\n",
       "        text-align: right;\n",
       "    }\n",
       "</style>\n",
       "<table border=\"1\" class=\"dataframe\">\n",
       "  <thead>\n",
       "    <tr style=\"text-align: right;\">\n",
       "      <th></th>\n",
       "      <th>0</th>\n",
       "    </tr>\n",
       "  </thead>\n",
       "  <tbody>\n",
       "    <tr>\n",
       "      <th>Breitbart News</th>\n",
       "      <td>[running, senior, “this, investigation, rights...</td>\n",
       "    </tr>\n",
       "    <tr>\n",
       "      <th>Pam Key</th>\n",
       "      <td>[trade, running, rights, “this, investigation,...</td>\n",
       "    </tr>\n",
       "    <tr>\n",
       "      <th>Charlie Spiering</th>\n",
       "      <td>[rights, “this, investigation, keep, com, runn...</td>\n",
       "    </tr>\n",
       "    <tr>\n",
       "      <th>Jerome Hudson</th>\n",
       "      <td>[always, rights, keep, “this, investigation, m...</td>\n",
       "    </tr>\n",
       "    <tr>\n",
       "      <th>John Hayward</th>\n",
       "      <td>[south, always, keep, monday, investigation, “...</td>\n",
       "    </tr>\n",
       "    <tr>\n",
       "      <th>Daniel Nussbaum</th>\n",
       "      <td>[let, always, keep, investigation, monday, run...</td>\n",
       "    </tr>\n",
       "    <tr>\n",
       "      <th>AWR Hawkins</th>\n",
       "      <td>[let, always, investigation, monday, keep, run...</td>\n",
       "    </tr>\n",
       "    <tr>\n",
       "      <th>Ian Hanchett</th>\n",
       "      <td>[let, investigation, always, monday, running, ...</td>\n",
       "    </tr>\n",
       "    <tr>\n",
       "      <th>Joel B. Pollak</th>\n",
       "      <td>[rights, investigation, always, monday, team, ...</td>\n",
       "    </tr>\n",
       "    <tr>\n",
       "      <th>Alex Swoyer</th>\n",
       "      <td>[rights, team, investigation, always, monday, ...</td>\n",
       "    </tr>\n",
       "    <tr>\n",
       "      <th>Warner Todd Huston</th>\n",
       "      <td>[team, investigation, always, trade, rights, r...</td>\n",
       "    </tr>\n",
       "    <tr>\n",
       "      <th>Jeff Poor</th>\n",
       "      <td>[trade, team, always, running, investigation, ...</td>\n",
       "    </tr>\n",
       "    <tr>\n",
       "      <th>Trent Baker</th>\n",
       "      <td>[always, team, running, investigation, monday,...</td>\n",
       "    </tr>\n",
       "    <tr>\n",
       "      <th>Breitbart London</th>\n",
       "      <td>[running, always, team, investigation, 25, mon...</td>\n",
       "    </tr>\n",
       "    <tr>\n",
       "      <th>Katherine Rodriguez</th>\n",
       "      <td>[running, always, team, 25, investigation, “th...</td>\n",
       "    </tr>\n",
       "    <tr>\n",
       "      <th>Charlie Nash</th>\n",
       "      <td>[book, senior, 25, team, investigation, “this,...</td>\n",
       "    </tr>\n",
       "    <tr>\n",
       "      <th>Ben Kew</th>\n",
       "      <td>[always, team, book, senior, “this, investigat...</td>\n",
       "    </tr>\n",
       "    <tr>\n",
       "      <th>Frances Martel</th>\n",
       "      <td>[always, team, book, senior, pm, “this, invest...</td>\n",
       "    </tr>\n",
       "    <tr>\n",
       "      <th>Bob Price</th>\n",
       "      <td>[justice, pm, book, team, senior, florida, “th...</td>\n",
       "    </tr>\n",
       "    <tr>\n",
       "      <th>Dr. Susan Berry</th>\n",
       "      <td>[justice, woman, book, florida, team, bernie, ...</td>\n",
       "    </tr>\n",
       "  </tbody>\n",
       "</table>\n",
       "</div>"
      ],
      "text/plain": [
       "                                                                     0\n",
       "Breitbart News       [running, senior, “this, investigation, rights...\n",
       "Pam Key              [trade, running, rights, “this, investigation,...\n",
       "Charlie Spiering     [rights, “this, investigation, keep, com, runn...\n",
       "Jerome Hudson        [always, rights, keep, “this, investigation, m...\n",
       "John Hayward         [south, always, keep, monday, investigation, “...\n",
       "Daniel Nussbaum      [let, always, keep, investigation, monday, run...\n",
       "AWR Hawkins          [let, always, investigation, monday, keep, run...\n",
       "Ian Hanchett         [let, investigation, always, monday, running, ...\n",
       "Joel B. Pollak       [rights, investigation, always, monday, team, ...\n",
       "Alex Swoyer          [rights, team, investigation, always, monday, ...\n",
       "Warner Todd Huston   [team, investigation, always, trade, rights, r...\n",
       "Jeff Poor            [trade, team, always, running, investigation, ...\n",
       "Trent Baker          [always, team, running, investigation, monday,...\n",
       "Breitbart London     [running, always, team, investigation, 25, mon...\n",
       "Katherine Rodriguez  [running, always, team, 25, investigation, “th...\n",
       "Charlie Nash         [book, senior, 25, team, investigation, “this,...\n",
       "Ben Kew              [always, team, book, senior, “this, investigat...\n",
       "Frances Martel       [always, team, book, senior, pm, “this, invest...\n",
       "Bob Price            [justice, pm, book, team, senior, florida, “th...\n",
       "Dr. Susan Berry      [justice, woman, book, florida, team, bernie, ..."
      ]
     },
     "execution_count": 41,
     "metadata": {},
     "output_type": "execute_result"
    }
   ],
   "source": [
    "topNwordstest = topNwordstest.transpose()\n",
    "topNwordstest"
   ]
  },
  {
   "cell_type": "code",
   "execution_count": 44,
   "metadata": {},
   "outputs": [
    {
     "data": {
      "text/plain": [
       "array([[list(['running', 'senior', '“this', 'investigation', 'rights', 'keep', 'monday', 'team', 'issues', 'obama’s', 'mean', '25', 'attacks', 'making', 'seen', 'morning', 'com', 'florida', 'issue'])],\n",
       "       [list(['trade', 'running', 'rights', '“this', 'investigation', 'keep', 'monday', 'obama’s', 'com', 'team', 'issues', 'making', 'mean', 'attacks', 'morning', 'seen', 'issue', '25', 'florida'])],\n",
       "       [list(['rights', '“this', 'investigation', 'keep', 'com', 'running', 'monday', 'trade', 'obama’s', 'team', 'making', 'issues', 'seen', 'mean', 'morning', 'attacks', 'issue', 'number', 'later'])],\n",
       "       [list(['always', 'rights', 'keep', '“this', 'investigation', 'monday', 'running', 'trade', 'obama’s', 'team', 'making', 'number', 'seen', 'issues', 'morning', 'mean', 'issue', 'attacks', 'later'])],\n",
       "       [list(['south', 'always', 'keep', 'monday', 'investigation', '“this', 'running', 'trade', 'obama’s', 'team', 'number', 'later', 'morning', 'making', 'seen', 'issue', 'attacks', 'mean', 'issues'])],\n",
       "       [list(['let', 'always', 'keep', 'investigation', 'monday', 'running', '“this', 'trade', 'number', 'obama’s', 'team', 'later', 'morning', 'attacks', 'seen', 'making', 'issue', 'mean', 'issues'])],\n",
       "       [list(['let', 'always', 'investigation', 'monday', 'keep', 'running', 'team', 'trade', '“this', 'obama’s', 'number', 'later', 'morning', 'attacks', 'seen', 'issue', 'mean', 'making', 'senator'])],\n",
       "       [list(['let', 'investigation', 'always', 'monday', 'running', 'team', 'trade', 'keep', '“this', 'obama’s', 'later', 'number', 'morning', 'attacks', 'seen', 'making', 'issue', 'mean', 'issues'])],\n",
       "       [list(['rights', 'investigation', 'always', 'monday', 'team', 'running', 'trade', 'keep', '“this', 'number', 'obama’s', 'later', 'attacks', 'morning', 'seen', 'making', 'issues', 'mean', 'issue'])],\n",
       "       [list(['rights', 'team', 'investigation', 'always', 'monday', 'running', 'trade', '“this', 'keep', 'number', 'attacks', 'obama’s', 'seen', 'morning', 'later', 'making', 'issues', 'mean', '25'])],\n",
       "       [list(['team', 'investigation', 'always', 'trade', 'rights', 'running', 'monday', '“this', 'keep', 'attacks', 'number', 'seen', 'morning', 'obama’s', '25', 'later', 'mean', 'issues', 'making'])],\n",
       "       [list(['trade', 'team', 'always', 'running', 'investigation', 'monday', 'rights', '“this', 'attacks', 'keep', 'number', '25', 'seen', 'morning', 'obama’s', 'issues', 'florida', 'making', 'later'])],\n",
       "       [list(['always', 'team', 'running', 'investigation', 'monday', 'rights', 'com', 'attacks', '“this', '25', 'keep', 'number', 'seen', 'morning', 'issues', 'florida', 'obama’s', 'making', 'mean'])],\n",
       "       [list(['running', 'always', 'team', 'investigation', '25', 'monday', 'rights', '“this', 'attacks', 'keep', 'com', 'number', 'florida', 'issues', 'seen', 'morning', 'obama’s', 'making', 'mean'])],\n",
       "       [list(['running', 'always', 'team', '25', 'investigation', '“this', 'rights', 'monday', 'attacks', 'keep', 'florida', 'issues', 'number', 'seen', 'morning', 'obama’s', 'making', 'com', 'september'])],\n",
       "       [list(['book', 'senior', '25', 'team', 'investigation', '“this', 'rights', 'monday', 'attacks', 'florida', 'keep', 'issues', 'number', 'pm', 'september', 'seen', 'obama’s', 'bernie', 'morning'])],\n",
       "       [list(['always', 'team', 'book', 'senior', '“this', 'investigation', 'rights', 'monday', 'pm', 'florida', 'attacks', 'issues', 'keep', 'september', 'bernie', 'obama’s', 'seen', 'making', 'number'])],\n",
       "       [list(['always', 'team', 'book', 'senior', 'pm', '“this', 'investigation', 'florida', 'issues', 'rights', 'attacks', 'monday', 'bernie', 'keep', 'september', 'obama’s', 'seen', 'making', 'morning'])],\n",
       "       [list(['justice', 'pm', 'book', 'team', 'senior', 'florida', '“this', 'investigation', 'issues', 'bernie', 'september', 'attacks', 'keep', 'rights', 'monday', 'obama’s', 'mean', 'making', 'seen'])],\n",
       "       [list(['justice', 'woman', 'book', 'florida', 'team', 'bernie', 'issues', '“this', 'investigation', 'september', 'senior', 'attacks', 'keep', 'monday', 'obama’s', 'mean', 'rights', 'rest', 'making'])]],\n",
       "      dtype=object)"
      ]
     },
     "execution_count": 44,
     "metadata": {},
     "output_type": "execute_result"
    }
   ],
   "source": [
    "X_train = topNwordstrain.values\n",
    "X_train\n",
    "\n",
    "X_test = topNwordstest.values\n",
    "X_test"
   ]
  },
  {
   "cell_type": "code",
   "execution_count": 48,
   "metadata": {},
   "outputs": [
    {
     "data": {
      "text/plain": [
       "Index(['Breitbart News', 'Pam Key', 'Charlie Spiering', 'Jerome Hudson',\n",
       "       'John Hayward', 'Daniel Nussbaum', 'AWR Hawkins', 'Ian Hanchett',\n",
       "       'Joel B. Pollak', 'Alex Swoyer', 'Warner Todd Huston', 'Jeff Poor',\n",
       "       'Trent Baker', 'Breitbart London', 'Katherine Rodriguez',\n",
       "       'Charlie Nash', 'Ben Kew', 'Frances Martel', 'Bob Price',\n",
       "       'Dr. Susan Berry'],\n",
       "      dtype='object')"
      ]
     },
     "execution_count": 48,
     "metadata": {},
     "output_type": "execute_result"
    }
   ],
   "source": [
    "y_train = topNwordstrain.index\n",
    "y_train\n",
    "\n",
    "y_test = topNwordstest.index\n",
    "y_test"
   ]
  },
  {
   "cell_type": "code",
   "execution_count": 56,
   "metadata": {},
   "outputs": [
    {
     "name": "stdout",
     "output_type": "stream",
     "text": [
      "******* auth is ******  Breitbart News\n",
      "******* auth is ******  Pam Key\n",
      "******* auth is ******  Charlie Spiering\n",
      "******* auth is ******  Jerome Hudson\n",
      "******* auth is ******  John Hayward\n",
      "******* auth is ******  Daniel Nussbaum\n",
      "******* auth is ******  AWR Hawkins\n",
      "******* auth is ******  Ian Hanchett\n",
      "******* auth is ******  Joel B. Pollak\n",
      "******* auth is ******  Alex Swoyer\n",
      "******* auth is ******  Warner Todd Huston\n",
      "******* auth is ******  Jeff Poor\n",
      "******* auth is ******  Trent Baker\n",
      "******* auth is ******  Breitbart London\n",
      "******* auth is ******  Katherine Rodriguez\n",
      "******* auth is ******  Charlie Nash\n",
      "******* auth is ******  Ben Kew\n",
      "******* auth is ******  Frances Martel\n",
      "******* auth is ******  Bob Price\n",
      "******* auth is ******  Dr. Susan Berry\n"
     ]
    }
   ],
   "source": [
    "# Tokenization of words X train\n",
    "\n",
    "from keras.preprocessing.text import hashing_trick\n",
    "from keras.preprocessing.text import text_to_word_sequence\n",
    "\n",
    "vocSizeList = []\n",
    "hashList=[]\n",
    "\n",
    "text = ''\n",
    "\n",
    "for auth in topNwordstrain.index:\n",
    "       \n",
    "        print(\"******* auth is ****** \", auth)\n",
    "        for line in topNwordstrain.values:\n",
    "                    #for i in range(0,len(topNwordstrain.values)):\n",
    "                    text = text + ' ' + str(line)\n",
    "\n",
    "                    seq_words = set(text_to_word_sequence(text))   \n",
    "                    vocab_size = len(seq_words)\n",
    "                    vocSizeList.append(vocab_size)\n",
    "\n",
    "                    result = hashing_trick(text, round(vocab_size*2), hash_function='md5')\n",
    "                    hashList.append(result)"
   ]
  },
  {
   "cell_type": "code",
   "execution_count": 58,
   "metadata": {},
   "outputs": [],
   "source": [
    "test_string_new = hashList\n",
    "test_string_new\n",
    "\n",
    "for elem in test_string_new:\n",
    "    #print(elem)\n",
    "    elem = str(elem)\n",
    "    #print(type(elem))\n",
    "    "
   ]
  },
  {
   "cell_type": "code",
   "execution_count": 60,
   "metadata": {},
   "outputs": [
    {
     "data": {
      "text/html": [
       "<div>\n",
       "<style scoped>\n",
       "    .dataframe tbody tr th:only-of-type {\n",
       "        vertical-align: middle;\n",
       "    }\n",
       "\n",
       "    .dataframe tbody tr th {\n",
       "        vertical-align: top;\n",
       "    }\n",
       "\n",
       "    .dataframe thead th {\n",
       "        text-align: right;\n",
       "    }\n",
       "</style>\n",
       "<table border=\"1\" class=\"dataframe\">\n",
       "  <thead>\n",
       "    <tr style=\"text-align: right;\">\n",
       "      <th></th>\n",
       "      <th>0</th>\n",
       "    </tr>\n",
       "  </thead>\n",
       "  <tbody>\n",
       "    <tr>\n",
       "      <th>0</th>\n",
       "      <td>[121, 77, 8, 29, 28, 37, 139, 40, 114, 35, 47,...</td>\n",
       "    </tr>\n",
       "    <tr>\n",
       "      <th>1</th>\n",
       "      <td>[72, 43, 143, 102, 12, 61, 3, 27, 5, 71, 29, 5...</td>\n",
       "    </tr>\n",
       "    <tr>\n",
       "      <th>2</th>\n",
       "      <td>[19, 105, 90, 127, 46, 114, 55, 108, 86, 17, 9...</td>\n",
       "    </tr>\n",
       "    <tr>\n",
       "      <th>3</th>\n",
       "      <td>[30, 152, 169, 5, 148, 162, 102, 151, 16, 123,...</td>\n",
       "    </tr>\n",
       "    <tr>\n",
       "      <th>4</th>\n",
       "      <td>[52, 22, 78, 136, 134, 166, 134, 66, 117, 51, ...</td>\n",
       "    </tr>\n",
       "    <tr>\n",
       "      <th>...</th>\n",
       "      <td>...</td>\n",
       "    </tr>\n",
       "    <tr>\n",
       "      <th>395</th>\n",
       "      <td>[126, 22, 37, 43, 93, 80, 51, 60, 106, 83, 69,...</td>\n",
       "    </tr>\n",
       "    <tr>\n",
       "      <th>396</th>\n",
       "      <td>[126, 22, 37, 43, 93, 80, 51, 60, 106, 83, 69,...</td>\n",
       "    </tr>\n",
       "    <tr>\n",
       "      <th>397</th>\n",
       "      <td>[126, 22, 37, 43, 93, 80, 51, 60, 106, 83, 69,...</td>\n",
       "    </tr>\n",
       "    <tr>\n",
       "      <th>398</th>\n",
       "      <td>[126, 22, 37, 43, 93, 80, 51, 60, 106, 83, 69,...</td>\n",
       "    </tr>\n",
       "    <tr>\n",
       "      <th>399</th>\n",
       "      <td>[126, 22, 37, 43, 93, 80, 51, 60, 106, 83, 69,...</td>\n",
       "    </tr>\n",
       "  </tbody>\n",
       "</table>\n",
       "<p>400 rows × 1 columns</p>\n",
       "</div>"
      ],
      "text/plain": [
       "                                                     0\n",
       "0    [121, 77, 8, 29, 28, 37, 139, 40, 114, 35, 47,...\n",
       "1    [72, 43, 143, 102, 12, 61, 3, 27, 5, 71, 29, 5...\n",
       "2    [19, 105, 90, 127, 46, 114, 55, 108, 86, 17, 9...\n",
       "3    [30, 152, 169, 5, 148, 162, 102, 151, 16, 123,...\n",
       "4    [52, 22, 78, 136, 134, 166, 134, 66, 117, 51, ...\n",
       "..                                                 ...\n",
       "395  [126, 22, 37, 43, 93, 80, 51, 60, 106, 83, 69,...\n",
       "396  [126, 22, 37, 43, 93, 80, 51, 60, 106, 83, 69,...\n",
       "397  [126, 22, 37, 43, 93, 80, 51, 60, 106, 83, 69,...\n",
       "398  [126, 22, 37, 43, 93, 80, 51, 60, 106, 83, 69,...\n",
       "399  [126, 22, 37, 43, 93, 80, 51, 60, 106, 83, 69,...\n",
       "\n",
       "[400 rows x 1 columns]"
      ]
     },
     "execution_count": 60,
     "metadata": {},
     "output_type": "execute_result"
    }
   ],
   "source": [
    "topNDF = pd.DataFrame([hashList])\n",
    "#highFreqDF['Pam Key'] = pd.DataFrame([hashListHighFreq])\n",
    "\n",
    "topNDF=topNDF.transpose()\n",
    "topNDF"
   ]
  },
  {
   "cell_type": "code",
   "execution_count": 61,
   "metadata": {},
   "outputs": [
    {
     "name": "stdout",
     "output_type": "stream",
     "text": [
      "******* auth is ******  Breitbart News\n",
      "******* auth is ******  Pam Key\n",
      "******* auth is ******  Charlie Spiering\n",
      "******* auth is ******  Jerome Hudson\n",
      "******* auth is ******  John Hayward\n",
      "******* auth is ******  Daniel Nussbaum\n",
      "******* auth is ******  AWR Hawkins\n",
      "******* auth is ******  Ian Hanchett\n",
      "******* auth is ******  Joel B. Pollak\n",
      "******* auth is ******  Alex Swoyer\n",
      "******* auth is ******  Warner Todd Huston\n",
      "******* auth is ******  Jeff Poor\n",
      "******* auth is ******  Trent Baker\n",
      "******* auth is ******  Breitbart London\n",
      "******* auth is ******  Katherine Rodriguez\n",
      "******* auth is ******  Charlie Nash\n",
      "******* auth is ******  Ben Kew\n",
      "******* auth is ******  Frances Martel\n",
      "******* auth is ******  Bob Price\n",
      "******* auth is ******  Dr. Susan Berry\n"
     ]
    }
   ],
   "source": [
    "# Tokenization of words X test\n",
    "\n",
    "from keras.preprocessing.text import hashing_trick\n",
    "from keras.preprocessing.text import text_to_word_sequence\n",
    "\n",
    "vocSizeListTopNXtest= []\n",
    "hashListTopNXtest=[]\n",
    "\n",
    "text = ''\n",
    "\n",
    "for auth in topNwordstest.index:\n",
    "       \n",
    "        print(\"******* auth is ****** \", auth)\n",
    "        for line in topNwordstest.values:\n",
    "                    #for i in range(0,len(topNwordstrain.values)):\n",
    "                    text = text + ' ' + str(line)\n",
    "\n",
    "                    seq_words = set(text_to_word_sequence(text))   \n",
    "                    vocab_size = len(seq_words)\n",
    "                    vocSizeListTopNXtest.append(vocab_size)\n",
    "\n",
    "                    result = hashing_trick(text, round(vocab_size*2), hash_function='md5')\n",
    "                    hashListTopNXtest.append(result)"
   ]
  },
  {
   "cell_type": "code",
   "execution_count": 65,
   "metadata": {},
   "outputs": [
    {
     "data": {
      "text/html": [
       "<div>\n",
       "<style scoped>\n",
       "    .dataframe tbody tr th:only-of-type {\n",
       "        vertical-align: middle;\n",
       "    }\n",
       "\n",
       "    .dataframe tbody tr th {\n",
       "        vertical-align: top;\n",
       "    }\n",
       "\n",
       "    .dataframe thead th {\n",
       "        text-align: right;\n",
       "    }\n",
       "</style>\n",
       "<table border=\"1\" class=\"dataframe\">\n",
       "  <thead>\n",
       "    <tr style=\"text-align: right;\">\n",
       "      <th></th>\n",
       "      <th>0</th>\n",
       "    </tr>\n",
       "  </thead>\n",
       "  <tbody>\n",
       "    <tr>\n",
       "      <th>0</th>\n",
       "      <td>[30, 27, 22, 27, 32, 33, 36, 13, 25, 6, 34, 24...</td>\n",
       "    </tr>\n",
       "    <tr>\n",
       "      <th>1</th>\n",
       "      <td>[9, 10, 12, 19, 38, 26, 32, 37, 40, 11, 40, 19...</td>\n",
       "    </tr>\n",
       "    <tr>\n",
       "      <th>2</th>\n",
       "      <td>[39, 15, 25, 30, 38, 21, 45, 28, 28, 3, 40, 6,...</td>\n",
       "    </tr>\n",
       "    <tr>\n",
       "      <th>3</th>\n",
       "      <td>[40, 27, 35, 18, 45, 36, 47, 42, 36, 20, 15, 2...</td>\n",
       "    </tr>\n",
       "    <tr>\n",
       "      <th>4</th>\n",
       "      <td>[44, 32, 1, 47, 31, 18, 44, 16, 10, 10, 34, 31...</td>\n",
       "    </tr>\n",
       "    <tr>\n",
       "      <th>...</th>\n",
       "      <td>...</td>\n",
       "    </tr>\n",
       "    <tr>\n",
       "      <th>395</th>\n",
       "      <td>[9, 56, 21, 46, 1, 40, 65, 59, 5, 33, 13, 43, ...</td>\n",
       "    </tr>\n",
       "    <tr>\n",
       "      <th>396</th>\n",
       "      <td>[9, 56, 21, 46, 1, 40, 65, 59, 5, 33, 13, 43, ...</td>\n",
       "    </tr>\n",
       "    <tr>\n",
       "      <th>397</th>\n",
       "      <td>[9, 56, 21, 46, 1, 40, 65, 59, 5, 33, 13, 43, ...</td>\n",
       "    </tr>\n",
       "    <tr>\n",
       "      <th>398</th>\n",
       "      <td>[9, 56, 21, 46, 1, 40, 65, 59, 5, 33, 13, 43, ...</td>\n",
       "    </tr>\n",
       "    <tr>\n",
       "      <th>399</th>\n",
       "      <td>[9, 56, 21, 46, 1, 40, 65, 59, 5, 33, 13, 43, ...</td>\n",
       "    </tr>\n",
       "  </tbody>\n",
       "</table>\n",
       "<p>400 rows × 1 columns</p>\n",
       "</div>"
      ],
      "text/plain": [
       "                                                     0\n",
       "0    [30, 27, 22, 27, 32, 33, 36, 13, 25, 6, 34, 24...\n",
       "1    [9, 10, 12, 19, 38, 26, 32, 37, 40, 11, 40, 19...\n",
       "2    [39, 15, 25, 30, 38, 21, 45, 28, 28, 3, 40, 6,...\n",
       "3    [40, 27, 35, 18, 45, 36, 47, 42, 36, 20, 15, 2...\n",
       "4    [44, 32, 1, 47, 31, 18, 44, 16, 10, 10, 34, 31...\n",
       "..                                                 ...\n",
       "395  [9, 56, 21, 46, 1, 40, 65, 59, 5, 33, 13, 43, ...\n",
       "396  [9, 56, 21, 46, 1, 40, 65, 59, 5, 33, 13, 43, ...\n",
       "397  [9, 56, 21, 46, 1, 40, 65, 59, 5, 33, 13, 43, ...\n",
       "398  [9, 56, 21, 46, 1, 40, 65, 59, 5, 33, 13, 43, ...\n",
       "399  [9, 56, 21, 46, 1, 40, 65, 59, 5, 33, 13, 43, ...\n",
       "\n",
       "[400 rows x 1 columns]"
      ]
     },
     "execution_count": 65,
     "metadata": {},
     "output_type": "execute_result"
    }
   ],
   "source": [
    "test_string_new = hashListTopNXtest\n",
    "test_string_new\n",
    "\n",
    "for elem in test_string_new:\n",
    "    #print(elem)\n",
    "    elem = str(elem)\n",
    "    #print(type(elem))\n",
    "    \n",
    "topNDFXtest = pd.DataFrame([hashListTopNXtest])\n",
    "#highFreqDF['Pam Key'] = pd.DataFrame([hashListHighFreq])\n",
    "\n",
    "topNDFXtest=topNDFXtest.transpose()\n",
    "topNDFXtest\n"
   ]
  },
  {
   "cell_type": "code",
   "execution_count": 64,
   "metadata": {},
   "outputs": [
    {
     "name": "stdout",
     "output_type": "stream",
     "text": [
      "******* auth is ******  Breitbart News\n",
      "******* auth is ******  Pam Key\n",
      "******* auth is ******  Charlie Spiering\n",
      "******* auth is ******  Jerome Hudson\n",
      "******* auth is ******  John Hayward\n",
      "******* auth is ******  Daniel Nussbaum\n",
      "******* auth is ******  AWR Hawkins\n",
      "******* auth is ******  Ian Hanchett\n",
      "******* auth is ******  Joel B. Pollak\n",
      "******* auth is ******  Alex Swoyer\n",
      "******* auth is ******  Warner Todd Huston\n",
      "******* auth is ******  Jeff Poor\n",
      "******* auth is ******  Trent Baker\n",
      "******* auth is ******  Breitbart London\n",
      "******* auth is ******  Katherine Rodriguez\n",
      "******* auth is ******  Charlie Nash\n",
      "******* auth is ******  Ben Kew\n",
      "******* auth is ******  Frances Martel\n",
      "******* auth is ******  Bob Price\n",
      "******* auth is ******  Dr. Susan Berry\n"
     ]
    }
   ],
   "source": [
    "# Tokenization of words y train\n",
    "\n",
    "from keras.preprocessing.text import hashing_trick\n",
    "from keras.preprocessing.text import text_to_word_sequence\n",
    "\n",
    "vocSizeListytrain= []\n",
    "hashListytrain=[]\n",
    "\n",
    "text = ''\n",
    "\n",
    "for auth in topNwordstest.index:\n",
    "       \n",
    "        print(\"******* auth is ****** \", auth)\n",
    "        for line in topNwordstrain.index:\n",
    "                    #for i in range(0,len(topNwordstrain.values)):\n",
    "                    text = text + ' ' + str(line)\n",
    "\n",
    "                    seq_words = set(text_to_word_sequence(text))   \n",
    "                    vocab_size = len(seq_words)\n",
    "                    vocSizeListytrain.append(vocab_size)\n",
    "\n",
    "                    result = hashing_trick(text, round(vocab_size*2), hash_function='md5')\n",
    "                    hashListytrain.append(result)"
   ]
  },
  {
   "cell_type": "code",
   "execution_count": 67,
   "metadata": {},
   "outputs": [
    {
     "data": {
      "text/html": [
       "<div>\n",
       "<style scoped>\n",
       "    .dataframe tbody tr th:only-of-type {\n",
       "        vertical-align: middle;\n",
       "    }\n",
       "\n",
       "    .dataframe tbody tr th {\n",
       "        vertical-align: top;\n",
       "    }\n",
       "\n",
       "    .dataframe thead th {\n",
       "        text-align: right;\n",
       "    }\n",
       "</style>\n",
       "<table border=\"1\" class=\"dataframe\">\n",
       "  <thead>\n",
       "    <tr style=\"text-align: right;\">\n",
       "      <th></th>\n",
       "      <th>0</th>\n",
       "    </tr>\n",
       "  </thead>\n",
       "  <tbody>\n",
       "    <tr>\n",
       "      <th>0</th>\n",
       "      <td>[3, 2]</td>\n",
       "    </tr>\n",
       "    <tr>\n",
       "      <th>1</th>\n",
       "      <td>[6, 4, 2, 5]</td>\n",
       "    </tr>\n",
       "    <tr>\n",
       "      <th>2</th>\n",
       "      <td>[8, 7, 5, 1, 9, 7]</td>\n",
       "    </tr>\n",
       "    <tr>\n",
       "      <th>3</th>\n",
       "      <td>[12, 8, 7, 12, 4, 13, 7, 11]</td>\n",
       "    </tr>\n",
       "    <tr>\n",
       "      <th>4</th>\n",
       "      <td>[11, 17, 13, 4, 12, 14, 18, 18, 18, 13]</td>\n",
       "    </tr>\n",
       "    <tr>\n",
       "      <th>...</th>\n",
       "      <td>...</td>\n",
       "    </tr>\n",
       "    <tr>\n",
       "      <th>395</th>\n",
       "      <td>[24, 20, 13, 6, 4, 76, 52, 20, 14, 28, 42, 43,...</td>\n",
       "    </tr>\n",
       "    <tr>\n",
       "      <th>396</th>\n",
       "      <td>[24, 20, 13, 6, 4, 76, 52, 20, 14, 28, 42, 43,...</td>\n",
       "    </tr>\n",
       "    <tr>\n",
       "      <th>397</th>\n",
       "      <td>[24, 20, 13, 6, 4, 76, 52, 20, 14, 28, 42, 43,...</td>\n",
       "    </tr>\n",
       "    <tr>\n",
       "      <th>398</th>\n",
       "      <td>[24, 20, 13, 6, 4, 76, 52, 20, 14, 28, 42, 43,...</td>\n",
       "    </tr>\n",
       "    <tr>\n",
       "      <th>399</th>\n",
       "      <td>[24, 20, 13, 6, 4, 76, 52, 20, 14, 28, 42, 43,...</td>\n",
       "    </tr>\n",
       "  </tbody>\n",
       "</table>\n",
       "<p>400 rows × 1 columns</p>\n",
       "</div>"
      ],
      "text/plain": [
       "                                                     0\n",
       "0                                               [3, 2]\n",
       "1                                         [6, 4, 2, 5]\n",
       "2                                   [8, 7, 5, 1, 9, 7]\n",
       "3                         [12, 8, 7, 12, 4, 13, 7, 11]\n",
       "4              [11, 17, 13, 4, 12, 14, 18, 18, 18, 13]\n",
       "..                                                 ...\n",
       "395  [24, 20, 13, 6, 4, 76, 52, 20, 14, 28, 42, 43,...\n",
       "396  [24, 20, 13, 6, 4, 76, 52, 20, 14, 28, 42, 43,...\n",
       "397  [24, 20, 13, 6, 4, 76, 52, 20, 14, 28, 42, 43,...\n",
       "398  [24, 20, 13, 6, 4, 76, 52, 20, 14, 28, 42, 43,...\n",
       "399  [24, 20, 13, 6, 4, 76, 52, 20, 14, 28, 42, 43,...\n",
       "\n",
       "[400 rows x 1 columns]"
      ]
     },
     "execution_count": 67,
     "metadata": {},
     "output_type": "execute_result"
    }
   ],
   "source": [
    "test_string_new = hashListytrain\n",
    "test_string_new\n",
    "\n",
    "for elem in test_string_new:\n",
    "    #print(elem)\n",
    "    elem = str(elem)\n",
    "    #print(type(elem))\n",
    "    \n",
    "topNDFytrain = pd.DataFrame([hashListytrain])\n",
    "#highFreqDF['Pam Key'] = pd.DataFrame([hashListHighFreq])\n",
    "\n",
    "topNDFytrain=topNDFytrain.transpose()\n",
    "topNDFytrain"
   ]
  },
  {
   "cell_type": "code",
   "execution_count": 97,
   "metadata": {},
   "outputs": [
    {
     "data": {
      "text/plain": [
       "20"
      ]
     },
     "execution_count": 97,
     "metadata": {},
     "output_type": "execute_result"
    }
   ],
   "source": [
    "len(topNwordstest.index)"
   ]
  },
  {
   "cell_type": "code",
   "execution_count": 68,
   "metadata": {},
   "outputs": [
    {
     "name": "stdout",
     "output_type": "stream",
     "text": [
      "******* auth is ******  Breitbart News\n",
      "******* auth is ******  Pam Key\n",
      "******* auth is ******  Charlie Spiering\n",
      "******* auth is ******  Jerome Hudson\n",
      "******* auth is ******  John Hayward\n",
      "******* auth is ******  Daniel Nussbaum\n",
      "******* auth is ******  AWR Hawkins\n",
      "******* auth is ******  Ian Hanchett\n",
      "******* auth is ******  Joel B. Pollak\n",
      "******* auth is ******  Alex Swoyer\n",
      "******* auth is ******  Warner Todd Huston\n",
      "******* auth is ******  Jeff Poor\n",
      "******* auth is ******  Trent Baker\n",
      "******* auth is ******  Breitbart London\n",
      "******* auth is ******  Katherine Rodriguez\n",
      "******* auth is ******  Charlie Nash\n",
      "******* auth is ******  Ben Kew\n",
      "******* auth is ******  Frances Martel\n",
      "******* auth is ******  Bob Price\n",
      "******* auth is ******  Dr. Susan Berry\n"
     ]
    }
   ],
   "source": [
    "# Tokenization of words y test\n",
    "\n",
    "from keras.preprocessing.text import hashing_trick\n",
    "from keras.preprocessing.text import text_to_word_sequence\n",
    "\n",
    "vocSizeListytest= []\n",
    "hashListytest=[]\n",
    "\n",
    "text = ''\n",
    "\n",
    "for auth in topNwordstest.index:\n",
    "       \n",
    "        print(\"******* auth is ****** \", auth)\n",
    "        for line in topNwordstest.index:\n",
    "                    #for i in range(0,len(topNwordstrain.values)):\n",
    "                    text = text + ' ' + str(line)\n",
    "\n",
    "                    seq_words = set(text_to_word_sequence(text))   \n",
    "                    vocab_size = len(seq_words)\n",
    "                    vocSizeListytest.append(vocab_size)\n",
    "\n",
    "                    result = hashing_trick(text, round(vocab_size*2), hash_function='md5')\n",
    "                    hashListytest.append(result)"
   ]
  },
  {
   "cell_type": "code",
   "execution_count": 69,
   "metadata": {},
   "outputs": [
    {
     "data": {
      "text/html": [
       "<div>\n",
       "<style scoped>\n",
       "    .dataframe tbody tr th:only-of-type {\n",
       "        vertical-align: middle;\n",
       "    }\n",
       "\n",
       "    .dataframe tbody tr th {\n",
       "        vertical-align: top;\n",
       "    }\n",
       "\n",
       "    .dataframe thead th {\n",
       "        text-align: right;\n",
       "    }\n",
       "</style>\n",
       "<table border=\"1\" class=\"dataframe\">\n",
       "  <thead>\n",
       "    <tr style=\"text-align: right;\">\n",
       "      <th></th>\n",
       "      <th>0</th>\n",
       "    </tr>\n",
       "  </thead>\n",
       "  <tbody>\n",
       "    <tr>\n",
       "      <th>0</th>\n",
       "      <td>[3, 2]</td>\n",
       "    </tr>\n",
       "    <tr>\n",
       "      <th>1</th>\n",
       "      <td>[6, 4, 2, 5]</td>\n",
       "    </tr>\n",
       "    <tr>\n",
       "      <th>2</th>\n",
       "      <td>[8, 7, 5, 1, 9, 7]</td>\n",
       "    </tr>\n",
       "    <tr>\n",
       "      <th>3</th>\n",
       "      <td>[12, 8, 7, 12, 4, 13, 7, 11]</td>\n",
       "    </tr>\n",
       "    <tr>\n",
       "      <th>4</th>\n",
       "      <td>[11, 17, 13, 4, 12, 14, 18, 18, 18, 13]</td>\n",
       "    </tr>\n",
       "    <tr>\n",
       "      <th>...</th>\n",
       "      <td>...</td>\n",
       "    </tr>\n",
       "    <tr>\n",
       "      <th>395</th>\n",
       "      <td>[24, 20, 13, 6, 4, 76, 52, 20, 14, 28, 42, 43,...</td>\n",
       "    </tr>\n",
       "    <tr>\n",
       "      <th>396</th>\n",
       "      <td>[24, 20, 13, 6, 4, 76, 52, 20, 14, 28, 42, 43,...</td>\n",
       "    </tr>\n",
       "    <tr>\n",
       "      <th>397</th>\n",
       "      <td>[24, 20, 13, 6, 4, 76, 52, 20, 14, 28, 42, 43,...</td>\n",
       "    </tr>\n",
       "    <tr>\n",
       "      <th>398</th>\n",
       "      <td>[24, 20, 13, 6, 4, 76, 52, 20, 14, 28, 42, 43,...</td>\n",
       "    </tr>\n",
       "    <tr>\n",
       "      <th>399</th>\n",
       "      <td>[24, 20, 13, 6, 4, 76, 52, 20, 14, 28, 42, 43,...</td>\n",
       "    </tr>\n",
       "  </tbody>\n",
       "</table>\n",
       "<p>400 rows × 1 columns</p>\n",
       "</div>"
      ],
      "text/plain": [
       "                                                     0\n",
       "0                                               [3, 2]\n",
       "1                                         [6, 4, 2, 5]\n",
       "2                                   [8, 7, 5, 1, 9, 7]\n",
       "3                         [12, 8, 7, 12, 4, 13, 7, 11]\n",
       "4              [11, 17, 13, 4, 12, 14, 18, 18, 18, 13]\n",
       "..                                                 ...\n",
       "395  [24, 20, 13, 6, 4, 76, 52, 20, 14, 28, 42, 43,...\n",
       "396  [24, 20, 13, 6, 4, 76, 52, 20, 14, 28, 42, 43,...\n",
       "397  [24, 20, 13, 6, 4, 76, 52, 20, 14, 28, 42, 43,...\n",
       "398  [24, 20, 13, 6, 4, 76, 52, 20, 14, 28, 42, 43,...\n",
       "399  [24, 20, 13, 6, 4, 76, 52, 20, 14, 28, 42, 43,...\n",
       "\n",
       "[400 rows x 1 columns]"
      ]
     },
     "execution_count": 69,
     "metadata": {},
     "output_type": "execute_result"
    }
   ],
   "source": [
    "test_string_new = hashListytest\n",
    "test_string_new\n",
    "\n",
    "for elem in test_string_new:\n",
    "    #print(elem)\n",
    "    elem = str(elem)\n",
    "    #print(type(elem))\n",
    "    \n",
    "topNDFytest = pd.DataFrame([hashListytest])\n",
    "#highFreqDF['Pam Key'] = pd.DataFrame([hashListHighFreq])\n",
    "\n",
    "topNDFytest=topNDFytest.transpose()\n",
    "topNDFytest"
   ]
  },
  {
   "cell_type": "code",
   "execution_count": 101,
   "metadata": {},
   "outputs": [
    {
     "name": "stdout",
     "output_type": "stream",
     "text": [
      "************ int32\n",
      "************ int32\n"
     ]
    }
   ],
   "source": [
    "blank1topn=[]\n",
    "\n",
    "for i in range(0,len(topNDF)):\n",
    "    for j in range(0, len(topNDF[0][i])):\n",
    "        x_train_arr = topNDF[0][i][j]\n",
    "        blank1topn.append(x_train_arr)\n",
    "\n",
    "#print(blank1)\n",
    "\n",
    "xTrain_arr = np.asarray(blank1topn)\n",
    "# print(\"************\", xTrain_arr.dtype)\n",
    "\n",
    "# # # # *****************************\n",
    "\n",
    "blank2topn=[]\n",
    "\n",
    "for j in range(0,len(topNDFytrain)):\n",
    "    for k in range(0, len(topNDFytrain[0][j])):\n",
    "        y_train_arr = topNDFytrain[0][j][k]\n",
    "        blank2topn.append(y_train_arr)\n",
    "\n",
    "yTrain_arr = np.asarray(blank2topn)\n",
    "# print(\"************\", yTrain_arr.dtype)\n",
    "\n",
    "# # *****************************\n",
    "        \n",
    "blank3topn=[]\n",
    "\n",
    "topNDFXtest = topNDFXtest.transpose()\n",
    "\n",
    "for i in range(0,len(topNDFXtest)):\n",
    "    for j in range(0, len(topNDFXtest[0][i])):\n",
    "        x_test_arr = topNDFXtest[0][i][0]\n",
    "        blank3topn.append(x_test_arr)\n",
    "\n",
    "x_test_arr = np.asarray(blank3topn)\n",
    "print(\"************\", x_test_arr.dtype)\n",
    "\n",
    "# # # # *****************************\n",
    "\n",
    "blank4topn=[]\n",
    "\n",
    "for j in range(0,len(topNDFytest)):\n",
    "    for k in range(0, len(topNDFytest[0][j])):\n",
    "        y_test_arr = topNDFytest[0][j][k]\n",
    "        blank4topn.append(y_test_arr)\n",
    "        \n",
    "y_test_arr = np.asarray(blank4topn) \n",
    "print(\"************\", y_test_arr.dtype)\n",
    "\n",
    "# # # # ************************"
   ]
  },
  {
   "cell_type": "code",
   "execution_count": 102,
   "metadata": {},
   "outputs": [
    {
     "data": {
      "text/html": [
       "<div>\n",
       "<style scoped>\n",
       "    .dataframe tbody tr th:only-of-type {\n",
       "        vertical-align: middle;\n",
       "    }\n",
       "\n",
       "    .dataframe tbody tr th {\n",
       "        vertical-align: top;\n",
       "    }\n",
       "\n",
       "    .dataframe thead th {\n",
       "        text-align: right;\n",
       "    }\n",
       "</style>\n",
       "<table border=\"1\" class=\"dataframe\">\n",
       "  <thead>\n",
       "    <tr style=\"text-align: right;\">\n",
       "      <th></th>\n",
       "      <th>0</th>\n",
       "    </tr>\n",
       "  </thead>\n",
       "  <tbody>\n",
       "    <tr>\n",
       "      <th>0</th>\n",
       "      <td>[30, 27, 22, 27, 32, 33, 36, 13, 25, 6, 34, 24...</td>\n",
       "    </tr>\n",
       "    <tr>\n",
       "      <th>1</th>\n",
       "      <td>[9, 10, 12, 19, 38, 26, 32, 37, 40, 11, 40, 19...</td>\n",
       "    </tr>\n",
       "    <tr>\n",
       "      <th>2</th>\n",
       "      <td>[39, 15, 25, 30, 38, 21, 45, 28, 28, 3, 40, 6,...</td>\n",
       "    </tr>\n",
       "    <tr>\n",
       "      <th>3</th>\n",
       "      <td>[40, 27, 35, 18, 45, 36, 47, 42, 36, 20, 15, 2...</td>\n",
       "    </tr>\n",
       "    <tr>\n",
       "      <th>4</th>\n",
       "      <td>[44, 32, 1, 47, 31, 18, 44, 16, 10, 10, 34, 31...</td>\n",
       "    </tr>\n",
       "    <tr>\n",
       "      <th>...</th>\n",
       "      <td>...</td>\n",
       "    </tr>\n",
       "    <tr>\n",
       "      <th>395</th>\n",
       "      <td>[9, 56, 21, 46, 1, 40, 65, 59, 5, 33, 13, 43, ...</td>\n",
       "    </tr>\n",
       "    <tr>\n",
       "      <th>396</th>\n",
       "      <td>[9, 56, 21, 46, 1, 40, 65, 59, 5, 33, 13, 43, ...</td>\n",
       "    </tr>\n",
       "    <tr>\n",
       "      <th>397</th>\n",
       "      <td>[9, 56, 21, 46, 1, 40, 65, 59, 5, 33, 13, 43, ...</td>\n",
       "    </tr>\n",
       "    <tr>\n",
       "      <th>398</th>\n",
       "      <td>[9, 56, 21, 46, 1, 40, 65, 59, 5, 33, 13, 43, ...</td>\n",
       "    </tr>\n",
       "    <tr>\n",
       "      <th>399</th>\n",
       "      <td>[9, 56, 21, 46, 1, 40, 65, 59, 5, 33, 13, 43, ...</td>\n",
       "    </tr>\n",
       "  </tbody>\n",
       "</table>\n",
       "<p>400 rows × 1 columns</p>\n",
       "</div>"
      ],
      "text/plain": [
       "                                                     0\n",
       "0    [30, 27, 22, 27, 32, 33, 36, 13, 25, 6, 34, 24...\n",
       "1    [9, 10, 12, 19, 38, 26, 32, 37, 40, 11, 40, 19...\n",
       "2    [39, 15, 25, 30, 38, 21, 45, 28, 28, 3, 40, 6,...\n",
       "3    [40, 27, 35, 18, 45, 36, 47, 42, 36, 20, 15, 2...\n",
       "4    [44, 32, 1, 47, 31, 18, 44, 16, 10, 10, 34, 31...\n",
       "..                                                 ...\n",
       "395  [9, 56, 21, 46, 1, 40, 65, 59, 5, 33, 13, 43, ...\n",
       "396  [9, 56, 21, 46, 1, 40, 65, 59, 5, 33, 13, 43, ...\n",
       "397  [9, 56, 21, 46, 1, 40, 65, 59, 5, 33, 13, 43, ...\n",
       "398  [9, 56, 21, 46, 1, 40, 65, 59, 5, 33, 13, 43, ...\n",
       "399  [9, 56, 21, 46, 1, 40, 65, 59, 5, 33, 13, 43, ...\n",
       "\n",
       "[400 rows x 1 columns]"
      ]
     },
     "execution_count": 102,
     "metadata": {},
     "output_type": "execute_result"
    }
   ],
   "source": [
    "topNDFXtest"
   ]
  },
  {
   "cell_type": "code",
   "execution_count": 127,
   "metadata": {},
   "outputs": [
    {
     "data": {
      "text/html": [
       "<div>\n",
       "<style scoped>\n",
       "    .dataframe tbody tr th:only-of-type {\n",
       "        vertical-align: middle;\n",
       "    }\n",
       "\n",
       "    .dataframe tbody tr th {\n",
       "        vertical-align: top;\n",
       "    }\n",
       "\n",
       "    .dataframe thead th {\n",
       "        text-align: right;\n",
       "    }\n",
       "</style>\n",
       "<table border=\"1\" class=\"dataframe\">\n",
       "  <thead>\n",
       "    <tr style=\"text-align: right;\">\n",
       "      <th></th>\n",
       "      <th>0</th>\n",
       "    </tr>\n",
       "  </thead>\n",
       "  <tbody>\n",
       "  </tbody>\n",
       "</table>\n",
       "</div>"
      ],
      "text/plain": [
       "Empty DataFrame\n",
       "Columns: [0]\n",
       "Index: []"
      ]
     },
     "execution_count": 127,
     "metadata": {},
     "output_type": "execute_result"
    }
   ],
   "source": []
  },
  {
   "cell_type": "code",
   "execution_count": null,
   "metadata": {},
   "outputs": [],
   "source": []
  },
  {
   "cell_type": "code",
   "execution_count": null,
   "metadata": {},
   "outputs": [],
   "source": []
  },
  {
   "cell_type": "code",
   "execution_count": 134,
   "metadata": {},
   "outputs": [
    {
     "ename": "NameError",
     "evalue": "name 'backupdf' is not defined",
     "output_type": "error",
     "traceback": [
      "\u001b[1;31m---------------------------------------------------------------------------\u001b[0m",
      "\u001b[1;31mNameError\u001b[0m                                 Traceback (most recent call last)",
      "\u001b[1;32m<ipython-input-134-0e6dfe8b83bb>\u001b[0m in \u001b[0;36m<module>\u001b[1;34m\u001b[0m\n\u001b[1;32m----> 1\u001b[1;33m \u001b[0mbackupdf\u001b[0m\u001b[1;33m\u001b[0m\u001b[1;33m\u001b[0m\u001b[0m\n\u001b[0m",
      "\u001b[1;31mNameError\u001b[0m: name 'backupdf' is not defined"
     ]
    }
   ],
   "source": [
    "backupdf"
   ]
  },
  {
   "cell_type": "markdown",
   "metadata": {},
   "source": [
    "### Character n grams "
   ]
  },
  {
   "cell_type": "markdown",
   "metadata": {},
   "source": [
    "#### 2-gram  | 5 grams | 10 grams | Remove the words that have length < 2"
   ]
  },
  {
   "cell_type": "code",
   "execution_count": 27,
   "metadata": {},
   "outputs": [],
   "source": [
    "twogramAuth={}\n",
    "fivegramAuth={}\n",
    "tengramAuth={}\n",
    "fivegramAuth1={}\n",
    "for auth in top20.index:\n",
    "    trial = groupedDF.get_group(auth)\n",
    "    wordList=[]\n",
    "    \n",
    "    for line in trial.content:\n",
    "            wordList = line.split(\" \")\n",
    "            for word in wordList:\n",
    "                # Remove \n",
    "                if len(word)<2:\n",
    "                    #print(\"\\n***\\n word is \", word, \" and length is :\",len(word))\n",
    "                    line.lstrip(word)\n",
    "                    #lineSeq = t.texts_to_sequences(line)\n",
    "                    \n",
    "            # assign these 2, 5 and 10 gram characters to authors.\n",
    "            \n",
    "            # word 2 grams\n",
    "            twoGram = [line[i:i+2] for i in range(len(line)-1)]\n",
    " \n",
    "#             if auth not in twogramAuth:\n",
    "#                 twogramAuth[auth] = twoGram\n",
    "#                 #print(\"\\n*** Auth is \", auth, \"not in 2gram, adding..\\n\")\n",
    "#             else:\n",
    "#                 twogramAuth[auth].append(twoGram)\n",
    "#                 #print(\"\\n*** Auth is \", auth, \"in 2gram, appending..\\n\")\n",
    "                \n",
    "            #word 5 grams\n",
    "            fiveGram = [line[i:i+5] for i in range(len(line)-1)]\n",
    "            \n",
    "            if auth not in fivegramAuth:\n",
    "                fivegramAuth[auth] = fiveGram[:1000]\n",
    "                fivegramAuth1[auth] = fiveGram[1001:]\n",
    "            else:\n",
    "                fivegramAuth[auth].append(fiveGram)\n",
    "                fivegramAuth1[auth].append(fiveGram)\n",
    "#             # word 10 grams\n",
    "#             tenGram = [line[i:i+10] for i in range(len(line)-1)]\n",
    "            \n",
    "#             if auth not in tengramAuth:\n",
    "#                 tengramAuth[auth] = tenGram\n",
    "#             else:\n",
    "#                 tengramAuth[auth].append(tenGram)\n"
   ]
  },
  {
   "cell_type": "code",
   "execution_count": 24,
   "metadata": {},
   "outputs": [
    {
     "data": {
      "text/plain": [
       "1859"
      ]
     },
     "execution_count": 24,
     "metadata": {},
     "output_type": "execute_result"
    }
   ],
   "source": []
  },
  {
   "cell_type": "markdown",
   "metadata": {},
   "source": [
    "#### character 5 grams"
   ]
  },
  {
   "cell_type": "code",
   "execution_count": 28,
   "metadata": {
    "scrolled": true
   },
   "outputs": [
    {
     "data": {
      "text/plain": [
       "Breitbart News         [Advoc, dvoca, vocat, ocate, cates, ates , tes...\n",
       "Pam Key                [Sunda, unday, nday , day o, ay on, y on ,  on...\n",
       "Charlie Spiering       [Presi, resid, eside, siden, ident, dent , ent...\n",
       "Jerome Hudson          [A gro,  grou, group, roup , oup o, up of, p o...\n",
       "John Hayward           [Rep. , ep. P, p. Ph, . Phi,  Phil, Phil , hil...\n",
       "Daniel Nussbaum        [Jerry, erry , rry S, ry Se, y Sei,  Sein, Sei...\n",
       "AWR Hawkins            [Illeg, llega, legal, egal , gal a, al al, l a...\n",
       "Ian Hanchett           [On Tu, n Tue,  Tues, Tuesd, uesda, esday, sda...\n",
       "Joel B. Pollak         [Gold , old S, ld St, d Sta,  Star, Star , tar...\n",
       "Alex Swoyer            [  Don,  Dona, Donal, onald, nald , ald T, ld ...\n",
       "Warner Todd Huston     [Kello, ellog, llogg, logg , ogg C, gg Co, g C...\n",
       "Jeff Poor              [.@tom, @tomb, tombr, ombro, mbrok, broka, rok...\n",
       "Trent Baker            [Tuesd, uesda, esday, sday , day o, ay on, y o...\n",
       "Breitbart London       [LONDO, ONDON, NDON , DON (, ON (A, N (AP,  (A...\n",
       "Katherine Rodriguez    [A gro,  grou, group, roup , oup o, up of, p o...\n",
       "Charlie Nash           [Breit, reitb, eitba, itbar, tbart, bart , art...\n",
       "Ben Kew                [Two h, wo he, o hel,  heli, helic, elico, lic...\n",
       "Frances Martel         [The C, he Ch, e Chi,  Chin, Chine, hines, ine...\n",
       "Bob Price              [A new,  new , new v, ew vi, w vid,  vide, vid...\n",
       "Dr. Susan Berry        [Drug , rug s, ug st, g sto,  stoc, stock, toc...\n",
       "dtype: object"
      ]
     },
     "execution_count": 28,
     "metadata": {},
     "output_type": "execute_result"
    }
   ],
   "source": [
    "fivegramDF1 = pd.Series(fivegramAuth1)\n",
    "fivegramDF1\n",
    "\n",
    "fivegramDF = pd.Series(fivegramAuth)\n",
    "fivegramDF"
   ]
  },
  {
   "cell_type": "markdown",
   "metadata": {},
   "source": [
    "### char 5 gram model run"
   ]
  },
  {
   "cell_type": "code",
   "execution_count": null,
   "metadata": {},
   "outputs": [],
   "source": [
    "fivegramDF1.values"
   ]
  },
  {
   "cell_type": "code",
   "execution_count": null,
   "metadata": {},
   "outputs": [],
   "source": []
  },
  {
   "cell_type": "code",
   "execution_count": null,
   "metadata": {},
   "outputs": [],
   "source": []
  },
  {
   "cell_type": "code",
   "execution_count": null,
   "metadata": {},
   "outputs": [],
   "source": []
  },
  {
   "cell_type": "code",
   "execution_count": null,
   "metadata": {},
   "outputs": [],
   "source": []
  },
  {
   "cell_type": "code",
   "execution_count": null,
   "metadata": {},
   "outputs": [],
   "source": []
  },
  {
   "cell_type": "code",
   "execution_count": null,
   "metadata": {},
   "outputs": [],
   "source": []
  },
  {
   "cell_type": "code",
   "execution_count": null,
   "metadata": {},
   "outputs": [],
   "source": []
  },
  {
   "cell_type": "code",
   "execution_count": null,
   "metadata": {},
   "outputs": [],
   "source": []
  },
  {
   "cell_type": "code",
   "execution_count": 52,
   "metadata": {},
   "outputs": [
    {
     "data": {
      "text/plain": [
       "Breitbart News         [Advocates , dvocates w, vocates wh, ocates wh...\n",
       "Pam Key                [Sunday on , unday on C, nday on CB, day on CB...\n",
       "Charlie Spiering       [President , resident D, esident Do, sident Do...\n",
       "Jerome Hudson          [A group of,  group of , group of H, roup of H...\n",
       "John Hayward           [Rep. Phil , ep. Phil R, p. Phil Ro, . Phil Ro...\n",
       "Daniel Nussbaum        [Jerry Sein, erry Seinf, rry Seinfe, ry Seinfe...\n",
       "AWR Hawkins            [Illegal al, llegal ali, legal alie, egal alie...\n",
       "Ian Hanchett           [On Tuesday, n Tuesday’,  Tuesday’s, Tuesday’s...\n",
       "Joel B. Pollak         [Gold Star , old Star f, ld Star fa, d Star fa...\n",
       "Alex Swoyer            [  Donald T,  Donald Tr, Donald Tru, onald Tru...\n",
       "Warner Todd Huston     [Kellogg Co, ellogg Com, llogg Comp, logg Comp...\n",
       "Jeff Poor              [.@tombroka, @tombrokaw, tombrokaw:, ombrokaw:...\n",
       "Trent Baker            [Tuesday on, uesday on , esday on F, sday on F...\n",
       "Breitbart London       [LONDON (AP, ONDON (AP), NDON (AP) , DON (AP) ...\n",
       "Katherine Rodriguez    [A group of,  group of , group of A, roup of A...\n",
       "Charlie Nash           [Breitbart , reitbart N, eitbart Ne, itbart Ne...\n",
       "Ben Kew                [Two helico, wo helicop, o helicopt,  helicopt...\n",
       "Frances Martel         [The Chines, he Chinese, e Chinese ,  Chinese ...\n",
       "Bob Price              [A new vide,  new video, new video , ew video ...\n",
       "Dr. Susan Berry        [Drug stock, rug stocks, ug stocks , g stocks ...\n",
       "dtype: object"
      ]
     },
     "execution_count": 52,
     "metadata": {},
     "output_type": "execute_result"
    }
   ],
   "source": [
    "tengramDF = pd.Series(tengramAuth)\n",
    "tengramDF"
   ]
  },
  {
   "cell_type": "code",
   "execution_count": 53,
   "metadata": {},
   "outputs": [
    {
     "data": {
      "text/plain": [
       "Breitbart News         [Ad, dv, vo, oc, ca, at, te, es, s ,  w, wh, h...\n",
       "Pam Key                [Su, un, nd, da, ay, y ,  o, on, n ,  C, CB, B...\n",
       "Charlie Spiering       [Pr, re, es, si, id, de, en, nt, t ,  D, Do, o...\n",
       "Jerome Hudson          [A ,  g, gr, ro, ou, up, p ,  o, of, f ,  H, H...\n",
       "John Hayward           [Re, ep, p., . ,  P, Ph, hi, il, l ,  R, Ro, o...\n",
       "Daniel Nussbaum        [Je, er, rr, ry, y ,  S, Se, ei, in, nf, fe, e...\n",
       "AWR Hawkins            [Il, ll, le, eg, ga, al, l ,  a, al, li, ie, e...\n",
       "Ian Hanchett           [On, n ,  T, Tu, ue, es, sd, da, ay, y’, ’s, s...\n",
       "Joel B. Pollak         [Go, ol, ld, d ,  S, St, ta, ar, r ,  f, fa, a...\n",
       "Alex Swoyer            [  ,  D, Do, on, na, al, ld, d ,  T, Tr, ru, u...\n",
       "Warner Todd Huston     [Ke, el, ll, lo, og, gg, g ,  C, Co, om, mp, p...\n",
       "Jeff Poor              [.@, @t, to, om, mb, br, ro, ok, ka, aw, w:, :...\n",
       "Trent Baker            [Tu, ue, es, sd, da, ay, y ,  o, on, n ,  F, F...\n",
       "Breitbart London       [LO, ON, ND, DO, ON, N ,  (, (A, AP, P), ) ,  ...\n",
       "Katherine Rodriguez    [A ,  g, gr, ro, ou, up, p ,  o, of, f ,  A, A...\n",
       "Charlie Nash           [Br, re, ei, it, tb, ba, ar, rt, t ,  N, Ne, e...\n",
       "Ben Kew                [Tw, wo, o ,  h, he, el, li, ic, co, op, pt, t...\n",
       "Frances Martel         [Th, he, e ,  C, Ch, hi, in, ne, es, se, e ,  ...\n",
       "Bob Price              [A ,  n, ne, ew, w ,  v, vi, id, de, eo, o ,  ...\n",
       "Dr. Susan Berry        [Dr, ru, ug, g ,  s, st, to, oc, ck, ks, s ,  ...\n",
       "dtype: object"
      ]
     },
     "execution_count": 53,
     "metadata": {},
     "output_type": "execute_result"
    }
   ],
   "source": [
    "twogramDF = pd.Series(twogramAuth)\n",
    "twogramDF"
   ]
  },
  {
   "cell_type": "code",
   "execution_count": 126,
   "metadata": {},
   "outputs": [
    {
     "data": {
      "text/html": [
       "<div>\n",
       "<style scoped>\n",
       "    .dataframe tbody tr th:only-of-type {\n",
       "        vertical-align: middle;\n",
       "    }\n",
       "\n",
       "    .dataframe tbody tr th {\n",
       "        vertical-align: top;\n",
       "    }\n",
       "\n",
       "    .dataframe thead th {\n",
       "        text-align: right;\n",
       "    }\n",
       "</style>\n",
       "<table border=\"1\" class=\"dataframe\">\n",
       "  <thead>\n",
       "    <tr style=\"text-align: right;\">\n",
       "      <th></th>\n",
       "    </tr>\n",
       "  </thead>\n",
       "  <tbody>\n",
       "  </tbody>\n",
       "</table>\n",
       "</div>"
      ],
      "text/plain": [
       "Empty DataFrame\n",
       "Columns: []\n",
       "Index: []"
      ]
     },
     "execution_count": 126,
     "metadata": {},
     "output_type": "execute_result"
    }
   ],
   "source": [
    "# To this DF topNwords, add negative words list and char n grams as columns\n",
    "\n",
    "topNwords2 = topNwordstrain\n",
    "topNwords2\n",
    "\n",
    "topNwords"
   ]
  },
  {
   "cell_type": "code",
   "execution_count": 36,
   "metadata": {},
   "outputs": [
    {
     "data": {
      "text/html": [
       "<div>\n",
       "<style scoped>\n",
       "    .dataframe tbody tr th:only-of-type {\n",
       "        vertical-align: middle;\n",
       "    }\n",
       "\n",
       "    .dataframe tbody tr th {\n",
       "        vertical-align: top;\n",
       "    }\n",
       "\n",
       "    .dataframe thead th {\n",
       "        text-align: right;\n",
       "    }\n",
       "</style>\n",
       "<table border=\"1\" class=\"dataframe\">\n",
       "  <thead>\n",
       "    <tr style=\"text-align: right;\">\n",
       "      <th></th>\n",
       "      <th>0</th>\n",
       "    </tr>\n",
       "  </thead>\n",
       "  <tbody>\n",
       "    <tr>\n",
       "      <th>Breitbart News</th>\n",
       "      <td>[second, ago, become, editor, voting, mainstre...</td>\n",
       "    </tr>\n",
       "    <tr>\n",
       "      <th>Pam Key</th>\n",
       "      <td>[’, writes, plan, ago, reporter, north, nevada...</td>\n",
       "    </tr>\n",
       "    <tr>\n",
       "      <th>Charlie Spiering</th>\n",
       "      <td>[information, north, bad, plan, line, love, we...</td>\n",
       "    </tr>\n",
       "    <tr>\n",
       "      <th>Jerome Hudson</th>\n",
       "      <td>[tells, conference, north, decision, keep, rep...</td>\n",
       "    </tr>\n",
       "    <tr>\n",
       "      <th>John Hayward</th>\n",
       "      <td>[book, updates, needs, meeting, clear, hard, c...</td>\n",
       "    </tr>\n",
       "    <tr>\n",
       "      <th>Daniel Nussbaum</th>\n",
       "      <td>[military, together, number, understand, islam...</td>\n",
       "    </tr>\n",
       "    <tr>\n",
       "      <th>AWR Hawkins</th>\n",
       "      <td>[few, rights, romney, woman, hard, officials, ...</td>\n",
       "    </tr>\n",
       "    <tr>\n",
       "      <th>Ian Hanchett</th>\n",
       "      <td>[illegal, officials, delegates, crowd, young, ...</td>\n",
       "    </tr>\n",
       "    <tr>\n",
       "      <th>Joel B. Pollak</th>\n",
       "      <td>[together, become, street, officials, reported...</td>\n",
       "    </tr>\n",
       "    <tr>\n",
       "      <th>Alex Swoyer</th>\n",
       "      <td>[officials, together, young, himself, understa...</td>\n",
       "    </tr>\n",
       "    <tr>\n",
       "      <th>Warner Todd Huston</th>\n",
       "      <td>[latest, himself, children, “it, young, i’ve, ...</td>\n",
       "    </tr>\n",
       "    <tr>\n",
       "      <th>Jeff Poor</th>\n",
       "      <td>[young, candidates, recent, “it, released, bec...</td>\n",
       "    </tr>\n",
       "    <tr>\n",
       "      <th>Trent Baker</th>\n",
       "      <td>[enough, “it, nomination, earlier, become, dis...</td>\n",
       "    </tr>\n",
       "    <tr>\n",
       "      <th>Breitbart London</th>\n",
       "      <td>[young, j, children, men, “it, become, bad, i’...</td>\n",
       "    </tr>\n",
       "    <tr>\n",
       "      <th>Katherine Rodriguez</th>\n",
       "      <td>[young, bad, saturday, children, i’ve, realdon...</td>\n",
       "    </tr>\n",
       "    <tr>\n",
       "      <th>Charlie Nash</th>\n",
       "      <td>[four, young, i’ve, found, children, become, “...</td>\n",
       "    </tr>\n",
       "    <tr>\n",
       "      <th>Ben Kew</th>\n",
       "      <td>[siriusxm, four, young, free, message, childre...</td>\n",
       "    </tr>\n",
       "    <tr>\n",
       "      <th>Frances Martel</th>\n",
       "      <td>[bush, paul, record, past, message, star, youn...</td>\n",
       "    </tr>\n",
       "    <tr>\n",
       "      <th>Bob Price</th>\n",
       "      <td>[record, star, message, across, community, you...</td>\n",
       "    </tr>\n",
       "    <tr>\n",
       "      <th>Dr. Susan Berry</th>\n",
       "      <td>[00, health, facebook, points, across, ryan, l...</td>\n",
       "    </tr>\n",
       "  </tbody>\n",
       "</table>\n",
       "</div>"
      ],
      "text/plain": [
       "                                                                     0\n",
       "Breitbart News       [second, ago, become, editor, voting, mainstre...\n",
       "Pam Key              [’, writes, plan, ago, reporter, north, nevada...\n",
       "Charlie Spiering     [information, north, bad, plan, line, love, we...\n",
       "Jerome Hudson        [tells, conference, north, decision, keep, rep...\n",
       "John Hayward         [book, updates, needs, meeting, clear, hard, c...\n",
       "Daniel Nussbaum      [military, together, number, understand, islam...\n",
       "AWR Hawkins          [few, rights, romney, woman, hard, officials, ...\n",
       "Ian Hanchett         [illegal, officials, delegates, crowd, young, ...\n",
       "Joel B. Pollak       [together, become, street, officials, reported...\n",
       "Alex Swoyer          [officials, together, young, himself, understa...\n",
       "Warner Todd Huston   [latest, himself, children, “it, young, i’ve, ...\n",
       "Jeff Poor            [young, candidates, recent, “it, released, bec...\n",
       "Trent Baker          [enough, “it, nomination, earlier, become, dis...\n",
       "Breitbart London     [young, j, children, men, “it, become, bad, i’...\n",
       "Katherine Rodriguez  [young, bad, saturday, children, i’ve, realdon...\n",
       "Charlie Nash         [four, young, i’ve, found, children, become, “...\n",
       "Ben Kew              [siriusxm, four, young, free, message, childre...\n",
       "Frances Martel       [bush, paul, record, past, message, star, youn...\n",
       "Bob Price            [record, star, message, across, community, you...\n",
       "Dr. Susan Berry      [00, health, facebook, points, across, ryan, l..."
      ]
     },
     "execution_count": 36,
     "metadata": {},
     "output_type": "execute_result"
    }
   ],
   "source": [
    "topNwords = topNwords.transpose()\n",
    "topNwords"
   ]
  },
  {
   "cell_type": "code",
   "execution_count": 118,
   "metadata": {},
   "outputs": [
    {
     "ename": "NameError",
     "evalue": "name 'twogramDF' is not defined",
     "output_type": "error",
     "traceback": [
      "\u001b[1;31m---------------------------------------------------------------------------\u001b[0m",
      "\u001b[1;31mNameError\u001b[0m                                 Traceback (most recent call last)",
      "\u001b[1;32m<ipython-input-118-9e22533c6111>\u001b[0m in \u001b[0;36m<module>\u001b[1;34m\u001b[0m\n\u001b[0;32m      1\u001b[0m \u001b[0mtopNwordsnew\u001b[0m \u001b[1;33m=\u001b[0m \u001b[0mtopNwords\u001b[0m\u001b[1;33m\u001b[0m\u001b[1;33m\u001b[0m\u001b[0m\n\u001b[1;32m----> 2\u001b[1;33m \u001b[0mtopNwordsnew\u001b[0m\u001b[1;33m[\u001b[0m\u001b[1;34m'char2gram'\u001b[0m\u001b[1;33m]\u001b[0m\u001b[1;33m=\u001b[0m \u001b[0mtwogramDF\u001b[0m\u001b[1;33m\u001b[0m\u001b[1;33m\u001b[0m\u001b[0m\n\u001b[0m\u001b[0;32m      3\u001b[0m \u001b[0mtopNwordsnew\u001b[0m\u001b[1;33m[\u001b[0m\u001b[1;34m'char5gram'\u001b[0m\u001b[1;33m]\u001b[0m\u001b[1;33m=\u001b[0m \u001b[0mfivegramDF\u001b[0m\u001b[1;33m\u001b[0m\u001b[1;33m\u001b[0m\u001b[0m\n\u001b[0;32m      4\u001b[0m \u001b[0mtopNwordsnew\u001b[0m\u001b[1;33m[\u001b[0m\u001b[1;34m'char10gram'\u001b[0m\u001b[1;33m]\u001b[0m\u001b[1;33m=\u001b[0m \u001b[0mtengramDF\u001b[0m\u001b[1;33m\u001b[0m\u001b[1;33m\u001b[0m\u001b[0m\n\u001b[0;32m      5\u001b[0m \u001b[1;33m\u001b[0m\u001b[0m\n",
      "\u001b[1;31mNameError\u001b[0m: name 'twogramDF' is not defined"
     ]
    }
   ],
   "source": [
    "topNwordsnew = topNwords\n",
    "topNwordsnew['char2gram']= twogramDF\n",
    "topNwordsnew['char5gram']= fivegramDF\n",
    "topNwordsnew['char10gram']= tengramDF\n",
    "\n"
   ]
  },
  {
   "cell_type": "code",
   "execution_count": 56,
   "metadata": {},
   "outputs": [
    {
     "data": {
      "text/html": [
       "<div>\n",
       "<style scoped>\n",
       "    .dataframe tbody tr th:only-of-type {\n",
       "        vertical-align: middle;\n",
       "    }\n",
       "\n",
       "    .dataframe tbody tr th {\n",
       "        vertical-align: top;\n",
       "    }\n",
       "\n",
       "    .dataframe thead th {\n",
       "        text-align: right;\n",
       "    }\n",
       "</style>\n",
       "<table border=\"1\" class=\"dataframe\">\n",
       "  <thead>\n",
       "    <tr style=\"text-align: right;\">\n",
       "      <th></th>\n",
       "      <th>High Freq Words</th>\n",
       "      <th>char2gram</th>\n",
       "      <th>char5gram</th>\n",
       "      <th>char10gram</th>\n",
       "    </tr>\n",
       "  </thead>\n",
       "  <tbody>\n",
       "    <tr>\n",
       "      <th>Breitbart News</th>\n",
       "      <td>[second, ago, become, editor, voting, mainstre...</td>\n",
       "      <td>[Ad, dv, vo, oc, ca, at, te, es, s ,  w, wh, h...</td>\n",
       "      <td>[Advoc, dvoca, vocat, ocate, cates, ates , tes...</td>\n",
       "      <td>[Advocates , dvocates w, vocates wh, ocates wh...</td>\n",
       "    </tr>\n",
       "    <tr>\n",
       "      <th>Pam Key</th>\n",
       "      <td>[’, writes, plan, ago, reporter, north, nevada...</td>\n",
       "      <td>[Su, un, nd, da, ay, y ,  o, on, n ,  C, CB, B...</td>\n",
       "      <td>[Sunda, unday, nday , day o, ay on, y on ,  on...</td>\n",
       "      <td>[Sunday on , unday on C, nday on CB, day on CB...</td>\n",
       "    </tr>\n",
       "    <tr>\n",
       "      <th>Charlie Spiering</th>\n",
       "      <td>[information, north, bad, plan, line, love, we...</td>\n",
       "      <td>[Pr, re, es, si, id, de, en, nt, t ,  D, Do, o...</td>\n",
       "      <td>[Presi, resid, eside, siden, ident, dent , ent...</td>\n",
       "      <td>[President , resident D, esident Do, sident Do...</td>\n",
       "    </tr>\n",
       "    <tr>\n",
       "      <th>Jerome Hudson</th>\n",
       "      <td>[tells, conference, north, decision, keep, rep...</td>\n",
       "      <td>[A ,  g, gr, ro, ou, up, p ,  o, of, f ,  H, H...</td>\n",
       "      <td>[A gro,  grou, group, roup , oup o, up of, p o...</td>\n",
       "      <td>[A group of,  group of , group of H, roup of H...</td>\n",
       "    </tr>\n",
       "    <tr>\n",
       "      <th>John Hayward</th>\n",
       "      <td>[book, updates, needs, meeting, clear, hard, c...</td>\n",
       "      <td>[Re, ep, p., . ,  P, Ph, hi, il, l ,  R, Ro, o...</td>\n",
       "      <td>[Rep. , ep. P, p. Ph, . Phi,  Phil, Phil , hil...</td>\n",
       "      <td>[Rep. Phil , ep. Phil R, p. Phil Ro, . Phil Ro...</td>\n",
       "    </tr>\n",
       "    <tr>\n",
       "      <th>Daniel Nussbaum</th>\n",
       "      <td>[military, together, number, understand, islam...</td>\n",
       "      <td>[Je, er, rr, ry, y ,  S, Se, ei, in, nf, fe, e...</td>\n",
       "      <td>[Jerry, erry , rry S, ry Se, y Sei,  Sein, Sei...</td>\n",
       "      <td>[Jerry Sein, erry Seinf, rry Seinfe, ry Seinfe...</td>\n",
       "    </tr>\n",
       "    <tr>\n",
       "      <th>AWR Hawkins</th>\n",
       "      <td>[few, rights, romney, woman, hard, officials, ...</td>\n",
       "      <td>[Il, ll, le, eg, ga, al, l ,  a, al, li, ie, e...</td>\n",
       "      <td>[Illeg, llega, legal, egal , gal a, al al, l a...</td>\n",
       "      <td>[Illegal al, llegal ali, legal alie, egal alie...</td>\n",
       "    </tr>\n",
       "    <tr>\n",
       "      <th>Ian Hanchett</th>\n",
       "      <td>[illegal, officials, delegates, crowd, young, ...</td>\n",
       "      <td>[On, n ,  T, Tu, ue, es, sd, da, ay, y’, ’s, s...</td>\n",
       "      <td>[On Tu, n Tue,  Tues, Tuesd, uesda, esday, sda...</td>\n",
       "      <td>[On Tuesday, n Tuesday’,  Tuesday’s, Tuesday’s...</td>\n",
       "    </tr>\n",
       "    <tr>\n",
       "      <th>Joel B. Pollak</th>\n",
       "      <td>[together, become, street, officials, reported...</td>\n",
       "      <td>[Go, ol, ld, d ,  S, St, ta, ar, r ,  f, fa, a...</td>\n",
       "      <td>[Gold , old S, ld St, d Sta,  Star, Star , tar...</td>\n",
       "      <td>[Gold Star , old Star f, ld Star fa, d Star fa...</td>\n",
       "    </tr>\n",
       "    <tr>\n",
       "      <th>Alex Swoyer</th>\n",
       "      <td>[officials, together, young, himself, understa...</td>\n",
       "      <td>[  ,  D, Do, on, na, al, ld, d ,  T, Tr, ru, u...</td>\n",
       "      <td>[  Don,  Dona, Donal, onald, nald , ald T, ld ...</td>\n",
       "      <td>[  Donald T,  Donald Tr, Donald Tru, onald Tru...</td>\n",
       "    </tr>\n",
       "    <tr>\n",
       "      <th>Warner Todd Huston</th>\n",
       "      <td>[latest, himself, children, “it, young, i’ve, ...</td>\n",
       "      <td>[Ke, el, ll, lo, og, gg, g ,  C, Co, om, mp, p...</td>\n",
       "      <td>[Kello, ellog, llogg, logg , ogg C, gg Co, g C...</td>\n",
       "      <td>[Kellogg Co, ellogg Com, llogg Comp, logg Comp...</td>\n",
       "    </tr>\n",
       "    <tr>\n",
       "      <th>Jeff Poor</th>\n",
       "      <td>[young, candidates, recent, “it, released, bec...</td>\n",
       "      <td>[.@, @t, to, om, mb, br, ro, ok, ka, aw, w:, :...</td>\n",
       "      <td>[.@tom, @tomb, tombr, ombro, mbrok, broka, rok...</td>\n",
       "      <td>[.@tombroka, @tombrokaw, tombrokaw:, ombrokaw:...</td>\n",
       "    </tr>\n",
       "    <tr>\n",
       "      <th>Trent Baker</th>\n",
       "      <td>[enough, “it, nomination, earlier, become, dis...</td>\n",
       "      <td>[Tu, ue, es, sd, da, ay, y ,  o, on, n ,  F, F...</td>\n",
       "      <td>[Tuesd, uesda, esday, sday , day o, ay on, y o...</td>\n",
       "      <td>[Tuesday on, uesday on , esday on F, sday on F...</td>\n",
       "    </tr>\n",
       "    <tr>\n",
       "      <th>Breitbart London</th>\n",
       "      <td>[young, j, children, men, “it, become, bad, i’...</td>\n",
       "      <td>[LO, ON, ND, DO, ON, N ,  (, (A, AP, P), ) ,  ...</td>\n",
       "      <td>[LONDO, ONDON, NDON , DON (, ON (A, N (AP,  (A...</td>\n",
       "      <td>[LONDON (AP, ONDON (AP), NDON (AP) , DON (AP) ...</td>\n",
       "    </tr>\n",
       "    <tr>\n",
       "      <th>Katherine Rodriguez</th>\n",
       "      <td>[young, bad, saturday, children, i’ve, realdon...</td>\n",
       "      <td>[A ,  g, gr, ro, ou, up, p ,  o, of, f ,  A, A...</td>\n",
       "      <td>[A gro,  grou, group, roup , oup o, up of, p o...</td>\n",
       "      <td>[A group of,  group of , group of A, roup of A...</td>\n",
       "    </tr>\n",
       "    <tr>\n",
       "      <th>Charlie Nash</th>\n",
       "      <td>[four, young, i’ve, found, children, become, “...</td>\n",
       "      <td>[Br, re, ei, it, tb, ba, ar, rt, t ,  N, Ne, e...</td>\n",
       "      <td>[Breit, reitb, eitba, itbar, tbart, bart , art...</td>\n",
       "      <td>[Breitbart , reitbart N, eitbart Ne, itbart Ne...</td>\n",
       "    </tr>\n",
       "    <tr>\n",
       "      <th>Ben Kew</th>\n",
       "      <td>[siriusxm, four, young, free, message, childre...</td>\n",
       "      <td>[Tw, wo, o ,  h, he, el, li, ic, co, op, pt, t...</td>\n",
       "      <td>[Two h, wo he, o hel,  heli, helic, elico, lic...</td>\n",
       "      <td>[Two helico, wo helicop, o helicopt,  helicopt...</td>\n",
       "    </tr>\n",
       "    <tr>\n",
       "      <th>Frances Martel</th>\n",
       "      <td>[bush, paul, record, past, message, star, youn...</td>\n",
       "      <td>[Th, he, e ,  C, Ch, hi, in, ne, es, se, e ,  ...</td>\n",
       "      <td>[The C, he Ch, e Chi,  Chin, Chine, hines, ine...</td>\n",
       "      <td>[The Chines, he Chinese, e Chinese ,  Chinese ...</td>\n",
       "    </tr>\n",
       "    <tr>\n",
       "      <th>Bob Price</th>\n",
       "      <td>[record, star, message, across, community, you...</td>\n",
       "      <td>[A ,  n, ne, ew, w ,  v, vi, id, de, eo, o ,  ...</td>\n",
       "      <td>[A new,  new , new v, ew vi, w vid,  vide, vid...</td>\n",
       "      <td>[A new vide,  new video, new video , ew video ...</td>\n",
       "    </tr>\n",
       "    <tr>\n",
       "      <th>Dr. Susan Berry</th>\n",
       "      <td>[00, health, facebook, points, across, ryan, l...</td>\n",
       "      <td>[Dr, ru, ug, g ,  s, st, to, oc, ck, ks, s ,  ...</td>\n",
       "      <td>[Drug , rug s, ug st, g sto,  stoc, stock, toc...</td>\n",
       "      <td>[Drug stock, rug stocks, ug stocks , g stocks ...</td>\n",
       "    </tr>\n",
       "  </tbody>\n",
       "</table>\n",
       "</div>"
      ],
      "text/plain": [
       "                                                       High Freq Words  \\\n",
       "Breitbart News       [second, ago, become, editor, voting, mainstre...   \n",
       "Pam Key              [’, writes, plan, ago, reporter, north, nevada...   \n",
       "Charlie Spiering     [information, north, bad, plan, line, love, we...   \n",
       "Jerome Hudson        [tells, conference, north, decision, keep, rep...   \n",
       "John Hayward         [book, updates, needs, meeting, clear, hard, c...   \n",
       "Daniel Nussbaum      [military, together, number, understand, islam...   \n",
       "AWR Hawkins          [few, rights, romney, woman, hard, officials, ...   \n",
       "Ian Hanchett         [illegal, officials, delegates, crowd, young, ...   \n",
       "Joel B. Pollak       [together, become, street, officials, reported...   \n",
       "Alex Swoyer          [officials, together, young, himself, understa...   \n",
       "Warner Todd Huston   [latest, himself, children, “it, young, i’ve, ...   \n",
       "Jeff Poor            [young, candidates, recent, “it, released, bec...   \n",
       "Trent Baker          [enough, “it, nomination, earlier, become, dis...   \n",
       "Breitbart London     [young, j, children, men, “it, become, bad, i’...   \n",
       "Katherine Rodriguez  [young, bad, saturday, children, i’ve, realdon...   \n",
       "Charlie Nash         [four, young, i’ve, found, children, become, “...   \n",
       "Ben Kew              [siriusxm, four, young, free, message, childre...   \n",
       "Frances Martel       [bush, paul, record, past, message, star, youn...   \n",
       "Bob Price            [record, star, message, across, community, you...   \n",
       "Dr. Susan Berry      [00, health, facebook, points, across, ryan, l...   \n",
       "\n",
       "                                                             char2gram  \\\n",
       "Breitbart News       [Ad, dv, vo, oc, ca, at, te, es, s ,  w, wh, h...   \n",
       "Pam Key              [Su, un, nd, da, ay, y ,  o, on, n ,  C, CB, B...   \n",
       "Charlie Spiering     [Pr, re, es, si, id, de, en, nt, t ,  D, Do, o...   \n",
       "Jerome Hudson        [A ,  g, gr, ro, ou, up, p ,  o, of, f ,  H, H...   \n",
       "John Hayward         [Re, ep, p., . ,  P, Ph, hi, il, l ,  R, Ro, o...   \n",
       "Daniel Nussbaum      [Je, er, rr, ry, y ,  S, Se, ei, in, nf, fe, e...   \n",
       "AWR Hawkins          [Il, ll, le, eg, ga, al, l ,  a, al, li, ie, e...   \n",
       "Ian Hanchett         [On, n ,  T, Tu, ue, es, sd, da, ay, y’, ’s, s...   \n",
       "Joel B. Pollak       [Go, ol, ld, d ,  S, St, ta, ar, r ,  f, fa, a...   \n",
       "Alex Swoyer          [  ,  D, Do, on, na, al, ld, d ,  T, Tr, ru, u...   \n",
       "Warner Todd Huston   [Ke, el, ll, lo, og, gg, g ,  C, Co, om, mp, p...   \n",
       "Jeff Poor            [.@, @t, to, om, mb, br, ro, ok, ka, aw, w:, :...   \n",
       "Trent Baker          [Tu, ue, es, sd, da, ay, y ,  o, on, n ,  F, F...   \n",
       "Breitbart London     [LO, ON, ND, DO, ON, N ,  (, (A, AP, P), ) ,  ...   \n",
       "Katherine Rodriguez  [A ,  g, gr, ro, ou, up, p ,  o, of, f ,  A, A...   \n",
       "Charlie Nash         [Br, re, ei, it, tb, ba, ar, rt, t ,  N, Ne, e...   \n",
       "Ben Kew              [Tw, wo, o ,  h, he, el, li, ic, co, op, pt, t...   \n",
       "Frances Martel       [Th, he, e ,  C, Ch, hi, in, ne, es, se, e ,  ...   \n",
       "Bob Price            [A ,  n, ne, ew, w ,  v, vi, id, de, eo, o ,  ...   \n",
       "Dr. Susan Berry      [Dr, ru, ug, g ,  s, st, to, oc, ck, ks, s ,  ...   \n",
       "\n",
       "                                                             char5gram  \\\n",
       "Breitbart News       [Advoc, dvoca, vocat, ocate, cates, ates , tes...   \n",
       "Pam Key              [Sunda, unday, nday , day o, ay on, y on ,  on...   \n",
       "Charlie Spiering     [Presi, resid, eside, siden, ident, dent , ent...   \n",
       "Jerome Hudson        [A gro,  grou, group, roup , oup o, up of, p o...   \n",
       "John Hayward         [Rep. , ep. P, p. Ph, . Phi,  Phil, Phil , hil...   \n",
       "Daniel Nussbaum      [Jerry, erry , rry S, ry Se, y Sei,  Sein, Sei...   \n",
       "AWR Hawkins          [Illeg, llega, legal, egal , gal a, al al, l a...   \n",
       "Ian Hanchett         [On Tu, n Tue,  Tues, Tuesd, uesda, esday, sda...   \n",
       "Joel B. Pollak       [Gold , old S, ld St, d Sta,  Star, Star , tar...   \n",
       "Alex Swoyer          [  Don,  Dona, Donal, onald, nald , ald T, ld ...   \n",
       "Warner Todd Huston   [Kello, ellog, llogg, logg , ogg C, gg Co, g C...   \n",
       "Jeff Poor            [.@tom, @tomb, tombr, ombro, mbrok, broka, rok...   \n",
       "Trent Baker          [Tuesd, uesda, esday, sday , day o, ay on, y o...   \n",
       "Breitbart London     [LONDO, ONDON, NDON , DON (, ON (A, N (AP,  (A...   \n",
       "Katherine Rodriguez  [A gro,  grou, group, roup , oup o, up of, p o...   \n",
       "Charlie Nash         [Breit, reitb, eitba, itbar, tbart, bart , art...   \n",
       "Ben Kew              [Two h, wo he, o hel,  heli, helic, elico, lic...   \n",
       "Frances Martel       [The C, he Ch, e Chi,  Chin, Chine, hines, ine...   \n",
       "Bob Price            [A new,  new , new v, ew vi, w vid,  vide, vid...   \n",
       "Dr. Susan Berry      [Drug , rug s, ug st, g sto,  stoc, stock, toc...   \n",
       "\n",
       "                                                            char10gram  \n",
       "Breitbart News       [Advocates , dvocates w, vocates wh, ocates wh...  \n",
       "Pam Key              [Sunday on , unday on C, nday on CB, day on CB...  \n",
       "Charlie Spiering     [President , resident D, esident Do, sident Do...  \n",
       "Jerome Hudson        [A group of,  group of , group of H, roup of H...  \n",
       "John Hayward         [Rep. Phil , ep. Phil R, p. Phil Ro, . Phil Ro...  \n",
       "Daniel Nussbaum      [Jerry Sein, erry Seinf, rry Seinfe, ry Seinfe...  \n",
       "AWR Hawkins          [Illegal al, llegal ali, legal alie, egal alie...  \n",
       "Ian Hanchett         [On Tuesday, n Tuesday’,  Tuesday’s, Tuesday’s...  \n",
       "Joel B. Pollak       [Gold Star , old Star f, ld Star fa, d Star fa...  \n",
       "Alex Swoyer          [  Donald T,  Donald Tr, Donald Tru, onald Tru...  \n",
       "Warner Todd Huston   [Kellogg Co, ellogg Com, llogg Comp, logg Comp...  \n",
       "Jeff Poor            [.@tombroka, @tombrokaw, tombrokaw:, ombrokaw:...  \n",
       "Trent Baker          [Tuesday on, uesday on , esday on F, sday on F...  \n",
       "Breitbart London     [LONDON (AP, ONDON (AP), NDON (AP) , DON (AP) ...  \n",
       "Katherine Rodriguez  [A group of,  group of , group of A, roup of A...  \n",
       "Charlie Nash         [Breitbart , reitbart N, eitbart Ne, itbart Ne...  \n",
       "Ben Kew              [Two helico, wo helicop, o helicopt,  helicopt...  \n",
       "Frances Martel       [The Chines, he Chinese, e Chinese ,  Chinese ...  \n",
       "Bob Price            [A new vide,  new video, new video , ew video ...  \n",
       "Dr. Susan Berry      [Drug stock, rug stocks, ug stocks , g stocks ...  "
      ]
     },
     "execution_count": 56,
     "metadata": {},
     "output_type": "execute_result"
    }
   ],
   "source": [
    "topNwordsnew = topNwordsnew.rename(columns={0:'High Freq Words'})\n",
    "topNwordsnew"
   ]
  },
  {
   "cell_type": "code",
   "execution_count": 57,
   "metadata": {},
   "outputs": [],
   "source": [
    "topNwordsnew['Negative markers'] = negSeries"
   ]
  },
  {
   "cell_type": "code",
   "execution_count": 58,
   "metadata": {},
   "outputs": [
    {
     "data": {
      "text/html": [
       "<div>\n",
       "<style scoped>\n",
       "    .dataframe tbody tr th:only-of-type {\n",
       "        vertical-align: middle;\n",
       "    }\n",
       "\n",
       "    .dataframe tbody tr th {\n",
       "        vertical-align: top;\n",
       "    }\n",
       "\n",
       "    .dataframe thead th {\n",
       "        text-align: right;\n",
       "    }\n",
       "</style>\n",
       "<table border=\"1\" class=\"dataframe\">\n",
       "  <thead>\n",
       "    <tr style=\"text-align: right;\">\n",
       "      <th></th>\n",
       "      <th>High Freq Words</th>\n",
       "      <th>char2gram</th>\n",
       "      <th>char5gram</th>\n",
       "      <th>char10gram</th>\n",
       "      <th>Negative markers</th>\n",
       "    </tr>\n",
       "  </thead>\n",
       "  <tbody>\n",
       "    <tr>\n",
       "      <th>Breitbart News</th>\n",
       "      <td>[second, ago, become, editor, voting, mainstre...</td>\n",
       "      <td>[Ad, dv, vo, oc, ca, at, te, es, s ,  w, wh, h...</td>\n",
       "      <td>[Advoc, dvoca, vocat, ocate, cates, ates , tes...</td>\n",
       "      <td>[Advocates , dvocates w, vocates wh, ocates wh...</td>\n",
       "      <td>[not, dead, pain, not, not, hurt, not, unsatis...</td>\n",
       "    </tr>\n",
       "    <tr>\n",
       "      <th>Pam Key</th>\n",
       "      <td>[’, writes, plan, ago, reporter, north, nevada...</td>\n",
       "      <td>[Su, un, nd, da, ay, y ,  o, on, n ,  C, CB, B...</td>\n",
       "      <td>[Sunda, unday, nday , day o, ay on, y on ,  on...</td>\n",
       "      <td>[Sunday on , unday on C, nday on CB, day on CB...</td>\n",
       "      <td>[not, mean, not, not, not, not, yell, not, yel...</td>\n",
       "    </tr>\n",
       "    <tr>\n",
       "      <th>Charlie Spiering</th>\n",
       "      <td>[information, north, bad, plan, line, love, we...</td>\n",
       "      <td>[Pr, re, es, si, id, de, en, nt, t ,  D, Do, o...</td>\n",
       "      <td>[Presi, resid, eside, siden, ident, dent , ent...</td>\n",
       "      <td>[President , resident D, esident Do, sident Do...</td>\n",
       "      <td>[not, no, not, reject, not, hate, hate, unhapp...</td>\n",
       "    </tr>\n",
       "    <tr>\n",
       "      <th>Jerome Hudson</th>\n",
       "      <td>[tells, conference, north, decision, keep, rep...</td>\n",
       "      <td>[A ,  g, gr, ro, ou, up, p ,  o, of, f ,  H, H...</td>\n",
       "      <td>[A gro,  grou, group, roup , oup o, up of, p o...</td>\n",
       "      <td>[A group of,  group of , group of H, roup of H...</td>\n",
       "      <td>[not, ignore, deny, crazy, no, not, not, not, ...</td>\n",
       "    </tr>\n",
       "    <tr>\n",
       "      <th>John Hayward</th>\n",
       "      <td>[book, updates, needs, meeting, clear, hard, c...</td>\n",
       "      <td>[Re, ep, p., . ,  P, Ph, hi, il, l ,  R, Ro, o...</td>\n",
       "      <td>[Rep. , ep. P, p. Ph, . Phi,  Phil, Phil , hil...</td>\n",
       "      <td>[Rep. Phil , ep. Phil R, p. Phil Ro, . Phil Ro...</td>\n",
       "      <td>[not, no, not, not, not, not, hard, not, hard,...</td>\n",
       "    </tr>\n",
       "    <tr>\n",
       "      <th>Daniel Nussbaum</th>\n",
       "      <td>[military, together, number, understand, islam...</td>\n",
       "      <td>[Je, er, rr, ry, y ,  S, Se, ei, in, nf, fe, e...</td>\n",
       "      <td>[Jerry, erry , rry S, ry Se, y Sei,  Sein, Sei...</td>\n",
       "      <td>[Jerry Sein, erry Seinf, rry Seinfe, ry Seinfe...</td>\n",
       "      <td>[bad, bad, bad, ignore, not, no, corrupt, neve...</td>\n",
       "    </tr>\n",
       "    <tr>\n",
       "      <th>AWR Hawkins</th>\n",
       "      <td>[few, rights, romney, woman, hard, officials, ...</td>\n",
       "      <td>[Il, ll, le, eg, ga, al, l ,  a, al, li, ie, e...</td>\n",
       "      <td>[Illeg, llega, legal, egal , gal a, al al, l a...</td>\n",
       "      <td>[Illegal al, llegal ali, legal alie, egal alie...</td>\n",
       "      <td>[upset, not, not, negative, no, no, suspect, s...</td>\n",
       "    </tr>\n",
       "    <tr>\n",
       "      <th>Ian Hanchett</th>\n",
       "      <td>[illegal, officials, delegates, crowd, young, ...</td>\n",
       "      <td>[On, n ,  T, Tu, ue, es, sd, da, ay, y’, ’s, s...</td>\n",
       "      <td>[On Tu, n Tue,  Tues, Tuesd, uesda, esday, sda...</td>\n",
       "      <td>[On Tuesday, n Tuesday’,  Tuesday’s, Tuesday’s...</td>\n",
       "      <td>[hard, no, not, hard, not, bad, not, not, not,...</td>\n",
       "    </tr>\n",
       "    <tr>\n",
       "      <th>Joel B. Pollak</th>\n",
       "      <td>[together, become, street, officials, reported...</td>\n",
       "      <td>[Go, ol, ld, d ,  S, St, ta, ar, r ,  f, fa, a...</td>\n",
       "      <td>[Gold , old S, ld St, d Sta,  Star, Star , tar...</td>\n",
       "      <td>[Gold Star , old Star f, ld Star fa, d Star fa...</td>\n",
       "      <td>[fear, not, no, damage, hard, not, not, not, p...</td>\n",
       "    </tr>\n",
       "    <tr>\n",
       "      <th>Alex Swoyer</th>\n",
       "      <td>[officials, together, young, himself, understa...</td>\n",
       "      <td>[  ,  D, Do, on, na, al, ld, d ,  T, Tr, ru, u...</td>\n",
       "      <td>[  Don,  Dona, Donal, onald, nald , ald T, ld ...</td>\n",
       "      <td>[  Donald T,  Donald Tr, Donald Tru, onald Tru...</td>\n",
       "      <td>[sad, not, not, poor, not, lose, no, not, not,...</td>\n",
       "    </tr>\n",
       "    <tr>\n",
       "      <th>Warner Todd Huston</th>\n",
       "      <td>[latest, himself, children, “it, young, i’ve, ...</td>\n",
       "      <td>[Ke, el, ll, lo, og, gg, g ,  C, Co, om, mp, p...</td>\n",
       "      <td>[Kello, ellog, llogg, logg , ogg C, gg Co, g C...</td>\n",
       "      <td>[Kellogg Co, ellogg Com, llogg Comp, logg Comp...</td>\n",
       "      <td>[impossible, not, not, no, never, not, not, no...</td>\n",
       "    </tr>\n",
       "    <tr>\n",
       "      <th>Jeff Poor</th>\n",
       "      <td>[young, candidates, recent, “it, released, bec...</td>\n",
       "      <td>[.@, @t, to, om, mb, br, ro, ok, ka, aw, w:, :...</td>\n",
       "      <td>[.@tom, @tomb, tombr, ombro, mbrok, broka, rok...</td>\n",
       "      <td>[.@tombroka, @tombrokaw, tombrokaw:, ombrokaw:...</td>\n",
       "      <td>[not, not, fight, not, not, evil, hate, terrib...</td>\n",
       "    </tr>\n",
       "    <tr>\n",
       "      <th>Trent Baker</th>\n",
       "      <td>[enough, “it, nomination, earlier, become, dis...</td>\n",
       "      <td>[Tu, ue, es, sd, da, ay, y ,  o, on, n ,  F, F...</td>\n",
       "      <td>[Tuesd, uesda, esday, sday , day o, ay on, y o...</td>\n",
       "      <td>[Tuesday on, uesday on , esday on F, sday on F...</td>\n",
       "      <td>[not, bad, missing, not, not, distress, lousy,...</td>\n",
       "    </tr>\n",
       "    <tr>\n",
       "      <th>Breitbart London</th>\n",
       "      <td>[young, j, children, men, “it, become, bad, i’...</td>\n",
       "      <td>[LO, ON, ND, DO, ON, N ,  (, (A, AP, P), ) ,  ...</td>\n",
       "      <td>[LONDO, ONDON, NDON , DON (, ON (A, N (AP,  (A...</td>\n",
       "      <td>[LONDON (AP, ONDON (AP), NDON (AP) , DON (AP) ...</td>\n",
       "      <td>[hate, no, hate, fail, hate, not, hard, not, q...</td>\n",
       "    </tr>\n",
       "    <tr>\n",
       "      <th>Katherine Rodriguez</th>\n",
       "      <td>[young, bad, saturday, children, i’ve, realdon...</td>\n",
       "      <td>[A ,  g, gr, ro, ou, up, p ,  o, of, f ,  A, A...</td>\n",
       "      <td>[A gro,  grou, group, roup , oup o, up of, p o...</td>\n",
       "      <td>[A group of,  group of , group of A, roup of A...</td>\n",
       "      <td>[spring, shocking, spring, not, spring, offens...</td>\n",
       "    </tr>\n",
       "    <tr>\n",
       "      <th>Charlie Nash</th>\n",
       "      <td>[four, young, i’ve, found, children, become, “...</td>\n",
       "      <td>[Br, re, ei, it, tb, ba, ar, rt, t ,  N, Ne, e...</td>\n",
       "      <td>[Breit, reitb, eitba, itbar, tbart, bart , art...</td>\n",
       "      <td>[Breitbart , reitbart N, eitbart Ne, itbart Ne...</td>\n",
       "      <td>[no, hard, dirty, disease, no, not, not, guilt...</td>\n",
       "    </tr>\n",
       "    <tr>\n",
       "      <th>Ben Kew</th>\n",
       "      <td>[siriusxm, four, young, free, message, childre...</td>\n",
       "      <td>[Tw, wo, o ,  h, he, el, li, ic, co, op, pt, t...</td>\n",
       "      <td>[Two h, wo he, o hel,  heli, helic, elico, lic...</td>\n",
       "      <td>[Two helico, wo helicop, o helicopt,  helicopt...</td>\n",
       "      <td>[upset, not, not, not, not, not, dishonest, no...</td>\n",
       "    </tr>\n",
       "    <tr>\n",
       "      <th>Frances Martel</th>\n",
       "      <td>[bush, paul, record, past, message, star, youn...</td>\n",
       "      <td>[Th, he, e ,  C, Ch, hi, in, ne, es, se, e ,  ...</td>\n",
       "      <td>[The C, he Ch, e Chi,  Chin, Chine, hines, ine...</td>\n",
       "      <td>[The Chines, he Chinese, e Chinese ,  Chinese ...</td>\n",
       "      <td>[not, not, not, not, not, adverse, not, fear, ...</td>\n",
       "    </tr>\n",
       "    <tr>\n",
       "      <th>Bob Price</th>\n",
       "      <td>[record, star, message, across, community, you...</td>\n",
       "      <td>[A ,  n, ne, ew, w ,  v, vi, id, de, eo, o ,  ...</td>\n",
       "      <td>[A new,  new , new v, ew vi, w vid,  vide, vid...</td>\n",
       "      <td>[A new vide,  new video, new video , ew video ...</td>\n",
       "      <td>[never, criminal, ignore, not, not, wound, wou...</td>\n",
       "    </tr>\n",
       "    <tr>\n",
       "      <th>Dr. Susan Berry</th>\n",
       "      <td>[00, health, facebook, points, across, ryan, l...</td>\n",
       "      <td>[Dr, ru, ug, g ,  s, st, to, oc, ck, ks, s ,  ...</td>\n",
       "      <td>[Drug , rug s, ug st, g sto,  stoc, stock, toc...</td>\n",
       "      <td>[Drug stock, rug stocks, ug stocks , g stocks ...</td>\n",
       "      <td>[not, no, fight, negative, severe, no, cutting...</td>\n",
       "    </tr>\n",
       "  </tbody>\n",
       "</table>\n",
       "</div>"
      ],
      "text/plain": [
       "                                                       High Freq Words  \\\n",
       "Breitbart News       [second, ago, become, editor, voting, mainstre...   \n",
       "Pam Key              [’, writes, plan, ago, reporter, north, nevada...   \n",
       "Charlie Spiering     [information, north, bad, plan, line, love, we...   \n",
       "Jerome Hudson        [tells, conference, north, decision, keep, rep...   \n",
       "John Hayward         [book, updates, needs, meeting, clear, hard, c...   \n",
       "Daniel Nussbaum      [military, together, number, understand, islam...   \n",
       "AWR Hawkins          [few, rights, romney, woman, hard, officials, ...   \n",
       "Ian Hanchett         [illegal, officials, delegates, crowd, young, ...   \n",
       "Joel B. Pollak       [together, become, street, officials, reported...   \n",
       "Alex Swoyer          [officials, together, young, himself, understa...   \n",
       "Warner Todd Huston   [latest, himself, children, “it, young, i’ve, ...   \n",
       "Jeff Poor            [young, candidates, recent, “it, released, bec...   \n",
       "Trent Baker          [enough, “it, nomination, earlier, become, dis...   \n",
       "Breitbart London     [young, j, children, men, “it, become, bad, i’...   \n",
       "Katherine Rodriguez  [young, bad, saturday, children, i’ve, realdon...   \n",
       "Charlie Nash         [four, young, i’ve, found, children, become, “...   \n",
       "Ben Kew              [siriusxm, four, young, free, message, childre...   \n",
       "Frances Martel       [bush, paul, record, past, message, star, youn...   \n",
       "Bob Price            [record, star, message, across, community, you...   \n",
       "Dr. Susan Berry      [00, health, facebook, points, across, ryan, l...   \n",
       "\n",
       "                                                             char2gram  \\\n",
       "Breitbart News       [Ad, dv, vo, oc, ca, at, te, es, s ,  w, wh, h...   \n",
       "Pam Key              [Su, un, nd, da, ay, y ,  o, on, n ,  C, CB, B...   \n",
       "Charlie Spiering     [Pr, re, es, si, id, de, en, nt, t ,  D, Do, o...   \n",
       "Jerome Hudson        [A ,  g, gr, ro, ou, up, p ,  o, of, f ,  H, H...   \n",
       "John Hayward         [Re, ep, p., . ,  P, Ph, hi, il, l ,  R, Ro, o...   \n",
       "Daniel Nussbaum      [Je, er, rr, ry, y ,  S, Se, ei, in, nf, fe, e...   \n",
       "AWR Hawkins          [Il, ll, le, eg, ga, al, l ,  a, al, li, ie, e...   \n",
       "Ian Hanchett         [On, n ,  T, Tu, ue, es, sd, da, ay, y’, ’s, s...   \n",
       "Joel B. Pollak       [Go, ol, ld, d ,  S, St, ta, ar, r ,  f, fa, a...   \n",
       "Alex Swoyer          [  ,  D, Do, on, na, al, ld, d ,  T, Tr, ru, u...   \n",
       "Warner Todd Huston   [Ke, el, ll, lo, og, gg, g ,  C, Co, om, mp, p...   \n",
       "Jeff Poor            [.@, @t, to, om, mb, br, ro, ok, ka, aw, w:, :...   \n",
       "Trent Baker          [Tu, ue, es, sd, da, ay, y ,  o, on, n ,  F, F...   \n",
       "Breitbart London     [LO, ON, ND, DO, ON, N ,  (, (A, AP, P), ) ,  ...   \n",
       "Katherine Rodriguez  [A ,  g, gr, ro, ou, up, p ,  o, of, f ,  A, A...   \n",
       "Charlie Nash         [Br, re, ei, it, tb, ba, ar, rt, t ,  N, Ne, e...   \n",
       "Ben Kew              [Tw, wo, o ,  h, he, el, li, ic, co, op, pt, t...   \n",
       "Frances Martel       [Th, he, e ,  C, Ch, hi, in, ne, es, se, e ,  ...   \n",
       "Bob Price            [A ,  n, ne, ew, w ,  v, vi, id, de, eo, o ,  ...   \n",
       "Dr. Susan Berry      [Dr, ru, ug, g ,  s, st, to, oc, ck, ks, s ,  ...   \n",
       "\n",
       "                                                             char5gram  \\\n",
       "Breitbart News       [Advoc, dvoca, vocat, ocate, cates, ates , tes...   \n",
       "Pam Key              [Sunda, unday, nday , day o, ay on, y on ,  on...   \n",
       "Charlie Spiering     [Presi, resid, eside, siden, ident, dent , ent...   \n",
       "Jerome Hudson        [A gro,  grou, group, roup , oup o, up of, p o...   \n",
       "John Hayward         [Rep. , ep. P, p. Ph, . Phi,  Phil, Phil , hil...   \n",
       "Daniel Nussbaum      [Jerry, erry , rry S, ry Se, y Sei,  Sein, Sei...   \n",
       "AWR Hawkins          [Illeg, llega, legal, egal , gal a, al al, l a...   \n",
       "Ian Hanchett         [On Tu, n Tue,  Tues, Tuesd, uesda, esday, sda...   \n",
       "Joel B. Pollak       [Gold , old S, ld St, d Sta,  Star, Star , tar...   \n",
       "Alex Swoyer          [  Don,  Dona, Donal, onald, nald , ald T, ld ...   \n",
       "Warner Todd Huston   [Kello, ellog, llogg, logg , ogg C, gg Co, g C...   \n",
       "Jeff Poor            [.@tom, @tomb, tombr, ombro, mbrok, broka, rok...   \n",
       "Trent Baker          [Tuesd, uesda, esday, sday , day o, ay on, y o...   \n",
       "Breitbart London     [LONDO, ONDON, NDON , DON (, ON (A, N (AP,  (A...   \n",
       "Katherine Rodriguez  [A gro,  grou, group, roup , oup o, up of, p o...   \n",
       "Charlie Nash         [Breit, reitb, eitba, itbar, tbart, bart , art...   \n",
       "Ben Kew              [Two h, wo he, o hel,  heli, helic, elico, lic...   \n",
       "Frances Martel       [The C, he Ch, e Chi,  Chin, Chine, hines, ine...   \n",
       "Bob Price            [A new,  new , new v, ew vi, w vid,  vide, vid...   \n",
       "Dr. Susan Berry      [Drug , rug s, ug st, g sto,  stoc, stock, toc...   \n",
       "\n",
       "                                                            char10gram  \\\n",
       "Breitbart News       [Advocates , dvocates w, vocates wh, ocates wh...   \n",
       "Pam Key              [Sunday on , unday on C, nday on CB, day on CB...   \n",
       "Charlie Spiering     [President , resident D, esident Do, sident Do...   \n",
       "Jerome Hudson        [A group of,  group of , group of H, roup of H...   \n",
       "John Hayward         [Rep. Phil , ep. Phil R, p. Phil Ro, . Phil Ro...   \n",
       "Daniel Nussbaum      [Jerry Sein, erry Seinf, rry Seinfe, ry Seinfe...   \n",
       "AWR Hawkins          [Illegal al, llegal ali, legal alie, egal alie...   \n",
       "Ian Hanchett         [On Tuesday, n Tuesday’,  Tuesday’s, Tuesday’s...   \n",
       "Joel B. Pollak       [Gold Star , old Star f, ld Star fa, d Star fa...   \n",
       "Alex Swoyer          [  Donald T,  Donald Tr, Donald Tru, onald Tru...   \n",
       "Warner Todd Huston   [Kellogg Co, ellogg Com, llogg Comp, logg Comp...   \n",
       "Jeff Poor            [.@tombroka, @tombrokaw, tombrokaw:, ombrokaw:...   \n",
       "Trent Baker          [Tuesday on, uesday on , esday on F, sday on F...   \n",
       "Breitbart London     [LONDON (AP, ONDON (AP), NDON (AP) , DON (AP) ...   \n",
       "Katherine Rodriguez  [A group of,  group of , group of A, roup of A...   \n",
       "Charlie Nash         [Breitbart , reitbart N, eitbart Ne, itbart Ne...   \n",
       "Ben Kew              [Two helico, wo helicop, o helicopt,  helicopt...   \n",
       "Frances Martel       [The Chines, he Chinese, e Chinese ,  Chinese ...   \n",
       "Bob Price            [A new vide,  new video, new video , ew video ...   \n",
       "Dr. Susan Berry      [Drug stock, rug stocks, ug stocks , g stocks ...   \n",
       "\n",
       "                                                      Negative markers  \n",
       "Breitbart News       [not, dead, pain, not, not, hurt, not, unsatis...  \n",
       "Pam Key              [not, mean, not, not, not, not, yell, not, yel...  \n",
       "Charlie Spiering     [not, no, not, reject, not, hate, hate, unhapp...  \n",
       "Jerome Hudson        [not, ignore, deny, crazy, no, not, not, not, ...  \n",
       "John Hayward         [not, no, not, not, not, not, hard, not, hard,...  \n",
       "Daniel Nussbaum      [bad, bad, bad, ignore, not, no, corrupt, neve...  \n",
       "AWR Hawkins          [upset, not, not, negative, no, no, suspect, s...  \n",
       "Ian Hanchett         [hard, no, not, hard, not, bad, not, not, not,...  \n",
       "Joel B. Pollak       [fear, not, no, damage, hard, not, not, not, p...  \n",
       "Alex Swoyer          [sad, not, not, poor, not, lose, no, not, not,...  \n",
       "Warner Todd Huston   [impossible, not, not, no, never, not, not, no...  \n",
       "Jeff Poor            [not, not, fight, not, not, evil, hate, terrib...  \n",
       "Trent Baker          [not, bad, missing, not, not, distress, lousy,...  \n",
       "Breitbart London     [hate, no, hate, fail, hate, not, hard, not, q...  \n",
       "Katherine Rodriguez  [spring, shocking, spring, not, spring, offens...  \n",
       "Charlie Nash         [no, hard, dirty, disease, no, not, not, guilt...  \n",
       "Ben Kew              [upset, not, not, not, not, not, dishonest, no...  \n",
       "Frances Martel       [not, not, not, not, not, adverse, not, fear, ...  \n",
       "Bob Price            [never, criminal, ignore, not, not, wound, wou...  \n",
       "Dr. Susan Berry      [not, no, fight, negative, severe, no, cutting...  "
      ]
     },
     "execution_count": 58,
     "metadata": {},
     "output_type": "execute_result"
    }
   ],
   "source": [
    "topNwordsnew"
   ]
  },
  {
   "cell_type": "code",
   "execution_count": 61,
   "metadata": {},
   "outputs": [],
   "source": [
    "from tensorflow.keras import layers\n",
    "from tensorflow.keras.layers import TextVectorization\n",
    "import re\n",
    "import string\n",
    "import random"
   ]
  },
  {
   "cell_type": "code",
   "execution_count": null,
   "metadata": {},
   "outputs": [],
   "source": [
    "# Data pre-processing on the newly generated dataset with all feature sets\n"
   ]
  },
  {
   "cell_type": "code",
   "execution_count": 63,
   "metadata": {},
   "outputs": [
    {
     "data": {
      "text/plain": [
       "High Freq Words  char2gram  char5gram  char10gram  Negative markers\n",
       "False            False      False      False       False               20\n",
       "dtype: int64"
      ]
     },
     "execution_count": 63,
     "metadata": {},
     "output_type": "execute_result"
    }
   ],
   "source": [
    "# Check for null values. Remove special characters - replace with ' '.\n",
    "\n",
    "topNwordsnew.isnull().value_counts()"
   ]
  },
  {
   "cell_type": "code",
   "execution_count": 59,
   "metadata": {},
   "outputs": [],
   "source": [
    "#df = df.replace(r'[^\\w\\s]|_', '', regex=True)\n",
    "topNwordsnew = topNwordsnew.replace(r'[^\\w\\s]|_*@#$', '', regex=True)"
   ]
  },
  {
   "cell_type": "code",
   "execution_count": 60,
   "metadata": {},
   "outputs": [
    {
     "data": {
      "text/html": [
       "<div>\n",
       "<style scoped>\n",
       "    .dataframe tbody tr th:only-of-type {\n",
       "        vertical-align: middle;\n",
       "    }\n",
       "\n",
       "    .dataframe tbody tr th {\n",
       "        vertical-align: top;\n",
       "    }\n",
       "\n",
       "    .dataframe thead th {\n",
       "        text-align: right;\n",
       "    }\n",
       "</style>\n",
       "<table border=\"1\" class=\"dataframe\">\n",
       "  <thead>\n",
       "    <tr style=\"text-align: right;\">\n",
       "      <th></th>\n",
       "      <th>High Freq Words</th>\n",
       "      <th>char2gram</th>\n",
       "      <th>char5gram</th>\n",
       "      <th>char10gram</th>\n",
       "      <th>Negative markers</th>\n",
       "    </tr>\n",
       "  </thead>\n",
       "  <tbody>\n",
       "    <tr>\n",
       "      <th>Breitbart News</th>\n",
       "      <td>[second, ago, become, editor, voting, mainstre...</td>\n",
       "      <td>[Ad, dv, vo, oc, ca, at, te, es, s ,  w, wh, h...</td>\n",
       "      <td>[Advoc, dvoca, vocat, ocate, cates, ates , tes...</td>\n",
       "      <td>[Advocates , dvocates w, vocates wh, ocates wh...</td>\n",
       "      <td>[not, dead, pain, not, not, hurt, not, unsatis...</td>\n",
       "    </tr>\n",
       "    <tr>\n",
       "      <th>Pam Key</th>\n",
       "      <td>[’, writes, plan, ago, reporter, north, nevada...</td>\n",
       "      <td>[Su, un, nd, da, ay, y ,  o, on, n ,  C, CB, B...</td>\n",
       "      <td>[Sunda, unday, nday , day o, ay on, y on ,  on...</td>\n",
       "      <td>[Sunday on , unday on C, nday on CB, day on CB...</td>\n",
       "      <td>[not, mean, not, not, not, not, yell, not, yel...</td>\n",
       "    </tr>\n",
       "    <tr>\n",
       "      <th>Charlie Spiering</th>\n",
       "      <td>[information, north, bad, plan, line, love, we...</td>\n",
       "      <td>[Pr, re, es, si, id, de, en, nt, t ,  D, Do, o...</td>\n",
       "      <td>[Presi, resid, eside, siden, ident, dent , ent...</td>\n",
       "      <td>[President , resident D, esident Do, sident Do...</td>\n",
       "      <td>[not, no, not, reject, not, hate, hate, unhapp...</td>\n",
       "    </tr>\n",
       "    <tr>\n",
       "      <th>Jerome Hudson</th>\n",
       "      <td>[tells, conference, north, decision, keep, rep...</td>\n",
       "      <td>[A ,  g, gr, ro, ou, up, p ,  o, of, f ,  H, H...</td>\n",
       "      <td>[A gro,  grou, group, roup , oup o, up of, p o...</td>\n",
       "      <td>[A group of,  group of , group of H, roup of H...</td>\n",
       "      <td>[not, ignore, deny, crazy, no, not, not, not, ...</td>\n",
       "    </tr>\n",
       "    <tr>\n",
       "      <th>John Hayward</th>\n",
       "      <td>[book, updates, needs, meeting, clear, hard, c...</td>\n",
       "      <td>[Re, ep, p., . ,  P, Ph, hi, il, l ,  R, Ro, o...</td>\n",
       "      <td>[Rep. , ep. P, p. Ph, . Phi,  Phil, Phil , hil...</td>\n",
       "      <td>[Rep. Phil , ep. Phil R, p. Phil Ro, . Phil Ro...</td>\n",
       "      <td>[not, no, not, not, not, not, hard, not, hard,...</td>\n",
       "    </tr>\n",
       "    <tr>\n",
       "      <th>Daniel Nussbaum</th>\n",
       "      <td>[military, together, number, understand, islam...</td>\n",
       "      <td>[Je, er, rr, ry, y ,  S, Se, ei, in, nf, fe, e...</td>\n",
       "      <td>[Jerry, erry , rry S, ry Se, y Sei,  Sein, Sei...</td>\n",
       "      <td>[Jerry Sein, erry Seinf, rry Seinfe, ry Seinfe...</td>\n",
       "      <td>[bad, bad, bad, ignore, not, no, corrupt, neve...</td>\n",
       "    </tr>\n",
       "    <tr>\n",
       "      <th>AWR Hawkins</th>\n",
       "      <td>[few, rights, romney, woman, hard, officials, ...</td>\n",
       "      <td>[Il, ll, le, eg, ga, al, l ,  a, al, li, ie, e...</td>\n",
       "      <td>[Illeg, llega, legal, egal , gal a, al al, l a...</td>\n",
       "      <td>[Illegal al, llegal ali, legal alie, egal alie...</td>\n",
       "      <td>[upset, not, not, negative, no, no, suspect, s...</td>\n",
       "    </tr>\n",
       "    <tr>\n",
       "      <th>Ian Hanchett</th>\n",
       "      <td>[illegal, officials, delegates, crowd, young, ...</td>\n",
       "      <td>[On, n ,  T, Tu, ue, es, sd, da, ay, y’, ’s, s...</td>\n",
       "      <td>[On Tu, n Tue,  Tues, Tuesd, uesda, esday, sda...</td>\n",
       "      <td>[On Tuesday, n Tuesday’,  Tuesday’s, Tuesday’s...</td>\n",
       "      <td>[hard, no, not, hard, not, bad, not, not, not,...</td>\n",
       "    </tr>\n",
       "    <tr>\n",
       "      <th>Joel B. Pollak</th>\n",
       "      <td>[together, become, street, officials, reported...</td>\n",
       "      <td>[Go, ol, ld, d ,  S, St, ta, ar, r ,  f, fa, a...</td>\n",
       "      <td>[Gold , old S, ld St, d Sta,  Star, Star , tar...</td>\n",
       "      <td>[Gold Star , old Star f, ld Star fa, d Star fa...</td>\n",
       "      <td>[fear, not, no, damage, hard, not, not, not, p...</td>\n",
       "    </tr>\n",
       "    <tr>\n",
       "      <th>Alex Swoyer</th>\n",
       "      <td>[officials, together, young, himself, understa...</td>\n",
       "      <td>[  ,  D, Do, on, na, al, ld, d ,  T, Tr, ru, u...</td>\n",
       "      <td>[  Don,  Dona, Donal, onald, nald , ald T, ld ...</td>\n",
       "      <td>[  Donald T,  Donald Tr, Donald Tru, onald Tru...</td>\n",
       "      <td>[sad, not, not, poor, not, lose, no, not, not,...</td>\n",
       "    </tr>\n",
       "    <tr>\n",
       "      <th>Warner Todd Huston</th>\n",
       "      <td>[latest, himself, children, “it, young, i’ve, ...</td>\n",
       "      <td>[Ke, el, ll, lo, og, gg, g ,  C, Co, om, mp, p...</td>\n",
       "      <td>[Kello, ellog, llogg, logg , ogg C, gg Co, g C...</td>\n",
       "      <td>[Kellogg Co, ellogg Com, llogg Comp, logg Comp...</td>\n",
       "      <td>[impossible, not, not, no, never, not, not, no...</td>\n",
       "    </tr>\n",
       "    <tr>\n",
       "      <th>Jeff Poor</th>\n",
       "      <td>[young, candidates, recent, “it, released, bec...</td>\n",
       "      <td>[.@, @t, to, om, mb, br, ro, ok, ka, aw, w:, :...</td>\n",
       "      <td>[.@tom, @tomb, tombr, ombro, mbrok, broka, rok...</td>\n",
       "      <td>[.@tombroka, @tombrokaw, tombrokaw:, ombrokaw:...</td>\n",
       "      <td>[not, not, fight, not, not, evil, hate, terrib...</td>\n",
       "    </tr>\n",
       "    <tr>\n",
       "      <th>Trent Baker</th>\n",
       "      <td>[enough, “it, nomination, earlier, become, dis...</td>\n",
       "      <td>[Tu, ue, es, sd, da, ay, y ,  o, on, n ,  F, F...</td>\n",
       "      <td>[Tuesd, uesda, esday, sday , day o, ay on, y o...</td>\n",
       "      <td>[Tuesday on, uesday on , esday on F, sday on F...</td>\n",
       "      <td>[not, bad, missing, not, not, distress, lousy,...</td>\n",
       "    </tr>\n",
       "    <tr>\n",
       "      <th>Breitbart London</th>\n",
       "      <td>[young, j, children, men, “it, become, bad, i’...</td>\n",
       "      <td>[LO, ON, ND, DO, ON, N ,  (, (A, AP, P), ) ,  ...</td>\n",
       "      <td>[LONDO, ONDON, NDON , DON (, ON (A, N (AP,  (A...</td>\n",
       "      <td>[LONDON (AP, ONDON (AP), NDON (AP) , DON (AP) ...</td>\n",
       "      <td>[hate, no, hate, fail, hate, not, hard, not, q...</td>\n",
       "    </tr>\n",
       "    <tr>\n",
       "      <th>Katherine Rodriguez</th>\n",
       "      <td>[young, bad, saturday, children, i’ve, realdon...</td>\n",
       "      <td>[A ,  g, gr, ro, ou, up, p ,  o, of, f ,  A, A...</td>\n",
       "      <td>[A gro,  grou, group, roup , oup o, up of, p o...</td>\n",
       "      <td>[A group of,  group of , group of A, roup of A...</td>\n",
       "      <td>[spring, shocking, spring, not, spring, offens...</td>\n",
       "    </tr>\n",
       "    <tr>\n",
       "      <th>Charlie Nash</th>\n",
       "      <td>[four, young, i’ve, found, children, become, “...</td>\n",
       "      <td>[Br, re, ei, it, tb, ba, ar, rt, t ,  N, Ne, e...</td>\n",
       "      <td>[Breit, reitb, eitba, itbar, tbart, bart , art...</td>\n",
       "      <td>[Breitbart , reitbart N, eitbart Ne, itbart Ne...</td>\n",
       "      <td>[no, hard, dirty, disease, no, not, not, guilt...</td>\n",
       "    </tr>\n",
       "    <tr>\n",
       "      <th>Ben Kew</th>\n",
       "      <td>[siriusxm, four, young, free, message, childre...</td>\n",
       "      <td>[Tw, wo, o ,  h, he, el, li, ic, co, op, pt, t...</td>\n",
       "      <td>[Two h, wo he, o hel,  heli, helic, elico, lic...</td>\n",
       "      <td>[Two helico, wo helicop, o helicopt,  helicopt...</td>\n",
       "      <td>[upset, not, not, not, not, not, dishonest, no...</td>\n",
       "    </tr>\n",
       "    <tr>\n",
       "      <th>Frances Martel</th>\n",
       "      <td>[bush, paul, record, past, message, star, youn...</td>\n",
       "      <td>[Th, he, e ,  C, Ch, hi, in, ne, es, se, e ,  ...</td>\n",
       "      <td>[The C, he Ch, e Chi,  Chin, Chine, hines, ine...</td>\n",
       "      <td>[The Chines, he Chinese, e Chinese ,  Chinese ...</td>\n",
       "      <td>[not, not, not, not, not, adverse, not, fear, ...</td>\n",
       "    </tr>\n",
       "    <tr>\n",
       "      <th>Bob Price</th>\n",
       "      <td>[record, star, message, across, community, you...</td>\n",
       "      <td>[A ,  n, ne, ew, w ,  v, vi, id, de, eo, o ,  ...</td>\n",
       "      <td>[A new,  new , new v, ew vi, w vid,  vide, vid...</td>\n",
       "      <td>[A new vide,  new video, new video , ew video ...</td>\n",
       "      <td>[never, criminal, ignore, not, not, wound, wou...</td>\n",
       "    </tr>\n",
       "    <tr>\n",
       "      <th>Dr. Susan Berry</th>\n",
       "      <td>[00, health, facebook, points, across, ryan, l...</td>\n",
       "      <td>[Dr, ru, ug, g ,  s, st, to, oc, ck, ks, s ,  ...</td>\n",
       "      <td>[Drug , rug s, ug st, g sto,  stoc, stock, toc...</td>\n",
       "      <td>[Drug stock, rug stocks, ug stocks , g stocks ...</td>\n",
       "      <td>[not, no, fight, negative, severe, no, cutting...</td>\n",
       "    </tr>\n",
       "  </tbody>\n",
       "</table>\n",
       "</div>"
      ],
      "text/plain": [
       "                                                       High Freq Words  \\\n",
       "Breitbart News       [second, ago, become, editor, voting, mainstre...   \n",
       "Pam Key              [’, writes, plan, ago, reporter, north, nevada...   \n",
       "Charlie Spiering     [information, north, bad, plan, line, love, we...   \n",
       "Jerome Hudson        [tells, conference, north, decision, keep, rep...   \n",
       "John Hayward         [book, updates, needs, meeting, clear, hard, c...   \n",
       "Daniel Nussbaum      [military, together, number, understand, islam...   \n",
       "AWR Hawkins          [few, rights, romney, woman, hard, officials, ...   \n",
       "Ian Hanchett         [illegal, officials, delegates, crowd, young, ...   \n",
       "Joel B. Pollak       [together, become, street, officials, reported...   \n",
       "Alex Swoyer          [officials, together, young, himself, understa...   \n",
       "Warner Todd Huston   [latest, himself, children, “it, young, i’ve, ...   \n",
       "Jeff Poor            [young, candidates, recent, “it, released, bec...   \n",
       "Trent Baker          [enough, “it, nomination, earlier, become, dis...   \n",
       "Breitbart London     [young, j, children, men, “it, become, bad, i’...   \n",
       "Katherine Rodriguez  [young, bad, saturday, children, i’ve, realdon...   \n",
       "Charlie Nash         [four, young, i’ve, found, children, become, “...   \n",
       "Ben Kew              [siriusxm, four, young, free, message, childre...   \n",
       "Frances Martel       [bush, paul, record, past, message, star, youn...   \n",
       "Bob Price            [record, star, message, across, community, you...   \n",
       "Dr. Susan Berry      [00, health, facebook, points, across, ryan, l...   \n",
       "\n",
       "                                                             char2gram  \\\n",
       "Breitbart News       [Ad, dv, vo, oc, ca, at, te, es, s ,  w, wh, h...   \n",
       "Pam Key              [Su, un, nd, da, ay, y ,  o, on, n ,  C, CB, B...   \n",
       "Charlie Spiering     [Pr, re, es, si, id, de, en, nt, t ,  D, Do, o...   \n",
       "Jerome Hudson        [A ,  g, gr, ro, ou, up, p ,  o, of, f ,  H, H...   \n",
       "John Hayward         [Re, ep, p., . ,  P, Ph, hi, il, l ,  R, Ro, o...   \n",
       "Daniel Nussbaum      [Je, er, rr, ry, y ,  S, Se, ei, in, nf, fe, e...   \n",
       "AWR Hawkins          [Il, ll, le, eg, ga, al, l ,  a, al, li, ie, e...   \n",
       "Ian Hanchett         [On, n ,  T, Tu, ue, es, sd, da, ay, y’, ’s, s...   \n",
       "Joel B. Pollak       [Go, ol, ld, d ,  S, St, ta, ar, r ,  f, fa, a...   \n",
       "Alex Swoyer          [  ,  D, Do, on, na, al, ld, d ,  T, Tr, ru, u...   \n",
       "Warner Todd Huston   [Ke, el, ll, lo, og, gg, g ,  C, Co, om, mp, p...   \n",
       "Jeff Poor            [.@, @t, to, om, mb, br, ro, ok, ka, aw, w:, :...   \n",
       "Trent Baker          [Tu, ue, es, sd, da, ay, y ,  o, on, n ,  F, F...   \n",
       "Breitbart London     [LO, ON, ND, DO, ON, N ,  (, (A, AP, P), ) ,  ...   \n",
       "Katherine Rodriguez  [A ,  g, gr, ro, ou, up, p ,  o, of, f ,  A, A...   \n",
       "Charlie Nash         [Br, re, ei, it, tb, ba, ar, rt, t ,  N, Ne, e...   \n",
       "Ben Kew              [Tw, wo, o ,  h, he, el, li, ic, co, op, pt, t...   \n",
       "Frances Martel       [Th, he, e ,  C, Ch, hi, in, ne, es, se, e ,  ...   \n",
       "Bob Price            [A ,  n, ne, ew, w ,  v, vi, id, de, eo, o ,  ...   \n",
       "Dr. Susan Berry      [Dr, ru, ug, g ,  s, st, to, oc, ck, ks, s ,  ...   \n",
       "\n",
       "                                                             char5gram  \\\n",
       "Breitbart News       [Advoc, dvoca, vocat, ocate, cates, ates , tes...   \n",
       "Pam Key              [Sunda, unday, nday , day o, ay on, y on ,  on...   \n",
       "Charlie Spiering     [Presi, resid, eside, siden, ident, dent , ent...   \n",
       "Jerome Hudson        [A gro,  grou, group, roup , oup o, up of, p o...   \n",
       "John Hayward         [Rep. , ep. P, p. Ph, . Phi,  Phil, Phil , hil...   \n",
       "Daniel Nussbaum      [Jerry, erry , rry S, ry Se, y Sei,  Sein, Sei...   \n",
       "AWR Hawkins          [Illeg, llega, legal, egal , gal a, al al, l a...   \n",
       "Ian Hanchett         [On Tu, n Tue,  Tues, Tuesd, uesda, esday, sda...   \n",
       "Joel B. Pollak       [Gold , old S, ld St, d Sta,  Star, Star , tar...   \n",
       "Alex Swoyer          [  Don,  Dona, Donal, onald, nald , ald T, ld ...   \n",
       "Warner Todd Huston   [Kello, ellog, llogg, logg , ogg C, gg Co, g C...   \n",
       "Jeff Poor            [.@tom, @tomb, tombr, ombro, mbrok, broka, rok...   \n",
       "Trent Baker          [Tuesd, uesda, esday, sday , day o, ay on, y o...   \n",
       "Breitbart London     [LONDO, ONDON, NDON , DON (, ON (A, N (AP,  (A...   \n",
       "Katherine Rodriguez  [A gro,  grou, group, roup , oup o, up of, p o...   \n",
       "Charlie Nash         [Breit, reitb, eitba, itbar, tbart, bart , art...   \n",
       "Ben Kew              [Two h, wo he, o hel,  heli, helic, elico, lic...   \n",
       "Frances Martel       [The C, he Ch, e Chi,  Chin, Chine, hines, ine...   \n",
       "Bob Price            [A new,  new , new v, ew vi, w vid,  vide, vid...   \n",
       "Dr. Susan Berry      [Drug , rug s, ug st, g sto,  stoc, stock, toc...   \n",
       "\n",
       "                                                            char10gram  \\\n",
       "Breitbart News       [Advocates , dvocates w, vocates wh, ocates wh...   \n",
       "Pam Key              [Sunday on , unday on C, nday on CB, day on CB...   \n",
       "Charlie Spiering     [President , resident D, esident Do, sident Do...   \n",
       "Jerome Hudson        [A group of,  group of , group of H, roup of H...   \n",
       "John Hayward         [Rep. Phil , ep. Phil R, p. Phil Ro, . Phil Ro...   \n",
       "Daniel Nussbaum      [Jerry Sein, erry Seinf, rry Seinfe, ry Seinfe...   \n",
       "AWR Hawkins          [Illegal al, llegal ali, legal alie, egal alie...   \n",
       "Ian Hanchett         [On Tuesday, n Tuesday’,  Tuesday’s, Tuesday’s...   \n",
       "Joel B. Pollak       [Gold Star , old Star f, ld Star fa, d Star fa...   \n",
       "Alex Swoyer          [  Donald T,  Donald Tr, Donald Tru, onald Tru...   \n",
       "Warner Todd Huston   [Kellogg Co, ellogg Com, llogg Comp, logg Comp...   \n",
       "Jeff Poor            [.@tombroka, @tombrokaw, tombrokaw:, ombrokaw:...   \n",
       "Trent Baker          [Tuesday on, uesday on , esday on F, sday on F...   \n",
       "Breitbart London     [LONDON (AP, ONDON (AP), NDON (AP) , DON (AP) ...   \n",
       "Katherine Rodriguez  [A group of,  group of , group of A, roup of A...   \n",
       "Charlie Nash         [Breitbart , reitbart N, eitbart Ne, itbart Ne...   \n",
       "Ben Kew              [Two helico, wo helicop, o helicopt,  helicopt...   \n",
       "Frances Martel       [The Chines, he Chinese, e Chinese ,  Chinese ...   \n",
       "Bob Price            [A new vide,  new video, new video , ew video ...   \n",
       "Dr. Susan Berry      [Drug stock, rug stocks, ug stocks , g stocks ...   \n",
       "\n",
       "                                                      Negative markers  \n",
       "Breitbart News       [not, dead, pain, not, not, hurt, not, unsatis...  \n",
       "Pam Key              [not, mean, not, not, not, not, yell, not, yel...  \n",
       "Charlie Spiering     [not, no, not, reject, not, hate, hate, unhapp...  \n",
       "Jerome Hudson        [not, ignore, deny, crazy, no, not, not, not, ...  \n",
       "John Hayward         [not, no, not, not, not, not, hard, not, hard,...  \n",
       "Daniel Nussbaum      [bad, bad, bad, ignore, not, no, corrupt, neve...  \n",
       "AWR Hawkins          [upset, not, not, negative, no, no, suspect, s...  \n",
       "Ian Hanchett         [hard, no, not, hard, not, bad, not, not, not,...  \n",
       "Joel B. Pollak       [fear, not, no, damage, hard, not, not, not, p...  \n",
       "Alex Swoyer          [sad, not, not, poor, not, lose, no, not, not,...  \n",
       "Warner Todd Huston   [impossible, not, not, no, never, not, not, no...  \n",
       "Jeff Poor            [not, not, fight, not, not, evil, hate, terrib...  \n",
       "Trent Baker          [not, bad, missing, not, not, distress, lousy,...  \n",
       "Breitbart London     [hate, no, hate, fail, hate, not, hard, not, q...  \n",
       "Katherine Rodriguez  [spring, shocking, spring, not, spring, offens...  \n",
       "Charlie Nash         [no, hard, dirty, disease, no, not, not, guilt...  \n",
       "Ben Kew              [upset, not, not, not, not, not, dishonest, no...  \n",
       "Frances Martel       [not, not, not, not, not, adverse, not, fear, ...  \n",
       "Bob Price            [never, criminal, ignore, not, not, wound, wou...  \n",
       "Dr. Susan Berry      [not, no, fight, negative, severe, no, cutting...  "
      ]
     },
     "execution_count": 60,
     "metadata": {},
     "output_type": "execute_result"
    }
   ],
   "source": [
    "topNwordsnew"
   ]
  },
  {
   "cell_type": "markdown",
   "metadata": {},
   "source": [
    "### Vectorize the entire dataframe "
   ]
  },
  {
   "cell_type": "code",
   "execution_count": 61,
   "metadata": {},
   "outputs": [],
   "source": [
    "backupDF = topNwordsnew"
   ]
  },
  {
   "cell_type": "code",
   "execution_count": 83,
   "metadata": {},
   "outputs": [],
   "source": [
    "topNwordsnew = backupDF"
   ]
  },
  {
   "cell_type": "code",
   "execution_count": 135,
   "metadata": {},
   "outputs": [
    {
     "ename": "NameError",
     "evalue": "name 'backupDF' is not defined",
     "output_type": "error",
     "traceback": [
      "\u001b[1;31m---------------------------------------------------------------------------\u001b[0m",
      "\u001b[1;31mNameError\u001b[0m                                 Traceback (most recent call last)",
      "\u001b[1;32m<ipython-input-135-54205c185108>\u001b[0m in \u001b[0;36m<module>\u001b[1;34m\u001b[0m\n\u001b[1;32m----> 1\u001b[1;33m \u001b[0mbackupDF\u001b[0m\u001b[1;33m\u001b[0m\u001b[1;33m\u001b[0m\u001b[0m\n\u001b[0m",
      "\u001b[1;31mNameError\u001b[0m: name 'backupDF' is not defined"
     ]
    }
   ],
   "source": [
    "backupDF"
   ]
  },
  {
   "cell_type": "code",
   "execution_count": 116,
   "metadata": {},
   "outputs": [
    {
     "ename": "NameError",
     "evalue": "name 'topNwordsnew' is not defined",
     "output_type": "error",
     "traceback": [
      "\u001b[1;31m---------------------------------------------------------------------------\u001b[0m",
      "\u001b[1;31mNameError\u001b[0m                                 Traceback (most recent call last)",
      "\u001b[1;32m<ipython-input-116-cc529249dae8>\u001b[0m in \u001b[0;36m<module>\u001b[1;34m\u001b[0m\n\u001b[1;32m----> 1\u001b[1;33m \u001b[0mchar5DF\u001b[0m \u001b[1;33m=\u001b[0m \u001b[0mtopNwordsnew\u001b[0m\u001b[1;33m\u001b[0m\u001b[1;33m\u001b[0m\u001b[0m\n\u001b[0m\u001b[0;32m      2\u001b[0m \u001b[0mchar5DF\u001b[0m\u001b[1;33m\u001b[0m\u001b[1;33m\u001b[0m\u001b[0m\n",
      "\u001b[1;31mNameError\u001b[0m: name 'topNwordsnew' is not defined"
     ]
    }
   ],
   "source": [
    "char5DF = topNw\n",
    "char5DF"
   ]
  },
  {
   "cell_type": "code",
   "execution_count": null,
   "metadata": {},
   "outputs": [],
   "source": []
  },
  {
   "cell_type": "markdown",
   "metadata": {},
   "source": [
    "## top n words model run"
   ]
  },
  {
   "cell_type": "code",
   "execution_count": null,
   "metadata": {},
   "outputs": [],
   "source": [
    "X_train, X_test,y_train, y_test = train_test_split(y, X , test_size=0.20, random_state=1)"
   ]
  },
  {
   "cell_type": "code",
   "execution_count": 82,
   "metadata": {},
   "outputs": [],
   "source": [
    "model = Sequential()\n",
    "from keras.layers import Input\n",
    "\n",
    "model.add(Dense(units=4, input_dim=1, activation='relu'))\n",
    "model.add(Dense(8, activation='relu'))\n",
    "model.add(Dense(1, activation='softmax'))"
   ]
  },
  {
   "cell_type": "code",
   "execution_count": 83,
   "metadata": {},
   "outputs": [],
   "source": [
    "model.compile(loss='binary_crossentropy', optimizer='adam', metrics=['accuracy'])\n"
   ]
  },
  {
   "cell_type": "code",
   "execution_count": 84,
   "metadata": {},
   "outputs": [],
   "source": [
    "tf.config.run_functions_eagerly(True)\n",
    "#model.fit(xTrain_arr, y_train_arr_trunc, validation_data=(x_test_arr, y_test_arr_trunc),batch_size=50,epochs=10)"
   ]
  },
  {
   "cell_type": "code",
   "execution_count": 107,
   "metadata": {},
   "outputs": [
    {
     "name": "stdout",
     "output_type": "stream",
     "text": [
      "(172260,)\n",
      "(172260,)\n"
     ]
    }
   ],
   "source": [
    "\"\"\"\n",
    "  x sizes: 6496200\n",
    "  y sizes: 172260\n",
    "\"\"\"\n",
    "print(xTrain_arr.shape)\n",
    "print(yTrain_arr.shape)\n",
    "\n",
    "xTrain_arr = xTrain_arr[:172260]\n",
    "x_test_arr = x_test_arr[:172260]"
   ]
  },
  {
   "cell_type": "code",
   "execution_count": 108,
   "metadata": {},
   "outputs": [
    {
     "name": "stdout",
     "output_type": "stream",
     "text": [
      "(172260,)\n",
      "(172260,)\n"
     ]
    }
   ],
   "source": [
    "\n",
    "print(x_test_arr.shape)\n",
    "print(y_test_arr.shape)\n"
   ]
  },
  {
   "cell_type": "code",
   "execution_count": 109,
   "metadata": {
    "scrolled": true
   },
   "outputs": [
    {
     "name": "stdout",
     "output_type": "stream",
     "text": [
      "Epoch 1/10\n",
      "247/247 [==============================] - 6s 26ms/step - loss: -5876462.5000 - binary_accuracy: 0.0232 - val_loss: -707770.3750 - val_binary_accuracy: 0.0232\n",
      "Epoch 2/10\n",
      "247/247 [==============================] - 6s 24ms/step - loss: -6940369.0000 - binary_accuracy: 0.0232 - val_loss: -831233.3125 - val_binary_accuracy: 0.0232\n",
      "Epoch 3/10\n",
      "247/247 [==============================] - 6s 23ms/step - loss: -8109463.5000 - binary_accuracy: 0.0232 - val_loss: -966551.6875 - val_binary_accuracy: 0.0232\n",
      "Epoch 4/10\n",
      "247/247 [==============================] - 6s 23ms/step - loss: -9385193.0000 - binary_accuracy: 0.0232 - val_loss: -1113595.7500 - val_binary_accuracy: 0.0232\n",
      "Epoch 5/10\n",
      "247/247 [==============================] - 6s 24ms/step - loss: -10770358.0000 - binary_accuracy: 0.0232 - val_loss: -1273068.8750 - val_binary_accuracy: 0.0232\n",
      "Epoch 6/10\n",
      "247/247 [==============================] - 6s 24ms/step - loss: -12267815.0000 - binary_accuracy: 0.0232 - val_loss: -1445004.1250 - val_binary_accuracy: 0.0232\n",
      "Epoch 7/10\n",
      "247/247 [==============================] - 6s 25ms/step - loss: -13878119.0000 - binary_accuracy: 0.0232 - val_loss: -1629446.5000 - val_binary_accuracy: 0.0232\n",
      "Epoch 8/10\n",
      "247/247 [==============================] - 6s 24ms/step - loss: -15604133.0000 - binary_accuracy: 0.0232 - val_loss: -1826999.6250 - val_binary_accuracy: 0.0232\n",
      "Epoch 9/10\n",
      "247/247 [==============================] - 6s 24ms/step - loss: -17449990.0000 - binary_accuracy: 0.0232 - val_loss: -2037722.0000 - val_binary_accuracy: 0.0232\n",
      "Epoch 10/10\n",
      "247/247 [==============================] - 6s 24ms/step - loss: -19416680.0000 - binary_accuracy: 0.0232 - val_loss: -2262168.5000 - val_binary_accuracy: 0.0232\n"
     ]
    },
    {
     "data": {
      "text/plain": [
       "<keras.callbacks.History at 0x28df365de48>"
      ]
     },
     "execution_count": 109,
     "metadata": {},
     "output_type": "execute_result"
    }
   ],
   "source": [
    "model.fit(xTrain_arr, yTrain_arr, validation_data=(x_test_arr, y_test_arr),batch_size=700,epochs=10)"
   ]
  },
  {
   "cell_type": "markdown",
   "metadata": {},
   "source": [
    "### Categorical accuracy top N words"
   ]
  },
  {
   "cell_type": "code",
   "execution_count": 110,
   "metadata": {},
   "outputs": [],
   "source": [
    "model.compile(loss='categorical_crossentropy', optimizer='adam', metrics=['categorical_accuracy'])"
   ]
  },
  {
   "cell_type": "code",
   "execution_count": 111,
   "metadata": {},
   "outputs": [
    {
     "name": "stdout",
     "output_type": "stream",
     "text": [
      "Epoch 1/10\n",
      "431/431 [==============================] - 11s 26ms/step - loss: 0.0000e+00 - categorical_accuracy: 1.0000 - val_loss: 0.0000e+00 - val_categorical_accuracy: 1.0000\n",
      "Epoch 2/10\n",
      "431/431 [==============================] - 11s 25ms/step - loss: 0.0000e+00 - categorical_accuracy: 1.0000 - val_loss: 0.0000e+00 - val_categorical_accuracy: 1.0000\n",
      "Epoch 3/10\n",
      "431/431 [==============================] - 11s 26ms/step - loss: 0.0000e+00 - categorical_accuracy: 1.0000 - val_loss: 0.0000e+00 - val_categorical_accuracy: 1.0000\n",
      "Epoch 4/10\n",
      "431/431 [==============================] - 11s 26ms/step - loss: 0.0000e+00 - categorical_accuracy: 1.0000 - val_loss: 0.0000e+00 - val_categorical_accuracy: 1.0000\n",
      "Epoch 5/10\n",
      "431/431 [==============================] - 12s 27ms/step - loss: 0.0000e+00 - categorical_accuracy: 1.0000 - val_loss: 0.0000e+00 - val_categorical_accuracy: 1.0000\n",
      "Epoch 6/10\n",
      "431/431 [==============================] - 12s 27ms/step - loss: 0.0000e+00 - categorical_accuracy: 1.0000 - val_loss: 0.0000e+00 - val_categorical_accuracy: 1.0000\n",
      "Epoch 7/10\n",
      "431/431 [==============================] - 12s 28ms/step - loss: 0.0000e+00 - categorical_accuracy: 1.0000 - val_loss: 0.0000e+00 - val_categorical_accuracy: 1.0000\n",
      "Epoch 8/10\n",
      "431/431 [==============================] - 12s 27ms/step - loss: 0.0000e+00 - categorical_accuracy: 1.0000 - val_loss: 0.0000e+00 - val_categorical_accuracy: 1.0000\n",
      "Epoch 9/10\n",
      "431/431 [==============================] - 12s 28ms/step - loss: 0.0000e+00 - categorical_accuracy: 1.0000 - val_loss: 0.0000e+00 - val_categorical_accuracy: 1.0000\n",
      "Epoch 10/10\n",
      "431/431 [==============================] - 11s 26ms/step - loss: 0.0000e+00 - categorical_accuracy: 1.0000 - val_loss: 0.0000e+00 - val_categorical_accuracy: 1.0000\n"
     ]
    },
    {
     "data": {
      "text/plain": [
       "<keras.callbacks.History at 0x28df2c45088>"
      ]
     },
     "execution_count": 111,
     "metadata": {},
     "output_type": "execute_result"
    }
   ],
   "source": [
    "model.fit(xTrain_arr, yTrain_arr, validation_data=(x_test_arr, y_test_arr),batch_size=400,epochs=10)"
   ]
  },
  {
   "cell_type": "markdown",
   "metadata": {},
   "source": [
    "### Binary acc and adamax with binary cross entropy"
   ]
  },
  {
   "cell_type": "code",
   "execution_count": 113,
   "metadata": {},
   "outputs": [],
   "source": [
    "model.compile(loss='binary_crossentropy', optimizer='adamax', metrics=['binary_accuracy'])"
   ]
  },
  {
   "cell_type": "code",
   "execution_count": 114,
   "metadata": {},
   "outputs": [
    {
     "name": "stdout",
     "output_type": "stream",
     "text": [
      "Epoch 1/20\n",
      "288/288 [==============================] - 7s 23ms/step - loss: -74518744.0000 - binary_accuracy: 0.0232 - val_loss: -8478945.0000 - val_binary_accuracy: 0.0232\n",
      "Epoch 2/20\n",
      "288/288 [==============================] - 7s 23ms/step - loss: -78873664.0000 - binary_accuracy: 0.0232 - val_loss: -8971640.0000 - val_binary_accuracy: 0.0232\n",
      "Epoch 3/20\n",
      "288/288 [==============================] - 7s 23ms/step - loss: -83294472.0000 - binary_accuracy: 0.0232 - val_loss: -9469250.0000 - val_binary_accuracy: 0.0232\n",
      "Epoch 4/20\n",
      "288/288 [==============================] - 7s 23ms/step - loss: -87925408.0000 - binary_accuracy: 0.0232 - val_loss: -9987386.0000 - val_binary_accuracy: 0.0232\n",
      "Epoch 5/20\n",
      "288/288 [==============================] - 7s 23ms/step - loss: -92704592.0000 - binary_accuracy: 0.0232 - val_loss: -10528210.0000 - val_binary_accuracy: 0.0232\n",
      "Epoch 6/20\n",
      "288/288 [==============================] - 7s 23ms/step - loss: -97709496.0000 - binary_accuracy: 0.0232 - val_loss: -11092618.0000 - val_binary_accuracy: 0.0232\n",
      "Epoch 7/20\n",
      "288/288 [==============================] - 7s 23ms/step - loss: -102878528.0000 - binary_accuracy: 0.0232 - val_loss: -11674240.0000 - val_binary_accuracy: 0.0232\n",
      "Epoch 8/20\n",
      "288/288 [==============================] - 7s 23ms/step - loss: -108234992.0000 - binary_accuracy: 0.0232 - val_loss: -12280506.0000 - val_binary_accuracy: 0.0232\n",
      "Epoch 9/20\n",
      "288/288 [==============================] - 7s 25ms/step - loss: -113813776.0000 - binary_accuracy: 0.0232 - val_loss: -12900845.0000 - val_binary_accuracy: 0.0232\n",
      "Epoch 10/20\n",
      "288/288 [==============================] - 7s 23ms/step - loss: -119498656.0000 - binary_accuracy: 0.0232 - val_loss: -13547030.0000 - val_binary_accuracy: 0.0232\n",
      "Epoch 11/20\n",
      "288/288 [==============================] - 7s 24ms/step - loss: -125433744.0000 - binary_accuracy: 0.0232 - val_loss: -14212149.0000 - val_binary_accuracy: 0.0232\n",
      "Epoch 12/20\n",
      "288/288 [==============================] - 7s 24ms/step - loss: -131581200.0000 - binary_accuracy: 0.0232 - val_loss: -14903812.0000 - val_binary_accuracy: 0.0232\n",
      "Epoch 13/20\n",
      "288/288 [==============================] - 7s 23ms/step - loss: -137930656.0000 - binary_accuracy: 0.0232 - val_loss: -15620578.0000 - val_binary_accuracy: 0.0232\n",
      "Epoch 14/20\n",
      "288/288 [==============================] - 7s 24ms/step - loss: -144501408.0000 - binary_accuracy: 0.0232 - val_loss: -16356462.0000 - val_binary_accuracy: 0.0232\n",
      "Epoch 15/20\n",
      "288/288 [==============================] - 7s 25ms/step - loss: -151125008.0000 - binary_accuracy: 0.0232 - val_loss: -17095092.0000 - val_binary_accuracy: 0.0232\n",
      "Epoch 16/20\n",
      "288/288 [==============================] - 7s 25ms/step - loss: -157965568.0000 - binary_accuracy: 0.0232 - val_loss: -17864670.0000 - val_binary_accuracy: 0.0232\n",
      "Epoch 17/20\n",
      "288/288 [==============================] - 7s 23ms/step - loss: -165066128.0000 - binary_accuracy: 0.0232 - val_loss: -18667558.0000 - val_binary_accuracy: 0.0232\n",
      "Epoch 18/20\n",
      "288/288 [==============================] - 7s 23ms/step - loss: -172404736.0000 - binary_accuracy: 0.0232 - val_loss: -19490264.0000 - val_binary_accuracy: 0.0232\n",
      "Epoch 19/20\n",
      "288/288 [==============================] - 7s 23ms/step - loss: -179958656.0000 - binary_accuracy: 0.0232 - val_loss: -20338726.0000 - val_binary_accuracy: 0.0232\n",
      "Epoch 20/20\n",
      "288/288 [==============================] - 7s 24ms/step - loss: -187482400.0000 - binary_accuracy: 0.0232 - val_loss: -21180160.0000 - val_binary_accuracy: 0.0232\n"
     ]
    },
    {
     "data": {
      "text/plain": [
       "<keras.callbacks.History at 0x28df316bb48>"
      ]
     },
     "execution_count": 114,
     "metadata": {},
     "output_type": "execute_result"
    }
   ],
   "source": [
    "model.fit(xTrain_arr, yTrain_arr, validation_data=(x_test_arr, y_test_arr),batch_size=600,epochs=20)"
   ]
  },
  {
   "cell_type": "markdown",
   "metadata": {},
   "source": [
    "### Char 2 gram column vectorization"
   ]
  },
  {
   "cell_type": "code",
   "execution_count": 119,
   "metadata": {},
   "outputs": [
    {
     "ename": "KeyError",
     "evalue": "'char2gram'",
     "output_type": "error",
     "traceback": [
      "\u001b[1;31m---------------------------------------------------------------------------\u001b[0m",
      "\u001b[1;31mKeyError\u001b[0m                                  Traceback (most recent call last)",
      "\u001b[1;32m~\\anaconda3\\lib\\site-packages\\pandas\\core\\indexes\\base.py\u001b[0m in \u001b[0;36mget_loc\u001b[1;34m(self, key, method, tolerance)\u001b[0m\n\u001b[0;32m   3360\u001b[0m             \u001b[1;32mtry\u001b[0m\u001b[1;33m:\u001b[0m\u001b[1;33m\u001b[0m\u001b[1;33m\u001b[0m\u001b[0m\n\u001b[1;32m-> 3361\u001b[1;33m                 \u001b[1;32mreturn\u001b[0m \u001b[0mself\u001b[0m\u001b[1;33m.\u001b[0m\u001b[0m_engine\u001b[0m\u001b[1;33m.\u001b[0m\u001b[0mget_loc\u001b[0m\u001b[1;33m(\u001b[0m\u001b[0mcasted_key\u001b[0m\u001b[1;33m)\u001b[0m\u001b[1;33m\u001b[0m\u001b[1;33m\u001b[0m\u001b[0m\n\u001b[0m\u001b[0;32m   3362\u001b[0m             \u001b[1;32mexcept\u001b[0m \u001b[0mKeyError\u001b[0m \u001b[1;32mas\u001b[0m \u001b[0merr\u001b[0m\u001b[1;33m:\u001b[0m\u001b[1;33m\u001b[0m\u001b[1;33m\u001b[0m\u001b[0m\n",
      "\u001b[1;32m~\\anaconda3\\lib\\site-packages\\pandas\\_libs\\index.pyx\u001b[0m in \u001b[0;36mpandas._libs.index.IndexEngine.get_loc\u001b[1;34m()\u001b[0m\n",
      "\u001b[1;32m~\\anaconda3\\lib\\site-packages\\pandas\\_libs\\index.pyx\u001b[0m in \u001b[0;36mpandas._libs.index.IndexEngine.get_loc\u001b[1;34m()\u001b[0m\n",
      "\u001b[1;32mpandas\\_libs\\hashtable_class_helper.pxi\u001b[0m in \u001b[0;36mpandas._libs.hashtable.PyObjectHashTable.get_item\u001b[1;34m()\u001b[0m\n",
      "\u001b[1;32mpandas\\_libs\\hashtable_class_helper.pxi\u001b[0m in \u001b[0;36mpandas._libs.hashtable.PyObjectHashTable.get_item\u001b[1;34m()\u001b[0m\n",
      "\u001b[1;31mKeyError\u001b[0m: 'char2gram'",
      "\nThe above exception was the direct cause of the following exception:\n",
      "\u001b[1;31mKeyError\u001b[0m                                  Traceback (most recent call last)",
      "\u001b[1;32m<ipython-input-119-4f16f5f52853>\u001b[0m in \u001b[0;36m<module>\u001b[1;34m\u001b[0m\n\u001b[0;32m      5\u001b[0m \u001b[0mchar2gramDF\u001b[0m \u001b[1;33m=\u001b[0m \u001b[0mpd\u001b[0m\u001b[1;33m.\u001b[0m\u001b[0mDataFrame\u001b[0m\u001b[1;33m\u001b[0m\u001b[1;33m\u001b[0m\u001b[0m\n\u001b[0;32m      6\u001b[0m \u001b[0mchar2gramDF\u001b[0m\u001b[1;33m.\u001b[0m\u001b[0mindex\u001b[0m \u001b[1;33m=\u001b[0m \u001b[0mtopNwordsnew\u001b[0m\u001b[1;33m.\u001b[0m\u001b[0mindex\u001b[0m\u001b[1;33m\u001b[0m\u001b[1;33m\u001b[0m\u001b[0m\n\u001b[1;32m----> 7\u001b[1;33m \u001b[0mchar2gramDF\u001b[0m \u001b[1;33m=\u001b[0m \u001b[0mtopNwordsnew\u001b[0m\u001b[1;33m[\u001b[0m\u001b[1;34m'char2gram'\u001b[0m\u001b[1;33m]\u001b[0m\u001b[1;33m[\u001b[0m\u001b[1;33m:\u001b[0m\u001b[1;36m100\u001b[0m\u001b[1;33m]\u001b[0m\u001b[1;33m\u001b[0m\u001b[1;33m\u001b[0m\u001b[0m\n\u001b[0m\u001b[0;32m      8\u001b[0m \u001b[0mprint\u001b[0m\u001b[1;33m(\u001b[0m\u001b[0mchar2gramDF\u001b[0m\u001b[1;33m)\u001b[0m\u001b[1;33m\u001b[0m\u001b[1;33m\u001b[0m\u001b[0m\n",
      "\u001b[1;32m~\\anaconda3\\lib\\site-packages\\pandas\\core\\frame.py\u001b[0m in \u001b[0;36m__getitem__\u001b[1;34m(self, key)\u001b[0m\n\u001b[0;32m   3456\u001b[0m             \u001b[1;32mif\u001b[0m \u001b[0mself\u001b[0m\u001b[1;33m.\u001b[0m\u001b[0mcolumns\u001b[0m\u001b[1;33m.\u001b[0m\u001b[0mnlevels\u001b[0m \u001b[1;33m>\u001b[0m \u001b[1;36m1\u001b[0m\u001b[1;33m:\u001b[0m\u001b[1;33m\u001b[0m\u001b[1;33m\u001b[0m\u001b[0m\n\u001b[0;32m   3457\u001b[0m                 \u001b[1;32mreturn\u001b[0m \u001b[0mself\u001b[0m\u001b[1;33m.\u001b[0m\u001b[0m_getitem_multilevel\u001b[0m\u001b[1;33m(\u001b[0m\u001b[0mkey\u001b[0m\u001b[1;33m)\u001b[0m\u001b[1;33m\u001b[0m\u001b[1;33m\u001b[0m\u001b[0m\n\u001b[1;32m-> 3458\u001b[1;33m             \u001b[0mindexer\u001b[0m \u001b[1;33m=\u001b[0m \u001b[0mself\u001b[0m\u001b[1;33m.\u001b[0m\u001b[0mcolumns\u001b[0m\u001b[1;33m.\u001b[0m\u001b[0mget_loc\u001b[0m\u001b[1;33m(\u001b[0m\u001b[0mkey\u001b[0m\u001b[1;33m)\u001b[0m\u001b[1;33m\u001b[0m\u001b[1;33m\u001b[0m\u001b[0m\n\u001b[0m\u001b[0;32m   3459\u001b[0m             \u001b[1;32mif\u001b[0m \u001b[0mis_integer\u001b[0m\u001b[1;33m(\u001b[0m\u001b[0mindexer\u001b[0m\u001b[1;33m)\u001b[0m\u001b[1;33m:\u001b[0m\u001b[1;33m\u001b[0m\u001b[1;33m\u001b[0m\u001b[0m\n\u001b[0;32m   3460\u001b[0m                 \u001b[0mindexer\u001b[0m \u001b[1;33m=\u001b[0m \u001b[1;33m[\u001b[0m\u001b[0mindexer\u001b[0m\u001b[1;33m]\u001b[0m\u001b[1;33m\u001b[0m\u001b[1;33m\u001b[0m\u001b[0m\n",
      "\u001b[1;32m~\\anaconda3\\lib\\site-packages\\pandas\\core\\indexes\\base.py\u001b[0m in \u001b[0;36mget_loc\u001b[1;34m(self, key, method, tolerance)\u001b[0m\n\u001b[0;32m   3361\u001b[0m                 \u001b[1;32mreturn\u001b[0m \u001b[0mself\u001b[0m\u001b[1;33m.\u001b[0m\u001b[0m_engine\u001b[0m\u001b[1;33m.\u001b[0m\u001b[0mget_loc\u001b[0m\u001b[1;33m(\u001b[0m\u001b[0mcasted_key\u001b[0m\u001b[1;33m)\u001b[0m\u001b[1;33m\u001b[0m\u001b[1;33m\u001b[0m\u001b[0m\n\u001b[0;32m   3362\u001b[0m             \u001b[1;32mexcept\u001b[0m \u001b[0mKeyError\u001b[0m \u001b[1;32mas\u001b[0m \u001b[0merr\u001b[0m\u001b[1;33m:\u001b[0m\u001b[1;33m\u001b[0m\u001b[1;33m\u001b[0m\u001b[0m\n\u001b[1;32m-> 3363\u001b[1;33m                 \u001b[1;32mraise\u001b[0m \u001b[0mKeyError\u001b[0m\u001b[1;33m(\u001b[0m\u001b[0mkey\u001b[0m\u001b[1;33m)\u001b[0m \u001b[1;32mfrom\u001b[0m \u001b[0merr\u001b[0m\u001b[1;33m\u001b[0m\u001b[1;33m\u001b[0m\u001b[0m\n\u001b[0m\u001b[0;32m   3364\u001b[0m \u001b[1;33m\u001b[0m\u001b[0m\n\u001b[0;32m   3365\u001b[0m         \u001b[1;32mif\u001b[0m \u001b[0mis_scalar\u001b[0m\u001b[1;33m(\u001b[0m\u001b[0mkey\u001b[0m\u001b[1;33m)\u001b[0m \u001b[1;32mand\u001b[0m \u001b[0misna\u001b[0m\u001b[1;33m(\u001b[0m\u001b[0mkey\u001b[0m\u001b[1;33m)\u001b[0m \u001b[1;32mand\u001b[0m \u001b[1;32mnot\u001b[0m \u001b[0mself\u001b[0m\u001b[1;33m.\u001b[0m\u001b[0mhasnans\u001b[0m\u001b[1;33m:\u001b[0m\u001b[1;33m\u001b[0m\u001b[1;33m\u001b[0m\u001b[0m\n",
      "\u001b[1;31mKeyError\u001b[0m: 'char2gram'"
     ]
    }
   ],
   "source": [
    "\"\"\"\n",
    "Create a dataframe with just the author names and their respective char 2gram vectors.\n",
    "\"\"\"\n",
    "\n",
    "char2gramDF = pd.DataFrame\n",
    "char2gramDF.index = topNwordsnew.index\n",
    "char2gramDF = topNwordsnew['char2gram'][:100]\n",
    "print(char2gramDF)"
   ]
  },
  {
   "cell_type": "code",
   "execution_count": 120,
   "metadata": {},
   "outputs": [
    {
     "ename": "NameError",
     "evalue": "name 'hashList2gram' is not defined",
     "output_type": "error",
     "traceback": [
      "\u001b[1;31m---------------------------------------------------------------------------\u001b[0m",
      "\u001b[1;31mNameError\u001b[0m                                 Traceback (most recent call last)",
      "\u001b[1;32m<ipython-input-120-3d9e3f0685ce>\u001b[0m in \u001b[0;36m<module>\u001b[1;34m\u001b[0m\n\u001b[0;32m     17\u001b[0m \u001b[1;31m# # ************************************************************\u001b[0m\u001b[1;33m\u001b[0m\u001b[1;33m\u001b[0m\u001b[1;33m\u001b[0m\u001b[0m\n\u001b[0;32m     18\u001b[0m \u001b[1;33m\u001b[0m\u001b[0m\n\u001b[1;32m---> 19\u001b[1;33m \u001b[0mtest_string_new\u001b[0m \u001b[1;33m=\u001b[0m \u001b[0mhashList2gram\u001b[0m\u001b[1;33m\u001b[0m\u001b[1;33m\u001b[0m\u001b[0m\n\u001b[0m\u001b[0;32m     20\u001b[0m \u001b[0mtest_string_new\u001b[0m\u001b[1;33m\u001b[0m\u001b[1;33m\u001b[0m\u001b[0m\n\u001b[0;32m     21\u001b[0m \u001b[1;33m\u001b[0m\u001b[0m\n",
      "\u001b[1;31mNameError\u001b[0m: name 'hashList2gram' is not defined"
     ]
    }
   ],
   "source": [
    "vocSizeListDF = []\n",
    "hashListHighFreq=[]\n",
    "\n",
    "for auth in char2gramDF.index:\n",
    "    for line in char2gramDF.values:\n",
    "         for i in range(0, 20):\n",
    "             for j in range(0, 100):\n",
    "                for word in line:\n",
    "                    seq_words = set(text_to_word_sequence(word))   \n",
    "                    vocab_size = len(seq_words)\n",
    "                    vocSizeListDF.append(vocab_size)\n",
    "\n",
    "                    result = hashing_trick(word, round(vocab_size*2), hash_function='md5')\n",
    "                    hashList2gram.append(result)\n",
    "\n",
    "# # ************************************************************\n",
    "# # ************************************************************\n",
    "\n",
    "test_string_new = hashList2gram\n",
    "test_string_new\n",
    "\n",
    "for elem in test_string_new:\n",
    "    #print(elem)\n",
    "    elem = str(elem)\n",
    "    #print(type(elem))\n",
    "\n",
    "# topNwordsnew['High Freq Words'] = pd.DataFrame([hashListHighFreq])\n",
    "\n",
    "char2gramDF['char2gram'] = pd.DataFrame([hashList2gram])\n"
   ]
  },
  {
   "cell_type": "code",
   "execution_count": null,
   "metadata": {},
   "outputs": [],
   "source": []
  },
  {
   "cell_type": "code",
   "execution_count": null,
   "metadata": {},
   "outputs": [],
   "source": []
  }
 ],
 "metadata": {
  "kernelspec": {
   "display_name": "Python 3",
   "language": "python",
   "name": "python3"
  },
  "language_info": {
   "codemirror_mode": {
    "name": "ipython",
    "version": 3
   },
   "file_extension": ".py",
   "mimetype": "text/x-python",
   "name": "python",
   "nbconvert_exporter": "python",
   "pygments_lexer": "ipython3",
   "version": "3.7.6"
  }
 },
 "nbformat": 4,
 "nbformat_minor": 4
}
